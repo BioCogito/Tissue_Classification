{
 "cells": [
  {
   "cell_type": "markdown",
   "metadata": {},
   "source": [
    "# Creating boxplots to show variation in peptide expression between individual samples of each tissue type "
   ]
  },
  {
   "cell_type": "code",
   "execution_count": 12,
   "metadata": {
    "collapsed": true
   },
   "outputs": [],
   "source": [
    "import Classification_Utils as cu\n",
    "import matplotlib.pyplot as plt\n",
    "import MaxQuant_Postprocessing_Functions as mq\n",
    "import numpy as np\n",
    "from os import listdir\n",
    "import pandas as pd\n",
    "import seaborn as sns\n",
    "from sklearn.externals import joblib"
   ]
  },
  {
   "cell_type": "markdown",
   "metadata": {},
   "source": [
    "## Load and combine data from all tissues"
   ]
  },
  {
   "cell_type": "code",
   "execution_count": 13,
   "metadata": {
    "collapsed": true
   },
   "outputs": [],
   "source": [
    "files_dir = 'F:\\High_Quality_All\\\\'\n",
    "file_paths = listdir(files_dir) \n",
    "\n",
    "df = cu.combine_csvs(files_dir, file_paths)"
   ]
  },
  {
   "cell_type": "code",
   "execution_count": 14,
   "metadata": {
    "scrolled": true
   },
   "outputs": [
    {
     "name": "stdout",
     "output_type": "stream",
     "text": [
      "(154075, 253)\n"
     ]
    }
   ],
   "source": [
    "df.dropna(axis='index', how='all', inplace=True) # drop any rows where all values are missing\n",
    "df = df.drop(['\\n'])\n",
    "df.dropna(axis=0, how='all', inplace=True)\n",
    "\n",
    "print(df.shape)"
   ]
  },
  {
   "cell_type": "markdown",
   "metadata": {},
   "source": [
    "## Clean data\n",
    "* Log2 transform\n",
    "* Impute missing values\n",
    "* Mean/Median normalize"
   ]
  },
  {
   "cell_type": "code",
   "execution_count": 15,
   "metadata": {},
   "outputs": [
    {
     "name": "stderr",
     "output_type": "stream",
     "text": [
      "C:\\Users\\kush494\\Documents\\Proteomics_Data_Processing\\MaxQuant_Postprocessing_Functions.py:150: RuntimeWarning: divide by zero encountered in log2\n",
      "  df.iloc[:,:] = np.log2(df.iloc[:,:])\n"
     ]
    }
   ],
   "source": [
    "mq.log2_normalize(df)\n",
    "\n",
    "df_min = df.min().min()\n",
    "impute_val = df_min/2\n",
    "df = df.fillna(impute_val)\n",
    "\n",
    "mq.median_normalize(df)"
   ]
  },
  {
   "cell_type": "markdown",
   "metadata": {},
   "source": [
    "## Map each column to a corresponding label"
   ]
  },
  {
   "cell_type": "code",
   "execution_count": 16,
   "metadata": {
    "collapsed": true
   },
   "outputs": [],
   "source": [
    "tissues = ['Blood_Plasma', 'Blood_Serum', 'CSF', 'Liver', 'Monocyte', 'Ovary', 'Pancreas', 'Substantia_Nigra', 'Temporal_Lobe']\n",
    " \n",
    "tissues_to_columns = cu.map_tissues_to_columns(df, tissues)"
   ]
  },
  {
   "cell_type": "markdown",
   "metadata": {},
   "source": [
    "## Make filtered dataframes"
   ]
  },
  {
   "cell_type": "code",
   "execution_count": 17,
   "metadata": {
    "collapsed": true
   },
   "outputs": [],
   "source": [
    "### Filter out peptides not meeting condition:\n",
    "# At least X tissues must express peptide in Y samples\n",
    "\n",
    "def filter_peptides_by_samples_and_tissues(df, min_samples, min_tissues, max_tissues, tissues):\n",
    "    df_cols = df.columns.values.tolist()\n",
    "    organ_counts = {}\n",
    "    \n",
    "    for tissue in tissues:\n",
    "        cols = [col for col in df_cols if col.startswith(tissue)] # Get corresponding list of column names\n",
    "        organ_counts[tissue] = (df[cols] != impute_val).sum(1) # count number of samples with non-imputed abundance for each protein\n",
    "\n",
    "    tallys = 1 * (organ_counts['CSF'] >= min_samples) + 1 * (organ_counts['Blood_Plasma'] >= min_samples) + 1 * (organ_counts['Blood_Serum'] >= min_samples) + 1 * (organ_counts['Liver'] >= min_samples) + 1 * (organ_counts['Pancreas'] >= min_samples) + 1 * (organ_counts['Monocyte'] >= min_samples) + 1 * (organ_counts['Ovary'] >= min_samples) + 1 * (organ_counts['Temporal_Lobe'] >= min_samples) + 1 * (organ_counts['Substantia_Nigra'] >= min_samples) \n",
    "\n",
    "    new_df = df[(tallys >= min_tissues) & (tallys <= max_tissues)]\n",
    "    return new_df"
   ]
  },
  {
   "cell_type": "code",
   "execution_count": 18,
   "metadata": {},
   "outputs": [
    {
     "name": "stdout",
     "output_type": "stream",
     "text": [
      "(154075, 253)\n",
      "(55676, 253)\n"
     ]
    }
   ],
   "source": [
    "print(df.shape)\n",
    "df = filter_peptides_by_samples_and_tissues(df, min_samples=5, min_tissues=1, max_tissues=9, tissues=tissues)\n",
    "print(df.shape)"
   ]
  },
  {
   "cell_type": "code",
   "execution_count": 19,
   "metadata": {
    "collapsed": true
   },
   "outputs": [],
   "source": [
    "### Filter out peptides where less than [threshold] samples per tissue have non-imputed values\n",
    "\n",
    "df_cols = df.columns.values.tolist()\n",
    "organ_counts = {}\n",
    "threshold = 5\n",
    "    \n",
    "for tissue in tissues:\n",
    "    cols = [col for col in df_cols if col.startswith(tissue)] # Get corresponding list of column names\n",
    "    organ_counts[tissue] = (df[cols] != impute_val).sum(1) # count number of samples with non-imputed abundance for each protein\n",
    "    \n",
    "conditions = list(organ_counts[t] >= threshold for t in tissues)\n",
    "filtered_df = df[np.logical_and.reduce(conditions)]"
   ]
  },
  {
   "cell_type": "code",
   "execution_count": 21,
   "metadata": {},
   "outputs": [
    {
     "name": "stdout",
     "output_type": "stream",
     "text": [
      "(55676, 253)\n",
      "(2843, 253)\n"
     ]
    }
   ],
   "source": [
    "print(df.shape)\n",
    "\n",
    "filtered_df2 = filter_peptides_by_samples_and_tissues(df, 5, 4, 6, tissues)\n",
    "print(filtered_df2.shape)"
   ]
  },
  {
   "cell_type": "code",
   "execution_count": 43,
   "metadata": {},
   "outputs": [
    {
     "name": "stdout",
     "output_type": "stream",
     "text": [
      "(55676, 253)\n",
      "(23359, 253)\n",
      "41.95524103743085\n"
     ]
    }
   ],
   "source": [
    "print(df.shape)\n",
    "\n",
    "single_tissue_observations_df = filter_peptides_by_samples_and_tissues(df, 1, 1, 1, tissues)\n",
    "print(single_tissue_observations_df.shape)\n",
    "print(single_tissue_observations_df.shape[0]/df.shape[0] *100)"
   ]
  },
  {
   "cell_type": "code",
   "execution_count": 49,
   "metadata": {
    "collapsed": true
   },
   "outputs": [],
   "source": [
    "import scipy.stats as stats\n",
    "\n",
    "def filter_peptides_by_anova(df, tissues, tissue_to_columns, pval=0.5):\n",
    "    # Build list of proteins that pass ANOVA\n",
    "    pass_anova = []\n",
    "    peptides = list(df.index)\n",
    "    \n",
    "    list_of_column_lists = [] # [['01_Lung', '02_Lung'], ['01_Heart', '02_Heart']]\n",
    "    for tissue in tissues:\n",
    "        cols = tissue_to_columns[tissue] # List of strings\n",
    "        list_of_column_lists.append(cols) # List of lists of strings\n",
    "        \n",
    "    sub_frames = list(df[subset] for subset in list_of_column_lists) # List of dataframes\n",
    "    \n",
    "    # Perform ANOVA on each row (peptide) grouping by organ\n",
    "    # If the protein passes ANOVA (p-value <= pval), add it to the list of peptides to keep\n",
    "    for i in range(df.shape[0]): \n",
    "        row_groups = list(frame.iloc[i, :] for frame in sub_frames)\n",
    "        f, p = stats.f_oneway(*row_groups)\n",
    "        if p <= pval:\n",
    "            pass_anova.append(peptides[i])\n",
    "\n",
    "    # Filter dataframe down to only include proteins in pass_anova\n",
    "    pass_anova_df = df[df.index.isin(pass_anova)]\n",
    "    return pass_anova_df"
   ]
  },
  {
   "cell_type": "code",
   "execution_count": 50,
   "metadata": {},
   "outputs": [
    {
     "name": "stdout",
     "output_type": "stream",
     "text": [
      "(55676, 253)\n",
      "(55676, 253)\n",
      "100.0\n"
     ]
    }
   ],
   "source": [
    "pass_anova_df = filter_peptides_by_anova(df, tissues, tissues_to_columns)\n",
    "\n",
    "print(df.shape)\n",
    "print(pass_anova_df.shape)\n",
    "\n",
    "print(pass_anova_df.shape[0]/df.shape[0] * 100)"
   ]
  },
  {
   "cell_type": "code",
   "execution_count": 23,
   "metadata": {
    "collapsed": true
   },
   "outputs": [],
   "source": [
    "column_names = df.columns.values.tolist()\n",
    "labels = cu.get_labels(column_names, tissues_to_columns)\n",
    "\n",
    "filtered_column_names = filtered_df.columns.values.tolist()\n",
    "filtered_labels = cu.get_labels(filtered_column_names, tissues_to_columns)\n",
    "\n",
    "filtered_column_names2 = filtered_df2.columns.values.tolist()\n",
    "filtered_labels2 = cu.get_labels(filtered_column_names2, tissues_to_columns)"
   ]
  },
  {
   "cell_type": "markdown",
   "metadata": {},
   "source": [
    "## Identify and isolate most and least highly variable peptides between tissues"
   ]
  },
  {
   "cell_type": "code",
   "execution_count": 24,
   "metadata": {
    "collapsed": true
   },
   "outputs": [],
   "source": [
    "liver_only_peptide_df = cu.keep_k_best_features(df, labels, 1)\n",
    "high_variance_peptide_df = cu.keep_k_best_features(filtered_df, filtered_labels, 1)\n",
    "\n",
    "all_but_least_variable_peptide = cu.keep_k_best_features(filtered_df,\n",
    "                                                         filtered_labels, \n",
    "                                                         filtered_df.shape[0] - 2).index.values.tolist()\n",
    "\n",
    "least_variable_peptides = list(set(filtered_df.index.values.tolist()) - set(all_but_least_variable_peptide))\n",
    "least_variable_peptides_df = filtered_df.loc[least_variable_peptides, :]\n",
    "low_variance_peptide_df = least_variable_peptides_df.drop(least_variable_peptides_df.index[1])\n",
    "\n",
    "high_var_present_in_some_df = cu.keep_k_best_features(filtered_df2, filtered_labels, 1)"
   ]
  },
  {
   "cell_type": "code",
   "execution_count": 25,
   "metadata": {
    "collapsed": true
   },
   "outputs": [],
   "source": [
    "peptide_dfs = [liver_only_peptide_df,\n",
    "               high_var_present_in_some_df,\n",
    "               least_variable_peptides_df,\n",
    "               high_variance_peptide_df]"
   ]
  },
  {
   "cell_type": "code",
   "execution_count": 26,
   "metadata": {},
   "outputs": [
    {
     "data": {
      "text/plain": [
       "['K.VLILGSGGLSIGQAGEFDYSGSQAVK.A',\n",
       " 'R.LVAGEMGQNEPDQGGQR.G',\n",
       " 'G.DQTVSDNELQEMSNQGSK.Y',\n",
       " 'K.TYFPHFDLSHGSAQVK.G']"
      ]
     },
     "execution_count": 26,
     "metadata": {},
     "output_type": "execute_result"
    }
   ],
   "source": [
    "peptides = liver_only_peptide_df.index.values.tolist() + high_var_present_in_some_df.index.values.tolist() + low_variance_peptide_df.index.values.tolist() + high_variance_peptide_df.index.values.tolist()\n",
    "\n",
    "peptides = [p.strip('\\n') for p in peptides]\n",
    "peptides"
   ]
  },
  {
   "cell_type": "markdown",
   "metadata": {},
   "source": [
    "## For each peptide, gather abundances per sample/tissue"
   ]
  },
  {
   "cell_type": "code",
   "execution_count": 27,
   "metadata": {
    "collapsed": true
   },
   "outputs": [],
   "source": [
    "def get_summarized_df(df):\n",
    "\n",
    "    data = {}\n",
    "    \n",
    "    for tissue in tissues:\n",
    "        cols_to_drop = [col for col in df.columns if not col.startswith(tissue)]\n",
    "        tissue_df = df.drop(cols_to_drop, axis=1).T\n",
    "        tissue_df.rename(columns={tissue_df.columns[0]: tissue}, inplace=True)\n",
    "        data[tissue] = tissue_df[tissue_df.columns[0]].tolist()\n",
    "\n",
    "    combined_df = pd.DataFrame(dict([ (k,pd.Series(v)) for k,v in data.items() ]))\n",
    "    return combined_df"
   ]
  },
  {
   "cell_type": "code",
   "execution_count": 28,
   "metadata": {
    "collapsed": true
   },
   "outputs": [],
   "source": [
    "summarized_dfs = [get_summarized_df(df) for df in peptide_dfs]"
   ]
  },
  {
   "cell_type": "markdown",
   "metadata": {},
   "source": [
    "## Make Boxplots"
   ]
  },
  {
   "cell_type": "code",
   "execution_count": 29,
   "metadata": {
    "collapsed": true
   },
   "outputs": [],
   "source": [
    "color_dict = {} # Column name : color\n",
    "num_colors = 9\n",
    "colors = sns.color_palette('hls', num_colors)\n",
    "color = 0\n",
    "\n",
    "for col in summarized_dfs[0].columns.values:\n",
    "    color_dict[col] = colors[color]\n",
    "    color += 1"
   ]
  },
  {
   "cell_type": "markdown",
   "metadata": {},
   "source": [
    "### Make individual boxplots for each peptide"
   ]
  },
  {
   "cell_type": "code",
   "execution_count": 33,
   "metadata": {
    "collapsed": true
   },
   "outputs": [],
   "source": [
    "image_dir = r'D:\\images\\Human_Tissues\\\\'"
   ]
  },
  {
   "cell_type": "code",
   "execution_count": 969,
   "metadata": {},
   "outputs": [
    {
     "name": "stderr",
     "output_type": "stream",
     "text": [
      "C:\\Users\\kush494\\AppData\\Local\\Continuum\\anaconda3\\lib\\site-packages\\matplotlib\\pyplot.py:523: RuntimeWarning: More than 20 figures have been opened. Figures created through the pyplot interface (`matplotlib.pyplot.figure`) are retained until explicitly closed and may consume too much memory. (To control this warning, see the rcParam `figure.max_open_warning`).\n",
      "  max_open_warning, RuntimeWarning)\n"
     ]
    }
   ],
   "source": [
    "titles = ['Liver_Only', 'Low_Variance', 'High_Variance', '2nd_High_Variance']\n",
    "\n",
    "for summarized_df, title in zip(summarized_dfs, titles):\n",
    "    \n",
    "    summarized_df = summarized_df.replace(impute_val, np.nan) ### Exclude imputed values\n",
    "    \n",
    "    fig, ax = plt.subplots(figsize = (10, 6))\n",
    "    ax.set_xticklabels(ax.get_xticklabels(), rotation = 90)\n",
    "    sns.boxplot(data = summarized_df, palette = color_dict, ax = ax, linewidth=0.5)\n",
    "    output_path = image_dir + title + '.pdf'\n",
    "\n",
    "    plt.savefig(output_path, bbox_inches = \"tight\")\n",
    "    plt.clf()"
   ]
  },
  {
   "cell_type": "markdown",
   "metadata": {},
   "source": [
    "### Make combined boxplot showing all 4 peptides"
   ]
  },
  {
   "cell_type": "code",
   "execution_count": 31,
   "metadata": {
    "collapsed": true
   },
   "outputs": [],
   "source": [
    "### Group by tissue\n",
    "\n",
    "stacked_dfs = []\n",
    "\n",
    "for summarized_df, peptide in zip(summarized_dfs, peptides):\n",
    "    stacked_df = summarized_df.stack()\n",
    "    stacked_df = stacked_df.reset_index().drop('level_0', axis=1)\n",
    "    stacked_df.rename(columns={'level_1': 'Tissue', 0: 'Abundance'}, inplace=True)\n",
    "    stacked_df = stacked_df.assign(Peptide=peptide)\n",
    "    \n",
    "    stacked_dfs.append(stacked_df)\n",
    "    \n",
    "combined_df = pd.concat([df for df in stacked_dfs])          # CONCATENATE\n",
    "combined_df = combined_df.replace(impute_val, np.nan) # Exclude imputed values"
   ]
  },
  {
   "cell_type": "code",
   "execution_count": 970,
   "metadata": {
    "scrolled": true
   },
   "outputs": [
    {
     "name": "stderr",
     "output_type": "stream",
     "text": [
      "C:\\Users\\kush494\\AppData\\Local\\Continuum\\anaconda3\\lib\\site-packages\\matplotlib\\pyplot.py:523: RuntimeWarning: More than 20 figures have been opened. Figures created through the pyplot interface (`matplotlib.pyplot.figure`) are retained until explicitly closed and may consume too much memory. (To control this warning, see the rcParam `figure.max_open_warning`).\n",
      "  max_open_warning, RuntimeWarning)\n"
     ]
    }
   ],
   "source": [
    "plot_title = 'Variable Peptide Expression'\n",
    "    \n",
    "fig, ax = plt.subplots(figsize = (10, 6))\n",
    "ax.set_xticklabels(ax.get_xticklabels(), rotation = 90)\n",
    "sns.boxplot(hue=\"Peptide\", \n",
    "            x='Tissue', \n",
    "            y='Abundance', \n",
    "            data=combined_df, palette='hls', ax=ax, linewidth=0.5)\n",
    "\n",
    "output_path = image_dir + plot_title + '.pdf'    \n",
    "plt.savefig(output_path, bbox_inches = \"tight\")\n",
    "plt.clf()"
   ]
  },
  {
   "cell_type": "code",
   "execution_count": 34,
   "metadata": {},
   "outputs": [],
   "source": [
    "##### Figure XX1\n",
    "\n",
    "### Group by peptide\n",
    "\n",
    "fig, ax = plt.subplots(figsize = (12, 7))\n",
    "flierprops = dict(markersize=2) # define outlier properties\n",
    "\n",
    "sns.boxplot(hue=\"Tissue\", \n",
    "            x='Peptide', \n",
    "            y='Abundance', \n",
    "            data=combined_df, palette='hls', ax=ax, linewidth=0.5, flierprops=flierprops)\n",
    "\n",
    "plt.rcParams[\"font.family\"] = \"Arial\"\n",
    "plt.legend(loc=0)\n",
    "plt.xticks(fontsize=8),\n",
    "\n",
    "output_path = image_dir + '_Grouped_By_Peptide' + '.pdf'    \n",
    "plt.savefig(output_path, bbox_inches = \"tight\") \n",
    "plt.clf()"
   ]
  }
 ],
 "metadata": {
  "kernelspec": {
   "display_name": "Python 3",
   "language": "python",
   "name": "python3"
  },
  "language_info": {
   "codemirror_mode": {
    "name": "ipython",
    "version": 3
   },
   "file_extension": ".py",
   "mimetype": "text/x-python",
   "name": "python",
   "nbconvert_exporter": "python",
   "pygments_lexer": "ipython3",
   "version": "3.6.3"
  },
  "toc": {
   "nav_menu": {},
   "number_sections": true,
   "sideBar": true,
   "skip_h1_title": true,
   "toc_cell": false,
   "toc_position": {},
   "toc_section_display": "block",
   "toc_window_display": false
  }
 },
 "nbformat": 4,
 "nbformat_minor": 2
}
