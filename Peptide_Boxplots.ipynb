{
 "cells": [
  {
   "cell_type": "markdown",
   "metadata": {},
   "source": [
    "# Creating boxplots to show variation in peptide expression between individual samples of each tissue type "
   ]
  },
  {
   "cell_type": "code",
   "execution_count": 73,
   "metadata": {
    "collapsed": true
   },
   "outputs": [],
   "source": [
    "import Classification_Utils as cu\n",
    "import matplotlib.pyplot as plt\n",
    "import numpy as np\n",
    "from os import listdir\n",
    "import pandas as pd\n",
    "import seaborn as sns\n",
    "from sklearn.externals import joblib"
   ]
  },
  {
   "cell_type": "markdown",
   "metadata": {},
   "source": [
    "## Load Dataframe"
   ]
  },
  {
   "cell_type": "code",
   "execution_count": 74,
   "metadata": {},
   "outputs": [
    {
     "name": "stdout",
     "output_type": "stream",
     "text": [
      "(55676, 253)\n"
     ]
    }
   ],
   "source": [
    "df = pd.read_csv('FullPeptideQuant.txt', sep='\\t', index_col='Peptide')\n",
    "print(df.shape)"
   ]
  },
  {
   "cell_type": "markdown",
   "metadata": {},
   "source": [
    "## Map each column to a corresponding label"
   ]
  },
  {
   "cell_type": "code",
   "execution_count": 75,
   "metadata": {
    "collapsed": true
   },
   "outputs": [],
   "source": [
    "tissues = ['Blood_Plasma', 'Blood_Serum', 'CSF', 'Liver', 'Monocyte', 'Ovary', 'Pancreas', 'Substantia_Nigra', 'Temporal_Lobe']\n",
    " \n",
    "tissues_to_columns = cu.map_tissues_to_columns(df, tissues)\n",
    "impute_val = df.mode().iloc[0, 0]"
   ]
  },
  {
   "cell_type": "markdown",
   "metadata": {},
   "source": [
    "## Make filtered dataframes"
   ]
  },
  {
   "cell_type": "markdown",
   "metadata": {},
   "source": [
    "### filtered_df: keep only peptides observed in at least 5 samples of each tissue"
   ]
  },
  {
   "cell_type": "code",
   "execution_count": 76,
   "metadata": {
    "collapsed": true
   },
   "outputs": [],
   "source": [
    "### Filter out peptides where less than [threshold] samples per tissue have non-imputed values\n",
    "\n",
    "df_cols = df.columns.values.tolist()\n",
    "organ_counts = {}\n",
    "threshold = 5\n",
    "    \n",
    "for tissue in tissues:\n",
    "    cols = [col for col in df_cols if col.startswith(tissue)] # Get corresponding list of column names\n",
    "    organ_counts[tissue] = (df[cols] != impute_val).sum(1) # count number of samples with non-imputed abundance for each protein\n",
    "    \n",
    "conditions = list(organ_counts[t] >= threshold for t in tissues)\n",
    "filtered_df = df[np.logical_and.reduce(conditions)]"
   ]
  },
  {
   "cell_type": "code",
   "execution_count": 77,
   "metadata": {},
   "outputs": [
    {
     "data": {
      "text/plain": [
       "(9, 253)"
      ]
     },
     "execution_count": 77,
     "metadata": {},
     "output_type": "execute_result"
    }
   ],
   "source": [
    "filtered_df.shape"
   ]
  },
  {
   "cell_type": "markdown",
   "metadata": {},
   "source": [
    "### filtered_df2: keep only peptides observed in at least 5 samples of 4 to 6 different tissues"
   ]
  },
  {
   "cell_type": "code",
   "execution_count": 78,
   "metadata": {},
   "outputs": [
    {
     "name": "stdout",
     "output_type": "stream",
     "text": [
      "(55676, 253)\n",
      "(2843, 253)\n"
     ]
    }
   ],
   "source": [
    "print(df.shape)\n",
    "\n",
    "### Peptides observed in at least 5 samples of 4-6 tissues\n",
    "filtered_df2 = cu.filter_peptides_by_samples_and_tissues(df, 5, 4, 6, tissues, impute_val)\n",
    "\n",
    "print(filtered_df2.shape)"
   ]
  },
  {
   "cell_type": "markdown",
   "metadata": {},
   "source": [
    "### single_tissue_observations_df: peptides only observed in a single tissue (in at least one sample)"
   ]
  },
  {
   "cell_type": "code",
   "execution_count": 79,
   "metadata": {},
   "outputs": [
    {
     "name": "stdout",
     "output_type": "stream",
     "text": [
      "(55676, 253)\n",
      "(23359, 253)\n",
      "41.95524103743085\n"
     ]
    }
   ],
   "source": [
    "print(df.shape)\n",
    "\n",
    "### Peptides only observed in one of the tissues\n",
    "single_tissue_observations_df = cu.filter_peptides_by_samples_and_tissues(df, 1, 1, 1, tissues, impute_val)\n",
    "\n",
    "print(single_tissue_observations_df.shape)\n",
    "print(single_tissue_observations_df.shape[0]/df.shape[0] *100)"
   ]
  },
  {
   "cell_type": "code",
   "execution_count": 80,
   "metadata": {
    "collapsed": true
   },
   "outputs": [],
   "source": [
    "column_names = df.columns.values.tolist()\n",
    "labels = cu.get_labels(column_names, tissues_to_columns)\n",
    "\n",
    "filtered_column_names = filtered_df.columns.values.tolist()\n",
    "filtered_labels = cu.get_labels(filtered_column_names, tissues_to_columns)\n",
    "\n",
    "filtered_column_names2 = filtered_df2.columns.values.tolist()\n",
    "filtered_labels2 = cu.get_labels(filtered_column_names2, tissues_to_columns)"
   ]
  },
  {
   "cell_type": "markdown",
   "metadata": {},
   "source": [
    "### filtered_df3: peptides observed in at least one sample of all 9 tissues"
   ]
  },
  {
   "cell_type": "code",
   "execution_count": 81,
   "metadata": {},
   "outputs": [
    {
     "name": "stdout",
     "output_type": "stream",
     "text": [
      "(55676, 253)\n",
      "(48, 253)\n",
      "0.08621309002083483\n"
     ]
    }
   ],
   "source": [
    "print(df.shape)\n",
    "\n",
    "### Peptides observed in all tissues\n",
    "filtered_df3 = cu.filter_peptides_by_samples_and_tissues(df, 1, 9, 9, tissues, impute_val)\n",
    "\n",
    "print(filtered_df3.shape)\n",
    "print(filtered_df3.shape[0]/df.shape[0] *100)"
   ]
  },
  {
   "cell_type": "markdown",
   "metadata": {},
   "source": [
    "### filtered_df4: peptides observed in at least 5 samples of all 9 tissues"
   ]
  },
  {
   "cell_type": "code",
   "execution_count": 82,
   "metadata": {},
   "outputs": [
    {
     "name": "stdout",
     "output_type": "stream",
     "text": [
      "(55676, 253)\n",
      "(9, 253)\n",
      "0.01616495437890653\n"
     ]
    }
   ],
   "source": [
    "print(df.shape)\n",
    "\n",
    "### Peptides observed in all tissues\n",
    "filtered_df4 = cu.filter_peptides_by_samples_and_tissues(df, 5, 9, 9, tissues, impute_val)\n",
    "\n",
    "print(filtered_df4.shape)\n",
    "print(filtered_df4.shape[0]/df.shape[0] *100)"
   ]
  },
  {
   "cell_type": "markdown",
   "metadata": {},
   "source": [
    "### Anova - how many peptides have significant difference in at least 1 tissue"
   ]
  },
  {
   "cell_type": "code",
   "execution_count": 83,
   "metadata": {
    "collapsed": true
   },
   "outputs": [],
   "source": [
    "import scipy.stats as stats\n",
    "from statsmodels.sandbox.stats.multicomp import multipletests\n",
    "\n",
    "def filter_peptides_by_anova(df, tissues, tissue_to_columns, pval=0.05):\n",
    "    # Build list of peptides that pass ANOVA\n",
    "    pass_anova = []\n",
    "    ps=[]\n",
    "    \n",
    "    peptides = list(df.index)\n",
    "    \n",
    "    list_of_column_lists = [] # [['Liver_01', 'Liver_02'], ['CSF_01', 'CSF_02']]\n",
    "    for tissue in tissues:\n",
    "        cols = tissue_to_columns[tissue] # List of strings\n",
    "        list_of_column_lists.append(cols) # List of lists of strings\n",
    "        \n",
    "    sub_frames = list(df[subset] for subset in list_of_column_lists) # List of dataframes\n",
    "    \n",
    "    # Perform ANOVA on each row (peptide) grouping by tissue, and adjust all p-values for multiple testing\n",
    "    # If the peptide passes ANOVA, add it to the list of peptides to keep\n",
    "    for i in range(df.shape[0]): \n",
    "        row_groups = [frame.iloc[i, :] for frame in sub_frames]\n",
    "        f, p = stats.f_oneway(*row_groups)\n",
    "        ps.append(p)\n",
    "\n",
    "    adjusted_ps = multipletests(ps, method='bonferroni')[1]\n",
    "    #adjusted_ps = multipletests(ps, method='fdr_bh')[1]\n",
    "    \n",
    "    for i in range(5):\n",
    "        print('Original:', ps[i], 'Adjusted:', adjusted_ps[i])\n",
    "        \n",
    "    # Filter dataframe down to only include proteins in pass_anova\n",
    "    for i in range(len(adjusted_ps)):\n",
    "        if adjusted_ps[i] < pval:\n",
    "            pass_anova.append(peptides[i])\n",
    "        \n",
    "    pass_anova_df = df[df.index.isin(pass_anova)]\n",
    "\n",
    "    return pass_anova_df"
   ]
  },
  {
   "cell_type": "code",
   "execution_count": 84,
   "metadata": {},
   "outputs": [
    {
     "name": "stdout",
     "output_type": "stream",
     "text": [
      "Original: 5.9929877582e-23 Adjusted: 3.33665586425e-18\n",
      "Original: 5.25203803953e-25 Adjusted: 2.92412469889e-20\n",
      "Original: 2.20886779362e-18 Adjusted: 1.22980923277e-13\n",
      "Original: 2.46824874841e-12 Adjusted: 1.37422217316e-07\n",
      "Original: 2.31391445493e-15 Adjusted: 1.28829501193e-10\n",
      "(55676, 253)\n",
      "(48163, 253)\n",
      "Percent passing Anova: 86.50585530569724\n"
     ]
    }
   ],
   "source": [
    "pass_anova_df = filter_peptides_by_anova(df, tissues, tissues_to_columns)\n",
    "\n",
    "print(df.shape)\n",
    "print(pass_anova_df.shape)\n",
    "\n",
    "print('Percent passing Anova:', pass_anova_df.shape[0]/df.shape[0] * 100)"
   ]
  },
  {
   "cell_type": "markdown",
   "metadata": {},
   "source": [
    "## Identify and isolate most and least highly variable peptides between tissues"
   ]
  },
  {
   "cell_type": "code",
   "execution_count": 85,
   "metadata": {
    "collapsed": true
   },
   "outputs": [],
   "source": [
    "liver_only_peptide_df = cu.keep_k_best_features(df, labels, 1)\n",
    "high_variance_peptide_df = cu.keep_k_best_features(filtered_df, filtered_labels, 1)\n",
    "\n",
    "all_but_least_variable_peptide = cu.keep_k_best_features(filtered_df,\n",
    "                                                         filtered_labels, \n",
    "                                                         filtered_df.shape[0] - 2).index.values.tolist()\n",
    "\n",
    "least_variable_peptides = list(set(filtered_df.index.values.tolist()) - set(all_but_least_variable_peptide))\n",
    "least_variable_peptides_df = filtered_df.loc[least_variable_peptides, :]\n",
    "low_variance_peptide_df = least_variable_peptides_df.drop(least_variable_peptides_df.index[1])\n",
    "\n",
    "high_var_present_in_some_df = cu.keep_k_best_features(filtered_df2, filtered_labels, 1)"
   ]
  },
  {
   "cell_type": "code",
   "execution_count": 86,
   "metadata": {
    "collapsed": true
   },
   "outputs": [],
   "source": [
    "peptide_dfs = [liver_only_peptide_df,\n",
    "               high_var_present_in_some_df,\n",
    "               least_variable_peptides_df,\n",
    "               high_variance_peptide_df]"
   ]
  },
  {
   "cell_type": "code",
   "execution_count": 87,
   "metadata": {},
   "outputs": [
    {
     "data": {
      "text/plain": [
       "['K.VLILGSGGLSIGQAGEFDYSGSQAVK.A',\n",
       " 'R.LVAGEMGQNEPDQGGQR.G',\n",
       " 'G.DQTVSDNELQEMSNQGSK.Y',\n",
       " 'K.TYFPHFDLSHGSAQVK.G']"
      ]
     },
     "execution_count": 87,
     "metadata": {},
     "output_type": "execute_result"
    }
   ],
   "source": [
    "peptides = liver_only_peptide_df.index.values.tolist() + high_var_present_in_some_df.index.values.tolist() + low_variance_peptide_df.index.values.tolist() + high_variance_peptide_df.index.values.tolist()\n",
    "\n",
    "peptides = [p.strip('\\n') for p in peptides]\n",
    "peptides"
   ]
  },
  {
   "cell_type": "markdown",
   "metadata": {},
   "source": [
    "## For each peptide, gather abundances per sample/tissue"
   ]
  },
  {
   "cell_type": "code",
   "execution_count": 88,
   "metadata": {
    "collapsed": true
   },
   "outputs": [],
   "source": [
    "def get_summarized_df(df):\n",
    "\n",
    "    data = {}\n",
    "    \n",
    "    for tissue in tissues:\n",
    "        cols_to_drop = [col for col in df.columns if not col.startswith(tissue)]\n",
    "        tissue_df = df.drop(cols_to_drop, axis=1).T\n",
    "        tissue_df.rename(columns={tissue_df.columns[0]: tissue}, inplace=True)\n",
    "        data[tissue] = tissue_df[tissue_df.columns[0]].tolist()\n",
    "\n",
    "    combined_df = pd.DataFrame(dict([ (k,pd.Series(v)) for k,v in data.items() ]))\n",
    "    return combined_df"
   ]
  },
  {
   "cell_type": "code",
   "execution_count": 89,
   "metadata": {
    "collapsed": true
   },
   "outputs": [],
   "source": [
    "summarized_dfs = [get_summarized_df(df) for df in peptide_dfs]"
   ]
  },
  {
   "cell_type": "markdown",
   "metadata": {},
   "source": [
    "## Make Boxplots"
   ]
  },
  {
   "cell_type": "code",
   "execution_count": 90,
   "metadata": {
    "collapsed": true
   },
   "outputs": [],
   "source": [
    "color_dict = {} # Column name : color\n",
    "num_colors = len(tissues)\n",
    "colors = sns.color_palette('hls', num_colors)\n",
    "color = 0\n",
    "\n",
    "for col in summarized_dfs[0].columns.values:\n",
    "    color_dict[col] = colors[color]\n",
    "    color += 1"
   ]
  },
  {
   "cell_type": "markdown",
   "metadata": {},
   "source": [
    "### Make individual boxplots for each peptide"
   ]
  },
  {
   "cell_type": "code",
   "execution_count": 91,
   "metadata": {
    "collapsed": true
   },
   "outputs": [],
   "source": [
    "image_dir = r'D:\\images\\Human_Tissues\\\\'"
   ]
  },
  {
   "cell_type": "code",
   "execution_count": 92,
   "metadata": {
    "collapsed": true
   },
   "outputs": [],
   "source": [
    "titles = ['Liver_Only', 'Low_Variance', 'High_Variance', '2nd_High_Variance']\n",
    "\n",
    "for summarized_df, title in zip(summarized_dfs, titles):\n",
    "    \n",
    "    summarized_df = summarized_df.replace(impute_val, np.nan) ### Exclude imputed values\n",
    "    \n",
    "    fig, ax = plt.subplots(figsize = (10, 6))\n",
    "    ax.set_xticklabels(ax.get_xticklabels(), rotation = 90)\n",
    "    sns.boxplot(data = summarized_df, palette = color_dict, ax = ax, linewidth=0.5)\n",
    "    output_path = image_dir + title + '.pdf'\n",
    "\n",
    "    plt.savefig(output_path, bbox_inches = \"tight\")\n",
    "    plt.clf()"
   ]
  },
  {
   "cell_type": "markdown",
   "metadata": {},
   "source": [
    "### Make combined boxplot showing all 4 peptides (Figure XX1)"
   ]
  },
  {
   "cell_type": "code",
   "execution_count": 93,
   "metadata": {
    "collapsed": true
   },
   "outputs": [],
   "source": [
    "### Group by tissue\n",
    "\n",
    "stacked_dfs = []\n",
    "\n",
    "for summarized_df, peptide in zip(summarized_dfs, peptides):\n",
    "    # Remove underscores for cleaner legend before re-arranging dataframe\n",
    "    summarized_df.columns = [col.replace('_', ' ') for col in summarized_df.columns.values]\n",
    "    stacked_df = summarized_df.stack()\n",
    "    \n",
    "    stacked_df = stacked_df.reset_index().drop('level_0', axis=1)\n",
    "    stacked_df.rename(columns={'level_1': 'Tissue', 0: 'Abundance'}, inplace=True)\n",
    "    stacked_df = stacked_df.assign(Peptide=peptide)\n",
    "    \n",
    "    stacked_dfs.append(stacked_df)\n",
    "    \n",
    "combined_df = pd.concat([df for df in stacked_dfs])          # CONCATENATE\n",
    "combined_df = combined_df.replace(impute_val, np.nan) # Exclude imputed values"
   ]
  },
  {
   "cell_type": "code",
   "execution_count": 97,
   "metadata": {},
   "outputs": [
    {
     "data": {
      "text/plain": [
       "<matplotlib.figure.Figure at 0xcdbf390>"
      ]
     },
     "metadata": {},
     "output_type": "display_data"
    },
    {
     "data": {
      "text/plain": [
       "<matplotlib.figure.Figure at 0x182c6630>"
      ]
     },
     "metadata": {},
     "output_type": "display_data"
    },
    {
     "data": {
      "image/png": "[encoded data removed]",
      "text/plain": [
       "<matplotlib.figure.Figure at 0xc8d3a20>"
      ]
     },
     "metadata": {},
     "output_type": "display_data"
    }
   ],
   "source": [
    "### Group by peptide\n",
    "\n",
    "fig, ax = plt.subplots(figsize = (12, 7))\n",
    "flierprops = dict(markersize=2) # define outlier properties\n",
    "\n",
    "sns.boxplot(hue=\"Tissue\", \n",
    "            x='Peptide', \n",
    "            y='Abundance', \n",
    "            data=combined_df, palette='hls', ax=ax, linewidth=0.5, flierprops=flierprops)\n",
    "\n",
    "plt.rcParams[\"font.family\"] = \"Arial\"\n",
    "plt.legend(loc=0)\n",
    "plt.xticks(fontsize=8),\n",
    "\n",
    "output_path = image_dir + 'Grouped_By_Peptide' + '.pdf'    \n",
    "plt.savefig(output_path, bbox_inches = \"tight\")  ### Figure XX1\n",
    "plt.show()\n",
    "plt.clf()"
   ]
  }
 ],
 "metadata": {
  "kernelspec": {
   "display_name": "Python 3",
   "language": "python",
   "name": "python3"
  },
  "language_info": {
   "codemirror_mode": {
    "name": "ipython",
    "version": 3
   },
   "file_extension": ".py",
   "mimetype": "text/x-python",
   "name": "python",
   "nbconvert_exporter": "python",
   "pygments_lexer": "ipython3",
   "version": "3.6.3"
  },
  "toc": {
   "nav_menu": {},
   "number_sections": true,
   "sideBar": true,
   "skip_h1_title": true,
   "toc_cell": false,
   "toc_position": {},
   "toc_section_display": "block",
   "toc_window_display": false
  }
 },
 "nbformat": 4,
 "nbformat_minor": 2
}
