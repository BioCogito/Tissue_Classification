{
 "cells": [
  {
   "cell_type": "markdown",
   "metadata": {},
   "source": [
    "# Using unlabelled, unfractionated datasets obtained from QExact and VOrbi instruments\n",
    "* Datasets were searched against H_sapiens_Uniprot_SPROT_2017-04-12, Tryp_Pig_Bov sequence files using MSGFPlus\n",
    "* Combined results with MASIC results (q <= 0.01) to get quantitation data"
   ]
  },
  {
   "cell_type": "code",
   "execution_count": 218,
   "metadata": {
    "collapsed": true
   },
   "outputs": [],
   "source": [
    "import Classification_Utils as cu\n",
    "import math\n",
    "import MaxQuant_Postprocessing_Functions as mq\n",
    "import numpy as np\n",
    "from os import listdir\n",
    "import pandas as pd\n",
    "from sklearn.decomposition import PCA\n",
    "from sklearn.externals import joblib\n",
    "from sklearn.model_selection import train_test_split\n",
    "from sklearn import preprocessing\n",
    "import time"
   ]
  },
  {
   "cell_type": "markdown",
   "metadata": {},
   "source": [
    "## Load and combine data from all tissues"
   ]
  },
  {
   "cell_type": "code",
   "execution_count": 219,
   "metadata": {},
   "outputs": [
    {
     "name": "stdout",
     "output_type": "stream",
     "text": [
      "(55676, 253)\n"
     ]
    }
   ],
   "source": [
    "df = pd.read_csv('FullPeptideQuant.txt', sep='\\t', index_col='Peptide')\n",
    "print(df.shape)"
   ]
  },
  {
   "cell_type": "markdown",
   "metadata": {},
   "source": [
    "## Map each column to a corresponding label"
   ]
  },
  {
   "cell_type": "code",
   "execution_count": 220,
   "metadata": {},
   "outputs": [],
   "source": [
    "tissues = ['Blood_Plasma', 'Blood_Serum', 'CSF', 'Liver', 'Monocyte', 'Ovary', 'Pancreas', 'Substantia_Nigra', 'Temporal_Lobe']\n",
    " \n",
    "tissues_to_columns = cu.map_tissues_to_columns(df, tissues)"
   ]
  },
  {
   "cell_type": "code",
   "execution_count": 221,
   "metadata": {
    "collapsed": true
   },
   "outputs": [],
   "source": [
    "column_names = df.columns.values.tolist()\n",
    "labels = cu.get_labels(column_names, tissues_to_columns)"
   ]
  },
  {
   "cell_type": "markdown",
   "metadata": {},
   "source": [
    "## Make train-test split"
   ]
  },
  {
   "cell_type": "code",
   "execution_count": 222,
   "metadata": {
    "collapsed": true
   },
   "outputs": [],
   "source": [
    "train_df, test_df, train_labels, test_labels = train_test_split(\n",
    "    df.T, labels, test_size=0.30,# 30% of the data held out in test set\n",
    "    random_state=0,    # Setting random_state ensures the same train/test split occurs each time this is run\n",
    "    stratify=labels)   # Maintain relative ratio of samples from each tissue"
   ]
  },
  {
   "cell_type": "markdown",
   "metadata": {},
   "source": [
    "## Transform Train Data by Reducing Peptides"
   ]
  },
  {
   "cell_type": "code",
   "execution_count": 223,
   "metadata": {
    "collapsed": true
   },
   "outputs": [],
   "source": [
    "def keep_percentile_peptides(df, labels, tissues, percentile, impute_val):\n",
    "    df = df.T\n",
    "    tissue_dfs = []\n",
    "    \n",
    "    for tissue in tissues:\n",
    "        cols_to_drop = [col for col in df.columns.values if not col.startswith(tissue)]\n",
    "        tissue_df = df.drop(cols_to_drop, axis=1)\n",
    "        \n",
    "        ### Drop rows with nothing observed\n",
    "        tissue_df.replace(impute_val, np.nan, inplace=True)\n",
    "        tissue_df.dropna(axis=0, how='all', inplace=True)\n",
    "        tissue_df.replace(np.nan, impute_val, inplace=True)\n",
    "        \n",
    "        peptide_mean_abundances = tissue_df.mean(axis=1) # pandas series\n",
    "\n",
    "        # sort by average abundance value, drop below threshold\n",
    "        peptide_mean_abundances.sort_values(ascending=False, inplace=True)\n",
    "        num_peptides_to_keep = math.ceil(len(peptide_mean_abundances) * percentile/100)\n",
    "        peptides_to_drop = peptide_mean_abundances[num_peptides_to_keep:].index.values\n",
    "        \n",
    "        print(tissue_df.shape[0], len(peptides_to_drop))\n",
    "        \n",
    "        tissue_df.drop(peptides_to_drop, axis=0, inplace=True)\n",
    "        \n",
    "        tissue_dfs.append(tissue_df)\n",
    "        \n",
    "    # join dataframes\n",
    "    combined_df = pd.DataFrame()\n",
    "    for next_df in tissue_dfs:\n",
    "        combined_df = combined_df.join(next_df, how='outer')\n",
    "    \n",
    "    combined_df.replace(np.nan, impute_val, inplace=True)\n",
    "        \n",
    "    return combined_df.T"
   ]
  },
  {
   "cell_type": "code",
   "execution_count": 224,
   "metadata": {},
   "outputs": [
    {
     "name": "stdout",
     "output_type": "stream",
     "text": [
      "(177, 55676)\n",
      "7456 745\n",
      "4845 484\n",
      "1857 185\n",
      "22400 2240\n",
      "17001 1700\n",
      "18600 1860\n",
      "11937 1193\n",
      "26817 2681\n",
      "8847 884\n",
      "(177, 55482)\n"
     ]
    }
   ],
   "source": [
    "imputed_val = train_df.mode().iloc[0, 0]\n",
    "\n",
    "percentile_to_keep = 90\n",
    "\n",
    "print(train_df.shape)\n",
    "train_df = keep_percentile_peptides(train_df, train_labels, tissues, percentile_to_keep, imputed_val)\n",
    "print(train_df.shape)\n",
    "\n",
    "features_to_keep = train_df.columns.values.tolist()\n",
    "\n",
    "column_names = train_df.index.values.tolist()\n",
    "train_labels = cu.get_labels(column_names, tissues_to_columns)"
   ]
  },
  {
   "cell_type": "markdown",
   "metadata": {},
   "source": [
    "## Train various classifiers, using cross-validation to produce an accuracy score"
   ]
  },
  {
   "cell_type": "code",
   "execution_count": 225,
   "metadata": {},
   "outputs": [],
   "source": [
    "NUM_SPLITS = 1 # number of train/test splits in cross validation"
   ]
  },
  {
   "cell_type": "code",
   "execution_count": 226,
   "metadata": {},
   "outputs": [
    {
     "data": {
      "text/html": [
       "<div>\n",
       "<style>\n",
       "    .dataframe thead tr:only-child th {\n",
       "        text-align: right;\n",
       "    }\n",
       "\n",
       "    .dataframe thead th {\n",
       "        text-align: left;\n",
       "    }\n",
       "\n",
       "    .dataframe tbody tr th {\n",
       "        vertical-align: top;\n",
       "    }\n",
       "</style>\n",
       "<table border=\"1\" class=\"dataframe\">\n",
       "  <thead>\n",
       "    <tr style=\"text-align: right;\">\n",
       "      <th>Peptide</th>\n",
       "      <th>-.DIQM*TQSPSTLSASVGDR.V</th>\n",
       "      <th>-.DIQM*TQSPSTLSASVGDRVTITCR.A</th>\n",
       "      <th>-.DIQMTQSPSTLSASVGDR.V</th>\n",
       "      <th>-.DIQMTQSPSTLSASVGDRVTITCR.A</th>\n",
       "      <th>-.EVQLVETGGGLIQPGGSLR.L</th>\n",
       "      <th>-.GLSDGEWQQVLNVWGKVEADIAGHGQEVLIR.L</th>\n",
       "      <th>-.LGEHNIDVLEGNEQFINAAR.I</th>\n",
       "      <th>-.LGEHNIDVLEGNEQFINAARII.T</th>\n",
       "      <th>-.LGEHNIDVLEGNEQFINAARIITHPN.F</th>\n",
       "      <th>-.LGEHNIDVLEGNEQFINAARIITHPNFN.G</th>\n",
       "      <th>...</th>\n",
       "      <th>Y.YGYGPGYDYSQGSTNYGK.S</th>\n",
       "      <th>Y.YGYTGAFR.C</th>\n",
       "      <th>Y.YLEVNQLEK.F</th>\n",
       "      <th>Y.YLEVNQLEKFDIK.S</th>\n",
       "      <th>Y.YNEATGGNYVPR.A</th>\n",
       "      <th>Y.YNPGNPHNVYMPTSQPPPPPYYPPEDKKTQ.-</th>\n",
       "      <th>Y.YTEFTPTEKDEYACR.V</th>\n",
       "      <th>Y.YTGEKGQNQDYR.G</th>\n",
       "      <th>Y.YVTIIDAPGHR.D</th>\n",
       "      <th>Y.YYIQQDTK.G</th>\n",
       "    </tr>\n",
       "  </thead>\n",
       "  <tbody>\n",
       "    <tr>\n",
       "      <th>Blood_Plasma_OMICS_EBV_HP_UW002_8Apr16_Arwen_16-01-03</th>\n",
       "      <td>29.328345</td>\n",
       "      <td>30.633308</td>\n",
       "      <td>3.022208</td>\n",
       "      <td>3.022208</td>\n",
       "      <td>3.022208</td>\n",
       "      <td>3.022208</td>\n",
       "      <td>29.380036</td>\n",
       "      <td>3.022208</td>\n",
       "      <td>32.159696</td>\n",
       "      <td>3.022208</td>\n",
       "      <td>...</td>\n",
       "      <td>3.022208</td>\n",
       "      <td>3.022208</td>\n",
       "      <td>3.022208</td>\n",
       "      <td>3.022208</td>\n",
       "      <td>3.022208</td>\n",
       "      <td>3.022208</td>\n",
       "      <td>3.022208</td>\n",
       "      <td>3.022208</td>\n",
       "      <td>3.022208</td>\n",
       "      <td>3.022208</td>\n",
       "    </tr>\n",
       "    <tr>\n",
       "      <th>Blood_Plasma_OMICS_EBV_HP_UW009_8Apr16_Arwen_16-01-03</th>\n",
       "      <td>29.875856</td>\n",
       "      <td>32.504316</td>\n",
       "      <td>29.301820</td>\n",
       "      <td>3.022208</td>\n",
       "      <td>27.142775</td>\n",
       "      <td>3.022208</td>\n",
       "      <td>32.691831</td>\n",
       "      <td>3.022208</td>\n",
       "      <td>31.291647</td>\n",
       "      <td>26.705301</td>\n",
       "      <td>...</td>\n",
       "      <td>3.022208</td>\n",
       "      <td>3.022208</td>\n",
       "      <td>3.022208</td>\n",
       "      <td>3.022208</td>\n",
       "      <td>3.022208</td>\n",
       "      <td>3.022208</td>\n",
       "      <td>3.022208</td>\n",
       "      <td>3.022208</td>\n",
       "      <td>3.022208</td>\n",
       "      <td>3.022208</td>\n",
       "    </tr>\n",
       "    <tr>\n",
       "      <th>Blood_Plasma_OpPlasma_034_a_13Aug11_Jaguar_11-07-18</th>\n",
       "      <td>3.022208</td>\n",
       "      <td>3.022208</td>\n",
       "      <td>3.022208</td>\n",
       "      <td>3.022208</td>\n",
       "      <td>3.022208</td>\n",
       "      <td>3.022208</td>\n",
       "      <td>3.022208</td>\n",
       "      <td>3.022208</td>\n",
       "      <td>3.022208</td>\n",
       "      <td>3.022208</td>\n",
       "      <td>...</td>\n",
       "      <td>3.022208</td>\n",
       "      <td>3.022208</td>\n",
       "      <td>3.022208</td>\n",
       "      <td>3.022208</td>\n",
       "      <td>3.022208</td>\n",
       "      <td>3.022208</td>\n",
       "      <td>3.022208</td>\n",
       "      <td>3.022208</td>\n",
       "      <td>3.022208</td>\n",
       "      <td>3.022208</td>\n",
       "    </tr>\n",
       "    <tr>\n",
       "      <th>Blood_Plasma_OpPlasma_049_a_13Aug11_Jaguar_11-07-16</th>\n",
       "      <td>29.131658</td>\n",
       "      <td>3.022208</td>\n",
       "      <td>29.981145</td>\n",
       "      <td>3.022208</td>\n",
       "      <td>3.022208</td>\n",
       "      <td>3.022208</td>\n",
       "      <td>3.022208</td>\n",
       "      <td>3.022208</td>\n",
       "      <td>3.022208</td>\n",
       "      <td>3.022208</td>\n",
       "      <td>...</td>\n",
       "      <td>3.022208</td>\n",
       "      <td>3.022208</td>\n",
       "      <td>3.022208</td>\n",
       "      <td>3.022208</td>\n",
       "      <td>3.022208</td>\n",
       "      <td>3.022208</td>\n",
       "      <td>3.022208</td>\n",
       "      <td>3.022208</td>\n",
       "      <td>3.022208</td>\n",
       "      <td>3.022208</td>\n",
       "    </tr>\n",
       "    <tr>\n",
       "      <th>Blood_Plasma_OpPlasma_039_a_13Aug11_Jaguar_11-07-16</th>\n",
       "      <td>3.022208</td>\n",
       "      <td>3.022208</td>\n",
       "      <td>3.022208</td>\n",
       "      <td>3.022208</td>\n",
       "      <td>3.022208</td>\n",
       "      <td>3.022208</td>\n",
       "      <td>3.022208</td>\n",
       "      <td>3.022208</td>\n",
       "      <td>3.022208</td>\n",
       "      <td>3.022208</td>\n",
       "      <td>...</td>\n",
       "      <td>3.022208</td>\n",
       "      <td>3.022208</td>\n",
       "      <td>3.022208</td>\n",
       "      <td>3.022208</td>\n",
       "      <td>3.022208</td>\n",
       "      <td>3.022208</td>\n",
       "      <td>3.022208</td>\n",
       "      <td>3.022208</td>\n",
       "      <td>3.022208</td>\n",
       "      <td>3.022208</td>\n",
       "    </tr>\n",
       "  </tbody>\n",
       "</table>\n",
       "<p>5 rows × 55482 columns</p>\n",
       "</div>"
      ],
      "text/plain": [
       "Peptide                                             -.DIQM*TQSPSTLSASVGDR.V  \\\n",
       "Blood_Plasma_OMICS_EBV_HP_UW002_8Apr16_Arwen_16...                29.328345   \n",
       "Blood_Plasma_OMICS_EBV_HP_UW009_8Apr16_Arwen_16...                29.875856   \n",
       "Blood_Plasma_OpPlasma_034_a_13Aug11_Jaguar_11-0...                 3.022208   \n",
       "Blood_Plasma_OpPlasma_049_a_13Aug11_Jaguar_11-0...                29.131658   \n",
       "Blood_Plasma_OpPlasma_039_a_13Aug11_Jaguar_11-0...                 3.022208   \n",
       "\n",
       "Peptide                                             -.DIQM*TQSPSTLSASVGDRVTITCR.A  \\\n",
       "Blood_Plasma_OMICS_EBV_HP_UW002_8Apr16_Arwen_16...                      30.633308   \n",
       "Blood_Plasma_OMICS_EBV_HP_UW009_8Apr16_Arwen_16...                      32.504316   \n",
       "Blood_Plasma_OpPlasma_034_a_13Aug11_Jaguar_11-0...                       3.022208   \n",
       "Blood_Plasma_OpPlasma_049_a_13Aug11_Jaguar_11-0...                       3.022208   \n",
       "Blood_Plasma_OpPlasma_039_a_13Aug11_Jaguar_11-0...                       3.022208   \n",
       "\n",
       "Peptide                                             -.DIQMTQSPSTLSASVGDR.V  \\\n",
       "Blood_Plasma_OMICS_EBV_HP_UW002_8Apr16_Arwen_16...                3.022208   \n",
       "Blood_Plasma_OMICS_EBV_HP_UW009_8Apr16_Arwen_16...               29.301820   \n",
       "Blood_Plasma_OpPlasma_034_a_13Aug11_Jaguar_11-0...                3.022208   \n",
       "Blood_Plasma_OpPlasma_049_a_13Aug11_Jaguar_11-0...               29.981145   \n",
       "Blood_Plasma_OpPlasma_039_a_13Aug11_Jaguar_11-0...                3.022208   \n",
       "\n",
       "Peptide                                             -.DIQMTQSPSTLSASVGDRVTITCR.A  \\\n",
       "Blood_Plasma_OMICS_EBV_HP_UW002_8Apr16_Arwen_16...                      3.022208   \n",
       "Blood_Plasma_OMICS_EBV_HP_UW009_8Apr16_Arwen_16...                      3.022208   \n",
       "Blood_Plasma_OpPlasma_034_a_13Aug11_Jaguar_11-0...                      3.022208   \n",
       "Blood_Plasma_OpPlasma_049_a_13Aug11_Jaguar_11-0...                      3.022208   \n",
       "Blood_Plasma_OpPlasma_039_a_13Aug11_Jaguar_11-0...                      3.022208   \n",
       "\n",
       "Peptide                                             -.EVQLVETGGGLIQPGGSLR.L  \\\n",
       "Blood_Plasma_OMICS_EBV_HP_UW002_8Apr16_Arwen_16...                 3.022208   \n",
       "Blood_Plasma_OMICS_EBV_HP_UW009_8Apr16_Arwen_16...                27.142775   \n",
       "Blood_Plasma_OpPlasma_034_a_13Aug11_Jaguar_11-0...                 3.022208   \n",
       "Blood_Plasma_OpPlasma_049_a_13Aug11_Jaguar_11-0...                 3.022208   \n",
       "Blood_Plasma_OpPlasma_039_a_13Aug11_Jaguar_11-0...                 3.022208   \n",
       "\n",
       "Peptide                                             -.GLSDGEWQQVLNVWGKVEADIAGHGQEVLIR.L  \\\n",
       "Blood_Plasma_OMICS_EBV_HP_UW002_8Apr16_Arwen_16...                             3.022208   \n",
       "Blood_Plasma_OMICS_EBV_HP_UW009_8Apr16_Arwen_16...                             3.022208   \n",
       "Blood_Plasma_OpPlasma_034_a_13Aug11_Jaguar_11-0...                             3.022208   \n",
       "Blood_Plasma_OpPlasma_049_a_13Aug11_Jaguar_11-0...                             3.022208   \n",
       "Blood_Plasma_OpPlasma_039_a_13Aug11_Jaguar_11-0...                             3.022208   \n",
       "\n",
       "Peptide                                             -.LGEHNIDVLEGNEQFINAAR.I  \\\n",
       "Blood_Plasma_OMICS_EBV_HP_UW002_8Apr16_Arwen_16...                 29.380036   \n",
       "Blood_Plasma_OMICS_EBV_HP_UW009_8Apr16_Arwen_16...                 32.691831   \n",
       "Blood_Plasma_OpPlasma_034_a_13Aug11_Jaguar_11-0...                  3.022208   \n",
       "Blood_Plasma_OpPlasma_049_a_13Aug11_Jaguar_11-0...                  3.022208   \n",
       "Blood_Plasma_OpPlasma_039_a_13Aug11_Jaguar_11-0...                  3.022208   \n",
       "\n",
       "Peptide                                             -.LGEHNIDVLEGNEQFINAARII.T  \\\n",
       "Blood_Plasma_OMICS_EBV_HP_UW002_8Apr16_Arwen_16...                    3.022208   \n",
       "Blood_Plasma_OMICS_EBV_HP_UW009_8Apr16_Arwen_16...                    3.022208   \n",
       "Blood_Plasma_OpPlasma_034_a_13Aug11_Jaguar_11-0...                    3.022208   \n",
       "Blood_Plasma_OpPlasma_049_a_13Aug11_Jaguar_11-0...                    3.022208   \n",
       "Blood_Plasma_OpPlasma_039_a_13Aug11_Jaguar_11-0...                    3.022208   \n",
       "\n",
       "Peptide                                             -.LGEHNIDVLEGNEQFINAARIITHPN.F  \\\n",
       "Blood_Plasma_OMICS_EBV_HP_UW002_8Apr16_Arwen_16...                       32.159696   \n",
       "Blood_Plasma_OMICS_EBV_HP_UW009_8Apr16_Arwen_16...                       31.291647   \n",
       "Blood_Plasma_OpPlasma_034_a_13Aug11_Jaguar_11-0...                        3.022208   \n",
       "Blood_Plasma_OpPlasma_049_a_13Aug11_Jaguar_11-0...                        3.022208   \n",
       "Blood_Plasma_OpPlasma_039_a_13Aug11_Jaguar_11-0...                        3.022208   \n",
       "\n",
       "Peptide                                             -.LGEHNIDVLEGNEQFINAARIITHPNFN.G  \\\n",
       "Blood_Plasma_OMICS_EBV_HP_UW002_8Apr16_Arwen_16...                          3.022208   \n",
       "Blood_Plasma_OMICS_EBV_HP_UW009_8Apr16_Arwen_16...                         26.705301   \n",
       "Blood_Plasma_OpPlasma_034_a_13Aug11_Jaguar_11-0...                          3.022208   \n",
       "Blood_Plasma_OpPlasma_049_a_13Aug11_Jaguar_11-0...                          3.022208   \n",
       "Blood_Plasma_OpPlasma_039_a_13Aug11_Jaguar_11-0...                          3.022208   \n",
       "\n",
       "Peptide                                                 ...       \\\n",
       "Blood_Plasma_OMICS_EBV_HP_UW002_8Apr16_Arwen_16...      ...        \n",
       "Blood_Plasma_OMICS_EBV_HP_UW009_8Apr16_Arwen_16...      ...        \n",
       "Blood_Plasma_OpPlasma_034_a_13Aug11_Jaguar_11-0...      ...        \n",
       "Blood_Plasma_OpPlasma_049_a_13Aug11_Jaguar_11-0...      ...        \n",
       "Blood_Plasma_OpPlasma_039_a_13Aug11_Jaguar_11-0...      ...        \n",
       "\n",
       "Peptide                                             Y.YGYGPGYDYSQGSTNYGK.S  \\\n",
       "Blood_Plasma_OMICS_EBV_HP_UW002_8Apr16_Arwen_16...                3.022208   \n",
       "Blood_Plasma_OMICS_EBV_HP_UW009_8Apr16_Arwen_16...                3.022208   \n",
       "Blood_Plasma_OpPlasma_034_a_13Aug11_Jaguar_11-0...                3.022208   \n",
       "Blood_Plasma_OpPlasma_049_a_13Aug11_Jaguar_11-0...                3.022208   \n",
       "Blood_Plasma_OpPlasma_039_a_13Aug11_Jaguar_11-0...                3.022208   \n",
       "\n",
       "Peptide                                             Y.YGYTGAFR.C  \\\n",
       "Blood_Plasma_OMICS_EBV_HP_UW002_8Apr16_Arwen_16...      3.022208   \n",
       "Blood_Plasma_OMICS_EBV_HP_UW009_8Apr16_Arwen_16...      3.022208   \n",
       "Blood_Plasma_OpPlasma_034_a_13Aug11_Jaguar_11-0...      3.022208   \n",
       "Blood_Plasma_OpPlasma_049_a_13Aug11_Jaguar_11-0...      3.022208   \n",
       "Blood_Plasma_OpPlasma_039_a_13Aug11_Jaguar_11-0...      3.022208   \n",
       "\n",
       "Peptide                                             Y.YLEVNQLEK.F  \\\n",
       "Blood_Plasma_OMICS_EBV_HP_UW002_8Apr16_Arwen_16...       3.022208   \n",
       "Blood_Plasma_OMICS_EBV_HP_UW009_8Apr16_Arwen_16...       3.022208   \n",
       "Blood_Plasma_OpPlasma_034_a_13Aug11_Jaguar_11-0...       3.022208   \n",
       "Blood_Plasma_OpPlasma_049_a_13Aug11_Jaguar_11-0...       3.022208   \n",
       "Blood_Plasma_OpPlasma_039_a_13Aug11_Jaguar_11-0...       3.022208   \n",
       "\n",
       "Peptide                                             Y.YLEVNQLEKFDIK.S  \\\n",
       "Blood_Plasma_OMICS_EBV_HP_UW002_8Apr16_Arwen_16...           3.022208   \n",
       "Blood_Plasma_OMICS_EBV_HP_UW009_8Apr16_Arwen_16...           3.022208   \n",
       "Blood_Plasma_OpPlasma_034_a_13Aug11_Jaguar_11-0...           3.022208   \n",
       "Blood_Plasma_OpPlasma_049_a_13Aug11_Jaguar_11-0...           3.022208   \n",
       "Blood_Plasma_OpPlasma_039_a_13Aug11_Jaguar_11-0...           3.022208   \n",
       "\n",
       "Peptide                                             Y.YNEATGGNYVPR.A  \\\n",
       "Blood_Plasma_OMICS_EBV_HP_UW002_8Apr16_Arwen_16...          3.022208   \n",
       "Blood_Plasma_OMICS_EBV_HP_UW009_8Apr16_Arwen_16...          3.022208   \n",
       "Blood_Plasma_OpPlasma_034_a_13Aug11_Jaguar_11-0...          3.022208   \n",
       "Blood_Plasma_OpPlasma_049_a_13Aug11_Jaguar_11-0...          3.022208   \n",
       "Blood_Plasma_OpPlasma_039_a_13Aug11_Jaguar_11-0...          3.022208   \n",
       "\n",
       "Peptide                                             Y.YNPGNPHNVYMPTSQPPPPPYYPPEDKKTQ.-  \\\n",
       "Blood_Plasma_OMICS_EBV_HP_UW002_8Apr16_Arwen_16...                            3.022208   \n",
       "Blood_Plasma_OMICS_EBV_HP_UW009_8Apr16_Arwen_16...                            3.022208   \n",
       "Blood_Plasma_OpPlasma_034_a_13Aug11_Jaguar_11-0...                            3.022208   \n",
       "Blood_Plasma_OpPlasma_049_a_13Aug11_Jaguar_11-0...                            3.022208   \n",
       "Blood_Plasma_OpPlasma_039_a_13Aug11_Jaguar_11-0...                            3.022208   \n",
       "\n",
       "Peptide                                             Y.YTEFTPTEKDEYACR.V  \\\n",
       "Blood_Plasma_OMICS_EBV_HP_UW002_8Apr16_Arwen_16...             3.022208   \n",
       "Blood_Plasma_OMICS_EBV_HP_UW009_8Apr16_Arwen_16...             3.022208   \n",
       "Blood_Plasma_OpPlasma_034_a_13Aug11_Jaguar_11-0...             3.022208   \n",
       "Blood_Plasma_OpPlasma_049_a_13Aug11_Jaguar_11-0...             3.022208   \n",
       "Blood_Plasma_OpPlasma_039_a_13Aug11_Jaguar_11-0...             3.022208   \n",
       "\n",
       "Peptide                                             Y.YTGEKGQNQDYR.G  \\\n",
       "Blood_Plasma_OMICS_EBV_HP_UW002_8Apr16_Arwen_16...          3.022208   \n",
       "Blood_Plasma_OMICS_EBV_HP_UW009_8Apr16_Arwen_16...          3.022208   \n",
       "Blood_Plasma_OpPlasma_034_a_13Aug11_Jaguar_11-0...          3.022208   \n",
       "Blood_Plasma_OpPlasma_049_a_13Aug11_Jaguar_11-0...          3.022208   \n",
       "Blood_Plasma_OpPlasma_039_a_13Aug11_Jaguar_11-0...          3.022208   \n",
       "\n",
       "Peptide                                             Y.YVTIIDAPGHR.D  \\\n",
       "Blood_Plasma_OMICS_EBV_HP_UW002_8Apr16_Arwen_16...         3.022208   \n",
       "Blood_Plasma_OMICS_EBV_HP_UW009_8Apr16_Arwen_16...         3.022208   \n",
       "Blood_Plasma_OpPlasma_034_a_13Aug11_Jaguar_11-0...         3.022208   \n",
       "Blood_Plasma_OpPlasma_049_a_13Aug11_Jaguar_11-0...         3.022208   \n",
       "Blood_Plasma_OpPlasma_039_a_13Aug11_Jaguar_11-0...         3.022208   \n",
       "\n",
       "Peptide                                             Y.YYIQQDTK.G  \n",
       "Blood_Plasma_OMICS_EBV_HP_UW002_8Apr16_Arwen_16...      3.022208  \n",
       "Blood_Plasma_OMICS_EBV_HP_UW009_8Apr16_Arwen_16...      3.022208  \n",
       "Blood_Plasma_OpPlasma_034_a_13Aug11_Jaguar_11-0...      3.022208  \n",
       "Blood_Plasma_OpPlasma_049_a_13Aug11_Jaguar_11-0...      3.022208  \n",
       "Blood_Plasma_OpPlasma_039_a_13Aug11_Jaguar_11-0...      3.022208  \n",
       "\n",
       "[5 rows x 55482 columns]"
      ]
     },
     "execution_count": 226,
     "metadata": {},
     "output_type": "execute_result"
    }
   ],
   "source": [
    "train_df.head()"
   ]
  },
  {
   "cell_type": "markdown",
   "metadata": {},
   "source": [
    "### KNN"
   ]
  },
  {
   "cell_type": "code",
   "execution_count": 227,
   "metadata": {
    "scrolled": true
   },
   "outputs": [
    {
     "name": "stdout",
     "output_type": "stream",
     "text": [
      "accuracy: 0.83 (+/- 0.00)\n"
     ]
    }
   ],
   "source": [
    "knn = cu.knn_model_crossval(train_df, train_labels, NUM_SPLITS)"
   ]
  },
  {
   "cell_type": "markdown",
   "metadata": {},
   "source": [
    "### Logistic Regression"
   ]
  },
  {
   "cell_type": "code",
   "execution_count": 228,
   "metadata": {
    "scrolled": true
   },
   "outputs": [
    {
     "name": "stdout",
     "output_type": "stream",
     "text": [
      "accuracy: 0.98 (+/- 0.00)\n"
     ]
    }
   ],
   "source": [
    "lr = cu.logistic_regression_model_crossval(train_df, train_labels, NUM_SPLITS)"
   ]
  },
  {
   "cell_type": "markdown",
   "metadata": {},
   "source": [
    "### Naive Bayes\n",
    "* Gaussian\n",
    "* Multinomial"
   ]
  },
  {
   "cell_type": "code",
   "execution_count": 229,
   "metadata": {
    "scrolled": true
   },
   "outputs": [
    {
     "name": "stdout",
     "output_type": "stream",
     "text": [
      "accuracy: 0.94 (+/- 0.00)\n"
     ]
    }
   ],
   "source": [
    "gnb = cu.bayes_gaussian_model_crossval(train_df, train_labels, NUM_SPLITS)"
   ]
  },
  {
   "cell_type": "code",
   "execution_count": null,
   "metadata": {
    "scrolled": false
   },
   "outputs": [
    {
     "name": "stdout",
     "output_type": "stream",
     "text": [
      "accuracy: 0.81 (+/- 0.00)\n"
     ]
    }
   ],
   "source": [
    "mnb = cu.bayes_multinomial_model_crossval(train_df, train_labels, NUM_SPLITS)"
   ]
  },
  {
   "cell_type": "markdown",
   "metadata": {},
   "source": [
    "### SVC variations"
   ]
  },
  {
   "cell_type": "code",
   "execution_count": null,
   "metadata": {
    "scrolled": true
   },
   "outputs": [
    {
     "name": "stdout",
     "output_type": "stream",
     "text": [
      "accuracy: 0.98 (+/- 0.00)\n"
     ]
    }
   ],
   "source": [
    "svc_models = cu.SVC_models_crossval(train_df, train_labels, NUM_SPLITS)"
   ]
  },
  {
   "cell_type": "markdown",
   "metadata": {},
   "source": [
    "### Aggregations\n",
    "* Random Forest\n",
    "* Gradient Boosting"
   ]
  },
  {
   "cell_type": "code",
   "execution_count": null,
   "metadata": {},
   "outputs": [],
   "source": [
    "rf = cu.randomforest_model_crossval(train_df, train_labels, NUM_SPLITS)"
   ]
  },
  {
   "cell_type": "code",
   "execution_count": null,
   "metadata": {},
   "outputs": [],
   "source": [
    "gbc = cu.gradient_boosting_crossval(train_df, train_labels, NUM_SPLITS)"
   ]
  },
  {
   "cell_type": "markdown",
   "metadata": {},
   "source": [
    "## Classify Training Set"
   ]
  },
  {
   "cell_type": "markdown",
   "metadata": {},
   "source": [
    "### Use models from notebook to predict new data"
   ]
  },
  {
   "cell_type": "code",
   "execution_count": null,
   "metadata": {
    "collapsed": true,
    "scrolled": true
   },
   "outputs": [],
   "source": [
    "lr_pred = lr.predict(test_df)\n",
    "lr_result = lr.score(test_df, test_labels)\n",
    "\n",
    "mnb_pred = mnb.predict(test_df)\n",
    "mnb_result = mnb.score(test_df, test_labels)\n",
    "\n",
    "rf_pred = rf.predict(test_df)\n",
    "rf_result = rf.score(test_df, test_labels)\n",
    "\n",
    "svc_pred = svc_models[0].predict(test_df)\n",
    "svc_result = svc_models[0].score(test_df, test_labels)\n",
    "\n",
    "knn_pred = knn.predict(test_df)\n",
    "knn_result = knn.score(test_df, test_labels)\n",
    "\n",
    "gnb_pred = gnb.predict(test_df)\n",
    "gnb_result = gnb.score(test_df, test_labels)\n",
    "\n",
    "gbc_pred = gbc.predict(test_df)\n",
    "gbc_result = gbc.score(test_df, test_labels)"
   ]
  },
  {
   "cell_type": "code",
   "execution_count": null,
   "metadata": {},
   "outputs": [],
   "source": [
    "print(svc_result)\n",
    "print(knn_result)\n",
    "print(gnb_result)\n",
    "print(gbc_result)\n",
    "print(mnb_result)\n",
    "print(lr_result)\n",
    "print(rf_result)"
   ]
  },
  {
   "cell_type": "code",
   "execution_count": null,
   "metadata": {
    "scrolled": false
   },
   "outputs": [],
   "source": [
    "cm_labels = list(set(knn_pred.tolist() + test_labels))\n",
    "\n",
    "cu.show_confusion_matrices(test_labels, knn_pred, cm_labels)"
   ]
  }
 ],
 "metadata": {
  "kernelspec": {
   "display_name": "Python 3",
   "language": "python",
   "name": "python3"
  },
  "language_info": {
   "codemirror_mode": {
    "name": "ipython",
    "version": 3
   },
   "file_extension": ".py",
   "mimetype": "text/x-python",
   "name": "python",
   "nbconvert_exporter": "python",
   "pygments_lexer": "ipython3",
   "version": "3.6.3"
  },
  "toc": {
   "nav_menu": {},
   "number_sections": true,
   "sideBar": true,
   "skip_h1_title": true,
   "toc_cell": false,
   "toc_position": {},
   "toc_section_display": "block",
   "toc_window_display": false
  }
 },
 "nbformat": 4,
 "nbformat_minor": 2
}
