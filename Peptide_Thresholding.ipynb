{
 "cells": [
  {
   "cell_type": "markdown",
   "metadata": {},
   "source": [
    "# Testing classifier accuracy as the lowest abundance peptides are incrementally removed from the training set. (Fig5)"
   ]
  },
  {
   "cell_type": "code",
   "execution_count": 242,
   "metadata": {
    "collapsed": true
   },
   "outputs": [],
   "source": [
    "import Classification_Utils as cu\n",
    "import math\n",
    "import numpy as np\n",
    "import pandas as pd\n",
    "from sklearn.model_selection import train_test_split\n",
    "from sklearn.preprocessing import MinMaxScaler, StandardScaler"
   ]
  },
  {
   "cell_type": "code",
   "execution_count": 257,
   "metadata": {
    "collapsed": true
   },
   "outputs": [],
   "source": [
    "BINARY = True"
   ]
  },
  {
   "cell_type": "markdown",
   "metadata": {},
   "source": [
    "## Load and combine data from all tissues"
   ]
  },
  {
   "cell_type": "code",
   "execution_count": 244,
   "metadata": {},
   "outputs": [
    {
     "name": "stdout",
     "output_type": "stream",
     "text": [
      "(68623, 253)\n"
     ]
    }
   ],
   "source": [
    "df = pd.read_csv('FullPeptideQuant.txt', sep='\\t', index_col='Peptide')\n",
    "print(df.shape)"
   ]
  },
  {
   "cell_type": "markdown",
   "metadata": {},
   "source": [
    "## Map each column to a corresponding label"
   ]
  },
  {
   "cell_type": "code",
   "execution_count": 245,
   "metadata": {
    "collapsed": true
   },
   "outputs": [],
   "source": [
    "tissues = ['Blood_Plasma', 'Blood_Serum', 'CSF', 'Liver', 'Monocyte', 'Ovary', 'Pancreas', 'Substantia_Nigra', 'Temporal_Lobe']\n",
    " \n",
    "tissues_to_columns = cu.map_tissues_to_columns(df, tissues)"
   ]
  },
  {
   "cell_type": "code",
   "execution_count": 246,
   "metadata": {
    "collapsed": true
   },
   "outputs": [],
   "source": [
    "column_names = df.columns.values.tolist()\n",
    "labels = cu.get_labels(column_names, tissues_to_columns)"
   ]
  },
  {
   "cell_type": "markdown",
   "metadata": {},
   "source": [
    "## Make train-test split"
   ]
  },
  {
   "cell_type": "code",
   "execution_count": 247,
   "metadata": {
    "collapsed": true
   },
   "outputs": [],
   "source": [
    "train_df, test_df, train_labels, test_labels = train_test_split(\n",
    "    df.T, labels, test_size=0.30,# 30% of the data held out in test set\n",
    "    random_state=0,    # Setting random_state ensures the same train/test split occurs each time this is run\n",
    "    stratify=labels)   # Maintain relative ratio of samples from each tissue"
   ]
  },
  {
   "cell_type": "markdown",
   "metadata": {},
   "source": [
    "## Transform Train Data by Reducing Peptides"
   ]
  },
  {
   "cell_type": "code",
   "execution_count": 248,
   "metadata": {
    "collapsed": true
   },
   "outputs": [],
   "source": [
    "\"\"\"\n",
    "Transforms a dataframe by filtering out the lowest abundance peptides in each tissue.\n",
    "\n",
    "Args:\n",
    "    df (dataframe): rows are datasets and columns are peptides\n",
    "    tissues (list of strings): list of tissues represented in df\n",
    "    percentile(float): percentile of peptides to keep from each tissue\n",
    "    impute_val (float): value to fill missing values with\n",
    "    \n",
    "Returns:\n",
    "    df transformed so that only the specified percentile of peptides with the highest mean abundance values in each tissue are kept\n",
    "\"\"\"\n",
    "def keep_percentile_peptides(df, tissues, percentile, impute_val):\n",
    "    \n",
    "    df = df.T\n",
    "    tissue_dfs = []\n",
    "    \n",
    "    for tissue in tissues:\n",
    "        cols_to_drop = [col for col in df.columns.values if not col.startswith(tissue)]\n",
    "        tissue_df = df.drop(cols_to_drop, axis=1)\n",
    "        \n",
    "        ### Drop rows with nothing observed\n",
    "        tissue_df.replace(impute_val, np.nan, inplace=True)\n",
    "        tissue_df.dropna(axis=0, how='all', inplace=True)\n",
    "        tissue_df.replace(np.nan, impute_val, inplace=True)\n",
    "        \n",
    "        peptide_mean_abundances = tissue_df.mean(axis=1) # pandas series\n",
    "\n",
    "        # sort by average abundance value, drop below threshold\n",
    "        peptide_mean_abundances.sort_values(ascending=False, inplace=True)\n",
    "        num_peptides_to_keep = math.ceil(len(peptide_mean_abundances) * percentile/100)\n",
    "        peptides_to_drop = peptide_mean_abundances[num_peptides_to_keep:].index.values\n",
    "        \n",
    "        print(tissue_df.shape[0], len(peptides_to_drop))\n",
    "        \n",
    "        tissue_df.drop(peptides_to_drop, axis=0, inplace=True)\n",
    "        \n",
    "        tissue_dfs.append(tissue_df)\n",
    "        \n",
    "    # join dataframes\n",
    "    combined_df = pd.DataFrame()\n",
    "    for next_df in tissue_dfs:\n",
    "        combined_df = combined_df.join(next_df, how='outer')\n",
    "    \n",
    "    combined_df.replace(np.nan, impute_val, inplace=True)\n",
    "        \n",
    "    return combined_df.T"
   ]
  },
  {
   "cell_type": "code",
   "execution_count": 249,
   "metadata": {
    "scrolled": true
   },
   "outputs": [
    {
     "name": "stdout",
     "output_type": "stream",
     "text": [
      "Original train_df dimensions: (177, 68623)\n",
      "7756 0\n",
      "5015 0\n",
      "1863 0\n",
      "24555 0\n",
      "17951 0\n",
      "38793 0\n",
      "13159 0\n",
      "29372 0\n",
      "8948 0\n",
      "Reduced train_df dimensions: (177, 68609)\n"
     ]
    }
   ],
   "source": [
    "imputed_val = train_df.mode().iloc[0, 0]\n",
    "\n",
    "percentile_to_keep = 100\n",
    "\n",
    "print('Original train_df dimensions:', train_df.shape)\n",
    "train_df = keep_percentile_peptides(train_df, tissues, percentile_to_keep, imputed_val)\n",
    "print('Reduced train_df dimensions:', train_df.shape)\n",
    "\n",
    "features_to_keep = train_df.columns.values.tolist()\n",
    "\n",
    "column_names = train_df.index.values.tolist()\n",
    "train_labels = cu.get_labels(column_names, tissues_to_columns)"
   ]
  },
  {
   "cell_type": "markdown",
   "metadata": {},
   "source": [
    "## Train classifiers on the reduced data"
   ]
  },
  {
   "cell_type": "code",
   "execution_count": 250,
   "metadata": {
    "collapsed": true
   },
   "outputs": [],
   "source": [
    "if BINARY:\n",
    "    train_df = cu.abundance_to_binary(train_df)\n",
    "    min_max_train_df = train_df\n",
    "else:\n",
    "    std_scaler = StandardScaler()\n",
    "    train_df = std_scaler.fit_transform(train_df)\n",
    "\n",
    "    min_max_scaler = MinMaxScaler()\n",
    "    min_max_train_df = min_max_scaler.fit_transform(train_df)"
   ]
  },
  {
   "cell_type": "code",
   "execution_count": 251,
   "metadata": {
    "collapsed": true
   },
   "outputs": [],
   "source": [
    "from sklearn.linear_model import LogisticRegression\n",
    "from sklearn.naive_bayes import GaussianNB, MultinomialNB\n",
    "from sklearn.neighbors import KNeighborsClassifier\n",
    "from sklearn.ensemble import GradientBoostingClassifier, RandomForestClassifier\n",
    "from sklearn.svm import SVC\n",
    "\n",
    "lr = LogisticRegression(random_state=0)\n",
    "mnb = MultinomialNB()\n",
    "rf = RandomForestClassifier(random_state=0)\n",
    "svc = SVC(kernel='linear', random_state=0)\n",
    "gbc = GradientBoostingClassifier(random_state=0)\n",
    "gnb = GaussianNB()\n",
    "knn = KNeighborsClassifier()\n",
    "\n",
    "models = [lr, mnb, rf, svc, gbc, gnb, knn]\n",
    "\n",
    "model_names = ['Logistic Regression', 'Multinomial Naive Bayes', 'Random Forest', 'SVC', \n",
    "               'Gradient Boosting', 'Gaussian Naive Bayes', 'K-Nearest Neighbors']\n",
    "\n",
    "for model in models:\n",
    "    if isinstance(model, MultinomialNB):\n",
    "        model.fit(min_max_train_df, train_labels)\n",
    "    else:\n",
    "        model.fit(train_df, train_labels)"
   ]
  },
  {
   "cell_type": "markdown",
   "metadata": {},
   "source": [
    "## Classify Training Set"
   ]
  },
  {
   "cell_type": "code",
   "execution_count": 252,
   "metadata": {},
   "outputs": [
    {
     "name": "stdout",
     "output_type": "stream",
     "text": [
      "(76, 68623)\n",
      "(76, 68609)\n"
     ]
    }
   ],
   "source": [
    "# Test data features (peptides) must match training data features exactly\n",
    "# So we only keep the peptides still present in the training data after peptide reduction\n",
    "print(test_df.shape)\n",
    "test_df = test_df[features_to_keep]\n",
    "print(test_df.shape)"
   ]
  },
  {
   "cell_type": "code",
   "execution_count": 253,
   "metadata": {},
   "outputs": [],
   "source": [
    "if BINARY:\n",
    "    test_df = cu.abundance_to_binary(test_df)\n",
    "    min_max_test_df = test_df\n",
    "else:\n",
    "    test_df = std_scaler.fit_transform(test_df)\n",
    "    min_max_test_df = min_max_scaler.fit_transform(test_df)"
   ]
  },
  {
   "cell_type": "markdown",
   "metadata": {},
   "source": [
    "### Use models to predict new data\n",
    "* Results used to plot Fig5"
   ]
  },
  {
   "cell_type": "code",
   "execution_count": 254,
   "metadata": {
    "collapsed": true,
    "scrolled": true
   },
   "outputs": [],
   "source": [
    "lr_pred = lr.predict(test_df)\n",
    "lr_result = lr.score(test_df, test_labels)\n",
    "\n",
    "mnb_pred = mnb.predict(min_max_test_df)\n",
    "mnb_result = mnb.score(min_max_test_df, test_labels)\n",
    "\n",
    "rf_pred = rf.predict(test_df)\n",
    "rf_result = rf.score(test_df, test_labels)\n",
    "\n",
    "svc_pred = svc.predict(test_df)\n",
    "svc_result = svc.score(test_df, test_labels)\n",
    "\n",
    "knn_pred = knn.predict(test_df)\n",
    "knn_result = knn.score(test_df, test_labels)\n",
    "\n",
    "gnb_pred = gnb.predict(test_df)\n",
    "gnb_result = gnb.score(test_df, test_labels)\n",
    "\n",
    "gbc_pred = gbc.predict(test_df)\n",
    "gbc_result = gbc.score(test_df, test_labels)"
   ]
  },
  {
   "cell_type": "code",
   "execution_count": 255,
   "metadata": {},
   "outputs": [
    {
     "name": "stdout",
     "output_type": "stream",
     "text": [
      "1.0\n",
      "0.973684210526\n",
      "1.0\n",
      "1.0\n",
      "0.986842105263\n",
      "1.0\n",
      "1.0\n"
     ]
    }
   ],
   "source": [
    "print(svc_result)\n",
    "print(knn_result)\n",
    "print(gnb_result)\n",
    "print(gbc_result)\n",
    "print(mnb_result)\n",
    "print(lr_result)\n",
    "print(rf_result)"
   ]
  },
  {
   "cell_type": "code",
   "execution_count": 256,
   "metadata": {
    "scrolled": false
   },
   "outputs": [
    {
     "name": "stdout",
     "output_type": "stream",
     "text": [
      "Confusion matrix, without normalization\n",
      "[[9 0 0 0 0 0 0 0 0]\n",
      " [0 9 0 0 0 0 0 0 0]\n",
      " [0 0 9 0 0 0 0 0 0]\n",
      " [0 0 0 9 0 0 0 0 0]\n",
      " [0 0 0 0 4 0 0 0 0]\n",
      " [0 0 0 0 0 8 0 0 1]\n",
      " [0 0 0 0 0 0 8 0 1]\n",
      " [0 0 0 0 0 0 0 9 0]\n",
      " [0 0 0 0 0 0 0 0 9]]\n",
      "Normalized confusion matrix\n",
      "[[ 1.    0.    0.    0.    0.    0.    0.    0.    0.  ]\n",
      " [ 0.    1.    0.    0.    0.    0.    0.    0.    0.  ]\n",
      " [ 0.    0.    1.    0.    0.    0.    0.    0.    0.  ]\n",
      " [ 0.    0.    0.    1.    0.    0.    0.    0.    0.  ]\n",
      " [ 0.    0.    0.    0.    1.    0.    0.    0.    0.  ]\n",
      " [ 0.    0.    0.    0.    0.    0.89  0.    0.    0.11]\n",
      " [ 0.    0.    0.    0.    0.    0.    0.89  0.    0.11]\n",
      " [ 0.    0.    0.    0.    0.    0.    0.    1.    0.  ]\n",
      " [ 0.    0.    0.    0.    0.    0.    0.    0.    1.  ]]\n"
     ]
    },
    {
     "data": {
      "text/plain": [
       "<matplotlib.figure.Figure at 0x1a20b576a0>"
      ]
     },
     "metadata": {},
     "output_type": "display_data"
    },
    {
     "data": {
      "image/png": "[encoded data removed]",
      "text/plain": [
       "<matplotlib.figure.Figure at 0x1a1ccac2e8>"
      ]
     },
     "metadata": {},
     "output_type": "display_data"
    },
    {
     "data": {
      "text/plain": [
       "<matplotlib.figure.Figure at 0x1a1cc18630>"
      ]
     },
     "metadata": {},
     "output_type": "display_data"
    },
    {
     "data": {
      "image/png": "[encoded data removed]",
      "text/plain": [
       "<matplotlib.figure.Figure at 0x1a17880978>"
      ]
     },
     "metadata": {},
     "output_type": "display_data"
    }
   ],
   "source": [
    "cu.show_confusion_matrices(test_labels, knn_pred, tissues)"
   ]
  }
 ],
 "metadata": {
  "kernelspec": {
   "display_name": "Python 3",
   "language": "python",
   "name": "python3"
  },
  "language_info": {
   "codemirror_mode": {
    "name": "ipython",
    "version": 3
   },
   "file_extension": ".py",
   "mimetype": "text/x-python",
   "name": "python",
   "nbconvert_exporter": "python",
   "pygments_lexer": "ipython3",
   "version": "3.6.3"
  },
  "toc": {
   "nav_menu": {},
   "number_sections": true,
   "sideBar": true,
   "skip_h1_title": true,
   "toc_cell": false,
   "toc_position": {},
   "toc_section_display": "block",
   "toc_window_display": false
  }
 },
 "nbformat": 4,
 "nbformat_minor": 2
}
