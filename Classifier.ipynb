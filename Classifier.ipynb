{
 "cells": [
  {
   "cell_type": "code",
   "execution_count": 132,
   "metadata": {
    "collapsed": true
   },
   "outputs": [],
   "source": [
    "import MaxQuant_Postprocessing_Functions as mq"
   ]
  },
  {
   "cell_type": "code",
   "execution_count": 133,
   "metadata": {
    "collapsed": true
   },
   "outputs": [],
   "source": [
    "#########################\n",
    "#\n",
    "# Load and clean data\n",
    "#\n",
    "#########################\n",
    "\n",
    "file = \"D:\\proteinGroups.txt\"\n",
    "\n",
    "df = mq.load_df(file)\n",
    "df = mq.clean_weakly_identified(df)\n",
    "df = mq.remove_dup_proteinIDs(df)\n",
    "\n",
    "iBAQ_df = mq.slice_by_column(df, 'iBAQ ')\n",
    "\n",
    "groups = ['Brain', 'Heart', 'Kidney', 'Liver', 'Lung']\n",
    "organ_columns = {} # 'Liver': ['iBAQ 04_Liver', 'iBAQ 05_Liver', ...]\n",
    "organ_counts = {} # 'Liver': \n",
    "    \n",
    "iBAQ_df = mq.filter_low_observed(iBAQ_df, groups, organ_columns, organ_counts)"
   ]
  },
  {
   "cell_type": "code",
   "execution_count": 134,
   "metadata": {},
   "outputs": [
    {
     "name": "stderr",
     "output_type": "stream",
     "text": [
      "C:\\Users\\kush494\\AppData\\Local\\Continuum\\anaconda3\\lib\\site-packages\\pandas\\core\\frame.py:4451: RuntimeWarning: divide by zero encountered in log2\n",
      "  return lib.map_infer(x.asobject, func)\n"
     ]
    }
   ],
   "source": [
    "#########################\n",
    "#\n",
    "# Normalize data and impute missing values with data frame minimum/2\n",
    "#\n",
    "#########################\n",
    "\n",
    "mq.log2_normalize(iBAQ_df)\n",
    "mq.median_normalize(iBAQ_df)\n",
    "\n",
    "iBAQ_df.set_index('Majority protein IDs', inplace = True)\n",
    "iBAQ_df = mq.impute_missing(iBAQ_df)"
   ]
  },
  {
   "cell_type": "code",
   "execution_count": 135,
   "metadata": {
    "collapsed": true
   },
   "outputs": [],
   "source": [
    "#########################\n",
    "#\n",
    "# Map each column name to a corresponding label\n",
    "#\n",
    "#########################\n",
    "\n",
    "\"\"\"\n",
    "Input: dataframe\n",
    "Output: List of strings representing the labels for each dataframe column\n",
    "\"\"\"\n",
    "def get_labels(df):\n",
    "    columns = iBAQ_df.columns.values.tolist()\n",
    "    labels = []\n",
    "\n",
    "    for column in columns:\n",
    "        key = next(key for key, value in organ_columns.items() if column in value)\n",
    "        labels.append(key)\n",
    "        \n",
    "    return labels"
   ]
  },
  {
   "cell_type": "code",
   "execution_count": 136,
   "metadata": {},
   "outputs": [
    {
     "name": "stdout",
     "output_type": "stream",
     "text": [
      "['iBAQ Adult_07_Brain', 'iBAQ Adult_08_Brain', 'iBAQ Adult_09_Brain', 'iBAQ Adult_10_Brain', 'iBAQ Adult_11_Brain', 'iBAQ Adult_12_Brain', 'iBAQ Adult_07_Heart', 'iBAQ Adult_08_Heart', 'iBAQ Adult_09_Heart', 'iBAQ Adult_10_Heart', 'iBAQ Adult_11_Heart', 'iBAQ Adult_12_Heart', 'iBAQ Adult_07_Kidney', 'iBAQ Adult_08_Kidney', 'iBAQ Adult_09_Kidney', 'iBAQ Adult_10_Kidney', 'iBAQ Adult_11_Kidney', 'iBAQ Adult_12_Kidney', 'iBAQ Adult_04_Liver', 'iBAQ Adult_05_Liver', 'iBAQ Adult_06_Liver', 'iBAQ Adult_07_Liver', 'iBAQ Adult_08_Liver', 'iBAQ Adult_09_Liver', 'iBAQ Adult_07_Lung', 'iBAQ Adult_08_Lung', 'iBAQ Adult_09_Lung', 'iBAQ Adult_10_Lung', 'iBAQ Adult_11_Lung', 'iBAQ Adult_12_Lung']\n",
      "['Brain', 'Brain', 'Brain', 'Brain', 'Brain', 'Brain', 'Heart', 'Heart', 'Heart', 'Heart', 'Heart', 'Heart', 'Kidney', 'Kidney', 'Kidney', 'Kidney', 'Kidney', 'Kidney', 'Liver', 'Liver', 'Liver', 'Liver', 'Liver', 'Liver', 'Lung', 'Lung', 'Lung', 'Lung', 'Lung', 'Lung']\n"
     ]
    }
   ],
   "source": [
    "iBAQ_df = iBAQ_df[organ_columns['Brain'] + organ_columns['Heart'] + organ_columns['Kidney'] + organ_columns['Liver'] + organ_columns['Lung']]\n",
    "\n",
    "labels = get_labels(iBAQ_df)\n",
    "print(iBAQ_df.columns.values.tolist())\n",
    "print(labels)"
   ]
  },
  {
   "cell_type": "code",
   "execution_count": 137,
   "metadata": {},
   "outputs": [
    {
     "name": "stdout",
     "output_type": "stream",
     "text": [
      "(20, 4399)\n",
      "(10, 4399)\n",
      "20\n",
      "10\n"
     ]
    }
   ],
   "source": [
    "import numpy as np\n",
    "from sklearn.decomposition import PCA\n",
    "from sklearn.svm import SVC\n",
    "from sklearn import cross_validation\n",
    "from sklearn import preprocessing\n",
    "\n",
    "# Transpose so that proteins are columns (components)\n",
    "# Scale data\n",
    "scaled_data = preprocessing.scale(iBAQ_df.T)\n",
    "\n",
    "#########################\n",
    "#\n",
    "# Split data and labels into test and train groups\n",
    "#\n",
    "#########################\n",
    "\n",
    "### Randomly split:\n",
    "#X_train, X_test, y_train, y_test = cross_validation.train_test_split(iBAQ_df.T, labels, test_size=0.4, random_state=0)\n",
    "\n",
    "X_train = np.concatenate([scaled_data[:4, :], scaled_data[6:10, :], scaled_data[12:16, :], scaled_data[18:22, :], scaled_data[24:28, :], scaled_data[30:34, :]], axis=0)\n",
    "\n",
    "X_test = np.concatenate([scaled_data[4:6, :], scaled_data[10:12, :], scaled_data[16:18, :], scaled_data[22:24, :], scaled_data[28:30, :], scaled_data[34:, :]], axis=0)\n",
    "\n",
    "y_train = labels[:4] + labels[6:10] + labels[12:16] + labels[18:22] + labels[24:28] + labels[30:34]\n",
    "y_test = labels[4:6] + labels[10:12] + labels[16:18] + labels[22:24] + labels[28:30] + labels[34:]\n",
    "\n",
    "print(X_train.shape)\n",
    "print(X_test.shape)\n",
    "print(len(y_train))\n",
    "print(len(y_test))"
   ]
  },
  {
   "cell_type": "code",
   "execution_count": 138,
   "metadata": {},
   "outputs": [
    {
     "name": "stdout",
     "output_type": "stream",
     "text": [
      "(20, 2)\n",
      "(10, 2)\n",
      "['Brain', 'Brain', 'Brain', 'Brain', 'Heart', 'Heart', 'Heart', 'Heart', 'Kidney', 'Kidney', 'Kidney', 'Kidney', 'Liver', 'Liver', 'Liver', 'Liver', 'Lung', 'Lung', 'Lung', 'Lung']\n"
     ]
    }
   ],
   "source": [
    "pca = PCA(n_components=2)\n",
    "pca.fit(X_train)\n",
    "X_t_train = pca.transform(X_train)\n",
    "X_t_test = pca.transform(X_test)\n",
    "\n",
    "print(X_t_train.shape)\n",
    "print(X_t_test.shape)\n",
    "print(y_train)"
   ]
  },
  {
   "cell_type": "code",
   "execution_count": 139,
   "metadata": {},
   "outputs": [],
   "source": [
    "import pandas as pd\n",
    "import matplotlib.pyplot as plt\n",
    "\n",
    "base_dir = 'D:\\\\Images\\\\Classifier\\\\'\n",
    "color_mapping = mq.map_colors(groups, organ_columns)\n",
    "columns = iBAQ_df.columns.values.tolist()\n",
    "train_columns = columns[:4] + columns[6:10] + columns[12:16] + columns[18:22] + columns[24:28] + columns[30:34]\n",
    "\n",
    "per_var, labels = mq.make_scree_plot(pca, base_dir)\n",
    "mq.draw_pca_graph(train_columns, X_t_train, base_dir, color_mapping, per_var, labels)"
   ]
  },
  {
   "cell_type": "markdown",
   "metadata": {},
   "source": [
    "## SVC"
   ]
  },
  {
   "cell_type": "code",
   "execution_count": 140,
   "metadata": {},
   "outputs": [
    {
     "name": "stdout",
     "output_type": "stream",
     "text": [
      "score 0.6\n",
      "pred label ['Heart' 'Heart' 'Heart' 'Heart' 'Heart' 'Heart' 'Liver' 'Liver' 'Lung'\n",
      " 'Lung']\n",
      "actual ['Brain', 'Brain', 'Heart', 'Heart', 'Kidney', 'Kidney', 'Liver', 'Liver', 'Lung', 'Lung']\n"
     ]
    }
   ],
   "source": [
    "#########################\n",
    "#\n",
    "# Basic SVC Classification\n",
    "#\n",
    "#########################\n",
    "\n",
    "from sklearn.metrics import accuracy_score\n",
    "\n",
    "clf = SVC()\n",
    "clf.fit(X_t_train, y_train)\n",
    "y_pred = clf.predict(X_t_test)\n",
    "\n",
    "print('score', accuracy_score(y_pred, y_test))\n",
    "print('pred label', clf.predict(X_t_test))\n",
    "print('actual', y_test)"
   ]
  },
  {
   "cell_type": "code",
   "execution_count": 141,
   "metadata": {
    "collapsed": true
   },
   "outputs": [],
   "source": [
    "#########################\n",
    "#\n",
    "# SVC Variations\n",
    "#\n",
    "#########################\n"
   ]
  },
  {
   "cell_type": "markdown",
   "metadata": {},
   "source": [
    "## K Neighbors"
   ]
  },
  {
   "cell_type": "code",
   "execution_count": 142,
   "metadata": {},
   "outputs": [
    {
     "name": "stdout",
     "output_type": "stream",
     "text": [
      "score 1.0\n",
      "pred ['Brain' 'Brain' 'Heart' 'Heart' 'Kidney' 'Kidney' 'Liver' 'Liver' 'Lung'\n",
      " 'Lung']\n",
      "actual ['Brain', 'Brain', 'Heart', 'Heart', 'Kidney', 'Kidney', 'Liver', 'Liver', 'Lung', 'Lung']\n"
     ]
    }
   ],
   "source": [
    "from sklearn.metrics import accuracy_score\n",
    "from sklearn.neighbors import KNeighborsClassifier\n",
    "\n",
    "knn = KNeighborsClassifier()\n",
    "knn.fit(X_t_train, y_train)\n",
    "y_pred = knn.predict(X_t_test)\n",
    "\n",
    "print('score', accuracy_score(y_pred, y_test))\n",
    "print('pred', y_pred)\n",
    "print('actual', y_test)"
   ]
  },
  {
   "cell_type": "markdown",
   "metadata": {},
   "source": [
    "### Predicting scaled AMT labels with MQ training data"
   ]
  },
  {
   "cell_type": "code",
   "execution_count": 143,
   "metadata": {},
   "outputs": [
    {
     "name": "stdout",
     "output_type": "stream",
     "text": [
      "Index(['1433B_MOUSE', '1433E_MOUSE', '1433F_MOUSE', '1433G_MOUSE',\n",
      "       '1433S_MOUSE', '1433T_MOUSE', '1433Z_MOUSE', '2A5A_MOUSE', '2A5E_MOUSE',\n",
      "       '2A5G_MOUSE',\n",
      "       ...\n",
      "       'YKT6_MOUSE', 'ZC21A_MOUSE', 'ZEP3_MOUSE', 'ZFR_MOUSE', 'ZN583_MOUSE',\n",
      "       'ZN638_MOUSE', 'ZNT3_MOUSE', 'ZO1_MOUSE', 'ZO2_MOUSE', 'Grand Total'],\n",
      "      dtype='object', name='Majority protein IDs', length=2794)\n"
     ]
    }
   ],
   "source": [
    "amt_file = r\"D:\\Q_Rollup_Exports\\amt_proteins.txt\"\n",
    "\n",
    "def load_df(filename):\n",
    "    df = pd.read_csv(filename, sep='\\t', lineterminator='\\r', skiprows=1)\n",
    "    df = df.iloc[:, :-1] # drop last column\n",
    "    df = df.replace(r'\\n',' ', regex=True)\n",
    "    df = df.rename(columns={'\\nMajority protein IDs': 'Majority protein IDs'})\n",
    "    return df\n",
    "\n",
    "amt_df = load_df(amt_file)\n",
    "\n",
    "def scale_down_values(df):\n",
    "    df.iloc[:, 1:] = df.iloc[:,1:].divide(400)\n",
    "    \n",
    "scale_down_values(amt_df)\n",
    "\n",
    "amt_groups = ['Brain']\n",
    "amt_organ_columns = {} # 'Liver': ['iBAQ 04_Liver', 'iBAQ 05_Liver', ...]\n",
    "amt_organ_counts = {} # 'Liver': \n",
    "    \n",
    "amt_df = mq.filter_low_observed(amt_df, amt_groups, amt_organ_columns, amt_organ_counts)\n",
    "mq.log2_normalize(amt_df)\n",
    "mq.median_normalize(amt_filtered_df)\n",
    "\n",
    "amt_df.set_index('Majority protein IDs', inplace = True)\n",
    "amt_df.index = amt_df.index.str.strip() # strip leading spaces\n",
    "amt_df = mq.impute_missing(amt_df)\n",
    "\n",
    "print(amt_df.index)"
   ]
  },
  {
   "cell_type": "code",
   "execution_count": 147,
   "metadata": {},
   "outputs": [
    {
     "name": "stdout",
     "output_type": "stream",
     "text": [
      "(4399, 6)\n"
     ]
    },
    {
     "ename": "ValueError",
     "evalue": "operands could not be broadcast together with shapes (4399,6) (4399,) ",
     "output_type": "error",
     "traceback": [
      "\u001b[1;31m---------------------------------------------------------------------------\u001b[0m",
      "\u001b[1;31mValueError\u001b[0m                                Traceback (most recent call last)",
      "\u001b[1;32m<ipython-input-147-0514a35a2be0>\u001b[0m in \u001b[0;36m<module>\u001b[1;34m()\u001b[0m\n\u001b[0;32m      9\u001b[0m \u001b[0mprint\u001b[0m\u001b[1;33m(\u001b[0m\u001b[0mcombined_df\u001b[0m\u001b[1;33m.\u001b[0m\u001b[0mshape\u001b[0m\u001b[1;33m)\u001b[0m\u001b[1;33m\u001b[0m\u001b[0m\n\u001b[0;32m     10\u001b[0m \u001b[1;33m\u001b[0m\u001b[0m\n\u001b[1;32m---> 11\u001b[1;33m \u001b[0mamt_test\u001b[0m \u001b[1;33m=\u001b[0m \u001b[0mpca\u001b[0m\u001b[1;33m.\u001b[0m\u001b[0mtransform\u001b[0m\u001b[1;33m(\u001b[0m\u001b[0mcombined_df\u001b[0m\u001b[1;33m)\u001b[0m\u001b[1;33m\u001b[0m\u001b[0m\n\u001b[0m\u001b[0;32m     12\u001b[0m \u001b[1;33m\u001b[0m\u001b[0m\n\u001b[0;32m     13\u001b[0m \u001b[0mamt_pred\u001b[0m \u001b[1;33m=\u001b[0m \u001b[0mknn\u001b[0m\u001b[1;33m.\u001b[0m\u001b[0mpredict\u001b[0m\u001b[1;33m(\u001b[0m\u001b[0mamt_test\u001b[0m\u001b[1;33m)\u001b[0m\u001b[1;33m\u001b[0m\u001b[0m\n",
      "\u001b[1;32m~\\AppData\\Local\\Continuum\\anaconda3\\lib\\site-packages\\sklearn\\decomposition\\base.py\u001b[0m in \u001b[0;36mtransform\u001b[1;34m(self, X)\u001b[0m\n\u001b[0;32m    128\u001b[0m         \u001b[0mX\u001b[0m \u001b[1;33m=\u001b[0m \u001b[0mcheck_array\u001b[0m\u001b[1;33m(\u001b[0m\u001b[0mX\u001b[0m\u001b[1;33m)\u001b[0m\u001b[1;33m\u001b[0m\u001b[0m\n\u001b[0;32m    129\u001b[0m         \u001b[1;32mif\u001b[0m \u001b[0mself\u001b[0m\u001b[1;33m.\u001b[0m\u001b[0mmean_\u001b[0m \u001b[1;32mis\u001b[0m \u001b[1;32mnot\u001b[0m \u001b[1;32mNone\u001b[0m\u001b[1;33m:\u001b[0m\u001b[1;33m\u001b[0m\u001b[0m\n\u001b[1;32m--> 130\u001b[1;33m             \u001b[0mX\u001b[0m \u001b[1;33m=\u001b[0m \u001b[0mX\u001b[0m \u001b[1;33m-\u001b[0m \u001b[0mself\u001b[0m\u001b[1;33m.\u001b[0m\u001b[0mmean_\u001b[0m\u001b[1;33m\u001b[0m\u001b[0m\n\u001b[0m\u001b[0;32m    131\u001b[0m         \u001b[0mX_transformed\u001b[0m \u001b[1;33m=\u001b[0m \u001b[0mnp\u001b[0m\u001b[1;33m.\u001b[0m\u001b[0mdot\u001b[0m\u001b[1;33m(\u001b[0m\u001b[0mX\u001b[0m\u001b[1;33m,\u001b[0m \u001b[0mself\u001b[0m\u001b[1;33m.\u001b[0m\u001b[0mcomponents_\u001b[0m\u001b[1;33m.\u001b[0m\u001b[0mT\u001b[0m\u001b[1;33m)\u001b[0m\u001b[1;33m\u001b[0m\u001b[0m\n\u001b[0;32m    132\u001b[0m         \u001b[1;32mif\u001b[0m \u001b[0mself\u001b[0m\u001b[1;33m.\u001b[0m\u001b[0mwhiten\u001b[0m\u001b[1;33m:\u001b[0m\u001b[1;33m\u001b[0m\u001b[0m\n",
      "\u001b[1;31mValueError\u001b[0m: operands could not be broadcast together with shapes (4399,6) (4399,) "
     ]
    }
   ],
   "source": [
    "\"\"\"scaled_amt = preprocessing.scale(amt_df)\n",
    "\n",
    "print(scaled_amt.shape)\n",
    "amt_test = pca.transform(scaled_amt)\n",
    "\"\"\"\n",
    "### Join dataframes; Only keep columns from amt_df\n",
    "combined_df = iBAQ_df.iloc[:, :0].join(amt_df)\n",
    "combined_df = mq.impute_missing(combined_df)\n",
    "print(combined_df.shape)\n",
    "\n",
    "amt_test = pca.transform(combined_df)\n",
    "\n",
    "amt_pred = knn.predict(amt_test)\n",
    "print('pred', amt_pred)"
   ]
  },
  {
   "cell_type": "markdown",
   "metadata": {},
   "source": [
    "## Random Forest"
   ]
  },
  {
   "cell_type": "markdown",
   "metadata": {},
   "source": [
    "## Decision Tree"
   ]
  },
  {
   "cell_type": "markdown",
   "metadata": {},
   "source": [
    "## Naive Bayes/LDA"
   ]
  }
 ],
 "metadata": {
  "kernelspec": {
   "display_name": "Python 3",
   "language": "python",
   "name": "python3"
  },
  "language_info": {
   "codemirror_mode": {
    "name": "ipython",
    "version": 3
   },
   "file_extension": ".py",
   "mimetype": "text/x-python",
   "name": "python",
   "nbconvert_exporter": "python",
   "pygments_lexer": "ipython3",
   "version": "3.6.3"
  }
 },
 "nbformat": 4,
 "nbformat_minor": 2
}
