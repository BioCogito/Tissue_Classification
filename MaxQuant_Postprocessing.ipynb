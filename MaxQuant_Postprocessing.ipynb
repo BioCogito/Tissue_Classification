{
 "cells": [
  {
   "cell_type": "markdown",
   "metadata": {},
   "source": [
    "# Post Processing of MaxQuant output (proteinGroups.txt)"
   ]
  },
  {
   "cell_type": "markdown",
   "metadata": {},
   "source": [
    "## Import Data"
   ]
  },
  {
   "cell_type": "code",
   "execution_count": 1462,
   "metadata": {
    "collapsed": true,
    "scrolled": true
   },
   "outputs": [],
   "source": [
    "import matplotlib.pyplot as plt\n",
    "import numpy as np\n",
    "import pandas as pd\n",
    "import re\n",
    "from scipy.cluster.hierarchy import dendrogram, linkage\n",
    "import scipy.stats as stats\n",
    "import seaborn as sns\n",
    "from sklearn.decomposition import PCA\n",
    "from sklearn import preprocessing\n",
    "from statsmodels.stats.multicomp import pairwise_tukeyhsd\n",
    "from statsmodels.stats.multicomp import MultiComparison"
   ]
  },
  {
   "cell_type": "code",
   "execution_count": 1463,
   "metadata": {
    "collapsed": true
   },
   "outputs": [],
   "source": [
    "default_graph_dimensions = (10, 6)"
   ]
  },
  {
   "cell_type": "code",
   "execution_count": 1464,
   "metadata": {
    "scrolled": true
   },
   "outputs": [
    {
     "name": "stdout",
     "output_type": "stream",
     "text": [
      "     Protein IDs Majority protein IDs Peptide counts (all)  \\\n",
      "0  \\n1433B_MOUSE          1433B_MOUSE                   25   \n",
      "1  \\n1433E_MOUSE          1433E_MOUSE                   27   \n",
      "2  \\n1433F_MOUSE          1433F_MOUSE                   28   \n",
      "3  \\n1433G_MOUSE          1433G_MOUSE                   23   \n",
      "4  \\n1433S_MOUSE          1433S_MOUSE                   13   \n",
      "\n",
      "  Peptide counts (razor+unique) Peptide counts (unique)  \\\n",
      "0                            18                      16   \n",
      "1                            25                      25   \n",
      "2                            25                      24   \n",
      "3                            17                      17   \n",
      "4                            11                      11   \n",
      "\n",
      "                                       Fasta headers  Number of proteins  \\\n",
      "0  >1433B_MOUSE 14-3-3 protein beta/alpha; AltNam...                 1.0   \n",
      "1  >1433E_MOUSE 14-3-3 protein epsilon; Short=14-...                 1.0   \n",
      "2  >1433F_MOUSE 14-3-3 protein eta; Accession=P68...                 1.0   \n",
      "3  >1433G_MOUSE 14-3-3 protein gamma; Contains: 1...                 1.0   \n",
      "4  >1433S_MOUSE 14-3-3 protein sigma; AltName: Fu...                 1.0   \n",
      "\n",
      "   Peptides  Razor + unique peptides  Unique peptides          ...            \\\n",
      "0      25.0                     18.0             16.0          ...             \n",
      "1      27.0                     25.0             25.0          ...             \n",
      "2      28.0                     25.0             24.0          ...             \n",
      "3      23.0                     17.0             17.0          ...             \n",
      "4      13.0                     11.0             11.0          ...             \n",
      "\n",
      "   MS/MS Count 11_Kidney  MS/MS Count 11_Lung  MS/MS Count 12_Brain  \\\n",
      "0                   14.0                 15.0                  27.0   \n",
      "1                   22.0                 19.0                  38.0   \n",
      "2                    8.0                 18.0                  34.0   \n",
      "3                   13.0                 13.0                  25.0   \n",
      "4                    5.0                  4.0                   1.0   \n",
      "\n",
      "   MS/MS Count 12_Heart  MS/MS Count 12_Kidney  MS/MS Count 12_Lung  \\\n",
      "0                   8.0                   13.0                 16.0   \n",
      "1                  14.0                   24.0                 25.0   \n",
      "2                   7.0                   10.0                 13.0   \n",
      "3                  10.0                   11.0                 12.0   \n",
      "4                   1.0                    3.0                  4.0   \n",
      "\n",
      "   MS/MS Count  Only identified by site  Reverse  Potential contaminant  \n",
      "0        456.0                      NaN      NaN                    NaN  \n",
      "1        690.0                      NaN      NaN                    NaN  \n",
      "2        456.0                      NaN      NaN                    NaN  \n",
      "3        491.0                      NaN      NaN                    NaN  \n",
      "4         70.0                      NaN      NaN                    NaN  \n",
      "\n",
      "[5 rows x 294 columns]\n"
     ]
    }
   ],
   "source": [
    "\"\"\"\n",
    "Input: Path to tab separated file\n",
    "Output: Pandas dataframe\n",
    "\"\"\"\n",
    "\n",
    "def load_data(file):\n",
    "    df = pd.read_csv(file, sep='\\t', lineterminator='\\r', dtype={\"Only identified by site\": str, \"Reverse\": str})\n",
    "    return df\n",
    "\n",
    "datafile=\"D:\\proteinGroupsCleaned.txt\"  # From Geremy\n",
    "#datafile=\"D:\\proteinGroups.txt\" # My file\n",
    "\n",
    "df = load_data(datafile)\n",
    "print(df.head())"
   ]
  },
  {
   "cell_type": "markdown",
   "metadata": {},
   "source": [
    "## Clean Data\n",
    "* Remove rows corresponding to the proteins only identified by site/Reverse/Potential contaminant\n",
    "* Remove rows with multiple protein IDs\n",
    "* Extract separately the LFQ and the iBAQ quantification info\n"
   ]
  },
  {
   "cell_type": "code",
   "execution_count": 1465,
   "metadata": {
    "scrolled": true
   },
   "outputs": [
    {
     "name": "stdout",
     "output_type": "stream",
     "text": [
      "Before: 13 64 21\n",
      "After: 0 0 0\n"
     ]
    }
   ],
   "source": [
    "def remove_weakly_identified(df):\n",
    "    df = df[(df['Only identified by site'] != '+') & (df.Reverse != '+') & (df['Potential contaminant'] != '+')]\n",
    "    return df\n",
    "    \n",
    "print(\"Before:\", len(df[df['Only identified by site'] == '+']), len(df[df['Reverse'] == '+']), len(df[df['Potential contaminant'] == '+']))\n",
    "\n",
    "df = remove_weakly_identified(df)\n",
    "\n",
    "print(\"After:\", len(df[df['Only identified by site'] == '+']), len(df[df['Reverse'] == '+']), len(df[df['Potential contaminant'] == '+']))"
   ]
  },
  {
   "cell_type": "code",
   "execution_count": 1466,
   "metadata": {},
   "outputs": [
    {
     "name": "stdout",
     "output_type": "stream",
     "text": [
      "Before: 71\n",
      "After: 0\n"
     ]
    }
   ],
   "source": [
    "\"\"\"\n",
    "Input: Dataframe\n",
    "Output: Dataframe where rows with multiple proteinIDs have been removed\n",
    "\"\"\"\n",
    "def remove_dup_proteinIDs(df):\n",
    "    single_proteinID = df['Majority protein IDs'].str.contains(';')==False\n",
    "    df = df[single_proteinID]\n",
    "    return df\n",
    "\n",
    "print(\"Before:\", len(df[df['Majority protein IDs'].str.contains(';', na=False)]))\n",
    "\n",
    "df = remove_dup_proteinIDs(df)\n",
    "\n",
    "print(\"After:\", len(df[df['Majority protein IDs'].str.contains(';', na=False)]))"
   ]
  },
  {
   "cell_type": "code",
   "execution_count": 1467,
   "metadata": {
    "scrolled": true
   },
   "outputs": [
    {
     "name": "stdout",
     "output_type": "stream",
     "text": [
      "***** LFQ_df:\n",
      "   Majority protein IDs  LFQ intensity 04_Liver  LFQ intensity 05_Liver  \\\n",
      "0          1433B_MOUSE            2.093000e+09            1.998200e+09   \n",
      "1          1433E_MOUSE            3.903200e+09            4.020100e+09   \n",
      "2          1433F_MOUSE            7.336300e+08            8.709900e+08   \n",
      "3          1433G_MOUSE            2.660800e+09            2.614600e+09   \n",
      "4          1433S_MOUSE            0.000000e+00            1.399700e+09   \n",
      "\n",
      "   LFQ intensity 06_Liver  LFQ intensity 07_Brain  LFQ intensity 07_Heart  \\\n",
      "0            2.184700e+09            1.371400e+10            1.790900e+09   \n",
      "1            3.902000e+09            1.655000e+10            5.943600e+09   \n",
      "2            9.208000e+08            9.259900e+09            1.254300e+09   \n",
      "3            3.038100e+09            2.334300e+10            3.877100e+09   \n",
      "4            1.961200e+09            7.550100e+09            0.000000e+00   \n",
      "\n",
      "   LFQ intensity 07_Kidney  LFQ intensity 07_Liver  LFQ intensity 07_Lung  \\\n",
      "0             3.646500e+09            2.100500e+09           6.564000e+09   \n",
      "1             4.812300e+09            4.308700e+09           8.324200e+09   \n",
      "2             9.308100e+08            8.335800e+08           2.578800e+09   \n",
      "3             1.920400e+09            2.485100e+09           3.408700e+09   \n",
      "4             1.748500e+09            0.000000e+00           4.181100e+09   \n",
      "\n",
      "   LFQ intensity 08_Brain          ...            LFQ intensity 10_Kidney  \\\n",
      "0            1.276800e+10          ...                       3.375900e+09   \n",
      "1            1.856200e+10          ...                       5.653300e+09   \n",
      "2            8.774000e+09          ...                       1.228200e+09   \n",
      "3            2.098900e+10          ...                       1.753100e+09   \n",
      "4            7.816300e+09          ...                       1.928700e+09   \n",
      "\n",
      "   LFQ intensity 10_Lung  LFQ intensity 11_Brain  LFQ intensity 11_Heart  \\\n",
      "0           5.762500e+09            1.328100e+10            1.681700e+09   \n",
      "1           9.198000e+09            1.806800e+10            6.031200e+09   \n",
      "2           2.579100e+09            1.012300e+10            1.495600e+09   \n",
      "3           3.620500e+09            2.235000e+10            4.015100e+09   \n",
      "4           2.936400e+09            7.350000e+09            0.000000e+00   \n",
      "\n",
      "   LFQ intensity 11_Kidney  LFQ intensity 11_Lung  LFQ intensity 12_Brain  \\\n",
      "0             3.610600e+09           6.890900e+09            1.276600e+10   \n",
      "1             5.957400e+09           1.040700e+10            2.073200e+10   \n",
      "2             1.167300e+09           3.055000e+09            1.032900e+10   \n",
      "3             1.995300e+09           4.003500e+09            2.400300e+10   \n",
      "4             1.999800e+09           4.261600e+09            1.026100e+10   \n",
      "\n",
      "   LFQ intensity 12_Heart  LFQ intensity 12_Kidney  LFQ intensity 12_Lung  \n",
      "0            1.619700e+09             3.560800e+09           5.828600e+09  \n",
      "1            6.101600e+09             5.434300e+09           9.840500e+09  \n",
      "2            1.340300e+09             1.068800e+09           3.245300e+09  \n",
      "3            4.576800e+09             1.560500e+09           4.049600e+09  \n",
      "4            0.000000e+00             2.214600e+09           4.700600e+09  \n",
      "\n",
      "[5 rows x 31 columns]\n",
      "\n",
      "***** iBAQ_df:\n",
      "   Majority protein IDs  iBAQ 04_Liver  iBAQ 05_Liver  iBAQ 06_Liver  \\\n",
      "0          1433B_MOUSE     98046000.0    108870000.0    156960000.0   \n",
      "1          1433E_MOUSE    252490000.0    276160000.0    265140000.0   \n",
      "2          1433F_MOUSE     28535000.0     46298000.0     35928000.0   \n",
      "3          1433G_MOUSE    178830000.0    183670000.0    191430000.0   \n",
      "4          1433S_MOUSE     53834000.0     61420000.0     92700000.0   \n",
      "\n",
      "   iBAQ 07_Brain  iBAQ 07_Heart  iBAQ 07_Kidney  iBAQ 07_Liver  iBAQ 07_Lung  \\\n",
      "0   9.999600e+08     54600000.0     201800000.0     71541000.0   332420000.0   \n",
      "1   9.378300e+08    141360000.0     288800000.0    292600000.0   380270000.0   \n",
      "2   7.143400e+08     25147000.0      42225000.0     29384000.0   103620000.0   \n",
      "3   1.682100e+09    104430000.0     129570000.0    175590000.0   143240000.0   \n",
      "4   5.072200e+08     42272000.0      76248000.0     68639000.0   149120000.0   \n",
      "\n",
      "   iBAQ 08_Brain      ...       iBAQ 10_Kidney  iBAQ 10_Lung  iBAQ 11_Brain  \\\n",
      "0   9.681700e+08      ...          111510000.0   279310000.0   9.488200e+08   \n",
      "1   1.455600e+09      ...          170950000.0   399690000.0   1.130800e+09   \n",
      "2   5.975700e+08      ...           30286000.0    83130000.0   6.923000e+08   \n",
      "3   1.396700e+09      ...           55629000.0   148700000.0   1.287100e+09   \n",
      "4   5.341800e+08      ...           76782000.0   144840000.0   4.503800e+08   \n",
      "\n",
      "   iBAQ 11_Heart  iBAQ 11_Kidney  iBAQ 11_Lung  iBAQ 12_Brain  iBAQ 12_Heart  \\\n",
      "0     48104000.0     199000000.0   293140000.0   8.794500e+08     52335000.0   \n",
      "1    121010000.0     383140000.0   417400000.0   1.319100e+09    143800000.0   \n",
      "2     27136000.0      48996000.0   101160000.0   7.103700e+08     26118000.0   \n",
      "3     99296000.0      97703000.0   145570000.0   1.376100e+09    109800000.0   \n",
      "4     39513000.0     106010000.0   151510000.0   5.030800e+08     48631000.0   \n",
      "\n",
      "   iBAQ 12_Kidney  iBAQ 12_Lung  \n",
      "0     138180000.0   195620000.0  \n",
      "1     377830000.0   297060000.0  \n",
      "2      47127000.0    79035000.0  \n",
      "3      64801000.0   103700000.0  \n",
      "4      95807000.0   131840000.0  \n",
      "\n",
      "[5 rows x 31 columns]\n"
     ]
    }
   ],
   "source": [
    "### TODO: 'Majority protein IDs' hard coded. Column name for iBAQ must include space to exclude \"iBAQ\" column\n",
    "\n",
    "\"\"\"\n",
    "Input: Original dataframe\n",
    "Output: Dataframe slice containing quant info for the specified columns\n",
    "\"\"\"\n",
    "def slice_by_column(df, col_name):\n",
    "    selected_columns = col_name + '.*|Majority protein IDs'\n",
    "    df_slice = df.filter(regex=(selected_columns))\n",
    "    return df_slice\n",
    "\n",
    "### Take separate df slices for different quant techniques\n",
    "\n",
    "LFQ_df = slice_by_column(df, 'LFQ')\n",
    "print(\"***** LFQ_df:\\n\", LFQ_df.head())\n",
    "\n",
    "iBAQ_df = slice_by_column(df, 'iBAQ ')\n",
    "print(\"\\n***** iBAQ_df:\\n\", iBAQ_df.head())"
   ]
  },
  {
   "cell_type": "markdown",
   "metadata": {},
   "source": [
    "## Normalize\n",
    "### For both LFQ and iBAQ:\n",
    "* Consider only the proteins observed at least in 50 percent of the sample for at least one organ for quantification\n",
    "* log2 normalize\n",
    "* Median normalize: the median of the log2(LFQ or IBAQ) of each protein in a given sample is used to normalize all the protein abundance of this sample, then multiply all the resulting values by the median of the medians\n",
    "* Impute the missing values: the minimum of the resulting table divided by 2\n"
   ]
  },
  {
   "cell_type": "code",
   "execution_count": 1468,
   "metadata": {},
   "outputs": [
    {
     "name": "stdout",
     "output_type": "stream",
     "text": [
      "(5530, 31)\n",
      "(5498, 31)\n"
     ]
    }
   ],
   "source": [
    "#########################\n",
    "#\n",
    "# Filter out proteins where quant value is 0 for >= 50% of samples for all organs\n",
    "#\n",
    "#########################\n",
    "\n",
    "num_mice = 6\n",
    "threshold = num_mice/2\n",
    "\n",
    "print(iBAQ_df.shape)\n",
    "\n",
    "# Group by organ\n",
    "iBAQ_cols = iBAQ_df.columns.values.tolist()\n",
    "organs = ['Liver', 'Kidney', 'Lung', 'Brain', 'Heart']\n",
    "organ_columns = {} # 'liver': ['iBAQ 04_Liver', 'iBAQ 05_Liver', ...]\n",
    "column_to_group = {} # 'iBAQ 04_liver' : 'liver'\n",
    "organ_counts = {} # 'liver': \n",
    "\n",
    "# Create list of column names corresponding to each organ\n",
    "for organ in organs:\n",
    "    regex = re.compile(r'.*' + organ)\n",
    "    org = organ.lower()\n",
    "    organ_columns[org] = list(filter(regex.search, iBAQ_cols))\n",
    "    cols = organ_columns[org] # Get corresponding list of column names\n",
    "    organ_counts[org] = (iBAQ_df[cols] > 0).sum(1) # count number of samples with non-zero abundance for each protein\n",
    "    for col in cols: # Fill in dict mapping column name to group\n",
    "        column_to_group[col] = org \n",
    "\n",
    "iBAQ_df = iBAQ_df[(organ_counts['liver'] >= threshold) | (organ_counts['lung'] >= threshold) | (organ_counts['heart'] >= threshold) | (organ_counts['kidney'] >= threshold) | (organ_counts['brain'] >= threshold)]\n",
    "    \n",
    "print(iBAQ_df.shape)"
   ]
  },
  {
   "cell_type": "code",
   "execution_count": 1469,
   "metadata": {},
   "outputs": [
    {
     "data": {
      "image/png": "[encoded data removed]",
      "text/plain": [
       "<matplotlib.figure.Figure at 0x1c45f128>"
      ]
     },
     "metadata": {},
     "output_type": "display_data"
    }
   ],
   "source": [
    "#########################\n",
    "#\n",
    "# Unnormalized data abundances \n",
    "#\n",
    "#########################\n",
    "\n",
    "# Group columns by organ so x-axis will be sorted accordingly\n",
    "iBAQ_df = iBAQ_df[['Majority protein IDs'] + organ_columns['brain'] + organ_columns['heart'] + organ_columns['kidney'] + organ_columns['liver'] + organ_columns['lung']]\n",
    "\n",
    "iBAQ_df.plot(kind='box', return_type='axes', figsize=(10,6))\n",
    "plt.xticks(rotation='vertical')\n",
    "\n",
    "plt.savefig(r'D:\\Images\\unnormalized_abundances.pdf', bbox_inches=\"tight\")\n",
    "plt.show()"
   ]
  },
  {
   "cell_type": "code",
   "execution_count": 1470,
   "metadata": {},
   "outputs": [
    {
     "name": "stderr",
     "output_type": "stream",
     "text": [
      "C:\\Users\\kush494\\AppData\\Local\\Continuum\\anaconda3\\lib\\site-packages\\pandas\\core\\frame.py:4451: RuntimeWarning: divide by zero encountered in log2\n",
      "  return lib.map_infer(x.asobject, func)\n"
     ]
    },
    {
     "name": "stdout",
     "output_type": "stream",
     "text": [
      "  Majority protein IDs  iBAQ 07_Brain  iBAQ 08_Brain  iBAQ 09_Brain  \\\n",
      "0          1433B_MOUSE      29.897295      29.850685      29.509337   \n",
      "1          1433E_MOUSE      29.804751      30.438967      29.688125   \n",
      "2          1433F_MOUSE      29.412036      29.154532      29.276819   \n",
      "3          1433G_MOUSE      30.647616      30.379375      30.266065   \n",
      "4          1433S_MOUSE      28.918036      28.992751      28.983974   \n",
      "\n",
      "   iBAQ 10_Brain  iBAQ 11_Brain  iBAQ 12_Brain  iBAQ 07_Heart  iBAQ 08_Heart  \\\n",
      "0      29.094665      29.821559      29.712026      25.702398      25.617593   \n",
      "1      29.719928      30.074697      30.296907      27.074799      26.930328   \n",
      "2      29.065045      29.366822      29.403995      24.583883      24.376236   \n",
      "3      30.238656      30.261477      30.357938      26.637961      26.518558   \n",
      "4      28.582441      28.746568      28.906213      25.333199      25.168826   \n",
      "\n",
      "   iBAQ 09_Heart      ...       iBAQ 06_Liver  iBAQ 07_Liver  iBAQ 08_Liver  \\\n",
      "0      25.876825      ...           27.225822      26.092267      26.827114   \n",
      "1      26.935283      ...           27.982179      28.124355      28.219004   \n",
      "2      24.540319      ...           25.098605      24.808527      25.307129   \n",
      "3      26.519923      ...           27.512242      27.387635      27.547676   \n",
      "4      25.050759      ...           26.466066      26.032525      25.697634   \n",
      "\n",
      "   iBAQ 09_Liver  iBAQ 07_Lung  iBAQ 08_Lung  iBAQ 09_Lung  iBAQ 10_Lung  \\\n",
      "0      26.561391     28.308432     28.313760     28.388826     28.057292   \n",
      "1      27.603216     28.502449     28.742783     28.915503     28.574306   \n",
      "2      25.049679     26.626727     26.641962     26.870560     26.308866   \n",
      "3      27.233431     27.093859     27.388949     27.346465     27.147829   \n",
      "4      25.836703     27.151899     27.180540     27.339091     27.109885   \n",
      "\n",
      "   iBAQ 11_Lung  iBAQ 12_Lung  \n",
      "0     28.127015     27.543479  \n",
      "1     28.636855     28.146179  \n",
      "2     26.592064     26.235988  \n",
      "3     27.117138     26.627841  \n",
      "4     27.174838     26.974213  \n",
      "\n",
      "[5 rows x 31 columns]\n"
     ]
    }
   ],
   "source": [
    "#########################\n",
    "#\n",
    "# log2 normalize\n",
    "#\n",
    "#########################\n",
    "\n",
    "iBAQ_df.iloc[:,1:] = iBAQ_df.iloc[:,1:].applymap(np.log2)\n",
    "\n",
    "print(iBAQ_df.head())\n",
    "\n",
    "# log2(0) returns -inf; replace with NaN to avoid skewing data\n",
    "iBAQ_df.replace([np.inf, -np.inf], np.nan, inplace=True)"
   ]
  },
  {
   "cell_type": "code",
   "execution_count": 1471,
   "metadata": {
    "collapsed": true
   },
   "outputs": [],
   "source": [
    "#########################\n",
    "#\n",
    "# Map organs to colors for visualization clarity \n",
    "#\n",
    "#########################\n",
    "\n",
    "color_dict = {} # Column name : color\n",
    "num_colors = 6\n",
    "colors = sns.color_palette(\"hls\", num_colors)\n",
    "color = 0\n",
    "\n",
    "for organ in organs:\n",
    "    cols = organ_columns[organ.lower()] # Get the list of column names for the organ\n",
    "    for col in cols:\n",
    "        color_dict[col] = colors[color % len(colors)]\n",
    "    color += 1"
   ]
  },
  {
   "cell_type": "code",
   "execution_count": 1472,
   "metadata": {},
   "outputs": [
    {
     "ename": "KeyboardInterrupt",
     "evalue": "",
     "output_type": "error",
     "traceback": [
      "\u001b[1;31m---------------------------------------------------------------------------\u001b[0m",
      "\u001b[1;31mKeyboardInterrupt\u001b[0m                         Traceback (most recent call last)",
      "\u001b[1;32m<ipython-input-1472-176019df3790>\u001b[0m in \u001b[0;36m<module>\u001b[1;34m()\u001b[0m\n\u001b[0;32m      5\u001b[0m \u001b[1;31m#########################\u001b[0m\u001b[1;33m\u001b[0m\u001b[1;33m\u001b[0m\u001b[0m\n\u001b[0;32m      6\u001b[0m \u001b[1;33m\u001b[0m\u001b[0m\n\u001b[1;32m----> 7\u001b[1;33m \u001b[0miBAQ_df\u001b[0m\u001b[1;33m.\u001b[0m\u001b[0mboxplot\u001b[0m\u001b[1;33m(\u001b[0m\u001b[0mreturn_type\u001b[0m\u001b[1;33m=\u001b[0m\u001b[1;34m'axes'\u001b[0m\u001b[1;33m,\u001b[0m \u001b[0mfigsize\u001b[0m\u001b[1;33m=\u001b[0m\u001b[1;33m(\u001b[0m\u001b[1;36m10\u001b[0m\u001b[1;33m,\u001b[0m\u001b[1;36m6\u001b[0m\u001b[1;33m)\u001b[0m\u001b[1;33m,\u001b[0m \u001b[0mpatch_artist\u001b[0m \u001b[1;33m=\u001b[0m \u001b[1;32mTrue\u001b[0m\u001b[1;33m)\u001b[0m\u001b[1;33m\u001b[0m\u001b[0m\n\u001b[0m\u001b[0;32m      8\u001b[0m \u001b[1;33m\u001b[0m\u001b[0m\n\u001b[0;32m      9\u001b[0m \u001b[1;31m#c=[color_dict.get(x, 'gray') for x in iBAQ_df.columns[1:]])\u001b[0m\u001b[1;33m\u001b[0m\u001b[1;33m\u001b[0m\u001b[0m\n",
      "\u001b[1;32m~\\AppData\\Local\\Continuum\\anaconda3\\lib\\site-packages\\pandas\\core\\frame.py\u001b[0m in \u001b[0;36mboxplot\u001b[1;34m(self, column, by, ax, fontsize, rot, grid, figsize, layout, return_type, **kwds)\u001b[0m\n\u001b[0;32m   5845\u001b[0m     ax = boxplot(self, column=column, by=by, ax=ax, fontsize=fontsize,\n\u001b[0;32m   5846\u001b[0m                  \u001b[0mgrid\u001b[0m\u001b[1;33m=\u001b[0m\u001b[0mgrid\u001b[0m\u001b[1;33m,\u001b[0m \u001b[0mrot\u001b[0m\u001b[1;33m=\u001b[0m\u001b[0mrot\u001b[0m\u001b[1;33m,\u001b[0m \u001b[0mfigsize\u001b[0m\u001b[1;33m=\u001b[0m\u001b[0mfigsize\u001b[0m\u001b[1;33m,\u001b[0m \u001b[0mlayout\u001b[0m\u001b[1;33m=\u001b[0m\u001b[0mlayout\u001b[0m\u001b[1;33m,\u001b[0m\u001b[1;33m\u001b[0m\u001b[0m\n\u001b[1;32m-> 5847\u001b[1;33m                  return_type=return_type, **kwds)\n\u001b[0m\u001b[0;32m   5848\u001b[0m     \u001b[0mplt\u001b[0m\u001b[1;33m.\u001b[0m\u001b[0mdraw_if_interactive\u001b[0m\u001b[1;33m(\u001b[0m\u001b[1;33m)\u001b[0m\u001b[1;33m\u001b[0m\u001b[0m\n\u001b[0;32m   5849\u001b[0m     \u001b[1;32mreturn\u001b[0m \u001b[0max\u001b[0m\u001b[1;33m\u001b[0m\u001b[0m\n",
      "\u001b[1;32m~\\AppData\\Local\\Continuum\\anaconda3\\lib\\site-packages\\pandas\\plotting\\_core.py\u001b[0m in \u001b[0;36mboxplot\u001b[1;34m(data, column, by, ax, fontsize, rot, grid, figsize, layout, return_type, **kwds)\u001b[0m\n\u001b[0;32m   2018\u001b[0m             \u001b[0mdata\u001b[0m \u001b[1;33m=\u001b[0m \u001b[0mdata\u001b[0m\u001b[1;33m[\u001b[0m\u001b[0mcolumns\u001b[0m\u001b[1;33m]\u001b[0m\u001b[1;33m\u001b[0m\u001b[0m\n\u001b[0;32m   2019\u001b[0m \u001b[1;33m\u001b[0m\u001b[0m\n\u001b[1;32m-> 2020\u001b[1;33m         \u001b[0mresult\u001b[0m \u001b[1;33m=\u001b[0m \u001b[0mplot_group\u001b[0m\u001b[1;33m(\u001b[0m\u001b[0mcolumns\u001b[0m\u001b[1;33m,\u001b[0m \u001b[0mdata\u001b[0m\u001b[1;33m.\u001b[0m\u001b[0mvalues\u001b[0m\u001b[1;33m.\u001b[0m\u001b[0mT\u001b[0m\u001b[1;33m,\u001b[0m \u001b[0max\u001b[0m\u001b[1;33m)\u001b[0m\u001b[1;33m\u001b[0m\u001b[0m\n\u001b[0m\u001b[0;32m   2021\u001b[0m         \u001b[0max\u001b[0m\u001b[1;33m.\u001b[0m\u001b[0mgrid\u001b[0m\u001b[1;33m(\u001b[0m\u001b[0mgrid\u001b[0m\u001b[1;33m)\u001b[0m\u001b[1;33m\u001b[0m\u001b[0m\n\u001b[0;32m   2022\u001b[0m \u001b[1;33m\u001b[0m\u001b[0m\n",
      "\u001b[1;32m~\\AppData\\Local\\Continuum\\anaconda3\\lib\\site-packages\\pandas\\plotting\\_core.py\u001b[0m in \u001b[0;36mplot_group\u001b[1;34m(keys, values, ax)\u001b[0m\n\u001b[0;32m   1969\u001b[0m         \u001b[0mkeys\u001b[0m \u001b[1;33m=\u001b[0m \u001b[1;33m[\u001b[0m\u001b[0mpprint_thing\u001b[0m\u001b[1;33m(\u001b[0m\u001b[0mx\u001b[0m\u001b[1;33m)\u001b[0m \u001b[1;32mfor\u001b[0m \u001b[0mx\u001b[0m \u001b[1;32min\u001b[0m \u001b[0mkeys\u001b[0m\u001b[1;33m]\u001b[0m\u001b[1;33m\u001b[0m\u001b[0m\n\u001b[0;32m   1970\u001b[0m         \u001b[0mvalues\u001b[0m \u001b[1;33m=\u001b[0m \u001b[1;33m[\u001b[0m\u001b[0mremove_na\u001b[0m\u001b[1;33m(\u001b[0m\u001b[0mv\u001b[0m\u001b[1;33m)\u001b[0m \u001b[1;32mfor\u001b[0m \u001b[0mv\u001b[0m \u001b[1;32min\u001b[0m \u001b[0mvalues\u001b[0m\u001b[1;33m]\u001b[0m\u001b[1;33m\u001b[0m\u001b[0m\n\u001b[1;32m-> 1971\u001b[1;33m         \u001b[0mbp\u001b[0m \u001b[1;33m=\u001b[0m \u001b[0max\u001b[0m\u001b[1;33m.\u001b[0m\u001b[0mboxplot\u001b[0m\u001b[1;33m(\u001b[0m\u001b[0mvalues\u001b[0m\u001b[1;33m,\u001b[0m \u001b[1;33m**\u001b[0m\u001b[0mkwds\u001b[0m\u001b[1;33m)\u001b[0m\u001b[1;33m\u001b[0m\u001b[0m\n\u001b[0m\u001b[0;32m   1972\u001b[0m         \u001b[1;32mif\u001b[0m \u001b[0mfontsize\u001b[0m \u001b[1;32mis\u001b[0m \u001b[1;32mnot\u001b[0m \u001b[1;32mNone\u001b[0m\u001b[1;33m:\u001b[0m\u001b[1;33m\u001b[0m\u001b[0m\n\u001b[0;32m   1973\u001b[0m             \u001b[0max\u001b[0m\u001b[1;33m.\u001b[0m\u001b[0mtick_params\u001b[0m\u001b[1;33m(\u001b[0m\u001b[0maxis\u001b[0m\u001b[1;33m=\u001b[0m\u001b[1;34m'both'\u001b[0m\u001b[1;33m,\u001b[0m \u001b[0mlabelsize\u001b[0m\u001b[1;33m=\u001b[0m\u001b[0mfontsize\u001b[0m\u001b[1;33m)\u001b[0m\u001b[1;33m\u001b[0m\u001b[0m\n",
      "\u001b[1;32m~\\AppData\\Local\\Continuum\\anaconda3\\lib\\site-packages\\matplotlib\\__init__.py\u001b[0m in \u001b[0;36minner\u001b[1;34m(ax, *args, **kwargs)\u001b[0m\n\u001b[0;32m   1708\u001b[0m                     warnings.warn(msg % (label_namer, func.__name__),\n\u001b[0;32m   1709\u001b[0m                                   RuntimeWarning, stacklevel=2)\n\u001b[1;32m-> 1710\u001b[1;33m             \u001b[1;32mreturn\u001b[0m \u001b[0mfunc\u001b[0m\u001b[1;33m(\u001b[0m\u001b[0max\u001b[0m\u001b[1;33m,\u001b[0m \u001b[1;33m*\u001b[0m\u001b[0margs\u001b[0m\u001b[1;33m,\u001b[0m \u001b[1;33m**\u001b[0m\u001b[0mkwargs\u001b[0m\u001b[1;33m)\u001b[0m\u001b[1;33m\u001b[0m\u001b[0m\n\u001b[0m\u001b[0;32m   1711\u001b[0m         \u001b[0mpre_doc\u001b[0m \u001b[1;33m=\u001b[0m \u001b[0minner\u001b[0m\u001b[1;33m.\u001b[0m\u001b[0m__doc__\u001b[0m\u001b[1;33m\u001b[0m\u001b[0m\n\u001b[0;32m   1712\u001b[0m         \u001b[1;32mif\u001b[0m \u001b[0mpre_doc\u001b[0m \u001b[1;32mis\u001b[0m \u001b[1;32mNone\u001b[0m\u001b[1;33m:\u001b[0m\u001b[1;33m\u001b[0m\u001b[0m\n",
      "\u001b[1;32m~\\AppData\\Local\\Continuum\\anaconda3\\lib\\site-packages\\matplotlib\\axes\\_axes.py\u001b[0m in \u001b[0;36mboxplot\u001b[1;34m(self, x, notch, sym, vert, whis, positions, widths, patch_artist, bootstrap, usermedians, conf_intervals, meanline, showmeans, showcaps, showbox, showfliers, boxprops, labels, flierprops, medianprops, meanprops, capprops, whiskerprops, manage_xticks, autorange, zorder)\u001b[0m\n\u001b[0;32m   3443\u001b[0m                            \u001b[0mmeanline\u001b[0m\u001b[1;33m=\u001b[0m\u001b[0mmeanline\u001b[0m\u001b[1;33m,\u001b[0m \u001b[0mshowfliers\u001b[0m\u001b[1;33m=\u001b[0m\u001b[0mshowfliers\u001b[0m\u001b[1;33m,\u001b[0m\u001b[1;33m\u001b[0m\u001b[0m\n\u001b[0;32m   3444\u001b[0m                            \u001b[0mcapprops\u001b[0m\u001b[1;33m=\u001b[0m\u001b[0mcapprops\u001b[0m\u001b[1;33m,\u001b[0m \u001b[0mwhiskerprops\u001b[0m\u001b[1;33m=\u001b[0m\u001b[0mwhiskerprops\u001b[0m\u001b[1;33m,\u001b[0m\u001b[1;33m\u001b[0m\u001b[0m\n\u001b[1;32m-> 3445\u001b[1;33m                            manage_xticks=manage_xticks, zorder=zorder)\n\u001b[0m\u001b[0;32m   3446\u001b[0m         \u001b[1;32mreturn\u001b[0m \u001b[0martists\u001b[0m\u001b[1;33m\u001b[0m\u001b[0m\n\u001b[0;32m   3447\u001b[0m \u001b[1;33m\u001b[0m\u001b[0m\n",
      "\u001b[1;32m~\\AppData\\Local\\Continuum\\anaconda3\\lib\\site-packages\\matplotlib\\axes\\_axes.py\u001b[0m in \u001b[0;36mbxp\u001b[1;34m(self, bxpstats, positions, widths, vert, patch_artist, shownotches, showmeans, showcaps, showbox, showfliers, boxprops, whiskerprops, flierprops, medianprops, capprops, meanprops, meanline, manage_xticks, zorder)\u001b[0m\n\u001b[0;32m   3808\u001b[0m             \u001b[1;32mif\u001b[0m \u001b[0mshowcaps\u001b[0m\u001b[1;33m:\u001b[0m\u001b[1;33m\u001b[0m\u001b[0m\n\u001b[0;32m   3809\u001b[0m                 \u001b[0mcaps\u001b[0m\u001b[1;33m.\u001b[0m\u001b[0mextend\u001b[0m\u001b[1;33m(\u001b[0m\u001b[0mdoplot\u001b[0m\u001b[1;33m(\u001b[0m\u001b[0mcap_x\u001b[0m\u001b[1;33m,\u001b[0m \u001b[0mcap_lo\u001b[0m\u001b[1;33m,\u001b[0m \u001b[1;33m**\u001b[0m\u001b[0mfinal_capprops\u001b[0m\u001b[1;33m)\u001b[0m\u001b[1;33m)\u001b[0m\u001b[1;33m\u001b[0m\u001b[0m\n\u001b[1;32m-> 3810\u001b[1;33m                 \u001b[0mcaps\u001b[0m\u001b[1;33m.\u001b[0m\u001b[0mextend\u001b[0m\u001b[1;33m(\u001b[0m\u001b[0mdoplot\u001b[0m\u001b[1;33m(\u001b[0m\u001b[0mcap_x\u001b[0m\u001b[1;33m,\u001b[0m \u001b[0mcap_hi\u001b[0m\u001b[1;33m,\u001b[0m \u001b[1;33m**\u001b[0m\u001b[0mfinal_capprops\u001b[0m\u001b[1;33m)\u001b[0m\u001b[1;33m)\u001b[0m\u001b[1;33m\u001b[0m\u001b[0m\n\u001b[0m\u001b[0;32m   3811\u001b[0m \u001b[1;33m\u001b[0m\u001b[0m\n\u001b[0;32m   3812\u001b[0m             \u001b[1;31m# draw the medians\u001b[0m\u001b[1;33m\u001b[0m\u001b[1;33m\u001b[0m\u001b[0m\n",
      "\u001b[1;32m~\\AppData\\Local\\Continuum\\anaconda3\\lib\\site-packages\\matplotlib\\axes\\_axes.py\u001b[0m in \u001b[0;36mdoplot\u001b[1;34m(*args, **kwargs)\u001b[0m\n\u001b[0;32m   3713\u001b[0m         \u001b[1;32mif\u001b[0m \u001b[0mvert\u001b[0m\u001b[1;33m:\u001b[0m\u001b[1;33m\u001b[0m\u001b[0m\n\u001b[0;32m   3714\u001b[0m             \u001b[1;32mdef\u001b[0m \u001b[0mdoplot\u001b[0m\u001b[1;33m(\u001b[0m\u001b[1;33m*\u001b[0m\u001b[0margs\u001b[0m\u001b[1;33m,\u001b[0m \u001b[1;33m**\u001b[0m\u001b[0mkwargs\u001b[0m\u001b[1;33m)\u001b[0m\u001b[1;33m:\u001b[0m\u001b[1;33m\u001b[0m\u001b[0m\n\u001b[1;32m-> 3715\u001b[1;33m                 \u001b[1;32mreturn\u001b[0m \u001b[0mself\u001b[0m\u001b[1;33m.\u001b[0m\u001b[0mplot\u001b[0m\u001b[1;33m(\u001b[0m\u001b[1;33m*\u001b[0m\u001b[0margs\u001b[0m\u001b[1;33m,\u001b[0m \u001b[1;33m**\u001b[0m\u001b[0mkwargs\u001b[0m\u001b[1;33m)\u001b[0m\u001b[1;33m\u001b[0m\u001b[0m\n\u001b[0m\u001b[0;32m   3716\u001b[0m \u001b[1;33m\u001b[0m\u001b[0m\n\u001b[0;32m   3717\u001b[0m             \u001b[1;32mdef\u001b[0m \u001b[0mdopatch\u001b[0m\u001b[1;33m(\u001b[0m\u001b[0mxs\u001b[0m\u001b[1;33m,\u001b[0m \u001b[0mys\u001b[0m\u001b[1;33m,\u001b[0m \u001b[1;33m**\u001b[0m\u001b[0mkwargs\u001b[0m\u001b[1;33m)\u001b[0m\u001b[1;33m:\u001b[0m\u001b[1;33m\u001b[0m\u001b[0m\n",
      "\u001b[1;32m~\\AppData\\Local\\Continuum\\anaconda3\\lib\\site-packages\\matplotlib\\__init__.py\u001b[0m in \u001b[0;36minner\u001b[1;34m(ax, *args, **kwargs)\u001b[0m\n\u001b[0;32m   1708\u001b[0m                     warnings.warn(msg % (label_namer, func.__name__),\n\u001b[0;32m   1709\u001b[0m                                   RuntimeWarning, stacklevel=2)\n\u001b[1;32m-> 1710\u001b[1;33m             \u001b[1;32mreturn\u001b[0m \u001b[0mfunc\u001b[0m\u001b[1;33m(\u001b[0m\u001b[0max\u001b[0m\u001b[1;33m,\u001b[0m \u001b[1;33m*\u001b[0m\u001b[0margs\u001b[0m\u001b[1;33m,\u001b[0m \u001b[1;33m**\u001b[0m\u001b[0mkwargs\u001b[0m\u001b[1;33m)\u001b[0m\u001b[1;33m\u001b[0m\u001b[0m\n\u001b[0m\u001b[0;32m   1711\u001b[0m         \u001b[0mpre_doc\u001b[0m \u001b[1;33m=\u001b[0m \u001b[0minner\u001b[0m\u001b[1;33m.\u001b[0m\u001b[0m__doc__\u001b[0m\u001b[1;33m\u001b[0m\u001b[0m\n\u001b[0;32m   1712\u001b[0m         \u001b[1;32mif\u001b[0m \u001b[0mpre_doc\u001b[0m \u001b[1;32mis\u001b[0m \u001b[1;32mNone\u001b[0m\u001b[1;33m:\u001b[0m\u001b[1;33m\u001b[0m\u001b[0m\n",
      "\u001b[1;32m~\\AppData\\Local\\Continuum\\anaconda3\\lib\\site-packages\\matplotlib\\axes\\_axes.py\u001b[0m in \u001b[0;36mplot\u001b[1;34m(self, *args, **kwargs)\u001b[0m\n\u001b[0;32m   1436\u001b[0m \u001b[1;33m\u001b[0m\u001b[0m\n\u001b[0;32m   1437\u001b[0m         \u001b[1;32mfor\u001b[0m \u001b[0mline\u001b[0m \u001b[1;32min\u001b[0m \u001b[0mself\u001b[0m\u001b[1;33m.\u001b[0m\u001b[0m_get_lines\u001b[0m\u001b[1;33m(\u001b[0m\u001b[1;33m*\u001b[0m\u001b[0margs\u001b[0m\u001b[1;33m,\u001b[0m \u001b[1;33m**\u001b[0m\u001b[0mkwargs\u001b[0m\u001b[1;33m)\u001b[0m\u001b[1;33m:\u001b[0m\u001b[1;33m\u001b[0m\u001b[0m\n\u001b[1;32m-> 1438\u001b[1;33m             \u001b[0mself\u001b[0m\u001b[1;33m.\u001b[0m\u001b[0madd_line\u001b[0m\u001b[1;33m(\u001b[0m\u001b[0mline\u001b[0m\u001b[1;33m)\u001b[0m\u001b[1;33m\u001b[0m\u001b[0m\n\u001b[0m\u001b[0;32m   1439\u001b[0m             \u001b[0mlines\u001b[0m\u001b[1;33m.\u001b[0m\u001b[0mappend\u001b[0m\u001b[1;33m(\u001b[0m\u001b[0mline\u001b[0m\u001b[1;33m)\u001b[0m\u001b[1;33m\u001b[0m\u001b[0m\n\u001b[0;32m   1440\u001b[0m \u001b[1;33m\u001b[0m\u001b[0m\n",
      "\u001b[1;32m~\\AppData\\Local\\Continuum\\anaconda3\\lib\\site-packages\\matplotlib\\axes\\_base.py\u001b[0m in \u001b[0;36madd_line\u001b[1;34m(self, line)\u001b[0m\n\u001b[0;32m   1755\u001b[0m         \u001b[0mself\u001b[0m\u001b[1;33m.\u001b[0m\u001b[0m_set_artist_props\u001b[0m\u001b[1;33m(\u001b[0m\u001b[0mline\u001b[0m\u001b[1;33m)\u001b[0m\u001b[1;33m\u001b[0m\u001b[0m\n\u001b[0;32m   1756\u001b[0m         \u001b[1;32mif\u001b[0m \u001b[0mline\u001b[0m\u001b[1;33m.\u001b[0m\u001b[0mget_clip_path\u001b[0m\u001b[1;33m(\u001b[0m\u001b[1;33m)\u001b[0m \u001b[1;32mis\u001b[0m \u001b[1;32mNone\u001b[0m\u001b[1;33m:\u001b[0m\u001b[1;33m\u001b[0m\u001b[0m\n\u001b[1;32m-> 1757\u001b[1;33m             \u001b[0mline\u001b[0m\u001b[1;33m.\u001b[0m\u001b[0mset_clip_path\u001b[0m\u001b[1;33m(\u001b[0m\u001b[0mself\u001b[0m\u001b[1;33m.\u001b[0m\u001b[0mpatch\u001b[0m\u001b[1;33m)\u001b[0m\u001b[1;33m\u001b[0m\u001b[0m\n\u001b[0m\u001b[0;32m   1758\u001b[0m \u001b[1;33m\u001b[0m\u001b[0m\n\u001b[0;32m   1759\u001b[0m         \u001b[0mself\u001b[0m\u001b[1;33m.\u001b[0m\u001b[0m_update_line_limits\u001b[0m\u001b[1;33m(\u001b[0m\u001b[0mline\u001b[0m\u001b[1;33m)\u001b[0m\u001b[1;33m\u001b[0m\u001b[0m\n",
      "\u001b[1;32m~\\AppData\\Local\\Continuum\\anaconda3\\lib\\site-packages\\matplotlib\\artist.py\u001b[0m in \u001b[0;36mset_clip_path\u001b[1;34m(self, path, transform)\u001b[0m\n\u001b[0;32m    652\u001b[0m             \u001b[1;32mif\u001b[0m \u001b[0misinstance\u001b[0m\u001b[1;33m(\u001b[0m\u001b[0mpath\u001b[0m\u001b[1;33m,\u001b[0m \u001b[0mRectangle\u001b[0m\u001b[1;33m)\u001b[0m\u001b[1;33m:\u001b[0m\u001b[1;33m\u001b[0m\u001b[0m\n\u001b[0;32m    653\u001b[0m                 self.clipbox = TransformedBbox(Bbox.unit(),\n\u001b[1;32m--> 654\u001b[1;33m                                                path.get_transform())\n\u001b[0m\u001b[0;32m    655\u001b[0m                 \u001b[0mself\u001b[0m\u001b[1;33m.\u001b[0m\u001b[0m_clippath\u001b[0m \u001b[1;33m=\u001b[0m \u001b[1;32mNone\u001b[0m\u001b[1;33m\u001b[0m\u001b[0m\n\u001b[0;32m    656\u001b[0m                 \u001b[0msuccess\u001b[0m \u001b[1;33m=\u001b[0m \u001b[1;32mTrue\u001b[0m\u001b[1;33m\u001b[0m\u001b[0m\n",
      "\u001b[1;32m~\\AppData\\Local\\Continuum\\anaconda3\\lib\\site-packages\\matplotlib\\patches.py\u001b[0m in \u001b[0;36mget_transform\u001b[1;34m(self)\u001b[0m\n\u001b[0;32m    219\u001b[0m         \u001b[0mto\u001b[0m \u001b[0mthe\u001b[0m \u001b[1;33m:\u001b[0m\u001b[1;32mclass\u001b[0m\u001b[1;33m:\u001b[0m\u001b[0;31m`\u001b[0m\u001b[0mPatch\u001b[0m\u001b[0;31m`\u001b[0m\u001b[1;33m.\u001b[0m\u001b[1;33m\u001b[0m\u001b[0m\n\u001b[0;32m    220\u001b[0m         \"\"\"\n\u001b[1;32m--> 221\u001b[1;33m         \u001b[1;32mreturn\u001b[0m \u001b[0mself\u001b[0m\u001b[1;33m.\u001b[0m\u001b[0mget_patch_transform\u001b[0m\u001b[1;33m(\u001b[0m\u001b[1;33m)\u001b[0m \u001b[1;33m+\u001b[0m \u001b[0martist\u001b[0m\u001b[1;33m.\u001b[0m\u001b[0mArtist\u001b[0m\u001b[1;33m.\u001b[0m\u001b[0mget_transform\u001b[0m\u001b[1;33m(\u001b[0m\u001b[0mself\u001b[0m\u001b[1;33m)\u001b[0m\u001b[1;33m\u001b[0m\u001b[0m\n\u001b[0m\u001b[0;32m    222\u001b[0m \u001b[1;33m\u001b[0m\u001b[0m\n\u001b[0;32m    223\u001b[0m     \u001b[1;32mdef\u001b[0m \u001b[0mget_data_transform\u001b[0m\u001b[1;33m(\u001b[0m\u001b[0mself\u001b[0m\u001b[1;33m)\u001b[0m\u001b[1;33m:\u001b[0m\u001b[1;33m\u001b[0m\u001b[0m\n",
      "\u001b[1;32m~\\AppData\\Local\\Continuum\\anaconda3\\lib\\site-packages\\matplotlib\\patches.py\u001b[0m in \u001b[0;36mget_patch_transform\u001b[1;34m(self)\u001b[0m\n\u001b[0;32m    720\u001b[0m \u001b[1;33m\u001b[0m\u001b[0m\n\u001b[0;32m    721\u001b[0m     \u001b[1;32mdef\u001b[0m \u001b[0mget_patch_transform\u001b[0m\u001b[1;33m(\u001b[0m\u001b[0mself\u001b[0m\u001b[1;33m)\u001b[0m\u001b[1;33m:\u001b[0m\u001b[1;33m\u001b[0m\u001b[0m\n\u001b[1;32m--> 722\u001b[1;33m         \u001b[0mself\u001b[0m\u001b[1;33m.\u001b[0m\u001b[0m_update_patch_transform\u001b[0m\u001b[1;33m(\u001b[0m\u001b[1;33m)\u001b[0m\u001b[1;33m\u001b[0m\u001b[0m\n\u001b[0m\u001b[0;32m    723\u001b[0m         \u001b[1;32mreturn\u001b[0m \u001b[0mself\u001b[0m\u001b[1;33m.\u001b[0m\u001b[0m_rect_transform\u001b[0m\u001b[1;33m\u001b[0m\u001b[0m\n\u001b[0;32m    724\u001b[0m \u001b[1;33m\u001b[0m\u001b[0m\n",
      "\u001b[1;32m~\\AppData\\Local\\Continuum\\anaconda3\\lib\\site-packages\\matplotlib\\patches.py\u001b[0m in \u001b[0;36m_update_patch_transform\u001b[1;34m(self)\u001b[0m\n\u001b[0;32m    715\u001b[0m         \u001b[0mbbox\u001b[0m \u001b[1;33m=\u001b[0m \u001b[0mtransforms\u001b[0m\u001b[1;33m.\u001b[0m\u001b[0mBbox\u001b[0m\u001b[1;33m.\u001b[0m\u001b[0mfrom_bounds\u001b[0m\u001b[1;33m(\u001b[0m\u001b[0mx\u001b[0m\u001b[1;33m,\u001b[0m \u001b[0my\u001b[0m\u001b[1;33m,\u001b[0m \u001b[0mwidth\u001b[0m\u001b[1;33m,\u001b[0m \u001b[0mheight\u001b[0m\u001b[1;33m)\u001b[0m\u001b[1;33m\u001b[0m\u001b[0m\n\u001b[0;32m    716\u001b[0m         \u001b[0mrot_trans\u001b[0m \u001b[1;33m=\u001b[0m \u001b[0mtransforms\u001b[0m\u001b[1;33m.\u001b[0m\u001b[0mAffine2D\u001b[0m\u001b[1;33m(\u001b[0m\u001b[1;33m)\u001b[0m\u001b[1;33m\u001b[0m\u001b[0m\n\u001b[1;32m--> 717\u001b[1;33m         \u001b[0mrot_trans\u001b[0m\u001b[1;33m.\u001b[0m\u001b[0mrotate_deg_around\u001b[0m\u001b[1;33m(\u001b[0m\u001b[0mx\u001b[0m\u001b[1;33m,\u001b[0m \u001b[0my\u001b[0m\u001b[1;33m,\u001b[0m \u001b[0mself\u001b[0m\u001b[1;33m.\u001b[0m\u001b[0mangle\u001b[0m\u001b[1;33m)\u001b[0m\u001b[1;33m\u001b[0m\u001b[0m\n\u001b[0m\u001b[0;32m    718\u001b[0m         \u001b[0mself\u001b[0m\u001b[1;33m.\u001b[0m\u001b[0m_rect_transform\u001b[0m \u001b[1;33m=\u001b[0m \u001b[0mtransforms\u001b[0m\u001b[1;33m.\u001b[0m\u001b[0mBboxTransformTo\u001b[0m\u001b[1;33m(\u001b[0m\u001b[0mbbox\u001b[0m\u001b[1;33m)\u001b[0m\u001b[1;33m\u001b[0m\u001b[0m\n\u001b[0;32m    719\u001b[0m         \u001b[0mself\u001b[0m\u001b[1;33m.\u001b[0m\u001b[0m_rect_transform\u001b[0m \u001b[1;33m+=\u001b[0m \u001b[0mrot_trans\u001b[0m\u001b[1;33m\u001b[0m\u001b[0m\n",
      "\u001b[1;32m~\\AppData\\Local\\Continuum\\anaconda3\\lib\\site-packages\\matplotlib\\transforms.py\u001b[0m in \u001b[0;36mrotate_deg_around\u001b[1;34m(self, x, y, degrees)\u001b[0m\n\u001b[0;32m   2036\u001b[0m         \u001b[1;31m# Cast to float to avoid wraparound issues with uint8's\u001b[0m\u001b[1;33m\u001b[0m\u001b[1;33m\u001b[0m\u001b[0m\n\u001b[0;32m   2037\u001b[0m         \u001b[0mx\u001b[0m\u001b[1;33m,\u001b[0m \u001b[0my\u001b[0m \u001b[1;33m=\u001b[0m \u001b[0mfloat\u001b[0m\u001b[1;33m(\u001b[0m\u001b[0mx\u001b[0m\u001b[1;33m)\u001b[0m\u001b[1;33m,\u001b[0m \u001b[0mfloat\u001b[0m\u001b[1;33m(\u001b[0m\u001b[0my\u001b[0m\u001b[1;33m)\u001b[0m\u001b[1;33m\u001b[0m\u001b[0m\n\u001b[1;32m-> 2038\u001b[1;33m         \u001b[1;32mreturn\u001b[0m \u001b[0mself\u001b[0m\u001b[1;33m.\u001b[0m\u001b[0mtranslate\u001b[0m\u001b[1;33m(\u001b[0m\u001b[1;33m-\u001b[0m\u001b[0mx\u001b[0m\u001b[1;33m,\u001b[0m \u001b[1;33m-\u001b[0m\u001b[0my\u001b[0m\u001b[1;33m)\u001b[0m\u001b[1;33m.\u001b[0m\u001b[0mrotate_deg\u001b[0m\u001b[1;33m(\u001b[0m\u001b[0mdegrees\u001b[0m\u001b[1;33m)\u001b[0m\u001b[1;33m.\u001b[0m\u001b[0mtranslate\u001b[0m\u001b[1;33m(\u001b[0m\u001b[0mx\u001b[0m\u001b[1;33m,\u001b[0m \u001b[0my\u001b[0m\u001b[1;33m)\u001b[0m\u001b[1;33m\u001b[0m\u001b[0m\n\u001b[0m\u001b[0;32m   2039\u001b[0m \u001b[1;33m\u001b[0m\u001b[0m\n\u001b[0;32m   2040\u001b[0m     \u001b[1;32mdef\u001b[0m \u001b[0mtranslate\u001b[0m\u001b[1;33m(\u001b[0m\u001b[0mself\u001b[0m\u001b[1;33m,\u001b[0m \u001b[0mtx\u001b[0m\u001b[1;33m,\u001b[0m \u001b[0mty\u001b[0m\u001b[1;33m)\u001b[0m\u001b[1;33m:\u001b[0m\u001b[1;33m\u001b[0m\u001b[0m\n",
      "\u001b[1;32m~\\AppData\\Local\\Continuum\\anaconda3\\lib\\site-packages\\matplotlib\\transforms.py\u001b[0m in \u001b[0;36mtranslate\u001b[1;34m(self, tx, ty)\u001b[0m\n\u001b[0;32m   2048\u001b[0m         translate_mtx = np.array(\n\u001b[0;32m   2049\u001b[0m             [[1.0, 0.0, tx], [0.0, 1.0, ty], [0.0, 0.0, 1.0]], float)\n\u001b[1;32m-> 2050\u001b[1;33m         \u001b[0mself\u001b[0m\u001b[1;33m.\u001b[0m\u001b[0m_mtx\u001b[0m \u001b[1;33m=\u001b[0m \u001b[0mnp\u001b[0m\u001b[1;33m.\u001b[0m\u001b[0mdot\u001b[0m\u001b[1;33m(\u001b[0m\u001b[0mtranslate_mtx\u001b[0m\u001b[1;33m,\u001b[0m \u001b[0mself\u001b[0m\u001b[1;33m.\u001b[0m\u001b[0m_mtx\u001b[0m\u001b[1;33m)\u001b[0m\u001b[1;33m\u001b[0m\u001b[0m\n\u001b[0m\u001b[0;32m   2051\u001b[0m         \u001b[0mself\u001b[0m\u001b[1;33m.\u001b[0m\u001b[0minvalidate\u001b[0m\u001b[1;33m(\u001b[0m\u001b[1;33m)\u001b[0m\u001b[1;33m\u001b[0m\u001b[0m\n\u001b[0;32m   2052\u001b[0m         \u001b[1;32mreturn\u001b[0m \u001b[0mself\u001b[0m\u001b[1;33m\u001b[0m\u001b[0m\n",
      "\u001b[1;31mKeyboardInterrupt\u001b[0m: "
     ]
    }
   ],
   "source": [
    "#########################\n",
    "#\n",
    "# log2 transformed distribution \n",
    "#\n",
    "#########################\n",
    "\n",
    "iBAQ_df.boxplot(return_type='axes', figsize=(10,6), patch_artist = True)\n",
    "\n",
    "#c=[color_dict.get(x, 'gray') for x in iBAQ_df.columns[1:]])\n",
    "\n",
    "#for col in iBAQ_df.columns[1:]:\n",
    "#    plt.setp(bp['boxes'], color = color_dict[col])\n",
    "\n",
    "plt.xticks(rotation='vertical')\n",
    "\n",
    "plt.show()"
   ]
  },
  {
   "cell_type": "code",
   "execution_count": null,
   "metadata": {},
   "outputs": [],
   "source": [
    "fig, ax = plt.subplots(figsize = (10,6))\n",
    "ax.set_xticklabels(ax.get_xticklabels(), rotation = 90)\n",
    "sns.boxplot(data=iBAQ_df, palette=color_dict, ax=ax)\n",
    "\n",
    "plt.savefig(r'D:\\Images\\log2_transformed_boxplots.pdf', bbox_inches=\"tight\")\n",
    "plt.show()"
   ]
  },
  {
   "cell_type": "code",
   "execution_count": null,
   "metadata": {
    "scrolled": true
   },
   "outputs": [],
   "source": [
    "#########################\n",
    "#\n",
    "# Median normalize\n",
    "#\n",
    "#########################\n",
    "\n",
    "iBAQ_quants = iBAQ_df.iloc[:,1:] # Split off iBAQ columns to process\n",
    "iBAQ_median_of_medians = iBAQ_quants.median().median()\n",
    "\n",
    "iBAQ_quants /= iBAQ_quants.median(axis=0) # divide each value by sample median\n",
    "iBAQ_quants *= iBAQ_median_of_medians # multiply each value by median of medians\n",
    "\n",
    "iBAQ_df.iloc[:,1:] = iBAQ_quants # insert processed iBAQ values into original df\n",
    "print(iBAQ_df.head())"
   ]
  },
  {
   "cell_type": "code",
   "execution_count": null,
   "metadata": {},
   "outputs": [],
   "source": [
    "#########################\n",
    "#\n",
    "# Median normalized log2 data distribution \n",
    "#\n",
    "#########################\n",
    "\n",
    "iBAQ_df.boxplot(return_type='axes', figsize=(10,6), patch_artist = True)\n",
    "plt.xticks(rotation='vertical')\n",
    "plt.show()"
   ]
  },
  {
   "cell_type": "code",
   "execution_count": null,
   "metadata": {},
   "outputs": [],
   "source": [
    "fig, ax = plt.subplots(figsize = (10,6))\n",
    "ax.set_xticklabels(ax.get_xticklabels(), rotation = 90)\n",
    "sns.boxplot(data=iBAQ_df, palette=color_dict, ax=ax)\n",
    "\n",
    "plt.savefig(r'D:\\Images\\median_normalized_boxplots.pdf', bbox_inches=\"tight\")\n",
    "plt.show()"
   ]
  },
  {
   "cell_type": "code",
   "execution_count": null,
   "metadata": {},
   "outputs": [],
   "source": [
    "#########################\n",
    "#\n",
    "# Impute missing values\n",
    "#\n",
    "#########################\n",
    "\n",
    "print(iBAQ_df.isnull().values.any()) # Should return true if any nulls are present\n",
    "\n",
    "iBAQ_min = iBAQ_quants.min().min()\n",
    "iBAQ_impute_val = iBAQ_min/2\n",
    "\n",
    "iBAQ_df = iBAQ_df.fillna(iBAQ_impute_val)\n",
    "\n",
    "print(iBAQ_df.isnull().values.any()) # Should return false if nulls have been replaced"
   ]
  },
  {
   "cell_type": "markdown",
   "metadata": {},
   "source": [
    "## PCA"
   ]
  },
  {
   "cell_type": "code",
   "execution_count": null,
   "metadata": {
    "scrolled": true
   },
   "outputs": [],
   "source": [
    "#########################\n",
    "#\n",
    "# Perform PCA on the data\n",
    "#\n",
    "#########################\n",
    "\n",
    "iBAQ_df.set_index('Majority protein IDs', inplace=True)\n",
    "scaled_data = preprocessing.scale(iBAQ_df.T)\n",
    "\n",
    "pca = PCA() # create a PCA object\n",
    "pca.fit(scaled_data) # do the math\n",
    "pca_data = pca.transform(scaled_data) # get PCA coordinates for dataframe\n",
    " \n",
    "#########################\n",
    "#\n",
    "# Draw a scree plot \n",
    "#\n",
    "#########################\n",
    " \n",
    "per_var = np.round(pca.explained_variance_ratio_* 100, decimals = 1)\n",
    "labels = ['PC' + str(x) for x in range(1, len(per_var)+1)]\n",
    " \n",
    "plt.bar(x = range(1, len(per_var) + 1), height = per_var, tick_label = labels)\n",
    "plt.ylabel('Percentage of Explained Variance')\n",
    "plt.xlabel('Principal Component')\n",
    "plt.title('Scree Plot')\n",
    "plt.xticks(rotation='vertical')\n",
    "\n",
    "plt.savefig(r'D:\\Images\\PCA_scree.pdf', bbox_inches=\"tight\")\n",
    "plt.show()\n"
   ]
  },
  {
   "cell_type": "code",
   "execution_count": null,
   "metadata": {},
   "outputs": [],
   "source": [
    "#########################\n",
    "#\n",
    "# Draw PCA Graph \n",
    "#\n",
    "#########################\n",
    "\n",
    "pca_df = pd.DataFrame(pca_data, index=[iBAQ_df.columns.values.tolist()], columns=labels)\n",
    " \n",
    "plt.title('PCA Graph')\n",
    "plt.xlabel('PC1 - {0}%'.format(per_var[0]))\n",
    "plt.ylabel('PC2 - {0}%'.format(per_var[1]))\n",
    " \n",
    "for column in pca_df.index:\n",
    "    plt.scatter(pca_df.PC1.loc[column], pca_df.PC2.loc[column], color = color_dict[column])\n",
    "    plt.annotate(column, (pca_df.PC1.loc[column], pca_df.PC2.loc[column]), color = color_dict[column])\n",
    "\n",
    "plt.savefig(r'D:\\Images\\PCA_Graph.pdf', bbox_inches=\"tight\")\n",
    "plt.show()"
   ]
  },
  {
   "cell_type": "code",
   "execution_count": null,
   "metadata": {},
   "outputs": [],
   "source": [
    "#########################\n",
    "#\n",
    "# Determine which proteins had the biggest influence on PC1 \n",
    "#\n",
    "#########################\n",
    "\n",
    "loading_scores = pd.Series(pca.components_[0], index=iBAQ_df.index)\n",
    "sorted_loading_scores = loading_scores.abs().sort_values(ascending=False)\n",
    "\n",
    "top_10_proteins = sorted_loading_scores[0:10].index.values\n",
    "print(loading_scores[top_10_proteins])"
   ]
  },
  {
   "cell_type": "markdown",
   "metadata": {},
   "source": [
    "## Heatmaps\n",
    "* Pearson Correlations\n",
    "* Hierarchical Clustering"
   ]
  },
  {
   "cell_type": "code",
   "execution_count": null,
   "metadata": {},
   "outputs": [],
   "source": [
    "#########################\n",
    "#\n",
    "# Pearson correlation of the samples compared to each other \n",
    "#\n",
    "#########################\n",
    "\n",
    "fig, ax = plt.subplots(figsize = (16, 11))\n",
    "ax.set_title('Pearson Correlations', size = 20)\n",
    "\n",
    "corr = iBAQ_df.corr(method = 'pearson')\n",
    "sns.heatmap(corr, \n",
    "            xticklabels = corr.columns.values,\n",
    "            yticklabels = corr.columns.values,\n",
    "            annot = True, # Show numerical values in each box\n",
    "            cmap = \"RdBu_r\", \n",
    "            ax = ax) \n",
    "\n",
    "plt.savefig(r'D:\\Images\\Pearson_Corr.pdf', bbox_inches=\"tight\")\n",
    "plt.show()"
   ]
  },
  {
   "cell_type": "code",
   "execution_count": null,
   "metadata": {},
   "outputs": [],
   "source": [
    "#########################\n",
    "#\n",
    "# Hierarchical clustering of proteins\n",
    "#\n",
    "#########################\n",
    "\n",
    "z = linkage(iBAQ_df.values, method='ward')\n",
    "\n",
    "plt.figure(figsize=(12, 8))\n",
    "plt.title('Hierarchical Clustering of Proteins')\n",
    "plt.ylabel('distance')\n",
    "dendrogram(z,\n",
    "           leaf_rotation=90.,  # rotates the x axis labels\n",
    "           #leaf_font_size=8.,  # font size for the x axis labels\n",
    "          )\n",
    "\n",
    "plt.savefig(r'D:\\Images\\Protein_Hierarchical_Clustering.pdf', bbox_inches=\"tight\")\n",
    "plt.show()\n"
   ]
  },
  {
   "cell_type": "markdown",
   "metadata": {},
   "source": [
    "## ANOVA and t-tests"
   ]
  },
  {
   "cell_type": "code",
   "execution_count": null,
   "metadata": {},
   "outputs": [],
   "source": [
    "print(len(iBAQ_df))\n",
    "\n",
    "# Build list of proteins that pass ANOVA\n",
    "pass_anova = []\n",
    "max_pval = .05\n",
    "\n",
    "proteins = list(iBAQ_df.index)\n",
    "\n",
    "# Perform ANOVA on each row (protein) grouping by organ\n",
    "# If the protein passes ANOVA (p-value <= .05), add it to the list of proteins to keep\n",
    "\n",
    "for i in range(len(iBAQ_df)): \n",
    "    f, p = stats.f_oneway(iBAQ_df.iloc[i, :6],\n",
    "                          iBAQ_df.iloc[i, 6:12],\n",
    "                          iBAQ_df.iloc[i, 12:18], \n",
    "                          iBAQ_df.iloc[i, 18:24], \n",
    "                          iBAQ_df.iloc[i, 24:30])\n",
    "    if p <= max_pval:\n",
    "        pass_anova.append(proteins[i])\n",
    "\n",
    "#f, p = stats.f_oneway(iBAQ_df.iloc[0, :2], iBAQ_df.iloc[0, 2:4], iBAQ_df.iloc[0, 4:6]) # Should not pass\n",
    "#f, p = stats.f_oneway(iBAQ_df.iloc[10, :6], iBAQ_df.iloc[10, 6:12], iBAQ_df.iloc[10, 12:18], iBAQ_df.iloc[10, 18:24], iBAQ_df.iloc[10, 24:30])\n",
    "#print('F value:', f)\n",
    "#print('P value:', p)\n",
    "\n",
    "# Filter dataframe down to only include proteins in pass_anova\n",
    "pass_anova_df = iBAQ_df[iBAQ_df.index.isin(pass_anova)]\n",
    "\n",
    "# Sanity check that the dataframe got filtered\n",
    "print(len(pass_anova))\n",
    "print(len(pass_anova_df))"
   ]
  },
  {
   "cell_type": "code",
   "execution_count": null,
   "metadata": {
    "scrolled": false
   },
   "outputs": [],
   "source": [
    "#########################\n",
    "#\n",
    "# Heatmap of proteins passing ANOVA with <= .05 p-value\n",
    "#\n",
    "#########################\n",
    "\n",
    "sns.clustermap(pass_anova_df,\n",
    "               method = 'ward',\n",
    "               z_score = 1, # on columns\n",
    "               cmap = \"RdBu_r\")\n",
    "\n",
    "plt.savefig(r'D:\\Images\\Protein_Passing_ANOVA_Heatmap.pdf', bbox_inches=\"tight\")\n",
    "plt.show()"
   ]
  },
  {
   "cell_type": "code",
   "execution_count": null,
   "metadata": {},
   "outputs": [],
   "source": [
    "# Make array of groups corresponding to array of column names\n",
    "# e.g. 'iBAQ 07_Brain' and 'iBAQ 08_Brain' both correspond to the group 'brain'\n",
    "\n",
    "print(pass_anova_df.iloc[0, :])\n",
    "\n",
    "groups = []\n",
    "for col in pass_anova_df.columns.values:\n",
    "    groups.append(column_to_group[col])\n",
    "    \n",
    "print(groups)"
   ]
  },
  {
   "cell_type": "code",
   "execution_count": null,
   "metadata": {
    "scrolled": true
   },
   "outputs": [],
   "source": [
    "#########################\n",
    "#\n",
    "# Tukey Testing \n",
    "#\n",
    "#########################\n",
    "\n",
    "# tukeys[i] == tukey results for protein in pass_anova_df row i\n",
    "tukeys = []\n",
    "\n",
    "# Build up list of tukey results\n",
    "for i in range(len(pass_anova_df)): \n",
    "    tukey = pairwise_tukeyhsd(endog = pass_anova_df.iloc[i, :], # Row of data\n",
    "                              groups = groups, # Groups\n",
    "                              alpha = 0.05) # Significance level\n",
    "    tukeys.append(tukey)\n",
    "    \n",
    "# Build up list of tuples corresponding to all organ pairs in order of testing\n",
    "all_groups = tukeys[0].groupsunique\n",
    "group_pairs = []\n",
    "\n",
    "for i in range(len(all_groups) - 1):\n",
    "    for j in range (i + 1, len(all_groups)):\n",
    "        pair = (all_groups[i], all_groups[j])\n",
    "        group_pairs.append(pair)\n",
    "    \n",
    "\n",
    "# For each comparison, keep track of which organs have always passed t-test\n",
    "# For those always passing, build up list of meandiffs observed\n",
    "\n",
    "def group_to_meandiffs(pairs, protein, enhanced_in, mean_diffs):\n",
    "    \n",
    "    diffs = {} # 'brain' : [-2.34, -1.87, ...]\n",
    "\n",
    "    for i in range(len(pairs)):\n",
    "        g1 = pairs[i][0]\n",
    "        g2 = pairs[i][1]\n",
    "        if tukeys[protein].reject[i] == False:\n",
    "            if g1 in enhanced_in:\n",
    "                enhanced_in.remove(g1)\n",
    "            if g2 in enhanced_in:\n",
    "                enhanced_in.remove(g2)\n",
    "        else:\n",
    "            if g1 in diffs:\n",
    "                diffs[g1].append(mean_diffs[i])\n",
    "            else:\n",
    "                diffs[g1] = [mean_diffs[i]]\n",
    "            if g2 in diffs:\n",
    "                diffs[g2].append(mean_diffs[i])\n",
    "            else:\n",
    "                diffs[g2] = [mean_diffs[i]]\n",
    "                \n",
    "    return diffs\n",
    "    "
   ]
  },
  {
   "cell_type": "code",
   "execution_count": null,
   "metadata": {},
   "outputs": [],
   "source": [
    "# If we want to get the top n proteins enriched for an organ:\n",
    "# dict: {organ : list of (protein, meandiff) tuples}\n",
    "# {'brain' : [(1433B_Mouse, 1.8677), (4341Z_Mouse, 2.56)]}\n",
    "# Get value for organ, sort by tuple[1] descending, return first n elements in list\n",
    "  \n",
    "# Initialize all groups with empty list\n",
    "enriched_dict = {}\n",
    "for group in all_groups:\n",
    "    enriched_dict[group] = []\n",
    "\n",
    "### Loop through all proteins\n",
    "for i in range(len(pass_anova_df)): \n",
    "    mean_diffs = tukeys[i].meandiffs\n",
    "    enhanced_in = tukeys[i].groupsunique.tolist()\n",
    "    \n",
    "    diffs = group_to_meandiffs(group_pairs, i, enhanced_in, mean_diffs)\n",
    "    for key in diffs.keys():\n",
    "        diffs[key] = np.mean(np.fabs(diffs[key]))\n",
    "    \n",
    "    for organ in enhanced_in:\n",
    "        tuple = (pass_anova_df.index.values.tolist()[i], diffs[organ])\n",
    "        enriched_dict[organ].append(tuple)   \n",
    "\n",
    "# Get top n enriched proteins for organ\n",
    "def getSecond(tuple):\n",
    "    return tuple[1]\n",
    "\n",
    "def top_n_enriched(n, organ):\n",
    "    all_proteins = enriched_dict[organ]\n",
    "    all_proteins_sorted = sorted(all_proteins, key = getSecond, reverse = True)\n",
    "    return all_proteins_sorted[:n]\n",
    "\n",
    "print(top_n_enriched(5, 'brain'))"
   ]
  },
  {
   "cell_type": "markdown",
   "metadata": {},
   "source": [
    "## TODO \n",
    "* Tuckey test\n",
    "* Dynamically determine column indices for organ groups, size of groups\n",
    "* Take argument to choose iBAQ or LFQ. Or generate stats for both\n",
    "* Write images out to file - take arguments for base directory and specific dataset name"
   ]
  }
 ],
 "metadata": {
  "kernelspec": {
   "display_name": "Python 3",
   "language": "python",
   "name": "python3"
  }
 },
 "nbformat": 4,
 "nbformat_minor": 2
}
