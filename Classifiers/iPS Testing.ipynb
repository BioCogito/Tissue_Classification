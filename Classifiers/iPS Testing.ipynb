{
 "cells": [
  {
   "cell_type": "code",
   "execution_count": 70,
   "metadata": {
    "collapsed": true
   },
   "outputs": [],
   "source": [
    "import os\n",
    "import sys\n",
    "module_path = os.path.abspath(os.path.join('..'))\n",
    "if module_path not in sys.path:\n",
    "    sys.path.append(module_path)"
   ]
  },
  {
   "cell_type": "code",
   "execution_count": 71,
   "metadata": {
    "collapsed": true
   },
   "outputs": [],
   "source": [
    "import Classification_Utils as cu\n",
    "import MaxQuant_Postprocessing_Functions as mq\n",
    "import numpy as np\n",
    "from os import listdir\n",
    "import pandas as pd\n",
    "from sklearn.decomposition import PCA\n",
    "from sklearn.externals import joblib\n",
    "from sklearn import preprocessing\n",
    "import time"
   ]
  },
  {
   "cell_type": "markdown",
   "metadata": {},
   "source": [
    "## Load and clean Data"
   ]
  },
  {
   "cell_type": "code",
   "execution_count": 72,
   "metadata": {
    "collapsed": true
   },
   "outputs": [],
   "source": [
    "HIGH_QUAL_DIR = 'F:\\High_Quality\\\\' \n",
    "TEST_SET_DIR = 'F:\\Cell_Line\\\\'\n",
    "\n",
    "files_dir = HIGH_QUAL_DIR \n",
    "file_paths = listdir(files_dir) \n",
    "\n",
    "df = cu.combine_csvs(files_dir, file_paths)\n",
    "\n",
    "df.dropna(axis='index', how='all', inplace=True) # drop any rows where all values are missing\n",
    "df = df.drop(['\\n'])\n",
    "\n",
    "original_df = df.copy()"
   ]
  },
  {
   "cell_type": "code",
   "execution_count": 73,
   "metadata": {},
   "outputs": [
    {
     "name": "stderr",
     "output_type": "stream",
     "text": [
      "C:\\Users\\kush494\\Documents\\Proteomics_Data_Processing\\MaxQuant_Postprocessing_Functions.py:150: RuntimeWarning: divide by zero encountered in log2\n",
      "  df.iloc[:,:] = np.log2(df.iloc[:,:])\n"
     ]
    }
   ],
   "source": [
    "mq.log2_normalize(df)\n",
    "\n",
    "df_min = df.min().min()\n",
    "impute_val = df_min/2\n",
    "df = df.fillna(impute_val)\n",
    "\n",
    "# median normalize\n",
    "mq.median_normalize(df)"
   ]
  },
  {
   "cell_type": "code",
   "execution_count": 74,
   "metadata": {
    "collapsed": true
   },
   "outputs": [],
   "source": [
    "tissues = ['Blood_Plasma', 'Blood_Serum', 'CSF', 'Liver', 'Monocyte', 'Ovary', 'Pancreas', 'Substantia_Nigra', 'Temporal_Lobe']\n",
    " \n",
    "tissues_to_columns = cu.map_tissues_to_columns(df, tissues)\n",
    "\n",
    "column_names = df.columns.values.tolist()\n",
    "labels = cu.get_labels(column_names, tissues_to_columns)"
   ]
  },
  {
   "cell_type": "code",
   "execution_count": 1,
   "metadata": {
    "scrolled": false
   },
   "outputs": [
    {
     "ename": "NameError",
     "evalue": "name 'listdir' is not defined",
     "output_type": "error",
     "traceback": [
      "\u001b[1;31m---------------------------------------------------------------------------\u001b[0m",
      "\u001b[1;31mNameError\u001b[0m                                 Traceback (most recent call last)",
      "\u001b[1;32m<ipython-input-1-5f654f340060>\u001b[0m in \u001b[0;36m<module>\u001b[1;34m()\u001b[0m\n\u001b[0;32m      1\u001b[0m \u001b[0mNUM_SPLITS\u001b[0m \u001b[1;33m=\u001b[0m \u001b[1;36m100\u001b[0m\u001b[1;33m\u001b[0m\u001b[0m\n\u001b[0;32m      2\u001b[0m \u001b[1;33m\u001b[0m\u001b[0m\n\u001b[1;32m----> 3\u001b[1;33m \u001b[0mtest_paths\u001b[0m \u001b[1;33m=\u001b[0m \u001b[0mlistdir\u001b[0m\u001b[1;33m(\u001b[0m\u001b[0mTEST_SET_DIR\u001b[0m\u001b[1;33m)\u001b[0m\u001b[1;33m\u001b[0m\u001b[0m\n\u001b[0m\u001b[0;32m      4\u001b[0m \u001b[0mtest_data\u001b[0m \u001b[1;33m=\u001b[0m \u001b[0mcu\u001b[0m\u001b[1;33m.\u001b[0m\u001b[0mcombine_csvs\u001b[0m\u001b[1;33m(\u001b[0m\u001b[0mTEST_SET_DIR\u001b[0m\u001b[1;33m,\u001b[0m \u001b[0mtest_paths\u001b[0m\u001b[1;33m)\u001b[0m\u001b[1;33m\u001b[0m\u001b[0m\n\u001b[0;32m      5\u001b[0m \u001b[1;33m\u001b[0m\u001b[0m\n",
      "\u001b[1;31mNameError\u001b[0m: name 'listdir' is not defined"
     ]
    }
   ],
   "source": [
    "NUM_SPLITS = 100\n",
    "\n",
    "test_paths = listdir(TEST_SET_DIR) \n",
    "test_data = cu.combine_csvs(TEST_SET_DIR, test_paths)\n",
    "\n",
    "test_labels = []\n",
    "for col in test_data.columns.values.tolist():\n",
    "    for tissue in tissues:\n",
    "        if col.startswith(tissue):\n",
    "            test_labels.append(tissue)\n",
    "            continue"
   ]
  },
  {
   "cell_type": "code",
   "execution_count": 76,
   "metadata": {},
   "outputs": [
    {
     "data": {
      "text/plain": [
       "['Blood_Plasma_CPTAC_TrypDige_undepleted_normal_19Apr13_Methow_13-02-13',\n",
       " 'Blood_Plasma_Darpa_2_human_02_23Jan17_Arwem_16-10-25',\n",
       " 'Blood_Plasma_OMICS_EBV_HP_UW001_8Apr16_Arwen_16-01-03',\n",
       " 'Blood_Plasma_OMICS_EBV_HP_UW002_8Apr16_Arwen_16-01-03',\n",
       " 'Blood_Plasma_OMICS_EBV_HP_UW003_8Apr16_Arwen_16-01-03',\n",
       " 'Blood_Plasma_OMICS_EBV_HP_UW004_8Apr16_Arwen_16-01-03',\n",
       " 'Blood_Plasma_OMICS_EBV_HP_UW005_8Apr16_Arwen_16-01-03',\n",
       " 'Blood_Plasma_OMICS_EBV_HP_UW006_8Apr16_Arwen_16-01-03',\n",
       " 'Blood_Plasma_OMICS_EBV_HP_UW007_8Apr16_Arwen_16-01-03',\n",
       " 'Blood_Plasma_OMICS_EBV_HP_UW008_8Apr16_Arwen_16-01-03',\n",
       " 'Blood_Plasma_OMICS_EBV_HP_UW009_8Apr16_Arwen_16-01-03',\n",
       " 'Blood_Plasma_OMICS_EBV_HP_UW010_8Apr16_Arwen_16-01-03',\n",
       " 'Blood_Plasma_OMICS_EBV_HP_UW011_8Apr16_Arwen_16-01-03',\n",
       " 'Blood_Plasma_OMICS_EBV_HP_UW012_8Apr16_Arwen_16-01-03',\n",
       " 'Blood_Plasma_OMICS_EBV_HP_UW013_19Apr16_Arwen_16-01-03',\n",
       " 'Blood_Plasma_OMICS_EBV_HP_UW014_8Apr16_Arwen_16-01-03',\n",
       " 'Blood_Plasma_OMICS_EBV_HP_UW015_8Apr16_Arwen_16-01-03',\n",
       " 'Blood_Plasma_RZHJ_012_16Jun10_Owl_10-02-04',\n",
       " 'Blood_Plasma_Trypsin_Digestion_Step5_Sample1_4Mar13_Lynx_13-02-11',\n",
       " 'Blood_Plasma_Trypsin_Digestion_Step5_Sample2_4Mar13_Lynx_13-02-11',\n",
       " 'Blood_Serum_HURN_01_run1_9May13_Leopard_13-05-02',\n",
       " 'Blood_Serum_HURN_02_run1_9May13_Leopard_13-05-02',\n",
       " 'Blood_Serum_HURN_03_run1_13May13_Leopard_13-05-02',\n",
       " 'Blood_Serum_HURN_04_run1_13May13_Leopard_13-05-02',\n",
       " 'Blood_Serum_HURN_05_run1_13May13_Leopard_13-05-02',\n",
       " 'Blood_Serum_HURN_06_run1_13May13_Leopard_13-05-02',\n",
       " 'Blood_Serum_HURN_07_run1_9May13_Leopard_13-05-02',\n",
       " 'Blood_Serum_HURN_08_run1_9May13_Leopard_13-05-02',\n",
       " 'Blood_Serum_HURN_09_run1_9May13_Leopard_13-05-02',\n",
       " 'Blood_Serum_HURN_10_run1_13May13_Leopard_13-05-02',\n",
       " 'Blood_Serum_HURN_C_01_run1_9May13_Leopard_13-05-02',\n",
       " 'Blood_Serum_HURN_C_02_run1_13May13_Leopard_13-05-02',\n",
       " 'Blood_Serum_HURN_C_03_run1_9May13_Leopard_13-05-02',\n",
       " 'Blood_Serum_HURN_C_04_run1_13May13_Leopard_13-05-02',\n",
       " 'Blood_Serum_HURN_C_05_run1_13May13_Leopard_13-05-02',\n",
       " 'Blood_Serum_HURN_C_06_run1_13May13_Leopard_13-05-02',\n",
       " 'Blood_Serum_HURN_C_07_run1_9May13_Leopard_13-05-02',\n",
       " 'Blood_Serum_HURN_C_08_run1_13May13_Leopard_13-05-02',\n",
       " 'Blood_Serum_HURN_C_09_run1_13May13_Leopard_13-05-02',\n",
       " 'Blood_Serum_HURN_C_10_run1_13May13_Leopard_13-05-02',\n",
       " 'CSF_HCSF_2MP09_N1_1_20Jan10_Griffin_09-11-40',\n",
       " 'CSF_HCSF_2MP09_N1_2_10Feb10_Griffin_09-11-39',\n",
       " 'CSF_HCSF_2MP09_N2_1_29Jan10_Griffin_09-11-40',\n",
       " 'CSF_HCSF_2MP09_N2_2_19Feb10_Griffin_09-11-39',\n",
       " 'CSF_HCSF_2MP09_N3_1_2Feb10_Griffin_09-11-40',\n",
       " 'CSF_HCSF_2MP09_N4_1_25Jan10_Griffin_09-11-40',\n",
       " 'CSF_HCSF_2MP09_N5_1_21Jan10_Griffin_09-11-40',\n",
       " 'CSF_HCSF_2MP09_N6_1_25Jan10_Griffin_09-11-40',\n",
       " 'CSF_HCSF_2MP09_N7_1_5Feb10_Griffin_09-11-40',\n",
       " 'CSF_HCSF_2MP09_N8_1_11Feb10_Griffin_09-11-40',\n",
       " 'CSF_Schutzer_NM_6015',\n",
       " 'CSF_Schutzer_NM_6026',\n",
       " 'CSF_Schutzer_NM_6028',\n",
       " 'CSF_Schutzer_NM_6071',\n",
       " 'CSF_Schutzer_NM_6072',\n",
       " 'CSF_Schutzer_NM_7864',\n",
       " 'CSF_Schutzer_NM_7865',\n",
       " 'CSF_Schutzer_NM_7866',\n",
       " 'CSF_Schutzer_NM_7868',\n",
       " 'CSF_Schutzer_NM_7870',\n",
       " 'Liver_AH_LT_HH_1014_11Sept16_Frodo_16-05-17',\n",
       " 'Liver_AH_LT_HH_1029_11Sept16_Frodo_16-05-17',\n",
       " 'Liver_AH_LT_HH_1033_11Sept16_Frodo_16-05-17',\n",
       " 'Liver_AH_LT_HH_1044_11Sept16_Frodo_16-05-17',\n",
       " 'Liver_AH_LT_HH_1050_11Sept16_Frodo_16-05-17',\n",
       " 'Liver_AH_LT_HH_1062_11Sept16_Frodo_16-05-17-rerun',\n",
       " 'Liver_AH_LT_HH_1073_11Sept16_Frodo_16-05-17',\n",
       " 'Liver_AH_LT_HH_1087_11Sept16_Frodo_16-05-17',\n",
       " 'Liver_AH_LT_HH_987_11Sept16_Frodo_16-05-17',\n",
       " 'Liver_AH_LT_HH_991_11Sept16_Frodo_16-05-17',\n",
       " 'Liver_AH_LT_UMN_1144_11Sept16_Frodo_16-05-17',\n",
       " 'Liver_AH_LT_UMN_1188_11Sept16_Frodo_16-05-17',\n",
       " 'Liver_AH_LT_UMN_1427_11Sept16_Frodo_16-05-17',\n",
       " 'Liver_AH_LT_UMN_1443_11Sept16_Frodo_16-05-17',\n",
       " 'Liver_AH_LT_UMN_1444_11Sept16_Frodo_16-05-17',\n",
       " 'Liver_AH_LT_UMN_1468_11Sept16_Frodo_16-05-17',\n",
       " 'Liver_AH_LT_UMN_1509_11Sept16_Frodo_16-05-17',\n",
       " 'Liver_AH_LT_UMN_1519_11Sept16_Frodo_16-05-17',\n",
       " 'Liver_AH_LT_UMN_1521_11Sept16_Frodo_16-05-17',\n",
       " 'Liver_AH_LT_UMN_1522_11Sept16_Frodo_16-05-17',\n",
       " 'Monocyte_DARPA_Mono_SP164116_555_13Nov17_Oak_Jup-17-11-01',\n",
       " 'Monocyte_DARPA_Mono_SP288C9A_137_17Nov17_Oak_Jup-17-11-01',\n",
       " 'Monocyte_DARPA_Mono_SP2C1D8E_471_20Nov17_Oak_Jup-17-11-01',\n",
       " 'Monocyte_DARPA_Mono_SP4FFF3B_797_8Nov17_Oak_Jup-17-11-01',\n",
       " 'Monocyte_DARPA_Mono_SP550403_465_10Nov17_Oak_Jup-17-11-01',\n",
       " 'Monocyte_DARPA_Mono_SP5C5CCC_143_13Nov17_Oak_Jup-17-11-01',\n",
       " 'Monocyte_DARPA_Mono_SP6134DC_537_13Nov17_Oak_Jup-17-11-01',\n",
       " 'Monocyte_DARPA_Mono_SP80746A_543_13Nov17_Oak_Jup-17-11-01',\n",
       " 'Monocyte_DARPA_Mono_SPDE5F4C_671_17Nov17_Oak_Jup-17-11-01',\n",
       " 'Ovary_CPTAC_Intact_100k_03_Run1_26Nov14_Bane_C2-14-08-02RZ',\n",
       " 'Ovary_CPTAC_Intact_100k_M_03_Run1_26Nov14_Bane_C2-14-08-02RZ',\n",
       " 'Ovary_CPTAC_Intact_100k_T_03_Run1_18Nov14_Bane_C2-14-08-02RZ',\n",
       " 'Ovary_CPTAC_Intact_BE_03_Run1_26Nov14_Bane_C2-14-08-02RZ',\n",
       " 'Ovary_CPTAC_Intact_BE_M_02_Run1_26Nov14_Bane_C2-14-08-02RZ',\n",
       " 'Ovary_CPTAC_Intact_BE_M_03_Run1_26Nov14_Bane_C2-14-08-02RZ',\n",
       " 'Ovary_CPTAC_Intact_BE_T_02_Run2_26Nov14_Bane_C2-14-08-02RZ',\n",
       " 'Ovary_CPTAC_Intact_BE_T_03_Run1_26Nov14_Bane_C2-14-08-02RZ',\n",
       " 'Ovary_CPTAC_Intact_BE100_PO4_1_11Feb15_Bane_C2Column5',\n",
       " 'Ovary_CPTAC_Intact_BE100_PO4_2_11Feb15_Bane_C2Column5',\n",
       " 'Ovary_CPTAC_OvC_01OV007_NM_19Nov15_Arwen_15-07-13',\n",
       " 'Ovary_CPTAC_OvC_01OV008_NM_19Nov15_Arwen_15-07-13',\n",
       " 'Ovary_CPTAC_OvC_01OV010_NM_19Nov15_Arwen_15-07-13',\n",
       " 'Ovary_CPTAC_OvC_01OV013_NM_19Nov15_Arwen_15-07-13',\n",
       " 'Ovary_CPTAC_OvC_01OV017_NM_19Nov15_Arwen_15-07-13',\n",
       " 'Ovary_CPTAC_OvC_17OV001_NM_19Nov15_Arwen_15-07-13',\n",
       " 'Ovary_CPTAC_OvC_17OV002_NM_19Nov15_Arwen_15-07-13',\n",
       " 'Ovary_CPTAC_OvC_17OV003_NM_19Nov15_Arwen_15-07-13',\n",
       " 'Ovary_CPTAC_OvC_17OV004_NM_19Nov15_Arwen_15-07-13',\n",
       " 'Ovary_CPTAC_OvC_17OV005_NM_19Nov15_Arwen_15-07-13',\n",
       " 'Pancreas_61928_PT_S1_6195_B_15Jan14_Frodo_13-12-03',\n",
       " 'Pancreas_61928_PT_S1_6196_A_rr_15Jan14_Frodo_13-12-03',\n",
       " 'Pancreas_61928_PT_S1_6211_A_15Jan14_Frodo_13-12-03',\n",
       " 'Pancreas_61928_PT_S1_6211_B_15Jan14_Frodo_13-12-03',\n",
       " 'Pancreas_61928_PT_S1_6212_A_15Jan14_Frodo_13-12-03',\n",
       " 'Pancreas_61928_PT_S3_6174_A_30Nov13_Samwise_13-07-28',\n",
       " 'Pancreas_61928_PT_S3_6195_A_30Nov13_Samwise_13-07-28',\n",
       " 'Pancreas_61928_PT_S3_6196_A_30Nov13_Samwise_13-07-28',\n",
       " 'Pancreas_61928_PT_S3_6211_A_30Nov13_Samwise_13-07-28',\n",
       " 'Pancreas_61928_PT_S3_6212_A_30Nov13_Samwise_13-07-28',\n",
       " 'Pancreas_62276_AC_1_5May14_Samwise_13-07-17',\n",
       " 'Pancreas_62276_AC_2_5May14_Samwise_13-07-17',\n",
       " 'Pancreas_62276_AC_3_5May14_Samwise_13-07-17',\n",
       " 'Pancreas_62276_PI_1_5May14_Samwise_13-07-17',\n",
       " 'Pancreas_62276_PI_2_5May14_Samwise_13-07-17',\n",
       " 'Pancreas_62276_PI_3_5May14_Samwise_13-07-17',\n",
       " 'Pancreas_Human_Pancreas_OCT_6227_17Apr15_Frodo_15-02-07',\n",
       " 'Pancreas_Human_Pancreas_OCT_6229_17Apr15_Frodo_15-02-07',\n",
       " 'Pancreas_Human_Pancreas_Vial_6227_17Apr15_Frodo_15-02-07',\n",
       " 'Pancreas_Human_Pancreas_Vial_6229_17Apr15_Frodo_15-02-07',\n",
       " 'Substantia_Nigra_Lewy_10Ct1_7Sep13_Pippin_13-06-18',\n",
       " 'Substantia_Nigra_Lewy_11Ct1_7Sep13_Pippin_13-06-18',\n",
       " 'Substantia_Nigra_Lewy_12Ct1_7Sep13_Pippin_13-06-18',\n",
       " 'Substantia_Nigra_Lewy_1Ct1_3Sep13_Pippin_13-06-18',\n",
       " 'Substantia_Nigra_Lewy_2Ct1_3Sep13_Pippin_13-06-18',\n",
       " 'Substantia_Nigra_Lewy_4Ct1_3Sep13_Pippin_13-06-18',\n",
       " 'Substantia_Nigra_Lewy_5Ct1_3Sep13_Pippin_13-06-18',\n",
       " 'Substantia_Nigra_Lewy_6Ct1_13Sep13_Pippin_13-06-18',\n",
       " 'Substantia_Nigra_Lewy_7Ct1_7Sep13_Pippin_13-06-18',\n",
       " 'Substantia_Nigra_Lewy_9Ct1_7Sep13_Pippin_13-06-18',\n",
       " 'Substantia_Nigra_Lewy2_10Ct1_2Nov13_Samwise_13-07-28',\n",
       " 'Substantia_Nigra_Lewy2_11Ct1_2Nov13_Samwise_13-07-28',\n",
       " 'Substantia_Nigra_Lewy2_12Ct1_2Nov13_Samwise_13-07-28',\n",
       " 'Substantia_Nigra_Lewy2_1Ct1_2Nov13_Samwise_13-07-28',\n",
       " 'Substantia_Nigra_Lewy2_2Ct1_2Nov13_Samwise_13-07-28',\n",
       " 'Substantia_Nigra_Lewy2_4Ct1_2Nov13_Samwise_13-07-28',\n",
       " 'Substantia_Nigra_Lewy2_5Ct1_2Nov13_Samwise_13-07-28',\n",
       " 'Substantia_Nigra_Lewy2_6Ct1_2Nov13_Samwise_13-07-28',\n",
       " 'Substantia_Nigra_Lewy2_7Ct1_2Nov13_Samwise_13-07-28',\n",
       " 'Substantia_Nigra_Lewy2_9Ct1_2Nov13_Samwise_13-07-28',\n",
       " 'Temporal_Lobe_Alz_FX2P57_IMAC_142_23May11_Hawk_11-04-02p',\n",
       " 'Temporal_Lobe_Alz_FX2P57_IMAC_147_20Apr11_Hawk_10-12-03p',\n",
       " 'Temporal_Lobe_Alz_FX2P57_IMAC_148_23May11_Hawk_11-04-02p',\n",
       " 'Temporal_Lobe_Alz_FX2P57_IMAC_150_23May11_Hawk_11-04-02p',\n",
       " 'Temporal_Lobe_Alz_FX2P57_IMAC_151_11May11_Hawk_11-04-02p',\n",
       " 'Temporal_Lobe_Alz_FX2P57_IMAC_151_7May11_Hawk_11-04-02p',\n",
       " 'Temporal_Lobe_Alz_FX2P57_IMAC_153_11May11_Hawk_11-04-02p',\n",
       " 'Temporal_Lobe_Alz_FX2P57_IMAC_154_23May11_Hawk_11-04-02p',\n",
       " 'Temporal_Lobe_Alz_FX2P57_IMAC_160_20Apr11_Hawk_10-12-03p',\n",
       " 'Temporal_Lobe_Alz_FX2P57_IMAC_161_9May11_Hawk_11-04-02p',\n",
       " 'Temporal_Lobe_Alz_FX2P57_IMAC_163_26Apr11_Hawk_10-12-03p',\n",
       " 'Temporal_Lobe_Alz_FX2P57_IMAC_171_11May11_Hawk_11-04-02p',\n",
       " 'Temporal_Lobe_Alz_FX2P57_IMAC_175_20Apr11_Hawk_10-12-03p',\n",
       " 'Temporal_Lobe_Alz_FX2P57_IMAC_179_23May11_Hawk_11-04-02p',\n",
       " 'Temporal_Lobe_Alz_FX2P57_IMAC_184_20Apr11_Hawk_10-12-03p',\n",
       " 'Temporal_Lobe_Alz_FX2P57_IMAC_187_7May11_Hawk_11-04-02p',\n",
       " 'Temporal_Lobe_Alz_FX2P57_IMAC_189_11May11_Hawk_11-04-02p',\n",
       " 'Temporal_Lobe_Alz_FX2P57_IMAC_190_11May11_Hawk_11-04-02p',\n",
       " 'Temporal_Lobe_Alz_FX2P57_IMAC_195_20Apr11_Hawk_10-12-03p',\n",
       " 'Temporal_Lobe_Alz_FX2P57_IMAC_200_22Apr11_Hawk_10-12-03p']"
      ]
     },
     "execution_count": 76,
     "metadata": {},
     "output_type": "execute_result"
    }
   ],
   "source": [
    "df.columns.values.tolist()"
   ]
  },
  {
   "cell_type": "markdown",
   "metadata": {},
   "source": [
    "## Load classifiers"
   ]
  },
  {
   "cell_type": "code",
   "execution_count": null,
   "metadata": {
    "collapsed": true
   },
   "outputs": [],
   "source": [
    "\n",
    "\n",
    "model_path = finalized_model_folder + 'highqual_crossval_svc_grid.sav'\n",
    "\n",
    "svc = joblib.load(open(model_path + '', 'svc'))\n",
    "\n"
   ]
  },
  {
   "cell_type": "markdown",
   "metadata": {},
   "source": [
    "## Test classifier accuracy on iPS data"
   ]
  },
  {
   "cell_type": "markdown",
   "metadata": {},
   "source": [
    "## PCA with Cell Line included"
   ]
  },
  {
   "cell_type": "code",
   "execution_count": null,
   "metadata": {
    "collapsed": true
   },
   "outputs": [],
   "source": [
    "### Copy test df, rename to cell_line\n",
    "cell_line_df_copy = test_data.copy()\n",
    "cell_line_df_copy.columns = rename_columns(cell_line_df_copy, 'Liver', 'Liver_Cell_Line')\n",
    "\n",
    "### join dfs\n",
    "combined_df = original_df.join(cell_line_df_copy, how='outer')"
   ]
  },
  {
   "cell_type": "code",
   "execution_count": null,
   "metadata": {
    "collapsed": true
   },
   "outputs": [],
   "source": [
    "### 2D and 3D PCA\n",
    "scaled_data = combined_df.T\n",
    "\n",
    "pca = PCA() # create a PCA object\n",
    "pca.fit(scaled_data) # do the math\n",
    "pca_data = pca.transform(scaled_data) # get PCA coordinates for dataframe\n",
    "\n",
    "pca_3 = PCA(n_components=3) \n",
    "pca_3.fit(scaled_data)\n",
    "pca_data_3 = pca_3.transform(scaled_data)\n",
    "\n",
    "per_var, pca_labels = mq.make_scree_plot(pca, image_dir, 'Scree Plot - 25 Percentile')\n",
    "per_var_3, pca_labels_3 = mq.make_scree_plot(pca_3, image_dir, '3 Dimensional Scree - 25 Percentile')\n",
    "\n",
    "mq.draw_pca_graph2(column_names, pca_data, image_dir, column_to_color, per_var, pca_labels, tissues, tissues_to_columns, 'PCA - 25 Percentile')\n",
    "#mq.draw_pca_graph(column_names, pca_data, image_dir, column_to_color, per_var, pca_labels, 'PCA_RobustScaler_Annotated')\n",
    "mq.draw_3d_pca(column_names, pca_data_3, image_dir, column_to_color, per_var_3, pca_labels_3, tissues, tissues_to_columns, '3D PCA - 25 Percentile')"
   ]
  }
 ],
 "metadata": {
  "kernelspec": {
   "display_name": "Python 3",
   "language": "python",
   "name": "python3"
  },
  "language_info": {
   "codemirror_mode": {
    "name": "ipython",
    "version": 3
   },
   "file_extension": ".py",
   "mimetype": "text/x-python",
   "name": "python",
   "nbconvert_exporter": "python",
   "pygments_lexer": "ipython3",
   "version": "3.6.3"
  },
  "toc": {
   "nav_menu": {},
   "number_sections": true,
   "sideBar": true,
   "skip_h1_title": true,
   "toc_cell": false,
   "toc_position": {},
   "toc_section_display": "block",
   "toc_window_display": false
  }
 },
 "nbformat": 4,
 "nbformat_minor": 2
}
