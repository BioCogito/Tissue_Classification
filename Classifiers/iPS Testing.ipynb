{
 "cells": [
  {
   "cell_type": "code",
   "execution_count": 1,
   "metadata": {
    "collapsed": true
   },
   "outputs": [],
   "source": [
    "import os\n",
    "import sys\n",
    "module_path = os.path.abspath(os.path.join('..'))\n",
    "if module_path not in sys.path:\n",
    "    sys.path.append(module_path)"
   ]
  },
  {
   "cell_type": "code",
   "execution_count": 2,
   "metadata": {
    "collapsed": true
   },
   "outputs": [],
   "source": [
    "import Classification_Utils as cu\n",
    "import MaxQuant_Postprocessing_Functions as mq\n",
    "import numpy as np\n",
    "from os import listdir\n",
    "import pandas as pd\n",
    "from sklearn.decomposition import PCA\n",
    "from sklearn.externals import joblib\n",
    "from sklearn import preprocessing\n",
    "import time"
   ]
  },
  {
   "cell_type": "markdown",
   "metadata": {},
   "source": [
    "## Load and clean Data"
   ]
  },
  {
   "cell_type": "code",
   "execution_count": 3,
   "metadata": {
    "collapsed": true
   },
   "outputs": [],
   "source": [
    "HIGH_QUAL_DIR = 'F:\\High_Quality\\\\' \n",
    "TEST_SET_DIR = 'F:\\Cell_Line\\\\'\n",
    "\n",
    "files_dir = HIGH_QUAL_DIR \n",
    "file_paths = listdir(files_dir) \n",
    "\n",
    "df = cu.combine_csvs(files_dir, file_paths)\n",
    "\n",
    "df.dropna(axis='index', how='all', inplace=True) # drop any rows where all values are missing\n",
    "df = df.drop(['\\n'])\n",
    "\n",
    "original_df = df.copy()"
   ]
  },
  {
   "cell_type": "code",
   "execution_count": 4,
   "metadata": {},
   "outputs": [
    {
     "name": "stderr",
     "output_type": "stream",
     "text": [
      "C:\\Users\\kush494\\Documents\\Proteomics_Data_Processing\\MaxQuant_Postprocessing_Functions.py:150: RuntimeWarning: divide by zero encountered in log2\n",
      "  df.iloc[:,:] = np.log2(df.iloc[:,:])\n"
     ]
    }
   ],
   "source": [
    "mq.log2_normalize(df)\n",
    "\n",
    "df_min = df.min().min()\n",
    "impute_val = df_min/2\n",
    "df = df.fillna(impute_val)\n",
    "\n",
    "# median normalize\n",
    "mq.median_normalize(df)"
   ]
  },
  {
   "cell_type": "code",
   "execution_count": 5,
   "metadata": {
    "collapsed": true
   },
   "outputs": [],
   "source": [
    "tissues = ['Blood_Plasma', 'Blood_Serum', 'CSF', 'Liver', 'Monocyte', 'Ovary', 'Pancreas', 'Substantia_Nigra', 'Temporal_Lobe']\n",
    " \n",
    "tissues_to_columns = cu.map_tissues_to_columns(df, tissues)\n",
    "\n",
    "column_names = df.columns.values.tolist()\n",
    "labels = cu.get_labels(column_names, tissues_to_columns)"
   ]
  },
  {
   "cell_type": "markdown",
   "metadata": {},
   "source": [
    "## Set up Cell Line data"
   ]
  },
  {
   "cell_type": "code",
   "execution_count": 6,
   "metadata": {
    "collapsed": true
   },
   "outputs": [],
   "source": [
    "finalized_model_folder = r'Trained_Models\\\\'\n",
    "\n",
    "features_path = finalized_model_folder + 'train_features'\n",
    "\n",
    "features_to_keep = joblib.load(open(features_path, 'rb'))"
   ]
  },
  {
   "cell_type": "code",
   "execution_count": 7,
   "metadata": {
    "scrolled": false
   },
   "outputs": [
    {
     "name": "stderr",
     "output_type": "stream",
     "text": [
      "C:\\Users\\kush494\\Documents\\Proteomics_Data_Processing\\Classifiers\\Classification_Utils.py:523: RuntimeWarning: divide by zero encountered in log2\n",
      "  fitted_data.iloc[:,:] = np.log2(fitted_data.iloc[:,:])\n"
     ]
    }
   ],
   "source": [
    "NUM_SPLITS = 100\n",
    "\n",
    "test_paths = listdir(TEST_SET_DIR) \n",
    "test_data = cu.combine_csvs(TEST_SET_DIR, test_paths)\n",
    "\n",
    "test_labels = []\n",
    "for col in test_data.columns.values.tolist():\n",
    "    for tissue in tissues:\n",
    "        if col.startswith(tissue):\n",
    "            test_labels.append(tissue)\n",
    "            continue\n",
    "            \n",
    "original_test_data = test_data.copy()\n",
    "test_data = cu.fit_new_data(original_df, test_data, features_to_keep)"
   ]
  },
  {
   "cell_type": "code",
   "execution_count": 8,
   "metadata": {},
   "outputs": [
    {
     "data": {
      "text/plain": [
       "['Liver',\n",
       " 'Liver',\n",
       " 'Liver',\n",
       " 'Liver',\n",
       " 'Liver',\n",
       " 'Liver',\n",
       " 'Liver',\n",
       " 'Liver',\n",
       " 'Liver',\n",
       " 'Liver']"
      ]
     },
     "execution_count": 8,
     "metadata": {},
     "output_type": "execute_result"
    }
   ],
   "source": [
    "test_labels"
   ]
  },
  {
   "cell_type": "markdown",
   "metadata": {},
   "source": [
    "## Load classifiers"
   ]
  },
  {
   "cell_type": "code",
   "execution_count": 9,
   "metadata": {
    "collapsed": true
   },
   "outputs": [],
   "source": [
    "svc = joblib.load(open(finalized_model_folder + 'svc_highqual_crossval_25Percentile.sav', 'rb'))\n",
    "lr = joblib.load(open(finalized_model_folder + 'lr_highqual_crossval_25Percentile.sav', 'rb'))\n",
    "mnb = joblib.load(open(finalized_model_folder + 'mnb_highqual_crossval_25Percentile.sav', 'rb'))\n",
    "gnb = joblib.load(open(finalized_model_folder + 'gnb_highqual_crossval_25Percentile.sav', 'rb'))\n",
    "rf = joblib.load(open(finalized_model_folder + 'rf_highqual_crossval_25Percentile.sav', 'rb'))\n",
    "gbc = joblib.load(open(finalized_model_folder + 'gbc_highqual_crossval_25Percentile.sav', 'rb'))\n",
    "knn = joblib.load(open(finalized_model_folder + 'knn_highqual_crossval_25Percentile.sav', 'rb'))"
   ]
  },
  {
   "cell_type": "markdown",
   "metadata": {},
   "source": [
    "## Test classifier accuracy on iPS data"
   ]
  },
  {
   "cell_type": "code",
   "execution_count": 10,
   "metadata": {},
   "outputs": [],
   "source": [
    "mnb_pred = mnb.predict(test_data)\n",
    "mnb_result = mnb.score(test_data, test_labels)\n",
    "\n",
    "lr_pred = lr.predict(test_data)\n",
    "lr_result = lr.score(test_data, test_labels)\n",
    "\n",
    "svc_pred = svc.predict(test_data)\n",
    "svc_result = svc.score(test_data, test_labels)\n",
    "\n",
    "gnb_pred = gnb.predict(test_data)\n",
    "gnb_result = gnb.score(test_data, test_labels)\n",
    "\n",
    "gbc_pred = gbc.predict(test_data)\n",
    "gbc_result = gbc.score(test_data, test_labels)\n",
    "\n",
    "rf_pred = rf.predict(test_data)\n",
    "rf_result = rf.score(test_data, test_labels)\n",
    "\n",
    "knn_pred = knn.predict(test_data)\n",
    "knn_result = knn.score(test_data, test_labels)"
   ]
  },
  {
   "cell_type": "code",
   "execution_count": 11,
   "metadata": {},
   "outputs": [
    {
     "name": "stdout",
     "output_type": "stream",
     "text": [
      "0.5\n",
      "0.0\n",
      "0.0\n",
      "0.0\n",
      "0.4\n",
      "0.0\n",
      "0.0\n"
     ]
    }
   ],
   "source": [
    "print(lr_result)\n",
    "print(mnb_result)\n",
    "print(rf_result)\n",
    "print(svc_result)\n",
    "print(gbc_result)\n",
    "print(gnb_result)\n",
    "print(knn_result)"
   ]
  },
  {
   "cell_type": "code",
   "execution_count": 12,
   "metadata": {},
   "outputs": [
    {
     "data": {
      "text/plain": [
       "array(['Temporal_Lobe', 'Temporal_Lobe', 'Temporal_Lobe', 'Temporal_Lobe',\n",
       "       'Temporal_Lobe', 'Temporal_Lobe', 'Temporal_Lobe', 'Temporal_Lobe',\n",
       "       'Temporal_Lobe', 'Temporal_Lobe'],\n",
       "      dtype='<U16')"
      ]
     },
     "execution_count": 12,
     "metadata": {},
     "output_type": "execute_result"
    }
   ],
   "source": [
    "knn_pred"
   ]
  },
  {
   "cell_type": "markdown",
   "metadata": {},
   "source": [
    "## Confusion Matrix"
   ]
  },
  {
   "cell_type": "code",
   "execution_count": 13,
   "metadata": {},
   "outputs": [
    {
     "name": "stdout",
     "output_type": "stream",
     "text": [
      "Confusion matrix, without normalization\n",
      "[[ 0 10]\n",
      " [ 0  0]]\n",
      "Normalized confusion matrix\n",
      "[[  0.   1.]\n",
      " [ nan  nan]]\n"
     ]
    },
    {
     "name": "stderr",
     "output_type": "stream",
     "text": [
      "C:\\Users\\kush494\\Documents\\Proteomics_Data_Processing\\Classifiers\\Classification_Utils.py:585: RuntimeWarning: invalid value encountered in true_divide\n",
      "  cm = cm.astype('float') / cm.sum(axis=1)[:, np.newaxis]\n"
     ]
    },
    {
     "data": {
      "text/plain": [
       "<matplotlib.figure.Figure at 0x57f4630>"
      ]
     },
     "metadata": {},
     "output_type": "display_data"
    },
    {
     "data": {
      "image/png": "[encoded data removed]",
      "text/plain": [
       "<matplotlib.figure.Figure at 0xdbe5048>"
      ]
     },
     "metadata": {},
     "output_type": "display_data"
    },
    {
     "data": {
      "text/plain": [
       "<matplotlib.figure.Figure at 0xd504c50>"
      ]
     },
     "metadata": {},
     "output_type": "display_data"
    },
    {
     "data": {
      "image/png": "[encoded data removed]",
      "text/plain": [
       "<matplotlib.figure.Figure at 0xd510198>"
      ]
     },
     "metadata": {},
     "output_type": "display_data"
    }
   ],
   "source": [
    "cm_labels = list(set(mnb_pred.tolist() + test_labels))\n",
    "cu.show_confusion_matrices(test_labels, mnb_pred, cm_labels, 'Multinomial NB ')"
   ]
  },
  {
   "cell_type": "markdown",
   "metadata": {},
   "source": [
    "## PCA with Cell Line included"
   ]
  },
  {
   "cell_type": "code",
   "execution_count": 14,
   "metadata": {},
   "outputs": [],
   "source": [
    "### Copy test df, rename to cell_line\n",
    "original_test_data.columns = cu.rename_columns(original_test_data, 'Liver', 'Liver_Cell_Line')\n",
    "\n",
    "### join dfs\n",
    "combined_df = original_df.join(original_test_data, how='outer')\n",
    "combined_column_names = combined_df.columns.values.tolist()"
   ]
  },
  {
   "cell_type": "code",
   "execution_count": 15,
   "metadata": {},
   "outputs": [
    {
     "name": "stderr",
     "output_type": "stream",
     "text": [
      "C:\\Users\\kush494\\Documents\\Proteomics_Data_Processing\\MaxQuant_Postprocessing_Functions.py:150: RuntimeWarning: divide by zero encountered in log2\n",
      "  df.iloc[:,:] = np.log2(df.iloc[:,:])\n"
     ]
    }
   ],
   "source": [
    "mq.log2_normalize(combined_df)\n",
    "\n",
    "combined_df_min = combined_df.min().min()\n",
    "impute_val = combined_df_min/2\n",
    "combined_df = combined_df.fillna(impute_val)\n",
    "\n",
    "# median normalize\n",
    "mq.median_normalize(combined_df)"
   ]
  },
  {
   "cell_type": "code",
   "execution_count": 21,
   "metadata": {},
   "outputs": [],
   "source": [
    "combined_tissues = tissues + ['Liver_Cell_Line']\n",
    "\n",
    "combined_tissues_to_columns = cu.map_tissues_to_columns(combined_df, combined_tissues)\n",
    "column_to_color = mq.map_colors(combined_tissues, combined_tissues_to_columns, 10, 'Set3')"
   ]
  },
  {
   "cell_type": "code",
   "execution_count": 22,
   "metadata": {},
   "outputs": [
    {
     "name": "stderr",
     "output_type": "stream",
     "text": [
      "C:\\Users\\kush494\\AppData\\Local\\Continuum\\anaconda3\\lib\\site-packages\\matplotlib\\figure.py:418: UserWarning: matplotlib is currently using a non-GUI backend, so cannot show the figure\n",
      "  \"matplotlib is currently using a non-GUI backend, \"\n"
     ]
    }
   ],
   "source": [
    "### 2D and 3D PCA\n",
    "image_dir = r'D:\\Images\\Cell_Line\\\\'\n",
    "\n",
    "scaled_data = combined_df.T\n",
    "\n",
    "pca = PCA() # create a PCA object\n",
    "pca.fit(scaled_data) # do the math\n",
    "pca_data = pca.transform(scaled_data) # get PCA coordinates for dataframe\n",
    "\n",
    "pca_3 = PCA(n_components=3) \n",
    "pca_3.fit(scaled_data)\n",
    "pca_data_3 = pca_3.transform(scaled_data)\n",
    "\n",
    "per_var, pca_labels = mq.make_scree_plot(pca, image_dir, 'Scree Plot - 25 Percentile')\n",
    "per_var_3, pca_labels_3 = mq.make_scree_plot(pca_3, image_dir, '3 Dimensional Scree - 25 Percentile')\n",
    "\n",
    "mq.draw_pca_graph2(combined_column_names, pca_data, image_dir, column_to_color, per_var, pca_labels, \n",
    "                   combined_tissues, combined_tissues_to_columns, 'PCA - 25 Percentile')\n",
    "mq.draw_3d_pca(combined_column_names, pca_data_3, image_dir, column_to_color, per_var_3, pca_labels_3, \n",
    "               combined_tissues, combined_tissues_to_columns, '3D PCA - 25 Percentile')"
   ]
  }
 ],
 "metadata": {
  "kernelspec": {
   "display_name": "Python 3",
   "language": "python",
   "name": "python3"
  },
  "language_info": {
   "codemirror_mode": {
    "name": "ipython",
    "version": 3
   },
   "file_extension": ".py",
   "mimetype": "text/x-python",
   "name": "python",
   "nbconvert_exporter": "python",
   "pygments_lexer": "ipython3",
   "version": "3.6.3"
  },
  "toc": {
   "nav_menu": {},
   "number_sections": true,
   "sideBar": true,
   "skip_h1_title": true,
   "toc_cell": false,
   "toc_position": {},
   "toc_section_display": "block",
   "toc_window_display": false
  }
 },
 "nbformat": 4,
 "nbformat_minor": 2
}
