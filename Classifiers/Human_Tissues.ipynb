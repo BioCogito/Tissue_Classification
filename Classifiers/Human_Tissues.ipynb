{
 "cells": [
  {
   "cell_type": "markdown",
   "metadata": {},
   "source": [
    "# Using unlabelled, unfractionated datasets obtained from QExact and VOrbi instruments\n",
    "* Datasets were searched against H_sapiens_Uniprot_SPROT_2017-04-12, Tryp_Pig_Bov sequence files using MSGFPlus\n",
    "* Combined results with MASIC to get quantitation data"
   ]
  },
  {
   "cell_type": "code",
   "execution_count": 1,
   "metadata": {
    "collapsed": true
   },
   "outputs": [],
   "source": [
    "import os\n",
    "import sys\n",
    "module_path = os.path.abspath(os.path.join('..'))\n",
    "if module_path not in sys.path:\n",
    "    sys.path.append(module_path)"
   ]
  },
  {
   "cell_type": "code",
   "execution_count": 2,
   "metadata": {},
   "outputs": [],
   "source": [
    "import Classification_Utils as cu\n",
    "import MaxQuant_Postprocessing_Functions as mq\n",
    "from os import listdir\n",
    "import pandas as pd"
   ]
  },
  {
   "cell_type": "markdown",
   "metadata": {},
   "source": [
    "## Load (and combine?) data from all tissues"
   ]
  },
  {
   "cell_type": "code",
   "execution_count": 10,
   "metadata": {},
   "outputs": [],
   "source": [
    "files_dir = 'F:\\Data_for_classifier\\\\'\n",
    "file_paths = listdir(files_dir) \n",
    "\n",
    "df = cu.combine_csvs(files_dir, file_paths)"
   ]
  },
  {
   "cell_type": "code",
   "execution_count": 4,
   "metadata": {},
   "outputs": [
    {
     "data": {
      "text/html": [
       "<div>\n",
       "<style>\n",
       "    .dataframe thead tr:only-child th {\n",
       "        text-align: right;\n",
       "    }\n",
       "\n",
       "    .dataframe thead th {\n",
       "        text-align: left;\n",
       "    }\n",
       "\n",
       "    .dataframe tbody tr th {\n",
       "        vertical-align: top;\n",
       "    }\n",
       "</style>\n",
       "<table border=\"1\" class=\"dataframe\">\n",
       "  <thead>\n",
       "    <tr style=\"text-align: right;\">\n",
       "      <th></th>\n",
       "      <th>Blood_Plasma_CPTAC_TrypDige_undepleted_normal_19Apr13_Methow_13-02-13</th>\n",
       "      <th>Blood_Plasma_Darpa_2_human_02_23Jan17_Arwem_16-10-25</th>\n",
       "      <th>Blood_Plasma_OMICS_EBV_HP_UW001_8Apr16_Arwen_16-01-03</th>\n",
       "      <th>Blood_Plasma_OMICS_EBV_HP_UW002_8Apr16_Arwen_16-01-03</th>\n",
       "      <th>Blood_Plasma_OMICS_EBV_HP_UW003_8Apr16_Arwen_16-01-03</th>\n",
       "      <th>Blood_Plasma_OMICS_EBV_HP_UW004_8Apr16_Arwen_16-01-03</th>\n",
       "      <th>Blood_Plasma_OMICS_EBV_HP_UW005_8Apr16_Arwen_16-01-03</th>\n",
       "      <th>Blood_Plasma_RZHJ_012_16Jun10_Owl_10-02-04</th>\n",
       "      <th>Blood_Plasma_Trypsin_Digestion_Step5_Sample1_4Mar13_Lynx_13-02-11</th>\n",
       "      <th>Blood_Plasma_Trypsin_Digestion_Step5_Sample2_4Mar13_Lynx_13-02-11</th>\n",
       "    </tr>\n",
       "    <tr>\n",
       "      <th>Peptide</th>\n",
       "      <th></th>\n",
       "      <th></th>\n",
       "      <th></th>\n",
       "      <th></th>\n",
       "      <th></th>\n",
       "      <th></th>\n",
       "      <th></th>\n",
       "      <th></th>\n",
       "      <th></th>\n",
       "      <th></th>\n",
       "    </tr>\n",
       "  </thead>\n",
       "  <tbody>\n",
       "    <tr>\n",
       "      <th>\\n-.DIQM*TQSPSTLSASVGDR.V</th>\n",
       "      <td>111460000.0</td>\n",
       "      <td>4776900.0</td>\n",
       "      <td>NaN</td>\n",
       "      <td>6.740800e+08</td>\n",
       "      <td>1.013200e+09</td>\n",
       "      <td>NaN</td>\n",
       "      <td>201570000.0</td>\n",
       "      <td>NaN</td>\n",
       "      <td>NaN</td>\n",
       "      <td>NaN</td>\n",
       "    </tr>\n",
       "    <tr>\n",
       "      <th>\\n-.DIQM*TQSPSTLSASVGDRVTITCR.A</th>\n",
       "      <td>NaN</td>\n",
       "      <td>NaN</td>\n",
       "      <td>NaN</td>\n",
       "      <td>1.665500e+09</td>\n",
       "      <td>1.889800e+09</td>\n",
       "      <td>NaN</td>\n",
       "      <td>750580000.0</td>\n",
       "      <td>NaN</td>\n",
       "      <td>NaN</td>\n",
       "      <td>NaN</td>\n",
       "    </tr>\n",
       "    <tr>\n",
       "      <th>\\n-.DIQMTQSPS.T</th>\n",
       "      <td>113990000.0</td>\n",
       "      <td>NaN</td>\n",
       "      <td>NaN</td>\n",
       "      <td>NaN</td>\n",
       "      <td>NaN</td>\n",
       "      <td>NaN</td>\n",
       "      <td>NaN</td>\n",
       "      <td>NaN</td>\n",
       "      <td>NaN</td>\n",
       "      <td>NaN</td>\n",
       "    </tr>\n",
       "    <tr>\n",
       "      <th>\\n-.DIQMTQSPSTLSASVGDR.V</th>\n",
       "      <td>87789000.0</td>\n",
       "      <td>271390000.0</td>\n",
       "      <td>NaN</td>\n",
       "      <td>NaN</td>\n",
       "      <td>2.841000e+09</td>\n",
       "      <td>NaN</td>\n",
       "      <td>217430000.0</td>\n",
       "      <td>NaN</td>\n",
       "      <td>12897000.0</td>\n",
       "      <td>29051000.0</td>\n",
       "    </tr>\n",
       "    <tr>\n",
       "      <th>\\n-.DIQMTQSPSTLSASVGDRVTITCR.A</th>\n",
       "      <td>NaN</td>\n",
       "      <td>NaN</td>\n",
       "      <td>NaN</td>\n",
       "      <td>NaN</td>\n",
       "      <td>6.444900e+09</td>\n",
       "      <td>NaN</td>\n",
       "      <td>NaN</td>\n",
       "      <td>NaN</td>\n",
       "      <td>NaN</td>\n",
       "      <td>NaN</td>\n",
       "    </tr>\n",
       "  </tbody>\n",
       "</table>\n",
       "</div>"
      ],
      "text/plain": [
       "                                 Blood_Plasma_CPTAC_TrypDige_undepleted_normal_19Apr13_Methow_13-02-13  \\\n",
       "Peptide                                                                                                  \n",
       "\\n-.DIQM*TQSPSTLSASVGDR.V                                              111460000.0                       \n",
       "\\n-.DIQM*TQSPSTLSASVGDRVTITCR.A                                                NaN                       \n",
       "\\n-.DIQMTQSPS.T                                                        113990000.0                       \n",
       "\\n-.DIQMTQSPSTLSASVGDR.V                                                87789000.0                       \n",
       "\\n-.DIQMTQSPSTLSASVGDRVTITCR.A                                                 NaN                       \n",
       "\n",
       "                                 Blood_Plasma_Darpa_2_human_02_23Jan17_Arwem_16-10-25  \\\n",
       "Peptide                                                                                 \n",
       "\\n-.DIQM*TQSPSTLSASVGDR.V                                                4776900.0      \n",
       "\\n-.DIQM*TQSPSTLSASVGDRVTITCR.A                                                NaN      \n",
       "\\n-.DIQMTQSPS.T                                                                NaN      \n",
       "\\n-.DIQMTQSPSTLSASVGDR.V                                               271390000.0      \n",
       "\\n-.DIQMTQSPSTLSASVGDRVTITCR.A                                                 NaN      \n",
       "\n",
       "                                 Blood_Plasma_OMICS_EBV_HP_UW001_8Apr16_Arwen_16-01-03  \\\n",
       "Peptide                                                                                  \n",
       "\\n-.DIQM*TQSPSTLSASVGDR.V                                                      NaN       \n",
       "\\n-.DIQM*TQSPSTLSASVGDRVTITCR.A                                                NaN       \n",
       "\\n-.DIQMTQSPS.T                                                                NaN       \n",
       "\\n-.DIQMTQSPSTLSASVGDR.V                                                       NaN       \n",
       "\\n-.DIQMTQSPSTLSASVGDRVTITCR.A                                                 NaN       \n",
       "\n",
       "                                 Blood_Plasma_OMICS_EBV_HP_UW002_8Apr16_Arwen_16-01-03  \\\n",
       "Peptide                                                                                  \n",
       "\\n-.DIQM*TQSPSTLSASVGDR.V                                             6.740800e+08       \n",
       "\\n-.DIQM*TQSPSTLSASVGDRVTITCR.A                                       1.665500e+09       \n",
       "\\n-.DIQMTQSPS.T                                                                NaN       \n",
       "\\n-.DIQMTQSPSTLSASVGDR.V                                                       NaN       \n",
       "\\n-.DIQMTQSPSTLSASVGDRVTITCR.A                                                 NaN       \n",
       "\n",
       "                                 Blood_Plasma_OMICS_EBV_HP_UW003_8Apr16_Arwen_16-01-03  \\\n",
       "Peptide                                                                                  \n",
       "\\n-.DIQM*TQSPSTLSASVGDR.V                                             1.013200e+09       \n",
       "\\n-.DIQM*TQSPSTLSASVGDRVTITCR.A                                       1.889800e+09       \n",
       "\\n-.DIQMTQSPS.T                                                                NaN       \n",
       "\\n-.DIQMTQSPSTLSASVGDR.V                                              2.841000e+09       \n",
       "\\n-.DIQMTQSPSTLSASVGDRVTITCR.A                                        6.444900e+09       \n",
       "\n",
       "                                 Blood_Plasma_OMICS_EBV_HP_UW004_8Apr16_Arwen_16-01-03  \\\n",
       "Peptide                                                                                  \n",
       "\\n-.DIQM*TQSPSTLSASVGDR.V                                                      NaN       \n",
       "\\n-.DIQM*TQSPSTLSASVGDRVTITCR.A                                                NaN       \n",
       "\\n-.DIQMTQSPS.T                                                                NaN       \n",
       "\\n-.DIQMTQSPSTLSASVGDR.V                                                       NaN       \n",
       "\\n-.DIQMTQSPSTLSASVGDRVTITCR.A                                                 NaN       \n",
       "\n",
       "                                 Blood_Plasma_OMICS_EBV_HP_UW005_8Apr16_Arwen_16-01-03  \\\n",
       "Peptide                                                                                  \n",
       "\\n-.DIQM*TQSPSTLSASVGDR.V                                              201570000.0       \n",
       "\\n-.DIQM*TQSPSTLSASVGDRVTITCR.A                                        750580000.0       \n",
       "\\n-.DIQMTQSPS.T                                                                NaN       \n",
       "\\n-.DIQMTQSPSTLSASVGDR.V                                               217430000.0       \n",
       "\\n-.DIQMTQSPSTLSASVGDRVTITCR.A                                                 NaN       \n",
       "\n",
       "                                 Blood_Plasma_RZHJ_012_16Jun10_Owl_10-02-04  \\\n",
       "Peptide                                                                       \n",
       "\\n-.DIQM*TQSPSTLSASVGDR.V                                               NaN   \n",
       "\\n-.DIQM*TQSPSTLSASVGDRVTITCR.A                                         NaN   \n",
       "\\n-.DIQMTQSPS.T                                                         NaN   \n",
       "\\n-.DIQMTQSPSTLSASVGDR.V                                                NaN   \n",
       "\\n-.DIQMTQSPSTLSASVGDRVTITCR.A                                          NaN   \n",
       "\n",
       "                                 Blood_Plasma_Trypsin_Digestion_Step5_Sample1_4Mar13_Lynx_13-02-11  \\\n",
       "Peptide                                                                                              \n",
       "\\n-.DIQM*TQSPSTLSASVGDR.V                                                      NaN                   \n",
       "\\n-.DIQM*TQSPSTLSASVGDRVTITCR.A                                                NaN                   \n",
       "\\n-.DIQMTQSPS.T                                                                NaN                   \n",
       "\\n-.DIQMTQSPSTLSASVGDR.V                                                12897000.0                   \n",
       "\\n-.DIQMTQSPSTLSASVGDRVTITCR.A                                                 NaN                   \n",
       "\n",
       "                                 Blood_Plasma_Trypsin_Digestion_Step5_Sample2_4Mar13_Lynx_13-02-11  \n",
       "Peptide                                                                                             \n",
       "\\n-.DIQM*TQSPSTLSASVGDR.V                                                      NaN                  \n",
       "\\n-.DIQM*TQSPSTLSASVGDRVTITCR.A                                                NaN                  \n",
       "\\n-.DIQMTQSPS.T                                                                NaN                  \n",
       "\\n-.DIQMTQSPSTLSASVGDR.V                                                29051000.0                  \n",
       "\\n-.DIQMTQSPSTLSASVGDRVTITCR.A                                                 NaN                  "
      ]
     },
     "execution_count": 4,
     "metadata": {},
     "output_type": "execute_result"
    }
   ],
   "source": [
    "df.head()"
   ]
  },
  {
   "cell_type": "markdown",
   "metadata": {},
   "source": [
    "## Clean data\n",
    "* Log2 transform\n",
    "* Mean/Median normalize\n",
    "* Impute missing values"
   ]
  },
  {
   "cell_type": "code",
   "execution_count": 11,
   "metadata": {},
   "outputs": [
    {
     "name": "stderr",
     "output_type": "stream",
     "text": [
      "C:\\Users\\kush494\\Documents\\Proteomics_Data_Processing\\MaxQuant_Postprocessing_Functions.py:149: RuntimeWarning: divide by zero encountered in log2\n",
      "  df.iloc[:,:] = np.log2(df.iloc[:,:])\n"
     ]
    }
   ],
   "source": [
    "mq.log2_normalize(df)\n",
    "\n",
    "# mean normalize\n",
    "df = (df - df.mean())/df.std()\n",
    "\n",
    "# median normalize\n",
    "#mq.median_normalize(df)\n",
    "\n",
    "df_min = df.min().min()\n",
    "impute_val = df_min/2\n",
    "df = df.fillna(impute_val)"
   ]
  },
  {
   "cell_type": "markdown",
   "metadata": {},
   "source": [
    "## Map each column to a corresponding label"
   ]
  },
  {
   "cell_type": "code",
   "execution_count": 12,
   "metadata": {},
   "outputs": [
    {
     "data": {
      "text/plain": [
       "{'Blood_Plasma': ['Blood_Plasma_CPTAC_TrypDige_undepleted_normal_19Apr13_Methow_13-02-13',\n",
       "  'Blood_Plasma_Darpa_2_human_02_23Jan17_Arwem_16-10-25',\n",
       "  'Blood_Plasma_OMICS_EBV_HP_UW001_8Apr16_Arwen_16-01-03',\n",
       "  'Blood_Plasma_OMICS_EBV_HP_UW002_8Apr16_Arwen_16-01-03',\n",
       "  'Blood_Plasma_OMICS_EBV_HP_UW003_8Apr16_Arwen_16-01-03',\n",
       "  'Blood_Plasma_OMICS_EBV_HP_UW004_8Apr16_Arwen_16-01-03',\n",
       "  'Blood_Plasma_OMICS_EBV_HP_UW005_8Apr16_Arwen_16-01-03',\n",
       "  'Blood_Plasma_RZHJ_012_16Jun10_Owl_10-02-04',\n",
       "  'Blood_Plasma_Trypsin_Digestion_Step5_Sample1_4Mar13_Lynx_13-02-11',\n",
       "  'Blood_Plasma_Trypsin_Digestion_Step5_Sample2_4Mar13_Lynx_13-02-11']}"
      ]
     },
     "execution_count": 12,
     "metadata": {},
     "output_type": "execute_result"
    }
   ],
   "source": [
    "#tissues = ['Blood_Plasma', 'Blood_Serum', 'Liver', 'Monocyte', 'Ovary', 'Pancreas', 'Substantia_Nigra', 'Temporal_Lobe']\n",
    "tissues = ['Blood_Plasma']\n",
    "            \n",
    "tissues_to_columns = cu.map_tissues_to_columns(df, tissues)\n",
    "tissues_to_columns"
   ]
  },
  {
   "cell_type": "code",
   "execution_count": 15,
   "metadata": {},
   "outputs": [
    {
     "ename": "StopIteration",
     "evalue": "",
     "output_type": "error",
     "traceback": [
      "\u001b[1;31m---------------------------------------------------------------------------\u001b[0m",
      "\u001b[1;31mStopIteration\u001b[0m                             Traceback (most recent call last)",
      "\u001b[1;32m<ipython-input-15-5faf8d25895c>\u001b[0m in \u001b[0;36m<module>\u001b[1;34m()\u001b[0m\n\u001b[1;32m----> 1\u001b[1;33m \u001b[0mlabels\u001b[0m \u001b[1;33m=\u001b[0m \u001b[0mcu\u001b[0m\u001b[1;33m.\u001b[0m\u001b[0mget_labels\u001b[0m\u001b[1;33m(\u001b[0m\u001b[0mdf\u001b[0m\u001b[1;33m,\u001b[0m \u001b[0mtissues\u001b[0m\u001b[1;33m,\u001b[0m \u001b[0mtissues_to_columns\u001b[0m\u001b[1;33m)\u001b[0m\u001b[1;33m\u001b[0m\u001b[0m\n\u001b[0m\u001b[0;32m      2\u001b[0m \u001b[1;33m\u001b[0m\u001b[0m\n\u001b[0;32m      3\u001b[0m \u001b[1;31m# Sort columns by tissue type for visualization purposes\u001b[0m\u001b[1;33m\u001b[0m\u001b[1;33m\u001b[0m\u001b[0m\n",
      "\u001b[1;32m~\\Documents\\Proteomics_Data_Processing\\Classifiers\\Classification_Utils.py\u001b[0m in \u001b[0;36mget_labels\u001b[1;34m(df, columns, organ_to_columns)\u001b[0m\n\u001b[0;32m    440\u001b[0m \u001b[1;33m\u001b[0m\u001b[0m\n\u001b[0;32m    441\u001b[0m     \u001b[1;32mfor\u001b[0m \u001b[0mcolumn\u001b[0m \u001b[1;32min\u001b[0m \u001b[0mcolumns\u001b[0m\u001b[1;33m:\u001b[0m\u001b[1;33m\u001b[0m\u001b[0m\n\u001b[1;32m--> 442\u001b[1;33m         \u001b[0mkey\u001b[0m \u001b[1;33m=\u001b[0m \u001b[0mnext\u001b[0m\u001b[1;33m(\u001b[0m\u001b[0mkey\u001b[0m \u001b[1;32mfor\u001b[0m \u001b[0mkey\u001b[0m\u001b[1;33m,\u001b[0m \u001b[0mvalue\u001b[0m \u001b[1;32min\u001b[0m \u001b[0morgan_to_columns\u001b[0m\u001b[1;33m.\u001b[0m\u001b[0mitems\u001b[0m\u001b[1;33m(\u001b[0m\u001b[1;33m)\u001b[0m \u001b[1;32mif\u001b[0m \u001b[0mcolumn\u001b[0m \u001b[1;32min\u001b[0m \u001b[0mvalue\u001b[0m\u001b[1;33m)\u001b[0m\u001b[1;33m\u001b[0m\u001b[0m\n\u001b[0m\u001b[0;32m    443\u001b[0m         \u001b[0mlabels\u001b[0m\u001b[1;33m.\u001b[0m\u001b[0mappend\u001b[0m\u001b[1;33m(\u001b[0m\u001b[0mkey\u001b[0m\u001b[1;33m)\u001b[0m\u001b[1;33m\u001b[0m\u001b[0m\n\u001b[0;32m    444\u001b[0m \u001b[1;33m\u001b[0m\u001b[0m\n",
      "\u001b[1;31mStopIteration\u001b[0m: "
     ]
    }
   ],
   "source": [
    "labels = cu.get_labels(df, tissues, tissues_to_columns)\n",
    "\n",
    "# Sort columns by tissue type for visualization purposes"
   ]
  },
  {
   "cell_type": "markdown",
   "metadata": {},
   "source": [
    "## Visualize data\n",
    "* Normalized boxplots\n",
    "* Scree plot\n",
    "* PCA plot\n",
    "* Pearson Matrix"
   ]
  },
  {
   "cell_type": "code",
   "execution_count": 13,
   "metadata": {},
   "outputs": [
    {
     "data": {
      "text/plain": [
       "{'Blood_Plasma_CPTAC_TrypDige_undepleted_normal_19Apr13_Methow_13-02-13': (0.85999999999999999,\n",
       "  0.37119999999999997,\n",
       "  0.33999999999999997),\n",
       " 'Blood_Plasma_Darpa_2_human_02_23Jan17_Arwem_16-10-25': (0.85999999999999999,\n",
       "  0.37119999999999997,\n",
       "  0.33999999999999997),\n",
       " 'Blood_Plasma_OMICS_EBV_HP_UW001_8Apr16_Arwen_16-01-03': (0.85999999999999999,\n",
       "  0.37119999999999997,\n",
       "  0.33999999999999997),\n",
       " 'Blood_Plasma_OMICS_EBV_HP_UW002_8Apr16_Arwen_16-01-03': (0.85999999999999999,\n",
       "  0.37119999999999997,\n",
       "  0.33999999999999997),\n",
       " 'Blood_Plasma_OMICS_EBV_HP_UW003_8Apr16_Arwen_16-01-03': (0.85999999999999999,\n",
       "  0.37119999999999997,\n",
       "  0.33999999999999997),\n",
       " 'Blood_Plasma_OMICS_EBV_HP_UW004_8Apr16_Arwen_16-01-03': (0.85999999999999999,\n",
       "  0.37119999999999997,\n",
       "  0.33999999999999997),\n",
       " 'Blood_Plasma_OMICS_EBV_HP_UW005_8Apr16_Arwen_16-01-03': (0.85999999999999999,\n",
       "  0.37119999999999997,\n",
       "  0.33999999999999997),\n",
       " 'Blood_Plasma_RZHJ_012_16Jun10_Owl_10-02-04': (0.85999999999999999,\n",
       "  0.37119999999999997,\n",
       "  0.33999999999999997),\n",
       " 'Blood_Plasma_Trypsin_Digestion_Step5_Sample1_4Mar13_Lynx_13-02-11': (0.85999999999999999,\n",
       "  0.37119999999999997,\n",
       "  0.33999999999999997),\n",
       " 'Blood_Plasma_Trypsin_Digestion_Step5_Sample2_4Mar13_Lynx_13-02-11': (0.85999999999999999,\n",
       "  0.37119999999999997,\n",
       "  0.33999999999999997)}"
      ]
     },
     "execution_count": 13,
     "metadata": {},
     "output_type": "execute_result"
    }
   ],
   "source": [
    "image_dir = r'D:\\Images\\Human_Tissues\\\\'\n",
    "\n",
    "column_to_color = mq.map_colors(tissues, tissues_to_columns)\n",
    "column_to_color"
   ]
  },
  {
   "cell_type": "code",
   "execution_count": 14,
   "metadata": {},
   "outputs": [],
   "source": [
    "mq.make_seaborn_boxplot(df, image_dir, 'Median_normalized_boxplots', column_to_color)"
   ]
  },
  {
   "cell_type": "markdown",
   "metadata": {},
   "source": [
    "## Test various classifiers using cross-validation"
   ]
  },
  {
   "cell_type": "markdown",
   "metadata": {},
   "source": [
    "### Decision Tree"
   ]
  },
  {
   "cell_type": "markdown",
   "metadata": {},
   "source": [
    "### KNN"
   ]
  },
  {
   "cell_type": "markdown",
   "metadata": {},
   "source": [
    "### Logistic Regression"
   ]
  },
  {
   "cell_type": "markdown",
   "metadata": {},
   "source": [
    "### Naive Bayes\n",
    "* Gaussian\n",
    "* Multinomial"
   ]
  },
  {
   "cell_type": "markdown",
   "metadata": {},
   "source": [
    "### SVC variations"
   ]
  },
  {
   "cell_type": "markdown",
   "metadata": {},
   "source": [
    "### Aggregations\n",
    "* Decision Tree\n",
    "* Gradient Boosting"
   ]
  },
  {
   "cell_type": "markdown",
   "metadata": {},
   "source": [
    "## Tune parameters of best models (if applicable)\n",
    "* Check accuracy score and F1 score (measure of precision and recall)"
   ]
  },
  {
   "cell_type": "markdown",
   "metadata": {},
   "source": [
    "##  Confusion matrices of best models"
   ]
  },
  {
   "cell_type": "markdown",
   "metadata": {},
   "source": [
    "## Top expressed proteins/peptides per tissue"
   ]
  },
  {
   "cell_type": "markdown",
   "metadata": {},
   "source": [
    "## Save model\n",
    "* Save array/dataframe of features (via pickle?) along with final model\n",
    "* Write script to classify new data-- load features and fit new data on them"
   ]
  }
 ],
 "metadata": {
  "kernelspec": {
   "display_name": "Python 3",
   "language": "python",
   "name": "python3"
  },
  "language_info": {
   "codemirror_mode": {
    "name": "ipython",
    "version": 3
   },
   "file_extension": ".py",
   "mimetype": "text/x-python",
   "name": "python",
   "nbconvert_exporter": "python",
   "pygments_lexer": "ipython3",
   "version": "3.6.3"
  },
  "toc": {
   "nav_menu": {},
   "number_sections": true,
   "sideBar": true,
   "skip_h1_title": true,
   "toc_cell": false,
   "toc_position": {},
   "toc_section_display": "block",
   "toc_window_display": false
  }
 },
 "nbformat": 4,
 "nbformat_minor": 2
}
