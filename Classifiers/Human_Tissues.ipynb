{
 "cells": [
  {
   "cell_type": "markdown",
   "metadata": {},
   "source": [
    "# Using unlabelled, unfractionated datasets obtained from QExact and VOrbi instruments\n",
    "* Datasets were searched against H_sapiens_Uniprot_SPROT_2017-04-12, Tryp_Pig_Bov sequence files using MSGFPlus\n",
    "* Combined results with MASIC results (Q <= 0.01) to get quantitation data"
   ]
  },
  {
   "cell_type": "code",
   "execution_count": 1,
   "metadata": {
    "collapsed": true
   },
   "outputs": [],
   "source": [
    "import os\n",
    "import sys\n",
    "module_path = os.path.abspath(os.path.join('..'))\n",
    "if module_path not in sys.path:\n",
    "    sys.path.append(module_path)"
   ]
  },
  {
   "cell_type": "code",
   "execution_count": 2,
   "metadata": {
    "collapsed": true
   },
   "outputs": [],
   "source": [
    "import Classification_Utils as cu\n",
    "import MaxQuant_Postprocessing_Functions as mq\n",
    "import numpy as np\n",
    "from os import listdir\n",
    "import pandas as pd\n",
    "from sklearn.decomposition import PCA\n",
    "from sklearn.externals import joblib\n",
    "from sklearn import preprocessing\n",
    "import time"
   ]
  },
  {
   "cell_type": "markdown",
   "metadata": {},
   "source": [
    "## Load (and combine?) data from all tissues"
   ]
  },
  {
   "cell_type": "code",
   "execution_count": 3,
   "metadata": {},
   "outputs": [],
   "source": [
    "HIGH_QUAL_DIR = 'F:\\High_Quality\\\\'\n",
    "MIXED_QUAL_DIR = 'F:\\Mixed_Quality\\\\'\n",
    "LOW_QUAL_DIR = 'F:\\Low_Quality\\\\'\n",
    "TEST_SET_DIR = 'F:\\Test_Set\\\\'\n",
    "\n",
    "files_dir = 'F:\\LTQOrb\\\\'\n",
    "file_paths = listdir(files_dir) \n",
    "\n",
    "#files_dir2 = TEST_SET_DIR\n",
    "#file_paths2 = listdir(files_dir2) \n",
    "\n",
    "df = cu.combine_csvs(files_dir, file_paths)\n",
    "\n",
    "#df1 = cu.combine_csvs(files_dir, file_paths)\n",
    "#df2 = cu.combine_csvs(files_dir2, file_paths2)\n",
    "#df = df1.join(df2, how='outer')"
   ]
  },
  {
   "cell_type": "code",
   "execution_count": 4,
   "metadata": {
    "scrolled": true
   },
   "outputs": [
    {
     "name": "stdout",
     "output_type": "stream",
     "text": [
      "(17687, 49)\n"
     ]
    },
    {
     "data": {
      "text/html": [
       "<div>\n",
       "<style>\n",
       "    .dataframe thead tr:only-child th {\n",
       "        text-align: right;\n",
       "    }\n",
       "\n",
       "    .dataframe thead th {\n",
       "        text-align: left;\n",
       "    }\n",
       "\n",
       "    .dataframe tbody tr th {\n",
       "        vertical-align: top;\n",
       "    }\n",
       "</style>\n",
       "<table border=\"1\" class=\"dataframe\">\n",
       "  <thead>\n",
       "    <tr style=\"text-align: right;\">\n",
       "      <th></th>\n",
       "      <th>Blood_Serum_Sarc_RTGlo_1_29Jan10_Draco_09-11-41</th>\n",
       "      <th>Blood_Serum_Sarc_RTGlo_10_29Jan10_Draco_09-11-43</th>\n",
       "      <th>Blood_Serum_Sarc_RTGlo_2_29Jan10_Draco_09-11-43</th>\n",
       "      <th>Blood_Serum_Sarc_RTGlo_3_29Jan10_Draco_09-11-41</th>\n",
       "      <th>Blood_Serum_Sarc_RTGlo_4_29Jan10_Draco_09-11-43</th>\n",
       "      <th>Blood_Serum_Sarc_RTGlo_5_02Feb10_Draco_09-11-41</th>\n",
       "      <th>Blood_Serum_Sarc_RTGlo_6_29Jan10_Draco_09-11-43</th>\n",
       "      <th>Blood_Serum_Sarc_RTGlo_7_29Jan10_Draco_09-11-41</th>\n",
       "      <th>Blood_Serum_Sarc_RTGlo_8_29Jan10_Draco_09-11-43</th>\n",
       "      <th>Blood_Serum_Sarc_RTGlo_9_29Jan10_Draco_09-11-41</th>\n",
       "      <th>...</th>\n",
       "      <th>Temporal_Lobe_ALZ_VP2P101_C142_9Dec08_Draco_08-10-27</th>\n",
       "      <th>Temporal_Lobe_ALZ_VP2P101_C147_28Nov08_Draco_08-10-29</th>\n",
       "      <th>Temporal_Lobe_ALZ_VP2P101_C148_28Nov08_Draco_08-10-29</th>\n",
       "      <th>Temporal_Lobe_ALZ_VP2P101_C150_10Dec08_Draco_08-10-27</th>\n",
       "      <th>Temporal_Lobe_ALZ_VP2P101_C151_28Nov08_Draco_08-10-29</th>\n",
       "      <th>Temporal_Lobe_ALZ_VP2P101_C153_13Dec08_Draco_08-10-27</th>\n",
       "      <th>Temporal_Lobe_ALZ_VP2P101_C154_28Nov08_Draco_08-10-29</th>\n",
       "      <th>Temporal_Lobe_ALZ_VP2P101_C160_7Dec08_Draco_08-10-27</th>\n",
       "      <th>Temporal_Lobe_ALZ_VP2P101_C161_27Nov08_Draco_08-10-29</th>\n",
       "      <th>Temporal_Lobe_ALZ_VP2P101_C163_9Dec08_Draco_08-10-27</th>\n",
       "    </tr>\n",
       "    <tr>\n",
       "      <th>Peptide</th>\n",
       "      <th></th>\n",
       "      <th></th>\n",
       "      <th></th>\n",
       "      <th></th>\n",
       "      <th></th>\n",
       "      <th></th>\n",
       "      <th></th>\n",
       "      <th></th>\n",
       "      <th></th>\n",
       "      <th></th>\n",
       "      <th></th>\n",
       "      <th></th>\n",
       "      <th></th>\n",
       "      <th></th>\n",
       "      <th></th>\n",
       "      <th></th>\n",
       "      <th></th>\n",
       "      <th></th>\n",
       "      <th></th>\n",
       "      <th></th>\n",
       "      <th></th>\n",
       "    </tr>\n",
       "  </thead>\n",
       "  <tbody>\n",
       "    <tr>\n",
       "      <th>\\n-.DIQMTQSPSTLSASVGDR.V</th>\n",
       "      <td>NaN</td>\n",
       "      <td>NaN</td>\n",
       "      <td>NaN</td>\n",
       "      <td>NaN</td>\n",
       "      <td>NaN</td>\n",
       "      <td>NaN</td>\n",
       "      <td>NaN</td>\n",
       "      <td>NaN</td>\n",
       "      <td>NaN</td>\n",
       "      <td>NaN</td>\n",
       "      <td>...</td>\n",
       "      <td>NaN</td>\n",
       "      <td>NaN</td>\n",
       "      <td>NaN</td>\n",
       "      <td>NaN</td>\n",
       "      <td>NaN</td>\n",
       "      <td>NaN</td>\n",
       "      <td>NaN</td>\n",
       "      <td>NaN</td>\n",
       "      <td>NaN</td>\n",
       "      <td>NaN</td>\n",
       "    </tr>\n",
       "    <tr>\n",
       "      <th>\\n-.KVHGSLAR.A</th>\n",
       "      <td>NaN</td>\n",
       "      <td>NaN</td>\n",
       "      <td>NaN</td>\n",
       "      <td>NaN</td>\n",
       "      <td>NaN</td>\n",
       "      <td>NaN</td>\n",
       "      <td>NaN</td>\n",
       "      <td>NaN</td>\n",
       "      <td>NaN</td>\n",
       "      <td>NaN</td>\n",
       "      <td>...</td>\n",
       "      <td>NaN</td>\n",
       "      <td>NaN</td>\n",
       "      <td>NaN</td>\n",
       "      <td>NaN</td>\n",
       "      <td>NaN</td>\n",
       "      <td>NaN</td>\n",
       "      <td>NaN</td>\n",
       "      <td>NaN</td>\n",
       "      <td>10326000.0</td>\n",
       "      <td>NaN</td>\n",
       "    </tr>\n",
       "    <tr>\n",
       "      <th>\\n-.LGEHNIDVLEGNEQFINAAR.I</th>\n",
       "      <td>365750000.0</td>\n",
       "      <td>234250000.0</td>\n",
       "      <td>314170000.0</td>\n",
       "      <td>99031000.0</td>\n",
       "      <td>86449000.0</td>\n",
       "      <td>288130000.0</td>\n",
       "      <td>141240000.0</td>\n",
       "      <td>NaN</td>\n",
       "      <td>NaN</td>\n",
       "      <td>219350000.0</td>\n",
       "      <td>...</td>\n",
       "      <td>45631000.0</td>\n",
       "      <td>NaN</td>\n",
       "      <td>NaN</td>\n",
       "      <td>78341000.0</td>\n",
       "      <td>NaN</td>\n",
       "      <td>12234000.0</td>\n",
       "      <td>NaN</td>\n",
       "      <td>19340000.0</td>\n",
       "      <td>88260000.0</td>\n",
       "      <td>62144000.0</td>\n",
       "    </tr>\n",
       "    <tr>\n",
       "      <th>\\n-.LGEHNIDVLEGNEQFINAARIITHPN.F</th>\n",
       "      <td>97629000.0</td>\n",
       "      <td>NaN</td>\n",
       "      <td>NaN</td>\n",
       "      <td>NaN</td>\n",
       "      <td>NaN</td>\n",
       "      <td>NaN</td>\n",
       "      <td>NaN</td>\n",
       "      <td>NaN</td>\n",
       "      <td>NaN</td>\n",
       "      <td>NaN</td>\n",
       "      <td>...</td>\n",
       "      <td>22963000.0</td>\n",
       "      <td>NaN</td>\n",
       "      <td>NaN</td>\n",
       "      <td>NaN</td>\n",
       "      <td>NaN</td>\n",
       "      <td>17404000.0</td>\n",
       "      <td>NaN</td>\n",
       "      <td>24154000.0</td>\n",
       "      <td>72732000.0</td>\n",
       "      <td>NaN</td>\n",
       "    </tr>\n",
       "    <tr>\n",
       "      <th>\\n-.LGEHNIDVLEGNEQFINAARIITHPNFN.G</th>\n",
       "      <td>NaN</td>\n",
       "      <td>NaN</td>\n",
       "      <td>NaN</td>\n",
       "      <td>NaN</td>\n",
       "      <td>NaN</td>\n",
       "      <td>NaN</td>\n",
       "      <td>NaN</td>\n",
       "      <td>NaN</td>\n",
       "      <td>NaN</td>\n",
       "      <td>NaN</td>\n",
       "      <td>...</td>\n",
       "      <td>NaN</td>\n",
       "      <td>NaN</td>\n",
       "      <td>NaN</td>\n",
       "      <td>NaN</td>\n",
       "      <td>NaN</td>\n",
       "      <td>NaN</td>\n",
       "      <td>NaN</td>\n",
       "      <td>NaN</td>\n",
       "      <td>NaN</td>\n",
       "      <td>NaN</td>\n",
       "    </tr>\n",
       "  </tbody>\n",
       "</table>\n",
       "<p>5 rows × 49 columns</p>\n",
       "</div>"
      ],
      "text/plain": [
       "                                    Blood_Serum_Sarc_RTGlo_1_29Jan10_Draco_09-11-41  \\\n",
       "Peptide                                                                               \n",
       "\\n-.DIQMTQSPSTLSASVGDR.V                                                        NaN   \n",
       "\\n-.KVHGSLAR.A                                                                  NaN   \n",
       "\\n-.LGEHNIDVLEGNEQFINAAR.I                                              365750000.0   \n",
       "\\n-.LGEHNIDVLEGNEQFINAARIITHPN.F                                         97629000.0   \n",
       "\\n-.LGEHNIDVLEGNEQFINAARIITHPNFN.G                                              NaN   \n",
       "\n",
       "                                    Blood_Serum_Sarc_RTGlo_10_29Jan10_Draco_09-11-43  \\\n",
       "Peptide                                                                                \n",
       "\\n-.DIQMTQSPSTLSASVGDR.V                                                         NaN   \n",
       "\\n-.KVHGSLAR.A                                                                   NaN   \n",
       "\\n-.LGEHNIDVLEGNEQFINAAR.I                                               234250000.0   \n",
       "\\n-.LGEHNIDVLEGNEQFINAARIITHPN.F                                                 NaN   \n",
       "\\n-.LGEHNIDVLEGNEQFINAARIITHPNFN.G                                               NaN   \n",
       "\n",
       "                                    Blood_Serum_Sarc_RTGlo_2_29Jan10_Draco_09-11-43  \\\n",
       "Peptide                                                                               \n",
       "\\n-.DIQMTQSPSTLSASVGDR.V                                                        NaN   \n",
       "\\n-.KVHGSLAR.A                                                                  NaN   \n",
       "\\n-.LGEHNIDVLEGNEQFINAAR.I                                              314170000.0   \n",
       "\\n-.LGEHNIDVLEGNEQFINAARIITHPN.F                                                NaN   \n",
       "\\n-.LGEHNIDVLEGNEQFINAARIITHPNFN.G                                              NaN   \n",
       "\n",
       "                                    Blood_Serum_Sarc_RTGlo_3_29Jan10_Draco_09-11-41  \\\n",
       "Peptide                                                                               \n",
       "\\n-.DIQMTQSPSTLSASVGDR.V                                                        NaN   \n",
       "\\n-.KVHGSLAR.A                                                                  NaN   \n",
       "\\n-.LGEHNIDVLEGNEQFINAAR.I                                               99031000.0   \n",
       "\\n-.LGEHNIDVLEGNEQFINAARIITHPN.F                                                NaN   \n",
       "\\n-.LGEHNIDVLEGNEQFINAARIITHPNFN.G                                              NaN   \n",
       "\n",
       "                                    Blood_Serum_Sarc_RTGlo_4_29Jan10_Draco_09-11-43  \\\n",
       "Peptide                                                                               \n",
       "\\n-.DIQMTQSPSTLSASVGDR.V                                                        NaN   \n",
       "\\n-.KVHGSLAR.A                                                                  NaN   \n",
       "\\n-.LGEHNIDVLEGNEQFINAAR.I                                               86449000.0   \n",
       "\\n-.LGEHNIDVLEGNEQFINAARIITHPN.F                                                NaN   \n",
       "\\n-.LGEHNIDVLEGNEQFINAARIITHPNFN.G                                              NaN   \n",
       "\n",
       "                                    Blood_Serum_Sarc_RTGlo_5_02Feb10_Draco_09-11-41  \\\n",
       "Peptide                                                                               \n",
       "\\n-.DIQMTQSPSTLSASVGDR.V                                                        NaN   \n",
       "\\n-.KVHGSLAR.A                                                                  NaN   \n",
       "\\n-.LGEHNIDVLEGNEQFINAAR.I                                              288130000.0   \n",
       "\\n-.LGEHNIDVLEGNEQFINAARIITHPN.F                                                NaN   \n",
       "\\n-.LGEHNIDVLEGNEQFINAARIITHPNFN.G                                              NaN   \n",
       "\n",
       "                                    Blood_Serum_Sarc_RTGlo_6_29Jan10_Draco_09-11-43  \\\n",
       "Peptide                                                                               \n",
       "\\n-.DIQMTQSPSTLSASVGDR.V                                                        NaN   \n",
       "\\n-.KVHGSLAR.A                                                                  NaN   \n",
       "\\n-.LGEHNIDVLEGNEQFINAAR.I                                              141240000.0   \n",
       "\\n-.LGEHNIDVLEGNEQFINAARIITHPN.F                                                NaN   \n",
       "\\n-.LGEHNIDVLEGNEQFINAARIITHPNFN.G                                              NaN   \n",
       "\n",
       "                                    Blood_Serum_Sarc_RTGlo_7_29Jan10_Draco_09-11-41  \\\n",
       "Peptide                                                                               \n",
       "\\n-.DIQMTQSPSTLSASVGDR.V                                                        NaN   \n",
       "\\n-.KVHGSLAR.A                                                                  NaN   \n",
       "\\n-.LGEHNIDVLEGNEQFINAAR.I                                                      NaN   \n",
       "\\n-.LGEHNIDVLEGNEQFINAARIITHPN.F                                                NaN   \n",
       "\\n-.LGEHNIDVLEGNEQFINAARIITHPNFN.G                                              NaN   \n",
       "\n",
       "                                    Blood_Serum_Sarc_RTGlo_8_29Jan10_Draco_09-11-43  \\\n",
       "Peptide                                                                               \n",
       "\\n-.DIQMTQSPSTLSASVGDR.V                                                        NaN   \n",
       "\\n-.KVHGSLAR.A                                                                  NaN   \n",
       "\\n-.LGEHNIDVLEGNEQFINAAR.I                                                      NaN   \n",
       "\\n-.LGEHNIDVLEGNEQFINAARIITHPN.F                                                NaN   \n",
       "\\n-.LGEHNIDVLEGNEQFINAARIITHPNFN.G                                              NaN   \n",
       "\n",
       "                                    Blood_Serum_Sarc_RTGlo_9_29Jan10_Draco_09-11-41  \\\n",
       "Peptide                                                                               \n",
       "\\n-.DIQMTQSPSTLSASVGDR.V                                                        NaN   \n",
       "\\n-.KVHGSLAR.A                                                                  NaN   \n",
       "\\n-.LGEHNIDVLEGNEQFINAAR.I                                              219350000.0   \n",
       "\\n-.LGEHNIDVLEGNEQFINAARIITHPN.F                                                NaN   \n",
       "\\n-.LGEHNIDVLEGNEQFINAARIITHPNFN.G                                              NaN   \n",
       "\n",
       "                                                            ...                           \\\n",
       "Peptide                                                     ...                            \n",
       "\\n-.DIQMTQSPSTLSASVGDR.V                                    ...                            \n",
       "\\n-.KVHGSLAR.A                                              ...                            \n",
       "\\n-.LGEHNIDVLEGNEQFINAAR.I                                  ...                            \n",
       "\\n-.LGEHNIDVLEGNEQFINAARIITHPN.F                            ...                            \n",
       "\\n-.LGEHNIDVLEGNEQFINAARIITHPNFN.G                          ...                            \n",
       "\n",
       "                                    Temporal_Lobe_ALZ_VP2P101_C142_9Dec08_Draco_08-10-27  \\\n",
       "Peptide                                                                                    \n",
       "\\n-.DIQMTQSPSTLSASVGDR.V                                                          NaN      \n",
       "\\n-.KVHGSLAR.A                                                                    NaN      \n",
       "\\n-.LGEHNIDVLEGNEQFINAAR.I                                                 45631000.0      \n",
       "\\n-.LGEHNIDVLEGNEQFINAARIITHPN.F                                           22963000.0      \n",
       "\\n-.LGEHNIDVLEGNEQFINAARIITHPNFN.G                                                NaN      \n",
       "\n",
       "                                    Temporal_Lobe_ALZ_VP2P101_C147_28Nov08_Draco_08-10-29  \\\n",
       "Peptide                                                                                     \n",
       "\\n-.DIQMTQSPSTLSASVGDR.V                                                          NaN       \n",
       "\\n-.KVHGSLAR.A                                                                    NaN       \n",
       "\\n-.LGEHNIDVLEGNEQFINAAR.I                                                        NaN       \n",
       "\\n-.LGEHNIDVLEGNEQFINAARIITHPN.F                                                  NaN       \n",
       "\\n-.LGEHNIDVLEGNEQFINAARIITHPNFN.G                                                NaN       \n",
       "\n",
       "                                    Temporal_Lobe_ALZ_VP2P101_C148_28Nov08_Draco_08-10-29  \\\n",
       "Peptide                                                                                     \n",
       "\\n-.DIQMTQSPSTLSASVGDR.V                                                          NaN       \n",
       "\\n-.KVHGSLAR.A                                                                    NaN       \n",
       "\\n-.LGEHNIDVLEGNEQFINAAR.I                                                        NaN       \n",
       "\\n-.LGEHNIDVLEGNEQFINAARIITHPN.F                                                  NaN       \n",
       "\\n-.LGEHNIDVLEGNEQFINAARIITHPNFN.G                                                NaN       \n",
       "\n",
       "                                    Temporal_Lobe_ALZ_VP2P101_C150_10Dec08_Draco_08-10-27  \\\n",
       "Peptide                                                                                     \n",
       "\\n-.DIQMTQSPSTLSASVGDR.V                                                          NaN       \n",
       "\\n-.KVHGSLAR.A                                                                    NaN       \n",
       "\\n-.LGEHNIDVLEGNEQFINAAR.I                                                 78341000.0       \n",
       "\\n-.LGEHNIDVLEGNEQFINAARIITHPN.F                                                  NaN       \n",
       "\\n-.LGEHNIDVLEGNEQFINAARIITHPNFN.G                                                NaN       \n",
       "\n",
       "                                    Temporal_Lobe_ALZ_VP2P101_C151_28Nov08_Draco_08-10-29  \\\n",
       "Peptide                                                                                     \n",
       "\\n-.DIQMTQSPSTLSASVGDR.V                                                          NaN       \n",
       "\\n-.KVHGSLAR.A                                                                    NaN       \n",
       "\\n-.LGEHNIDVLEGNEQFINAAR.I                                                        NaN       \n",
       "\\n-.LGEHNIDVLEGNEQFINAARIITHPN.F                                                  NaN       \n",
       "\\n-.LGEHNIDVLEGNEQFINAARIITHPNFN.G                                                NaN       \n",
       "\n",
       "                                    Temporal_Lobe_ALZ_VP2P101_C153_13Dec08_Draco_08-10-27  \\\n",
       "Peptide                                                                                     \n",
       "\\n-.DIQMTQSPSTLSASVGDR.V                                                          NaN       \n",
       "\\n-.KVHGSLAR.A                                                                    NaN       \n",
       "\\n-.LGEHNIDVLEGNEQFINAAR.I                                                 12234000.0       \n",
       "\\n-.LGEHNIDVLEGNEQFINAARIITHPN.F                                           17404000.0       \n",
       "\\n-.LGEHNIDVLEGNEQFINAARIITHPNFN.G                                                NaN       \n",
       "\n",
       "                                    Temporal_Lobe_ALZ_VP2P101_C154_28Nov08_Draco_08-10-29  \\\n",
       "Peptide                                                                                     \n",
       "\\n-.DIQMTQSPSTLSASVGDR.V                                                          NaN       \n",
       "\\n-.KVHGSLAR.A                                                                    NaN       \n",
       "\\n-.LGEHNIDVLEGNEQFINAAR.I                                                        NaN       \n",
       "\\n-.LGEHNIDVLEGNEQFINAARIITHPN.F                                                  NaN       \n",
       "\\n-.LGEHNIDVLEGNEQFINAARIITHPNFN.G                                                NaN       \n",
       "\n",
       "                                    Temporal_Lobe_ALZ_VP2P101_C160_7Dec08_Draco_08-10-27  \\\n",
       "Peptide                                                                                    \n",
       "\\n-.DIQMTQSPSTLSASVGDR.V                                                          NaN      \n",
       "\\n-.KVHGSLAR.A                                                                    NaN      \n",
       "\\n-.LGEHNIDVLEGNEQFINAAR.I                                                 19340000.0      \n",
       "\\n-.LGEHNIDVLEGNEQFINAARIITHPN.F                                           24154000.0      \n",
       "\\n-.LGEHNIDVLEGNEQFINAARIITHPNFN.G                                                NaN      \n",
       "\n",
       "                                    Temporal_Lobe_ALZ_VP2P101_C161_27Nov08_Draco_08-10-29  \\\n",
       "Peptide                                                                                     \n",
       "\\n-.DIQMTQSPSTLSASVGDR.V                                                          NaN       \n",
       "\\n-.KVHGSLAR.A                                                             10326000.0       \n",
       "\\n-.LGEHNIDVLEGNEQFINAAR.I                                                 88260000.0       \n",
       "\\n-.LGEHNIDVLEGNEQFINAARIITHPN.F                                           72732000.0       \n",
       "\\n-.LGEHNIDVLEGNEQFINAARIITHPNFN.G                                                NaN       \n",
       "\n",
       "                                    Temporal_Lobe_ALZ_VP2P101_C163_9Dec08_Draco_08-10-27  \n",
       "Peptide                                                                                   \n",
       "\\n-.DIQMTQSPSTLSASVGDR.V                                                          NaN     \n",
       "\\n-.KVHGSLAR.A                                                                    NaN     \n",
       "\\n-.LGEHNIDVLEGNEQFINAAR.I                                                 62144000.0     \n",
       "\\n-.LGEHNIDVLEGNEQFINAARIITHPN.F                                                  NaN     \n",
       "\\n-.LGEHNIDVLEGNEQFINAARIITHPNFN.G                                                NaN     \n",
       "\n",
       "[5 rows x 49 columns]"
      ]
     },
     "execution_count": 4,
     "metadata": {},
     "output_type": "execute_result"
    }
   ],
   "source": [
    "df.dropna(axis='index', how='all', inplace=True) # drop any rows where all values are missing\n",
    "\n",
    "original_df = df.copy()\n",
    "\n",
    "print(df.shape)\n",
    "df.head()"
   ]
  },
  {
   "cell_type": "markdown",
   "metadata": {},
   "source": [
    "## Clean data\n",
    "* Log2 transform\n",
    "* Impute missing values\n",
    "* Mean/Median normalize"
   ]
  },
  {
   "cell_type": "code",
   "execution_count": 5,
   "metadata": {},
   "outputs": [
    {
     "name": "stderr",
     "output_type": "stream",
     "text": [
      "C:\\Users\\kush494\\Documents\\Proteomics_Data_Processing\\MaxQuant_Postprocessing_Functions.py:150: RuntimeWarning: divide by zero encountered in log2\n",
      "  df.iloc[:,:] = np.log2(df.iloc[:,:])\n"
     ]
    }
   ],
   "source": [
    "mq.log2_normalize(df)\n",
    "\n",
    "df_min = df.min().min()\n",
    "impute_val = df_min/2\n",
    "df = df.fillna(impute_val)\n",
    "\n",
    "# median normalize\n",
    "mq.median_normalize(df)\n",
    "#df.iloc[:,:] = preprocessing.RobustScaler().fit_transform(df)"
   ]
  },
  {
   "cell_type": "markdown",
   "metadata": {},
   "source": [
    "## Map each column to a corresponding label"
   ]
  },
  {
   "cell_type": "code",
   "execution_count": 6,
   "metadata": {
    "collapsed": true
   },
   "outputs": [],
   "source": [
    "tissues = ['Blood_Plasma', 'Blood_Serum', 'CSF', 'Liver', 'Monocyte', 'Ovary', 'Pancreas', 'Substantia_Nigra', 'Temporal_Lobe']\n",
    " \n",
    "tissues_to_columns = cu.map_tissues_to_columns(df, tissues)\n",
    "#tissues_to_columns"
   ]
  },
  {
   "cell_type": "code",
   "execution_count": 7,
   "metadata": {},
   "outputs": [],
   "source": [
    "column_names = df.columns.values.tolist()\n",
    "labels = cu.get_labels(column_names, tissues_to_columns)\n",
    "# Sort columns by tissue type for visualization purposes"
   ]
  },
  {
   "cell_type": "code",
   "execution_count": 8,
   "metadata": {},
   "outputs": [
    {
     "name": "stdout",
     "output_type": "stream",
     "text": [
      "Counter({'Blood_Serum': 10, 'CSF': 10, 'Liver': 10, 'Temporal_Lobe': 10, 'Monocyte': 9})\n"
     ]
    }
   ],
   "source": [
    "from collections import Counter\n",
    "counts = Counter(labels)\n",
    "print(counts)"
   ]
  },
  {
   "cell_type": "code",
   "execution_count": 9,
   "metadata": {
    "scrolled": false
   },
   "outputs": [
    {
     "data": {
      "text/html": [
       "<div>\n",
       "<style>\n",
       "    .dataframe thead tr:only-child th {\n",
       "        text-align: right;\n",
       "    }\n",
       "\n",
       "    .dataframe thead th {\n",
       "        text-align: left;\n",
       "    }\n",
       "\n",
       "    .dataframe tbody tr th {\n",
       "        vertical-align: top;\n",
       "    }\n",
       "</style>\n",
       "<table border=\"1\" class=\"dataframe\">\n",
       "  <thead>\n",
       "    <tr style=\"text-align: right;\">\n",
       "      <th></th>\n",
       "      <th>Blood_Serum_Sarc_RTGlo_1_29Jan10_Draco_09-11-41</th>\n",
       "      <th>Blood_Serum_Sarc_RTGlo_10_29Jan10_Draco_09-11-43</th>\n",
       "      <th>Blood_Serum_Sarc_RTGlo_2_29Jan10_Draco_09-11-43</th>\n",
       "      <th>Blood_Serum_Sarc_RTGlo_3_29Jan10_Draco_09-11-41</th>\n",
       "      <th>Blood_Serum_Sarc_RTGlo_4_29Jan10_Draco_09-11-43</th>\n",
       "      <th>Blood_Serum_Sarc_RTGlo_5_02Feb10_Draco_09-11-41</th>\n",
       "      <th>Blood_Serum_Sarc_RTGlo_6_29Jan10_Draco_09-11-43</th>\n",
       "      <th>Blood_Serum_Sarc_RTGlo_7_29Jan10_Draco_09-11-41</th>\n",
       "      <th>Blood_Serum_Sarc_RTGlo_8_29Jan10_Draco_09-11-43</th>\n",
       "      <th>Blood_Serum_Sarc_RTGlo_9_29Jan10_Draco_09-11-41</th>\n",
       "      <th>...</th>\n",
       "      <th>Temporal_Lobe_ALZ_VP2P101_C142_9Dec08_Draco_08-10-27</th>\n",
       "      <th>Temporal_Lobe_ALZ_VP2P101_C147_28Nov08_Draco_08-10-29</th>\n",
       "      <th>Temporal_Lobe_ALZ_VP2P101_C148_28Nov08_Draco_08-10-29</th>\n",
       "      <th>Temporal_Lobe_ALZ_VP2P101_C150_10Dec08_Draco_08-10-27</th>\n",
       "      <th>Temporal_Lobe_ALZ_VP2P101_C151_28Nov08_Draco_08-10-29</th>\n",
       "      <th>Temporal_Lobe_ALZ_VP2P101_C153_13Dec08_Draco_08-10-27</th>\n",
       "      <th>Temporal_Lobe_ALZ_VP2P101_C154_28Nov08_Draco_08-10-29</th>\n",
       "      <th>Temporal_Lobe_ALZ_VP2P101_C160_7Dec08_Draco_08-10-27</th>\n",
       "      <th>Temporal_Lobe_ALZ_VP2P101_C161_27Nov08_Draco_08-10-29</th>\n",
       "      <th>Temporal_Lobe_ALZ_VP2P101_C163_9Dec08_Draco_08-10-27</th>\n",
       "    </tr>\n",
       "    <tr>\n",
       "      <th>Peptide</th>\n",
       "      <th></th>\n",
       "      <th></th>\n",
       "      <th></th>\n",
       "      <th></th>\n",
       "      <th></th>\n",
       "      <th></th>\n",
       "      <th></th>\n",
       "      <th></th>\n",
       "      <th></th>\n",
       "      <th></th>\n",
       "      <th></th>\n",
       "      <th></th>\n",
       "      <th></th>\n",
       "      <th></th>\n",
       "      <th></th>\n",
       "      <th></th>\n",
       "      <th></th>\n",
       "      <th></th>\n",
       "      <th></th>\n",
       "      <th></th>\n",
       "      <th></th>\n",
       "    </tr>\n",
       "  </thead>\n",
       "  <tbody>\n",
       "    <tr>\n",
       "      <th>\\n-.DIQMTQSPSTLSASVGDR.V</th>\n",
       "      <td>2.000766</td>\n",
       "      <td>2.000766</td>\n",
       "      <td>2.000766</td>\n",
       "      <td>2.000766</td>\n",
       "      <td>2.000766</td>\n",
       "      <td>2.000766</td>\n",
       "      <td>2.000766</td>\n",
       "      <td>2.000766</td>\n",
       "      <td>2.000766</td>\n",
       "      <td>2.000766</td>\n",
       "      <td>...</td>\n",
       "      <td>2.000766</td>\n",
       "      <td>2.000766</td>\n",
       "      <td>2.000766</td>\n",
       "      <td>2.000766</td>\n",
       "      <td>2.000766</td>\n",
       "      <td>2.000766</td>\n",
       "      <td>2.000766</td>\n",
       "      <td>2.000766</td>\n",
       "      <td>2.000766</td>\n",
       "      <td>2.000766</td>\n",
       "    </tr>\n",
       "    <tr>\n",
       "      <th>\\n-.KVHGSLAR.A</th>\n",
       "      <td>2.000766</td>\n",
       "      <td>2.000766</td>\n",
       "      <td>2.000766</td>\n",
       "      <td>2.000766</td>\n",
       "      <td>2.000766</td>\n",
       "      <td>2.000766</td>\n",
       "      <td>2.000766</td>\n",
       "      <td>2.000766</td>\n",
       "      <td>2.000766</td>\n",
       "      <td>2.000766</td>\n",
       "      <td>...</td>\n",
       "      <td>2.000766</td>\n",
       "      <td>2.000766</td>\n",
       "      <td>2.000766</td>\n",
       "      <td>2.000766</td>\n",
       "      <td>2.000766</td>\n",
       "      <td>2.000766</td>\n",
       "      <td>2.000766</td>\n",
       "      <td>2.000766</td>\n",
       "      <td>23.299778</td>\n",
       "      <td>2.000766</td>\n",
       "    </tr>\n",
       "    <tr>\n",
       "      <th>\\n-.LGEHNIDVLEGNEQFINAAR.I</th>\n",
       "      <td>28.446283</td>\n",
       "      <td>27.803474</td>\n",
       "      <td>28.226970</td>\n",
       "      <td>26.561377</td>\n",
       "      <td>26.365346</td>\n",
       "      <td>28.102145</td>\n",
       "      <td>27.073573</td>\n",
       "      <td>2.000766</td>\n",
       "      <td>2.000766</td>\n",
       "      <td>27.708659</td>\n",
       "      <td>...</td>\n",
       "      <td>25.443511</td>\n",
       "      <td>2.000766</td>\n",
       "      <td>2.000766</td>\n",
       "      <td>26.223264</td>\n",
       "      <td>2.000766</td>\n",
       "      <td>23.544393</td>\n",
       "      <td>2.000766</td>\n",
       "      <td>24.205084</td>\n",
       "      <td>26.395256</td>\n",
       "      <td>25.889112</td>\n",
       "    </tr>\n",
       "    <tr>\n",
       "      <th>\\n-.LGEHNIDVLEGNEQFINAARIITHPN.F</th>\n",
       "      <td>26.540806</td>\n",
       "      <td>2.000766</td>\n",
       "      <td>2.000766</td>\n",
       "      <td>2.000766</td>\n",
       "      <td>2.000766</td>\n",
       "      <td>2.000766</td>\n",
       "      <td>2.000766</td>\n",
       "      <td>2.000766</td>\n",
       "      <td>2.000766</td>\n",
       "      <td>2.000766</td>\n",
       "      <td>...</td>\n",
       "      <td>24.452808</td>\n",
       "      <td>2.000766</td>\n",
       "      <td>2.000766</td>\n",
       "      <td>2.000766</td>\n",
       "      <td>2.000766</td>\n",
       "      <td>24.052916</td>\n",
       "      <td>2.000766</td>\n",
       "      <td>24.525759</td>\n",
       "      <td>26.116087</td>\n",
       "      <td>2.000766</td>\n",
       "    </tr>\n",
       "    <tr>\n",
       "      <th>\\n-.LGEHNIDVLEGNEQFINAARIITHPNFN.G</th>\n",
       "      <td>2.000766</td>\n",
       "      <td>2.000766</td>\n",
       "      <td>2.000766</td>\n",
       "      <td>2.000766</td>\n",
       "      <td>2.000766</td>\n",
       "      <td>2.000766</td>\n",
       "      <td>2.000766</td>\n",
       "      <td>2.000766</td>\n",
       "      <td>2.000766</td>\n",
       "      <td>2.000766</td>\n",
       "      <td>...</td>\n",
       "      <td>2.000766</td>\n",
       "      <td>2.000766</td>\n",
       "      <td>2.000766</td>\n",
       "      <td>2.000766</td>\n",
       "      <td>2.000766</td>\n",
       "      <td>2.000766</td>\n",
       "      <td>2.000766</td>\n",
       "      <td>2.000766</td>\n",
       "      <td>2.000766</td>\n",
       "      <td>2.000766</td>\n",
       "    </tr>\n",
       "  </tbody>\n",
       "</table>\n",
       "<p>5 rows × 49 columns</p>\n",
       "</div>"
      ],
      "text/plain": [
       "                                    Blood_Serum_Sarc_RTGlo_1_29Jan10_Draco_09-11-41  \\\n",
       "Peptide                                                                               \n",
       "\\n-.DIQMTQSPSTLSASVGDR.V                                                   2.000766   \n",
       "\\n-.KVHGSLAR.A                                                             2.000766   \n",
       "\\n-.LGEHNIDVLEGNEQFINAAR.I                                                28.446283   \n",
       "\\n-.LGEHNIDVLEGNEQFINAARIITHPN.F                                          26.540806   \n",
       "\\n-.LGEHNIDVLEGNEQFINAARIITHPNFN.G                                         2.000766   \n",
       "\n",
       "                                    Blood_Serum_Sarc_RTGlo_10_29Jan10_Draco_09-11-43  \\\n",
       "Peptide                                                                                \n",
       "\\n-.DIQMTQSPSTLSASVGDR.V                                                    2.000766   \n",
       "\\n-.KVHGSLAR.A                                                              2.000766   \n",
       "\\n-.LGEHNIDVLEGNEQFINAAR.I                                                 27.803474   \n",
       "\\n-.LGEHNIDVLEGNEQFINAARIITHPN.F                                            2.000766   \n",
       "\\n-.LGEHNIDVLEGNEQFINAARIITHPNFN.G                                          2.000766   \n",
       "\n",
       "                                    Blood_Serum_Sarc_RTGlo_2_29Jan10_Draco_09-11-43  \\\n",
       "Peptide                                                                               \n",
       "\\n-.DIQMTQSPSTLSASVGDR.V                                                   2.000766   \n",
       "\\n-.KVHGSLAR.A                                                             2.000766   \n",
       "\\n-.LGEHNIDVLEGNEQFINAAR.I                                                28.226970   \n",
       "\\n-.LGEHNIDVLEGNEQFINAARIITHPN.F                                           2.000766   \n",
       "\\n-.LGEHNIDVLEGNEQFINAARIITHPNFN.G                                         2.000766   \n",
       "\n",
       "                                    Blood_Serum_Sarc_RTGlo_3_29Jan10_Draco_09-11-41  \\\n",
       "Peptide                                                                               \n",
       "\\n-.DIQMTQSPSTLSASVGDR.V                                                   2.000766   \n",
       "\\n-.KVHGSLAR.A                                                             2.000766   \n",
       "\\n-.LGEHNIDVLEGNEQFINAAR.I                                                26.561377   \n",
       "\\n-.LGEHNIDVLEGNEQFINAARIITHPN.F                                           2.000766   \n",
       "\\n-.LGEHNIDVLEGNEQFINAARIITHPNFN.G                                         2.000766   \n",
       "\n",
       "                                    Blood_Serum_Sarc_RTGlo_4_29Jan10_Draco_09-11-43  \\\n",
       "Peptide                                                                               \n",
       "\\n-.DIQMTQSPSTLSASVGDR.V                                                   2.000766   \n",
       "\\n-.KVHGSLAR.A                                                             2.000766   \n",
       "\\n-.LGEHNIDVLEGNEQFINAAR.I                                                26.365346   \n",
       "\\n-.LGEHNIDVLEGNEQFINAARIITHPN.F                                           2.000766   \n",
       "\\n-.LGEHNIDVLEGNEQFINAARIITHPNFN.G                                         2.000766   \n",
       "\n",
       "                                    Blood_Serum_Sarc_RTGlo_5_02Feb10_Draco_09-11-41  \\\n",
       "Peptide                                                                               \n",
       "\\n-.DIQMTQSPSTLSASVGDR.V                                                   2.000766   \n",
       "\\n-.KVHGSLAR.A                                                             2.000766   \n",
       "\\n-.LGEHNIDVLEGNEQFINAAR.I                                                28.102145   \n",
       "\\n-.LGEHNIDVLEGNEQFINAARIITHPN.F                                           2.000766   \n",
       "\\n-.LGEHNIDVLEGNEQFINAARIITHPNFN.G                                         2.000766   \n",
       "\n",
       "                                    Blood_Serum_Sarc_RTGlo_6_29Jan10_Draco_09-11-43  \\\n",
       "Peptide                                                                               \n",
       "\\n-.DIQMTQSPSTLSASVGDR.V                                                   2.000766   \n",
       "\\n-.KVHGSLAR.A                                                             2.000766   \n",
       "\\n-.LGEHNIDVLEGNEQFINAAR.I                                                27.073573   \n",
       "\\n-.LGEHNIDVLEGNEQFINAARIITHPN.F                                           2.000766   \n",
       "\\n-.LGEHNIDVLEGNEQFINAARIITHPNFN.G                                         2.000766   \n",
       "\n",
       "                                    Blood_Serum_Sarc_RTGlo_7_29Jan10_Draco_09-11-41  \\\n",
       "Peptide                                                                               \n",
       "\\n-.DIQMTQSPSTLSASVGDR.V                                                   2.000766   \n",
       "\\n-.KVHGSLAR.A                                                             2.000766   \n",
       "\\n-.LGEHNIDVLEGNEQFINAAR.I                                                 2.000766   \n",
       "\\n-.LGEHNIDVLEGNEQFINAARIITHPN.F                                           2.000766   \n",
       "\\n-.LGEHNIDVLEGNEQFINAARIITHPNFN.G                                         2.000766   \n",
       "\n",
       "                                    Blood_Serum_Sarc_RTGlo_8_29Jan10_Draco_09-11-43  \\\n",
       "Peptide                                                                               \n",
       "\\n-.DIQMTQSPSTLSASVGDR.V                                                   2.000766   \n",
       "\\n-.KVHGSLAR.A                                                             2.000766   \n",
       "\\n-.LGEHNIDVLEGNEQFINAAR.I                                                 2.000766   \n",
       "\\n-.LGEHNIDVLEGNEQFINAARIITHPN.F                                           2.000766   \n",
       "\\n-.LGEHNIDVLEGNEQFINAARIITHPNFN.G                                         2.000766   \n",
       "\n",
       "                                    Blood_Serum_Sarc_RTGlo_9_29Jan10_Draco_09-11-41  \\\n",
       "Peptide                                                                               \n",
       "\\n-.DIQMTQSPSTLSASVGDR.V                                                   2.000766   \n",
       "\\n-.KVHGSLAR.A                                                             2.000766   \n",
       "\\n-.LGEHNIDVLEGNEQFINAAR.I                                                27.708659   \n",
       "\\n-.LGEHNIDVLEGNEQFINAARIITHPN.F                                           2.000766   \n",
       "\\n-.LGEHNIDVLEGNEQFINAARIITHPNFN.G                                         2.000766   \n",
       "\n",
       "                                                            ...                           \\\n",
       "Peptide                                                     ...                            \n",
       "\\n-.DIQMTQSPSTLSASVGDR.V                                    ...                            \n",
       "\\n-.KVHGSLAR.A                                              ...                            \n",
       "\\n-.LGEHNIDVLEGNEQFINAAR.I                                  ...                            \n",
       "\\n-.LGEHNIDVLEGNEQFINAARIITHPN.F                            ...                            \n",
       "\\n-.LGEHNIDVLEGNEQFINAARIITHPNFN.G                          ...                            \n",
       "\n",
       "                                    Temporal_Lobe_ALZ_VP2P101_C142_9Dec08_Draco_08-10-27  \\\n",
       "Peptide                                                                                    \n",
       "\\n-.DIQMTQSPSTLSASVGDR.V                                                     2.000766      \n",
       "\\n-.KVHGSLAR.A                                                               2.000766      \n",
       "\\n-.LGEHNIDVLEGNEQFINAAR.I                                                  25.443511      \n",
       "\\n-.LGEHNIDVLEGNEQFINAARIITHPN.F                                            24.452808      \n",
       "\\n-.LGEHNIDVLEGNEQFINAARIITHPNFN.G                                           2.000766      \n",
       "\n",
       "                                    Temporal_Lobe_ALZ_VP2P101_C147_28Nov08_Draco_08-10-29  \\\n",
       "Peptide                                                                                     \n",
       "\\n-.DIQMTQSPSTLSASVGDR.V                                                     2.000766       \n",
       "\\n-.KVHGSLAR.A                                                               2.000766       \n",
       "\\n-.LGEHNIDVLEGNEQFINAAR.I                                                   2.000766       \n",
       "\\n-.LGEHNIDVLEGNEQFINAARIITHPN.F                                             2.000766       \n",
       "\\n-.LGEHNIDVLEGNEQFINAARIITHPNFN.G                                           2.000766       \n",
       "\n",
       "                                    Temporal_Lobe_ALZ_VP2P101_C148_28Nov08_Draco_08-10-29  \\\n",
       "Peptide                                                                                     \n",
       "\\n-.DIQMTQSPSTLSASVGDR.V                                                     2.000766       \n",
       "\\n-.KVHGSLAR.A                                                               2.000766       \n",
       "\\n-.LGEHNIDVLEGNEQFINAAR.I                                                   2.000766       \n",
       "\\n-.LGEHNIDVLEGNEQFINAARIITHPN.F                                             2.000766       \n",
       "\\n-.LGEHNIDVLEGNEQFINAARIITHPNFN.G                                           2.000766       \n",
       "\n",
       "                                    Temporal_Lobe_ALZ_VP2P101_C150_10Dec08_Draco_08-10-27  \\\n",
       "Peptide                                                                                     \n",
       "\\n-.DIQMTQSPSTLSASVGDR.V                                                     2.000766       \n",
       "\\n-.KVHGSLAR.A                                                               2.000766       \n",
       "\\n-.LGEHNIDVLEGNEQFINAAR.I                                                  26.223264       \n",
       "\\n-.LGEHNIDVLEGNEQFINAARIITHPN.F                                             2.000766       \n",
       "\\n-.LGEHNIDVLEGNEQFINAARIITHPNFN.G                                           2.000766       \n",
       "\n",
       "                                    Temporal_Lobe_ALZ_VP2P101_C151_28Nov08_Draco_08-10-29  \\\n",
       "Peptide                                                                                     \n",
       "\\n-.DIQMTQSPSTLSASVGDR.V                                                     2.000766       \n",
       "\\n-.KVHGSLAR.A                                                               2.000766       \n",
       "\\n-.LGEHNIDVLEGNEQFINAAR.I                                                   2.000766       \n",
       "\\n-.LGEHNIDVLEGNEQFINAARIITHPN.F                                             2.000766       \n",
       "\\n-.LGEHNIDVLEGNEQFINAARIITHPNFN.G                                           2.000766       \n",
       "\n",
       "                                    Temporal_Lobe_ALZ_VP2P101_C153_13Dec08_Draco_08-10-27  \\\n",
       "Peptide                                                                                     \n",
       "\\n-.DIQMTQSPSTLSASVGDR.V                                                     2.000766       \n",
       "\\n-.KVHGSLAR.A                                                               2.000766       \n",
       "\\n-.LGEHNIDVLEGNEQFINAAR.I                                                  23.544393       \n",
       "\\n-.LGEHNIDVLEGNEQFINAARIITHPN.F                                            24.052916       \n",
       "\\n-.LGEHNIDVLEGNEQFINAARIITHPNFN.G                                           2.000766       \n",
       "\n",
       "                                    Temporal_Lobe_ALZ_VP2P101_C154_28Nov08_Draco_08-10-29  \\\n",
       "Peptide                                                                                     \n",
       "\\n-.DIQMTQSPSTLSASVGDR.V                                                     2.000766       \n",
       "\\n-.KVHGSLAR.A                                                               2.000766       \n",
       "\\n-.LGEHNIDVLEGNEQFINAAR.I                                                   2.000766       \n",
       "\\n-.LGEHNIDVLEGNEQFINAARIITHPN.F                                             2.000766       \n",
       "\\n-.LGEHNIDVLEGNEQFINAARIITHPNFN.G                                           2.000766       \n",
       "\n",
       "                                    Temporal_Lobe_ALZ_VP2P101_C160_7Dec08_Draco_08-10-27  \\\n",
       "Peptide                                                                                    \n",
       "\\n-.DIQMTQSPSTLSASVGDR.V                                                     2.000766      \n",
       "\\n-.KVHGSLAR.A                                                               2.000766      \n",
       "\\n-.LGEHNIDVLEGNEQFINAAR.I                                                  24.205084      \n",
       "\\n-.LGEHNIDVLEGNEQFINAARIITHPN.F                                            24.525759      \n",
       "\\n-.LGEHNIDVLEGNEQFINAARIITHPNFN.G                                           2.000766      \n",
       "\n",
       "                                    Temporal_Lobe_ALZ_VP2P101_C161_27Nov08_Draco_08-10-29  \\\n",
       "Peptide                                                                                     \n",
       "\\n-.DIQMTQSPSTLSASVGDR.V                                                     2.000766       \n",
       "\\n-.KVHGSLAR.A                                                              23.299778       \n",
       "\\n-.LGEHNIDVLEGNEQFINAAR.I                                                  26.395256       \n",
       "\\n-.LGEHNIDVLEGNEQFINAARIITHPN.F                                            26.116087       \n",
       "\\n-.LGEHNIDVLEGNEQFINAARIITHPNFN.G                                           2.000766       \n",
       "\n",
       "                                    Temporal_Lobe_ALZ_VP2P101_C163_9Dec08_Draco_08-10-27  \n",
       "Peptide                                                                                   \n",
       "\\n-.DIQMTQSPSTLSASVGDR.V                                                     2.000766     \n",
       "\\n-.KVHGSLAR.A                                                               2.000766     \n",
       "\\n-.LGEHNIDVLEGNEQFINAAR.I                                                  25.889112     \n",
       "\\n-.LGEHNIDVLEGNEQFINAARIITHPN.F                                             2.000766     \n",
       "\\n-.LGEHNIDVLEGNEQFINAARIITHPNFN.G                                           2.000766     \n",
       "\n",
       "[5 rows x 49 columns]"
      ]
     },
     "execution_count": 9,
     "metadata": {},
     "output_type": "execute_result"
    }
   ],
   "source": [
    "df.head()"
   ]
  },
  {
   "cell_type": "markdown",
   "metadata": {},
   "source": [
    "### Optional step to transform data"
   ]
  },
  {
   "cell_type": "code",
   "execution_count": 10,
   "metadata": {
    "collapsed": true
   },
   "outputs": [],
   "source": [
    "### Function to wrap whatever additional transformation is done to the train set, so that it can later be applied to the test set\n",
    "def reduce_features(df):\n",
    "    df = cu.keep_percentile_features(df, labels, 25)\n",
    "    #df = cu.keep_k_best_features(df, labels, 500)\n",
    "    return df\n",
    "    "
   ]
  },
  {
   "cell_type": "code",
   "execution_count": 11,
   "metadata": {},
   "outputs": [
    {
     "name": "stdout",
     "output_type": "stream",
     "text": [
      "--- 0.0006166656812032063 minutes ---\n",
      "(4422, 49)\n"
     ]
    }
   ],
   "source": [
    "transform_start_time = time.time()\n",
    "\n",
    "df = reduce_features(df)\n",
    "features_to_keep = df.index.values.tolist()\n",
    "\n",
    "print(\"--- %s minutes ---\" % ((time.time() - transform_start_time)/60))\n",
    "print(df.shape)"
   ]
  },
  {
   "cell_type": "markdown",
   "metadata": {},
   "source": [
    "### For testing purposes: threshold data"
   ]
  },
  {
   "cell_type": "code",
   "execution_count": 267,
   "metadata": {
    "collapsed": true
   },
   "outputs": [],
   "source": [
    "import math\n",
    "\n",
    "df_t = df.T\n",
    "num_rows = df_t.shape[1]\n",
    "\n",
    "one_protein_df = df_t.drop(df_t.columns[list(range(num_rows-1))], axis=1)\n",
    "fifteen_protein_df = df_t.drop(df_t.columns[list(range(num_rows-15))], axis=1)\n",
    "sixteenthpercent_df = df_t.drop(df_t.columns[list(range(math.floor(num_rows*(1599/1600))))], axis=1)\n",
    "eighthpercent_df = df_t.drop(df_t.columns[list(range(math.floor(num_rows*(799/800))))], axis=1)\n",
    "quarterpercent_df = df_t.drop(df_t.columns[list(range(math.floor(num_rows*(399/400))))], axis=1)\n",
    "halfpercent_df = df_t.drop(df_t.columns[list(range(math.floor(num_rows*(199/200))))], axis=1)\n",
    "one_percent_df = df_t.drop(df_t.columns[list(range(math.floor(num_rows*(99/100))))], axis=1)\n",
    "twentieth_df = df_t.drop(df_t.columns[list(range(math.floor(num_rows*(95/100))))], axis=1)\n",
    "tenth_df = df_t.drop(df_t.columns[list(range(math.floor(num_rows*(9/10))))], axis=1)\n",
    "quarter_df = df_t.drop(df_t.columns[list(range(math.floor(num_rows*(3/4))))], axis=1)\n",
    "half_df = df_t.drop(df_t.columns[list(range(num_rows//2))], axis=1)\n",
    "three_quarters_df = df_t.drop(df_t.columns[list(range(num_rows//4))], axis=1)\n",
    "nine_tenths_df = df_t.drop(df_t.columns[list(range(num_rows//10))], axis=1)"
   ]
  },
  {
   "cell_type": "code",
   "execution_count": 268,
   "metadata": {},
   "outputs": [
    {
     "data": {
      "text/plain": [
       "(89, 1)"
      ]
     },
     "execution_count": 268,
     "metadata": {},
     "output_type": "execute_result"
    }
   ],
   "source": [
    "thresholded_df = one_protein_df\n",
    "thresholded_df.shape"
   ]
  },
  {
   "cell_type": "markdown",
   "metadata": {},
   "source": [
    "## Visualize data\n",
    "* Normalized boxplots\n",
    "* Scree plot\n",
    "* PCA plot\n",
    "* Pearson Matrix"
   ]
  },
  {
   "cell_type": "code",
   "execution_count": 11,
   "metadata": {
    "collapsed": true,
    "scrolled": true
   },
   "outputs": [],
   "source": [
    "image_dir = r'D:\\Images\\Human_Tissues\\\\'\n",
    "\n",
    "column_to_color = mq.map_colors(tissues, tissues_to_columns, 9)"
   ]
  },
  {
   "cell_type": "code",
   "execution_count": 39,
   "metadata": {
    "collapsed": true,
    "scrolled": true
   },
   "outputs": [],
   "source": [
    "mq.make_seaborn_boxplot(df, image_dir, 'Median_normalized_boxplots', column_to_color)"
   ]
  },
  {
   "cell_type": "code",
   "execution_count": 12,
   "metadata": {
    "scrolled": false
   },
   "outputs": [],
   "source": [
    "#scaled_data = preprocessing.scale(df.T)\n",
    "scaled_data = df.T\n",
    "\n",
    "pca = PCA(n_components=3) # create a PCA object\n",
    "pca.fit(scaled_data) # do the math\n",
    "pca_data = pca.transform(scaled_data) # get PCA coordinates for dataframe\n",
    "\n",
    "per_var, pca_labels = mq.make_scree_plot(pca, image_dir)\n",
    "#mq.draw_pca_graph2(column_names, pca_data, image_dir, column_to_color, per_var, pca_labels, tissues, tissues_to_columns, 'PCA_25Percentile')\n",
    "#mq.draw_pca_graph(column_names, pca_data, image_dir, column_to_color, per_var, pca_labels, 'PCA_RobustScaler_Annotated')\n",
    "mq.draw_3d_pca(column_names, pca_data, image_dir, column_to_color, per_var, pca_labels, tissues, tissues_to_columns, 'PCA_25Percentile')"
   ]
  },
  {
   "cell_type": "code",
   "execution_count": null,
   "metadata": {
    "collapsed": true
   },
   "outputs": [],
   "source": [
    "mq.make_pearson_matrix(df, image_dir)"
   ]
  },
  {
   "cell_type": "markdown",
   "metadata": {},
   "source": [
    "## Test various classifiers using cross-validation"
   ]
  },
  {
   "cell_type": "code",
   "execution_count": 12,
   "metadata": {
    "collapsed": true
   },
   "outputs": [],
   "source": [
    "NUM_SPLITS = 100\n",
    "transformed_df = df.T\n",
    "#transformed_df = thresholded_df"
   ]
  },
  {
   "cell_type": "markdown",
   "metadata": {},
   "source": [
    "### Decision Tree"
   ]
  },
  {
   "cell_type": "code",
   "execution_count": 13,
   "metadata": {
    "scrolled": true
   },
   "outputs": [
    {
     "name": "stdout",
     "output_type": "stream",
     "text": [
      "Scores: [ 0.84  1.    0.92  0.84  0.92  0.88  0.88  0.8   0.92  0.92  0.92  0.84\n",
      "  0.92  0.92  0.96  0.8   0.72  0.88  0.88  0.84  0.96  0.92  0.8   0.96\n",
      "  0.92  0.84  0.92  0.92  0.92  0.92  0.96  0.84  1.    0.8   0.96  0.96\n",
      "  0.84  0.92  0.76  1.    0.96  0.96  0.84  0.92  0.8   0.88  0.88  0.92\n",
      "  0.76  0.92  0.84  0.8   0.92  0.72  0.88  0.84  0.96  0.96  0.88  0.72\n",
      "  0.8   0.92  0.96  0.88  0.96  0.96  0.92  0.92  0.92  0.84  0.92  0.92\n",
      "  1.    0.8   0.84  0.84  0.92  0.8   0.92  0.88  0.8   0.92  0.84  0.84\n",
      "  0.72  0.8   0.72  0.72  0.88  0.92  0.88  1.    0.88  1.    0.96  0.72\n",
      "  0.96  0.92  0.72  0.88]\n",
      "accuracy: 0.88 (+/- 0.15)\n"
     ]
    }
   ],
   "source": [
    "dt = cu.decisiontree_model_crossval(transformed_df, labels, NUM_SPLITS)"
   ]
  },
  {
   "cell_type": "markdown",
   "metadata": {},
   "source": [
    "### KNN"
   ]
  },
  {
   "cell_type": "code",
   "execution_count": 14,
   "metadata": {},
   "outputs": [
    {
     "name": "stdout",
     "output_type": "stream",
     "text": [
      "Scores: [ 0.92  0.88  0.92  0.92  0.88  0.92  0.88  0.84  0.88  0.88  0.92  0.92\n",
      "  0.92  0.88  0.88  0.84  0.88  0.88  0.92  0.92  0.88  0.92  0.92  0.92\n",
      "  0.92  0.92  0.88  0.56  0.92  0.88  0.92  0.88  0.92  0.88  0.88  0.92\n",
      "  0.96  0.92  0.92  0.88  0.92  0.92  0.88  0.96  0.96  0.92  0.88  0.92\n",
      "  0.88  0.68  0.48  0.64  0.92  0.68  0.68  1.    0.92  0.92  0.96  0.88\n",
      "  0.92  0.88  0.88  0.88  0.88  0.92  0.68  0.88  0.92  0.88  0.96  0.92\n",
      "  0.92  0.92  0.92  0.92  0.88  0.68  0.92  0.92  0.92  0.88  0.92  0.92\n",
      "  0.84  0.88  0.52  0.92  0.88  0.92  1.    0.92  0.68  0.68  0.92  0.88\n",
      "  0.92  0.92  0.68  0.92]\n",
      "accuracy: 0.87 (+/- 0.19)\n"
     ]
    }
   ],
   "source": [
    "knn = cu.knn_model_crossval(transformed_df, labels, NUM_SPLITS)"
   ]
  },
  {
   "cell_type": "markdown",
   "metadata": {},
   "source": [
    "### Logistic Regression"
   ]
  },
  {
   "cell_type": "code",
   "execution_count": 15,
   "metadata": {
    "scrolled": true
   },
   "outputs": [
    {
     "name": "stdout",
     "output_type": "stream",
     "text": [
      "Scores: [ 1.    1.    1.    0.92  0.92  1.    1.    0.84  1.    0.92  1.    1.    1.\n",
      "  0.92  1.    0.84  0.92  1.    0.92  0.84  1.    0.92  0.84  1.    1.    1.\n",
      "  0.92  0.92  1.    1.    1.    1.    1.    1.    1.    1.    1.    1.\n",
      "  0.84  1.    1.    1.    1.    1.    1.    0.92  1.    1.    0.92  0.84\n",
      "  0.48  0.92  1.    0.84  1.    1.    1.    1.    1.    0.92  0.92  1.    1.\n",
      "  1.    1.    1.    1.    1.    1.    1.    1.    1.    1.    1.    1.\n",
      "  0.92  1.    0.84  0.92  0.92  1.    1.    0.92  1.    0.84  1.    0.84\n",
      "  1.    1.    1.    1.    1.    0.84  1.    1.    1.    1.    1.    0.84\n",
      "  1.  ]\n",
      "accuracy: 0.96 (+/- 0.15)\n"
     ]
    }
   ],
   "source": [
    "lr = cu.logistic_regression_model_crossval(transformed_df, labels, NUM_SPLITS)"
   ]
  },
  {
   "cell_type": "markdown",
   "metadata": {},
   "source": [
    "### Naive Bayes\n",
    "* Gaussian\n",
    "* Multinomial"
   ]
  },
  {
   "cell_type": "code",
   "execution_count": 16,
   "metadata": {},
   "outputs": [
    {
     "name": "stdout",
     "output_type": "stream",
     "text": [
      "Scores: [ 1.    1.    1.    1.    1.    1.    1.    1.    1.    1.    1.    1.    1.\n",
      "  1.    1.    1.    1.    1.    1.    1.    1.    1.    1.    1.    1.    1.\n",
      "  1.    1.    1.    1.    1.    1.    1.    1.    1.    1.    1.    1.    1.\n",
      "  1.    1.    1.    1.    1.    1.    1.    1.    1.    1.    1.    1.\n",
      "  0.64  1.    1.    1.    1.    1.    1.    1.    1.    1.    1.    1.    1.\n",
      "  1.    1.    0.96  1.    0.96  1.    1.    1.    1.    1.    1.    1.    1.\n",
      "  1.    1.    1.    1.    1.    1.    1.    1.    1.    1.    1.    1.    1.\n",
      "  1.    1.    1.    1.    1.    1.    1.    1.    0.96  1.  ]\n",
      "accuracy: 1.00 (+/- 0.07)\n"
     ]
    }
   ],
   "source": [
    "gnb = cu.bayes_gaussian_model_crossval(transformed_df, labels, NUM_SPLITS)"
   ]
  },
  {
   "cell_type": "code",
   "execution_count": 17,
   "metadata": {
    "scrolled": false
   },
   "outputs": [
    {
     "name": "stdout",
     "output_type": "stream",
     "text": [
      "Scores: [ 0.92  0.88  0.92  0.92  0.88  0.92  0.88  0.84  0.88  0.96  0.92  0.92\n",
      "  0.92  0.96  0.88  0.84  0.88  0.96  0.92  0.92  0.88  0.92  0.92  1.\n",
      "  0.92  0.92  0.96  0.92  0.92  0.88  0.92  0.88  0.92  0.88  0.88  0.92\n",
      "  1.    0.92  0.92  0.88  1.    0.92  0.88  0.96  0.96  0.92  0.88  0.92\n",
      "  0.88  0.92  0.84  1.    0.92  0.96  0.88  0.96  0.96  0.92  0.96  0.96\n",
      "  0.92  0.88  0.88  0.88  1.    0.92  0.88  0.88  0.92  0.88  0.96  0.92\n",
      "  0.92  0.92  0.92  0.92  0.88  0.96  0.92  0.92  0.96  1.    1.    0.92\n",
      "  0.84  0.88  0.92  0.96  1.    0.92  0.96  0.92  0.92  0.96  0.92  0.88\n",
      "  0.92  0.92  0.84  0.96]\n",
      "accuracy: 0.92 (+/- 0.08)\n"
     ]
    }
   ],
   "source": [
    "mnb = cu.bayes_multinomial_model_crossval(transformed_df, labels, NUM_SPLITS)"
   ]
  },
  {
   "cell_type": "markdown",
   "metadata": {},
   "source": [
    "### SVC variations"
   ]
  },
  {
   "cell_type": "code",
   "execution_count": 18,
   "metadata": {
    "scrolled": true
   },
   "outputs": [
    {
     "name": "stdout",
     "output_type": "stream",
     "text": [
      "Scores: [ 1.    1.    1.    0.92  0.92  1.    1.    0.84  1.    0.92  1.    1.    1.\n",
      "  0.92  1.    0.84  0.92  1.    0.92  0.84  1.    0.92  0.84  1.    1.    1.\n",
      "  0.92  0.92  1.    1.    1.    1.    1.    1.    1.    1.    1.    1.\n",
      "  0.84  1.    1.    1.    1.    1.    1.    0.92  1.    1.    0.92  0.84\n",
      "  0.84  1.    1.    0.84  1.    1.    1.    1.    1.    0.92  0.92  1.    1.\n",
      "  1.    1.    1.    1.    1.    1.    1.    1.    1.    1.    1.    1.\n",
      "  0.92  1.    0.84  0.92  0.92  1.    1.    0.92  1.    0.84  1.    0.84\n",
      "  1.    1.    1.    1.    1.    0.84  1.    1.    1.    1.    1.    0.84\n",
      "  1.  ]\n",
      "accuracy: 0.97 (+/- 0.11)\n"
     ]
    },
    {
     "ename": "KeyboardInterrupt",
     "evalue": "",
     "output_type": "error",
     "traceback": [
      "\u001b[1;31m---------------------------------------------------------------------------\u001b[0m",
      "\u001b[1;31mKeyboardInterrupt\u001b[0m                         Traceback (most recent call last)",
      "\u001b[1;32m<ipython-input-18-d65332e07776>\u001b[0m in \u001b[0;36m<module>\u001b[1;34m()\u001b[0m\n\u001b[1;32m----> 1\u001b[1;33m \u001b[0msvc_models\u001b[0m \u001b[1;33m=\u001b[0m \u001b[0mcu\u001b[0m\u001b[1;33m.\u001b[0m\u001b[0mSVC_models_crossval\u001b[0m\u001b[1;33m(\u001b[0m\u001b[0mtransformed_df\u001b[0m\u001b[1;33m,\u001b[0m \u001b[0mlabels\u001b[0m\u001b[1;33m,\u001b[0m \u001b[0mNUM_SPLITS\u001b[0m\u001b[1;33m)\u001b[0m\u001b[1;33m\u001b[0m\u001b[0m\n\u001b[0m",
      "\u001b[1;32m~\\Documents\\Proteomics_Data_Processing\\Classifiers\\Classification_Utils.py\u001b[0m in \u001b[0;36mSVC_models_crossval\u001b[1;34m(data, labels, num_splits, scoring)\u001b[0m\n\u001b[0;32m    179\u001b[0m     \u001b[1;31m# Fit all the models\u001b[0m\u001b[1;33m\u001b[0m\u001b[1;33m\u001b[0m\u001b[0m\n\u001b[0;32m    180\u001b[0m     \u001b[0mmodels\u001b[0m \u001b[1;33m=\u001b[0m \u001b[1;33m(\u001b[0m\u001b[0mfit_model\u001b[0m\u001b[1;33m(\u001b[0m\u001b[0mclf\u001b[0m\u001b[1;33m,\u001b[0m \u001b[0mdata\u001b[0m\u001b[1;33m,\u001b[0m \u001b[0mlabels\u001b[0m\u001b[1;33m,\u001b[0m \u001b[0mnum_splits\u001b[0m\u001b[1;33m,\u001b[0m \u001b[0mscoring\u001b[0m\u001b[1;33m)\u001b[0m \u001b[1;32mfor\u001b[0m \u001b[0mclf\u001b[0m \u001b[1;32min\u001b[0m \u001b[0mmodels\u001b[0m\u001b[1;33m)\u001b[0m\u001b[1;33m\u001b[0m\u001b[0m\n\u001b[1;32m--> 181\u001b[1;33m     \u001b[0mmodel_list\u001b[0m \u001b[1;33m=\u001b[0m \u001b[0mlist\u001b[0m\u001b[1;33m(\u001b[0m\u001b[0mmodels\u001b[0m\u001b[1;33m)\u001b[0m\u001b[1;33m\u001b[0m\u001b[0m\n\u001b[0m\u001b[0;32m    182\u001b[0m \u001b[1;33m\u001b[0m\u001b[0m\n\u001b[0;32m    183\u001b[0m     \u001b[1;32mreturn\u001b[0m \u001b[0mmodel_list\u001b[0m\u001b[1;33m\u001b[0m\u001b[0m\n",
      "\u001b[1;32m~\\Documents\\Proteomics_Data_Processing\\Classifiers\\Classification_Utils.py\u001b[0m in \u001b[0;36m<genexpr>\u001b[1;34m(.0)\u001b[0m\n\u001b[0;32m    178\u001b[0m \u001b[1;33m\u001b[0m\u001b[0m\n\u001b[0;32m    179\u001b[0m     \u001b[1;31m# Fit all the models\u001b[0m\u001b[1;33m\u001b[0m\u001b[1;33m\u001b[0m\u001b[0m\n\u001b[1;32m--> 180\u001b[1;33m     \u001b[0mmodels\u001b[0m \u001b[1;33m=\u001b[0m \u001b[1;33m(\u001b[0m\u001b[0mfit_model\u001b[0m\u001b[1;33m(\u001b[0m\u001b[0mclf\u001b[0m\u001b[1;33m,\u001b[0m \u001b[0mdata\u001b[0m\u001b[1;33m,\u001b[0m \u001b[0mlabels\u001b[0m\u001b[1;33m,\u001b[0m \u001b[0mnum_splits\u001b[0m\u001b[1;33m,\u001b[0m \u001b[0mscoring\u001b[0m\u001b[1;33m)\u001b[0m \u001b[1;32mfor\u001b[0m \u001b[0mclf\u001b[0m \u001b[1;32min\u001b[0m \u001b[0mmodels\u001b[0m\u001b[1;33m)\u001b[0m\u001b[1;33m\u001b[0m\u001b[0m\n\u001b[0m\u001b[0;32m    181\u001b[0m     \u001b[0mmodel_list\u001b[0m \u001b[1;33m=\u001b[0m \u001b[0mlist\u001b[0m\u001b[1;33m(\u001b[0m\u001b[0mmodels\u001b[0m\u001b[1;33m)\u001b[0m\u001b[1;33m\u001b[0m\u001b[0m\n\u001b[0;32m    182\u001b[0m \u001b[1;33m\u001b[0m\u001b[0m\n",
      "\u001b[1;32m~\\Documents\\Proteomics_Data_Processing\\Classifiers\\Classification_Utils.py\u001b[0m in \u001b[0;36mfit_model\u001b[1;34m(model, data, labels, num_splits, scoring)\u001b[0m\n\u001b[0;32m     62\u001b[0m \u001b[1;32mdef\u001b[0m \u001b[0mfit_model\u001b[0m\u001b[1;33m(\u001b[0m\u001b[0mmodel\u001b[0m\u001b[1;33m,\u001b[0m \u001b[0mdata\u001b[0m\u001b[1;33m,\u001b[0m \u001b[0mlabels\u001b[0m\u001b[1;33m,\u001b[0m \u001b[0mnum_splits\u001b[0m\u001b[1;33m,\u001b[0m \u001b[0mscoring\u001b[0m\u001b[1;33m)\u001b[0m\u001b[1;33m:\u001b[0m\u001b[1;33m\u001b[0m\u001b[0m\n\u001b[0;32m     63\u001b[0m     \u001b[0mcv\u001b[0m \u001b[1;33m=\u001b[0m \u001b[0mShuffleSplit\u001b[0m\u001b[1;33m(\u001b[0m\u001b[0mn_splits\u001b[0m\u001b[1;33m=\u001b[0m\u001b[0mnum_splits\u001b[0m\u001b[1;33m,\u001b[0m \u001b[0mtest_size\u001b[0m\u001b[1;33m=\u001b[0m\u001b[1;36m0.5\u001b[0m\u001b[1;33m,\u001b[0m \u001b[0mrandom_state\u001b[0m\u001b[1;33m=\u001b[0m\u001b[1;36m0\u001b[0m\u001b[1;33m)\u001b[0m\u001b[1;33m\u001b[0m\u001b[0m\n\u001b[1;32m---> 64\u001b[1;33m     \u001b[0mscores\u001b[0m \u001b[1;33m=\u001b[0m \u001b[0mcross_val_score\u001b[0m\u001b[1;33m(\u001b[0m\u001b[0mmodel\u001b[0m\u001b[1;33m,\u001b[0m \u001b[0mdata\u001b[0m\u001b[1;33m,\u001b[0m \u001b[0mlabels\u001b[0m\u001b[1;33m,\u001b[0m \u001b[0mcv\u001b[0m\u001b[1;33m=\u001b[0m\u001b[0mcv\u001b[0m\u001b[1;33m,\u001b[0m \u001b[0mscoring\u001b[0m\u001b[1;33m=\u001b[0m\u001b[0mscoring\u001b[0m\u001b[1;33m)\u001b[0m\u001b[1;33m\u001b[0m\u001b[0m\n\u001b[0m\u001b[0;32m     65\u001b[0m     \u001b[0mprint\u001b[0m\u001b[1;33m(\u001b[0m\u001b[1;34m'Scores:'\u001b[0m\u001b[1;33m,\u001b[0m\u001b[0mscores\u001b[0m\u001b[1;33m)\u001b[0m\u001b[1;33m\u001b[0m\u001b[0m\n\u001b[0;32m     66\u001b[0m     \u001b[0mprint\u001b[0m\u001b[1;33m(\u001b[0m\u001b[1;34m'%s: %0.2f (+/- %0.2f)'\u001b[0m \u001b[1;33m%\u001b[0m \u001b[1;33m(\u001b[0m\u001b[0mscoring\u001b[0m\u001b[1;33m,\u001b[0m \u001b[0mscores\u001b[0m\u001b[1;33m.\u001b[0m\u001b[0mmean\u001b[0m\u001b[1;33m(\u001b[0m\u001b[1;33m)\u001b[0m\u001b[1;33m,\u001b[0m \u001b[0mscores\u001b[0m\u001b[1;33m.\u001b[0m\u001b[0mstd\u001b[0m\u001b[1;33m(\u001b[0m\u001b[1;33m)\u001b[0m \u001b[1;33m*\u001b[0m \u001b[1;36m2\u001b[0m\u001b[1;33m)\u001b[0m\u001b[1;33m)\u001b[0m\u001b[1;33m\u001b[0m\u001b[0m\n",
      "\u001b[1;32m~\\AppData\\Local\\Continuum\\anaconda3\\lib\\site-packages\\sklearn\\model_selection\\_validation.py\u001b[0m in \u001b[0;36mcross_val_score\u001b[1;34m(estimator, X, y, groups, scoring, cv, n_jobs, verbose, fit_params, pre_dispatch)\u001b[0m\n\u001b[0;32m    340\u001b[0m                                 \u001b[0mn_jobs\u001b[0m\u001b[1;33m=\u001b[0m\u001b[0mn_jobs\u001b[0m\u001b[1;33m,\u001b[0m \u001b[0mverbose\u001b[0m\u001b[1;33m=\u001b[0m\u001b[0mverbose\u001b[0m\u001b[1;33m,\u001b[0m\u001b[1;33m\u001b[0m\u001b[0m\n\u001b[0;32m    341\u001b[0m                                 \u001b[0mfit_params\u001b[0m\u001b[1;33m=\u001b[0m\u001b[0mfit_params\u001b[0m\u001b[1;33m,\u001b[0m\u001b[1;33m\u001b[0m\u001b[0m\n\u001b[1;32m--> 342\u001b[1;33m                                 pre_dispatch=pre_dispatch)\n\u001b[0m\u001b[0;32m    343\u001b[0m     \u001b[1;32mreturn\u001b[0m \u001b[0mcv_results\u001b[0m\u001b[1;33m[\u001b[0m\u001b[1;34m'test_score'\u001b[0m\u001b[1;33m]\u001b[0m\u001b[1;33m\u001b[0m\u001b[0m\n\u001b[0;32m    344\u001b[0m \u001b[1;33m\u001b[0m\u001b[0m\n",
      "\u001b[1;32m~\\AppData\\Local\\Continuum\\anaconda3\\lib\\site-packages\\sklearn\\model_selection\\_validation.py\u001b[0m in \u001b[0;36mcross_validate\u001b[1;34m(estimator, X, y, groups, scoring, cv, n_jobs, verbose, fit_params, pre_dispatch, return_train_score)\u001b[0m\n\u001b[0;32m    204\u001b[0m             \u001b[0mfit_params\u001b[0m\u001b[1;33m,\u001b[0m \u001b[0mreturn_train_score\u001b[0m\u001b[1;33m=\u001b[0m\u001b[0mreturn_train_score\u001b[0m\u001b[1;33m,\u001b[0m\u001b[1;33m\u001b[0m\u001b[0m\n\u001b[0;32m    205\u001b[0m             return_times=True)\n\u001b[1;32m--> 206\u001b[1;33m         for train, test in cv.split(X, y, groups))\n\u001b[0m\u001b[0;32m    207\u001b[0m \u001b[1;33m\u001b[0m\u001b[0m\n\u001b[0;32m    208\u001b[0m     \u001b[1;32mif\u001b[0m \u001b[0mreturn_train_score\u001b[0m\u001b[1;33m:\u001b[0m\u001b[1;33m\u001b[0m\u001b[0m\n",
      "\u001b[1;32m~\\AppData\\Local\\Continuum\\anaconda3\\lib\\site-packages\\sklearn\\externals\\joblib\\parallel.py\u001b[0m in \u001b[0;36m__call__\u001b[1;34m(self, iterable)\u001b[0m\n\u001b[0;32m    777\u001b[0m             \u001b[1;31m# was dispatched. In particular this covers the edge\u001b[0m\u001b[1;33m\u001b[0m\u001b[1;33m\u001b[0m\u001b[0m\n\u001b[0;32m    778\u001b[0m             \u001b[1;31m# case of Parallel used with an exhausted iterator.\u001b[0m\u001b[1;33m\u001b[0m\u001b[1;33m\u001b[0m\u001b[0m\n\u001b[1;32m--> 779\u001b[1;33m             \u001b[1;32mwhile\u001b[0m \u001b[0mself\u001b[0m\u001b[1;33m.\u001b[0m\u001b[0mdispatch_one_batch\u001b[0m\u001b[1;33m(\u001b[0m\u001b[0miterator\u001b[0m\u001b[1;33m)\u001b[0m\u001b[1;33m:\u001b[0m\u001b[1;33m\u001b[0m\u001b[0m\n\u001b[0m\u001b[0;32m    780\u001b[0m                 \u001b[0mself\u001b[0m\u001b[1;33m.\u001b[0m\u001b[0m_iterating\u001b[0m \u001b[1;33m=\u001b[0m \u001b[1;32mTrue\u001b[0m\u001b[1;33m\u001b[0m\u001b[0m\n\u001b[0;32m    781\u001b[0m             \u001b[1;32melse\u001b[0m\u001b[1;33m:\u001b[0m\u001b[1;33m\u001b[0m\u001b[0m\n",
      "\u001b[1;32m~\\AppData\\Local\\Continuum\\anaconda3\\lib\\site-packages\\sklearn\\externals\\joblib\\parallel.py\u001b[0m in \u001b[0;36mdispatch_one_batch\u001b[1;34m(self, iterator)\u001b[0m\n\u001b[0;32m    623\u001b[0m                 \u001b[1;32mreturn\u001b[0m \u001b[1;32mFalse\u001b[0m\u001b[1;33m\u001b[0m\u001b[0m\n\u001b[0;32m    624\u001b[0m             \u001b[1;32melse\u001b[0m\u001b[1;33m:\u001b[0m\u001b[1;33m\u001b[0m\u001b[0m\n\u001b[1;32m--> 625\u001b[1;33m                 \u001b[0mself\u001b[0m\u001b[1;33m.\u001b[0m\u001b[0m_dispatch\u001b[0m\u001b[1;33m(\u001b[0m\u001b[0mtasks\u001b[0m\u001b[1;33m)\u001b[0m\u001b[1;33m\u001b[0m\u001b[0m\n\u001b[0m\u001b[0;32m    626\u001b[0m                 \u001b[1;32mreturn\u001b[0m \u001b[1;32mTrue\u001b[0m\u001b[1;33m\u001b[0m\u001b[0m\n\u001b[0;32m    627\u001b[0m \u001b[1;33m\u001b[0m\u001b[0m\n",
      "\u001b[1;32m~\\AppData\\Local\\Continuum\\anaconda3\\lib\\site-packages\\sklearn\\externals\\joblib\\parallel.py\u001b[0m in \u001b[0;36m_dispatch\u001b[1;34m(self, batch)\u001b[0m\n\u001b[0;32m    586\u001b[0m         \u001b[0mdispatch_timestamp\u001b[0m \u001b[1;33m=\u001b[0m \u001b[0mtime\u001b[0m\u001b[1;33m.\u001b[0m\u001b[0mtime\u001b[0m\u001b[1;33m(\u001b[0m\u001b[1;33m)\u001b[0m\u001b[1;33m\u001b[0m\u001b[0m\n\u001b[0;32m    587\u001b[0m         \u001b[0mcb\u001b[0m \u001b[1;33m=\u001b[0m \u001b[0mBatchCompletionCallBack\u001b[0m\u001b[1;33m(\u001b[0m\u001b[0mdispatch_timestamp\u001b[0m\u001b[1;33m,\u001b[0m \u001b[0mlen\u001b[0m\u001b[1;33m(\u001b[0m\u001b[0mbatch\u001b[0m\u001b[1;33m)\u001b[0m\u001b[1;33m,\u001b[0m \u001b[0mself\u001b[0m\u001b[1;33m)\u001b[0m\u001b[1;33m\u001b[0m\u001b[0m\n\u001b[1;32m--> 588\u001b[1;33m         \u001b[0mjob\u001b[0m \u001b[1;33m=\u001b[0m \u001b[0mself\u001b[0m\u001b[1;33m.\u001b[0m\u001b[0m_backend\u001b[0m\u001b[1;33m.\u001b[0m\u001b[0mapply_async\u001b[0m\u001b[1;33m(\u001b[0m\u001b[0mbatch\u001b[0m\u001b[1;33m,\u001b[0m \u001b[0mcallback\u001b[0m\u001b[1;33m=\u001b[0m\u001b[0mcb\u001b[0m\u001b[1;33m)\u001b[0m\u001b[1;33m\u001b[0m\u001b[0m\n\u001b[0m\u001b[0;32m    589\u001b[0m         \u001b[0mself\u001b[0m\u001b[1;33m.\u001b[0m\u001b[0m_jobs\u001b[0m\u001b[1;33m.\u001b[0m\u001b[0mappend\u001b[0m\u001b[1;33m(\u001b[0m\u001b[0mjob\u001b[0m\u001b[1;33m)\u001b[0m\u001b[1;33m\u001b[0m\u001b[0m\n\u001b[0;32m    590\u001b[0m \u001b[1;33m\u001b[0m\u001b[0m\n",
      "\u001b[1;32m~\\AppData\\Local\\Continuum\\anaconda3\\lib\\site-packages\\sklearn\\externals\\joblib\\_parallel_backends.py\u001b[0m in \u001b[0;36mapply_async\u001b[1;34m(self, func, callback)\u001b[0m\n\u001b[0;32m    109\u001b[0m     \u001b[1;32mdef\u001b[0m \u001b[0mapply_async\u001b[0m\u001b[1;33m(\u001b[0m\u001b[0mself\u001b[0m\u001b[1;33m,\u001b[0m \u001b[0mfunc\u001b[0m\u001b[1;33m,\u001b[0m \u001b[0mcallback\u001b[0m\u001b[1;33m=\u001b[0m\u001b[1;32mNone\u001b[0m\u001b[1;33m)\u001b[0m\u001b[1;33m:\u001b[0m\u001b[1;33m\u001b[0m\u001b[0m\n\u001b[0;32m    110\u001b[0m         \u001b[1;34m\"\"\"Schedule a func to be run\"\"\"\u001b[0m\u001b[1;33m\u001b[0m\u001b[0m\n\u001b[1;32m--> 111\u001b[1;33m         \u001b[0mresult\u001b[0m \u001b[1;33m=\u001b[0m \u001b[0mImmediateResult\u001b[0m\u001b[1;33m(\u001b[0m\u001b[0mfunc\u001b[0m\u001b[1;33m)\u001b[0m\u001b[1;33m\u001b[0m\u001b[0m\n\u001b[0m\u001b[0;32m    112\u001b[0m         \u001b[1;32mif\u001b[0m \u001b[0mcallback\u001b[0m\u001b[1;33m:\u001b[0m\u001b[1;33m\u001b[0m\u001b[0m\n\u001b[0;32m    113\u001b[0m             \u001b[0mcallback\u001b[0m\u001b[1;33m(\u001b[0m\u001b[0mresult\u001b[0m\u001b[1;33m)\u001b[0m\u001b[1;33m\u001b[0m\u001b[0m\n",
      "\u001b[1;32m~\\AppData\\Local\\Continuum\\anaconda3\\lib\\site-packages\\sklearn\\externals\\joblib\\_parallel_backends.py\u001b[0m in \u001b[0;36m__init__\u001b[1;34m(self, batch)\u001b[0m\n\u001b[0;32m    330\u001b[0m         \u001b[1;31m# Don't delay the application, to avoid keeping the input\u001b[0m\u001b[1;33m\u001b[0m\u001b[1;33m\u001b[0m\u001b[0m\n\u001b[0;32m    331\u001b[0m         \u001b[1;31m# arguments in memory\u001b[0m\u001b[1;33m\u001b[0m\u001b[1;33m\u001b[0m\u001b[0m\n\u001b[1;32m--> 332\u001b[1;33m         \u001b[0mself\u001b[0m\u001b[1;33m.\u001b[0m\u001b[0mresults\u001b[0m \u001b[1;33m=\u001b[0m \u001b[0mbatch\u001b[0m\u001b[1;33m(\u001b[0m\u001b[1;33m)\u001b[0m\u001b[1;33m\u001b[0m\u001b[0m\n\u001b[0m\u001b[0;32m    333\u001b[0m \u001b[1;33m\u001b[0m\u001b[0m\n\u001b[0;32m    334\u001b[0m     \u001b[1;32mdef\u001b[0m \u001b[0mget\u001b[0m\u001b[1;33m(\u001b[0m\u001b[0mself\u001b[0m\u001b[1;33m)\u001b[0m\u001b[1;33m:\u001b[0m\u001b[1;33m\u001b[0m\u001b[0m\n",
      "\u001b[1;32m~\\AppData\\Local\\Continuum\\anaconda3\\lib\\site-packages\\sklearn\\externals\\joblib\\parallel.py\u001b[0m in \u001b[0;36m__call__\u001b[1;34m(self)\u001b[0m\n\u001b[0;32m    129\u001b[0m \u001b[1;33m\u001b[0m\u001b[0m\n\u001b[0;32m    130\u001b[0m     \u001b[1;32mdef\u001b[0m \u001b[0m__call__\u001b[0m\u001b[1;33m(\u001b[0m\u001b[0mself\u001b[0m\u001b[1;33m)\u001b[0m\u001b[1;33m:\u001b[0m\u001b[1;33m\u001b[0m\u001b[0m\n\u001b[1;32m--> 131\u001b[1;33m         \u001b[1;32mreturn\u001b[0m \u001b[1;33m[\u001b[0m\u001b[0mfunc\u001b[0m\u001b[1;33m(\u001b[0m\u001b[1;33m*\u001b[0m\u001b[0margs\u001b[0m\u001b[1;33m,\u001b[0m \u001b[1;33m**\u001b[0m\u001b[0mkwargs\u001b[0m\u001b[1;33m)\u001b[0m \u001b[1;32mfor\u001b[0m \u001b[0mfunc\u001b[0m\u001b[1;33m,\u001b[0m \u001b[0margs\u001b[0m\u001b[1;33m,\u001b[0m \u001b[0mkwargs\u001b[0m \u001b[1;32min\u001b[0m \u001b[0mself\u001b[0m\u001b[1;33m.\u001b[0m\u001b[0mitems\u001b[0m\u001b[1;33m]\u001b[0m\u001b[1;33m\u001b[0m\u001b[0m\n\u001b[0m\u001b[0;32m    132\u001b[0m \u001b[1;33m\u001b[0m\u001b[0m\n\u001b[0;32m    133\u001b[0m     \u001b[1;32mdef\u001b[0m \u001b[0m__len__\u001b[0m\u001b[1;33m(\u001b[0m\u001b[0mself\u001b[0m\u001b[1;33m)\u001b[0m\u001b[1;33m:\u001b[0m\u001b[1;33m\u001b[0m\u001b[0m\n",
      "\u001b[1;32m~\\AppData\\Local\\Continuum\\anaconda3\\lib\\site-packages\\sklearn\\externals\\joblib\\parallel.py\u001b[0m in \u001b[0;36m<listcomp>\u001b[1;34m(.0)\u001b[0m\n\u001b[0;32m    129\u001b[0m \u001b[1;33m\u001b[0m\u001b[0m\n\u001b[0;32m    130\u001b[0m     \u001b[1;32mdef\u001b[0m \u001b[0m__call__\u001b[0m\u001b[1;33m(\u001b[0m\u001b[0mself\u001b[0m\u001b[1;33m)\u001b[0m\u001b[1;33m:\u001b[0m\u001b[1;33m\u001b[0m\u001b[0m\n\u001b[1;32m--> 131\u001b[1;33m         \u001b[1;32mreturn\u001b[0m \u001b[1;33m[\u001b[0m\u001b[0mfunc\u001b[0m\u001b[1;33m(\u001b[0m\u001b[1;33m*\u001b[0m\u001b[0margs\u001b[0m\u001b[1;33m,\u001b[0m \u001b[1;33m**\u001b[0m\u001b[0mkwargs\u001b[0m\u001b[1;33m)\u001b[0m \u001b[1;32mfor\u001b[0m \u001b[0mfunc\u001b[0m\u001b[1;33m,\u001b[0m \u001b[0margs\u001b[0m\u001b[1;33m,\u001b[0m \u001b[0mkwargs\u001b[0m \u001b[1;32min\u001b[0m \u001b[0mself\u001b[0m\u001b[1;33m.\u001b[0m\u001b[0mitems\u001b[0m\u001b[1;33m]\u001b[0m\u001b[1;33m\u001b[0m\u001b[0m\n\u001b[0m\u001b[0;32m    132\u001b[0m \u001b[1;33m\u001b[0m\u001b[0m\n\u001b[0;32m    133\u001b[0m     \u001b[1;32mdef\u001b[0m \u001b[0m__len__\u001b[0m\u001b[1;33m(\u001b[0m\u001b[0mself\u001b[0m\u001b[1;33m)\u001b[0m\u001b[1;33m:\u001b[0m\u001b[1;33m\u001b[0m\u001b[0m\n",
      "\u001b[1;32m~\\AppData\\Local\\Continuum\\anaconda3\\lib\\site-packages\\sklearn\\model_selection\\_validation.py\u001b[0m in \u001b[0;36m_fit_and_score\u001b[1;34m(estimator, X, y, scorer, train, test, verbose, parameters, fit_params, return_train_score, return_parameters, return_n_test_samples, return_times, error_score)\u001b[0m\n\u001b[0;32m    456\u001b[0m             \u001b[0mestimator\u001b[0m\u001b[1;33m.\u001b[0m\u001b[0mfit\u001b[0m\u001b[1;33m(\u001b[0m\u001b[0mX_train\u001b[0m\u001b[1;33m,\u001b[0m \u001b[1;33m**\u001b[0m\u001b[0mfit_params\u001b[0m\u001b[1;33m)\u001b[0m\u001b[1;33m\u001b[0m\u001b[0m\n\u001b[0;32m    457\u001b[0m         \u001b[1;32melse\u001b[0m\u001b[1;33m:\u001b[0m\u001b[1;33m\u001b[0m\u001b[0m\n\u001b[1;32m--> 458\u001b[1;33m             \u001b[0mestimator\u001b[0m\u001b[1;33m.\u001b[0m\u001b[0mfit\u001b[0m\u001b[1;33m(\u001b[0m\u001b[0mX_train\u001b[0m\u001b[1;33m,\u001b[0m \u001b[0my_train\u001b[0m\u001b[1;33m,\u001b[0m \u001b[1;33m**\u001b[0m\u001b[0mfit_params\u001b[0m\u001b[1;33m)\u001b[0m\u001b[1;33m\u001b[0m\u001b[0m\n\u001b[0m\u001b[0;32m    459\u001b[0m \u001b[1;33m\u001b[0m\u001b[0m\n\u001b[0;32m    460\u001b[0m     \u001b[1;32mexcept\u001b[0m \u001b[0mException\u001b[0m \u001b[1;32mas\u001b[0m \u001b[0me\u001b[0m\u001b[1;33m:\u001b[0m\u001b[1;33m\u001b[0m\u001b[0m\n",
      "\u001b[1;32m~\\AppData\\Local\\Continuum\\anaconda3\\lib\\site-packages\\sklearn\\svm\\classes.py\u001b[0m in \u001b[0;36mfit\u001b[1;34m(self, X, y, sample_weight)\u001b[0m\n\u001b[0;32m    233\u001b[0m             \u001b[0mself\u001b[0m\u001b[1;33m.\u001b[0m\u001b[0mclass_weight\u001b[0m\u001b[1;33m,\u001b[0m \u001b[0mself\u001b[0m\u001b[1;33m.\u001b[0m\u001b[0mpenalty\u001b[0m\u001b[1;33m,\u001b[0m \u001b[0mself\u001b[0m\u001b[1;33m.\u001b[0m\u001b[0mdual\u001b[0m\u001b[1;33m,\u001b[0m \u001b[0mself\u001b[0m\u001b[1;33m.\u001b[0m\u001b[0mverbose\u001b[0m\u001b[1;33m,\u001b[0m\u001b[1;33m\u001b[0m\u001b[0m\n\u001b[0;32m    234\u001b[0m             \u001b[0mself\u001b[0m\u001b[1;33m.\u001b[0m\u001b[0mmax_iter\u001b[0m\u001b[1;33m,\u001b[0m \u001b[0mself\u001b[0m\u001b[1;33m.\u001b[0m\u001b[0mtol\u001b[0m\u001b[1;33m,\u001b[0m \u001b[0mself\u001b[0m\u001b[1;33m.\u001b[0m\u001b[0mrandom_state\u001b[0m\u001b[1;33m,\u001b[0m \u001b[0mself\u001b[0m\u001b[1;33m.\u001b[0m\u001b[0mmulti_class\u001b[0m\u001b[1;33m,\u001b[0m\u001b[1;33m\u001b[0m\u001b[0m\n\u001b[1;32m--> 235\u001b[1;33m             self.loss, sample_weight=sample_weight)\n\u001b[0m\u001b[0;32m    236\u001b[0m \u001b[1;33m\u001b[0m\u001b[0m\n\u001b[0;32m    237\u001b[0m         \u001b[1;32mif\u001b[0m \u001b[0mself\u001b[0m\u001b[1;33m.\u001b[0m\u001b[0mmulti_class\u001b[0m \u001b[1;33m==\u001b[0m \u001b[1;34m\"crammer_singer\"\u001b[0m \u001b[1;32mand\u001b[0m \u001b[0mlen\u001b[0m\u001b[1;33m(\u001b[0m\u001b[0mself\u001b[0m\u001b[1;33m.\u001b[0m\u001b[0mclasses_\u001b[0m\u001b[1;33m)\u001b[0m \u001b[1;33m==\u001b[0m \u001b[1;36m2\u001b[0m\u001b[1;33m:\u001b[0m\u001b[1;33m\u001b[0m\u001b[0m\n",
      "\u001b[1;32m~\\AppData\\Local\\Continuum\\anaconda3\\lib\\site-packages\\sklearn\\svm\\base.py\u001b[0m in \u001b[0;36m_fit_liblinear\u001b[1;34m(X, y, C, fit_intercept, intercept_scaling, class_weight, penalty, dual, verbose, max_iter, tol, random_state, multi_class, loss, epsilon, sample_weight)\u001b[0m\n\u001b[0;32m    888\u001b[0m         \u001b[0mX\u001b[0m\u001b[1;33m,\u001b[0m \u001b[0my_ind\u001b[0m\u001b[1;33m,\u001b[0m \u001b[0msp\u001b[0m\u001b[1;33m.\u001b[0m\u001b[0misspmatrix\u001b[0m\u001b[1;33m(\u001b[0m\u001b[0mX\u001b[0m\u001b[1;33m)\u001b[0m\u001b[1;33m,\u001b[0m \u001b[0msolver_type\u001b[0m\u001b[1;33m,\u001b[0m \u001b[0mtol\u001b[0m\u001b[1;33m,\u001b[0m \u001b[0mbias\u001b[0m\u001b[1;33m,\u001b[0m \u001b[0mC\u001b[0m\u001b[1;33m,\u001b[0m\u001b[1;33m\u001b[0m\u001b[0m\n\u001b[0;32m    889\u001b[0m         \u001b[0mclass_weight_\u001b[0m\u001b[1;33m,\u001b[0m \u001b[0mmax_iter\u001b[0m\u001b[1;33m,\u001b[0m \u001b[0mrnd\u001b[0m\u001b[1;33m.\u001b[0m\u001b[0mrandint\u001b[0m\u001b[1;33m(\u001b[0m\u001b[0mnp\u001b[0m\u001b[1;33m.\u001b[0m\u001b[0miinfo\u001b[0m\u001b[1;33m(\u001b[0m\u001b[1;34m'i'\u001b[0m\u001b[1;33m)\u001b[0m\u001b[1;33m.\u001b[0m\u001b[0mmax\u001b[0m\u001b[1;33m)\u001b[0m\u001b[1;33m,\u001b[0m\u001b[1;33m\u001b[0m\u001b[0m\n\u001b[1;32m--> 890\u001b[1;33m         epsilon, sample_weight)\n\u001b[0m\u001b[0;32m    891\u001b[0m     \u001b[1;31m# Regarding rnd.randint(..) in the above signature:\u001b[0m\u001b[1;33m\u001b[0m\u001b[1;33m\u001b[0m\u001b[0m\n\u001b[0;32m    892\u001b[0m     \u001b[1;31m# seed for srand in range [0..INT_MAX); due to limitations in Numpy\u001b[0m\u001b[1;33m\u001b[0m\u001b[1;33m\u001b[0m\u001b[0m\n",
      "\u001b[1;31mKeyboardInterrupt\u001b[0m: "
     ]
    }
   ],
   "source": [
    "svc_models = cu.SVC_models_crossval(transformed_df, labels, NUM_SPLITS)"
   ]
  },
  {
   "cell_type": "markdown",
   "metadata": {},
   "source": [
    "### Aggregations\n",
    "* Random Forest\n",
    "* Gradient Boosting"
   ]
  },
  {
   "cell_type": "code",
   "execution_count": null,
   "metadata": {},
   "outputs": [],
   "source": [
    "rf = cu.randomforest_model_crossval(transformed_df, labels, NUM_SPLITS)"
   ]
  },
  {
   "cell_type": "code",
   "execution_count": null,
   "metadata": {},
   "outputs": [],
   "source": [
    "gbc = cu.gradient_boosting_crossval(transformed_df, labels, NUM_SPLITS)"
   ]
  },
  {
   "cell_type": "markdown",
   "metadata": {},
   "source": [
    "## Tune parameters of best models \n",
    "* Check accuracy score and F1 score (measure of precision and recall)"
   ]
  },
  {
   "cell_type": "code",
   "execution_count": 45,
   "metadata": {
    "collapsed": true
   },
   "outputs": [],
   "source": [
    "start_time = time.time()"
   ]
  },
  {
   "cell_type": "markdown",
   "metadata": {},
   "source": [
    "### Gradient Boosting grid search"
   ]
  },
  {
   "cell_type": "code",
   "execution_count": 46,
   "metadata": {},
   "outputs": [
    {
     "name": "stdout",
     "output_type": "stream",
     "text": [
      "Best Gradient Boosting parameters:\n",
      " {'classify__max_depth': 5, 'classify__min_samples_split': 10, 'classify__n_estimators': 25, 'reduce_dim': SelectPercentile(percentile=25,\n",
      "         score_func=<function f_classif at 0x000000000C3790D0>), 'reduce_dim__percentile': 25}\n",
      "\n",
      "Best Cross-Validation score:\n",
      " 0.988764044944\n",
      "--- 375.56249210834505 minutes ---\n"
     ]
    }
   ],
   "source": [
    "gbc_grid = cu.gbc_grid_search(NUM_FOLDS, 2)\n",
    "\n",
    "gbc_grid.fit(transformed_df, labels)\n",
    "\n",
    "print('Best Gradient Boosting parameters:\\n', gbc_grid.best_params_)\n",
    "print('\\nBest Cross-Validation score:\\n', gbc_grid.best_score_)\n",
    "\n",
    "print(\"--- %s minutes ---\" % ((time.time() - start_time)/60))"
   ]
  },
  {
   "cell_type": "markdown",
   "metadata": {},
   "source": [
    "### Random Forest grid search"
   ]
  },
  {
   "cell_type": "code",
   "execution_count": 47,
   "metadata": {},
   "outputs": [
    {
     "name": "stdout",
     "output_type": "stream",
     "text": [
      "Best Random Forest parameters:\n",
      " {'classify__max_features': 'log2', 'classify__min_samples_split': 10, 'classify__n_estimators': 25, 'reduce_dim': SelectPercentile(percentile=25,\n",
      "         score_func=<function f_classif at 0x000000000C3790D0>), 'reduce_dim__percentile': 25}\n",
      "\n",
      "Best Cross-Validation score:\n",
      " 1.0\n",
      "--- 388.9477921128273 minutes ---\n"
     ]
    }
   ],
   "source": [
    "rf_grid = cu.rf_grid_search(NUM_FOLDS, 2)\n",
    "\n",
    "rf_grid.fit(transformed_df, labels)\n",
    "\n",
    "print('Best Random Forest parameters:\\n', rf_grid.best_params_)\n",
    "print('\\nBest Cross-Validation score:\\n', rf_grid.best_score_)\n",
    "\n",
    "print(\"--- %s minutes ---\" % ((time.time() - start_time)/60))"
   ]
  },
  {
   "cell_type": "markdown",
   "metadata": {},
   "source": [
    "### SVC grid search"
   ]
  },
  {
   "cell_type": "code",
   "execution_count": 48,
   "metadata": {},
   "outputs": [
    {
     "name": "stdout",
     "output_type": "stream",
     "text": [
      "Best SVC parameters:\n",
      " {'classify__C': 0.01, 'classify__kernel': 'linear', 'reduce_dim': SelectPercentile(percentile=100,\n",
      "         score_func=<function f_classif at 0x000000000C3790D0>), 'reduce_dim__percentile': 100}\n",
      "\n",
      "Best Cross-Validation score:\n",
      " 0.988764044944\n",
      "--- 391.3602854450544 minutes ---\n"
     ]
    }
   ],
   "source": [
    "svc_grid = cu.svc_grid_search(NUM_FOLDS, 2)\n",
    "\n",
    "svc_grid.fit(transformed_df, labels)\n",
    "\n",
    "print('Best SVC parameters:\\n', svc_grid.best_params_)\n",
    "print('\\nBest Cross-Validation score:\\n', svc_grid.best_score_)\n",
    "\n",
    "print(\"--- %s minutes ---\" % ((time.time() - start_time)/60))"
   ]
  },
  {
   "cell_type": "markdown",
   "metadata": {},
   "source": [
    "## PCA of data reduced according to best grid search reduction method"
   ]
  },
  {
   "cell_type": "code",
   "execution_count": null,
   "metadata": {
    "collapsed": true
   },
   "outputs": [],
   "source": [
    "from sklearn.feature_selection import SelectPercentile\n",
    "\n",
    "percentile_75_df = SelectPercentile(percentile=75).fit_transform(transformed_df, labels)\n",
    "percentile_75_df.shape"
   ]
  },
  {
   "cell_type": "code",
   "execution_count": null,
   "metadata": {
    "collapsed": true
   },
   "outputs": [],
   "source": [
    "pca_percentile = PCA() # create a PCA object\n",
    "pca_percentile.fit(percentile_75_df) # do the math\n",
    "pca_data_percentile = pca_percentile.transform(percentile_75_df) # get PCA coordinates for dataframe\n",
    "\n",
    "per_var_percentile, pca_labels_percentile = mq.make_scree_plot(pca_percentile, image_dir, 'Scree_75_Percentile')\n",
    "mq.draw_pca_graph2(column_names, pca_data_percentile, image_dir, column_to_color, per_var_percentile, pca_labels_percentile, tissues, tissues_to_columns, 'PCA_75_Percentile')"
   ]
  },
  {
   "cell_type": "markdown",
   "metadata": {},
   "source": [
    "## Top expressed peptides per tissue"
   ]
  },
  {
   "cell_type": "code",
   "execution_count": null,
   "metadata": {
    "collapsed": true,
    "scrolled": true
   },
   "outputs": [],
   "source": [
    "cu.print_top_n_features(df, rf, 10)\n",
    "cu.print_top_n_features_coef(df, lr, 10, tissues)"
   ]
  },
  {
   "cell_type": "markdown",
   "metadata": {},
   "source": [
    "## Save model, test new data\n",
    "* Save array/dataframe of features (via joblib) along with final model\n",
    "* Write script to classify new data-- load features and fit new data on them"
   ]
  },
  {
   "cell_type": "markdown",
   "metadata": {},
   "source": [
    "### Serialize models, training data, and training features"
   ]
  },
  {
   "cell_type": "code",
   "execution_count": 51,
   "metadata": {},
   "outputs": [],
   "source": [
    "finalized_model_folder = r'Trained_Models\\High_Quality_Data\\25Percentile_Peptides_Kept\\\\'\n",
    "model_path = finalized_model_folder + 'highqual_crossval_rf_grid.sav'\n",
    "joblib.dump(svc_grid, open(model_path, 'wb'))"
   ]
  },
  {
   "cell_type": "code",
   "execution_count": 342,
   "metadata": {
    "collapsed": true
   },
   "outputs": [],
   "source": [
    "train_data_path = finalized_model_folder + 'train_data'\n",
    "joblib.dump(original_df, open(train_data_path, 'wb'))"
   ]
  },
  {
   "cell_type": "code",
   "execution_count": 343,
   "metadata": {
    "collapsed": true
   },
   "outputs": [],
   "source": [
    "train_features_path = finalized_model_folder + 'train_features'\n",
    "joblib.dump(features_to_keep, open(train_features_path, 'wb'))"
   ]
  },
  {
   "cell_type": "markdown",
   "metadata": {},
   "source": [
    "### Load new data (test set)"
   ]
  },
  {
   "cell_type": "code",
   "execution_count": 20,
   "metadata": {},
   "outputs": [
    {
     "name": "stderr",
     "output_type": "stream",
     "text": [
      "C:\\Users\\kush494\\Documents\\Proteomics_Data_Processing\\Classifiers\\Classification_Utils.py:522: RuntimeWarning: divide by zero encountered in log2\n",
      "  fitted_data.iloc[:,:] = np.log2(fitted_data.iloc[:,:])\n"
     ]
    }
   ],
   "source": [
    "TEST_SET_DIR = TEST_SET_DIR\n",
    "#TEST_SET_DIR = LOW_QUAL_DIR\n",
    "\n",
    "test_paths = listdir(TEST_SET_DIR) \n",
    "\n",
    "test_data = cu.combine_csvs(TEST_SET_DIR, test_paths)\n",
    "\n",
    "### Generate test_labels. Columns in test set must start with [Tissue Name]\n",
    "test_labels = []\n",
    "for col in test_data.columns.values.tolist():\n",
    "    for tissue in tissues:\n",
    "        if col.startswith(tissue):\n",
    "            test_labels.append(tissue)\n",
    "            continue\n",
    "\n",
    "test_data.columns.values.tolist()\n",
    "test_data = cu.fit_new_data(original_df, test_data, features_to_keep)\n",
    "#test_data = cu.fit_new_data(original_df, test_data)\n",
    "\n",
    "#loaded_train_data = joblib.load(open(train_data_path, 'rb'))\n",
    "#test_data = cu.fit_new_data(loaded_train_data, test_data)"
   ]
  },
  {
   "cell_type": "code",
   "execution_count": 9,
   "metadata": {},
   "outputs": [
    {
     "data": {
      "text/html": [
       "<div>\n",
       "<style>\n",
       "    .dataframe thead tr:only-child th {\n",
       "        text-align: right;\n",
       "    }\n",
       "\n",
       "    .dataframe thead th {\n",
       "        text-align: left;\n",
       "    }\n",
       "\n",
       "    .dataframe tbody tr th {\n",
       "        vertical-align: top;\n",
       "    }\n",
       "</style>\n",
       "<table border=\"1\" class=\"dataframe\">\n",
       "  <thead>\n",
       "    <tr style=\"text-align: right;\">\n",
       "      <th>Peptide</th>\n",
       "      <th>-.DIQM*TQSPSTLSASVGDR.V</th>\n",
       "      <th>-.DIQM*TQSPSTLSASVGDRVTITCR.A</th>\n",
       "      <th>-.DIQMTQSPS.T</th>\n",
       "      <th>-.DIQMTQSPSTLSASVGDR.V</th>\n",
       "      <th>-.DIQMTQSPSTLSASVGDRVTITCR.A</th>\n",
       "      <th>-.EVQLVETGGGLIQPGGSLR.L</th>\n",
       "      <th>-.KVHGSLAR.A</th>\n",
       "      <th>-.LGEHNIDVLEGNEQFINAAR.I</th>\n",
       "      <th>-.LGEHNIDVLEGNEQFINAARI.I</th>\n",
       "      <th>-.LGEHNIDVLEGNEQFINAARII.T</th>\n",
       "      <th>...</th>\n",
       "      <th>Y.YTSVTPVLR.G</th>\n",
       "      <th>Y.YTTIQDLR.D</th>\n",
       "      <th>Y.YVAPEVLGPEKYDK.S</th>\n",
       "      <th>Y.YVSNEELR.G</th>\n",
       "      <th>Y.YVTIIDAPGHR.D</th>\n",
       "      <th>Y.YVYNIIGGLDEEGK.G</th>\n",
       "      <th>Y.YWGGQYTWDM*AK.H</th>\n",
       "      <th>Y.YWGGQYTWDMAK.H</th>\n",
       "      <th>Y.YYIQQDTK.G</th>\n",
       "      <th>Y.YYIQQDTKGDYQK.A</th>\n",
       "    </tr>\n",
       "  </thead>\n",
       "  <tbody>\n",
       "    <tr>\n",
       "      <th>Blood_Plasma_OpPlasma_029_a_13Aug11_Jaguar_11-07-18</th>\n",
       "      <td>3.022208</td>\n",
       "      <td>3.022208</td>\n",
       "      <td>3.022208</td>\n",
       "      <td>3.022208</td>\n",
       "      <td>3.022208</td>\n",
       "      <td>3.022208</td>\n",
       "      <td>3.022208</td>\n",
       "      <td>3.022208</td>\n",
       "      <td>3.022208</td>\n",
       "      <td>3.022208</td>\n",
       "      <td>...</td>\n",
       "      <td>3.022208</td>\n",
       "      <td>3.022208</td>\n",
       "      <td>3.022208</td>\n",
       "      <td>3.022208</td>\n",
       "      <td>3.022208</td>\n",
       "      <td>3.022208</td>\n",
       "      <td>3.022208</td>\n",
       "      <td>3.022208</td>\n",
       "      <td>3.022208</td>\n",
       "      <td>3.022208</td>\n",
       "    </tr>\n",
       "    <tr>\n",
       "      <th>Blood_Plasma_OpPlasma_034_a_13Aug11_Jaguar_11-07-18</th>\n",
       "      <td>3.022208</td>\n",
       "      <td>3.022208</td>\n",
       "      <td>3.022208</td>\n",
       "      <td>3.022208</td>\n",
       "      <td>3.022208</td>\n",
       "      <td>3.022208</td>\n",
       "      <td>3.022208</td>\n",
       "      <td>3.022208</td>\n",
       "      <td>3.022208</td>\n",
       "      <td>3.022208</td>\n",
       "      <td>...</td>\n",
       "      <td>3.022208</td>\n",
       "      <td>3.022208</td>\n",
       "      <td>3.022208</td>\n",
       "      <td>3.022208</td>\n",
       "      <td>3.022208</td>\n",
       "      <td>3.022208</td>\n",
       "      <td>3.022208</td>\n",
       "      <td>3.022208</td>\n",
       "      <td>3.022208</td>\n",
       "      <td>3.022208</td>\n",
       "    </tr>\n",
       "    <tr>\n",
       "      <th>Blood_Plasma_OpPlasma_038_a_13Aug11_Jaguar_11-07-16</th>\n",
       "      <td>3.022208</td>\n",
       "      <td>3.022208</td>\n",
       "      <td>3.022208</td>\n",
       "      <td>3.022208</td>\n",
       "      <td>3.022208</td>\n",
       "      <td>3.022208</td>\n",
       "      <td>3.022208</td>\n",
       "      <td>3.022208</td>\n",
       "      <td>3.022208</td>\n",
       "      <td>3.022208</td>\n",
       "      <td>...</td>\n",
       "      <td>3.022208</td>\n",
       "      <td>3.022208</td>\n",
       "      <td>3.022208</td>\n",
       "      <td>3.022208</td>\n",
       "      <td>3.022208</td>\n",
       "      <td>3.022208</td>\n",
       "      <td>3.022208</td>\n",
       "      <td>3.022208</td>\n",
       "      <td>3.022208</td>\n",
       "      <td>3.022208</td>\n",
       "    </tr>\n",
       "    <tr>\n",
       "      <th>Blood_Plasma_OpPlasma_039_a_13Aug11_Jaguar_11-07-16</th>\n",
       "      <td>3.022208</td>\n",
       "      <td>3.022208</td>\n",
       "      <td>3.022208</td>\n",
       "      <td>3.022208</td>\n",
       "      <td>3.022208</td>\n",
       "      <td>3.022208</td>\n",
       "      <td>3.022208</td>\n",
       "      <td>3.022208</td>\n",
       "      <td>3.022208</td>\n",
       "      <td>3.022208</td>\n",
       "      <td>...</td>\n",
       "      <td>3.022208</td>\n",
       "      <td>3.022208</td>\n",
       "      <td>3.022208</td>\n",
       "      <td>3.022208</td>\n",
       "      <td>3.022208</td>\n",
       "      <td>3.022208</td>\n",
       "      <td>3.022208</td>\n",
       "      <td>3.022208</td>\n",
       "      <td>3.022208</td>\n",
       "      <td>3.022208</td>\n",
       "    </tr>\n",
       "    <tr>\n",
       "      <th>Blood_Plasma_OpPlasma_045_a_27Jul11_Jaguar_11-05-05</th>\n",
       "      <td>3.022208</td>\n",
       "      <td>3.022208</td>\n",
       "      <td>3.022208</td>\n",
       "      <td>3.022208</td>\n",
       "      <td>3.022208</td>\n",
       "      <td>3.022208</td>\n",
       "      <td>3.022208</td>\n",
       "      <td>28.611752</td>\n",
       "      <td>3.022208</td>\n",
       "      <td>3.022208</td>\n",
       "      <td>...</td>\n",
       "      <td>3.022208</td>\n",
       "      <td>3.022208</td>\n",
       "      <td>3.022208</td>\n",
       "      <td>3.022208</td>\n",
       "      <td>3.022208</td>\n",
       "      <td>3.022208</td>\n",
       "      <td>3.022208</td>\n",
       "      <td>3.022208</td>\n",
       "      <td>3.022208</td>\n",
       "      <td>3.022208</td>\n",
       "    </tr>\n",
       "  </tbody>\n",
       "</table>\n",
       "<p>5 rows × 119916 columns</p>\n",
       "</div>"
      ],
      "text/plain": [
       "Peptide                                             \\n-.DIQM*TQSPSTLSASVGDR.V  \\\n",
       "Blood_Plasma_OpPlasma_029_a_13Aug11_Jaguar_11-0...                   3.022208   \n",
       "Blood_Plasma_OpPlasma_034_a_13Aug11_Jaguar_11-0...                   3.022208   \n",
       "Blood_Plasma_OpPlasma_038_a_13Aug11_Jaguar_11-0...                   3.022208   \n",
       "Blood_Plasma_OpPlasma_039_a_13Aug11_Jaguar_11-0...                   3.022208   \n",
       "Blood_Plasma_OpPlasma_045_a_27Jul11_Jaguar_11-0...                   3.022208   \n",
       "\n",
       "Peptide                                             \\n-.DIQM*TQSPSTLSASVGDRVTITCR.A  \\\n",
       "Blood_Plasma_OpPlasma_029_a_13Aug11_Jaguar_11-0...                         3.022208   \n",
       "Blood_Plasma_OpPlasma_034_a_13Aug11_Jaguar_11-0...                         3.022208   \n",
       "Blood_Plasma_OpPlasma_038_a_13Aug11_Jaguar_11-0...                         3.022208   \n",
       "Blood_Plasma_OpPlasma_039_a_13Aug11_Jaguar_11-0...                         3.022208   \n",
       "Blood_Plasma_OpPlasma_045_a_27Jul11_Jaguar_11-0...                         3.022208   \n",
       "\n",
       "Peptide                                             \\n-.DIQMTQSPS.T  \\\n",
       "Blood_Plasma_OpPlasma_029_a_13Aug11_Jaguar_11-0...         3.022208   \n",
       "Blood_Plasma_OpPlasma_034_a_13Aug11_Jaguar_11-0...         3.022208   \n",
       "Blood_Plasma_OpPlasma_038_a_13Aug11_Jaguar_11-0...         3.022208   \n",
       "Blood_Plasma_OpPlasma_039_a_13Aug11_Jaguar_11-0...         3.022208   \n",
       "Blood_Plasma_OpPlasma_045_a_27Jul11_Jaguar_11-0...         3.022208   \n",
       "\n",
       "Peptide                                             \\n-.DIQMTQSPSTLSASVGDR.V  \\\n",
       "Blood_Plasma_OpPlasma_029_a_13Aug11_Jaguar_11-0...                  3.022208   \n",
       "Blood_Plasma_OpPlasma_034_a_13Aug11_Jaguar_11-0...                  3.022208   \n",
       "Blood_Plasma_OpPlasma_038_a_13Aug11_Jaguar_11-0...                  3.022208   \n",
       "Blood_Plasma_OpPlasma_039_a_13Aug11_Jaguar_11-0...                  3.022208   \n",
       "Blood_Plasma_OpPlasma_045_a_27Jul11_Jaguar_11-0...                  3.022208   \n",
       "\n",
       "Peptide                                             \\n-.DIQMTQSPSTLSASVGDRVTITCR.A  \\\n",
       "Blood_Plasma_OpPlasma_029_a_13Aug11_Jaguar_11-0...                        3.022208   \n",
       "Blood_Plasma_OpPlasma_034_a_13Aug11_Jaguar_11-0...                        3.022208   \n",
       "Blood_Plasma_OpPlasma_038_a_13Aug11_Jaguar_11-0...                        3.022208   \n",
       "Blood_Plasma_OpPlasma_039_a_13Aug11_Jaguar_11-0...                        3.022208   \n",
       "Blood_Plasma_OpPlasma_045_a_27Jul11_Jaguar_11-0...                        3.022208   \n",
       "\n",
       "Peptide                                             \\n-.EVQLVETGGGLIQPGGSLR.L  \\\n",
       "Blood_Plasma_OpPlasma_029_a_13Aug11_Jaguar_11-0...                   3.022208   \n",
       "Blood_Plasma_OpPlasma_034_a_13Aug11_Jaguar_11-0...                   3.022208   \n",
       "Blood_Plasma_OpPlasma_038_a_13Aug11_Jaguar_11-0...                   3.022208   \n",
       "Blood_Plasma_OpPlasma_039_a_13Aug11_Jaguar_11-0...                   3.022208   \n",
       "Blood_Plasma_OpPlasma_045_a_27Jul11_Jaguar_11-0...                   3.022208   \n",
       "\n",
       "Peptide                                             \\n-.KVHGSLAR.A  \\\n",
       "Blood_Plasma_OpPlasma_029_a_13Aug11_Jaguar_11-0...        3.022208   \n",
       "Blood_Plasma_OpPlasma_034_a_13Aug11_Jaguar_11-0...        3.022208   \n",
       "Blood_Plasma_OpPlasma_038_a_13Aug11_Jaguar_11-0...        3.022208   \n",
       "Blood_Plasma_OpPlasma_039_a_13Aug11_Jaguar_11-0...        3.022208   \n",
       "Blood_Plasma_OpPlasma_045_a_27Jul11_Jaguar_11-0...        3.022208   \n",
       "\n",
       "Peptide                                             \\n-.LGEHNIDVLEGNEQFINAAR.I  \\\n",
       "Blood_Plasma_OpPlasma_029_a_13Aug11_Jaguar_11-0...                    3.022208   \n",
       "Blood_Plasma_OpPlasma_034_a_13Aug11_Jaguar_11-0...                    3.022208   \n",
       "Blood_Plasma_OpPlasma_038_a_13Aug11_Jaguar_11-0...                    3.022208   \n",
       "Blood_Plasma_OpPlasma_039_a_13Aug11_Jaguar_11-0...                    3.022208   \n",
       "Blood_Plasma_OpPlasma_045_a_27Jul11_Jaguar_11-0...                   28.611752   \n",
       "\n",
       "Peptide                                             \\n-.LGEHNIDVLEGNEQFINAARI.I  \\\n",
       "Blood_Plasma_OpPlasma_029_a_13Aug11_Jaguar_11-0...                     3.022208   \n",
       "Blood_Plasma_OpPlasma_034_a_13Aug11_Jaguar_11-0...                     3.022208   \n",
       "Blood_Plasma_OpPlasma_038_a_13Aug11_Jaguar_11-0...                     3.022208   \n",
       "Blood_Plasma_OpPlasma_039_a_13Aug11_Jaguar_11-0...                     3.022208   \n",
       "Blood_Plasma_OpPlasma_045_a_27Jul11_Jaguar_11-0...                     3.022208   \n",
       "\n",
       "Peptide                                             \\n-.LGEHNIDVLEGNEQFINAARII.T  \\\n",
       "Blood_Plasma_OpPlasma_029_a_13Aug11_Jaguar_11-0...                      3.022208   \n",
       "Blood_Plasma_OpPlasma_034_a_13Aug11_Jaguar_11-0...                      3.022208   \n",
       "Blood_Plasma_OpPlasma_038_a_13Aug11_Jaguar_11-0...                      3.022208   \n",
       "Blood_Plasma_OpPlasma_039_a_13Aug11_Jaguar_11-0...                      3.022208   \n",
       "Blood_Plasma_OpPlasma_045_a_27Jul11_Jaguar_11-0...                      3.022208   \n",
       "\n",
       "Peptide                                                    ...           \\\n",
       "Blood_Plasma_OpPlasma_029_a_13Aug11_Jaguar_11-0...         ...            \n",
       "Blood_Plasma_OpPlasma_034_a_13Aug11_Jaguar_11-0...         ...            \n",
       "Blood_Plasma_OpPlasma_038_a_13Aug11_Jaguar_11-0...         ...            \n",
       "Blood_Plasma_OpPlasma_039_a_13Aug11_Jaguar_11-0...         ...            \n",
       "Blood_Plasma_OpPlasma_045_a_27Jul11_Jaguar_11-0...         ...            \n",
       "\n",
       "Peptide                                             \\nY.YTSVTPVLR.G  \\\n",
       "Blood_Plasma_OpPlasma_029_a_13Aug11_Jaguar_11-0...         3.022208   \n",
       "Blood_Plasma_OpPlasma_034_a_13Aug11_Jaguar_11-0...         3.022208   \n",
       "Blood_Plasma_OpPlasma_038_a_13Aug11_Jaguar_11-0...         3.022208   \n",
       "Blood_Plasma_OpPlasma_039_a_13Aug11_Jaguar_11-0...         3.022208   \n",
       "Blood_Plasma_OpPlasma_045_a_27Jul11_Jaguar_11-0...         3.022208   \n",
       "\n",
       "Peptide                                             \\nY.YTTIQDLR.D  \\\n",
       "Blood_Plasma_OpPlasma_029_a_13Aug11_Jaguar_11-0...        3.022208   \n",
       "Blood_Plasma_OpPlasma_034_a_13Aug11_Jaguar_11-0...        3.022208   \n",
       "Blood_Plasma_OpPlasma_038_a_13Aug11_Jaguar_11-0...        3.022208   \n",
       "Blood_Plasma_OpPlasma_039_a_13Aug11_Jaguar_11-0...        3.022208   \n",
       "Blood_Plasma_OpPlasma_045_a_27Jul11_Jaguar_11-0...        3.022208   \n",
       "\n",
       "Peptide                                             \\nY.YVAPEVLGPEKYDK.S  \\\n",
       "Blood_Plasma_OpPlasma_029_a_13Aug11_Jaguar_11-0...              3.022208   \n",
       "Blood_Plasma_OpPlasma_034_a_13Aug11_Jaguar_11-0...              3.022208   \n",
       "Blood_Plasma_OpPlasma_038_a_13Aug11_Jaguar_11-0...              3.022208   \n",
       "Blood_Plasma_OpPlasma_039_a_13Aug11_Jaguar_11-0...              3.022208   \n",
       "Blood_Plasma_OpPlasma_045_a_27Jul11_Jaguar_11-0...              3.022208   \n",
       "\n",
       "Peptide                                             \\nY.YVSNEELR.G  \\\n",
       "Blood_Plasma_OpPlasma_029_a_13Aug11_Jaguar_11-0...        3.022208   \n",
       "Blood_Plasma_OpPlasma_034_a_13Aug11_Jaguar_11-0...        3.022208   \n",
       "Blood_Plasma_OpPlasma_038_a_13Aug11_Jaguar_11-0...        3.022208   \n",
       "Blood_Plasma_OpPlasma_039_a_13Aug11_Jaguar_11-0...        3.022208   \n",
       "Blood_Plasma_OpPlasma_045_a_27Jul11_Jaguar_11-0...        3.022208   \n",
       "\n",
       "Peptide                                             \\nY.YVTIIDAPGHR.D  \\\n",
       "Blood_Plasma_OpPlasma_029_a_13Aug11_Jaguar_11-0...           3.022208   \n",
       "Blood_Plasma_OpPlasma_034_a_13Aug11_Jaguar_11-0...           3.022208   \n",
       "Blood_Plasma_OpPlasma_038_a_13Aug11_Jaguar_11-0...           3.022208   \n",
       "Blood_Plasma_OpPlasma_039_a_13Aug11_Jaguar_11-0...           3.022208   \n",
       "Blood_Plasma_OpPlasma_045_a_27Jul11_Jaguar_11-0...           3.022208   \n",
       "\n",
       "Peptide                                             \\nY.YVYNIIGGLDEEGK.G  \\\n",
       "Blood_Plasma_OpPlasma_029_a_13Aug11_Jaguar_11-0...              3.022208   \n",
       "Blood_Plasma_OpPlasma_034_a_13Aug11_Jaguar_11-0...              3.022208   \n",
       "Blood_Plasma_OpPlasma_038_a_13Aug11_Jaguar_11-0...              3.022208   \n",
       "Blood_Plasma_OpPlasma_039_a_13Aug11_Jaguar_11-0...              3.022208   \n",
       "Blood_Plasma_OpPlasma_045_a_27Jul11_Jaguar_11-0...              3.022208   \n",
       "\n",
       "Peptide                                             \\nY.YWGGQYTWDM*AK.H  \\\n",
       "Blood_Plasma_OpPlasma_029_a_13Aug11_Jaguar_11-0...             3.022208   \n",
       "Blood_Plasma_OpPlasma_034_a_13Aug11_Jaguar_11-0...             3.022208   \n",
       "Blood_Plasma_OpPlasma_038_a_13Aug11_Jaguar_11-0...             3.022208   \n",
       "Blood_Plasma_OpPlasma_039_a_13Aug11_Jaguar_11-0...             3.022208   \n",
       "Blood_Plasma_OpPlasma_045_a_27Jul11_Jaguar_11-0...             3.022208   \n",
       "\n",
       "Peptide                                             \\nY.YWGGQYTWDMAK.H  \\\n",
       "Blood_Plasma_OpPlasma_029_a_13Aug11_Jaguar_11-0...            3.022208   \n",
       "Blood_Plasma_OpPlasma_034_a_13Aug11_Jaguar_11-0...            3.022208   \n",
       "Blood_Plasma_OpPlasma_038_a_13Aug11_Jaguar_11-0...            3.022208   \n",
       "Blood_Plasma_OpPlasma_039_a_13Aug11_Jaguar_11-0...            3.022208   \n",
       "Blood_Plasma_OpPlasma_045_a_27Jul11_Jaguar_11-0...            3.022208   \n",
       "\n",
       "Peptide                                             \\nY.YYIQQDTK.G  \\\n",
       "Blood_Plasma_OpPlasma_029_a_13Aug11_Jaguar_11-0...        3.022208   \n",
       "Blood_Plasma_OpPlasma_034_a_13Aug11_Jaguar_11-0...        3.022208   \n",
       "Blood_Plasma_OpPlasma_038_a_13Aug11_Jaguar_11-0...        3.022208   \n",
       "Blood_Plasma_OpPlasma_039_a_13Aug11_Jaguar_11-0...        3.022208   \n",
       "Blood_Plasma_OpPlasma_045_a_27Jul11_Jaguar_11-0...        3.022208   \n",
       "\n",
       "Peptide                                             \\nY.YYIQQDTKGDYQK.A  \n",
       "Blood_Plasma_OpPlasma_029_a_13Aug11_Jaguar_11-0...             3.022208  \n",
       "Blood_Plasma_OpPlasma_034_a_13Aug11_Jaguar_11-0...             3.022208  \n",
       "Blood_Plasma_OpPlasma_038_a_13Aug11_Jaguar_11-0...             3.022208  \n",
       "Blood_Plasma_OpPlasma_039_a_13Aug11_Jaguar_11-0...             3.022208  \n",
       "Blood_Plasma_OpPlasma_045_a_27Jul11_Jaguar_11-0...             3.022208  \n",
       "\n",
       "[5 rows x 119916 columns]"
      ]
     },
     "execution_count": 9,
     "metadata": {},
     "output_type": "execute_result"
    }
   ],
   "source": [
    "test_data.head()"
   ]
  },
  {
   "cell_type": "markdown",
   "metadata": {},
   "source": [
    "### Load model and predict new data"
   ]
  },
  {
   "cell_type": "code",
   "execution_count": 32,
   "metadata": {},
   "outputs": [],
   "source": [
    "# some time later...\n",
    "# load the model and training data from disk\n",
    "model_path = finalized_model_folder + 'highqual_crossval_svc_grid.sav'\n",
    "loaded_model = joblib.load(open(model_path, 'rb'))"
   ]
  },
  {
   "cell_type": "code",
   "execution_count": 33,
   "metadata": {},
   "outputs": [
    {
     "name": "stdout",
     "output_type": "stream",
     "text": [
      "0.481012658228\n"
     ]
    }
   ],
   "source": [
    "pred = loaded_model.predict(test_data)\n",
    "result = loaded_model.score(test_data, test_labels)\n",
    "\n",
    "print(result)"
   ]
  },
  {
   "cell_type": "markdown",
   "metadata": {},
   "source": [
    "### Use models from notebook to predict new data"
   ]
  },
  {
   "cell_type": "code",
   "execution_count": 21,
   "metadata": {
    "scrolled": true
   },
   "outputs": [],
   "source": [
    "lr_pred = lr.predict(test_data)\n",
    "lr_result = lr.score(test_data, test_labels)\n",
    "\n",
    "mnb_pred = mnb.predict(test_data)\n",
    "mnb_result = mnb.score(test_data, test_labels)\n",
    "\n",
    "rf_pred = rf.predict(test_data)\n",
    "rf_result = rf.score(test_data, test_labels)\n",
    "\n",
    "svc_pred = svc_models[0].predict(test_data)\n",
    "svc_result = svc_models[0].score(test_data, test_labels)"
   ]
  },
  {
   "cell_type": "code",
   "execution_count": 22,
   "metadata": {},
   "outputs": [
    {
     "name": "stdout",
     "output_type": "stream",
     "text": [
      "0.53164556962\n",
      "0.569620253165\n",
      "0.544303797468\n",
      "0.53164556962\n"
     ]
    }
   ],
   "source": [
    "print(lr_result)\n",
    "print(mnb_result)\n",
    "print(rf_result)\n",
    "print(svc_result)"
   ]
  },
  {
   "cell_type": "code",
   "execution_count": 23,
   "metadata": {
    "scrolled": true
   },
   "outputs": [],
   "source": [
    "gbc_pred = gbc.predict(test_data)\n",
    "gbc_result = gbc.score(test_data, test_labels)\n",
    "\n",
    "gnb_pred = gnb.predict(test_data)\n",
    "gnb_result = gnb.score(test_data, test_labels)\n",
    "\n",
    "knn_pred = knn.predict(test_data)\n",
    "knn_result = knn.score(test_data, test_labels)"
   ]
  },
  {
   "cell_type": "code",
   "execution_count": 24,
   "metadata": {},
   "outputs": [
    {
     "name": "stdout",
     "output_type": "stream",
     "text": [
      "0.481012658228\n",
      "0.493670886076\n",
      "0.379746835443\n"
     ]
    }
   ],
   "source": [
    "print(gbc_result)\n",
    "print(gnb_result)\n",
    "print(knn_result)"
   ]
  },
  {
   "cell_type": "code",
   "execution_count": 55,
   "metadata": {
    "scrolled": true
   },
   "outputs": [],
   "source": [
    "gbc_grid_pred = gbc_grid.predict(test_data)\n",
    "gbc_grid_result = gbc_grid.score(test_data, test_labels)\n",
    "\n",
    "rf_grid_pred = rf_grid.predict(test_data)\n",
    "rf_grid_result = rf_grid.score(test_data, test_labels)\n",
    "\n",
    "svc_grid_pred = svc_grid.predict(test_data)\n",
    "svc_grid_result = svc_grid.score(test_data, test_labels)"
   ]
  },
  {
   "cell_type": "code",
   "execution_count": 56,
   "metadata": {},
   "outputs": [
    {
     "name": "stdout",
     "output_type": "stream",
     "text": [
      "0.481012658228\n",
      "0.430379746835\n",
      "0.455696202532\n"
     ]
    }
   ],
   "source": [
    "print(gbc_grid_result)\n",
    "print(rf_grid_result)\n",
    "print(svc_grid_result)"
   ]
  },
  {
   "cell_type": "markdown",
   "metadata": {},
   "source": [
    "##  Confusion matrices of best models' predictions on new data"
   ]
  },
  {
   "cell_type": "code",
   "execution_count": 27,
   "metadata": {
    "scrolled": true
   },
   "outputs": [
    {
     "name": "stdout",
     "output_type": "stream",
     "text": [
      "Confusion matrix, without normalization\n",
      "[[10  0  0  0  0  0]\n",
      " [10  0  0  0  0  0]\n",
      " [ 5  0  3  0  0  1]\n",
      " [ 0  0  0  5  5  0]\n",
      " [ 0  0  0  0  0  0]\n",
      " [ 0  0  0  0  0  0]]\n",
      "Normalized confusion matrix\n",
      "[[ 1.    0.    0.    0.    0.    0.  ]\n",
      " [ 1.    0.    0.    0.    0.    0.  ]\n",
      " [ 0.56  0.    0.33  0.    0.    0.11]\n",
      " [ 0.    0.    0.    0.5   0.5   0.  ]\n",
      " [  nan   nan   nan   nan   nan   nan]\n",
      " [  nan   nan   nan   nan   nan   nan]]\n"
     ]
    },
    {
     "name": "stderr",
     "output_type": "stream",
     "text": [
      "C:\\Users\\kush494\\Documents\\Proteomics_Data_Processing\\Classifiers\\Classification_Utils.py:584: RuntimeWarning: invalid value encountered in true_divide\n",
      "  cm = cm.astype('float') / cm.sum(axis=1)[:, np.newaxis]\n"
     ]
    },
    {
     "data": {
      "text/plain": [
       "<matplotlib.figure.Figure at 0x5b7a3c8>"
      ]
     },
     "metadata": {},
     "output_type": "display_data"
    },
    {
     "data": {
      "image/png": "[encoded data removed]",
      "text/plain": [
       "<matplotlib.figure.Figure at 0xe0fc080>"
      ]
     },
     "metadata": {},
     "output_type": "display_data"
    },
    {
     "data": {
      "text/plain": [
       "<matplotlib.figure.Figure at 0xe187e80>"
      ]
     },
     "metadata": {},
     "output_type": "display_data"
    },
    {
     "data": {
      "image/png": "[encoded data removed]",
      "text/plain": [
       "<matplotlib.figure.Figure at 0xe192ba8>"
      ]
     },
     "metadata": {},
     "output_type": "display_data"
    }
   ],
   "source": [
    "#cu.show_confusion_matrices(test_labels, pred, tissues)\n",
    "\n",
    "cm_labels = list(set(gnb_pred.tolist() + test_labels))\n",
    "\n",
    "cu.show_confusion_matrices(test_labels, gnb_pred, cm_labels)"
   ]
  }
 ],
 "metadata": {
  "kernelspec": {
   "display_name": "Python 3",
   "language": "python",
   "name": "python3"
  },
  "language_info": {
   "codemirror_mode": {
    "name": "ipython",
    "version": 3
   },
   "file_extension": ".py",
   "mimetype": "text/x-python",
   "name": "python",
   "nbconvert_exporter": "python",
   "pygments_lexer": "ipython3",
   "version": "3.6.3"
  },
  "toc": {
   "nav_menu": {},
   "number_sections": true,
   "sideBar": true,
   "skip_h1_title": true,
   "toc_cell": false,
   "toc_position": {},
   "toc_section_display": "block",
   "toc_window_display": false
  }
 },
 "nbformat": 4,
 "nbformat_minor": 2
}
