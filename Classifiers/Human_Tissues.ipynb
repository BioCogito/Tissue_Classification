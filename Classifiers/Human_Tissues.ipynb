{
 "cells": [
  {
   "cell_type": "markdown",
   "metadata": {},
   "source": [
    "# Using unlabelled, unfractionated datasets obtained from QExact and VOrbi instruments\n",
    "* Datasets were searched against H_sapiens_Uniprot_SPROT_2017-04-12, Tryp_Pig_Bov sequence files using MSGFPlus\n",
    "* Combined results with MASIC to get quantitation data"
   ]
  },
  {
   "cell_type": "code",
   "execution_count": 1,
   "metadata": {
    "collapsed": true
   },
   "outputs": [],
   "source": [
    "import os\n",
    "import sys\n",
    "module_path = os.path.abspath(os.path.join('..'))\n",
    "if module_path not in sys.path:\n",
    "    sys.path.append(module_path)"
   ]
  },
  {
   "cell_type": "code",
   "execution_count": 28,
   "metadata": {},
   "outputs": [],
   "source": [
    "import Classification_Utils as cu\n",
    "import MaxQuant_Postprocessing_Functions as mq\n",
    "from os import listdir\n",
    "import pandas as pd\n",
    "from sklearn.decomposition import PCA\n",
    "from sklearn import preprocessing"
   ]
  },
  {
   "cell_type": "markdown",
   "metadata": {},
   "source": [
    "## Load (and combine?) data from all tissues"
   ]
  },
  {
   "cell_type": "code",
   "execution_count": 70,
   "metadata": {},
   "outputs": [],
   "source": [
    "files_dir = 'F:\\Data_for_classifier\\\\'\n",
    "file_paths = listdir(files_dir) \n",
    "\n",
    "df = cu.combine_csvs(files_dir, file_paths)"
   ]
  },
  {
   "cell_type": "code",
   "execution_count": 71,
   "metadata": {},
   "outputs": [
    {
     "name": "stdout",
     "output_type": "stream",
     "text": [
      "(117884, 69)\n"
     ]
    },
    {
     "data": {
      "text/html": [
       "<div>\n",
       "<style>\n",
       "    .dataframe thead tr:only-child th {\n",
       "        text-align: right;\n",
       "    }\n",
       "\n",
       "    .dataframe thead th {\n",
       "        text-align: left;\n",
       "    }\n",
       "\n",
       "    .dataframe tbody tr th {\n",
       "        vertical-align: top;\n",
       "    }\n",
       "</style>\n",
       "<table border=\"1\" class=\"dataframe\">\n",
       "  <thead>\n",
       "    <tr style=\"text-align: right;\">\n",
       "      <th></th>\n",
       "      <th>Blood_Plasma_CPTAC_TrypDige_undepleted_normal_19Apr13_Methow_13-02-13</th>\n",
       "      <th>Blood_Plasma_Darpa_2_human_02_23Jan17_Arwem_16-10-25</th>\n",
       "      <th>Blood_Plasma_OMICS_EBV_HP_UW001_8Apr16_Arwen_16-01-03</th>\n",
       "      <th>Blood_Plasma_OMICS_EBV_HP_UW002_8Apr16_Arwen_16-01-03</th>\n",
       "      <th>Blood_Plasma_OMICS_EBV_HP_UW003_8Apr16_Arwen_16-01-03</th>\n",
       "      <th>Blood_Plasma_OMICS_EBV_HP_UW004_8Apr16_Arwen_16-01-03</th>\n",
       "      <th>Blood_Plasma_OMICS_EBV_HP_UW005_8Apr16_Arwen_16-01-03</th>\n",
       "      <th>Blood_Plasma_RZHJ_012_16Jun10_Owl_10-02-04</th>\n",
       "      <th>Blood_Plasma_Trypsin_Digestion_Step5_Sample1_4Mar13_Lynx_13-02-11</th>\n",
       "      <th>Blood_Plasma_Trypsin_Digestion_Step5_Sample2_4Mar13_Lynx_13-02-11</th>\n",
       "      <th>...</th>\n",
       "      <th>Substantia_Nigra_Lewy_1Ct1_3Sep13_Pippin_13-06-18</th>\n",
       "      <th>Substantia_Nigra_Lewy_2Ct1_3Sep13_Pippin_13-06-18</th>\n",
       "      <th>Substantia_Nigra_Lewy_4Ct1_3Sep13_Pippin_13-06-18</th>\n",
       "      <th>Substantia_Nigra_Lewy_5Ct1_3Sep13_Pippin_13-06-18</th>\n",
       "      <th>Substantia_Nigra_Lewy_6Ct1_13Sep13_Pippin_13-06-18</th>\n",
       "      <th>Substantia_Nigra_Lewy2_1Ct1_2Nov13_Samwise_13-07-28</th>\n",
       "      <th>Substantia_Nigra_Lewy2_2Ct1_2Nov13_Samwise_13-07-28</th>\n",
       "      <th>Substantia_Nigra_Lewy2_4Ct1_2Nov13_Samwise_13-07-28</th>\n",
       "      <th>Substantia_Nigra_Lewy2_5Ct1_2Nov13_Samwise_13-07-28</th>\n",
       "      <th>Substantia_Nigra_Lewy2_6Ct1_2Nov13_Samwise_13-07-28</th>\n",
       "    </tr>\n",
       "    <tr>\n",
       "      <th>Peptide</th>\n",
       "      <th></th>\n",
       "      <th></th>\n",
       "      <th></th>\n",
       "      <th></th>\n",
       "      <th></th>\n",
       "      <th></th>\n",
       "      <th></th>\n",
       "      <th></th>\n",
       "      <th></th>\n",
       "      <th></th>\n",
       "      <th></th>\n",
       "      <th></th>\n",
       "      <th></th>\n",
       "      <th></th>\n",
       "      <th></th>\n",
       "      <th></th>\n",
       "      <th></th>\n",
       "      <th></th>\n",
       "      <th></th>\n",
       "      <th></th>\n",
       "      <th></th>\n",
       "    </tr>\n",
       "  </thead>\n",
       "  <tbody>\n",
       "    <tr>\n",
       "      <th>\\n</th>\n",
       "      <td>NaN</td>\n",
       "      <td>NaN</td>\n",
       "      <td>NaN</td>\n",
       "      <td>NaN</td>\n",
       "      <td>NaN</td>\n",
       "      <td>NaN</td>\n",
       "      <td>NaN</td>\n",
       "      <td>NaN</td>\n",
       "      <td>NaN</td>\n",
       "      <td>NaN</td>\n",
       "      <td>...</td>\n",
       "      <td>NaN</td>\n",
       "      <td>NaN</td>\n",
       "      <td>NaN</td>\n",
       "      <td>NaN</td>\n",
       "      <td>NaN</td>\n",
       "      <td>NaN</td>\n",
       "      <td>NaN</td>\n",
       "      <td>NaN</td>\n",
       "      <td>NaN</td>\n",
       "      <td>NaN</td>\n",
       "    </tr>\n",
       "    <tr>\n",
       "      <th>\\n-.DIQM*TQSPSTLSASVGDR.V</th>\n",
       "      <td>111460000.0</td>\n",
       "      <td>4776900.0</td>\n",
       "      <td>NaN</td>\n",
       "      <td>6.740800e+08</td>\n",
       "      <td>1.013200e+09</td>\n",
       "      <td>NaN</td>\n",
       "      <td>201570000.0</td>\n",
       "      <td>NaN</td>\n",
       "      <td>NaN</td>\n",
       "      <td>NaN</td>\n",
       "      <td>...</td>\n",
       "      <td>NaN</td>\n",
       "      <td>NaN</td>\n",
       "      <td>NaN</td>\n",
       "      <td>NaN</td>\n",
       "      <td>NaN</td>\n",
       "      <td>NaN</td>\n",
       "      <td>NaN</td>\n",
       "      <td>NaN</td>\n",
       "      <td>NaN</td>\n",
       "      <td>NaN</td>\n",
       "    </tr>\n",
       "    <tr>\n",
       "      <th>\\n-.DIQM*TQSPSTLSASVGDRVTITCR.A</th>\n",
       "      <td>NaN</td>\n",
       "      <td>NaN</td>\n",
       "      <td>NaN</td>\n",
       "      <td>1.665500e+09</td>\n",
       "      <td>1.889800e+09</td>\n",
       "      <td>NaN</td>\n",
       "      <td>750580000.0</td>\n",
       "      <td>NaN</td>\n",
       "      <td>NaN</td>\n",
       "      <td>NaN</td>\n",
       "      <td>...</td>\n",
       "      <td>NaN</td>\n",
       "      <td>NaN</td>\n",
       "      <td>NaN</td>\n",
       "      <td>NaN</td>\n",
       "      <td>NaN</td>\n",
       "      <td>NaN</td>\n",
       "      <td>NaN</td>\n",
       "      <td>NaN</td>\n",
       "      <td>NaN</td>\n",
       "      <td>NaN</td>\n",
       "    </tr>\n",
       "    <tr>\n",
       "      <th>\\n-.DIQMTQSPS.T</th>\n",
       "      <td>113990000.0</td>\n",
       "      <td>NaN</td>\n",
       "      <td>NaN</td>\n",
       "      <td>NaN</td>\n",
       "      <td>NaN</td>\n",
       "      <td>NaN</td>\n",
       "      <td>NaN</td>\n",
       "      <td>NaN</td>\n",
       "      <td>NaN</td>\n",
       "      <td>NaN</td>\n",
       "      <td>...</td>\n",
       "      <td>NaN</td>\n",
       "      <td>NaN</td>\n",
       "      <td>NaN</td>\n",
       "      <td>NaN</td>\n",
       "      <td>NaN</td>\n",
       "      <td>NaN</td>\n",
       "      <td>NaN</td>\n",
       "      <td>NaN</td>\n",
       "      <td>NaN</td>\n",
       "      <td>NaN</td>\n",
       "    </tr>\n",
       "    <tr>\n",
       "      <th>\\n-.DIQMTQSPSTLSASVGDR.V</th>\n",
       "      <td>87789000.0</td>\n",
       "      <td>271390000.0</td>\n",
       "      <td>NaN</td>\n",
       "      <td>NaN</td>\n",
       "      <td>2.841000e+09</td>\n",
       "      <td>NaN</td>\n",
       "      <td>217430000.0</td>\n",
       "      <td>NaN</td>\n",
       "      <td>12897000.0</td>\n",
       "      <td>29051000.0</td>\n",
       "      <td>...</td>\n",
       "      <td>NaN</td>\n",
       "      <td>NaN</td>\n",
       "      <td>NaN</td>\n",
       "      <td>138110000.0</td>\n",
       "      <td>NaN</td>\n",
       "      <td>NaN</td>\n",
       "      <td>NaN</td>\n",
       "      <td>NaN</td>\n",
       "      <td>NaN</td>\n",
       "      <td>NaN</td>\n",
       "    </tr>\n",
       "  </tbody>\n",
       "</table>\n",
       "<p>5 rows × 69 columns</p>\n",
       "</div>"
      ],
      "text/plain": [
       "                                 Blood_Plasma_CPTAC_TrypDige_undepleted_normal_19Apr13_Methow_13-02-13  \\\n",
       "Peptide                                                                                                  \n",
       "\\n                                                                             NaN                       \n",
       "\\n-.DIQM*TQSPSTLSASVGDR.V                                              111460000.0                       \n",
       "\\n-.DIQM*TQSPSTLSASVGDRVTITCR.A                                                NaN                       \n",
       "\\n-.DIQMTQSPS.T                                                        113990000.0                       \n",
       "\\n-.DIQMTQSPSTLSASVGDR.V                                                87789000.0                       \n",
       "\n",
       "                                 Blood_Plasma_Darpa_2_human_02_23Jan17_Arwem_16-10-25  \\\n",
       "Peptide                                                                                 \n",
       "\\n                                                                             NaN      \n",
       "\\n-.DIQM*TQSPSTLSASVGDR.V                                                4776900.0      \n",
       "\\n-.DIQM*TQSPSTLSASVGDRVTITCR.A                                                NaN      \n",
       "\\n-.DIQMTQSPS.T                                                                NaN      \n",
       "\\n-.DIQMTQSPSTLSASVGDR.V                                               271390000.0      \n",
       "\n",
       "                                 Blood_Plasma_OMICS_EBV_HP_UW001_8Apr16_Arwen_16-01-03  \\\n",
       "Peptide                                                                                  \n",
       "\\n                                                                             NaN       \n",
       "\\n-.DIQM*TQSPSTLSASVGDR.V                                                      NaN       \n",
       "\\n-.DIQM*TQSPSTLSASVGDRVTITCR.A                                                NaN       \n",
       "\\n-.DIQMTQSPS.T                                                                NaN       \n",
       "\\n-.DIQMTQSPSTLSASVGDR.V                                                       NaN       \n",
       "\n",
       "                                 Blood_Plasma_OMICS_EBV_HP_UW002_8Apr16_Arwen_16-01-03  \\\n",
       "Peptide                                                                                  \n",
       "\\n                                                                             NaN       \n",
       "\\n-.DIQM*TQSPSTLSASVGDR.V                                             6.740800e+08       \n",
       "\\n-.DIQM*TQSPSTLSASVGDRVTITCR.A                                       1.665500e+09       \n",
       "\\n-.DIQMTQSPS.T                                                                NaN       \n",
       "\\n-.DIQMTQSPSTLSASVGDR.V                                                       NaN       \n",
       "\n",
       "                                 Blood_Plasma_OMICS_EBV_HP_UW003_8Apr16_Arwen_16-01-03  \\\n",
       "Peptide                                                                                  \n",
       "\\n                                                                             NaN       \n",
       "\\n-.DIQM*TQSPSTLSASVGDR.V                                             1.013200e+09       \n",
       "\\n-.DIQM*TQSPSTLSASVGDRVTITCR.A                                       1.889800e+09       \n",
       "\\n-.DIQMTQSPS.T                                                                NaN       \n",
       "\\n-.DIQMTQSPSTLSASVGDR.V                                              2.841000e+09       \n",
       "\n",
       "                                 Blood_Plasma_OMICS_EBV_HP_UW004_8Apr16_Arwen_16-01-03  \\\n",
       "Peptide                                                                                  \n",
       "\\n                                                                             NaN       \n",
       "\\n-.DIQM*TQSPSTLSASVGDR.V                                                      NaN       \n",
       "\\n-.DIQM*TQSPSTLSASVGDRVTITCR.A                                                NaN       \n",
       "\\n-.DIQMTQSPS.T                                                                NaN       \n",
       "\\n-.DIQMTQSPSTLSASVGDR.V                                                       NaN       \n",
       "\n",
       "                                 Blood_Plasma_OMICS_EBV_HP_UW005_8Apr16_Arwen_16-01-03  \\\n",
       "Peptide                                                                                  \n",
       "\\n                                                                             NaN       \n",
       "\\n-.DIQM*TQSPSTLSASVGDR.V                                              201570000.0       \n",
       "\\n-.DIQM*TQSPSTLSASVGDRVTITCR.A                                        750580000.0       \n",
       "\\n-.DIQMTQSPS.T                                                                NaN       \n",
       "\\n-.DIQMTQSPSTLSASVGDR.V                                               217430000.0       \n",
       "\n",
       "                                 Blood_Plasma_RZHJ_012_16Jun10_Owl_10-02-04  \\\n",
       "Peptide                                                                       \n",
       "\\n                                                                      NaN   \n",
       "\\n-.DIQM*TQSPSTLSASVGDR.V                                               NaN   \n",
       "\\n-.DIQM*TQSPSTLSASVGDRVTITCR.A                                         NaN   \n",
       "\\n-.DIQMTQSPS.T                                                         NaN   \n",
       "\\n-.DIQMTQSPSTLSASVGDR.V                                                NaN   \n",
       "\n",
       "                                 Blood_Plasma_Trypsin_Digestion_Step5_Sample1_4Mar13_Lynx_13-02-11  \\\n",
       "Peptide                                                                                              \n",
       "\\n                                                                             NaN                   \n",
       "\\n-.DIQM*TQSPSTLSASVGDR.V                                                      NaN                   \n",
       "\\n-.DIQM*TQSPSTLSASVGDRVTITCR.A                                                NaN                   \n",
       "\\n-.DIQMTQSPS.T                                                                NaN                   \n",
       "\\n-.DIQMTQSPSTLSASVGDR.V                                                12897000.0                   \n",
       "\n",
       "                                 Blood_Plasma_Trypsin_Digestion_Step5_Sample2_4Mar13_Lynx_13-02-11  \\\n",
       "Peptide                                                                                              \n",
       "\\n                                                                             NaN                   \n",
       "\\n-.DIQM*TQSPSTLSASVGDR.V                                                      NaN                   \n",
       "\\n-.DIQM*TQSPSTLSASVGDRVTITCR.A                                                NaN                   \n",
       "\\n-.DIQMTQSPS.T                                                                NaN                   \n",
       "\\n-.DIQMTQSPSTLSASVGDR.V                                                29051000.0                   \n",
       "\n",
       "                                                        ...                           \\\n",
       "Peptide                                                 ...                            \n",
       "\\n                                                      ...                            \n",
       "\\n-.DIQM*TQSPSTLSASVGDR.V                               ...                            \n",
       "\\n-.DIQM*TQSPSTLSASVGDRVTITCR.A                         ...                            \n",
       "\\n-.DIQMTQSPS.T                                         ...                            \n",
       "\\n-.DIQMTQSPSTLSASVGDR.V                                ...                            \n",
       "\n",
       "                                 Substantia_Nigra_Lewy_1Ct1_3Sep13_Pippin_13-06-18  \\\n",
       "Peptide                                                                              \n",
       "\\n                                                                             NaN   \n",
       "\\n-.DIQM*TQSPSTLSASVGDR.V                                                      NaN   \n",
       "\\n-.DIQM*TQSPSTLSASVGDRVTITCR.A                                                NaN   \n",
       "\\n-.DIQMTQSPS.T                                                                NaN   \n",
       "\\n-.DIQMTQSPSTLSASVGDR.V                                                       NaN   \n",
       "\n",
       "                                 Substantia_Nigra_Lewy_2Ct1_3Sep13_Pippin_13-06-18  \\\n",
       "Peptide                                                                              \n",
       "\\n                                                                             NaN   \n",
       "\\n-.DIQM*TQSPSTLSASVGDR.V                                                      NaN   \n",
       "\\n-.DIQM*TQSPSTLSASVGDRVTITCR.A                                                NaN   \n",
       "\\n-.DIQMTQSPS.T                                                                NaN   \n",
       "\\n-.DIQMTQSPSTLSASVGDR.V                                                       NaN   \n",
       "\n",
       "                                 Substantia_Nigra_Lewy_4Ct1_3Sep13_Pippin_13-06-18  \\\n",
       "Peptide                                                                              \n",
       "\\n                                                                             NaN   \n",
       "\\n-.DIQM*TQSPSTLSASVGDR.V                                                      NaN   \n",
       "\\n-.DIQM*TQSPSTLSASVGDRVTITCR.A                                                NaN   \n",
       "\\n-.DIQMTQSPS.T                                                                NaN   \n",
       "\\n-.DIQMTQSPSTLSASVGDR.V                                                       NaN   \n",
       "\n",
       "                                 Substantia_Nigra_Lewy_5Ct1_3Sep13_Pippin_13-06-18  \\\n",
       "Peptide                                                                              \n",
       "\\n                                                                             NaN   \n",
       "\\n-.DIQM*TQSPSTLSASVGDR.V                                                      NaN   \n",
       "\\n-.DIQM*TQSPSTLSASVGDRVTITCR.A                                                NaN   \n",
       "\\n-.DIQMTQSPS.T                                                                NaN   \n",
       "\\n-.DIQMTQSPSTLSASVGDR.V                                               138110000.0   \n",
       "\n",
       "                                 Substantia_Nigra_Lewy_6Ct1_13Sep13_Pippin_13-06-18  \\\n",
       "Peptide                                                                               \n",
       "\\n                                                                             NaN    \n",
       "\\n-.DIQM*TQSPSTLSASVGDR.V                                                      NaN    \n",
       "\\n-.DIQM*TQSPSTLSASVGDRVTITCR.A                                                NaN    \n",
       "\\n-.DIQMTQSPS.T                                                                NaN    \n",
       "\\n-.DIQMTQSPSTLSASVGDR.V                                                       NaN    \n",
       "\n",
       "                                 Substantia_Nigra_Lewy2_1Ct1_2Nov13_Samwise_13-07-28  \\\n",
       "Peptide                                                                                \n",
       "\\n                                                                             NaN     \n",
       "\\n-.DIQM*TQSPSTLSASVGDR.V                                                      NaN     \n",
       "\\n-.DIQM*TQSPSTLSASVGDRVTITCR.A                                                NaN     \n",
       "\\n-.DIQMTQSPS.T                                                                NaN     \n",
       "\\n-.DIQMTQSPSTLSASVGDR.V                                                       NaN     \n",
       "\n",
       "                                 Substantia_Nigra_Lewy2_2Ct1_2Nov13_Samwise_13-07-28  \\\n",
       "Peptide                                                                                \n",
       "\\n                                                                             NaN     \n",
       "\\n-.DIQM*TQSPSTLSASVGDR.V                                                      NaN     \n",
       "\\n-.DIQM*TQSPSTLSASVGDRVTITCR.A                                                NaN     \n",
       "\\n-.DIQMTQSPS.T                                                                NaN     \n",
       "\\n-.DIQMTQSPSTLSASVGDR.V                                                       NaN     \n",
       "\n",
       "                                 Substantia_Nigra_Lewy2_4Ct1_2Nov13_Samwise_13-07-28  \\\n",
       "Peptide                                                                                \n",
       "\\n                                                                             NaN     \n",
       "\\n-.DIQM*TQSPSTLSASVGDR.V                                                      NaN     \n",
       "\\n-.DIQM*TQSPSTLSASVGDRVTITCR.A                                                NaN     \n",
       "\\n-.DIQMTQSPS.T                                                                NaN     \n",
       "\\n-.DIQMTQSPSTLSASVGDR.V                                                       NaN     \n",
       "\n",
       "                                 Substantia_Nigra_Lewy2_5Ct1_2Nov13_Samwise_13-07-28  \\\n",
       "Peptide                                                                                \n",
       "\\n                                                                             NaN     \n",
       "\\n-.DIQM*TQSPSTLSASVGDR.V                                                      NaN     \n",
       "\\n-.DIQM*TQSPSTLSASVGDRVTITCR.A                                                NaN     \n",
       "\\n-.DIQMTQSPS.T                                                                NaN     \n",
       "\\n-.DIQMTQSPSTLSASVGDR.V                                                       NaN     \n",
       "\n",
       "                                 Substantia_Nigra_Lewy2_6Ct1_2Nov13_Samwise_13-07-28  \n",
       "Peptide                                                                               \n",
       "\\n                                                                             NaN    \n",
       "\\n-.DIQM*TQSPSTLSASVGDR.V                                                      NaN    \n",
       "\\n-.DIQM*TQSPSTLSASVGDRVTITCR.A                                                NaN    \n",
       "\\n-.DIQMTQSPS.T                                                                NaN    \n",
       "\\n-.DIQMTQSPSTLSASVGDR.V                                                       NaN    \n",
       "\n",
       "[5 rows x 69 columns]"
      ]
     },
     "execution_count": 71,
     "metadata": {},
     "output_type": "execute_result"
    }
   ],
   "source": [
    "print(df.shape)\n",
    "df.head()"
   ]
  },
  {
   "cell_type": "markdown",
   "metadata": {},
   "source": [
    "## Clean data\n",
    "* Log2 transform\n",
    "* Mean/Median normalize\n",
    "* Impute missing values"
   ]
  },
  {
   "cell_type": "code",
   "execution_count": 72,
   "metadata": {},
   "outputs": [
    {
     "name": "stderr",
     "output_type": "stream",
     "text": [
      "C:\\Users\\kush494\\Documents\\Proteomics_Data_Processing\\MaxQuant_Postprocessing_Functions.py:149: RuntimeWarning: divide by zero encountered in log2\n",
      "  df.iloc[:,:] = np.log2(df.iloc[:,:])\n"
     ]
    }
   ],
   "source": [
    "mq.log2_normalize(df)\n",
    "\n",
    "df_min = df.min().min()\n",
    "impute_val = df_min/2\n",
    "df = df.fillna(impute_val)\n",
    "\n",
    "# mean normalize\n",
    "#df = (df - df.mean())/df.std()\n",
    "\n",
    "# median normalize\n",
    "mq.median_normalize(df)"
   ]
  },
  {
   "cell_type": "markdown",
   "metadata": {},
   "source": [
    "## Map each column to a corresponding label"
   ]
  },
  {
   "cell_type": "code",
   "execution_count": 73,
   "metadata": {},
   "outputs": [],
   "source": [
    "tissues = ['Blood_Plasma', 'Blood_Serum', 'Liver', 'Monocyte', 'Ovary', 'Pancreas', 'Substantia_Nigra']\n",
    "            \n",
    "tissues_to_columns = cu.map_tissues_to_columns(df, tissues)\n",
    "#tissues_to_columns"
   ]
  },
  {
   "cell_type": "code",
   "execution_count": 74,
   "metadata": {},
   "outputs": [],
   "source": [
    "column_names = df.columns.values.tolist()\n",
    "labels = cu.get_labels(column_names, tissues_to_columns)\n",
    "\n",
    "# Sort columns by tissue type for visualization purposes"
   ]
  },
  {
   "cell_type": "markdown",
   "metadata": {},
   "source": [
    "## Visualize data\n",
    "* Normalized boxplots\n",
    "* Scree plot\n",
    "* PCA plot\n",
    "* Pearson Matrix"
   ]
  },
  {
   "cell_type": "code",
   "execution_count": 75,
   "metadata": {
    "scrolled": true
   },
   "outputs": [],
   "source": [
    "image_dir = r'D:\\Images\\Human_Tissues\\\\'\n",
    "\n",
    "column_to_color = mq.map_colors(tissues, tissues_to_columns, 7)"
   ]
  },
  {
   "cell_type": "code",
   "execution_count": 78,
   "metadata": {},
   "outputs": [],
   "source": [
    "mq.make_seaborn_boxplot(df, image_dir, 'Median_normalized_boxplots', column_to_color)"
   ]
  },
  {
   "cell_type": "code",
   "execution_count": 80,
   "metadata": {},
   "outputs": [
    {
     "name": "stderr",
     "output_type": "stream",
     "text": [
      "C:\\Users\\kush494\\AppData\\Local\\Continuum\\anaconda3\\lib\\site-packages\\sklearn\\preprocessing\\data.py:181: UserWarning: Numerical issues were encountered when scaling the data and might not be solved. The standard deviation of the data is probably very close to 0. \n",
      "  warnings.warn(\"Numerical issues were encountered \"\n",
      "C:\\Users\\kush494\\AppData\\Local\\Continuum\\anaconda3\\lib\\site-packages\\matplotlib\\figure.py:418: UserWarning: matplotlib is currently using a non-GUI backend, so cannot show the figure\n",
      "  \"matplotlib is currently using a non-GUI backend, \"\n"
     ]
    }
   ],
   "source": [
    "scaled_data = preprocessing.scale(df.T)\n",
    "#scaled_data = df.T\n",
    "\n",
    "pca = PCA() # create a PCA object\n",
    "pca.fit(scaled_data) # do the math\n",
    "pca_data = pca.transform(scaled_data) # get PCA coordinates for dataframe\n",
    "\n",
    "per_var, pca_labels = mq.make_scree_plot(pca, image_dir)\n",
    "mq.draw_pca_graph2(column_names, pca_data, image_dir, column_to_color, per_var, pca_labels, tissues, tissues_to_columns)"
   ]
  },
  {
   "cell_type": "code",
   "execution_count": 77,
   "metadata": {
    "collapsed": true
   },
   "outputs": [],
   "source": [
    "mq.make_pearson_matrix(df, image_dir)"
   ]
  },
  {
   "cell_type": "markdown",
   "metadata": {},
   "source": [
    "## Test various classifiers using cross-validation"
   ]
  },
  {
   "cell_type": "code",
   "execution_count": 82,
   "metadata": {
    "collapsed": true
   },
   "outputs": [],
   "source": [
    "NUM_FOLDS = 8\n",
    "transformed_df = df.T"
   ]
  },
  {
   "cell_type": "markdown",
   "metadata": {},
   "source": [
    "### Decision Tree"
   ]
  },
  {
   "cell_type": "code",
   "execution_count": 84,
   "metadata": {},
   "outputs": [
    {
     "name": "stdout",
     "output_type": "stream",
     "text": [
      "Scores: [ 0.85714286  0.69230769  0.85714286  0.85714286  0.85714286  0.71428571\n",
      "  1.          1.        ]\n",
      "Accuracy: 0.85 (+/- 0.21)\n"
     ]
    }
   ],
   "source": [
    "dt = cu.decisiontree_model_crossval(transformed_df, labels, NUM_FOLDS)"
   ]
  },
  {
   "cell_type": "markdown",
   "metadata": {},
   "source": [
    "### KNN"
   ]
  },
  {
   "cell_type": "code",
   "execution_count": 85,
   "metadata": {},
   "outputs": [
    {
     "name": "stdout",
     "output_type": "stream",
     "text": [
      "Scores: [ 0.71428571  0.92307692  1.          1.          0.71428571  0.71428571\n",
      "  0.71428571  1.        ]\n",
      "Accuracy: 0.85 (+/- 0.27)\n"
     ]
    }
   ],
   "source": [
    "knn = cu.knn_model_crossval(transformed_df, labels, NUM_FOLDS)"
   ]
  },
  {
   "cell_type": "markdown",
   "metadata": {},
   "source": [
    "### Logistic Regression"
   ]
  },
  {
   "cell_type": "code",
   "execution_count": 86,
   "metadata": {},
   "outputs": [
    {
     "name": "stdout",
     "output_type": "stream",
     "text": [
      "Scores: [ 0.92857143  0.92307692  1.          1.          1.          0.85714286\n",
      "  1.          1.        ]\n",
      "Accuracy: 0.96 (+/- 0.10)\n"
     ]
    }
   ],
   "source": [
    "lr = cu.logistic_regression_model_crossval(transformed_df, labels, NUM_FOLDS)"
   ]
  },
  {
   "cell_type": "markdown",
   "metadata": {},
   "source": [
    "### Naive Bayes\n",
    "* Gaussian\n",
    "* Multinomial"
   ]
  },
  {
   "cell_type": "code",
   "execution_count": 87,
   "metadata": {},
   "outputs": [
    {
     "name": "stdout",
     "output_type": "stream",
     "text": [
      "Scores: [ 1.          0.92307692  1.          1.          1.          0.85714286\n",
      "  1.          1.        ]\n",
      "Accuracy: 0.97 (+/- 0.10)\n"
     ]
    }
   ],
   "source": [
    "gnb = cu.bayes_gaussian_model_crossval(transformed_df, labels, NUM_FOLDS)"
   ]
  },
  {
   "cell_type": "code",
   "execution_count": 88,
   "metadata": {},
   "outputs": [
    {
     "name": "stdout",
     "output_type": "stream",
     "text": [
      "Scores: [ 1.          1.          1.          1.          1.          0.85714286\n",
      "  1.          1.        ]\n",
      "Accuracy: 0.98 (+/- 0.09)\n"
     ]
    }
   ],
   "source": [
    "mnb = cu.bayes_multinomial_model_crossval(transformed_df, labels, NUM_FOLDS)"
   ]
  },
  {
   "cell_type": "markdown",
   "metadata": {},
   "source": [
    "### SVC variations"
   ]
  },
  {
   "cell_type": "code",
   "execution_count": 90,
   "metadata": {},
   "outputs": [
    {
     "name": "stdout",
     "output_type": "stream",
     "text": [
      "Scores: [ 0.92857143  1.          1.          1.          1.          0.85714286\n",
      "  1.          1.        ]\n",
      "Accuracy: 0.97 (+/- 0.10)\n",
      "Scores: [ 0.92857143  0.92307692  1.          1.          1.          0.85714286\n",
      "  0.85714286  1.        ]\n",
      "Accuracy: 0.95 (+/- 0.12)\n",
      "Scores: [ 0.14285714  0.15384615  0.14285714  0.14285714  0.14285714  0.14285714\n",
      "  0.14285714  0.14285714]\n",
      "Accuracy: 0.14 (+/- 0.01)\n",
      "Scores: [ 0.92857143  0.92307692  0.85714286  1.          0.85714286  0.85714286\n",
      "  0.85714286  1.        ]\n",
      "Accuracy: 0.91 (+/- 0.12)\n"
     ]
    }
   ],
   "source": [
    "svc = cu.SVC_models_crossval(transformed_df, labels, NUM_FOLDS)"
   ]
  },
  {
   "cell_type": "markdown",
   "metadata": {},
   "source": [
    "### Aggregations\n",
    "* Random Forest\n",
    "* Gradient Boosting"
   ]
  },
  {
   "cell_type": "code",
   "execution_count": 92,
   "metadata": {},
   "outputs": [
    {
     "name": "stdout",
     "output_type": "stream",
     "text": [
      "Scores: [ 0.92857143  0.92307692  1.          1.          1.          0.85714286\n",
      "  1.          1.        ]\n",
      "Accuracy: 0.96 (+/- 0.10)\n"
     ]
    }
   ],
   "source": [
    "rf = cu.randomforest_model_crossval(transformed_df, labels, NUM_FOLDS)"
   ]
  },
  {
   "cell_type": "code",
   "execution_count": 93,
   "metadata": {},
   "outputs": [
    {
     "name": "stdout",
     "output_type": "stream",
     "text": [
      "Scores: [ 0.92857143  1.          1.          1.          1.          0.85714286\n",
      "  1.          1.        ]\n",
      "Accuracy: 0.97 (+/- 0.10)\n"
     ]
    }
   ],
   "source": [
    "gbc = cu.gradient_boosting_crossval(transformed_df, labels, NUM_FOLDS)"
   ]
  },
  {
   "cell_type": "markdown",
   "metadata": {},
   "source": [
    "## Tune parameters of best models (if applicable)\n",
    "* Check accuracy score and F1 score (measure of precision and recall)"
   ]
  },
  {
   "cell_type": "markdown",
   "metadata": {},
   "source": [
    "### Gradient Boosting grid search"
   ]
  },
  {
   "cell_type": "code",
   "execution_count": null,
   "metadata": {
    "collapsed": true
   },
   "outputs": [],
   "source": []
  },
  {
   "cell_type": "markdown",
   "metadata": {},
   "source": [
    "### Random Forest grid search"
   ]
  },
  {
   "cell_type": "code",
   "execution_count": null,
   "metadata": {
    "collapsed": true
   },
   "outputs": [],
   "source": [
    "rf_grid = cu.rf_grid_search(NUM_FOLDS, 1)\n",
    "\n",
    "rf_grid.fit(transformed_df, labels)\n",
    "\n",
    "print('Best Random Forest parameters:\\n', rf_grid.best_params_)\n",
    "print('\\nBest Cross-Validation score:\\n', rf_grid.best_score_)"
   ]
  },
  {
   "cell_type": "markdown",
   "metadata": {},
   "source": [
    "### SVC grid search"
   ]
  },
  {
   "cell_type": "markdown",
   "metadata": {},
   "source": [
    "## PCA of data reduced according to best grid search reduction method"
   ]
  },
  {
   "cell_type": "markdown",
   "metadata": {},
   "source": [
    "##  Confusion matrices of best models"
   ]
  },
  {
   "cell_type": "markdown",
   "metadata": {},
   "source": [
    "## Top expressed proteins/peptides per tissue"
   ]
  },
  {
   "cell_type": "markdown",
   "metadata": {},
   "source": [
    "## Save model\n",
    "* Save array/dataframe of features (via pickle?) along with final model\n",
    "* Write script to classify new data-- load features and fit new data on them"
   ]
  }
 ],
 "metadata": {
  "kernelspec": {
   "display_name": "Python 3",
   "language": "python",
   "name": "python3"
  },
  "language_info": {
   "codemirror_mode": {
    "name": "ipython",
    "version": 3
   },
   "file_extension": ".py",
   "mimetype": "text/x-python",
   "name": "python",
   "nbconvert_exporter": "python",
   "pygments_lexer": "ipython3",
   "version": "3.6.3"
  },
  "toc": {
   "nav_menu": {},
   "number_sections": true,
   "sideBar": true,
   "skip_h1_title": true,
   "toc_cell": false,
   "toc_position": {},
   "toc_section_display": "block",
   "toc_window_display": false
  }
 },
 "nbformat": 4,
 "nbformat_minor": 2
}
