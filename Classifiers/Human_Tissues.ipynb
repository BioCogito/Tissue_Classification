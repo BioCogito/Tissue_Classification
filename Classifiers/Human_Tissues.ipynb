{
 "cells": [
  {
   "cell_type": "markdown",
   "metadata": {},
   "source": [
    "# Using unlabelled, unfractionated datasets obtained from QExact and VOrbi instruments\n",
    "* Datasets were searched against H_sapiens_Uniprot_SPROT_2017-04-12, Tryp_Pig_Bov sequence files using MSGFPlus\n",
    "* Combined results with MASIC results (Q <= 0.01) to get quantitation data"
   ]
  },
  {
   "cell_type": "code",
   "execution_count": 35,
   "metadata": {
    "collapsed": true
   },
   "outputs": [],
   "source": [
    "import os\n",
    "import sys\n",
    "module_path = os.path.abspath(os.path.join('..'))\n",
    "if module_path not in sys.path:\n",
    "    sys.path.append(module_path)"
   ]
  },
  {
   "cell_type": "code",
   "execution_count": 36,
   "metadata": {
    "collapsed": true
   },
   "outputs": [],
   "source": [
    "import Classification_Utils as cu\n",
    "import MaxQuant_Postprocessing_Functions as mq\n",
    "import numpy as np\n",
    "from os import listdir\n",
    "import pandas as pd\n",
    "from sklearn.decomposition import PCA\n",
    "from sklearn.externals import joblib\n",
    "from sklearn import preprocessing\n",
    "import time"
   ]
  },
  {
   "cell_type": "markdown",
   "metadata": {},
   "source": [
    "## Load (and combine?) data from all tissues"
   ]
  },
  {
   "cell_type": "code",
   "execution_count": 37,
   "metadata": {
    "collapsed": true
   },
   "outputs": [],
   "source": [
    "HIGH_QUAL_DIR = 'F:\\High_Quality\\\\'\n",
    "MIXED_QUAL_DIR = 'F:\\Mixed_Quality\\\\'\n",
    "LOW_QUAL_DIR = 'F:\\Low_Quality\\\\'\n",
    "TEST_SET_DIR = 'F:\\Test_Set\\\\'\n",
    "\n",
    "files_dir = HIGH_QUAL_DIR\n",
    "\n",
    "file_paths = listdir(files_dir) \n",
    "\n",
    "df = cu.combine_csvs(files_dir, file_paths)"
   ]
  },
  {
   "cell_type": "code",
   "execution_count": 38,
   "metadata": {},
   "outputs": [
    {
     "name": "stdout",
     "output_type": "stream",
     "text": [
      "(119916, 89)\n"
     ]
    },
    {
     "data": {
      "text/html": [
       "<div>\n",
       "<style>\n",
       "    .dataframe thead tr:only-child th {\n",
       "        text-align: right;\n",
       "    }\n",
       "\n",
       "    .dataframe thead th {\n",
       "        text-align: left;\n",
       "    }\n",
       "\n",
       "    .dataframe tbody tr th {\n",
       "        vertical-align: top;\n",
       "    }\n",
       "</style>\n",
       "<table border=\"1\" class=\"dataframe\">\n",
       "  <thead>\n",
       "    <tr style=\"text-align: right;\">\n",
       "      <th></th>\n",
       "      <th>Blood_Plasma_CPTAC_TrypDige_undepleted_normal_19Apr13_Methow_13-02-13</th>\n",
       "      <th>Blood_Plasma_Darpa_2_human_02_23Jan17_Arwem_16-10-25</th>\n",
       "      <th>Blood_Plasma_OMICS_EBV_HP_UW001_8Apr16_Arwen_16-01-03</th>\n",
       "      <th>Blood_Plasma_OMICS_EBV_HP_UW002_8Apr16_Arwen_16-01-03</th>\n",
       "      <th>Blood_Plasma_OMICS_EBV_HP_UW003_8Apr16_Arwen_16-01-03</th>\n",
       "      <th>Blood_Plasma_OMICS_EBV_HP_UW004_8Apr16_Arwen_16-01-03</th>\n",
       "      <th>Blood_Plasma_OMICS_EBV_HP_UW005_8Apr16_Arwen_16-01-03</th>\n",
       "      <th>Blood_Plasma_RZHJ_012_16Jun10_Owl_10-02-04</th>\n",
       "      <th>Blood_Plasma_Trypsin_Digestion_Step5_Sample1_4Mar13_Lynx_13-02-11</th>\n",
       "      <th>Blood_Plasma_Trypsin_Digestion_Step5_Sample2_4Mar13_Lynx_13-02-11</th>\n",
       "      <th>...</th>\n",
       "      <th>Temporal_Lobe_01</th>\n",
       "      <th>Temporal_Lobe_02</th>\n",
       "      <th>Temporal_Lobe_03</th>\n",
       "      <th>Temporal_Lobe_04</th>\n",
       "      <th>Temporal_Lobe_05</th>\n",
       "      <th>Temporal_Lobe_06</th>\n",
       "      <th>Temporal_Lobe_07</th>\n",
       "      <th>Temporal_Lobe_08</th>\n",
       "      <th>Temporal_Lobe_09</th>\n",
       "      <th>Temporal_Lobe_10</th>\n",
       "    </tr>\n",
       "    <tr>\n",
       "      <th>Peptide</th>\n",
       "      <th></th>\n",
       "      <th></th>\n",
       "      <th></th>\n",
       "      <th></th>\n",
       "      <th></th>\n",
       "      <th></th>\n",
       "      <th></th>\n",
       "      <th></th>\n",
       "      <th></th>\n",
       "      <th></th>\n",
       "      <th></th>\n",
       "      <th></th>\n",
       "      <th></th>\n",
       "      <th></th>\n",
       "      <th></th>\n",
       "      <th></th>\n",
       "      <th></th>\n",
       "      <th></th>\n",
       "      <th></th>\n",
       "      <th></th>\n",
       "      <th></th>\n",
       "    </tr>\n",
       "  </thead>\n",
       "  <tbody>\n",
       "    <tr>\n",
       "      <th>\\n-.DIQM*TQSPSTLSASVGDR.V</th>\n",
       "      <td>111460000.0</td>\n",
       "      <td>4776900.0</td>\n",
       "      <td>NaN</td>\n",
       "      <td>6.740800e+08</td>\n",
       "      <td>1.013200e+09</td>\n",
       "      <td>NaN</td>\n",
       "      <td>201570000.0</td>\n",
       "      <td>NaN</td>\n",
       "      <td>NaN</td>\n",
       "      <td>NaN</td>\n",
       "      <td>...</td>\n",
       "      <td>NaN</td>\n",
       "      <td>NaN</td>\n",
       "      <td>NaN</td>\n",
       "      <td>NaN</td>\n",
       "      <td>NaN</td>\n",
       "      <td>NaN</td>\n",
       "      <td>NaN</td>\n",
       "      <td>NaN</td>\n",
       "      <td>NaN</td>\n",
       "      <td>NaN</td>\n",
       "    </tr>\n",
       "    <tr>\n",
       "      <th>\\n-.DIQM*TQSPSTLSASVGDRVTITCR.A</th>\n",
       "      <td>NaN</td>\n",
       "      <td>NaN</td>\n",
       "      <td>NaN</td>\n",
       "      <td>1.665500e+09</td>\n",
       "      <td>1.889800e+09</td>\n",
       "      <td>NaN</td>\n",
       "      <td>750580000.0</td>\n",
       "      <td>NaN</td>\n",
       "      <td>NaN</td>\n",
       "      <td>NaN</td>\n",
       "      <td>...</td>\n",
       "      <td>NaN</td>\n",
       "      <td>NaN</td>\n",
       "      <td>NaN</td>\n",
       "      <td>NaN</td>\n",
       "      <td>NaN</td>\n",
       "      <td>NaN</td>\n",
       "      <td>NaN</td>\n",
       "      <td>NaN</td>\n",
       "      <td>NaN</td>\n",
       "      <td>NaN</td>\n",
       "    </tr>\n",
       "    <tr>\n",
       "      <th>\\n-.DIQMTQSPS.T</th>\n",
       "      <td>113990000.0</td>\n",
       "      <td>NaN</td>\n",
       "      <td>NaN</td>\n",
       "      <td>NaN</td>\n",
       "      <td>NaN</td>\n",
       "      <td>NaN</td>\n",
       "      <td>NaN</td>\n",
       "      <td>NaN</td>\n",
       "      <td>NaN</td>\n",
       "      <td>NaN</td>\n",
       "      <td>...</td>\n",
       "      <td>NaN</td>\n",
       "      <td>NaN</td>\n",
       "      <td>NaN</td>\n",
       "      <td>NaN</td>\n",
       "      <td>NaN</td>\n",
       "      <td>NaN</td>\n",
       "      <td>NaN</td>\n",
       "      <td>NaN</td>\n",
       "      <td>NaN</td>\n",
       "      <td>NaN</td>\n",
       "    </tr>\n",
       "    <tr>\n",
       "      <th>\\n-.DIQMTQSPSTLSASVGDR.V</th>\n",
       "      <td>87789000.0</td>\n",
       "      <td>271390000.0</td>\n",
       "      <td>NaN</td>\n",
       "      <td>NaN</td>\n",
       "      <td>2.841000e+09</td>\n",
       "      <td>NaN</td>\n",
       "      <td>217430000.0</td>\n",
       "      <td>NaN</td>\n",
       "      <td>12897000.0</td>\n",
       "      <td>29051000.0</td>\n",
       "      <td>...</td>\n",
       "      <td>NaN</td>\n",
       "      <td>NaN</td>\n",
       "      <td>NaN</td>\n",
       "      <td>NaN</td>\n",
       "      <td>NaN</td>\n",
       "      <td>NaN</td>\n",
       "      <td>NaN</td>\n",
       "      <td>NaN</td>\n",
       "      <td>NaN</td>\n",
       "      <td>NaN</td>\n",
       "    </tr>\n",
       "    <tr>\n",
       "      <th>\\n-.DIQMTQSPSTLSASVGDRVTITCR.A</th>\n",
       "      <td>NaN</td>\n",
       "      <td>NaN</td>\n",
       "      <td>NaN</td>\n",
       "      <td>NaN</td>\n",
       "      <td>6.444900e+09</td>\n",
       "      <td>NaN</td>\n",
       "      <td>NaN</td>\n",
       "      <td>NaN</td>\n",
       "      <td>NaN</td>\n",
       "      <td>NaN</td>\n",
       "      <td>...</td>\n",
       "      <td>NaN</td>\n",
       "      <td>NaN</td>\n",
       "      <td>NaN</td>\n",
       "      <td>NaN</td>\n",
       "      <td>NaN</td>\n",
       "      <td>NaN</td>\n",
       "      <td>NaN</td>\n",
       "      <td>NaN</td>\n",
       "      <td>NaN</td>\n",
       "      <td>NaN</td>\n",
       "    </tr>\n",
       "  </tbody>\n",
       "</table>\n",
       "<p>5 rows × 89 columns</p>\n",
       "</div>"
      ],
      "text/plain": [
       "                                 Blood_Plasma_CPTAC_TrypDige_undepleted_normal_19Apr13_Methow_13-02-13  \\\n",
       "Peptide                                                                                                  \n",
       "\\n-.DIQM*TQSPSTLSASVGDR.V                                              111460000.0                       \n",
       "\\n-.DIQM*TQSPSTLSASVGDRVTITCR.A                                                NaN                       \n",
       "\\n-.DIQMTQSPS.T                                                        113990000.0                       \n",
       "\\n-.DIQMTQSPSTLSASVGDR.V                                                87789000.0                       \n",
       "\\n-.DIQMTQSPSTLSASVGDRVTITCR.A                                                 NaN                       \n",
       "\n",
       "                                 Blood_Plasma_Darpa_2_human_02_23Jan17_Arwem_16-10-25  \\\n",
       "Peptide                                                                                 \n",
       "\\n-.DIQM*TQSPSTLSASVGDR.V                                                4776900.0      \n",
       "\\n-.DIQM*TQSPSTLSASVGDRVTITCR.A                                                NaN      \n",
       "\\n-.DIQMTQSPS.T                                                                NaN      \n",
       "\\n-.DIQMTQSPSTLSASVGDR.V                                               271390000.0      \n",
       "\\n-.DIQMTQSPSTLSASVGDRVTITCR.A                                                 NaN      \n",
       "\n",
       "                                 Blood_Plasma_OMICS_EBV_HP_UW001_8Apr16_Arwen_16-01-03  \\\n",
       "Peptide                                                                                  \n",
       "\\n-.DIQM*TQSPSTLSASVGDR.V                                                      NaN       \n",
       "\\n-.DIQM*TQSPSTLSASVGDRVTITCR.A                                                NaN       \n",
       "\\n-.DIQMTQSPS.T                                                                NaN       \n",
       "\\n-.DIQMTQSPSTLSASVGDR.V                                                       NaN       \n",
       "\\n-.DIQMTQSPSTLSASVGDRVTITCR.A                                                 NaN       \n",
       "\n",
       "                                 Blood_Plasma_OMICS_EBV_HP_UW002_8Apr16_Arwen_16-01-03  \\\n",
       "Peptide                                                                                  \n",
       "\\n-.DIQM*TQSPSTLSASVGDR.V                                             6.740800e+08       \n",
       "\\n-.DIQM*TQSPSTLSASVGDRVTITCR.A                                       1.665500e+09       \n",
       "\\n-.DIQMTQSPS.T                                                                NaN       \n",
       "\\n-.DIQMTQSPSTLSASVGDR.V                                                       NaN       \n",
       "\\n-.DIQMTQSPSTLSASVGDRVTITCR.A                                                 NaN       \n",
       "\n",
       "                                 Blood_Plasma_OMICS_EBV_HP_UW003_8Apr16_Arwen_16-01-03  \\\n",
       "Peptide                                                                                  \n",
       "\\n-.DIQM*TQSPSTLSASVGDR.V                                             1.013200e+09       \n",
       "\\n-.DIQM*TQSPSTLSASVGDRVTITCR.A                                       1.889800e+09       \n",
       "\\n-.DIQMTQSPS.T                                                                NaN       \n",
       "\\n-.DIQMTQSPSTLSASVGDR.V                                              2.841000e+09       \n",
       "\\n-.DIQMTQSPSTLSASVGDRVTITCR.A                                        6.444900e+09       \n",
       "\n",
       "                                 Blood_Plasma_OMICS_EBV_HP_UW004_8Apr16_Arwen_16-01-03  \\\n",
       "Peptide                                                                                  \n",
       "\\n-.DIQM*TQSPSTLSASVGDR.V                                                      NaN       \n",
       "\\n-.DIQM*TQSPSTLSASVGDRVTITCR.A                                                NaN       \n",
       "\\n-.DIQMTQSPS.T                                                                NaN       \n",
       "\\n-.DIQMTQSPSTLSASVGDR.V                                                       NaN       \n",
       "\\n-.DIQMTQSPSTLSASVGDRVTITCR.A                                                 NaN       \n",
       "\n",
       "                                 Blood_Plasma_OMICS_EBV_HP_UW005_8Apr16_Arwen_16-01-03  \\\n",
       "Peptide                                                                                  \n",
       "\\n-.DIQM*TQSPSTLSASVGDR.V                                              201570000.0       \n",
       "\\n-.DIQM*TQSPSTLSASVGDRVTITCR.A                                        750580000.0       \n",
       "\\n-.DIQMTQSPS.T                                                                NaN       \n",
       "\\n-.DIQMTQSPSTLSASVGDR.V                                               217430000.0       \n",
       "\\n-.DIQMTQSPSTLSASVGDRVTITCR.A                                                 NaN       \n",
       "\n",
       "                                 Blood_Plasma_RZHJ_012_16Jun10_Owl_10-02-04  \\\n",
       "Peptide                                                                       \n",
       "\\n-.DIQM*TQSPSTLSASVGDR.V                                               NaN   \n",
       "\\n-.DIQM*TQSPSTLSASVGDRVTITCR.A                                         NaN   \n",
       "\\n-.DIQMTQSPS.T                                                         NaN   \n",
       "\\n-.DIQMTQSPSTLSASVGDR.V                                                NaN   \n",
       "\\n-.DIQMTQSPSTLSASVGDRVTITCR.A                                          NaN   \n",
       "\n",
       "                                 Blood_Plasma_Trypsin_Digestion_Step5_Sample1_4Mar13_Lynx_13-02-11  \\\n",
       "Peptide                                                                                              \n",
       "\\n-.DIQM*TQSPSTLSASVGDR.V                                                      NaN                   \n",
       "\\n-.DIQM*TQSPSTLSASVGDRVTITCR.A                                                NaN                   \n",
       "\\n-.DIQMTQSPS.T                                                                NaN                   \n",
       "\\n-.DIQMTQSPSTLSASVGDR.V                                                12897000.0                   \n",
       "\\n-.DIQMTQSPSTLSASVGDRVTITCR.A                                                 NaN                   \n",
       "\n",
       "                                 Blood_Plasma_Trypsin_Digestion_Step5_Sample2_4Mar13_Lynx_13-02-11  \\\n",
       "Peptide                                                                                              \n",
       "\\n-.DIQM*TQSPSTLSASVGDR.V                                                      NaN                   \n",
       "\\n-.DIQM*TQSPSTLSASVGDRVTITCR.A                                                NaN                   \n",
       "\\n-.DIQMTQSPS.T                                                                NaN                   \n",
       "\\n-.DIQMTQSPSTLSASVGDR.V                                                29051000.0                   \n",
       "\\n-.DIQMTQSPSTLSASVGDRVTITCR.A                                                 NaN                   \n",
       "\n",
       "                                       ...         Temporal_Lobe_01  \\\n",
       "Peptide                                ...                            \n",
       "\\n-.DIQM*TQSPSTLSASVGDR.V              ...                      NaN   \n",
       "\\n-.DIQM*TQSPSTLSASVGDRVTITCR.A        ...                      NaN   \n",
       "\\n-.DIQMTQSPS.T                        ...                      NaN   \n",
       "\\n-.DIQMTQSPSTLSASVGDR.V               ...                      NaN   \n",
       "\\n-.DIQMTQSPSTLSASVGDRVTITCR.A         ...                      NaN   \n",
       "\n",
       "                                 Temporal_Lobe_02  Temporal_Lobe_03  \\\n",
       "Peptide                                                               \n",
       "\\n-.DIQM*TQSPSTLSASVGDR.V                     NaN               NaN   \n",
       "\\n-.DIQM*TQSPSTLSASVGDRVTITCR.A               NaN               NaN   \n",
       "\\n-.DIQMTQSPS.T                               NaN               NaN   \n",
       "\\n-.DIQMTQSPSTLSASVGDR.V                      NaN               NaN   \n",
       "\\n-.DIQMTQSPSTLSASVGDRVTITCR.A                NaN               NaN   \n",
       "\n",
       "                                 Temporal_Lobe_04  Temporal_Lobe_05  \\\n",
       "Peptide                                                               \n",
       "\\n-.DIQM*TQSPSTLSASVGDR.V                     NaN               NaN   \n",
       "\\n-.DIQM*TQSPSTLSASVGDRVTITCR.A               NaN               NaN   \n",
       "\\n-.DIQMTQSPS.T                               NaN               NaN   \n",
       "\\n-.DIQMTQSPSTLSASVGDR.V                      NaN               NaN   \n",
       "\\n-.DIQMTQSPSTLSASVGDRVTITCR.A                NaN               NaN   \n",
       "\n",
       "                                 Temporal_Lobe_06  Temporal_Lobe_07  \\\n",
       "Peptide                                                               \n",
       "\\n-.DIQM*TQSPSTLSASVGDR.V                     NaN               NaN   \n",
       "\\n-.DIQM*TQSPSTLSASVGDRVTITCR.A               NaN               NaN   \n",
       "\\n-.DIQMTQSPS.T                               NaN               NaN   \n",
       "\\n-.DIQMTQSPSTLSASVGDR.V                      NaN               NaN   \n",
       "\\n-.DIQMTQSPSTLSASVGDRVTITCR.A                NaN               NaN   \n",
       "\n",
       "                                 Temporal_Lobe_08  Temporal_Lobe_09  \\\n",
       "Peptide                                                               \n",
       "\\n-.DIQM*TQSPSTLSASVGDR.V                     NaN               NaN   \n",
       "\\n-.DIQM*TQSPSTLSASVGDRVTITCR.A               NaN               NaN   \n",
       "\\n-.DIQMTQSPS.T                               NaN               NaN   \n",
       "\\n-.DIQMTQSPSTLSASVGDR.V                      NaN               NaN   \n",
       "\\n-.DIQMTQSPSTLSASVGDRVTITCR.A                NaN               NaN   \n",
       "\n",
       "                                 Temporal_Lobe_10  \n",
       "Peptide                                            \n",
       "\\n-.DIQM*TQSPSTLSASVGDR.V                     NaN  \n",
       "\\n-.DIQM*TQSPSTLSASVGDRVTITCR.A               NaN  \n",
       "\\n-.DIQMTQSPS.T                               NaN  \n",
       "\\n-.DIQMTQSPSTLSASVGDR.V                      NaN  \n",
       "\\n-.DIQMTQSPSTLSASVGDRVTITCR.A                NaN  \n",
       "\n",
       "[5 rows x 89 columns]"
      ]
     },
     "execution_count": 38,
     "metadata": {},
     "output_type": "execute_result"
    }
   ],
   "source": [
    "df.dropna(axis='index', how='all', inplace=True) # drop any rows where all values are missing\n",
    "\n",
    "original_df = df.copy()\n",
    "\n",
    "print(df.shape)\n",
    "df.head()"
   ]
  },
  {
   "cell_type": "markdown",
   "metadata": {},
   "source": [
    "## Clean data\n",
    "* Log2 transform\n",
    "* Impute missing values\n",
    "* Mean/Median normalize"
   ]
  },
  {
   "cell_type": "code",
   "execution_count": 39,
   "metadata": {},
   "outputs": [
    {
     "name": "stderr",
     "output_type": "stream",
     "text": [
      "C:\\Users\\kush494\\Documents\\Proteomics_Data_Processing\\MaxQuant_Postprocessing_Functions.py:149: RuntimeWarning: divide by zero encountered in log2\n",
      "  df.iloc[:,:] = np.log2(df.iloc[:,:])\n"
     ]
    }
   ],
   "source": [
    "mq.log2_normalize(df)\n",
    "\n",
    "df_min = df.min().min()\n",
    "impute_val = df_min/2\n",
    "df = df.fillna(impute_val)\n",
    "\n",
    "# median normalize\n",
    "mq.median_normalize(df)\n",
    "#df.iloc[:,:] = preprocessing.RobustScaler().fit_transform(df)"
   ]
  },
  {
   "cell_type": "markdown",
   "metadata": {},
   "source": [
    "## Map each column to a corresponding label"
   ]
  },
  {
   "cell_type": "code",
   "execution_count": 40,
   "metadata": {
    "collapsed": true
   },
   "outputs": [],
   "source": [
    "tissues = ['Blood_Plasma', 'Blood_Serum', 'CSF', 'Liver', 'Monocyte', 'Ovary', 'Pancreas', 'Substantia_Nigra', 'Temporal_Lobe']\n",
    " \n",
    "tissues_to_columns = cu.map_tissues_to_columns(df, tissues)\n",
    "#tissues_to_columns"
   ]
  },
  {
   "cell_type": "code",
   "execution_count": 41,
   "metadata": {
    "collapsed": true
   },
   "outputs": [],
   "source": [
    "column_names = df.columns.values.tolist()\n",
    "labels = cu.get_labels(column_names, tissues_to_columns)\n",
    "\n",
    "# Sort columns by tissue type for visualization purposes"
   ]
  },
  {
   "cell_type": "code",
   "execution_count": 42,
   "metadata": {
    "scrolled": true
   },
   "outputs": [
    {
     "data": {
      "text/html": [
       "<div>\n",
       "<style>\n",
       "    .dataframe thead tr:only-child th {\n",
       "        text-align: right;\n",
       "    }\n",
       "\n",
       "    .dataframe thead th {\n",
       "        text-align: left;\n",
       "    }\n",
       "\n",
       "    .dataframe tbody tr th {\n",
       "        vertical-align: top;\n",
       "    }\n",
       "</style>\n",
       "<table border=\"1\" class=\"dataframe\">\n",
       "  <thead>\n",
       "    <tr style=\"text-align: right;\">\n",
       "      <th></th>\n",
       "      <th>Blood_Plasma_CPTAC_TrypDige_undepleted_normal_19Apr13_Methow_13-02-13</th>\n",
       "      <th>Blood_Plasma_Darpa_2_human_02_23Jan17_Arwem_16-10-25</th>\n",
       "      <th>Blood_Plasma_OMICS_EBV_HP_UW001_8Apr16_Arwen_16-01-03</th>\n",
       "      <th>Blood_Plasma_OMICS_EBV_HP_UW002_8Apr16_Arwen_16-01-03</th>\n",
       "      <th>Blood_Plasma_OMICS_EBV_HP_UW003_8Apr16_Arwen_16-01-03</th>\n",
       "      <th>Blood_Plasma_OMICS_EBV_HP_UW004_8Apr16_Arwen_16-01-03</th>\n",
       "      <th>Blood_Plasma_OMICS_EBV_HP_UW005_8Apr16_Arwen_16-01-03</th>\n",
       "      <th>Blood_Plasma_RZHJ_012_16Jun10_Owl_10-02-04</th>\n",
       "      <th>Blood_Plasma_Trypsin_Digestion_Step5_Sample1_4Mar13_Lynx_13-02-11</th>\n",
       "      <th>Blood_Plasma_Trypsin_Digestion_Step5_Sample2_4Mar13_Lynx_13-02-11</th>\n",
       "      <th>...</th>\n",
       "      <th>Temporal_Lobe_01</th>\n",
       "      <th>Temporal_Lobe_02</th>\n",
       "      <th>Temporal_Lobe_03</th>\n",
       "      <th>Temporal_Lobe_04</th>\n",
       "      <th>Temporal_Lobe_05</th>\n",
       "      <th>Temporal_Lobe_06</th>\n",
       "      <th>Temporal_Lobe_07</th>\n",
       "      <th>Temporal_Lobe_08</th>\n",
       "      <th>Temporal_Lobe_09</th>\n",
       "      <th>Temporal_Lobe_10</th>\n",
       "    </tr>\n",
       "    <tr>\n",
       "      <th>Peptide</th>\n",
       "      <th></th>\n",
       "      <th></th>\n",
       "      <th></th>\n",
       "      <th></th>\n",
       "      <th></th>\n",
       "      <th></th>\n",
       "      <th></th>\n",
       "      <th></th>\n",
       "      <th></th>\n",
       "      <th></th>\n",
       "      <th></th>\n",
       "      <th></th>\n",
       "      <th></th>\n",
       "      <th></th>\n",
       "      <th></th>\n",
       "      <th></th>\n",
       "      <th></th>\n",
       "      <th></th>\n",
       "      <th></th>\n",
       "      <th></th>\n",
       "      <th></th>\n",
       "    </tr>\n",
       "  </thead>\n",
       "  <tbody>\n",
       "    <tr>\n",
       "      <th>\\n-.DIQM*TQSPSTLSASVGDR.V</th>\n",
       "      <td>26.731951</td>\n",
       "      <td>22.187643</td>\n",
       "      <td>3.022208</td>\n",
       "      <td>29.328345</td>\n",
       "      <td>29.916272</td>\n",
       "      <td>3.022208</td>\n",
       "      <td>27.586706</td>\n",
       "      <td>3.022208</td>\n",
       "      <td>3.022208</td>\n",
       "      <td>3.022208</td>\n",
       "      <td>...</td>\n",
       "      <td>3.022208</td>\n",
       "      <td>3.022208</td>\n",
       "      <td>3.022208</td>\n",
       "      <td>3.022208</td>\n",
       "      <td>3.022208</td>\n",
       "      <td>3.022208</td>\n",
       "      <td>3.022208</td>\n",
       "      <td>3.022208</td>\n",
       "      <td>3.022208</td>\n",
       "      <td>3.022208</td>\n",
       "    </tr>\n",
       "    <tr>\n",
       "      <th>\\n-.DIQM*TQSPSTLSASVGDRVTITCR.A</th>\n",
       "      <td>3.022208</td>\n",
       "      <td>3.022208</td>\n",
       "      <td>3.022208</td>\n",
       "      <td>30.633308</td>\n",
       "      <td>30.815586</td>\n",
       "      <td>3.022208</td>\n",
       "      <td>29.483431</td>\n",
       "      <td>3.022208</td>\n",
       "      <td>3.022208</td>\n",
       "      <td>3.022208</td>\n",
       "      <td>...</td>\n",
       "      <td>3.022208</td>\n",
       "      <td>3.022208</td>\n",
       "      <td>3.022208</td>\n",
       "      <td>3.022208</td>\n",
       "      <td>3.022208</td>\n",
       "      <td>3.022208</td>\n",
       "      <td>3.022208</td>\n",
       "      <td>3.022208</td>\n",
       "      <td>3.022208</td>\n",
       "      <td>3.022208</td>\n",
       "    </tr>\n",
       "    <tr>\n",
       "      <th>\\n-.DIQMTQSPS.T</th>\n",
       "      <td>26.764332</td>\n",
       "      <td>3.022208</td>\n",
       "      <td>3.022208</td>\n",
       "      <td>3.022208</td>\n",
       "      <td>3.022208</td>\n",
       "      <td>3.022208</td>\n",
       "      <td>3.022208</td>\n",
       "      <td>3.022208</td>\n",
       "      <td>3.022208</td>\n",
       "      <td>3.022208</td>\n",
       "      <td>...</td>\n",
       "      <td>3.022208</td>\n",
       "      <td>3.022208</td>\n",
       "      <td>3.022208</td>\n",
       "      <td>3.022208</td>\n",
       "      <td>3.022208</td>\n",
       "      <td>3.022208</td>\n",
       "      <td>3.022208</td>\n",
       "      <td>3.022208</td>\n",
       "      <td>3.022208</td>\n",
       "      <td>3.022208</td>\n",
       "    </tr>\n",
       "    <tr>\n",
       "      <th>\\n-.DIQMTQSPSTLSASVGDR.V</th>\n",
       "      <td>26.387537</td>\n",
       "      <td>28.015792</td>\n",
       "      <td>3.022208</td>\n",
       "      <td>3.022208</td>\n",
       "      <td>31.403752</td>\n",
       "      <td>3.022208</td>\n",
       "      <td>27.695976</td>\n",
       "      <td>3.022208</td>\n",
       "      <td>23.620532</td>\n",
       "      <td>24.792084</td>\n",
       "      <td>...</td>\n",
       "      <td>3.022208</td>\n",
       "      <td>3.022208</td>\n",
       "      <td>3.022208</td>\n",
       "      <td>3.022208</td>\n",
       "      <td>3.022208</td>\n",
       "      <td>3.022208</td>\n",
       "      <td>3.022208</td>\n",
       "      <td>3.022208</td>\n",
       "      <td>3.022208</td>\n",
       "      <td>3.022208</td>\n",
       "    </tr>\n",
       "    <tr>\n",
       "      <th>\\n-.DIQMTQSPSTLSASVGDRVTITCR.A</th>\n",
       "      <td>3.022208</td>\n",
       "      <td>3.022208</td>\n",
       "      <td>3.022208</td>\n",
       "      <td>3.022208</td>\n",
       "      <td>32.585511</td>\n",
       "      <td>3.022208</td>\n",
       "      <td>3.022208</td>\n",
       "      <td>3.022208</td>\n",
       "      <td>3.022208</td>\n",
       "      <td>3.022208</td>\n",
       "      <td>...</td>\n",
       "      <td>3.022208</td>\n",
       "      <td>3.022208</td>\n",
       "      <td>3.022208</td>\n",
       "      <td>3.022208</td>\n",
       "      <td>3.022208</td>\n",
       "      <td>3.022208</td>\n",
       "      <td>3.022208</td>\n",
       "      <td>3.022208</td>\n",
       "      <td>3.022208</td>\n",
       "      <td>3.022208</td>\n",
       "    </tr>\n",
       "  </tbody>\n",
       "</table>\n",
       "<p>5 rows × 89 columns</p>\n",
       "</div>"
      ],
      "text/plain": [
       "                                 Blood_Plasma_CPTAC_TrypDige_undepleted_normal_19Apr13_Methow_13-02-13  \\\n",
       "Peptide                                                                                                  \n",
       "\\n-.DIQM*TQSPSTLSASVGDR.V                                                26.731951                       \n",
       "\\n-.DIQM*TQSPSTLSASVGDRVTITCR.A                                           3.022208                       \n",
       "\\n-.DIQMTQSPS.T                                                          26.764332                       \n",
       "\\n-.DIQMTQSPSTLSASVGDR.V                                                 26.387537                       \n",
       "\\n-.DIQMTQSPSTLSASVGDRVTITCR.A                                            3.022208                       \n",
       "\n",
       "                                 Blood_Plasma_Darpa_2_human_02_23Jan17_Arwem_16-10-25  \\\n",
       "Peptide                                                                                 \n",
       "\\n-.DIQM*TQSPSTLSASVGDR.V                                                22.187643      \n",
       "\\n-.DIQM*TQSPSTLSASVGDRVTITCR.A                                           3.022208      \n",
       "\\n-.DIQMTQSPS.T                                                           3.022208      \n",
       "\\n-.DIQMTQSPSTLSASVGDR.V                                                 28.015792      \n",
       "\\n-.DIQMTQSPSTLSASVGDRVTITCR.A                                            3.022208      \n",
       "\n",
       "                                 Blood_Plasma_OMICS_EBV_HP_UW001_8Apr16_Arwen_16-01-03  \\\n",
       "Peptide                                                                                  \n",
       "\\n-.DIQM*TQSPSTLSASVGDR.V                                                 3.022208       \n",
       "\\n-.DIQM*TQSPSTLSASVGDRVTITCR.A                                           3.022208       \n",
       "\\n-.DIQMTQSPS.T                                                           3.022208       \n",
       "\\n-.DIQMTQSPSTLSASVGDR.V                                                  3.022208       \n",
       "\\n-.DIQMTQSPSTLSASVGDRVTITCR.A                                            3.022208       \n",
       "\n",
       "                                 Blood_Plasma_OMICS_EBV_HP_UW002_8Apr16_Arwen_16-01-03  \\\n",
       "Peptide                                                                                  \n",
       "\\n-.DIQM*TQSPSTLSASVGDR.V                                                29.328345       \n",
       "\\n-.DIQM*TQSPSTLSASVGDRVTITCR.A                                          30.633308       \n",
       "\\n-.DIQMTQSPS.T                                                           3.022208       \n",
       "\\n-.DIQMTQSPSTLSASVGDR.V                                                  3.022208       \n",
       "\\n-.DIQMTQSPSTLSASVGDRVTITCR.A                                            3.022208       \n",
       "\n",
       "                                 Blood_Plasma_OMICS_EBV_HP_UW003_8Apr16_Arwen_16-01-03  \\\n",
       "Peptide                                                                                  \n",
       "\\n-.DIQM*TQSPSTLSASVGDR.V                                                29.916272       \n",
       "\\n-.DIQM*TQSPSTLSASVGDRVTITCR.A                                          30.815586       \n",
       "\\n-.DIQMTQSPS.T                                                           3.022208       \n",
       "\\n-.DIQMTQSPSTLSASVGDR.V                                                 31.403752       \n",
       "\\n-.DIQMTQSPSTLSASVGDRVTITCR.A                                           32.585511       \n",
       "\n",
       "                                 Blood_Plasma_OMICS_EBV_HP_UW004_8Apr16_Arwen_16-01-03  \\\n",
       "Peptide                                                                                  \n",
       "\\n-.DIQM*TQSPSTLSASVGDR.V                                                 3.022208       \n",
       "\\n-.DIQM*TQSPSTLSASVGDRVTITCR.A                                           3.022208       \n",
       "\\n-.DIQMTQSPS.T                                                           3.022208       \n",
       "\\n-.DIQMTQSPSTLSASVGDR.V                                                  3.022208       \n",
       "\\n-.DIQMTQSPSTLSASVGDRVTITCR.A                                            3.022208       \n",
       "\n",
       "                                 Blood_Plasma_OMICS_EBV_HP_UW005_8Apr16_Arwen_16-01-03  \\\n",
       "Peptide                                                                                  \n",
       "\\n-.DIQM*TQSPSTLSASVGDR.V                                                27.586706       \n",
       "\\n-.DIQM*TQSPSTLSASVGDRVTITCR.A                                          29.483431       \n",
       "\\n-.DIQMTQSPS.T                                                           3.022208       \n",
       "\\n-.DIQMTQSPSTLSASVGDR.V                                                 27.695976       \n",
       "\\n-.DIQMTQSPSTLSASVGDRVTITCR.A                                            3.022208       \n",
       "\n",
       "                                 Blood_Plasma_RZHJ_012_16Jun10_Owl_10-02-04  \\\n",
       "Peptide                                                                       \n",
       "\\n-.DIQM*TQSPSTLSASVGDR.V                                          3.022208   \n",
       "\\n-.DIQM*TQSPSTLSASVGDRVTITCR.A                                    3.022208   \n",
       "\\n-.DIQMTQSPS.T                                                    3.022208   \n",
       "\\n-.DIQMTQSPSTLSASVGDR.V                                           3.022208   \n",
       "\\n-.DIQMTQSPSTLSASVGDRVTITCR.A                                     3.022208   \n",
       "\n",
       "                                 Blood_Plasma_Trypsin_Digestion_Step5_Sample1_4Mar13_Lynx_13-02-11  \\\n",
       "Peptide                                                                                              \n",
       "\\n-.DIQM*TQSPSTLSASVGDR.V                                                 3.022208                   \n",
       "\\n-.DIQM*TQSPSTLSASVGDRVTITCR.A                                           3.022208                   \n",
       "\\n-.DIQMTQSPS.T                                                           3.022208                   \n",
       "\\n-.DIQMTQSPSTLSASVGDR.V                                                 23.620532                   \n",
       "\\n-.DIQMTQSPSTLSASVGDRVTITCR.A                                            3.022208                   \n",
       "\n",
       "                                 Blood_Plasma_Trypsin_Digestion_Step5_Sample2_4Mar13_Lynx_13-02-11  \\\n",
       "Peptide                                                                                              \n",
       "\\n-.DIQM*TQSPSTLSASVGDR.V                                                 3.022208                   \n",
       "\\n-.DIQM*TQSPSTLSASVGDRVTITCR.A                                           3.022208                   \n",
       "\\n-.DIQMTQSPS.T                                                           3.022208                   \n",
       "\\n-.DIQMTQSPSTLSASVGDR.V                                                 24.792084                   \n",
       "\\n-.DIQMTQSPSTLSASVGDRVTITCR.A                                            3.022208                   \n",
       "\n",
       "                                       ...         Temporal_Lobe_01  \\\n",
       "Peptide                                ...                            \n",
       "\\n-.DIQM*TQSPSTLSASVGDR.V              ...                 3.022208   \n",
       "\\n-.DIQM*TQSPSTLSASVGDRVTITCR.A        ...                 3.022208   \n",
       "\\n-.DIQMTQSPS.T                        ...                 3.022208   \n",
       "\\n-.DIQMTQSPSTLSASVGDR.V               ...                 3.022208   \n",
       "\\n-.DIQMTQSPSTLSASVGDRVTITCR.A         ...                 3.022208   \n",
       "\n",
       "                                 Temporal_Lobe_02  Temporal_Lobe_03  \\\n",
       "Peptide                                                               \n",
       "\\n-.DIQM*TQSPSTLSASVGDR.V                3.022208          3.022208   \n",
       "\\n-.DIQM*TQSPSTLSASVGDRVTITCR.A          3.022208          3.022208   \n",
       "\\n-.DIQMTQSPS.T                          3.022208          3.022208   \n",
       "\\n-.DIQMTQSPSTLSASVGDR.V                 3.022208          3.022208   \n",
       "\\n-.DIQMTQSPSTLSASVGDRVTITCR.A           3.022208          3.022208   \n",
       "\n",
       "                                 Temporal_Lobe_04  Temporal_Lobe_05  \\\n",
       "Peptide                                                               \n",
       "\\n-.DIQM*TQSPSTLSASVGDR.V                3.022208          3.022208   \n",
       "\\n-.DIQM*TQSPSTLSASVGDRVTITCR.A          3.022208          3.022208   \n",
       "\\n-.DIQMTQSPS.T                          3.022208          3.022208   \n",
       "\\n-.DIQMTQSPSTLSASVGDR.V                 3.022208          3.022208   \n",
       "\\n-.DIQMTQSPSTLSASVGDRVTITCR.A           3.022208          3.022208   \n",
       "\n",
       "                                 Temporal_Lobe_06  Temporal_Lobe_07  \\\n",
       "Peptide                                                               \n",
       "\\n-.DIQM*TQSPSTLSASVGDR.V                3.022208          3.022208   \n",
       "\\n-.DIQM*TQSPSTLSASVGDRVTITCR.A          3.022208          3.022208   \n",
       "\\n-.DIQMTQSPS.T                          3.022208          3.022208   \n",
       "\\n-.DIQMTQSPSTLSASVGDR.V                 3.022208          3.022208   \n",
       "\\n-.DIQMTQSPSTLSASVGDRVTITCR.A           3.022208          3.022208   \n",
       "\n",
       "                                 Temporal_Lobe_08  Temporal_Lobe_09  \\\n",
       "Peptide                                                               \n",
       "\\n-.DIQM*TQSPSTLSASVGDR.V                3.022208          3.022208   \n",
       "\\n-.DIQM*TQSPSTLSASVGDRVTITCR.A          3.022208          3.022208   \n",
       "\\n-.DIQMTQSPS.T                          3.022208          3.022208   \n",
       "\\n-.DIQMTQSPSTLSASVGDR.V                 3.022208          3.022208   \n",
       "\\n-.DIQMTQSPSTLSASVGDRVTITCR.A           3.022208          3.022208   \n",
       "\n",
       "                                 Temporal_Lobe_10  \n",
       "Peptide                                            \n",
       "\\n-.DIQM*TQSPSTLSASVGDR.V                3.022208  \n",
       "\\n-.DIQM*TQSPSTLSASVGDRVTITCR.A          3.022208  \n",
       "\\n-.DIQMTQSPS.T                          3.022208  \n",
       "\\n-.DIQMTQSPSTLSASVGDR.V                 3.022208  \n",
       "\\n-.DIQMTQSPSTLSASVGDRVTITCR.A           3.022208  \n",
       "\n",
       "[5 rows x 89 columns]"
      ]
     },
     "execution_count": 42,
     "metadata": {},
     "output_type": "execute_result"
    }
   ],
   "source": [
    "df.head()"
   ]
  },
  {
   "cell_type": "markdown",
   "metadata": {},
   "source": [
    "### Optional step to transform data"
   ]
  },
  {
   "cell_type": "code",
   "execution_count": 43,
   "metadata": {
    "collapsed": true
   },
   "outputs": [],
   "source": [
    "### Function to wrap whatever additional transformation is done to the train set, so that it can later be applied to the test set\n",
    "def reduce_features(df):\n",
    "    df = cu.keep_percentile_features(df, labels, 10)\n",
    "    #df = cu.pairwise_transform(df)\n",
    "    return df\n",
    "    "
   ]
  },
  {
   "cell_type": "code",
   "execution_count": 44,
   "metadata": {},
   "outputs": [
    {
     "name": "stdout",
     "output_type": "stream",
     "text": [
      "--- 0.006316665808359782 minutes ---\n",
      "(11992, 89)\n"
     ]
    }
   ],
   "source": [
    "\n",
    "transform_start_time = time.time()\n",
    "\n",
    "df = reduce_features(df) \n",
    "\n",
    "print(\"--- %s minutes ---\" % ((time.time() - transform_start_time)/60))\n",
    "print(df.shape)"
   ]
  },
  {
   "cell_type": "markdown",
   "metadata": {},
   "source": [
    "### For testing purposes: threshold data"
   ]
  },
  {
   "cell_type": "code",
   "execution_count": 11,
   "metadata": {
    "collapsed": true
   },
   "outputs": [],
   "source": [
    "import math\n",
    "\n",
    "df_t = df.T\n",
    "num_rows = df_t.shape[1]\n",
    "\n",
    "one_protein_df = df_t.drop(df_t.columns[list(range(num_rows-1))], axis=1)\n",
    "fifteen_protein_df = df_t.drop(df_t.columns[list(range(num_rows-15))], axis=1)\n",
    "sixteenthpercent_df = df_t.drop(df_t.columns[list(range(math.floor(num_rows*(1599/1600))))], axis=1)\n",
    "eighthpercent_df = df_t.drop(df_t.columns[list(range(math.floor(num_rows*(799/800))))], axis=1)\n",
    "quarterpercent_df = df_t.drop(df_t.columns[list(range(math.floor(num_rows*(399/400))))], axis=1)\n",
    "halfpercent_df = df_t.drop(df_t.columns[list(range(math.floor(num_rows*(199/200))))], axis=1)\n",
    "one_percent_df = df_t.drop(df_t.columns[list(range(math.floor(num_rows*(99/100))))], axis=1)\n",
    "twentieth_df = df_t.drop(df_t.columns[list(range(math.floor(num_rows*(95/100))))], axis=1)\n",
    "tenth_df = df_t.drop(df_t.columns[list(range(math.floor(num_rows*(9/10))))], axis=1)\n",
    "quarter_df = df_t.drop(df_t.columns[list(range(math.floor(num_rows*(3/4))))], axis=1)\n",
    "half_df = df_t.drop(df_t.columns[list(range(num_rows//2))], axis=1)\n",
    "three_quarters_df = df_t.drop(df_t.columns[list(range(num_rows//4))], axis=1)\n",
    "nine_tenths_df = df_t.drop(df_t.columns[list(range(num_rows//10))], axis=1)"
   ]
  },
  {
   "cell_type": "code",
   "execution_count": 12,
   "metadata": {},
   "outputs": [
    {
     "data": {
      "text/plain": [
       "(89, 1)"
      ]
     },
     "execution_count": 12,
     "metadata": {},
     "output_type": "execute_result"
    }
   ],
   "source": [
    "thresholded_df = one_protein_df\n",
    "thresholded_df.shape"
   ]
  },
  {
   "cell_type": "markdown",
   "metadata": {},
   "source": [
    "## Visualize data\n",
    "* Normalized boxplots\n",
    "* Scree plot\n",
    "* PCA plot\n",
    "* Pearson Matrix"
   ]
  },
  {
   "cell_type": "code",
   "execution_count": 23,
   "metadata": {
    "collapsed": true,
    "scrolled": true
   },
   "outputs": [],
   "source": [
    "image_dir = r'D:\\Images\\Human_Tissues\\\\'\n",
    "\n",
    "column_to_color = mq.map_colors(tissues, tissues_to_columns, 9)"
   ]
  },
  {
   "cell_type": "code",
   "execution_count": 187,
   "metadata": {
    "collapsed": true,
    "scrolled": true
   },
   "outputs": [],
   "source": [
    "mq.make_seaborn_boxplot(df, image_dir, 'Median_normalized_boxplots', column_to_color)"
   ]
  },
  {
   "cell_type": "code",
   "execution_count": 24,
   "metadata": {
    "scrolled": true
   },
   "outputs": [
    {
     "name": "stderr",
     "output_type": "stream",
     "text": [
      "C:\\Users\\kush494\\AppData\\Local\\Continuum\\anaconda3\\lib\\site-packages\\matplotlib\\figure.py:418: UserWarning: matplotlib is currently using a non-GUI backend, so cannot show the figure\n",
      "  \"matplotlib is currently using a non-GUI backend, \"\n"
     ]
    }
   ],
   "source": [
    "#scaled_data = preprocessing.scale(df.T)\n",
    "scaled_data = df.T\n",
    "\n",
    "pca = PCA() # create a PCA object\n",
    "pca.fit(scaled_data) # do the math\n",
    "pca_data = pca.transform(scaled_data) # get PCA coordinates for dataframe\n",
    "\n",
    "per_var, pca_labels = mq.make_scree_plot(pca, image_dir)\n",
    "mq.draw_pca_graph2(column_names, pca_data, image_dir, column_to_color, per_var, pca_labels, tissues, tissues_to_columns, 'PCA Plot')\n",
    "#mq.draw_pca_graph(column_names, pca_data, image_dir, column_to_color, per_var, pca_labels, 'PCA_RobustScaler_Annotated')"
   ]
  },
  {
   "cell_type": "code",
   "execution_count": null,
   "metadata": {
    "collapsed": true
   },
   "outputs": [],
   "source": [
    "mq.make_pearson_matrix(df, image_dir)"
   ]
  },
  {
   "cell_type": "markdown",
   "metadata": {},
   "source": [
    "## Test various classifiers using cross-validation"
   ]
  },
  {
   "cell_type": "code",
   "execution_count": 43,
   "metadata": {
    "collapsed": true
   },
   "outputs": [],
   "source": [
    "NUM_FOLDS = 6\n",
    "transformed_df = df.T\n",
    "#transformed_df = thresholded_df"
   ]
  },
  {
   "cell_type": "markdown",
   "metadata": {},
   "source": [
    "### Decision Tree"
   ]
  },
  {
   "cell_type": "code",
   "execution_count": 44,
   "metadata": {
    "scrolled": true
   },
   "outputs": [
    {
     "name": "stdout",
     "output_type": "stream",
     "text": [
      "Scores: [ 1.    0.94  1.    0.94  1.    1.  ]\n",
      "accuracy: 0.98 (+/- 0.05)\n"
     ]
    }
   ],
   "source": [
    "dt = cu.decisiontree_model_crossval(transformed_df, labels, NUM_FOLDS)"
   ]
  },
  {
   "cell_type": "markdown",
   "metadata": {},
   "source": [
    "### KNN"
   ]
  },
  {
   "cell_type": "code",
   "execution_count": 45,
   "metadata": {},
   "outputs": [
    {
     "name": "stdout",
     "output_type": "stream",
     "text": [
      "Scores: [ 1.    0.94  1.    0.94  0.89  1.  ]\n",
      "accuracy: 0.96 (+/- 0.08)\n"
     ]
    }
   ],
   "source": [
    "knn = cu.knn_model_crossval(transformed_df, labels, NUM_FOLDS)"
   ]
  },
  {
   "cell_type": "markdown",
   "metadata": {},
   "source": [
    "### Logistic Regression"
   ]
  },
  {
   "cell_type": "code",
   "execution_count": 46,
   "metadata": {
    "scrolled": true
   },
   "outputs": [
    {
     "name": "stdout",
     "output_type": "stream",
     "text": [
      "Scores: [ 1.  1.  1.  1.  1.  1.]\n",
      "accuracy: 1.00 (+/- 0.00)\n"
     ]
    }
   ],
   "source": [
    "lr = cu.logistic_regression_model_crossval(transformed_df, labels, NUM_FOLDS)"
   ]
  },
  {
   "cell_type": "markdown",
   "metadata": {},
   "source": [
    "### Naive Bayes\n",
    "* Gaussian\n",
    "* Multinomial"
   ]
  },
  {
   "cell_type": "code",
   "execution_count": 49,
   "metadata": {},
   "outputs": [
    {
     "name": "stdout",
     "output_type": "stream",
     "text": [
      "Scores: [ 0.72  0.94  0.78  0.82  0.89  0.89]\n",
      "accuracy: 0.84 (+/- 0.15)\n"
     ]
    }
   ],
   "source": [
    "gnb = cu.bayes_gaussian_model_crossval(transformed_df, labels, NUM_FOLDS)"
   ]
  },
  {
   "cell_type": "code",
   "execution_count": 50,
   "metadata": {
    "scrolled": false
   },
   "outputs": [
    {
     "name": "stdout",
     "output_type": "stream",
     "text": [
      "Scores: [ 1.    0.94  1.    0.94  1.    1.  ]\n",
      "accuracy: 0.98 (+/- 0.05)\n"
     ]
    }
   ],
   "source": [
    "mnb = cu.bayes_multinomial_model_crossval(transformed_df, labels, NUM_FOLDS)"
   ]
  },
  {
   "cell_type": "markdown",
   "metadata": {},
   "source": [
    "### SVC variations"
   ]
  },
  {
   "cell_type": "code",
   "execution_count": 51,
   "metadata": {
    "scrolled": true
   },
   "outputs": [
    {
     "name": "stdout",
     "output_type": "stream",
     "text": [
      "Scores: [ 1.  1.  1.  1.  1.  1.]\n",
      "accuracy: 1.00 (+/- 0.00)\n",
      "Scores: [ 1.  1.  1.  1.  1.  1.]\n",
      "accuracy: 1.00 (+/- 0.00)\n",
      "Scores: [ 0.17  0.17  0.22  0.18  0.33  0.22]\n",
      "accuracy: 0.21 (+/- 0.12)\n",
      "Scores: [ 1.    0.94  1.    0.94  1.    1.  ]\n",
      "accuracy: 0.98 (+/- 0.05)\n"
     ]
    }
   ],
   "source": [
    "svc_models = cu.SVC_models_crossval(transformed_df, labels, NUM_FOLDS)"
   ]
  },
  {
   "cell_type": "markdown",
   "metadata": {},
   "source": [
    "### Aggregations\n",
    "* Random Forest\n",
    "* Gradient Boosting"
   ]
  },
  {
   "cell_type": "code",
   "execution_count": 52,
   "metadata": {},
   "outputs": [
    {
     "name": "stdout",
     "output_type": "stream",
     "text": [
      "Scores: [ 1.  1.  1.  1.  1.  1.]\n",
      "accuracy: 1.00 (+/- 0.00)\n"
     ]
    }
   ],
   "source": [
    "rf = cu.randomforest_model_crossval(transformed_df, labels, NUM_FOLDS)"
   ]
  },
  {
   "cell_type": "code",
   "execution_count": 53,
   "metadata": {},
   "outputs": [
    {
     "name": "stdout",
     "output_type": "stream",
     "text": [
      "Scores: [ 1.    1.    1.    0.94  1.    1.  ]\n",
      "accuracy: 0.99 (+/- 0.04)\n"
     ]
    }
   ],
   "source": [
    "gbc = cu.gradient_boosting_crossval(transformed_df, labels, NUM_FOLDS)"
   ]
  },
  {
   "cell_type": "markdown",
   "metadata": {},
   "source": [
    "## Tune parameters of best models \n",
    "* Check accuracy score and F1 score (measure of precision and recall)"
   ]
  },
  {
   "cell_type": "code",
   "execution_count": 45,
   "metadata": {
    "collapsed": true
   },
   "outputs": [],
   "source": [
    "start_time = time.time()"
   ]
  },
  {
   "cell_type": "markdown",
   "metadata": {},
   "source": [
    "### Gradient Boosting grid search"
   ]
  },
  {
   "cell_type": "code",
   "execution_count": 46,
   "metadata": {},
   "outputs": [
    {
     "name": "stdout",
     "output_type": "stream",
     "text": [
      "Best Gradient Boosting parameters:\n",
      " {'classify__max_depth': 5, 'classify__min_samples_split': 3, 'classify__n_estimators': 25, 'reduce_dim': SelectPercentile(percentile=5,\n",
      "         score_func=<function f_classif at 0x000000000C379048>), 'reduce_dim__percentile': 5}\n",
      "\n",
      "Best Cross-Validation score:\n",
      " 0.977528089888\n",
      "--- 1159.721113272508 minutes ---\n"
     ]
    }
   ],
   "source": [
    "gbc_grid = cu.gbc_grid_search(NUM_FOLDS, 2)\n",
    "\n",
    "gbc_grid.fit(transformed_df, labels)\n",
    "\n",
    "print('Best Gradient Boosting parameters:\\n', gbc_grid.best_params_)\n",
    "print('\\nBest Cross-Validation score:\\n', gbc_grid.best_score_)\n",
    "\n",
    "print(\"--- %s minutes ---\" % ((time.time() - start_time)/60))"
   ]
  },
  {
   "cell_type": "markdown",
   "metadata": {},
   "source": [
    "### Random Forest grid search"
   ]
  },
  {
   "cell_type": "code",
   "execution_count": 27,
   "metadata": {},
   "outputs": [
    {
     "ename": "KeyboardInterrupt",
     "evalue": "",
     "output_type": "error",
     "traceback": [
      "\u001b[1;31m---------------------------------------------------------------------------\u001b[0m",
      "\u001b[1;31mKeyboardInterrupt\u001b[0m                         Traceback (most recent call last)",
      "\u001b[1;32m<ipython-input-27-d5401aefe3cc>\u001b[0m in \u001b[0;36m<module>\u001b[1;34m()\u001b[0m\n\u001b[0;32m      1\u001b[0m \u001b[0mrf_grid\u001b[0m \u001b[1;33m=\u001b[0m \u001b[0mcu\u001b[0m\u001b[1;33m.\u001b[0m\u001b[0mrf_grid_search\u001b[0m\u001b[1;33m(\u001b[0m\u001b[0mNUM_FOLDS\u001b[0m\u001b[1;33m,\u001b[0m \u001b[1;36m2\u001b[0m\u001b[1;33m)\u001b[0m\u001b[1;33m\u001b[0m\u001b[0m\n\u001b[0;32m      2\u001b[0m \u001b[1;33m\u001b[0m\u001b[0m\n\u001b[1;32m----> 3\u001b[1;33m \u001b[0mrf_grid\u001b[0m\u001b[1;33m.\u001b[0m\u001b[0mfit\u001b[0m\u001b[1;33m(\u001b[0m\u001b[0mtransformed_df\u001b[0m\u001b[1;33m,\u001b[0m \u001b[0mlabels\u001b[0m\u001b[1;33m)\u001b[0m\u001b[1;33m\u001b[0m\u001b[0m\n\u001b[0m\u001b[0;32m      4\u001b[0m \u001b[1;33m\u001b[0m\u001b[0m\n\u001b[0;32m      5\u001b[0m \u001b[0mprint\u001b[0m\u001b[1;33m(\u001b[0m\u001b[1;34m'Best Random Forest parameters:\\n'\u001b[0m\u001b[1;33m,\u001b[0m \u001b[0mrf_grid\u001b[0m\u001b[1;33m.\u001b[0m\u001b[0mbest_params_\u001b[0m\u001b[1;33m)\u001b[0m\u001b[1;33m\u001b[0m\u001b[0m\n",
      "\u001b[1;32m~\\AppData\\Local\\Continuum\\anaconda3\\lib\\site-packages\\sklearn\\model_selection\\_search.py\u001b[0m in \u001b[0;36mfit\u001b[1;34m(self, X, y, groups, **fit_params)\u001b[0m\n\u001b[0;32m    637\u001b[0m                                   error_score=self.error_score)\n\u001b[0;32m    638\u001b[0m           for parameters, (train, test) in product(candidate_params,\n\u001b[1;32m--> 639\u001b[1;33m                                                    cv.split(X, y, groups)))\n\u001b[0m\u001b[0;32m    640\u001b[0m \u001b[1;33m\u001b[0m\u001b[0m\n\u001b[0;32m    641\u001b[0m         \u001b[1;31m# if one choose to see train score, \"out\" will contain train score info\u001b[0m\u001b[1;33m\u001b[0m\u001b[1;33m\u001b[0m\u001b[0m\n",
      "\u001b[1;32m~\\AppData\\Local\\Continuum\\anaconda3\\lib\\site-packages\\sklearn\\externals\\joblib\\parallel.py\u001b[0m in \u001b[0;36m__call__\u001b[1;34m(self, iterable)\u001b[0m\n\u001b[0;32m    787\u001b[0m                 \u001b[1;31m# consumption.\u001b[0m\u001b[1;33m\u001b[0m\u001b[1;33m\u001b[0m\u001b[0m\n\u001b[0;32m    788\u001b[0m                 \u001b[0mself\u001b[0m\u001b[1;33m.\u001b[0m\u001b[0m_iterating\u001b[0m \u001b[1;33m=\u001b[0m \u001b[1;32mFalse\u001b[0m\u001b[1;33m\u001b[0m\u001b[0m\n\u001b[1;32m--> 789\u001b[1;33m             \u001b[0mself\u001b[0m\u001b[1;33m.\u001b[0m\u001b[0mretrieve\u001b[0m\u001b[1;33m(\u001b[0m\u001b[1;33m)\u001b[0m\u001b[1;33m\u001b[0m\u001b[0m\n\u001b[0m\u001b[0;32m    790\u001b[0m             \u001b[1;31m# Make sure that we get a last message telling us we are done\u001b[0m\u001b[1;33m\u001b[0m\u001b[1;33m\u001b[0m\u001b[0m\n\u001b[0;32m    791\u001b[0m             \u001b[0melapsed_time\u001b[0m \u001b[1;33m=\u001b[0m \u001b[0mtime\u001b[0m\u001b[1;33m.\u001b[0m\u001b[0mtime\u001b[0m\u001b[1;33m(\u001b[0m\u001b[1;33m)\u001b[0m \u001b[1;33m-\u001b[0m \u001b[0mself\u001b[0m\u001b[1;33m.\u001b[0m\u001b[0m_start_time\u001b[0m\u001b[1;33m\u001b[0m\u001b[0m\n",
      "\u001b[1;32m~\\AppData\\Local\\Continuum\\anaconda3\\lib\\site-packages\\sklearn\\externals\\joblib\\parallel.py\u001b[0m in \u001b[0;36mretrieve\u001b[1;34m(self)\u001b[0m\n\u001b[0;32m    697\u001b[0m             \u001b[1;32mtry\u001b[0m\u001b[1;33m:\u001b[0m\u001b[1;33m\u001b[0m\u001b[0m\n\u001b[0;32m    698\u001b[0m                 \u001b[1;32mif\u001b[0m \u001b[0mgetattr\u001b[0m\u001b[1;33m(\u001b[0m\u001b[0mself\u001b[0m\u001b[1;33m.\u001b[0m\u001b[0m_backend\u001b[0m\u001b[1;33m,\u001b[0m \u001b[1;34m'supports_timeout'\u001b[0m\u001b[1;33m,\u001b[0m \u001b[1;32mFalse\u001b[0m\u001b[1;33m)\u001b[0m\u001b[1;33m:\u001b[0m\u001b[1;33m\u001b[0m\u001b[0m\n\u001b[1;32m--> 699\u001b[1;33m                     \u001b[0mself\u001b[0m\u001b[1;33m.\u001b[0m\u001b[0m_output\u001b[0m\u001b[1;33m.\u001b[0m\u001b[0mextend\u001b[0m\u001b[1;33m(\u001b[0m\u001b[0mjob\u001b[0m\u001b[1;33m.\u001b[0m\u001b[0mget\u001b[0m\u001b[1;33m(\u001b[0m\u001b[0mtimeout\u001b[0m\u001b[1;33m=\u001b[0m\u001b[0mself\u001b[0m\u001b[1;33m.\u001b[0m\u001b[0mtimeout\u001b[0m\u001b[1;33m)\u001b[0m\u001b[1;33m)\u001b[0m\u001b[1;33m\u001b[0m\u001b[0m\n\u001b[0m\u001b[0;32m    700\u001b[0m                 \u001b[1;32melse\u001b[0m\u001b[1;33m:\u001b[0m\u001b[1;33m\u001b[0m\u001b[0m\n\u001b[0;32m    701\u001b[0m                     \u001b[0mself\u001b[0m\u001b[1;33m.\u001b[0m\u001b[0m_output\u001b[0m\u001b[1;33m.\u001b[0m\u001b[0mextend\u001b[0m\u001b[1;33m(\u001b[0m\u001b[0mjob\u001b[0m\u001b[1;33m.\u001b[0m\u001b[0mget\u001b[0m\u001b[1;33m(\u001b[0m\u001b[1;33m)\u001b[0m\u001b[1;33m)\u001b[0m\u001b[1;33m\u001b[0m\u001b[0m\n",
      "\u001b[1;32m~\\AppData\\Local\\Continuum\\anaconda3\\lib\\multiprocessing\\pool.py\u001b[0m in \u001b[0;36mget\u001b[1;34m(self, timeout)\u001b[0m\n\u001b[0;32m    636\u001b[0m \u001b[1;33m\u001b[0m\u001b[0m\n\u001b[0;32m    637\u001b[0m     \u001b[1;32mdef\u001b[0m \u001b[0mget\u001b[0m\u001b[1;33m(\u001b[0m\u001b[0mself\u001b[0m\u001b[1;33m,\u001b[0m \u001b[0mtimeout\u001b[0m\u001b[1;33m=\u001b[0m\u001b[1;32mNone\u001b[0m\u001b[1;33m)\u001b[0m\u001b[1;33m:\u001b[0m\u001b[1;33m\u001b[0m\u001b[0m\n\u001b[1;32m--> 638\u001b[1;33m         \u001b[0mself\u001b[0m\u001b[1;33m.\u001b[0m\u001b[0mwait\u001b[0m\u001b[1;33m(\u001b[0m\u001b[0mtimeout\u001b[0m\u001b[1;33m)\u001b[0m\u001b[1;33m\u001b[0m\u001b[0m\n\u001b[0m\u001b[0;32m    639\u001b[0m         \u001b[1;32mif\u001b[0m \u001b[1;32mnot\u001b[0m \u001b[0mself\u001b[0m\u001b[1;33m.\u001b[0m\u001b[0mready\u001b[0m\u001b[1;33m(\u001b[0m\u001b[1;33m)\u001b[0m\u001b[1;33m:\u001b[0m\u001b[1;33m\u001b[0m\u001b[0m\n\u001b[0;32m    640\u001b[0m             \u001b[1;32mraise\u001b[0m \u001b[0mTimeoutError\u001b[0m\u001b[1;33m\u001b[0m\u001b[0m\n",
      "\u001b[1;32m~\\AppData\\Local\\Continuum\\anaconda3\\lib\\multiprocessing\\pool.py\u001b[0m in \u001b[0;36mwait\u001b[1;34m(self, timeout)\u001b[0m\n\u001b[0;32m    633\u001b[0m \u001b[1;33m\u001b[0m\u001b[0m\n\u001b[0;32m    634\u001b[0m     \u001b[1;32mdef\u001b[0m \u001b[0mwait\u001b[0m\u001b[1;33m(\u001b[0m\u001b[0mself\u001b[0m\u001b[1;33m,\u001b[0m \u001b[0mtimeout\u001b[0m\u001b[1;33m=\u001b[0m\u001b[1;32mNone\u001b[0m\u001b[1;33m)\u001b[0m\u001b[1;33m:\u001b[0m\u001b[1;33m\u001b[0m\u001b[0m\n\u001b[1;32m--> 635\u001b[1;33m         \u001b[0mself\u001b[0m\u001b[1;33m.\u001b[0m\u001b[0m_event\u001b[0m\u001b[1;33m.\u001b[0m\u001b[0mwait\u001b[0m\u001b[1;33m(\u001b[0m\u001b[0mtimeout\u001b[0m\u001b[1;33m)\u001b[0m\u001b[1;33m\u001b[0m\u001b[0m\n\u001b[0m\u001b[0;32m    636\u001b[0m \u001b[1;33m\u001b[0m\u001b[0m\n\u001b[0;32m    637\u001b[0m     \u001b[1;32mdef\u001b[0m \u001b[0mget\u001b[0m\u001b[1;33m(\u001b[0m\u001b[0mself\u001b[0m\u001b[1;33m,\u001b[0m \u001b[0mtimeout\u001b[0m\u001b[1;33m=\u001b[0m\u001b[1;32mNone\u001b[0m\u001b[1;33m)\u001b[0m\u001b[1;33m:\u001b[0m\u001b[1;33m\u001b[0m\u001b[0m\n",
      "\u001b[1;32m~\\AppData\\Local\\Continuum\\anaconda3\\lib\\threading.py\u001b[0m in \u001b[0;36mwait\u001b[1;34m(self, timeout)\u001b[0m\n\u001b[0;32m    549\u001b[0m             \u001b[0msignaled\u001b[0m \u001b[1;33m=\u001b[0m \u001b[0mself\u001b[0m\u001b[1;33m.\u001b[0m\u001b[0m_flag\u001b[0m\u001b[1;33m\u001b[0m\u001b[0m\n\u001b[0;32m    550\u001b[0m             \u001b[1;32mif\u001b[0m \u001b[1;32mnot\u001b[0m \u001b[0msignaled\u001b[0m\u001b[1;33m:\u001b[0m\u001b[1;33m\u001b[0m\u001b[0m\n\u001b[1;32m--> 551\u001b[1;33m                 \u001b[0msignaled\u001b[0m \u001b[1;33m=\u001b[0m \u001b[0mself\u001b[0m\u001b[1;33m.\u001b[0m\u001b[0m_cond\u001b[0m\u001b[1;33m.\u001b[0m\u001b[0mwait\u001b[0m\u001b[1;33m(\u001b[0m\u001b[0mtimeout\u001b[0m\u001b[1;33m)\u001b[0m\u001b[1;33m\u001b[0m\u001b[0m\n\u001b[0m\u001b[0;32m    552\u001b[0m             \u001b[1;32mreturn\u001b[0m \u001b[0msignaled\u001b[0m\u001b[1;33m\u001b[0m\u001b[0m\n\u001b[0;32m    553\u001b[0m \u001b[1;33m\u001b[0m\u001b[0m\n",
      "\u001b[1;32m~\\AppData\\Local\\Continuum\\anaconda3\\lib\\threading.py\u001b[0m in \u001b[0;36mwait\u001b[1;34m(self, timeout)\u001b[0m\n\u001b[0;32m    293\u001b[0m         \u001b[1;32mtry\u001b[0m\u001b[1;33m:\u001b[0m    \u001b[1;31m# restore state no matter what (e.g., KeyboardInterrupt)\u001b[0m\u001b[1;33m\u001b[0m\u001b[0m\n\u001b[0;32m    294\u001b[0m             \u001b[1;32mif\u001b[0m \u001b[0mtimeout\u001b[0m \u001b[1;32mis\u001b[0m \u001b[1;32mNone\u001b[0m\u001b[1;33m:\u001b[0m\u001b[1;33m\u001b[0m\u001b[0m\n\u001b[1;32m--> 295\u001b[1;33m                 \u001b[0mwaiter\u001b[0m\u001b[1;33m.\u001b[0m\u001b[0macquire\u001b[0m\u001b[1;33m(\u001b[0m\u001b[1;33m)\u001b[0m\u001b[1;33m\u001b[0m\u001b[0m\n\u001b[0m\u001b[0;32m    296\u001b[0m                 \u001b[0mgotit\u001b[0m \u001b[1;33m=\u001b[0m \u001b[1;32mTrue\u001b[0m\u001b[1;33m\u001b[0m\u001b[0m\n\u001b[0;32m    297\u001b[0m             \u001b[1;32melse\u001b[0m\u001b[1;33m:\u001b[0m\u001b[1;33m\u001b[0m\u001b[0m\n",
      "\u001b[1;31mKeyboardInterrupt\u001b[0m: "
     ]
    }
   ],
   "source": [
    "rf_grid = cu.rf_grid_search(NUM_FOLDS, 2)\n",
    "\n",
    "rf_grid.fit(transformed_df, labels)\n",
    "\n",
    "print('Best Random Forest parameters:\\n', rf_grid.best_params_)\n",
    "print('\\nBest Cross-Validation score:\\n', rf_grid.best_score_)\n",
    "\n",
    "print(\"--- %s minutes ---\" % ((time.time() - start_time)/60))"
   ]
  },
  {
   "cell_type": "markdown",
   "metadata": {},
   "source": [
    "### SVC grid search"
   ]
  },
  {
   "cell_type": "code",
   "execution_count": null,
   "metadata": {
    "collapsed": true
   },
   "outputs": [],
   "source": [
    "svc_grid = cu.svc_grid_search(NUM_FOLDS, 2)\n",
    "\n",
    "svc_grid.fit(transformed_df, labels)\n",
    "\n",
    "print('Best SVC parameters:\\n', svc_grid.best_params_)\n",
    "print('\\nBest Cross-Validation score:\\n', svc_grid.best_score_)\n",
    "\n",
    "print(\"--- %s minutes ---\" % ((time.time() - start_time)/60))"
   ]
  },
  {
   "cell_type": "markdown",
   "metadata": {},
   "source": [
    "## PCA of data reduced according to best grid search reduction method"
   ]
  },
  {
   "cell_type": "code",
   "execution_count": null,
   "metadata": {
    "collapsed": true
   },
   "outputs": [],
   "source": [
    "from sklearn.feature_selection import SelectPercentile\n",
    "\n",
    "percentile_75_df = SelectPercentile(percentile=75).fit_transform(transformed_df, labels)\n",
    "percentile_75_df.shape"
   ]
  },
  {
   "cell_type": "code",
   "execution_count": null,
   "metadata": {
    "collapsed": true
   },
   "outputs": [],
   "source": [
    "pca_percentile = PCA() # create a PCA object\n",
    "pca_percentile.fit(percentile_75_df) # do the math\n",
    "pca_data_percentile = pca_percentile.transform(percentile_75_df) # get PCA coordinates for dataframe\n",
    "\n",
    "per_var_percentile, pca_labels_percentile = mq.make_scree_plot(pca_percentile, image_dir, 'Scree_75_Percentile')\n",
    "mq.draw_pca_graph2(column_names, pca_data_percentile, image_dir, column_to_color, per_var_percentile, pca_labels_percentile, tissues, tissues_to_columns, 'PCA_75_Percentile')"
   ]
  },
  {
   "cell_type": "markdown",
   "metadata": {},
   "source": [
    "## Top expressed peptides per tissue"
   ]
  },
  {
   "cell_type": "code",
   "execution_count": null,
   "metadata": {
    "collapsed": true,
    "scrolled": true
   },
   "outputs": [],
   "source": [
    "cu.print_top_n_features(df, rf, 10)\n",
    "cu.print_top_n_features_coef(df, lr, 10, tissues)"
   ]
  },
  {
   "cell_type": "markdown",
   "metadata": {},
   "source": [
    "## Save model, test new data\n",
    "* Save array/dataframe of features (via joblib) along with final model\n",
    "* Write script to classify new data-- load features and fit new data on them"
   ]
  },
  {
   "cell_type": "code",
   "execution_count": 32,
   "metadata": {},
   "outputs": [],
   "source": [
    "filename = r'Trained_Models\\highqual_crossval_gbc.sav'\n",
    "joblib.dump(gbc, open(filename, 'wb'))"
   ]
  },
  {
   "cell_type": "markdown",
   "metadata": {},
   "source": [
    "### Load new data (test set)"
   ]
  },
  {
   "cell_type": "code",
   "execution_count": 59,
   "metadata": {},
   "outputs": [
    {
     "ename": "ValueError",
     "evalue": "Input contains NaN, infinity or a value too large for dtype('float64').",
     "output_type": "error",
     "traceback": [
      "\u001b[1;31m---------------------------------------------------------------------------\u001b[0m",
      "\u001b[1;31mValueError\u001b[0m                                Traceback (most recent call last)",
      "\u001b[1;32m<ipython-input-59-b49c4208ad4b>\u001b[0m in \u001b[0;36m<module>\u001b[1;34m()\u001b[0m\n\u001b[0;32m     13\u001b[0m             \u001b[1;32mcontinue\u001b[0m\u001b[1;33m\u001b[0m\u001b[0m\n\u001b[0;32m     14\u001b[0m \u001b[1;33m\u001b[0m\u001b[0m\n\u001b[1;32m---> 15\u001b[1;33m \u001b[0mtest_data\u001b[0m \u001b[1;33m=\u001b[0m \u001b[0mcu\u001b[0m\u001b[1;33m.\u001b[0m\u001b[0mkeep_k_best_features\u001b[0m\u001b[1;33m(\u001b[0m\u001b[0mtest_data\u001b[0m\u001b[1;33m,\u001b[0m \u001b[0mtest_labels\u001b[0m\u001b[1;33m,\u001b[0m \u001b[1;36m2500\u001b[0m\u001b[1;33m)\u001b[0m\u001b[1;33m\u001b[0m\u001b[0m\n\u001b[0m\u001b[0;32m     16\u001b[0m \u001b[1;33m\u001b[0m\u001b[0m\n\u001b[0;32m     17\u001b[0m \u001b[0mtest_data\u001b[0m \u001b[1;33m=\u001b[0m \u001b[0mcu\u001b[0m\u001b[1;33m.\u001b[0m\u001b[0mfit_new_data\u001b[0m\u001b[1;33m(\u001b[0m\u001b[0moriginal_df\u001b[0m\u001b[1;33m,\u001b[0m \u001b[0mtest_data\u001b[0m\u001b[1;33m)\u001b[0m\u001b[1;33m\u001b[0m\u001b[0m\n",
      "\u001b[1;32m~\\Documents\\Proteomics_Data_Processing\\Classifiers\\Classification_Utils.py\u001b[0m in \u001b[0;36mkeep_k_best_features\u001b[1;34m(df, labels, k)\u001b[0m\n\u001b[0;32m    682\u001b[0m \u001b[1;33m\u001b[0m\u001b[0m\n\u001b[0;32m    683\u001b[0m     \u001b[0mselect_k_best_classifier\u001b[0m \u001b[1;33m=\u001b[0m \u001b[0mSelectKBest\u001b[0m\u001b[1;33m(\u001b[0m\u001b[0mk\u001b[0m\u001b[1;33m=\u001b[0m\u001b[0mk\u001b[0m\u001b[1;33m)\u001b[0m\u001b[1;33m\u001b[0m\u001b[0m\n\u001b[1;32m--> 684\u001b[1;33m     \u001b[0mkbest\u001b[0m \u001b[1;33m=\u001b[0m \u001b[0mselect_k_best_classifier\u001b[0m\u001b[1;33m.\u001b[0m\u001b[0mfit_transform\u001b[0m\u001b[1;33m(\u001b[0m\u001b[0mdf\u001b[0m\u001b[1;33m[\u001b[0m\u001b[1;33m:\u001b[0m\u001b[1;33m]\u001b[0m\u001b[1;33m.\u001b[0m\u001b[0mT\u001b[0m\u001b[1;33m,\u001b[0m \u001b[0mlabels\u001b[0m\u001b[1;33m)\u001b[0m\u001b[1;33m\u001b[0m\u001b[0m\n\u001b[0m\u001b[0;32m    685\u001b[0m \u001b[1;33m\u001b[0m\u001b[0m\n\u001b[0;32m    686\u001b[0m     \u001b[0mfit_transformed_features\u001b[0m \u001b[1;33m=\u001b[0m \u001b[0mselect_k_best_classifier\u001b[0m\u001b[1;33m.\u001b[0m\u001b[0mget_support\u001b[0m\u001b[1;33m(\u001b[0m\u001b[1;33m)\u001b[0m\u001b[1;33m\u001b[0m\u001b[0m\n",
      "\u001b[1;32m~\\AppData\\Local\\Continuum\\anaconda3\\lib\\site-packages\\sklearn\\base.py\u001b[0m in \u001b[0;36mfit_transform\u001b[1;34m(self, X, y, **fit_params)\u001b[0m\n\u001b[0;32m    518\u001b[0m         \u001b[1;32melse\u001b[0m\u001b[1;33m:\u001b[0m\u001b[1;33m\u001b[0m\u001b[0m\n\u001b[0;32m    519\u001b[0m             \u001b[1;31m# fit method of arity 2 (supervised transformation)\u001b[0m\u001b[1;33m\u001b[0m\u001b[1;33m\u001b[0m\u001b[0m\n\u001b[1;32m--> 520\u001b[1;33m             \u001b[1;32mreturn\u001b[0m \u001b[0mself\u001b[0m\u001b[1;33m.\u001b[0m\u001b[0mfit\u001b[0m\u001b[1;33m(\u001b[0m\u001b[0mX\u001b[0m\u001b[1;33m,\u001b[0m \u001b[0my\u001b[0m\u001b[1;33m,\u001b[0m \u001b[1;33m**\u001b[0m\u001b[0mfit_params\u001b[0m\u001b[1;33m)\u001b[0m\u001b[1;33m.\u001b[0m\u001b[0mtransform\u001b[0m\u001b[1;33m(\u001b[0m\u001b[0mX\u001b[0m\u001b[1;33m)\u001b[0m\u001b[1;33m\u001b[0m\u001b[0m\n\u001b[0m\u001b[0;32m    521\u001b[0m \u001b[1;33m\u001b[0m\u001b[0m\n\u001b[0;32m    522\u001b[0m \u001b[1;33m\u001b[0m\u001b[0m\n",
      "\u001b[1;32m~\\AppData\\Local\\Continuum\\anaconda3\\lib\\site-packages\\sklearn\\feature_selection\\univariate_selection.py\u001b[0m in \u001b[0;36mfit\u001b[1;34m(self, X, y)\u001b[0m\n\u001b[0;32m    339\u001b[0m             \u001b[0mReturns\u001b[0m \u001b[0mself\u001b[0m\u001b[1;33m.\u001b[0m\u001b[1;33m\u001b[0m\u001b[0m\n\u001b[0;32m    340\u001b[0m         \"\"\"\n\u001b[1;32m--> 341\u001b[1;33m         \u001b[0mX\u001b[0m\u001b[1;33m,\u001b[0m \u001b[0my\u001b[0m \u001b[1;33m=\u001b[0m \u001b[0mcheck_X_y\u001b[0m\u001b[1;33m(\u001b[0m\u001b[0mX\u001b[0m\u001b[1;33m,\u001b[0m \u001b[0my\u001b[0m\u001b[1;33m,\u001b[0m \u001b[1;33m[\u001b[0m\u001b[1;34m'csr'\u001b[0m\u001b[1;33m,\u001b[0m \u001b[1;34m'csc'\u001b[0m\u001b[1;33m]\u001b[0m\u001b[1;33m,\u001b[0m \u001b[0mmulti_output\u001b[0m\u001b[1;33m=\u001b[0m\u001b[1;32mTrue\u001b[0m\u001b[1;33m)\u001b[0m\u001b[1;33m\u001b[0m\u001b[0m\n\u001b[0m\u001b[0;32m    342\u001b[0m \u001b[1;33m\u001b[0m\u001b[0m\n\u001b[0;32m    343\u001b[0m         \u001b[1;32mif\u001b[0m \u001b[1;32mnot\u001b[0m \u001b[0mcallable\u001b[0m\u001b[1;33m(\u001b[0m\u001b[0mself\u001b[0m\u001b[1;33m.\u001b[0m\u001b[0mscore_func\u001b[0m\u001b[1;33m)\u001b[0m\u001b[1;33m:\u001b[0m\u001b[1;33m\u001b[0m\u001b[0m\n",
      "\u001b[1;32m~\\AppData\\Local\\Continuum\\anaconda3\\lib\\site-packages\\sklearn\\utils\\validation.py\u001b[0m in \u001b[0;36mcheck_X_y\u001b[1;34m(X, y, accept_sparse, dtype, order, copy, force_all_finite, ensure_2d, allow_nd, multi_output, ensure_min_samples, ensure_min_features, y_numeric, warn_on_dtype, estimator)\u001b[0m\n\u001b[0;32m    571\u001b[0m     X = check_array(X, accept_sparse, dtype, order, copy, force_all_finite,\n\u001b[0;32m    572\u001b[0m                     \u001b[0mensure_2d\u001b[0m\u001b[1;33m,\u001b[0m \u001b[0mallow_nd\u001b[0m\u001b[1;33m,\u001b[0m \u001b[0mensure_min_samples\u001b[0m\u001b[1;33m,\u001b[0m\u001b[1;33m\u001b[0m\u001b[0m\n\u001b[1;32m--> 573\u001b[1;33m                     ensure_min_features, warn_on_dtype, estimator)\n\u001b[0m\u001b[0;32m    574\u001b[0m     \u001b[1;32mif\u001b[0m \u001b[0mmulti_output\u001b[0m\u001b[1;33m:\u001b[0m\u001b[1;33m\u001b[0m\u001b[0m\n\u001b[0;32m    575\u001b[0m         y = check_array(y, 'csr', force_all_finite=True, ensure_2d=False,\n",
      "\u001b[1;32m~\\AppData\\Local\\Continuum\\anaconda3\\lib\\site-packages\\sklearn\\utils\\validation.py\u001b[0m in \u001b[0;36mcheck_array\u001b[1;34m(array, accept_sparse, dtype, order, copy, force_all_finite, ensure_2d, allow_nd, ensure_min_samples, ensure_min_features, warn_on_dtype, estimator)\u001b[0m\n\u001b[0;32m    451\u001b[0m                              % (array.ndim, estimator_name))\n\u001b[0;32m    452\u001b[0m         \u001b[1;32mif\u001b[0m \u001b[0mforce_all_finite\u001b[0m\u001b[1;33m:\u001b[0m\u001b[1;33m\u001b[0m\u001b[0m\n\u001b[1;32m--> 453\u001b[1;33m             \u001b[0m_assert_all_finite\u001b[0m\u001b[1;33m(\u001b[0m\u001b[0marray\u001b[0m\u001b[1;33m)\u001b[0m\u001b[1;33m\u001b[0m\u001b[0m\n\u001b[0m\u001b[0;32m    454\u001b[0m \u001b[1;33m\u001b[0m\u001b[0m\n\u001b[0;32m    455\u001b[0m     \u001b[0mshape_repr\u001b[0m \u001b[1;33m=\u001b[0m \u001b[0m_shape_repr\u001b[0m\u001b[1;33m(\u001b[0m\u001b[0marray\u001b[0m\u001b[1;33m.\u001b[0m\u001b[0mshape\u001b[0m\u001b[1;33m)\u001b[0m\u001b[1;33m\u001b[0m\u001b[0m\n",
      "\u001b[1;32m~\\AppData\\Local\\Continuum\\anaconda3\\lib\\site-packages\\sklearn\\utils\\validation.py\u001b[0m in \u001b[0;36m_assert_all_finite\u001b[1;34m(X)\u001b[0m\n\u001b[0;32m     42\u001b[0m             and not np.isfinite(X).all()):\n\u001b[0;32m     43\u001b[0m         raise ValueError(\"Input contains NaN, infinity\"\n\u001b[1;32m---> 44\u001b[1;33m                          \" or a value too large for %r.\" % X.dtype)\n\u001b[0m\u001b[0;32m     45\u001b[0m \u001b[1;33m\u001b[0m\u001b[0m\n\u001b[0;32m     46\u001b[0m \u001b[1;33m\u001b[0m\u001b[0m\n",
      "\u001b[1;31mValueError\u001b[0m: Input contains NaN, infinity or a value too large for dtype('float64')."
     ]
    }
   ],
   "source": [
    "TEST_SET_DIR = 'F:\\Test_Set\\\\'\n",
    "\n",
    "test_paths = listdir(TEST_SET_DIR) \n",
    "\n",
    "test_data = cu.combine_csvs(TEST_SET_DIR, test_paths)\n",
    "\n",
    "### Generate test_labels. Columns in test set must start with [Tissue Name]\n",
    "test_labels = []\n",
    "for col in test_data.columns.values.tolist():\n",
    "    for tissue in tissues:\n",
    "        if col.startswith(tissue):\n",
    "            test_labels.append(tissue)\n",
    "            continue\n",
    "\n",
    "test_data = reduce_features(test_df)\n",
    "\n",
    "test_data = cu.fit_new_data(original_df, test_data)"
   ]
  },
  {
   "cell_type": "code",
   "execution_count": 58,
   "metadata": {},
   "outputs": [
    {
     "ename": "ValueError",
     "evalue": "Found input variables with inconsistent numbers of samples: [119916, 79]",
     "output_type": "error",
     "traceback": [
      "\u001b[1;31m---------------------------------------------------------------------------\u001b[0m",
      "\u001b[1;31mValueError\u001b[0m                                Traceback (most recent call last)",
      "\u001b[1;32m<ipython-input-58-10e5f8194e1d>\u001b[0m in \u001b[0;36m<module>\u001b[1;34m()\u001b[0m\n\u001b[1;32m----> 1\u001b[1;33m \u001b[0mtest_data\u001b[0m \u001b[1;33m=\u001b[0m \u001b[0mcu\u001b[0m\u001b[1;33m.\u001b[0m\u001b[0mkeep_k_best_features\u001b[0m\u001b[1;33m(\u001b[0m\u001b[0mtest_data\u001b[0m\u001b[1;33m,\u001b[0m \u001b[0mtest_labels\u001b[0m\u001b[1;33m,\u001b[0m \u001b[1;36m2500\u001b[0m\u001b[1;33m)\u001b[0m\u001b[1;33m\u001b[0m\u001b[0m\n\u001b[0m",
      "\u001b[1;32m~\\Documents\\Proteomics_Data_Processing\\Classifiers\\Classification_Utils.py\u001b[0m in \u001b[0;36mkeep_k_best_features\u001b[1;34m(df, labels, k)\u001b[0m\n\u001b[0;32m    682\u001b[0m \u001b[1;33m\u001b[0m\u001b[0m\n\u001b[0;32m    683\u001b[0m     \u001b[0mselect_k_best_classifier\u001b[0m \u001b[1;33m=\u001b[0m \u001b[0mSelectKBest\u001b[0m\u001b[1;33m(\u001b[0m\u001b[0mk\u001b[0m\u001b[1;33m=\u001b[0m\u001b[0mk\u001b[0m\u001b[1;33m)\u001b[0m\u001b[1;33m\u001b[0m\u001b[0m\n\u001b[1;32m--> 684\u001b[1;33m     \u001b[0mkbest\u001b[0m \u001b[1;33m=\u001b[0m \u001b[0mselect_k_best_classifier\u001b[0m\u001b[1;33m.\u001b[0m\u001b[0mfit_transform\u001b[0m\u001b[1;33m(\u001b[0m\u001b[0mdf\u001b[0m\u001b[1;33m[\u001b[0m\u001b[1;33m:\u001b[0m\u001b[1;33m]\u001b[0m\u001b[1;33m.\u001b[0m\u001b[0mT\u001b[0m\u001b[1;33m,\u001b[0m \u001b[0mlabels\u001b[0m\u001b[1;33m)\u001b[0m\u001b[1;33m\u001b[0m\u001b[0m\n\u001b[0m\u001b[0;32m    685\u001b[0m \u001b[1;33m\u001b[0m\u001b[0m\n\u001b[0;32m    686\u001b[0m     \u001b[0mfit_transformed_features\u001b[0m \u001b[1;33m=\u001b[0m \u001b[0mselect_k_best_classifier\u001b[0m\u001b[1;33m.\u001b[0m\u001b[0mget_support\u001b[0m\u001b[1;33m(\u001b[0m\u001b[1;33m)\u001b[0m\u001b[1;33m\u001b[0m\u001b[0m\n",
      "\u001b[1;32m~\\AppData\\Local\\Continuum\\anaconda3\\lib\\site-packages\\sklearn\\base.py\u001b[0m in \u001b[0;36mfit_transform\u001b[1;34m(self, X, y, **fit_params)\u001b[0m\n\u001b[0;32m    518\u001b[0m         \u001b[1;32melse\u001b[0m\u001b[1;33m:\u001b[0m\u001b[1;33m\u001b[0m\u001b[0m\n\u001b[0;32m    519\u001b[0m             \u001b[1;31m# fit method of arity 2 (supervised transformation)\u001b[0m\u001b[1;33m\u001b[0m\u001b[1;33m\u001b[0m\u001b[0m\n\u001b[1;32m--> 520\u001b[1;33m             \u001b[1;32mreturn\u001b[0m \u001b[0mself\u001b[0m\u001b[1;33m.\u001b[0m\u001b[0mfit\u001b[0m\u001b[1;33m(\u001b[0m\u001b[0mX\u001b[0m\u001b[1;33m,\u001b[0m \u001b[0my\u001b[0m\u001b[1;33m,\u001b[0m \u001b[1;33m**\u001b[0m\u001b[0mfit_params\u001b[0m\u001b[1;33m)\u001b[0m\u001b[1;33m.\u001b[0m\u001b[0mtransform\u001b[0m\u001b[1;33m(\u001b[0m\u001b[0mX\u001b[0m\u001b[1;33m)\u001b[0m\u001b[1;33m\u001b[0m\u001b[0m\n\u001b[0m\u001b[0;32m    521\u001b[0m \u001b[1;33m\u001b[0m\u001b[0m\n\u001b[0;32m    522\u001b[0m \u001b[1;33m\u001b[0m\u001b[0m\n",
      "\u001b[1;32m~\\AppData\\Local\\Continuum\\anaconda3\\lib\\site-packages\\sklearn\\feature_selection\\univariate_selection.py\u001b[0m in \u001b[0;36mfit\u001b[1;34m(self, X, y)\u001b[0m\n\u001b[0;32m    339\u001b[0m             \u001b[0mReturns\u001b[0m \u001b[0mself\u001b[0m\u001b[1;33m.\u001b[0m\u001b[1;33m\u001b[0m\u001b[0m\n\u001b[0;32m    340\u001b[0m         \"\"\"\n\u001b[1;32m--> 341\u001b[1;33m         \u001b[0mX\u001b[0m\u001b[1;33m,\u001b[0m \u001b[0my\u001b[0m \u001b[1;33m=\u001b[0m \u001b[0mcheck_X_y\u001b[0m\u001b[1;33m(\u001b[0m\u001b[0mX\u001b[0m\u001b[1;33m,\u001b[0m \u001b[0my\u001b[0m\u001b[1;33m,\u001b[0m \u001b[1;33m[\u001b[0m\u001b[1;34m'csr'\u001b[0m\u001b[1;33m,\u001b[0m \u001b[1;34m'csc'\u001b[0m\u001b[1;33m]\u001b[0m\u001b[1;33m,\u001b[0m \u001b[0mmulti_output\u001b[0m\u001b[1;33m=\u001b[0m\u001b[1;32mTrue\u001b[0m\u001b[1;33m)\u001b[0m\u001b[1;33m\u001b[0m\u001b[0m\n\u001b[0m\u001b[0;32m    342\u001b[0m \u001b[1;33m\u001b[0m\u001b[0m\n\u001b[0;32m    343\u001b[0m         \u001b[1;32mif\u001b[0m \u001b[1;32mnot\u001b[0m \u001b[0mcallable\u001b[0m\u001b[1;33m(\u001b[0m\u001b[0mself\u001b[0m\u001b[1;33m.\u001b[0m\u001b[0mscore_func\u001b[0m\u001b[1;33m)\u001b[0m\u001b[1;33m:\u001b[0m\u001b[1;33m\u001b[0m\u001b[0m\n",
      "\u001b[1;32m~\\AppData\\Local\\Continuum\\anaconda3\\lib\\site-packages\\sklearn\\utils\\validation.py\u001b[0m in \u001b[0;36mcheck_X_y\u001b[1;34m(X, y, accept_sparse, dtype, order, copy, force_all_finite, ensure_2d, allow_nd, multi_output, ensure_min_samples, ensure_min_features, y_numeric, warn_on_dtype, estimator)\u001b[0m\n\u001b[0;32m    581\u001b[0m         \u001b[0my\u001b[0m \u001b[1;33m=\u001b[0m \u001b[0my\u001b[0m\u001b[1;33m.\u001b[0m\u001b[0mastype\u001b[0m\u001b[1;33m(\u001b[0m\u001b[0mnp\u001b[0m\u001b[1;33m.\u001b[0m\u001b[0mfloat64\u001b[0m\u001b[1;33m)\u001b[0m\u001b[1;33m\u001b[0m\u001b[0m\n\u001b[0;32m    582\u001b[0m \u001b[1;33m\u001b[0m\u001b[0m\n\u001b[1;32m--> 583\u001b[1;33m     \u001b[0mcheck_consistent_length\u001b[0m\u001b[1;33m(\u001b[0m\u001b[0mX\u001b[0m\u001b[1;33m,\u001b[0m \u001b[0my\u001b[0m\u001b[1;33m)\u001b[0m\u001b[1;33m\u001b[0m\u001b[0m\n\u001b[0m\u001b[0;32m    584\u001b[0m \u001b[1;33m\u001b[0m\u001b[0m\n\u001b[0;32m    585\u001b[0m     \u001b[1;32mreturn\u001b[0m \u001b[0mX\u001b[0m\u001b[1;33m,\u001b[0m \u001b[0my\u001b[0m\u001b[1;33m\u001b[0m\u001b[0m\n",
      "\u001b[1;32m~\\AppData\\Local\\Continuum\\anaconda3\\lib\\site-packages\\sklearn\\utils\\validation.py\u001b[0m in \u001b[0;36mcheck_consistent_length\u001b[1;34m(*arrays)\u001b[0m\n\u001b[0;32m    202\u001b[0m     \u001b[1;32mif\u001b[0m \u001b[0mlen\u001b[0m\u001b[1;33m(\u001b[0m\u001b[0muniques\u001b[0m\u001b[1;33m)\u001b[0m \u001b[1;33m>\u001b[0m \u001b[1;36m1\u001b[0m\u001b[1;33m:\u001b[0m\u001b[1;33m\u001b[0m\u001b[0m\n\u001b[0;32m    203\u001b[0m         raise ValueError(\"Found input variables with inconsistent numbers of\"\n\u001b[1;32m--> 204\u001b[1;33m                          \" samples: %r\" % [int(l) for l in lengths])\n\u001b[0m\u001b[0;32m    205\u001b[0m \u001b[1;33m\u001b[0m\u001b[0m\n\u001b[0;32m    206\u001b[0m \u001b[1;33m\u001b[0m\u001b[0m\n",
      "\u001b[1;31mValueError\u001b[0m: Found input variables with inconsistent numbers of samples: [119916, 79]"
     ]
    }
   ],
   "source": []
  },
  {
   "cell_type": "code",
   "execution_count": 9,
   "metadata": {},
   "outputs": [
    {
     "data": {
      "text/html": [
       "<div>\n",
       "<style>\n",
       "    .dataframe thead tr:only-child th {\n",
       "        text-align: right;\n",
       "    }\n",
       "\n",
       "    .dataframe thead th {\n",
       "        text-align: left;\n",
       "    }\n",
       "\n",
       "    .dataframe tbody tr th {\n",
       "        vertical-align: top;\n",
       "    }\n",
       "</style>\n",
       "<table border=\"1\" class=\"dataframe\">\n",
       "  <thead>\n",
       "    <tr style=\"text-align: right;\">\n",
       "      <th>Peptide</th>\n",
       "      <th>-.DIQM*TQSPSTLSASVGDR.V</th>\n",
       "      <th>-.DIQM*TQSPSTLSASVGDRVTITCR.A</th>\n",
       "      <th>-.DIQMTQSPS.T</th>\n",
       "      <th>-.DIQMTQSPSTLSASVGDR.V</th>\n",
       "      <th>-.DIQMTQSPSTLSASVGDRVTITCR.A</th>\n",
       "      <th>-.EVQLVETGGGLIQPGGSLR.L</th>\n",
       "      <th>-.KVHGSLAR.A</th>\n",
       "      <th>-.LGEHNIDVLEGNEQFINAAR.I</th>\n",
       "      <th>-.LGEHNIDVLEGNEQFINAARI.I</th>\n",
       "      <th>-.LGEHNIDVLEGNEQFINAARII.T</th>\n",
       "      <th>...</th>\n",
       "      <th>Y.YTSVTPVLR.G</th>\n",
       "      <th>Y.YTTIQDLR.D</th>\n",
       "      <th>Y.YVAPEVLGPEKYDK.S</th>\n",
       "      <th>Y.YVSNEELR.G</th>\n",
       "      <th>Y.YVTIIDAPGHR.D</th>\n",
       "      <th>Y.YVYNIIGGLDEEGK.G</th>\n",
       "      <th>Y.YWGGQYTWDM*AK.H</th>\n",
       "      <th>Y.YWGGQYTWDMAK.H</th>\n",
       "      <th>Y.YYIQQDTK.G</th>\n",
       "      <th>Y.YYIQQDTKGDYQK.A</th>\n",
       "    </tr>\n",
       "  </thead>\n",
       "  <tbody>\n",
       "    <tr>\n",
       "      <th>Blood_Plasma_OpPlasma_029_a_13Aug11_Jaguar_11-07-18</th>\n",
       "      <td>3.022208</td>\n",
       "      <td>3.022208</td>\n",
       "      <td>3.022208</td>\n",
       "      <td>3.022208</td>\n",
       "      <td>3.022208</td>\n",
       "      <td>3.022208</td>\n",
       "      <td>3.022208</td>\n",
       "      <td>3.022208</td>\n",
       "      <td>3.022208</td>\n",
       "      <td>3.022208</td>\n",
       "      <td>...</td>\n",
       "      <td>3.022208</td>\n",
       "      <td>3.022208</td>\n",
       "      <td>3.022208</td>\n",
       "      <td>3.022208</td>\n",
       "      <td>3.022208</td>\n",
       "      <td>3.022208</td>\n",
       "      <td>3.022208</td>\n",
       "      <td>3.022208</td>\n",
       "      <td>3.022208</td>\n",
       "      <td>3.022208</td>\n",
       "    </tr>\n",
       "    <tr>\n",
       "      <th>Blood_Plasma_OpPlasma_034_a_13Aug11_Jaguar_11-07-18</th>\n",
       "      <td>3.022208</td>\n",
       "      <td>3.022208</td>\n",
       "      <td>3.022208</td>\n",
       "      <td>3.022208</td>\n",
       "      <td>3.022208</td>\n",
       "      <td>3.022208</td>\n",
       "      <td>3.022208</td>\n",
       "      <td>3.022208</td>\n",
       "      <td>3.022208</td>\n",
       "      <td>3.022208</td>\n",
       "      <td>...</td>\n",
       "      <td>3.022208</td>\n",
       "      <td>3.022208</td>\n",
       "      <td>3.022208</td>\n",
       "      <td>3.022208</td>\n",
       "      <td>3.022208</td>\n",
       "      <td>3.022208</td>\n",
       "      <td>3.022208</td>\n",
       "      <td>3.022208</td>\n",
       "      <td>3.022208</td>\n",
       "      <td>3.022208</td>\n",
       "    </tr>\n",
       "    <tr>\n",
       "      <th>Blood_Plasma_OpPlasma_038_a_13Aug11_Jaguar_11-07-16</th>\n",
       "      <td>3.022208</td>\n",
       "      <td>3.022208</td>\n",
       "      <td>3.022208</td>\n",
       "      <td>3.022208</td>\n",
       "      <td>3.022208</td>\n",
       "      <td>3.022208</td>\n",
       "      <td>3.022208</td>\n",
       "      <td>3.022208</td>\n",
       "      <td>3.022208</td>\n",
       "      <td>3.022208</td>\n",
       "      <td>...</td>\n",
       "      <td>3.022208</td>\n",
       "      <td>3.022208</td>\n",
       "      <td>3.022208</td>\n",
       "      <td>3.022208</td>\n",
       "      <td>3.022208</td>\n",
       "      <td>3.022208</td>\n",
       "      <td>3.022208</td>\n",
       "      <td>3.022208</td>\n",
       "      <td>3.022208</td>\n",
       "      <td>3.022208</td>\n",
       "    </tr>\n",
       "    <tr>\n",
       "      <th>Blood_Plasma_OpPlasma_039_a_13Aug11_Jaguar_11-07-16</th>\n",
       "      <td>3.022208</td>\n",
       "      <td>3.022208</td>\n",
       "      <td>3.022208</td>\n",
       "      <td>3.022208</td>\n",
       "      <td>3.022208</td>\n",
       "      <td>3.022208</td>\n",
       "      <td>3.022208</td>\n",
       "      <td>3.022208</td>\n",
       "      <td>3.022208</td>\n",
       "      <td>3.022208</td>\n",
       "      <td>...</td>\n",
       "      <td>3.022208</td>\n",
       "      <td>3.022208</td>\n",
       "      <td>3.022208</td>\n",
       "      <td>3.022208</td>\n",
       "      <td>3.022208</td>\n",
       "      <td>3.022208</td>\n",
       "      <td>3.022208</td>\n",
       "      <td>3.022208</td>\n",
       "      <td>3.022208</td>\n",
       "      <td>3.022208</td>\n",
       "    </tr>\n",
       "    <tr>\n",
       "      <th>Blood_Plasma_OpPlasma_045_a_27Jul11_Jaguar_11-05-05</th>\n",
       "      <td>3.022208</td>\n",
       "      <td>3.022208</td>\n",
       "      <td>3.022208</td>\n",
       "      <td>3.022208</td>\n",
       "      <td>3.022208</td>\n",
       "      <td>3.022208</td>\n",
       "      <td>3.022208</td>\n",
       "      <td>28.611752</td>\n",
       "      <td>3.022208</td>\n",
       "      <td>3.022208</td>\n",
       "      <td>...</td>\n",
       "      <td>3.022208</td>\n",
       "      <td>3.022208</td>\n",
       "      <td>3.022208</td>\n",
       "      <td>3.022208</td>\n",
       "      <td>3.022208</td>\n",
       "      <td>3.022208</td>\n",
       "      <td>3.022208</td>\n",
       "      <td>3.022208</td>\n",
       "      <td>3.022208</td>\n",
       "      <td>3.022208</td>\n",
       "    </tr>\n",
       "  </tbody>\n",
       "</table>\n",
       "<p>5 rows × 119916 columns</p>\n",
       "</div>"
      ],
      "text/plain": [
       "Peptide                                             \\n-.DIQM*TQSPSTLSASVGDR.V  \\\n",
       "Blood_Plasma_OpPlasma_029_a_13Aug11_Jaguar_11-0...                   3.022208   \n",
       "Blood_Plasma_OpPlasma_034_a_13Aug11_Jaguar_11-0...                   3.022208   \n",
       "Blood_Plasma_OpPlasma_038_a_13Aug11_Jaguar_11-0...                   3.022208   \n",
       "Blood_Plasma_OpPlasma_039_a_13Aug11_Jaguar_11-0...                   3.022208   \n",
       "Blood_Plasma_OpPlasma_045_a_27Jul11_Jaguar_11-0...                   3.022208   \n",
       "\n",
       "Peptide                                             \\n-.DIQM*TQSPSTLSASVGDRVTITCR.A  \\\n",
       "Blood_Plasma_OpPlasma_029_a_13Aug11_Jaguar_11-0...                         3.022208   \n",
       "Blood_Plasma_OpPlasma_034_a_13Aug11_Jaguar_11-0...                         3.022208   \n",
       "Blood_Plasma_OpPlasma_038_a_13Aug11_Jaguar_11-0...                         3.022208   \n",
       "Blood_Plasma_OpPlasma_039_a_13Aug11_Jaguar_11-0...                         3.022208   \n",
       "Blood_Plasma_OpPlasma_045_a_27Jul11_Jaguar_11-0...                         3.022208   \n",
       "\n",
       "Peptide                                             \\n-.DIQMTQSPS.T  \\\n",
       "Blood_Plasma_OpPlasma_029_a_13Aug11_Jaguar_11-0...         3.022208   \n",
       "Blood_Plasma_OpPlasma_034_a_13Aug11_Jaguar_11-0...         3.022208   \n",
       "Blood_Plasma_OpPlasma_038_a_13Aug11_Jaguar_11-0...         3.022208   \n",
       "Blood_Plasma_OpPlasma_039_a_13Aug11_Jaguar_11-0...         3.022208   \n",
       "Blood_Plasma_OpPlasma_045_a_27Jul11_Jaguar_11-0...         3.022208   \n",
       "\n",
       "Peptide                                             \\n-.DIQMTQSPSTLSASVGDR.V  \\\n",
       "Blood_Plasma_OpPlasma_029_a_13Aug11_Jaguar_11-0...                  3.022208   \n",
       "Blood_Plasma_OpPlasma_034_a_13Aug11_Jaguar_11-0...                  3.022208   \n",
       "Blood_Plasma_OpPlasma_038_a_13Aug11_Jaguar_11-0...                  3.022208   \n",
       "Blood_Plasma_OpPlasma_039_a_13Aug11_Jaguar_11-0...                  3.022208   \n",
       "Blood_Plasma_OpPlasma_045_a_27Jul11_Jaguar_11-0...                  3.022208   \n",
       "\n",
       "Peptide                                             \\n-.DIQMTQSPSTLSASVGDRVTITCR.A  \\\n",
       "Blood_Plasma_OpPlasma_029_a_13Aug11_Jaguar_11-0...                        3.022208   \n",
       "Blood_Plasma_OpPlasma_034_a_13Aug11_Jaguar_11-0...                        3.022208   \n",
       "Blood_Plasma_OpPlasma_038_a_13Aug11_Jaguar_11-0...                        3.022208   \n",
       "Blood_Plasma_OpPlasma_039_a_13Aug11_Jaguar_11-0...                        3.022208   \n",
       "Blood_Plasma_OpPlasma_045_a_27Jul11_Jaguar_11-0...                        3.022208   \n",
       "\n",
       "Peptide                                             \\n-.EVQLVETGGGLIQPGGSLR.L  \\\n",
       "Blood_Plasma_OpPlasma_029_a_13Aug11_Jaguar_11-0...                   3.022208   \n",
       "Blood_Plasma_OpPlasma_034_a_13Aug11_Jaguar_11-0...                   3.022208   \n",
       "Blood_Plasma_OpPlasma_038_a_13Aug11_Jaguar_11-0...                   3.022208   \n",
       "Blood_Plasma_OpPlasma_039_a_13Aug11_Jaguar_11-0...                   3.022208   \n",
       "Blood_Plasma_OpPlasma_045_a_27Jul11_Jaguar_11-0...                   3.022208   \n",
       "\n",
       "Peptide                                             \\n-.KVHGSLAR.A  \\\n",
       "Blood_Plasma_OpPlasma_029_a_13Aug11_Jaguar_11-0...        3.022208   \n",
       "Blood_Plasma_OpPlasma_034_a_13Aug11_Jaguar_11-0...        3.022208   \n",
       "Blood_Plasma_OpPlasma_038_a_13Aug11_Jaguar_11-0...        3.022208   \n",
       "Blood_Plasma_OpPlasma_039_a_13Aug11_Jaguar_11-0...        3.022208   \n",
       "Blood_Plasma_OpPlasma_045_a_27Jul11_Jaguar_11-0...        3.022208   \n",
       "\n",
       "Peptide                                             \\n-.LGEHNIDVLEGNEQFINAAR.I  \\\n",
       "Blood_Plasma_OpPlasma_029_a_13Aug11_Jaguar_11-0...                    3.022208   \n",
       "Blood_Plasma_OpPlasma_034_a_13Aug11_Jaguar_11-0...                    3.022208   \n",
       "Blood_Plasma_OpPlasma_038_a_13Aug11_Jaguar_11-0...                    3.022208   \n",
       "Blood_Plasma_OpPlasma_039_a_13Aug11_Jaguar_11-0...                    3.022208   \n",
       "Blood_Plasma_OpPlasma_045_a_27Jul11_Jaguar_11-0...                   28.611752   \n",
       "\n",
       "Peptide                                             \\n-.LGEHNIDVLEGNEQFINAARI.I  \\\n",
       "Blood_Plasma_OpPlasma_029_a_13Aug11_Jaguar_11-0...                     3.022208   \n",
       "Blood_Plasma_OpPlasma_034_a_13Aug11_Jaguar_11-0...                     3.022208   \n",
       "Blood_Plasma_OpPlasma_038_a_13Aug11_Jaguar_11-0...                     3.022208   \n",
       "Blood_Plasma_OpPlasma_039_a_13Aug11_Jaguar_11-0...                     3.022208   \n",
       "Blood_Plasma_OpPlasma_045_a_27Jul11_Jaguar_11-0...                     3.022208   \n",
       "\n",
       "Peptide                                             \\n-.LGEHNIDVLEGNEQFINAARII.T  \\\n",
       "Blood_Plasma_OpPlasma_029_a_13Aug11_Jaguar_11-0...                      3.022208   \n",
       "Blood_Plasma_OpPlasma_034_a_13Aug11_Jaguar_11-0...                      3.022208   \n",
       "Blood_Plasma_OpPlasma_038_a_13Aug11_Jaguar_11-0...                      3.022208   \n",
       "Blood_Plasma_OpPlasma_039_a_13Aug11_Jaguar_11-0...                      3.022208   \n",
       "Blood_Plasma_OpPlasma_045_a_27Jul11_Jaguar_11-0...                      3.022208   \n",
       "\n",
       "Peptide                                                    ...           \\\n",
       "Blood_Plasma_OpPlasma_029_a_13Aug11_Jaguar_11-0...         ...            \n",
       "Blood_Plasma_OpPlasma_034_a_13Aug11_Jaguar_11-0...         ...            \n",
       "Blood_Plasma_OpPlasma_038_a_13Aug11_Jaguar_11-0...         ...            \n",
       "Blood_Plasma_OpPlasma_039_a_13Aug11_Jaguar_11-0...         ...            \n",
       "Blood_Plasma_OpPlasma_045_a_27Jul11_Jaguar_11-0...         ...            \n",
       "\n",
       "Peptide                                             \\nY.YTSVTPVLR.G  \\\n",
       "Blood_Plasma_OpPlasma_029_a_13Aug11_Jaguar_11-0...         3.022208   \n",
       "Blood_Plasma_OpPlasma_034_a_13Aug11_Jaguar_11-0...         3.022208   \n",
       "Blood_Plasma_OpPlasma_038_a_13Aug11_Jaguar_11-0...         3.022208   \n",
       "Blood_Plasma_OpPlasma_039_a_13Aug11_Jaguar_11-0...         3.022208   \n",
       "Blood_Plasma_OpPlasma_045_a_27Jul11_Jaguar_11-0...         3.022208   \n",
       "\n",
       "Peptide                                             \\nY.YTTIQDLR.D  \\\n",
       "Blood_Plasma_OpPlasma_029_a_13Aug11_Jaguar_11-0...        3.022208   \n",
       "Blood_Plasma_OpPlasma_034_a_13Aug11_Jaguar_11-0...        3.022208   \n",
       "Blood_Plasma_OpPlasma_038_a_13Aug11_Jaguar_11-0...        3.022208   \n",
       "Blood_Plasma_OpPlasma_039_a_13Aug11_Jaguar_11-0...        3.022208   \n",
       "Blood_Plasma_OpPlasma_045_a_27Jul11_Jaguar_11-0...        3.022208   \n",
       "\n",
       "Peptide                                             \\nY.YVAPEVLGPEKYDK.S  \\\n",
       "Blood_Plasma_OpPlasma_029_a_13Aug11_Jaguar_11-0...              3.022208   \n",
       "Blood_Plasma_OpPlasma_034_a_13Aug11_Jaguar_11-0...              3.022208   \n",
       "Blood_Plasma_OpPlasma_038_a_13Aug11_Jaguar_11-0...              3.022208   \n",
       "Blood_Plasma_OpPlasma_039_a_13Aug11_Jaguar_11-0...              3.022208   \n",
       "Blood_Plasma_OpPlasma_045_a_27Jul11_Jaguar_11-0...              3.022208   \n",
       "\n",
       "Peptide                                             \\nY.YVSNEELR.G  \\\n",
       "Blood_Plasma_OpPlasma_029_a_13Aug11_Jaguar_11-0...        3.022208   \n",
       "Blood_Plasma_OpPlasma_034_a_13Aug11_Jaguar_11-0...        3.022208   \n",
       "Blood_Plasma_OpPlasma_038_a_13Aug11_Jaguar_11-0...        3.022208   \n",
       "Blood_Plasma_OpPlasma_039_a_13Aug11_Jaguar_11-0...        3.022208   \n",
       "Blood_Plasma_OpPlasma_045_a_27Jul11_Jaguar_11-0...        3.022208   \n",
       "\n",
       "Peptide                                             \\nY.YVTIIDAPGHR.D  \\\n",
       "Blood_Plasma_OpPlasma_029_a_13Aug11_Jaguar_11-0...           3.022208   \n",
       "Blood_Plasma_OpPlasma_034_a_13Aug11_Jaguar_11-0...           3.022208   \n",
       "Blood_Plasma_OpPlasma_038_a_13Aug11_Jaguar_11-0...           3.022208   \n",
       "Blood_Plasma_OpPlasma_039_a_13Aug11_Jaguar_11-0...           3.022208   \n",
       "Blood_Plasma_OpPlasma_045_a_27Jul11_Jaguar_11-0...           3.022208   \n",
       "\n",
       "Peptide                                             \\nY.YVYNIIGGLDEEGK.G  \\\n",
       "Blood_Plasma_OpPlasma_029_a_13Aug11_Jaguar_11-0...              3.022208   \n",
       "Blood_Plasma_OpPlasma_034_a_13Aug11_Jaguar_11-0...              3.022208   \n",
       "Blood_Plasma_OpPlasma_038_a_13Aug11_Jaguar_11-0...              3.022208   \n",
       "Blood_Plasma_OpPlasma_039_a_13Aug11_Jaguar_11-0...              3.022208   \n",
       "Blood_Plasma_OpPlasma_045_a_27Jul11_Jaguar_11-0...              3.022208   \n",
       "\n",
       "Peptide                                             \\nY.YWGGQYTWDM*AK.H  \\\n",
       "Blood_Plasma_OpPlasma_029_a_13Aug11_Jaguar_11-0...             3.022208   \n",
       "Blood_Plasma_OpPlasma_034_a_13Aug11_Jaguar_11-0...             3.022208   \n",
       "Blood_Plasma_OpPlasma_038_a_13Aug11_Jaguar_11-0...             3.022208   \n",
       "Blood_Plasma_OpPlasma_039_a_13Aug11_Jaguar_11-0...             3.022208   \n",
       "Blood_Plasma_OpPlasma_045_a_27Jul11_Jaguar_11-0...             3.022208   \n",
       "\n",
       "Peptide                                             \\nY.YWGGQYTWDMAK.H  \\\n",
       "Blood_Plasma_OpPlasma_029_a_13Aug11_Jaguar_11-0...            3.022208   \n",
       "Blood_Plasma_OpPlasma_034_a_13Aug11_Jaguar_11-0...            3.022208   \n",
       "Blood_Plasma_OpPlasma_038_a_13Aug11_Jaguar_11-0...            3.022208   \n",
       "Blood_Plasma_OpPlasma_039_a_13Aug11_Jaguar_11-0...            3.022208   \n",
       "Blood_Plasma_OpPlasma_045_a_27Jul11_Jaguar_11-0...            3.022208   \n",
       "\n",
       "Peptide                                             \\nY.YYIQQDTK.G  \\\n",
       "Blood_Plasma_OpPlasma_029_a_13Aug11_Jaguar_11-0...        3.022208   \n",
       "Blood_Plasma_OpPlasma_034_a_13Aug11_Jaguar_11-0...        3.022208   \n",
       "Blood_Plasma_OpPlasma_038_a_13Aug11_Jaguar_11-0...        3.022208   \n",
       "Blood_Plasma_OpPlasma_039_a_13Aug11_Jaguar_11-0...        3.022208   \n",
       "Blood_Plasma_OpPlasma_045_a_27Jul11_Jaguar_11-0...        3.022208   \n",
       "\n",
       "Peptide                                             \\nY.YYIQQDTKGDYQK.A  \n",
       "Blood_Plasma_OpPlasma_029_a_13Aug11_Jaguar_11-0...             3.022208  \n",
       "Blood_Plasma_OpPlasma_034_a_13Aug11_Jaguar_11-0...             3.022208  \n",
       "Blood_Plasma_OpPlasma_038_a_13Aug11_Jaguar_11-0...             3.022208  \n",
       "Blood_Plasma_OpPlasma_039_a_13Aug11_Jaguar_11-0...             3.022208  \n",
       "Blood_Plasma_OpPlasma_045_a_27Jul11_Jaguar_11-0...             3.022208  \n",
       "\n",
       "[5 rows x 119916 columns]"
      ]
     },
     "execution_count": 9,
     "metadata": {},
     "output_type": "execute_result"
    }
   ],
   "source": [
    "test_data.head()"
   ]
  },
  {
   "cell_type": "markdown",
   "metadata": {},
   "source": [
    "### Load model and predict new data"
   ]
  },
  {
   "cell_type": "code",
   "execution_count": 16,
   "metadata": {
    "collapsed": true
   },
   "outputs": [],
   "source": [
    "filename = r'Trained_Models\\highqual_crossval_rf.sav'\n",
    "# some time later...\n",
    "\n",
    "# load the model from disk\n",
    "loaded_model = joblib.load(open(filename, 'rb'))"
   ]
  },
  {
   "cell_type": "code",
   "execution_count": 17,
   "metadata": {},
   "outputs": [
    {
     "name": "stdout",
     "output_type": "stream",
     "text": [
      "0.569620253165\n"
     ]
    }
   ],
   "source": [
    "pred = loaded_model.predict(test_data)\n",
    "result = loaded_model.score(test_data, test_labels)\n",
    "\n",
    "print(result)"
   ]
  },
  {
   "cell_type": "markdown",
   "metadata": {},
   "source": [
    "### Use models from notebook to predict new data"
   ]
  },
  {
   "cell_type": "code",
   "execution_count": 55,
   "metadata": {},
   "outputs": [
    {
     "ename": "ValueError",
     "evalue": "X has 119916 features per sample; expecting 2500",
     "output_type": "error",
     "traceback": [
      "\u001b[1;31m---------------------------------------------------------------------------\u001b[0m",
      "\u001b[1;31mValueError\u001b[0m                                Traceback (most recent call last)",
      "\u001b[1;32m<ipython-input-55-03255ef4cead>\u001b[0m in \u001b[0;36m<module>\u001b[1;34m()\u001b[0m\n\u001b[1;32m----> 1\u001b[1;33m \u001b[0mlr_pred\u001b[0m \u001b[1;33m=\u001b[0m \u001b[0mlr\u001b[0m\u001b[1;33m.\u001b[0m\u001b[0mpredict\u001b[0m\u001b[1;33m(\u001b[0m\u001b[0mtest_data\u001b[0m\u001b[1;33m)\u001b[0m\u001b[1;33m\u001b[0m\u001b[0m\n\u001b[0m\u001b[0;32m      2\u001b[0m \u001b[0mlr_result\u001b[0m \u001b[1;33m=\u001b[0m \u001b[0mlr\u001b[0m\u001b[1;33m.\u001b[0m\u001b[0mscore\u001b[0m\u001b[1;33m(\u001b[0m\u001b[0mtest_data\u001b[0m\u001b[1;33m,\u001b[0m \u001b[0mtest_labels\u001b[0m\u001b[1;33m)\u001b[0m\u001b[1;33m\u001b[0m\u001b[0m\n\u001b[0;32m      3\u001b[0m \u001b[1;33m\u001b[0m\u001b[0m\n\u001b[0;32m      4\u001b[0m \u001b[0mmnb_pred\u001b[0m \u001b[1;33m=\u001b[0m \u001b[0mmnb\u001b[0m\u001b[1;33m.\u001b[0m\u001b[0mpredict\u001b[0m\u001b[1;33m(\u001b[0m\u001b[0mtest_data\u001b[0m\u001b[1;33m)\u001b[0m\u001b[1;33m\u001b[0m\u001b[0m\n\u001b[0;32m      5\u001b[0m \u001b[0mmnb_result\u001b[0m \u001b[1;33m=\u001b[0m \u001b[0mmnb\u001b[0m\u001b[1;33m.\u001b[0m\u001b[0mscore\u001b[0m\u001b[1;33m(\u001b[0m\u001b[0mtest_data\u001b[0m\u001b[1;33m,\u001b[0m \u001b[0mtest_labels\u001b[0m\u001b[1;33m)\u001b[0m\u001b[1;33m\u001b[0m\u001b[0m\n",
      "\u001b[1;32m~\\AppData\\Local\\Continuum\\anaconda3\\lib\\site-packages\\sklearn\\linear_model\\base.py\u001b[0m in \u001b[0;36mpredict\u001b[1;34m(self, X)\u001b[0m\n\u001b[0;32m    322\u001b[0m             \u001b[0mPredicted\u001b[0m \u001b[1;32mclass\u001b[0m \u001b[0mlabel\u001b[0m \u001b[0mper\u001b[0m \u001b[0msample\u001b[0m\u001b[1;33m.\u001b[0m\u001b[1;33m\u001b[0m\u001b[0m\n\u001b[0;32m    323\u001b[0m         \"\"\"\n\u001b[1;32m--> 324\u001b[1;33m         \u001b[0mscores\u001b[0m \u001b[1;33m=\u001b[0m \u001b[0mself\u001b[0m\u001b[1;33m.\u001b[0m\u001b[0mdecision_function\u001b[0m\u001b[1;33m(\u001b[0m\u001b[0mX\u001b[0m\u001b[1;33m)\u001b[0m\u001b[1;33m\u001b[0m\u001b[0m\n\u001b[0m\u001b[0;32m    325\u001b[0m         \u001b[1;32mif\u001b[0m \u001b[0mlen\u001b[0m\u001b[1;33m(\u001b[0m\u001b[0mscores\u001b[0m\u001b[1;33m.\u001b[0m\u001b[0mshape\u001b[0m\u001b[1;33m)\u001b[0m \u001b[1;33m==\u001b[0m \u001b[1;36m1\u001b[0m\u001b[1;33m:\u001b[0m\u001b[1;33m\u001b[0m\u001b[0m\n\u001b[0;32m    326\u001b[0m             \u001b[0mindices\u001b[0m \u001b[1;33m=\u001b[0m \u001b[1;33m(\u001b[0m\u001b[0mscores\u001b[0m \u001b[1;33m>\u001b[0m \u001b[1;36m0\u001b[0m\u001b[1;33m)\u001b[0m\u001b[1;33m.\u001b[0m\u001b[0mastype\u001b[0m\u001b[1;33m(\u001b[0m\u001b[0mnp\u001b[0m\u001b[1;33m.\u001b[0m\u001b[0mint\u001b[0m\u001b[1;33m)\u001b[0m\u001b[1;33m\u001b[0m\u001b[0m\n",
      "\u001b[1;32m~\\AppData\\Local\\Continuum\\anaconda3\\lib\\site-packages\\sklearn\\linear_model\\base.py\u001b[0m in \u001b[0;36mdecision_function\u001b[1;34m(self, X)\u001b[0m\n\u001b[0;32m    303\u001b[0m         \u001b[1;32mif\u001b[0m \u001b[0mX\u001b[0m\u001b[1;33m.\u001b[0m\u001b[0mshape\u001b[0m\u001b[1;33m[\u001b[0m\u001b[1;36m1\u001b[0m\u001b[1;33m]\u001b[0m \u001b[1;33m!=\u001b[0m \u001b[0mn_features\u001b[0m\u001b[1;33m:\u001b[0m\u001b[1;33m\u001b[0m\u001b[0m\n\u001b[0;32m    304\u001b[0m             raise ValueError(\"X has %d features per sample; expecting %d\"\n\u001b[1;32m--> 305\u001b[1;33m                              % (X.shape[1], n_features))\n\u001b[0m\u001b[0;32m    306\u001b[0m \u001b[1;33m\u001b[0m\u001b[0m\n\u001b[0;32m    307\u001b[0m         scores = safe_sparse_dot(X, self.coef_.T,\n",
      "\u001b[1;31mValueError\u001b[0m: X has 119916 features per sample; expecting 2500"
     ]
    }
   ],
   "source": [
    "lr_pred = lr.predict(test_data)\n",
    "lr_result = lr.score(test_data, test_labels)\n",
    "\n",
    "mnb_pred = mnb.predict(test_data)\n",
    "mnb_result = mnb.score(test_data, test_labels)\n",
    "\n",
    "rf_pred = rf.predict(test_data)\n",
    "rf_result = rf.score(test_data, test_labels)\n",
    "\n",
    "svc_pred = svc_models[0].predict(test_data)\n",
    "svc_result = svc_models[0].score(test_data, test_labels)"
   ]
  },
  {
   "cell_type": "code",
   "execution_count": 36,
   "metadata": {},
   "outputs": [
    {
     "name": "stdout",
     "output_type": "stream",
     "text": [
      "['Blood_Plasma' 'Blood_Plasma' 'Blood_Plasma' 'Blood_Plasma' 'Blood_Plasma'\n",
      " 'Blood_Plasma' 'Blood_Plasma' 'Blood_Plasma' 'Blood_Plasma' 'Blood_Plasma'\n",
      " 'Blood_Plasma' 'Blood_Plasma' 'Blood_Plasma' 'Blood_Plasma' 'Blood_Plasma'\n",
      " 'Blood_Plasma' 'Blood_Plasma' 'Blood_Plasma' 'Blood_Plasma' 'Blood_Plasma'\n",
      " 'Blood_Plasma' 'Blood_Plasma' 'Blood_Plasma' 'Blood_Plasma' 'Blood_Plasma'\n",
      " 'Blood_Plasma' 'Blood_Plasma' 'Blood_Plasma' 'Liver' 'Liver' 'Liver'\n",
      " 'Liver' 'Liver' 'Liver' 'Liver' 'Liver' 'Liver' 'Liver' 'Blood_Plasma'\n",
      " 'Monocyte' 'Monocyte' 'Monocyte' 'Monocyte' 'Blood_Plasma' 'Blood_Plasma'\n",
      " 'Blood_Plasma' 'Blood_Plasma' 'Blood_Plasma' 'Blood_Plasma' 'Blood_Plasma'\n",
      " 'Blood_Plasma' 'Blood_Plasma' 'Blood_Plasma' 'Blood_Plasma' 'Blood_Plasma'\n",
      " 'Blood_Plasma' 'Blood_Plasma' 'Blood_Plasma' 'Pancreas' 'Pancreas'\n",
      " 'Blood_Plasma' 'Blood_Plasma' 'Blood_Plasma' 'Temporal_Lobe'\n",
      " 'Temporal_Lobe' 'Temporal_Lobe' 'Temporal_Lobe' 'Temporal_Lobe'\n",
      " 'Temporal_Lobe' 'Temporal_Lobe' 'Temporal_Lobe' 'Temporal_Lobe'\n",
      " 'Temporal_Lobe' 'Temporal_Lobe' 'Temporal_Lobe' 'Temporal_Lobe'\n",
      " 'Temporal_Lobe' 'Temporal_Lobe' 'Temporal_Lobe']\n",
      "0.405063291139\n"
     ]
    }
   ],
   "source": [
    "print(svc_pred)\n",
    "print(svc_result)"
   ]
  },
  {
   "cell_type": "markdown",
   "metadata": {},
   "source": [
    "### Try with Pipeline"
   ]
  },
  {
   "cell_type": "code",
   "execution_count": 21,
   "metadata": {},
   "outputs": [
    {
     "name": "stdout",
     "output_type": "stream",
     "text": [
      "0.455696202532\n"
     ]
    }
   ],
   "source": [
    "from sklearn.pipeline import Pipeline\n",
    "from sklearn.ensemble import RandomForestClassifier\n",
    "from sklearn.svm import LinearSVC, SVC\n",
    "\n",
    "pipe = Pipeline([\n",
    "        ('reduce_dim', PCA(n_components=8)),\n",
    "        ('classify', SVC(kernel='linear'))])\n",
    "\n",
    "pipe.fit(transformed_df, labels)\n",
    "pipe_pred = pipe.predict(test_data)\n",
    "pipe_result = pipe.score(test_data, test_labels)\n",
    "print(pipe_result)"
   ]
  },
  {
   "cell_type": "markdown",
   "metadata": {},
   "source": [
    "##  Confusion matrices of best models' predictions on new data"
   ]
  },
  {
   "cell_type": "code",
   "execution_count": 18,
   "metadata": {
    "scrolled": true
   },
   "outputs": [
    {
     "name": "stdout",
     "output_type": "stream",
     "text": [
      "Confusion matrix, without normalization\n",
      "[[10  0  0  0  0  0  0  0  0]\n",
      " [ 8  0  0  0  0  0  0  0  0]\n",
      " [10  0  0  0  0  0  0  0  0]\n",
      " [ 0  0  0 10  0  0  0  0  0]\n",
      " [ 0  0  0  0  5  0  0  0  0]\n",
      " [10  0  0  0  0  0  0  0  0]\n",
      " [ 4  0  0  0  0  0  6  0  0]\n",
      " [ 0  0  0  0  0  0  0  8  2]\n",
      " [ 0  0  0  0  0  0  0  0  6]]\n",
      "Normalized confusion matrix\n",
      "[[ 1.   0.   0.   0.   0.   0.   0.   0.   0. ]\n",
      " [ 1.   0.   0.   0.   0.   0.   0.   0.   0. ]\n",
      " [ 1.   0.   0.   0.   0.   0.   0.   0.   0. ]\n",
      " [ 0.   0.   0.   1.   0.   0.   0.   0.   0. ]\n",
      " [ 0.   0.   0.   0.   1.   0.   0.   0.   0. ]\n",
      " [ 1.   0.   0.   0.   0.   0.   0.   0.   0. ]\n",
      " [ 0.4  0.   0.   0.   0.   0.   0.6  0.   0. ]\n",
      " [ 0.   0.   0.   0.   0.   0.   0.   0.8  0.2]\n",
      " [ 0.   0.   0.   0.   0.   0.   0.   0.   1. ]]\n"
     ]
    },
    {
     "data": {
      "text/plain": [
       "<matplotlib.figure.Figure at 0xd83cda0>"
      ]
     },
     "metadata": {},
     "output_type": "display_data"
    },
    {
     "data": {
      "image/png": "[encoded data removed]",
      "text/plain": [
       "<matplotlib.figure.Figure at 0xd85dd68>"
      ]
     },
     "metadata": {},
     "output_type": "display_data"
    },
    {
     "data": {
      "text/plain": [
       "<matplotlib.figure.Figure at 0xd86d518>"
      ]
     },
     "metadata": {},
     "output_type": "display_data"
    },
    {
     "data": {
      "image/png": "[encoded data removed]",
      "text/plain": [
       "<matplotlib.figure.Figure at 0xd863c50>"
      ]
     },
     "metadata": {},
     "output_type": "display_data"
    }
   ],
   "source": [
    "cu.show_confusion_matrices(test_labels, pred, tissues)\n",
    "#cm_labels = list(set(lr_pred.tolist() + test_labels))\n",
    "\n",
    "#cu.show_confusion_matrices(test_labels, mnb_pred, tissues)"
   ]
  }
 ],
 "metadata": {
  "kernelspec": {
   "display_name": "Python 3",
   "language": "python",
   "name": "python3"
  },
  "language_info": {
   "codemirror_mode": {
    "name": "ipython",
    "version": 3
   },
   "file_extension": ".py",
   "mimetype": "text/x-python",
   "name": "python",
   "nbconvert_exporter": "python",
   "pygments_lexer": "ipython3",
   "version": "3.6.3"
  },
  "toc": {
   "nav_menu": {},
   "number_sections": true,
   "sideBar": true,
   "skip_h1_title": true,
   "toc_cell": false,
   "toc_position": {},
   "toc_section_display": "block",
   "toc_window_display": false
  }
 },
 "nbformat": 4,
 "nbformat_minor": 2
}
