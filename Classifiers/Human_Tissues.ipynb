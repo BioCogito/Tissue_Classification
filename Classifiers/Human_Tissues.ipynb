{
 "cells": [
  {
   "cell_type": "markdown",
   "metadata": {},
   "source": [
    "# Using unlabelled, unfractionated datasets obtained from QExact and VOrbi instruments\n",
    "* Datasets were searched against H_sapiens_Uniprot_SPROT_2017-04-12, Tryp_Pig_Bov sequence files using MSGFPlus\n",
    "* Combined results with MASIC results (Q <= 0.01) to get quantitation data"
   ]
  },
  {
   "cell_type": "code",
   "execution_count": 1,
   "metadata": {
    "collapsed": true
   },
   "outputs": [],
   "source": [
    "import os\n",
    "import sys\n",
    "module_path = os.path.abspath(os.path.join('..'))\n",
    "if module_path not in sys.path:\n",
    "    sys.path.append(module_path)"
   ]
  },
  {
   "cell_type": "code",
   "execution_count": 2,
   "metadata": {},
   "outputs": [],
   "source": [
    "import Classification_Utils as cu\n",
    "import MaxQuant_Postprocessing_Functions as mq\n",
    "import numpy as np\n",
    "from os import listdir\n",
    "import pandas as pd\n",
    "from sklearn.decomposition import PCA\n",
    "from sklearn.externals import joblib\n",
    "from sklearn import preprocessing\n",
    "import time"
   ]
  },
  {
   "cell_type": "markdown",
   "metadata": {},
   "source": [
    "## Load (and combine?) data from all tissues"
   ]
  },
  {
   "cell_type": "code",
   "execution_count": 3,
   "metadata": {
    "collapsed": true
   },
   "outputs": [],
   "source": [
    "HIGH_QUAL_DIR = 'F:\\High_Quality\\\\'\n",
    "MIXED_QUAL_DIR = 'F:\\Mixed_Quality\\\\'\n",
    "LOW_QUAL_DIR = 'F:\\Low_Quality\\\\'\n",
    "TEST_SET_DIR = 'F:\\Test_Set\\\\'\n",
    "\n",
    "files_dir = HIGH_QUAL_DIR\n",
    "\n",
    "file_paths = listdir(files_dir) \n",
    "\n",
    "df = cu.combine_csvs(files_dir, file_paths)"
   ]
  },
  {
   "cell_type": "code",
   "execution_count": 4,
   "metadata": {},
   "outputs": [
    {
     "name": "stdout",
     "output_type": "stream",
     "text": [
      "(119916, 89)\n"
     ]
    },
    {
     "data": {
      "text/html": [
       "<div>\n",
       "<style>\n",
       "    .dataframe thead tr:only-child th {\n",
       "        text-align: right;\n",
       "    }\n",
       "\n",
       "    .dataframe thead th {\n",
       "        text-align: left;\n",
       "    }\n",
       "\n",
       "    .dataframe tbody tr th {\n",
       "        vertical-align: top;\n",
       "    }\n",
       "</style>\n",
       "<table border=\"1\" class=\"dataframe\">\n",
       "  <thead>\n",
       "    <tr style=\"text-align: right;\">\n",
       "      <th></th>\n",
       "      <th>Blood_Plasma_CPTAC_TrypDige_undepleted_normal_19Apr13_Methow_13-02-13</th>\n",
       "      <th>Blood_Plasma_Darpa_2_human_02_23Jan17_Arwem_16-10-25</th>\n",
       "      <th>Blood_Plasma_OMICS_EBV_HP_UW001_8Apr16_Arwen_16-01-03</th>\n",
       "      <th>Blood_Plasma_OMICS_EBV_HP_UW002_8Apr16_Arwen_16-01-03</th>\n",
       "      <th>Blood_Plasma_OMICS_EBV_HP_UW003_8Apr16_Arwen_16-01-03</th>\n",
       "      <th>Blood_Plasma_OMICS_EBV_HP_UW004_8Apr16_Arwen_16-01-03</th>\n",
       "      <th>Blood_Plasma_OMICS_EBV_HP_UW005_8Apr16_Arwen_16-01-03</th>\n",
       "      <th>Blood_Plasma_RZHJ_012_16Jun10_Owl_10-02-04</th>\n",
       "      <th>Blood_Plasma_Trypsin_Digestion_Step5_Sample1_4Mar13_Lynx_13-02-11</th>\n",
       "      <th>Blood_Plasma_Trypsin_Digestion_Step5_Sample2_4Mar13_Lynx_13-02-11</th>\n",
       "      <th>...</th>\n",
       "      <th>Temporal_Lobe_01</th>\n",
       "      <th>Temporal_Lobe_02</th>\n",
       "      <th>Temporal_Lobe_03</th>\n",
       "      <th>Temporal_Lobe_04</th>\n",
       "      <th>Temporal_Lobe_05</th>\n",
       "      <th>Temporal_Lobe_06</th>\n",
       "      <th>Temporal_Lobe_07</th>\n",
       "      <th>Temporal_Lobe_08</th>\n",
       "      <th>Temporal_Lobe_09</th>\n",
       "      <th>Temporal_Lobe_10</th>\n",
       "    </tr>\n",
       "    <tr>\n",
       "      <th>Peptide</th>\n",
       "      <th></th>\n",
       "      <th></th>\n",
       "      <th></th>\n",
       "      <th></th>\n",
       "      <th></th>\n",
       "      <th></th>\n",
       "      <th></th>\n",
       "      <th></th>\n",
       "      <th></th>\n",
       "      <th></th>\n",
       "      <th></th>\n",
       "      <th></th>\n",
       "      <th></th>\n",
       "      <th></th>\n",
       "      <th></th>\n",
       "      <th></th>\n",
       "      <th></th>\n",
       "      <th></th>\n",
       "      <th></th>\n",
       "      <th></th>\n",
       "      <th></th>\n",
       "    </tr>\n",
       "  </thead>\n",
       "  <tbody>\n",
       "    <tr>\n",
       "      <th>\\n-.DIQM*TQSPSTLSASVGDR.V</th>\n",
       "      <td>111460000.0</td>\n",
       "      <td>4776900.0</td>\n",
       "      <td>NaN</td>\n",
       "      <td>6.740800e+08</td>\n",
       "      <td>1.013200e+09</td>\n",
       "      <td>NaN</td>\n",
       "      <td>201570000.0</td>\n",
       "      <td>NaN</td>\n",
       "      <td>NaN</td>\n",
       "      <td>NaN</td>\n",
       "      <td>...</td>\n",
       "      <td>NaN</td>\n",
       "      <td>NaN</td>\n",
       "      <td>NaN</td>\n",
       "      <td>NaN</td>\n",
       "      <td>NaN</td>\n",
       "      <td>NaN</td>\n",
       "      <td>NaN</td>\n",
       "      <td>NaN</td>\n",
       "      <td>NaN</td>\n",
       "      <td>NaN</td>\n",
       "    </tr>\n",
       "    <tr>\n",
       "      <th>\\n-.DIQM*TQSPSTLSASVGDRVTITCR.A</th>\n",
       "      <td>NaN</td>\n",
       "      <td>NaN</td>\n",
       "      <td>NaN</td>\n",
       "      <td>1.665500e+09</td>\n",
       "      <td>1.889800e+09</td>\n",
       "      <td>NaN</td>\n",
       "      <td>750580000.0</td>\n",
       "      <td>NaN</td>\n",
       "      <td>NaN</td>\n",
       "      <td>NaN</td>\n",
       "      <td>...</td>\n",
       "      <td>NaN</td>\n",
       "      <td>NaN</td>\n",
       "      <td>NaN</td>\n",
       "      <td>NaN</td>\n",
       "      <td>NaN</td>\n",
       "      <td>NaN</td>\n",
       "      <td>NaN</td>\n",
       "      <td>NaN</td>\n",
       "      <td>NaN</td>\n",
       "      <td>NaN</td>\n",
       "    </tr>\n",
       "    <tr>\n",
       "      <th>\\n-.DIQMTQSPS.T</th>\n",
       "      <td>113990000.0</td>\n",
       "      <td>NaN</td>\n",
       "      <td>NaN</td>\n",
       "      <td>NaN</td>\n",
       "      <td>NaN</td>\n",
       "      <td>NaN</td>\n",
       "      <td>NaN</td>\n",
       "      <td>NaN</td>\n",
       "      <td>NaN</td>\n",
       "      <td>NaN</td>\n",
       "      <td>...</td>\n",
       "      <td>NaN</td>\n",
       "      <td>NaN</td>\n",
       "      <td>NaN</td>\n",
       "      <td>NaN</td>\n",
       "      <td>NaN</td>\n",
       "      <td>NaN</td>\n",
       "      <td>NaN</td>\n",
       "      <td>NaN</td>\n",
       "      <td>NaN</td>\n",
       "      <td>NaN</td>\n",
       "    </tr>\n",
       "    <tr>\n",
       "      <th>\\n-.DIQMTQSPSTLSASVGDR.V</th>\n",
       "      <td>87789000.0</td>\n",
       "      <td>271390000.0</td>\n",
       "      <td>NaN</td>\n",
       "      <td>NaN</td>\n",
       "      <td>2.841000e+09</td>\n",
       "      <td>NaN</td>\n",
       "      <td>217430000.0</td>\n",
       "      <td>NaN</td>\n",
       "      <td>12897000.0</td>\n",
       "      <td>29051000.0</td>\n",
       "      <td>...</td>\n",
       "      <td>NaN</td>\n",
       "      <td>NaN</td>\n",
       "      <td>NaN</td>\n",
       "      <td>NaN</td>\n",
       "      <td>NaN</td>\n",
       "      <td>NaN</td>\n",
       "      <td>NaN</td>\n",
       "      <td>NaN</td>\n",
       "      <td>NaN</td>\n",
       "      <td>NaN</td>\n",
       "    </tr>\n",
       "    <tr>\n",
       "      <th>\\n-.DIQMTQSPSTLSASVGDRVTITCR.A</th>\n",
       "      <td>NaN</td>\n",
       "      <td>NaN</td>\n",
       "      <td>NaN</td>\n",
       "      <td>NaN</td>\n",
       "      <td>6.444900e+09</td>\n",
       "      <td>NaN</td>\n",
       "      <td>NaN</td>\n",
       "      <td>NaN</td>\n",
       "      <td>NaN</td>\n",
       "      <td>NaN</td>\n",
       "      <td>...</td>\n",
       "      <td>NaN</td>\n",
       "      <td>NaN</td>\n",
       "      <td>NaN</td>\n",
       "      <td>NaN</td>\n",
       "      <td>NaN</td>\n",
       "      <td>NaN</td>\n",
       "      <td>NaN</td>\n",
       "      <td>NaN</td>\n",
       "      <td>NaN</td>\n",
       "      <td>NaN</td>\n",
       "    </tr>\n",
       "  </tbody>\n",
       "</table>\n",
       "<p>5 rows × 89 columns</p>\n",
       "</div>"
      ],
      "text/plain": [
       "                                 Blood_Plasma_CPTAC_TrypDige_undepleted_normal_19Apr13_Methow_13-02-13  \\\n",
       "Peptide                                                                                                  \n",
       "\\n-.DIQM*TQSPSTLSASVGDR.V                                              111460000.0                       \n",
       "\\n-.DIQM*TQSPSTLSASVGDRVTITCR.A                                                NaN                       \n",
       "\\n-.DIQMTQSPS.T                                                        113990000.0                       \n",
       "\\n-.DIQMTQSPSTLSASVGDR.V                                                87789000.0                       \n",
       "\\n-.DIQMTQSPSTLSASVGDRVTITCR.A                                                 NaN                       \n",
       "\n",
       "                                 Blood_Plasma_Darpa_2_human_02_23Jan17_Arwem_16-10-25  \\\n",
       "Peptide                                                                                 \n",
       "\\n-.DIQM*TQSPSTLSASVGDR.V                                                4776900.0      \n",
       "\\n-.DIQM*TQSPSTLSASVGDRVTITCR.A                                                NaN      \n",
       "\\n-.DIQMTQSPS.T                                                                NaN      \n",
       "\\n-.DIQMTQSPSTLSASVGDR.V                                               271390000.0      \n",
       "\\n-.DIQMTQSPSTLSASVGDRVTITCR.A                                                 NaN      \n",
       "\n",
       "                                 Blood_Plasma_OMICS_EBV_HP_UW001_8Apr16_Arwen_16-01-03  \\\n",
       "Peptide                                                                                  \n",
       "\\n-.DIQM*TQSPSTLSASVGDR.V                                                      NaN       \n",
       "\\n-.DIQM*TQSPSTLSASVGDRVTITCR.A                                                NaN       \n",
       "\\n-.DIQMTQSPS.T                                                                NaN       \n",
       "\\n-.DIQMTQSPSTLSASVGDR.V                                                       NaN       \n",
       "\\n-.DIQMTQSPSTLSASVGDRVTITCR.A                                                 NaN       \n",
       "\n",
       "                                 Blood_Plasma_OMICS_EBV_HP_UW002_8Apr16_Arwen_16-01-03  \\\n",
       "Peptide                                                                                  \n",
       "\\n-.DIQM*TQSPSTLSASVGDR.V                                             6.740800e+08       \n",
       "\\n-.DIQM*TQSPSTLSASVGDRVTITCR.A                                       1.665500e+09       \n",
       "\\n-.DIQMTQSPS.T                                                                NaN       \n",
       "\\n-.DIQMTQSPSTLSASVGDR.V                                                       NaN       \n",
       "\\n-.DIQMTQSPSTLSASVGDRVTITCR.A                                                 NaN       \n",
       "\n",
       "                                 Blood_Plasma_OMICS_EBV_HP_UW003_8Apr16_Arwen_16-01-03  \\\n",
       "Peptide                                                                                  \n",
       "\\n-.DIQM*TQSPSTLSASVGDR.V                                             1.013200e+09       \n",
       "\\n-.DIQM*TQSPSTLSASVGDRVTITCR.A                                       1.889800e+09       \n",
       "\\n-.DIQMTQSPS.T                                                                NaN       \n",
       "\\n-.DIQMTQSPSTLSASVGDR.V                                              2.841000e+09       \n",
       "\\n-.DIQMTQSPSTLSASVGDRVTITCR.A                                        6.444900e+09       \n",
       "\n",
       "                                 Blood_Plasma_OMICS_EBV_HP_UW004_8Apr16_Arwen_16-01-03  \\\n",
       "Peptide                                                                                  \n",
       "\\n-.DIQM*TQSPSTLSASVGDR.V                                                      NaN       \n",
       "\\n-.DIQM*TQSPSTLSASVGDRVTITCR.A                                                NaN       \n",
       "\\n-.DIQMTQSPS.T                                                                NaN       \n",
       "\\n-.DIQMTQSPSTLSASVGDR.V                                                       NaN       \n",
       "\\n-.DIQMTQSPSTLSASVGDRVTITCR.A                                                 NaN       \n",
       "\n",
       "                                 Blood_Plasma_OMICS_EBV_HP_UW005_8Apr16_Arwen_16-01-03  \\\n",
       "Peptide                                                                                  \n",
       "\\n-.DIQM*TQSPSTLSASVGDR.V                                              201570000.0       \n",
       "\\n-.DIQM*TQSPSTLSASVGDRVTITCR.A                                        750580000.0       \n",
       "\\n-.DIQMTQSPS.T                                                                NaN       \n",
       "\\n-.DIQMTQSPSTLSASVGDR.V                                               217430000.0       \n",
       "\\n-.DIQMTQSPSTLSASVGDRVTITCR.A                                                 NaN       \n",
       "\n",
       "                                 Blood_Plasma_RZHJ_012_16Jun10_Owl_10-02-04  \\\n",
       "Peptide                                                                       \n",
       "\\n-.DIQM*TQSPSTLSASVGDR.V                                               NaN   \n",
       "\\n-.DIQM*TQSPSTLSASVGDRVTITCR.A                                         NaN   \n",
       "\\n-.DIQMTQSPS.T                                                         NaN   \n",
       "\\n-.DIQMTQSPSTLSASVGDR.V                                                NaN   \n",
       "\\n-.DIQMTQSPSTLSASVGDRVTITCR.A                                          NaN   \n",
       "\n",
       "                                 Blood_Plasma_Trypsin_Digestion_Step5_Sample1_4Mar13_Lynx_13-02-11  \\\n",
       "Peptide                                                                                              \n",
       "\\n-.DIQM*TQSPSTLSASVGDR.V                                                      NaN                   \n",
       "\\n-.DIQM*TQSPSTLSASVGDRVTITCR.A                                                NaN                   \n",
       "\\n-.DIQMTQSPS.T                                                                NaN                   \n",
       "\\n-.DIQMTQSPSTLSASVGDR.V                                                12897000.0                   \n",
       "\\n-.DIQMTQSPSTLSASVGDRVTITCR.A                                                 NaN                   \n",
       "\n",
       "                                 Blood_Plasma_Trypsin_Digestion_Step5_Sample2_4Mar13_Lynx_13-02-11  \\\n",
       "Peptide                                                                                              \n",
       "\\n-.DIQM*TQSPSTLSASVGDR.V                                                      NaN                   \n",
       "\\n-.DIQM*TQSPSTLSASVGDRVTITCR.A                                                NaN                   \n",
       "\\n-.DIQMTQSPS.T                                                                NaN                   \n",
       "\\n-.DIQMTQSPSTLSASVGDR.V                                                29051000.0                   \n",
       "\\n-.DIQMTQSPSTLSASVGDRVTITCR.A                                                 NaN                   \n",
       "\n",
       "                                       ...         Temporal_Lobe_01  \\\n",
       "Peptide                                ...                            \n",
       "\\n-.DIQM*TQSPSTLSASVGDR.V              ...                      NaN   \n",
       "\\n-.DIQM*TQSPSTLSASVGDRVTITCR.A        ...                      NaN   \n",
       "\\n-.DIQMTQSPS.T                        ...                      NaN   \n",
       "\\n-.DIQMTQSPSTLSASVGDR.V               ...                      NaN   \n",
       "\\n-.DIQMTQSPSTLSASVGDRVTITCR.A         ...                      NaN   \n",
       "\n",
       "                                 Temporal_Lobe_02  Temporal_Lobe_03  \\\n",
       "Peptide                                                               \n",
       "\\n-.DIQM*TQSPSTLSASVGDR.V                     NaN               NaN   \n",
       "\\n-.DIQM*TQSPSTLSASVGDRVTITCR.A               NaN               NaN   \n",
       "\\n-.DIQMTQSPS.T                               NaN               NaN   \n",
       "\\n-.DIQMTQSPSTLSASVGDR.V                      NaN               NaN   \n",
       "\\n-.DIQMTQSPSTLSASVGDRVTITCR.A                NaN               NaN   \n",
       "\n",
       "                                 Temporal_Lobe_04  Temporal_Lobe_05  \\\n",
       "Peptide                                                               \n",
       "\\n-.DIQM*TQSPSTLSASVGDR.V                     NaN               NaN   \n",
       "\\n-.DIQM*TQSPSTLSASVGDRVTITCR.A               NaN               NaN   \n",
       "\\n-.DIQMTQSPS.T                               NaN               NaN   \n",
       "\\n-.DIQMTQSPSTLSASVGDR.V                      NaN               NaN   \n",
       "\\n-.DIQMTQSPSTLSASVGDRVTITCR.A                NaN               NaN   \n",
       "\n",
       "                                 Temporal_Lobe_06  Temporal_Lobe_07  \\\n",
       "Peptide                                                               \n",
       "\\n-.DIQM*TQSPSTLSASVGDR.V                     NaN               NaN   \n",
       "\\n-.DIQM*TQSPSTLSASVGDRVTITCR.A               NaN               NaN   \n",
       "\\n-.DIQMTQSPS.T                               NaN               NaN   \n",
       "\\n-.DIQMTQSPSTLSASVGDR.V                      NaN               NaN   \n",
       "\\n-.DIQMTQSPSTLSASVGDRVTITCR.A                NaN               NaN   \n",
       "\n",
       "                                 Temporal_Lobe_08  Temporal_Lobe_09  \\\n",
       "Peptide                                                               \n",
       "\\n-.DIQM*TQSPSTLSASVGDR.V                     NaN               NaN   \n",
       "\\n-.DIQM*TQSPSTLSASVGDRVTITCR.A               NaN               NaN   \n",
       "\\n-.DIQMTQSPS.T                               NaN               NaN   \n",
       "\\n-.DIQMTQSPSTLSASVGDR.V                      NaN               NaN   \n",
       "\\n-.DIQMTQSPSTLSASVGDRVTITCR.A                NaN               NaN   \n",
       "\n",
       "                                 Temporal_Lobe_10  \n",
       "Peptide                                            \n",
       "\\n-.DIQM*TQSPSTLSASVGDR.V                     NaN  \n",
       "\\n-.DIQM*TQSPSTLSASVGDRVTITCR.A               NaN  \n",
       "\\n-.DIQMTQSPS.T                               NaN  \n",
       "\\n-.DIQMTQSPSTLSASVGDR.V                      NaN  \n",
       "\\n-.DIQMTQSPSTLSASVGDRVTITCR.A                NaN  \n",
       "\n",
       "[5 rows x 89 columns]"
      ]
     },
     "execution_count": 4,
     "metadata": {},
     "output_type": "execute_result"
    }
   ],
   "source": [
    "df.dropna(axis='index', how='all', inplace=True) # drop any rows where all values are missing\n",
    "\n",
    "original_df = df.copy()\n",
    "\n",
    "print(df.shape)\n",
    "df.head()"
   ]
  },
  {
   "cell_type": "markdown",
   "metadata": {},
   "source": [
    "## Clean data\n",
    "* Log2 transform\n",
    "* Impute missing values\n",
    "* Mean/Median normalize"
   ]
  },
  {
   "cell_type": "code",
   "execution_count": 5,
   "metadata": {},
   "outputs": [
    {
     "name": "stderr",
     "output_type": "stream",
     "text": [
      "C:\\Users\\kush494\\Documents\\Proteomics_Data_Processing\\MaxQuant_Postprocessing_Functions.py:149: RuntimeWarning: divide by zero encountered in log2\n",
      "  df.iloc[:,:] = np.log2(df.iloc[:,:])\n"
     ]
    }
   ],
   "source": [
    "mq.log2_normalize(df)\n",
    "\n",
    "df_min = df.min().min()\n",
    "impute_val = df_min/2\n",
    "df = df.fillna(impute_val)\n",
    "\n",
    "# median normalize\n",
    "mq.median_normalize(df)\n",
    "#df.iloc[:,:] = preprocessing.RobustScaler().fit_transform(df)"
   ]
  },
  {
   "cell_type": "markdown",
   "metadata": {},
   "source": [
    "## Map each column to a corresponding label"
   ]
  },
  {
   "cell_type": "code",
   "execution_count": 6,
   "metadata": {
    "collapsed": true
   },
   "outputs": [],
   "source": [
    "tissues = ['Blood_Plasma', 'Blood_Serum', 'CSF', 'Liver', 'Monocyte', 'Ovary', 'Pancreas', 'Substantia_Nigra', 'Temporal_Lobe']\n",
    " \n",
    "tissues_to_columns = cu.map_tissues_to_columns(df, tissues)\n",
    "#tissues_to_columns"
   ]
  },
  {
   "cell_type": "code",
   "execution_count": 7,
   "metadata": {
    "collapsed": true
   },
   "outputs": [],
   "source": [
    "column_names = df.columns.values.tolist()\n",
    "labels = cu.get_labels(column_names, tissues_to_columns)\n",
    "\n",
    "# Sort columns by tissue type for visualization purposes"
   ]
  },
  {
   "cell_type": "code",
   "execution_count": 8,
   "metadata": {
    "scrolled": true
   },
   "outputs": [
    {
     "data": {
      "text/html": [
       "<div>\n",
       "<style>\n",
       "    .dataframe thead tr:only-child th {\n",
       "        text-align: right;\n",
       "    }\n",
       "\n",
       "    .dataframe thead th {\n",
       "        text-align: left;\n",
       "    }\n",
       "\n",
       "    .dataframe tbody tr th {\n",
       "        vertical-align: top;\n",
       "    }\n",
       "</style>\n",
       "<table border=\"1\" class=\"dataframe\">\n",
       "  <thead>\n",
       "    <tr style=\"text-align: right;\">\n",
       "      <th></th>\n",
       "      <th>Blood_Plasma_CPTAC_TrypDige_undepleted_normal_19Apr13_Methow_13-02-13</th>\n",
       "      <th>Blood_Plasma_Darpa_2_human_02_23Jan17_Arwem_16-10-25</th>\n",
       "      <th>Blood_Plasma_OMICS_EBV_HP_UW001_8Apr16_Arwen_16-01-03</th>\n",
       "      <th>Blood_Plasma_OMICS_EBV_HP_UW002_8Apr16_Arwen_16-01-03</th>\n",
       "      <th>Blood_Plasma_OMICS_EBV_HP_UW003_8Apr16_Arwen_16-01-03</th>\n",
       "      <th>Blood_Plasma_OMICS_EBV_HP_UW004_8Apr16_Arwen_16-01-03</th>\n",
       "      <th>Blood_Plasma_OMICS_EBV_HP_UW005_8Apr16_Arwen_16-01-03</th>\n",
       "      <th>Blood_Plasma_RZHJ_012_16Jun10_Owl_10-02-04</th>\n",
       "      <th>Blood_Plasma_Trypsin_Digestion_Step5_Sample1_4Mar13_Lynx_13-02-11</th>\n",
       "      <th>Blood_Plasma_Trypsin_Digestion_Step5_Sample2_4Mar13_Lynx_13-02-11</th>\n",
       "      <th>...</th>\n",
       "      <th>Temporal_Lobe_01</th>\n",
       "      <th>Temporal_Lobe_02</th>\n",
       "      <th>Temporal_Lobe_03</th>\n",
       "      <th>Temporal_Lobe_04</th>\n",
       "      <th>Temporal_Lobe_05</th>\n",
       "      <th>Temporal_Lobe_06</th>\n",
       "      <th>Temporal_Lobe_07</th>\n",
       "      <th>Temporal_Lobe_08</th>\n",
       "      <th>Temporal_Lobe_09</th>\n",
       "      <th>Temporal_Lobe_10</th>\n",
       "    </tr>\n",
       "    <tr>\n",
       "      <th>Peptide</th>\n",
       "      <th></th>\n",
       "      <th></th>\n",
       "      <th></th>\n",
       "      <th></th>\n",
       "      <th></th>\n",
       "      <th></th>\n",
       "      <th></th>\n",
       "      <th></th>\n",
       "      <th></th>\n",
       "      <th></th>\n",
       "      <th></th>\n",
       "      <th></th>\n",
       "      <th></th>\n",
       "      <th></th>\n",
       "      <th></th>\n",
       "      <th></th>\n",
       "      <th></th>\n",
       "      <th></th>\n",
       "      <th></th>\n",
       "      <th></th>\n",
       "      <th></th>\n",
       "    </tr>\n",
       "  </thead>\n",
       "  <tbody>\n",
       "    <tr>\n",
       "      <th>\\n-.DIQM*TQSPSTLSASVGDR.V</th>\n",
       "      <td>26.731951</td>\n",
       "      <td>22.187643</td>\n",
       "      <td>3.022208</td>\n",
       "      <td>29.328345</td>\n",
       "      <td>29.916272</td>\n",
       "      <td>3.022208</td>\n",
       "      <td>27.586706</td>\n",
       "      <td>3.022208</td>\n",
       "      <td>3.022208</td>\n",
       "      <td>3.022208</td>\n",
       "      <td>...</td>\n",
       "      <td>3.022208</td>\n",
       "      <td>3.022208</td>\n",
       "      <td>3.022208</td>\n",
       "      <td>3.022208</td>\n",
       "      <td>3.022208</td>\n",
       "      <td>3.022208</td>\n",
       "      <td>3.022208</td>\n",
       "      <td>3.022208</td>\n",
       "      <td>3.022208</td>\n",
       "      <td>3.022208</td>\n",
       "    </tr>\n",
       "    <tr>\n",
       "      <th>\\n-.DIQM*TQSPSTLSASVGDRVTITCR.A</th>\n",
       "      <td>3.022208</td>\n",
       "      <td>3.022208</td>\n",
       "      <td>3.022208</td>\n",
       "      <td>30.633308</td>\n",
       "      <td>30.815586</td>\n",
       "      <td>3.022208</td>\n",
       "      <td>29.483431</td>\n",
       "      <td>3.022208</td>\n",
       "      <td>3.022208</td>\n",
       "      <td>3.022208</td>\n",
       "      <td>...</td>\n",
       "      <td>3.022208</td>\n",
       "      <td>3.022208</td>\n",
       "      <td>3.022208</td>\n",
       "      <td>3.022208</td>\n",
       "      <td>3.022208</td>\n",
       "      <td>3.022208</td>\n",
       "      <td>3.022208</td>\n",
       "      <td>3.022208</td>\n",
       "      <td>3.022208</td>\n",
       "      <td>3.022208</td>\n",
       "    </tr>\n",
       "    <tr>\n",
       "      <th>\\n-.DIQMTQSPS.T</th>\n",
       "      <td>26.764332</td>\n",
       "      <td>3.022208</td>\n",
       "      <td>3.022208</td>\n",
       "      <td>3.022208</td>\n",
       "      <td>3.022208</td>\n",
       "      <td>3.022208</td>\n",
       "      <td>3.022208</td>\n",
       "      <td>3.022208</td>\n",
       "      <td>3.022208</td>\n",
       "      <td>3.022208</td>\n",
       "      <td>...</td>\n",
       "      <td>3.022208</td>\n",
       "      <td>3.022208</td>\n",
       "      <td>3.022208</td>\n",
       "      <td>3.022208</td>\n",
       "      <td>3.022208</td>\n",
       "      <td>3.022208</td>\n",
       "      <td>3.022208</td>\n",
       "      <td>3.022208</td>\n",
       "      <td>3.022208</td>\n",
       "      <td>3.022208</td>\n",
       "    </tr>\n",
       "    <tr>\n",
       "      <th>\\n-.DIQMTQSPSTLSASVGDR.V</th>\n",
       "      <td>26.387537</td>\n",
       "      <td>28.015792</td>\n",
       "      <td>3.022208</td>\n",
       "      <td>3.022208</td>\n",
       "      <td>31.403752</td>\n",
       "      <td>3.022208</td>\n",
       "      <td>27.695976</td>\n",
       "      <td>3.022208</td>\n",
       "      <td>23.620532</td>\n",
       "      <td>24.792084</td>\n",
       "      <td>...</td>\n",
       "      <td>3.022208</td>\n",
       "      <td>3.022208</td>\n",
       "      <td>3.022208</td>\n",
       "      <td>3.022208</td>\n",
       "      <td>3.022208</td>\n",
       "      <td>3.022208</td>\n",
       "      <td>3.022208</td>\n",
       "      <td>3.022208</td>\n",
       "      <td>3.022208</td>\n",
       "      <td>3.022208</td>\n",
       "    </tr>\n",
       "    <tr>\n",
       "      <th>\\n-.DIQMTQSPSTLSASVGDRVTITCR.A</th>\n",
       "      <td>3.022208</td>\n",
       "      <td>3.022208</td>\n",
       "      <td>3.022208</td>\n",
       "      <td>3.022208</td>\n",
       "      <td>32.585511</td>\n",
       "      <td>3.022208</td>\n",
       "      <td>3.022208</td>\n",
       "      <td>3.022208</td>\n",
       "      <td>3.022208</td>\n",
       "      <td>3.022208</td>\n",
       "      <td>...</td>\n",
       "      <td>3.022208</td>\n",
       "      <td>3.022208</td>\n",
       "      <td>3.022208</td>\n",
       "      <td>3.022208</td>\n",
       "      <td>3.022208</td>\n",
       "      <td>3.022208</td>\n",
       "      <td>3.022208</td>\n",
       "      <td>3.022208</td>\n",
       "      <td>3.022208</td>\n",
       "      <td>3.022208</td>\n",
       "    </tr>\n",
       "  </tbody>\n",
       "</table>\n",
       "<p>5 rows × 89 columns</p>\n",
       "</div>"
      ],
      "text/plain": [
       "                                 Blood_Plasma_CPTAC_TrypDige_undepleted_normal_19Apr13_Methow_13-02-13  \\\n",
       "Peptide                                                                                                  \n",
       "\\n-.DIQM*TQSPSTLSASVGDR.V                                                26.731951                       \n",
       "\\n-.DIQM*TQSPSTLSASVGDRVTITCR.A                                           3.022208                       \n",
       "\\n-.DIQMTQSPS.T                                                          26.764332                       \n",
       "\\n-.DIQMTQSPSTLSASVGDR.V                                                 26.387537                       \n",
       "\\n-.DIQMTQSPSTLSASVGDRVTITCR.A                                            3.022208                       \n",
       "\n",
       "                                 Blood_Plasma_Darpa_2_human_02_23Jan17_Arwem_16-10-25  \\\n",
       "Peptide                                                                                 \n",
       "\\n-.DIQM*TQSPSTLSASVGDR.V                                                22.187643      \n",
       "\\n-.DIQM*TQSPSTLSASVGDRVTITCR.A                                           3.022208      \n",
       "\\n-.DIQMTQSPS.T                                                           3.022208      \n",
       "\\n-.DIQMTQSPSTLSASVGDR.V                                                 28.015792      \n",
       "\\n-.DIQMTQSPSTLSASVGDRVTITCR.A                                            3.022208      \n",
       "\n",
       "                                 Blood_Plasma_OMICS_EBV_HP_UW001_8Apr16_Arwen_16-01-03  \\\n",
       "Peptide                                                                                  \n",
       "\\n-.DIQM*TQSPSTLSASVGDR.V                                                 3.022208       \n",
       "\\n-.DIQM*TQSPSTLSASVGDRVTITCR.A                                           3.022208       \n",
       "\\n-.DIQMTQSPS.T                                                           3.022208       \n",
       "\\n-.DIQMTQSPSTLSASVGDR.V                                                  3.022208       \n",
       "\\n-.DIQMTQSPSTLSASVGDRVTITCR.A                                            3.022208       \n",
       "\n",
       "                                 Blood_Plasma_OMICS_EBV_HP_UW002_8Apr16_Arwen_16-01-03  \\\n",
       "Peptide                                                                                  \n",
       "\\n-.DIQM*TQSPSTLSASVGDR.V                                                29.328345       \n",
       "\\n-.DIQM*TQSPSTLSASVGDRVTITCR.A                                          30.633308       \n",
       "\\n-.DIQMTQSPS.T                                                           3.022208       \n",
       "\\n-.DIQMTQSPSTLSASVGDR.V                                                  3.022208       \n",
       "\\n-.DIQMTQSPSTLSASVGDRVTITCR.A                                            3.022208       \n",
       "\n",
       "                                 Blood_Plasma_OMICS_EBV_HP_UW003_8Apr16_Arwen_16-01-03  \\\n",
       "Peptide                                                                                  \n",
       "\\n-.DIQM*TQSPSTLSASVGDR.V                                                29.916272       \n",
       "\\n-.DIQM*TQSPSTLSASVGDRVTITCR.A                                          30.815586       \n",
       "\\n-.DIQMTQSPS.T                                                           3.022208       \n",
       "\\n-.DIQMTQSPSTLSASVGDR.V                                                 31.403752       \n",
       "\\n-.DIQMTQSPSTLSASVGDRVTITCR.A                                           32.585511       \n",
       "\n",
       "                                 Blood_Plasma_OMICS_EBV_HP_UW004_8Apr16_Arwen_16-01-03  \\\n",
       "Peptide                                                                                  \n",
       "\\n-.DIQM*TQSPSTLSASVGDR.V                                                 3.022208       \n",
       "\\n-.DIQM*TQSPSTLSASVGDRVTITCR.A                                           3.022208       \n",
       "\\n-.DIQMTQSPS.T                                                           3.022208       \n",
       "\\n-.DIQMTQSPSTLSASVGDR.V                                                  3.022208       \n",
       "\\n-.DIQMTQSPSTLSASVGDRVTITCR.A                                            3.022208       \n",
       "\n",
       "                                 Blood_Plasma_OMICS_EBV_HP_UW005_8Apr16_Arwen_16-01-03  \\\n",
       "Peptide                                                                                  \n",
       "\\n-.DIQM*TQSPSTLSASVGDR.V                                                27.586706       \n",
       "\\n-.DIQM*TQSPSTLSASVGDRVTITCR.A                                          29.483431       \n",
       "\\n-.DIQMTQSPS.T                                                           3.022208       \n",
       "\\n-.DIQMTQSPSTLSASVGDR.V                                                 27.695976       \n",
       "\\n-.DIQMTQSPSTLSASVGDRVTITCR.A                                            3.022208       \n",
       "\n",
       "                                 Blood_Plasma_RZHJ_012_16Jun10_Owl_10-02-04  \\\n",
       "Peptide                                                                       \n",
       "\\n-.DIQM*TQSPSTLSASVGDR.V                                          3.022208   \n",
       "\\n-.DIQM*TQSPSTLSASVGDRVTITCR.A                                    3.022208   \n",
       "\\n-.DIQMTQSPS.T                                                    3.022208   \n",
       "\\n-.DIQMTQSPSTLSASVGDR.V                                           3.022208   \n",
       "\\n-.DIQMTQSPSTLSASVGDRVTITCR.A                                     3.022208   \n",
       "\n",
       "                                 Blood_Plasma_Trypsin_Digestion_Step5_Sample1_4Mar13_Lynx_13-02-11  \\\n",
       "Peptide                                                                                              \n",
       "\\n-.DIQM*TQSPSTLSASVGDR.V                                                 3.022208                   \n",
       "\\n-.DIQM*TQSPSTLSASVGDRVTITCR.A                                           3.022208                   \n",
       "\\n-.DIQMTQSPS.T                                                           3.022208                   \n",
       "\\n-.DIQMTQSPSTLSASVGDR.V                                                 23.620532                   \n",
       "\\n-.DIQMTQSPSTLSASVGDRVTITCR.A                                            3.022208                   \n",
       "\n",
       "                                 Blood_Plasma_Trypsin_Digestion_Step5_Sample2_4Mar13_Lynx_13-02-11  \\\n",
       "Peptide                                                                                              \n",
       "\\n-.DIQM*TQSPSTLSASVGDR.V                                                 3.022208                   \n",
       "\\n-.DIQM*TQSPSTLSASVGDRVTITCR.A                                           3.022208                   \n",
       "\\n-.DIQMTQSPS.T                                                           3.022208                   \n",
       "\\n-.DIQMTQSPSTLSASVGDR.V                                                 24.792084                   \n",
       "\\n-.DIQMTQSPSTLSASVGDRVTITCR.A                                            3.022208                   \n",
       "\n",
       "                                       ...         Temporal_Lobe_01  \\\n",
       "Peptide                                ...                            \n",
       "\\n-.DIQM*TQSPSTLSASVGDR.V              ...                 3.022208   \n",
       "\\n-.DIQM*TQSPSTLSASVGDRVTITCR.A        ...                 3.022208   \n",
       "\\n-.DIQMTQSPS.T                        ...                 3.022208   \n",
       "\\n-.DIQMTQSPSTLSASVGDR.V               ...                 3.022208   \n",
       "\\n-.DIQMTQSPSTLSASVGDRVTITCR.A         ...                 3.022208   \n",
       "\n",
       "                                 Temporal_Lobe_02  Temporal_Lobe_03  \\\n",
       "Peptide                                                               \n",
       "\\n-.DIQM*TQSPSTLSASVGDR.V                3.022208          3.022208   \n",
       "\\n-.DIQM*TQSPSTLSASVGDRVTITCR.A          3.022208          3.022208   \n",
       "\\n-.DIQMTQSPS.T                          3.022208          3.022208   \n",
       "\\n-.DIQMTQSPSTLSASVGDR.V                 3.022208          3.022208   \n",
       "\\n-.DIQMTQSPSTLSASVGDRVTITCR.A           3.022208          3.022208   \n",
       "\n",
       "                                 Temporal_Lobe_04  Temporal_Lobe_05  \\\n",
       "Peptide                                                               \n",
       "\\n-.DIQM*TQSPSTLSASVGDR.V                3.022208          3.022208   \n",
       "\\n-.DIQM*TQSPSTLSASVGDRVTITCR.A          3.022208          3.022208   \n",
       "\\n-.DIQMTQSPS.T                          3.022208          3.022208   \n",
       "\\n-.DIQMTQSPSTLSASVGDR.V                 3.022208          3.022208   \n",
       "\\n-.DIQMTQSPSTLSASVGDRVTITCR.A           3.022208          3.022208   \n",
       "\n",
       "                                 Temporal_Lobe_06  Temporal_Lobe_07  \\\n",
       "Peptide                                                               \n",
       "\\n-.DIQM*TQSPSTLSASVGDR.V                3.022208          3.022208   \n",
       "\\n-.DIQM*TQSPSTLSASVGDRVTITCR.A          3.022208          3.022208   \n",
       "\\n-.DIQMTQSPS.T                          3.022208          3.022208   \n",
       "\\n-.DIQMTQSPSTLSASVGDR.V                 3.022208          3.022208   \n",
       "\\n-.DIQMTQSPSTLSASVGDRVTITCR.A           3.022208          3.022208   \n",
       "\n",
       "                                 Temporal_Lobe_08  Temporal_Lobe_09  \\\n",
       "Peptide                                                               \n",
       "\\n-.DIQM*TQSPSTLSASVGDR.V                3.022208          3.022208   \n",
       "\\n-.DIQM*TQSPSTLSASVGDRVTITCR.A          3.022208          3.022208   \n",
       "\\n-.DIQMTQSPS.T                          3.022208          3.022208   \n",
       "\\n-.DIQMTQSPSTLSASVGDR.V                 3.022208          3.022208   \n",
       "\\n-.DIQMTQSPSTLSASVGDRVTITCR.A           3.022208          3.022208   \n",
       "\n",
       "                                 Temporal_Lobe_10  \n",
       "Peptide                                            \n",
       "\\n-.DIQM*TQSPSTLSASVGDR.V                3.022208  \n",
       "\\n-.DIQM*TQSPSTLSASVGDRVTITCR.A          3.022208  \n",
       "\\n-.DIQMTQSPS.T                          3.022208  \n",
       "\\n-.DIQMTQSPSTLSASVGDR.V                 3.022208  \n",
       "\\n-.DIQMTQSPSTLSASVGDRVTITCR.A           3.022208  \n",
       "\n",
       "[5 rows x 89 columns]"
      ]
     },
     "execution_count": 8,
     "metadata": {},
     "output_type": "execute_result"
    }
   ],
   "source": [
    "df.head()"
   ]
  },
  {
   "cell_type": "markdown",
   "metadata": {},
   "source": [
    "### Optional step to pairwise transform data"
   ]
  },
  {
   "cell_type": "code",
   "execution_count": 9,
   "metadata": {},
   "outputs": [
    {
     "data": {
      "text/plain": [
       "'\\ntransform_start_time = time.time()\\n\\ndf = cu.keep_k_best_features(df, labels, 500)\\ndf = cu.pairwise_transform(df)\\n\\nprint(\"--- %s minutes ---\" % ((time.time() - transform_start_time)/60))\\n'"
      ]
     },
     "execution_count": 9,
     "metadata": {},
     "output_type": "execute_result"
    }
   ],
   "source": [
    "\"\"\"\n",
    "transform_start_time = time.time()\n",
    "\n",
    "df = cu.keep_k_best_features(df, labels, 500)\n",
    "df = cu.pairwise_transform(df)\n",
    "\n",
    "print(\"--- %s minutes ---\" % ((time.time() - transform_start_time)/60))\n",
    "\"\"\""
   ]
  },
  {
   "cell_type": "markdown",
   "metadata": {},
   "source": [
    "### For testing purposes: threshold data"
   ]
  },
  {
   "cell_type": "code",
   "execution_count": 10,
   "metadata": {},
   "outputs": [],
   "source": [
    "import math\n",
    "\n",
    "df_t = df.T\n",
    "num_rows = df_t.shape[1]\n",
    "\n",
    "one_protein_df = df_t.drop(df_t.columns[list(range(num_rows-1))], axis=1)\n",
    "fifteen_protein_df = df_t.drop(df_t.columns[list(range(num_rows-15))], axis=1)\n",
    "sixteenthpercent_df = df_t.drop(df_t.columns[list(range(math.floor(num_rows*(1599/1600))))], axis=1)\n",
    "eighthpercent_df = df_t.drop(df_t.columns[list(range(math.floor(num_rows*(799/800))))], axis=1)\n",
    "quarterpercent_df = df_t.drop(df_t.columns[list(range(math.floor(num_rows*(399/400))))], axis=1)\n",
    "halfpercent_df = df_t.drop(df_t.columns[list(range(math.floor(num_rows*(199/200))))], axis=1)\n",
    "one_percent_df = df_t.drop(df_t.columns[list(range(math.floor(num_rows*(99/100))))], axis=1)\n",
    "twentieth_df = df_t.drop(df_t.columns[list(range(math.floor(num_rows*(95/100))))], axis=1)\n",
    "tenth_df = df_t.drop(df_t.columns[list(range(math.floor(num_rows*(9/10))))], axis=1)\n",
    "quarter_df = df_t.drop(df_t.columns[list(range(math.floor(num_rows*(3/4))))], axis=1)\n",
    "half_df = df_t.drop(df_t.columns[list(range(num_rows//2))], axis=1)\n",
    "three_quarters_df = df_t.drop(df_t.columns[list(range(num_rows//4))], axis=1)\n",
    "nine_tenths_df = df_t.drop(df_t.columns[list(range(num_rows//10))], axis=1)"
   ]
  },
  {
   "cell_type": "code",
   "execution_count": 11,
   "metadata": {},
   "outputs": [
    {
     "data": {
      "text/plain": [
       "(89, 1)"
      ]
     },
     "execution_count": 11,
     "metadata": {},
     "output_type": "execute_result"
    }
   ],
   "source": [
    "thresholded_df = one_protein_df\n",
    "thresholded_df.shape"
   ]
  },
  {
   "cell_type": "markdown",
   "metadata": {},
   "source": [
    "## Visualize data\n",
    "* Normalized boxplots\n",
    "* Scree plot\n",
    "* PCA plot\n",
    "* Pearson Matrix"
   ]
  },
  {
   "cell_type": "code",
   "execution_count": 186,
   "metadata": {
    "collapsed": true,
    "scrolled": true
   },
   "outputs": [],
   "source": [
    "image_dir = r'D:\\Images\\Human_Tissues\\\\'\n",
    "\n",
    "column_to_color = mq.map_colors(tissues, tissues_to_columns, 9)"
   ]
  },
  {
   "cell_type": "code",
   "execution_count": 187,
   "metadata": {
    "collapsed": true,
    "scrolled": true
   },
   "outputs": [],
   "source": [
    "mq.make_seaborn_boxplot(df, image_dir, 'Median_normalized_boxplots', column_to_color)"
   ]
  },
  {
   "cell_type": "code",
   "execution_count": 188,
   "metadata": {
    "scrolled": true
   },
   "outputs": [
    {
     "ename": "KeyboardInterrupt",
     "evalue": "",
     "output_type": "error",
     "traceback": [
      "\u001b[1;31m---------------------------------------------------------------------------\u001b[0m",
      "\u001b[1;31mKeyboardInterrupt\u001b[0m                         Traceback (most recent call last)",
      "\u001b[1;32m<ipython-input-188-347a70069d91>\u001b[0m in \u001b[0;36m<module>\u001b[1;34m()\u001b[0m\n\u001b[0;32m      3\u001b[0m \u001b[1;33m\u001b[0m\u001b[0m\n\u001b[0;32m      4\u001b[0m \u001b[0mpca\u001b[0m \u001b[1;33m=\u001b[0m \u001b[0mPCA\u001b[0m\u001b[1;33m(\u001b[0m\u001b[1;33m)\u001b[0m \u001b[1;31m# create a PCA object\u001b[0m\u001b[1;33m\u001b[0m\u001b[0m\n\u001b[1;32m----> 5\u001b[1;33m \u001b[0mpca\u001b[0m\u001b[1;33m.\u001b[0m\u001b[0mfit\u001b[0m\u001b[1;33m(\u001b[0m\u001b[0mscaled_data\u001b[0m\u001b[1;33m)\u001b[0m \u001b[1;31m# do the math\u001b[0m\u001b[1;33m\u001b[0m\u001b[0m\n\u001b[0m\u001b[0;32m      6\u001b[0m \u001b[0mpca_data\u001b[0m \u001b[1;33m=\u001b[0m \u001b[0mpca\u001b[0m\u001b[1;33m.\u001b[0m\u001b[0mtransform\u001b[0m\u001b[1;33m(\u001b[0m\u001b[0mscaled_data\u001b[0m\u001b[1;33m)\u001b[0m \u001b[1;31m# get PCA coordinates for dataframe\u001b[0m\u001b[1;33m\u001b[0m\u001b[0m\n\u001b[0;32m      7\u001b[0m \u001b[1;33m\u001b[0m\u001b[0m\n",
      "\u001b[1;32m~\\AppData\\Local\\Continuum\\anaconda3\\lib\\site-packages\\sklearn\\decomposition\\pca.py\u001b[0m in \u001b[0;36mfit\u001b[1;34m(self, X, y)\u001b[0m\n\u001b[0;32m    327\u001b[0m             \u001b[0mReturns\u001b[0m \u001b[0mthe\u001b[0m \u001b[0minstance\u001b[0m \u001b[0mitself\u001b[0m\u001b[1;33m.\u001b[0m\u001b[1;33m\u001b[0m\u001b[0m\n\u001b[0;32m    328\u001b[0m         \"\"\"\n\u001b[1;32m--> 329\u001b[1;33m         \u001b[0mself\u001b[0m\u001b[1;33m.\u001b[0m\u001b[0m_fit\u001b[0m\u001b[1;33m(\u001b[0m\u001b[0mX\u001b[0m\u001b[1;33m)\u001b[0m\u001b[1;33m\u001b[0m\u001b[0m\n\u001b[0m\u001b[0;32m    330\u001b[0m         \u001b[1;32mreturn\u001b[0m \u001b[0mself\u001b[0m\u001b[1;33m\u001b[0m\u001b[0m\n\u001b[0;32m    331\u001b[0m \u001b[1;33m\u001b[0m\u001b[0m\n",
      "\u001b[1;32m~\\AppData\\Local\\Continuum\\anaconda3\\lib\\site-packages\\sklearn\\decomposition\\pca.py\u001b[0m in \u001b[0;36m_fit\u001b[1;34m(self, X)\u001b[0m\n\u001b[0;32m    390\u001b[0m         \u001b[1;31m# Call different fits for either full or truncated SVD\u001b[0m\u001b[1;33m\u001b[0m\u001b[1;33m\u001b[0m\u001b[0m\n\u001b[0;32m    391\u001b[0m         \u001b[1;32mif\u001b[0m \u001b[0msvd_solver\u001b[0m \u001b[1;33m==\u001b[0m \u001b[1;34m'full'\u001b[0m\u001b[1;33m:\u001b[0m\u001b[1;33m\u001b[0m\u001b[0m\n\u001b[1;32m--> 392\u001b[1;33m             \u001b[1;32mreturn\u001b[0m \u001b[0mself\u001b[0m\u001b[1;33m.\u001b[0m\u001b[0m_fit_full\u001b[0m\u001b[1;33m(\u001b[0m\u001b[0mX\u001b[0m\u001b[1;33m,\u001b[0m \u001b[0mn_components\u001b[0m\u001b[1;33m)\u001b[0m\u001b[1;33m\u001b[0m\u001b[0m\n\u001b[0m\u001b[0;32m    393\u001b[0m         \u001b[1;32melif\u001b[0m \u001b[0msvd_solver\u001b[0m \u001b[1;32min\u001b[0m \u001b[1;33m[\u001b[0m\u001b[1;34m'arpack'\u001b[0m\u001b[1;33m,\u001b[0m \u001b[1;34m'randomized'\u001b[0m\u001b[1;33m]\u001b[0m\u001b[1;33m:\u001b[0m\u001b[1;33m\u001b[0m\u001b[0m\n\u001b[0;32m    394\u001b[0m             \u001b[1;32mreturn\u001b[0m \u001b[0mself\u001b[0m\u001b[1;33m.\u001b[0m\u001b[0m_fit_truncated\u001b[0m\u001b[1;33m(\u001b[0m\u001b[0mX\u001b[0m\u001b[1;33m,\u001b[0m \u001b[0mn_components\u001b[0m\u001b[1;33m,\u001b[0m \u001b[0msvd_solver\u001b[0m\u001b[1;33m)\u001b[0m\u001b[1;33m\u001b[0m\u001b[0m\n",
      "\u001b[1;32m~\\AppData\\Local\\Continuum\\anaconda3\\lib\\site-packages\\sklearn\\decomposition\\pca.py\u001b[0m in \u001b[0;36m_fit_full\u001b[1;34m(self, X, n_components)\u001b[0m\n\u001b[0;32m    414\u001b[0m         \u001b[0mX\u001b[0m \u001b[1;33m-=\u001b[0m \u001b[0mself\u001b[0m\u001b[1;33m.\u001b[0m\u001b[0mmean_\u001b[0m\u001b[1;33m\u001b[0m\u001b[0m\n\u001b[0;32m    415\u001b[0m \u001b[1;33m\u001b[0m\u001b[0m\n\u001b[1;32m--> 416\u001b[1;33m         \u001b[0mU\u001b[0m\u001b[1;33m,\u001b[0m \u001b[0mS\u001b[0m\u001b[1;33m,\u001b[0m \u001b[0mV\u001b[0m \u001b[1;33m=\u001b[0m \u001b[0mlinalg\u001b[0m\u001b[1;33m.\u001b[0m\u001b[0msvd\u001b[0m\u001b[1;33m(\u001b[0m\u001b[0mX\u001b[0m\u001b[1;33m,\u001b[0m \u001b[0mfull_matrices\u001b[0m\u001b[1;33m=\u001b[0m\u001b[1;32mFalse\u001b[0m\u001b[1;33m)\u001b[0m\u001b[1;33m\u001b[0m\u001b[0m\n\u001b[0m\u001b[0;32m    417\u001b[0m         \u001b[1;31m# flip eigenvectors' sign to enforce deterministic output\u001b[0m\u001b[1;33m\u001b[0m\u001b[1;33m\u001b[0m\u001b[0m\n\u001b[0;32m    418\u001b[0m         \u001b[0mU\u001b[0m\u001b[1;33m,\u001b[0m \u001b[0mV\u001b[0m \u001b[1;33m=\u001b[0m \u001b[0msvd_flip\u001b[0m\u001b[1;33m(\u001b[0m\u001b[0mU\u001b[0m\u001b[1;33m,\u001b[0m \u001b[0mV\u001b[0m\u001b[1;33m)\u001b[0m\u001b[1;33m\u001b[0m\u001b[0m\n",
      "\u001b[1;32m~\\AppData\\Local\\Continuum\\anaconda3\\lib\\site-packages\\scipy\\linalg\\decomp_svd.py\u001b[0m in \u001b[0;36msvd\u001b[1;34m(a, full_matrices, compute_uv, overwrite_a, check_finite, lapack_driver)\u001b[0m\n\u001b[0;32m    114\u001b[0m     \u001b[1;31m# perform decomposition\u001b[0m\u001b[1;33m\u001b[0m\u001b[1;33m\u001b[0m\u001b[0m\n\u001b[0;32m    115\u001b[0m     u, s, v, info = gesXd(a1, compute_uv=compute_uv, lwork=lwork,\n\u001b[1;32m--> 116\u001b[1;33m                           full_matrices=full_matrices, overwrite_a=overwrite_a)\n\u001b[0m\u001b[0;32m    117\u001b[0m \u001b[1;33m\u001b[0m\u001b[0m\n\u001b[0;32m    118\u001b[0m     \u001b[1;32mif\u001b[0m \u001b[0minfo\u001b[0m \u001b[1;33m>\u001b[0m \u001b[1;36m0\u001b[0m\u001b[1;33m:\u001b[0m\u001b[1;33m\u001b[0m\u001b[0m\n",
      "\u001b[1;31mKeyboardInterrupt\u001b[0m: "
     ]
    }
   ],
   "source": [
    "#scaled_data = preprocessing.scale(df.T)\n",
    "scaled_data = df.T\n",
    "\n",
    "pca = PCA() # create a PCA object\n",
    "pca.fit(scaled_data) # do the math\n",
    "pca_data = pca.transform(scaled_data) # get PCA coordinates for dataframe\n",
    "\n",
    "per_var, pca_labels = mq.make_scree_plot(pca, image_dir)\n",
    "mq.draw_pca_graph2(column_names, pca_data, image_dir, column_to_color, per_var, pca_labels, tissues, tissues_to_columns, 'PCA Plot')\n",
    "#mq.draw_pca_graph(column_names, pca_data, image_dir, column_to_color, per_var, pca_labels, 'PCA_RobustScaler_Annotated')"
   ]
  },
  {
   "cell_type": "code",
   "execution_count": null,
   "metadata": {
    "collapsed": true
   },
   "outputs": [],
   "source": [
    "mq.make_pearson_matrix(df, image_dir)"
   ]
  },
  {
   "cell_type": "markdown",
   "metadata": {},
   "source": [
    "## Test various classifiers using cross-validation"
   ]
  },
  {
   "cell_type": "code",
   "execution_count": 12,
   "metadata": {
    "collapsed": true
   },
   "outputs": [],
   "source": [
    "NUM_FOLDS = 6\n",
    "transformed_df = df.T\n",
    "#transformed_df = thresholded_df"
   ]
  },
  {
   "cell_type": "markdown",
   "metadata": {},
   "source": [
    "### Decision Tree"
   ]
  },
  {
   "cell_type": "code",
   "execution_count": 10,
   "metadata": {
    "scrolled": true
   },
   "outputs": [
    {
     "name": "stdout",
     "output_type": "stream",
     "text": [
      "Scores: [ 0.88888889  0.77777778  0.83333333  0.82352941  0.88888889  0.77777778]\n",
      "accuracy: 0.83 (+/- 0.09)\n"
     ]
    }
   ],
   "source": [
    "dt = cu.decisiontree_model_crossval(transformed_df, labels, NUM_FOLDS)"
   ]
  },
  {
   "cell_type": "markdown",
   "metadata": {},
   "source": [
    "### KNN"
   ]
  },
  {
   "cell_type": "code",
   "execution_count": 11,
   "metadata": {},
   "outputs": [
    {
     "name": "stdout",
     "output_type": "stream",
     "text": [
      "Scores: [ 0.83333333  0.88888889  1.          0.76470588  0.77777778  0.88888889]\n",
      "accuracy: 0.86 (+/- 0.16)\n"
     ]
    }
   ],
   "source": [
    "knn = cu.knn_model_crossval(transformed_df, labels, NUM_FOLDS)"
   ]
  },
  {
   "cell_type": "markdown",
   "metadata": {},
   "source": [
    "### Logistic Regression"
   ]
  },
  {
   "cell_type": "code",
   "execution_count": 13,
   "metadata": {},
   "outputs": [
    {
     "name": "stdout",
     "output_type": "stream",
     "text": [
      "Scores: [ 0.94444444  0.94444444  1.          0.94117647  1.          1.        ]\n",
      "accuracy: 0.97 (+/- 0.06)\n"
     ]
    }
   ],
   "source": [
    "lr = cu.logistic_regression_model_crossval(transformed_df, labels, NUM_FOLDS)"
   ]
  },
  {
   "cell_type": "markdown",
   "metadata": {},
   "source": [
    "### Naive Bayes\n",
    "* Gaussian\n",
    "* Multinomial"
   ]
  },
  {
   "cell_type": "code",
   "execution_count": 13,
   "metadata": {},
   "outputs": [
    {
     "name": "stdout",
     "output_type": "stream",
     "text": [
      "Scores: [ 0.88888889  1.          0.94444444  0.94117647  0.88888889  1.        ]\n",
      "accuracy: 0.94 (+/- 0.09)\n"
     ]
    }
   ],
   "source": [
    "gnb = cu.bayes_gaussian_model_crossval(transformed_df, labels, NUM_FOLDS)"
   ]
  },
  {
   "cell_type": "code",
   "execution_count": 14,
   "metadata": {
    "scrolled": false
   },
   "outputs": [
    {
     "name": "stdout",
     "output_type": "stream",
     "text": [
      "Scores: [ 0.94444444  0.94444444  1.          0.94117647  1.          1.        ]\n",
      "accuracy: 0.97 (+/- 0.06)\n"
     ]
    }
   ],
   "source": [
    "mnb = cu.bayes_multinomial_model_crossval(transformed_df, labels, NUM_FOLDS)"
   ]
  },
  {
   "cell_type": "markdown",
   "metadata": {},
   "source": [
    "### SVC variations"
   ]
  },
  {
   "cell_type": "code",
   "execution_count": 15,
   "metadata": {
    "scrolled": true
   },
   "outputs": [
    {
     "name": "stdout",
     "output_type": "stream",
     "text": [
      "Scores: [ 0.94444444  1.          1.          0.94117647  1.          1.        ]\n",
      "accuracy: 0.98 (+/- 0.05)\n",
      "Scores: [ 0.94444444  0.94444444  1.          0.94117647  0.88888889  1.        ]\n",
      "accuracy: 0.95 (+/- 0.08)\n",
      "Scores: [ 0.11111111  0.11111111  0.11111111  0.11764706  0.11111111  0.11111111]\n",
      "accuracy: 0.11 (+/- 0.00)\n",
      "Scores: [ 0.94444444  0.88888889  1.          0.88235294  0.88888889  1.        ]\n",
      "accuracy: 0.93 (+/- 0.10)\n"
     ]
    }
   ],
   "source": [
    "svc_models = cu.SVC_models_crossval(transformed_df, labels, NUM_FOLDS)"
   ]
  },
  {
   "cell_type": "markdown",
   "metadata": {},
   "source": [
    "### Aggregations\n",
    "* Random Forest\n",
    "* Gradient Boosting"
   ]
  },
  {
   "cell_type": "code",
   "execution_count": 16,
   "metadata": {},
   "outputs": [
    {
     "name": "stdout",
     "output_type": "stream",
     "text": [
      "Scores: [ 1.          0.94444444  1.          0.94117647  0.88888889  1.        ]\n",
      "accuracy: 0.96 (+/- 0.08)\n"
     ]
    }
   ],
   "source": [
    "rf = cu.randomforest_model_crossval(transformed_df, labels, NUM_FOLDS)"
   ]
  },
  {
   "cell_type": "code",
   "execution_count": 363,
   "metadata": {},
   "outputs": [
    {
     "ename": "KeyboardInterrupt",
     "evalue": "",
     "output_type": "error",
     "traceback": [
      "\u001b[1;31m---------------------------------------------------------------------------\u001b[0m",
      "\u001b[1;31mKeyboardInterrupt\u001b[0m                         Traceback (most recent call last)",
      "\u001b[1;32m<ipython-input-363-89145eef0b10>\u001b[0m in \u001b[0;36m<module>\u001b[1;34m()\u001b[0m\n\u001b[1;32m----> 1\u001b[1;33m \u001b[0mgbc\u001b[0m \u001b[1;33m=\u001b[0m \u001b[0mcu\u001b[0m\u001b[1;33m.\u001b[0m\u001b[0mgradient_boosting_crossval\u001b[0m\u001b[1;33m(\u001b[0m\u001b[0mtransformed_df\u001b[0m\u001b[1;33m,\u001b[0m \u001b[0mlabels\u001b[0m\u001b[1;33m,\u001b[0m \u001b[0mNUM_FOLDS\u001b[0m\u001b[1;33m)\u001b[0m\u001b[1;33m\u001b[0m\u001b[0m\n\u001b[0m",
      "\u001b[1;32m~\\Documents\\Proteomics_Data_Processing\\Classifiers\\Classification_Utils.py\u001b[0m in \u001b[0;36mgradient_boosting_crossval\u001b[1;34m(data, labels, num_splits)\u001b[0m\n\u001b[0;32m    185\u001b[0m \u001b[0mArgs\u001b[0m\u001b[1;33m:\u001b[0m\u001b[1;33m\u001b[0m\u001b[0m\n\u001b[0;32m    186\u001b[0m     \u001b[0mdata\u001b[0m \u001b[1;33m(\u001b[0m\u001b[0mdataframe\u001b[0m\u001b[1;33m)\u001b[0m\u001b[1;33m:\u001b[0m \u001b[0mcontains\u001b[0m \u001b[0mall\u001b[0m \u001b[0mdata\u001b[0m \u001b[0mthat\u001b[0m \u001b[0mwill\u001b[0m \u001b[0mbe\u001b[0m \u001b[0mused\u001b[0m \u001b[0mto\u001b[0m \u001b[0mfit\u001b[0m \u001b[0mthe\u001b[0m \u001b[0mmodel\u001b[0m\u001b[1;33m\u001b[0m\u001b[0m\n\u001b[1;32m--> 187\u001b[1;33m     \u001b[0mlabels\u001b[0m \u001b[1;33m(\u001b[0m\u001b[0mlist\u001b[0m \u001b[0mof\u001b[0m \u001b[0mstrings\u001b[0m\u001b[1;33m)\u001b[0m\u001b[1;33m:\u001b[0m \u001b[0mcorresponding\u001b[0m \u001b[0mlabels\u001b[0m \u001b[1;32mfor\u001b[0m \u001b[0meach\u001b[0m \u001b[0mrow\u001b[0m \u001b[0mof\u001b[0m \u001b[0mdata\u001b[0m\u001b[1;33m\u001b[0m\u001b[0m\n\u001b[0m\u001b[0;32m    188\u001b[0m     \u001b[0mnum_splits\u001b[0m \u001b[1;33m(\u001b[0m\u001b[0mint\u001b[0m\u001b[1;33m)\u001b[0m\u001b[1;33m:\u001b[0m \u001b[0mnumber\u001b[0m \u001b[0mof\u001b[0m \u001b[0mtrain\u001b[0m\u001b[1;33m-\u001b[0m\u001b[0mtest\u001b[0m \u001b[0msplits\u001b[0m \u001b[0mto\u001b[0m \u001b[0mtest\u001b[0m\u001b[1;33m\u001b[0m\u001b[0m\n\u001b[0;32m    189\u001b[0m     \u001b[0mscoring\u001b[0m \u001b[1;33m(\u001b[0m\u001b[0mstring\u001b[0m\u001b[1;33m,\u001b[0m \u001b[0moptional\u001b[0m\u001b[1;33m)\u001b[0m\u001b[1;33m:\u001b[0m \u001b[0mscoring\u001b[0m \u001b[0mmethod\u001b[0m\u001b[1;33m.\u001b[0m \u001b[0mDefaults\u001b[0m \u001b[0mto\u001b[0m \u001b[0maccuracy\u001b[0m \u001b[0mscore\u001b[0m\u001b[1;33m\u001b[0m\u001b[0m\n",
      "\u001b[1;32m~\\Documents\\Proteomics_Data_Processing\\Classifiers\\Classification_Utils.py\u001b[0m in \u001b[0;36mfit_model\u001b[1;34m(model, data, labels, num_splits)\u001b[0m\n\u001b[0;32m     59\u001b[0m     \u001b[0mThe\u001b[0m \u001b[0mgiven\u001b[0m \u001b[0mmodel\u001b[0m \u001b[0mfitted\u001b[0m \u001b[0mon\u001b[0m \u001b[0mall\u001b[0m \u001b[0minputted\u001b[0m \u001b[0mdata\u001b[0m\u001b[1;33m\u001b[0m\u001b[0m\n\u001b[0;32m     60\u001b[0m     \u001b[0mPrints\u001b[0m \u001b[0mmean\u001b[0m \u001b[0mcross\u001b[0m\u001b[1;33m-\u001b[0m\u001b[0mvalidation\u001b[0m \u001b[0mscore\u001b[0m \u001b[1;32mand\u001b[0m \u001b[1;36m95\u001b[0m\u001b[1;33m%\u001b[0m \u001b[0mconfidence\u001b[0m \u001b[0minterval\u001b[0m\u001b[1;33m\u001b[0m\u001b[0m\n\u001b[1;32m---> 61\u001b[1;33m \"\"\"\n\u001b[0m\u001b[0;32m     62\u001b[0m \u001b[1;32mdef\u001b[0m \u001b[0mfit_model\u001b[0m\u001b[1;33m(\u001b[0m\u001b[0mmodel\u001b[0m\u001b[1;33m,\u001b[0m \u001b[0mdata\u001b[0m\u001b[1;33m,\u001b[0m \u001b[0mlabels\u001b[0m\u001b[1;33m,\u001b[0m \u001b[0mnum_splits\u001b[0m\u001b[1;33m,\u001b[0m \u001b[0mscoring\u001b[0m\u001b[1;33m)\u001b[0m\u001b[1;33m:\u001b[0m\u001b[1;33m\u001b[0m\u001b[0m\n\u001b[0;32m     63\u001b[0m     \u001b[0mscores\u001b[0m \u001b[1;33m=\u001b[0m \u001b[0mcross_val_score\u001b[0m\u001b[1;33m(\u001b[0m\u001b[0mmodel\u001b[0m\u001b[1;33m,\u001b[0m \u001b[0mdata\u001b[0m\u001b[1;33m,\u001b[0m \u001b[0mlabels\u001b[0m\u001b[1;33m,\u001b[0m \u001b[0mcv\u001b[0m\u001b[1;33m=\u001b[0m\u001b[0mnum_splits\u001b[0m\u001b[1;33m,\u001b[0m \u001b[0mscoring\u001b[0m\u001b[1;33m=\u001b[0m\u001b[0mscoring\u001b[0m\u001b[1;33m)\u001b[0m\u001b[1;33m\u001b[0m\u001b[0m\n",
      "\u001b[1;32m~\\AppData\\Local\\Continuum\\anaconda3\\lib\\site-packages\\sklearn\\model_selection\\_validation.py\u001b[0m in \u001b[0;36mcross_val_score\u001b[1;34m(estimator, X, y, groups, scoring, cv, n_jobs, verbose, fit_params, pre_dispatch)\u001b[0m\n\u001b[0;32m    340\u001b[0m                                 \u001b[0mn_jobs\u001b[0m\u001b[1;33m=\u001b[0m\u001b[0mn_jobs\u001b[0m\u001b[1;33m,\u001b[0m \u001b[0mverbose\u001b[0m\u001b[1;33m=\u001b[0m\u001b[0mverbose\u001b[0m\u001b[1;33m,\u001b[0m\u001b[1;33m\u001b[0m\u001b[0m\n\u001b[0;32m    341\u001b[0m                                 \u001b[0mfit_params\u001b[0m\u001b[1;33m=\u001b[0m\u001b[0mfit_params\u001b[0m\u001b[1;33m,\u001b[0m\u001b[1;33m\u001b[0m\u001b[0m\n\u001b[1;32m--> 342\u001b[1;33m                                 pre_dispatch=pre_dispatch)\n\u001b[0m\u001b[0;32m    343\u001b[0m     \u001b[1;32mreturn\u001b[0m \u001b[0mcv_results\u001b[0m\u001b[1;33m[\u001b[0m\u001b[1;34m'test_score'\u001b[0m\u001b[1;33m]\u001b[0m\u001b[1;33m\u001b[0m\u001b[0m\n\u001b[0;32m    344\u001b[0m \u001b[1;33m\u001b[0m\u001b[0m\n",
      "\u001b[1;32m~\\AppData\\Local\\Continuum\\anaconda3\\lib\\site-packages\\sklearn\\model_selection\\_validation.py\u001b[0m in \u001b[0;36mcross_validate\u001b[1;34m(estimator, X, y, groups, scoring, cv, n_jobs, verbose, fit_params, pre_dispatch, return_train_score)\u001b[0m\n\u001b[0;32m    204\u001b[0m             \u001b[0mfit_params\u001b[0m\u001b[1;33m,\u001b[0m \u001b[0mreturn_train_score\u001b[0m\u001b[1;33m=\u001b[0m\u001b[0mreturn_train_score\u001b[0m\u001b[1;33m,\u001b[0m\u001b[1;33m\u001b[0m\u001b[0m\n\u001b[0;32m    205\u001b[0m             return_times=True)\n\u001b[1;32m--> 206\u001b[1;33m         for train, test in cv.split(X, y, groups))\n\u001b[0m\u001b[0;32m    207\u001b[0m \u001b[1;33m\u001b[0m\u001b[0m\n\u001b[0;32m    208\u001b[0m     \u001b[1;32mif\u001b[0m \u001b[0mreturn_train_score\u001b[0m\u001b[1;33m:\u001b[0m\u001b[1;33m\u001b[0m\u001b[0m\n",
      "\u001b[1;32m~\\AppData\\Local\\Continuum\\anaconda3\\lib\\site-packages\\sklearn\\externals\\joblib\\parallel.py\u001b[0m in \u001b[0;36m__call__\u001b[1;34m(self, iterable)\u001b[0m\n\u001b[0;32m    777\u001b[0m             \u001b[1;31m# was dispatched. In particular this covers the edge\u001b[0m\u001b[1;33m\u001b[0m\u001b[1;33m\u001b[0m\u001b[0m\n\u001b[0;32m    778\u001b[0m             \u001b[1;31m# case of Parallel used with an exhausted iterator.\u001b[0m\u001b[1;33m\u001b[0m\u001b[1;33m\u001b[0m\u001b[0m\n\u001b[1;32m--> 779\u001b[1;33m             \u001b[1;32mwhile\u001b[0m \u001b[0mself\u001b[0m\u001b[1;33m.\u001b[0m\u001b[0mdispatch_one_batch\u001b[0m\u001b[1;33m(\u001b[0m\u001b[0miterator\u001b[0m\u001b[1;33m)\u001b[0m\u001b[1;33m:\u001b[0m\u001b[1;33m\u001b[0m\u001b[0m\n\u001b[0m\u001b[0;32m    780\u001b[0m                 \u001b[0mself\u001b[0m\u001b[1;33m.\u001b[0m\u001b[0m_iterating\u001b[0m \u001b[1;33m=\u001b[0m \u001b[1;32mTrue\u001b[0m\u001b[1;33m\u001b[0m\u001b[0m\n\u001b[0;32m    781\u001b[0m             \u001b[1;32melse\u001b[0m\u001b[1;33m:\u001b[0m\u001b[1;33m\u001b[0m\u001b[0m\n",
      "\u001b[1;32m~\\AppData\\Local\\Continuum\\anaconda3\\lib\\site-packages\\sklearn\\externals\\joblib\\parallel.py\u001b[0m in \u001b[0;36mdispatch_one_batch\u001b[1;34m(self, iterator)\u001b[0m\n\u001b[0;32m    623\u001b[0m                 \u001b[1;32mreturn\u001b[0m \u001b[1;32mFalse\u001b[0m\u001b[1;33m\u001b[0m\u001b[0m\n\u001b[0;32m    624\u001b[0m             \u001b[1;32melse\u001b[0m\u001b[1;33m:\u001b[0m\u001b[1;33m\u001b[0m\u001b[0m\n\u001b[1;32m--> 625\u001b[1;33m                 \u001b[0mself\u001b[0m\u001b[1;33m.\u001b[0m\u001b[0m_dispatch\u001b[0m\u001b[1;33m(\u001b[0m\u001b[0mtasks\u001b[0m\u001b[1;33m)\u001b[0m\u001b[1;33m\u001b[0m\u001b[0m\n\u001b[0m\u001b[0;32m    626\u001b[0m                 \u001b[1;32mreturn\u001b[0m \u001b[1;32mTrue\u001b[0m\u001b[1;33m\u001b[0m\u001b[0m\n\u001b[0;32m    627\u001b[0m \u001b[1;33m\u001b[0m\u001b[0m\n",
      "\u001b[1;32m~\\AppData\\Local\\Continuum\\anaconda3\\lib\\site-packages\\sklearn\\externals\\joblib\\parallel.py\u001b[0m in \u001b[0;36m_dispatch\u001b[1;34m(self, batch)\u001b[0m\n\u001b[0;32m    586\u001b[0m         \u001b[0mdispatch_timestamp\u001b[0m \u001b[1;33m=\u001b[0m \u001b[0mtime\u001b[0m\u001b[1;33m.\u001b[0m\u001b[0mtime\u001b[0m\u001b[1;33m(\u001b[0m\u001b[1;33m)\u001b[0m\u001b[1;33m\u001b[0m\u001b[0m\n\u001b[0;32m    587\u001b[0m         \u001b[0mcb\u001b[0m \u001b[1;33m=\u001b[0m \u001b[0mBatchCompletionCallBack\u001b[0m\u001b[1;33m(\u001b[0m\u001b[0mdispatch_timestamp\u001b[0m\u001b[1;33m,\u001b[0m \u001b[0mlen\u001b[0m\u001b[1;33m(\u001b[0m\u001b[0mbatch\u001b[0m\u001b[1;33m)\u001b[0m\u001b[1;33m,\u001b[0m \u001b[0mself\u001b[0m\u001b[1;33m)\u001b[0m\u001b[1;33m\u001b[0m\u001b[0m\n\u001b[1;32m--> 588\u001b[1;33m         \u001b[0mjob\u001b[0m \u001b[1;33m=\u001b[0m \u001b[0mself\u001b[0m\u001b[1;33m.\u001b[0m\u001b[0m_backend\u001b[0m\u001b[1;33m.\u001b[0m\u001b[0mapply_async\u001b[0m\u001b[1;33m(\u001b[0m\u001b[0mbatch\u001b[0m\u001b[1;33m,\u001b[0m \u001b[0mcallback\u001b[0m\u001b[1;33m=\u001b[0m\u001b[0mcb\u001b[0m\u001b[1;33m)\u001b[0m\u001b[1;33m\u001b[0m\u001b[0m\n\u001b[0m\u001b[0;32m    589\u001b[0m         \u001b[0mself\u001b[0m\u001b[1;33m.\u001b[0m\u001b[0m_jobs\u001b[0m\u001b[1;33m.\u001b[0m\u001b[0mappend\u001b[0m\u001b[1;33m(\u001b[0m\u001b[0mjob\u001b[0m\u001b[1;33m)\u001b[0m\u001b[1;33m\u001b[0m\u001b[0m\n\u001b[0;32m    590\u001b[0m \u001b[1;33m\u001b[0m\u001b[0m\n",
      "\u001b[1;32m~\\AppData\\Local\\Continuum\\anaconda3\\lib\\site-packages\\sklearn\\externals\\joblib\\_parallel_backends.py\u001b[0m in \u001b[0;36mapply_async\u001b[1;34m(self, func, callback)\u001b[0m\n\u001b[0;32m    109\u001b[0m     \u001b[1;32mdef\u001b[0m \u001b[0mapply_async\u001b[0m\u001b[1;33m(\u001b[0m\u001b[0mself\u001b[0m\u001b[1;33m,\u001b[0m \u001b[0mfunc\u001b[0m\u001b[1;33m,\u001b[0m \u001b[0mcallback\u001b[0m\u001b[1;33m=\u001b[0m\u001b[1;32mNone\u001b[0m\u001b[1;33m)\u001b[0m\u001b[1;33m:\u001b[0m\u001b[1;33m\u001b[0m\u001b[0m\n\u001b[0;32m    110\u001b[0m         \u001b[1;34m\"\"\"Schedule a func to be run\"\"\"\u001b[0m\u001b[1;33m\u001b[0m\u001b[0m\n\u001b[1;32m--> 111\u001b[1;33m         \u001b[0mresult\u001b[0m \u001b[1;33m=\u001b[0m \u001b[0mImmediateResult\u001b[0m\u001b[1;33m(\u001b[0m\u001b[0mfunc\u001b[0m\u001b[1;33m)\u001b[0m\u001b[1;33m\u001b[0m\u001b[0m\n\u001b[0m\u001b[0;32m    112\u001b[0m         \u001b[1;32mif\u001b[0m \u001b[0mcallback\u001b[0m\u001b[1;33m:\u001b[0m\u001b[1;33m\u001b[0m\u001b[0m\n\u001b[0;32m    113\u001b[0m             \u001b[0mcallback\u001b[0m\u001b[1;33m(\u001b[0m\u001b[0mresult\u001b[0m\u001b[1;33m)\u001b[0m\u001b[1;33m\u001b[0m\u001b[0m\n",
      "\u001b[1;32m~\\AppData\\Local\\Continuum\\anaconda3\\lib\\site-packages\\sklearn\\externals\\joblib\\_parallel_backends.py\u001b[0m in \u001b[0;36m__init__\u001b[1;34m(self, batch)\u001b[0m\n\u001b[0;32m    330\u001b[0m         \u001b[1;31m# Don't delay the application, to avoid keeping the input\u001b[0m\u001b[1;33m\u001b[0m\u001b[1;33m\u001b[0m\u001b[0m\n\u001b[0;32m    331\u001b[0m         \u001b[1;31m# arguments in memory\u001b[0m\u001b[1;33m\u001b[0m\u001b[1;33m\u001b[0m\u001b[0m\n\u001b[1;32m--> 332\u001b[1;33m         \u001b[0mself\u001b[0m\u001b[1;33m.\u001b[0m\u001b[0mresults\u001b[0m \u001b[1;33m=\u001b[0m \u001b[0mbatch\u001b[0m\u001b[1;33m(\u001b[0m\u001b[1;33m)\u001b[0m\u001b[1;33m\u001b[0m\u001b[0m\n\u001b[0m\u001b[0;32m    333\u001b[0m \u001b[1;33m\u001b[0m\u001b[0m\n\u001b[0;32m    334\u001b[0m     \u001b[1;32mdef\u001b[0m \u001b[0mget\u001b[0m\u001b[1;33m(\u001b[0m\u001b[0mself\u001b[0m\u001b[1;33m)\u001b[0m\u001b[1;33m:\u001b[0m\u001b[1;33m\u001b[0m\u001b[0m\n",
      "\u001b[1;32m~\\AppData\\Local\\Continuum\\anaconda3\\lib\\site-packages\\sklearn\\externals\\joblib\\parallel.py\u001b[0m in \u001b[0;36m__call__\u001b[1;34m(self)\u001b[0m\n\u001b[0;32m    129\u001b[0m \u001b[1;33m\u001b[0m\u001b[0m\n\u001b[0;32m    130\u001b[0m     \u001b[1;32mdef\u001b[0m \u001b[0m__call__\u001b[0m\u001b[1;33m(\u001b[0m\u001b[0mself\u001b[0m\u001b[1;33m)\u001b[0m\u001b[1;33m:\u001b[0m\u001b[1;33m\u001b[0m\u001b[0m\n\u001b[1;32m--> 131\u001b[1;33m         \u001b[1;32mreturn\u001b[0m \u001b[1;33m[\u001b[0m\u001b[0mfunc\u001b[0m\u001b[1;33m(\u001b[0m\u001b[1;33m*\u001b[0m\u001b[0margs\u001b[0m\u001b[1;33m,\u001b[0m \u001b[1;33m**\u001b[0m\u001b[0mkwargs\u001b[0m\u001b[1;33m)\u001b[0m \u001b[1;32mfor\u001b[0m \u001b[0mfunc\u001b[0m\u001b[1;33m,\u001b[0m \u001b[0margs\u001b[0m\u001b[1;33m,\u001b[0m \u001b[0mkwargs\u001b[0m \u001b[1;32min\u001b[0m \u001b[0mself\u001b[0m\u001b[1;33m.\u001b[0m\u001b[0mitems\u001b[0m\u001b[1;33m]\u001b[0m\u001b[1;33m\u001b[0m\u001b[0m\n\u001b[0m\u001b[0;32m    132\u001b[0m \u001b[1;33m\u001b[0m\u001b[0m\n\u001b[0;32m    133\u001b[0m     \u001b[1;32mdef\u001b[0m \u001b[0m__len__\u001b[0m\u001b[1;33m(\u001b[0m\u001b[0mself\u001b[0m\u001b[1;33m)\u001b[0m\u001b[1;33m:\u001b[0m\u001b[1;33m\u001b[0m\u001b[0m\n",
      "\u001b[1;32m~\\AppData\\Local\\Continuum\\anaconda3\\lib\\site-packages\\sklearn\\externals\\joblib\\parallel.py\u001b[0m in \u001b[0;36m<listcomp>\u001b[1;34m(.0)\u001b[0m\n\u001b[0;32m    129\u001b[0m \u001b[1;33m\u001b[0m\u001b[0m\n\u001b[0;32m    130\u001b[0m     \u001b[1;32mdef\u001b[0m \u001b[0m__call__\u001b[0m\u001b[1;33m(\u001b[0m\u001b[0mself\u001b[0m\u001b[1;33m)\u001b[0m\u001b[1;33m:\u001b[0m\u001b[1;33m\u001b[0m\u001b[0m\n\u001b[1;32m--> 131\u001b[1;33m         \u001b[1;32mreturn\u001b[0m \u001b[1;33m[\u001b[0m\u001b[0mfunc\u001b[0m\u001b[1;33m(\u001b[0m\u001b[1;33m*\u001b[0m\u001b[0margs\u001b[0m\u001b[1;33m,\u001b[0m \u001b[1;33m**\u001b[0m\u001b[0mkwargs\u001b[0m\u001b[1;33m)\u001b[0m \u001b[1;32mfor\u001b[0m \u001b[0mfunc\u001b[0m\u001b[1;33m,\u001b[0m \u001b[0margs\u001b[0m\u001b[1;33m,\u001b[0m \u001b[0mkwargs\u001b[0m \u001b[1;32min\u001b[0m \u001b[0mself\u001b[0m\u001b[1;33m.\u001b[0m\u001b[0mitems\u001b[0m\u001b[1;33m]\u001b[0m\u001b[1;33m\u001b[0m\u001b[0m\n\u001b[0m\u001b[0;32m    132\u001b[0m \u001b[1;33m\u001b[0m\u001b[0m\n\u001b[0;32m    133\u001b[0m     \u001b[1;32mdef\u001b[0m \u001b[0m__len__\u001b[0m\u001b[1;33m(\u001b[0m\u001b[0mself\u001b[0m\u001b[1;33m)\u001b[0m\u001b[1;33m:\u001b[0m\u001b[1;33m\u001b[0m\u001b[0m\n",
      "\u001b[1;32m~\\AppData\\Local\\Continuum\\anaconda3\\lib\\site-packages\\sklearn\\model_selection\\_validation.py\u001b[0m in \u001b[0;36m_fit_and_score\u001b[1;34m(estimator, X, y, scorer, train, test, verbose, parameters, fit_params, return_train_score, return_parameters, return_n_test_samples, return_times, error_score)\u001b[0m\n\u001b[0;32m    456\u001b[0m             \u001b[0mestimator\u001b[0m\u001b[1;33m.\u001b[0m\u001b[0mfit\u001b[0m\u001b[1;33m(\u001b[0m\u001b[0mX_train\u001b[0m\u001b[1;33m,\u001b[0m \u001b[1;33m**\u001b[0m\u001b[0mfit_params\u001b[0m\u001b[1;33m)\u001b[0m\u001b[1;33m\u001b[0m\u001b[0m\n\u001b[0;32m    457\u001b[0m         \u001b[1;32melse\u001b[0m\u001b[1;33m:\u001b[0m\u001b[1;33m\u001b[0m\u001b[0m\n\u001b[1;32m--> 458\u001b[1;33m             \u001b[0mestimator\u001b[0m\u001b[1;33m.\u001b[0m\u001b[0mfit\u001b[0m\u001b[1;33m(\u001b[0m\u001b[0mX_train\u001b[0m\u001b[1;33m,\u001b[0m \u001b[0my_train\u001b[0m\u001b[1;33m,\u001b[0m \u001b[1;33m**\u001b[0m\u001b[0mfit_params\u001b[0m\u001b[1;33m)\u001b[0m\u001b[1;33m\u001b[0m\u001b[0m\n\u001b[0m\u001b[0;32m    459\u001b[0m \u001b[1;33m\u001b[0m\u001b[0m\n\u001b[0;32m    460\u001b[0m     \u001b[1;32mexcept\u001b[0m \u001b[0mException\u001b[0m \u001b[1;32mas\u001b[0m \u001b[0me\u001b[0m\u001b[1;33m:\u001b[0m\u001b[1;33m\u001b[0m\u001b[0m\n",
      "\u001b[1;32m~\\AppData\\Local\\Continuum\\anaconda3\\lib\\site-packages\\sklearn\\ensemble\\gradient_boosting.py\u001b[0m in \u001b[0;36mfit\u001b[1;34m(self, X, y, sample_weight, monitor)\u001b[0m\n\u001b[0;32m   1032\u001b[0m         \u001b[1;31m# fit the boosting stages\u001b[0m\u001b[1;33m\u001b[0m\u001b[1;33m\u001b[0m\u001b[0m\n\u001b[0;32m   1033\u001b[0m         n_stages = self._fit_stages(X, y, y_pred, sample_weight, random_state,\n\u001b[1;32m-> 1034\u001b[1;33m                                     begin_at_stage, monitor, X_idx_sorted)\n\u001b[0m\u001b[0;32m   1035\u001b[0m         \u001b[1;31m# change shape of arrays after fit (early-stopping or additional ests)\u001b[0m\u001b[1;33m\u001b[0m\u001b[1;33m\u001b[0m\u001b[0m\n\u001b[0;32m   1036\u001b[0m         \u001b[1;32mif\u001b[0m \u001b[0mn_stages\u001b[0m \u001b[1;33m!=\u001b[0m \u001b[0mself\u001b[0m\u001b[1;33m.\u001b[0m\u001b[0mestimators_\u001b[0m\u001b[1;33m.\u001b[0m\u001b[0mshape\u001b[0m\u001b[1;33m[\u001b[0m\u001b[1;36m0\u001b[0m\u001b[1;33m]\u001b[0m\u001b[1;33m:\u001b[0m\u001b[1;33m\u001b[0m\u001b[0m\n",
      "\u001b[1;32m~\\AppData\\Local\\Continuum\\anaconda3\\lib\\site-packages\\sklearn\\ensemble\\gradient_boosting.py\u001b[0m in \u001b[0;36m_fit_stages\u001b[1;34m(self, X, y, y_pred, sample_weight, random_state, begin_at_stage, monitor, X_idx_sorted)\u001b[0m\n\u001b[0;32m   1087\u001b[0m             y_pred = self._fit_stage(i, X, y, y_pred, sample_weight,\n\u001b[0;32m   1088\u001b[0m                                      \u001b[0msample_mask\u001b[0m\u001b[1;33m,\u001b[0m \u001b[0mrandom_state\u001b[0m\u001b[1;33m,\u001b[0m \u001b[0mX_idx_sorted\u001b[0m\u001b[1;33m,\u001b[0m\u001b[1;33m\u001b[0m\u001b[0m\n\u001b[1;32m-> 1089\u001b[1;33m                                      X_csc, X_csr)\n\u001b[0m\u001b[0;32m   1090\u001b[0m \u001b[1;33m\u001b[0m\u001b[0m\n\u001b[0;32m   1091\u001b[0m             \u001b[1;31m# track deviance (= loss)\u001b[0m\u001b[1;33m\u001b[0m\u001b[1;33m\u001b[0m\u001b[0m\n",
      "\u001b[1;32m~\\AppData\\Local\\Continuum\\anaconda3\\lib\\site-packages\\sklearn\\ensemble\\gradient_boosting.py\u001b[0m in \u001b[0;36m_fit_stage\u001b[1;34m(self, i, X, y, y_pred, sample_weight, sample_mask, random_state, X_idx_sorted, X_csc, X_csr)\u001b[0m\n\u001b[0;32m    786\u001b[0m             \u001b[1;32melse\u001b[0m\u001b[1;33m:\u001b[0m\u001b[1;33m\u001b[0m\u001b[0m\n\u001b[0;32m    787\u001b[0m                 tree.fit(X, residual, sample_weight=sample_weight,\n\u001b[1;32m--> 788\u001b[1;33m                          check_input=False, X_idx_sorted=X_idx_sorted)\n\u001b[0m\u001b[0;32m    789\u001b[0m \u001b[1;33m\u001b[0m\u001b[0m\n\u001b[0;32m    790\u001b[0m             \u001b[1;31m# update tree leaves\u001b[0m\u001b[1;33m\u001b[0m\u001b[1;33m\u001b[0m\u001b[0m\n",
      "\u001b[1;32m~\\AppData\\Local\\Continuum\\anaconda3\\lib\\site-packages\\sklearn\\tree\\tree.py\u001b[0m in \u001b[0;36mfit\u001b[1;34m(self, X, y, sample_weight, check_input, X_idx_sorted)\u001b[0m\n\u001b[0;32m   1122\u001b[0m             \u001b[0msample_weight\u001b[0m\u001b[1;33m=\u001b[0m\u001b[0msample_weight\u001b[0m\u001b[1;33m,\u001b[0m\u001b[1;33m\u001b[0m\u001b[0m\n\u001b[0;32m   1123\u001b[0m             \u001b[0mcheck_input\u001b[0m\u001b[1;33m=\u001b[0m\u001b[0mcheck_input\u001b[0m\u001b[1;33m,\u001b[0m\u001b[1;33m\u001b[0m\u001b[0m\n\u001b[1;32m-> 1124\u001b[1;33m             X_idx_sorted=X_idx_sorted)\n\u001b[0m\u001b[0;32m   1125\u001b[0m         \u001b[1;32mreturn\u001b[0m \u001b[0mself\u001b[0m\u001b[1;33m\u001b[0m\u001b[0m\n\u001b[0;32m   1126\u001b[0m \u001b[1;33m\u001b[0m\u001b[0m\n",
      "\u001b[1;32m~\\AppData\\Local\\Continuum\\anaconda3\\lib\\site-packages\\sklearn\\tree\\tree.py\u001b[0m in \u001b[0;36mfit\u001b[1;34m(self, X, y, sample_weight, check_input, X_idx_sorted)\u001b[0m\n\u001b[0;32m    360\u001b[0m                                            min_impurity_split)\n\u001b[0;32m    361\u001b[0m \u001b[1;33m\u001b[0m\u001b[0m\n\u001b[1;32m--> 362\u001b[1;33m         \u001b[0mbuilder\u001b[0m\u001b[1;33m.\u001b[0m\u001b[0mbuild\u001b[0m\u001b[1;33m(\u001b[0m\u001b[0mself\u001b[0m\u001b[1;33m.\u001b[0m\u001b[0mtree_\u001b[0m\u001b[1;33m,\u001b[0m \u001b[0mX\u001b[0m\u001b[1;33m,\u001b[0m \u001b[0my\u001b[0m\u001b[1;33m,\u001b[0m \u001b[0msample_weight\u001b[0m\u001b[1;33m,\u001b[0m \u001b[0mX_idx_sorted\u001b[0m\u001b[1;33m)\u001b[0m\u001b[1;33m\u001b[0m\u001b[0m\n\u001b[0m\u001b[0;32m    363\u001b[0m \u001b[1;33m\u001b[0m\u001b[0m\n\u001b[0;32m    364\u001b[0m         \u001b[1;32mif\u001b[0m \u001b[0mself\u001b[0m\u001b[1;33m.\u001b[0m\u001b[0mn_outputs_\u001b[0m \u001b[1;33m==\u001b[0m \u001b[1;36m1\u001b[0m\u001b[1;33m:\u001b[0m\u001b[1;33m\u001b[0m\u001b[0m\n",
      "\u001b[1;31mKeyboardInterrupt\u001b[0m: "
     ]
    }
   ],
   "source": [
    "gbc = cu.gradient_boosting_crossval(transformed_df, labels, NUM_FOLDS)"
   ]
  },
  {
   "cell_type": "markdown",
   "metadata": {},
   "source": [
    "## Tune parameters of best models \n",
    "* Check accuracy score and F1 score (measure of precision and recall)"
   ]
  },
  {
   "cell_type": "code",
   "execution_count": 48,
   "metadata": {
    "collapsed": true
   },
   "outputs": [],
   "source": [
    "start_time = time.time()"
   ]
  },
  {
   "cell_type": "markdown",
   "metadata": {},
   "source": [
    "### Gradient Boosting grid search"
   ]
  },
  {
   "cell_type": "code",
   "execution_count": 49,
   "metadata": {},
   "outputs": [
    {
     "ename": "KeyboardInterrupt",
     "evalue": "",
     "output_type": "error",
     "traceback": [
      "\u001b[1;31m---------------------------------------------------------------------------\u001b[0m",
      "\u001b[1;31mKeyboardInterrupt\u001b[0m                         Traceback (most recent call last)",
      "\u001b[1;32m<ipython-input-49-abd188b3cbc9>\u001b[0m in \u001b[0;36m<module>\u001b[1;34m()\u001b[0m\n\u001b[0;32m      1\u001b[0m \u001b[0mgbc_grid\u001b[0m \u001b[1;33m=\u001b[0m \u001b[0mcu\u001b[0m\u001b[1;33m.\u001b[0m\u001b[0mgbc_grid_search\u001b[0m\u001b[1;33m(\u001b[0m\u001b[0mNUM_FOLDS\u001b[0m\u001b[1;33m,\u001b[0m \u001b[1;36m2\u001b[0m\u001b[1;33m)\u001b[0m\u001b[1;33m\u001b[0m\u001b[0m\n\u001b[0;32m      2\u001b[0m \u001b[1;33m\u001b[0m\u001b[0m\n\u001b[1;32m----> 3\u001b[1;33m \u001b[0mgbc_grid\u001b[0m\u001b[1;33m.\u001b[0m\u001b[0mfit\u001b[0m\u001b[1;33m(\u001b[0m\u001b[0mtransformed_df\u001b[0m\u001b[1;33m,\u001b[0m \u001b[0mlabels\u001b[0m\u001b[1;33m)\u001b[0m\u001b[1;33m\u001b[0m\u001b[0m\n\u001b[0m\u001b[0;32m      4\u001b[0m \u001b[1;33m\u001b[0m\u001b[0m\n\u001b[0;32m      5\u001b[0m \u001b[0mprint\u001b[0m\u001b[1;33m(\u001b[0m\u001b[1;34m'Best Gradient Boosting parameters:\\n'\u001b[0m\u001b[1;33m,\u001b[0m \u001b[0mgbc_grid\u001b[0m\u001b[1;33m.\u001b[0m\u001b[0mbest_params_\u001b[0m\u001b[1;33m)\u001b[0m\u001b[1;33m\u001b[0m\u001b[0m\n",
      "\u001b[1;32m~\\AppData\\Local\\Continuum\\anaconda3\\lib\\site-packages\\sklearn\\model_selection\\_search.py\u001b[0m in \u001b[0;36mfit\u001b[1;34m(self, X, y, groups, **fit_params)\u001b[0m\n\u001b[0;32m    637\u001b[0m                                   error_score=self.error_score)\n\u001b[0;32m    638\u001b[0m           for parameters, (train, test) in product(candidate_params,\n\u001b[1;32m--> 639\u001b[1;33m                                                    cv.split(X, y, groups)))\n\u001b[0m\u001b[0;32m    640\u001b[0m \u001b[1;33m\u001b[0m\u001b[0m\n\u001b[0;32m    641\u001b[0m         \u001b[1;31m# if one choose to see train score, \"out\" will contain train score info\u001b[0m\u001b[1;33m\u001b[0m\u001b[1;33m\u001b[0m\u001b[0m\n",
      "\u001b[1;32m~\\AppData\\Local\\Continuum\\anaconda3\\lib\\site-packages\\sklearn\\externals\\joblib\\parallel.py\u001b[0m in \u001b[0;36m__call__\u001b[1;34m(self, iterable)\u001b[0m\n\u001b[0;32m    787\u001b[0m                 \u001b[1;31m# consumption.\u001b[0m\u001b[1;33m\u001b[0m\u001b[1;33m\u001b[0m\u001b[0m\n\u001b[0;32m    788\u001b[0m                 \u001b[0mself\u001b[0m\u001b[1;33m.\u001b[0m\u001b[0m_iterating\u001b[0m \u001b[1;33m=\u001b[0m \u001b[1;32mFalse\u001b[0m\u001b[1;33m\u001b[0m\u001b[0m\n\u001b[1;32m--> 789\u001b[1;33m             \u001b[0mself\u001b[0m\u001b[1;33m.\u001b[0m\u001b[0mretrieve\u001b[0m\u001b[1;33m(\u001b[0m\u001b[1;33m)\u001b[0m\u001b[1;33m\u001b[0m\u001b[0m\n\u001b[0m\u001b[0;32m    790\u001b[0m             \u001b[1;31m# Make sure that we get a last message telling us we are done\u001b[0m\u001b[1;33m\u001b[0m\u001b[1;33m\u001b[0m\u001b[0m\n\u001b[0;32m    791\u001b[0m             \u001b[0melapsed_time\u001b[0m \u001b[1;33m=\u001b[0m \u001b[0mtime\u001b[0m\u001b[1;33m.\u001b[0m\u001b[0mtime\u001b[0m\u001b[1;33m(\u001b[0m\u001b[1;33m)\u001b[0m \u001b[1;33m-\u001b[0m \u001b[0mself\u001b[0m\u001b[1;33m.\u001b[0m\u001b[0m_start_time\u001b[0m\u001b[1;33m\u001b[0m\u001b[0m\n",
      "\u001b[1;32m~\\AppData\\Local\\Continuum\\anaconda3\\lib\\site-packages\\sklearn\\externals\\joblib\\parallel.py\u001b[0m in \u001b[0;36mretrieve\u001b[1;34m(self)\u001b[0m\n\u001b[0;32m    697\u001b[0m             \u001b[1;32mtry\u001b[0m\u001b[1;33m:\u001b[0m\u001b[1;33m\u001b[0m\u001b[0m\n\u001b[0;32m    698\u001b[0m                 \u001b[1;32mif\u001b[0m \u001b[0mgetattr\u001b[0m\u001b[1;33m(\u001b[0m\u001b[0mself\u001b[0m\u001b[1;33m.\u001b[0m\u001b[0m_backend\u001b[0m\u001b[1;33m,\u001b[0m \u001b[1;34m'supports_timeout'\u001b[0m\u001b[1;33m,\u001b[0m \u001b[1;32mFalse\u001b[0m\u001b[1;33m)\u001b[0m\u001b[1;33m:\u001b[0m\u001b[1;33m\u001b[0m\u001b[0m\n\u001b[1;32m--> 699\u001b[1;33m                     \u001b[0mself\u001b[0m\u001b[1;33m.\u001b[0m\u001b[0m_output\u001b[0m\u001b[1;33m.\u001b[0m\u001b[0mextend\u001b[0m\u001b[1;33m(\u001b[0m\u001b[0mjob\u001b[0m\u001b[1;33m.\u001b[0m\u001b[0mget\u001b[0m\u001b[1;33m(\u001b[0m\u001b[0mtimeout\u001b[0m\u001b[1;33m=\u001b[0m\u001b[0mself\u001b[0m\u001b[1;33m.\u001b[0m\u001b[0mtimeout\u001b[0m\u001b[1;33m)\u001b[0m\u001b[1;33m)\u001b[0m\u001b[1;33m\u001b[0m\u001b[0m\n\u001b[0m\u001b[0;32m    700\u001b[0m                 \u001b[1;32melse\u001b[0m\u001b[1;33m:\u001b[0m\u001b[1;33m\u001b[0m\u001b[0m\n\u001b[0;32m    701\u001b[0m                     \u001b[0mself\u001b[0m\u001b[1;33m.\u001b[0m\u001b[0m_output\u001b[0m\u001b[1;33m.\u001b[0m\u001b[0mextend\u001b[0m\u001b[1;33m(\u001b[0m\u001b[0mjob\u001b[0m\u001b[1;33m.\u001b[0m\u001b[0mget\u001b[0m\u001b[1;33m(\u001b[0m\u001b[1;33m)\u001b[0m\u001b[1;33m)\u001b[0m\u001b[1;33m\u001b[0m\u001b[0m\n",
      "\u001b[1;32m~\\AppData\\Local\\Continuum\\anaconda3\\lib\\multiprocessing\\pool.py\u001b[0m in \u001b[0;36mget\u001b[1;34m(self, timeout)\u001b[0m\n\u001b[0;32m    636\u001b[0m \u001b[1;33m\u001b[0m\u001b[0m\n\u001b[0;32m    637\u001b[0m     \u001b[1;32mdef\u001b[0m \u001b[0mget\u001b[0m\u001b[1;33m(\u001b[0m\u001b[0mself\u001b[0m\u001b[1;33m,\u001b[0m \u001b[0mtimeout\u001b[0m\u001b[1;33m=\u001b[0m\u001b[1;32mNone\u001b[0m\u001b[1;33m)\u001b[0m\u001b[1;33m:\u001b[0m\u001b[1;33m\u001b[0m\u001b[0m\n\u001b[1;32m--> 638\u001b[1;33m         \u001b[0mself\u001b[0m\u001b[1;33m.\u001b[0m\u001b[0mwait\u001b[0m\u001b[1;33m(\u001b[0m\u001b[0mtimeout\u001b[0m\u001b[1;33m)\u001b[0m\u001b[1;33m\u001b[0m\u001b[0m\n\u001b[0m\u001b[0;32m    639\u001b[0m         \u001b[1;32mif\u001b[0m \u001b[1;32mnot\u001b[0m \u001b[0mself\u001b[0m\u001b[1;33m.\u001b[0m\u001b[0mready\u001b[0m\u001b[1;33m(\u001b[0m\u001b[1;33m)\u001b[0m\u001b[1;33m:\u001b[0m\u001b[1;33m\u001b[0m\u001b[0m\n\u001b[0;32m    640\u001b[0m             \u001b[1;32mraise\u001b[0m \u001b[0mTimeoutError\u001b[0m\u001b[1;33m\u001b[0m\u001b[0m\n",
      "\u001b[1;32m~\\AppData\\Local\\Continuum\\anaconda3\\lib\\multiprocessing\\pool.py\u001b[0m in \u001b[0;36mwait\u001b[1;34m(self, timeout)\u001b[0m\n\u001b[0;32m    633\u001b[0m \u001b[1;33m\u001b[0m\u001b[0m\n\u001b[0;32m    634\u001b[0m     \u001b[1;32mdef\u001b[0m \u001b[0mwait\u001b[0m\u001b[1;33m(\u001b[0m\u001b[0mself\u001b[0m\u001b[1;33m,\u001b[0m \u001b[0mtimeout\u001b[0m\u001b[1;33m=\u001b[0m\u001b[1;32mNone\u001b[0m\u001b[1;33m)\u001b[0m\u001b[1;33m:\u001b[0m\u001b[1;33m\u001b[0m\u001b[0m\n\u001b[1;32m--> 635\u001b[1;33m         \u001b[0mself\u001b[0m\u001b[1;33m.\u001b[0m\u001b[0m_event\u001b[0m\u001b[1;33m.\u001b[0m\u001b[0mwait\u001b[0m\u001b[1;33m(\u001b[0m\u001b[0mtimeout\u001b[0m\u001b[1;33m)\u001b[0m\u001b[1;33m\u001b[0m\u001b[0m\n\u001b[0m\u001b[0;32m    636\u001b[0m \u001b[1;33m\u001b[0m\u001b[0m\n\u001b[0;32m    637\u001b[0m     \u001b[1;32mdef\u001b[0m \u001b[0mget\u001b[0m\u001b[1;33m(\u001b[0m\u001b[0mself\u001b[0m\u001b[1;33m,\u001b[0m \u001b[0mtimeout\u001b[0m\u001b[1;33m=\u001b[0m\u001b[1;32mNone\u001b[0m\u001b[1;33m)\u001b[0m\u001b[1;33m:\u001b[0m\u001b[1;33m\u001b[0m\u001b[0m\n",
      "\u001b[1;32m~\\AppData\\Local\\Continuum\\anaconda3\\lib\\threading.py\u001b[0m in \u001b[0;36mwait\u001b[1;34m(self, timeout)\u001b[0m\n\u001b[0;32m    549\u001b[0m             \u001b[0msignaled\u001b[0m \u001b[1;33m=\u001b[0m \u001b[0mself\u001b[0m\u001b[1;33m.\u001b[0m\u001b[0m_flag\u001b[0m\u001b[1;33m\u001b[0m\u001b[0m\n\u001b[0;32m    550\u001b[0m             \u001b[1;32mif\u001b[0m \u001b[1;32mnot\u001b[0m \u001b[0msignaled\u001b[0m\u001b[1;33m:\u001b[0m\u001b[1;33m\u001b[0m\u001b[0m\n\u001b[1;32m--> 551\u001b[1;33m                 \u001b[0msignaled\u001b[0m \u001b[1;33m=\u001b[0m \u001b[0mself\u001b[0m\u001b[1;33m.\u001b[0m\u001b[0m_cond\u001b[0m\u001b[1;33m.\u001b[0m\u001b[0mwait\u001b[0m\u001b[1;33m(\u001b[0m\u001b[0mtimeout\u001b[0m\u001b[1;33m)\u001b[0m\u001b[1;33m\u001b[0m\u001b[0m\n\u001b[0m\u001b[0;32m    552\u001b[0m             \u001b[1;32mreturn\u001b[0m \u001b[0msignaled\u001b[0m\u001b[1;33m\u001b[0m\u001b[0m\n\u001b[0;32m    553\u001b[0m \u001b[1;33m\u001b[0m\u001b[0m\n",
      "\u001b[1;32m~\\AppData\\Local\\Continuum\\anaconda3\\lib\\threading.py\u001b[0m in \u001b[0;36mwait\u001b[1;34m(self, timeout)\u001b[0m\n\u001b[0;32m    293\u001b[0m         \u001b[1;32mtry\u001b[0m\u001b[1;33m:\u001b[0m    \u001b[1;31m# restore state no matter what (e.g., KeyboardInterrupt)\u001b[0m\u001b[1;33m\u001b[0m\u001b[0m\n\u001b[0;32m    294\u001b[0m             \u001b[1;32mif\u001b[0m \u001b[0mtimeout\u001b[0m \u001b[1;32mis\u001b[0m \u001b[1;32mNone\u001b[0m\u001b[1;33m:\u001b[0m\u001b[1;33m\u001b[0m\u001b[0m\n\u001b[1;32m--> 295\u001b[1;33m                 \u001b[0mwaiter\u001b[0m\u001b[1;33m.\u001b[0m\u001b[0macquire\u001b[0m\u001b[1;33m(\u001b[0m\u001b[1;33m)\u001b[0m\u001b[1;33m\u001b[0m\u001b[0m\n\u001b[0m\u001b[0;32m    296\u001b[0m                 \u001b[0mgotit\u001b[0m \u001b[1;33m=\u001b[0m \u001b[1;32mTrue\u001b[0m\u001b[1;33m\u001b[0m\u001b[0m\n\u001b[0;32m    297\u001b[0m             \u001b[1;32melse\u001b[0m\u001b[1;33m:\u001b[0m\u001b[1;33m\u001b[0m\u001b[0m\n",
      "\u001b[1;31mKeyboardInterrupt\u001b[0m: "
     ]
    }
   ],
   "source": [
    "gbc_grid = cu.gbc_grid_search(NUM_FOLDS, 2)\n",
    "\n",
    "gbc_grid.fit(transformed_df, labels)\n",
    "\n",
    "print('Best Gradient Boosting parameters:\\n', gbc_grid.best_params_)\n",
    "print('\\nBest Cross-Validation score:\\n', gbc_grid.best_score_)\n",
    "\n",
    "print(\"--- %s minutes ---\" % ((time.time() - start_time)/60))"
   ]
  },
  {
   "cell_type": "markdown",
   "metadata": {},
   "source": [
    "### Random Forest grid search"
   ]
  },
  {
   "cell_type": "code",
   "execution_count": null,
   "metadata": {
    "collapsed": true
   },
   "outputs": [],
   "source": [
    "rf_grid = cu.rf_grid_search(NUM_FOLDS, 2)\n",
    "\n",
    "rf_grid.fit(transformed_df, labels)\n",
    "\n",
    "print('Best Random Forest parameters:\\n', rf_grid.best_params_)\n",
    "print('\\nBest Cross-Validation score:\\n', rf_grid.best_score_)\n",
    "\n",
    "print(\"--- %s minutes ---\" % ((time.time() - start_time)/60))"
   ]
  },
  {
   "cell_type": "markdown",
   "metadata": {},
   "source": [
    "### SVC grid search"
   ]
  },
  {
   "cell_type": "code",
   "execution_count": null,
   "metadata": {
    "collapsed": true
   },
   "outputs": [],
   "source": [
    "svc_grid = cu.svc_grid_search(NUM_FOLDS, 2)\n",
    "\n",
    "svc_grid.fit(transformed_df, labels)\n",
    "\n",
    "print('Best SVC parameters:\\n', svc_grid.best_params_)\n",
    "print('\\nBest Cross-Validation score:\\n', svc_grid.best_score_)\n",
    "\n",
    "print(\"--- %s minutes ---\" % ((time.time() - start_time)/60))"
   ]
  },
  {
   "cell_type": "markdown",
   "metadata": {},
   "source": [
    "## PCA of data reduced according to best grid search reduction method"
   ]
  },
  {
   "cell_type": "code",
   "execution_count": null,
   "metadata": {
    "collapsed": true
   },
   "outputs": [],
   "source": [
    "from sklearn.feature_selection import SelectPercentile\n",
    "\n",
    "percentile_75_df = SelectPercentile(percentile=75).fit_transform(transformed_df, labels)\n",
    "percentile_75_df.shape"
   ]
  },
  {
   "cell_type": "code",
   "execution_count": null,
   "metadata": {
    "collapsed": true
   },
   "outputs": [],
   "source": [
    "pca_percentile = PCA() # create a PCA object\n",
    "pca_percentile.fit(percentile_75_df) # do the math\n",
    "pca_data_percentile = pca_percentile.transform(percentile_75_df) # get PCA coordinates for dataframe\n",
    "\n",
    "per_var_percentile, pca_labels_percentile = mq.make_scree_plot(pca_percentile, image_dir, 'Scree_75_Percentile')\n",
    "mq.draw_pca_graph2(column_names, pca_data_percentile, image_dir, column_to_color, per_var_percentile, pca_labels_percentile, tissues, tissues_to_columns, 'PCA_75_Percentile')"
   ]
  },
  {
   "cell_type": "markdown",
   "metadata": {},
   "source": [
    "## Top expressed peptides per tissue"
   ]
  },
  {
   "cell_type": "code",
   "execution_count": null,
   "metadata": {
    "collapsed": true,
    "scrolled": true
   },
   "outputs": [],
   "source": [
    "cu.print_top_n_features(df, rf, 10)\n",
    "cu.print_top_n_features_coef(df, lr, 10, tissues)"
   ]
  },
  {
   "cell_type": "markdown",
   "metadata": {},
   "source": [
    "## Save model, test new data\n",
    "* Save array/dataframe of features (via joblib) along with final model\n",
    "* Write script to classify new data-- load features and fit new data on them"
   ]
  },
  {
   "cell_type": "code",
   "execution_count": 193,
   "metadata": {
    "collapsed": true
   },
   "outputs": [],
   "source": [
    "filename = r'Trained_Models\\highqual_crossval_lr.sav'\n",
    "joblib.dump(lr, open(filename, 'wb'))"
   ]
  },
  {
   "cell_type": "markdown",
   "metadata": {},
   "source": [
    "### Load new data (test set)"
   ]
  },
  {
   "cell_type": "code",
   "execution_count": 18,
   "metadata": {
    "collapsed": true
   },
   "outputs": [],
   "source": [
    "TEST_SET_DIR = 'F:\\Test_Set\\\\'\n",
    "\n",
    "test_paths = listdir(TEST_SET_DIR) \n",
    "\n",
    "test_data = cu.combine_csvs(TEST_SET_DIR, test_paths)\n",
    "\n",
    "### TODO: Dynamically generate test_labels\n",
    "test_labels = ['Blood_Plasma'] * test_data.shape[1]\n",
    "\n",
    "test_data = cu.fit_new_data(original_df, test_data)"
   ]
  },
  {
   "cell_type": "code",
   "execution_count": 19,
   "metadata": {},
   "outputs": [
    {
     "data": {
      "text/html": [
       "<div>\n",
       "<style>\n",
       "    .dataframe thead tr:only-child th {\n",
       "        text-align: right;\n",
       "    }\n",
       "\n",
       "    .dataframe thead th {\n",
       "        text-align: left;\n",
       "    }\n",
       "\n",
       "    .dataframe tbody tr th {\n",
       "        vertical-align: top;\n",
       "    }\n",
       "</style>\n",
       "<table border=\"1\" class=\"dataframe\">\n",
       "  <thead>\n",
       "    <tr style=\"text-align: right;\">\n",
       "      <th>Peptide</th>\n",
       "      <th>-.DIQM*TQSPSTLSASVGDR.V</th>\n",
       "      <th>-.DIQM*TQSPSTLSASVGDRVTITCR.A</th>\n",
       "      <th>-.DIQMTQSPS.T</th>\n",
       "      <th>-.DIQMTQSPSTLSASVGDR.V</th>\n",
       "      <th>-.DIQMTQSPSTLSASVGDRVTITCR.A</th>\n",
       "      <th>-.EVQLVETGGGLIQPGGSLR.L</th>\n",
       "      <th>-.KVHGSLAR.A</th>\n",
       "      <th>-.LGEHNIDVLEGNEQFINAAR.I</th>\n",
       "      <th>-.LGEHNIDVLEGNEQFINAARI.I</th>\n",
       "      <th>-.LGEHNIDVLEGNEQFINAARII.T</th>\n",
       "      <th>...</th>\n",
       "      <th>Y.YTSVTPVLR.G</th>\n",
       "      <th>Y.YTTIQDLR.D</th>\n",
       "      <th>Y.YVAPEVLGPEKYDK.S</th>\n",
       "      <th>Y.YVSNEELR.G</th>\n",
       "      <th>Y.YVTIIDAPGHR.D</th>\n",
       "      <th>Y.YVYNIIGGLDEEGK.G</th>\n",
       "      <th>Y.YWGGQYTWDM*AK.H</th>\n",
       "      <th>Y.YWGGQYTWDMAK.H</th>\n",
       "      <th>Y.YYIQQDTK.G</th>\n",
       "      <th>Y.YYIQQDTKGDYQK.A</th>\n",
       "    </tr>\n",
       "  </thead>\n",
       "  <tbody>\n",
       "    <tr>\n",
       "      <th>Blood_Plasma_OpPlasma_029_a_13Aug11_Jaguar_11-07-18</th>\n",
       "      <td>0.0</td>\n",
       "      <td>0.0</td>\n",
       "      <td>0.0</td>\n",
       "      <td>0.0</td>\n",
       "      <td>0.0</td>\n",
       "      <td>0.0</td>\n",
       "      <td>0.0</td>\n",
       "      <td>0.000000</td>\n",
       "      <td>0.0</td>\n",
       "      <td>0.0</td>\n",
       "      <td>...</td>\n",
       "      <td>0.0</td>\n",
       "      <td>0.0</td>\n",
       "      <td>0.0</td>\n",
       "      <td>0.0</td>\n",
       "      <td>0.0</td>\n",
       "      <td>0.0</td>\n",
       "      <td>0.0</td>\n",
       "      <td>0.0</td>\n",
       "      <td>0.0</td>\n",
       "      <td>0.0</td>\n",
       "    </tr>\n",
       "    <tr>\n",
       "      <th>Blood_Plasma_OpPlasma_034_a_13Aug11_Jaguar_11-07-18</th>\n",
       "      <td>0.0</td>\n",
       "      <td>0.0</td>\n",
       "      <td>0.0</td>\n",
       "      <td>0.0</td>\n",
       "      <td>0.0</td>\n",
       "      <td>0.0</td>\n",
       "      <td>0.0</td>\n",
       "      <td>0.000000</td>\n",
       "      <td>0.0</td>\n",
       "      <td>0.0</td>\n",
       "      <td>...</td>\n",
       "      <td>0.0</td>\n",
       "      <td>0.0</td>\n",
       "      <td>0.0</td>\n",
       "      <td>0.0</td>\n",
       "      <td>0.0</td>\n",
       "      <td>0.0</td>\n",
       "      <td>0.0</td>\n",
       "      <td>0.0</td>\n",
       "      <td>0.0</td>\n",
       "      <td>0.0</td>\n",
       "    </tr>\n",
       "    <tr>\n",
       "      <th>Blood_Plasma_OpPlasma_038_a_13Aug11_Jaguar_11-07-16</th>\n",
       "      <td>0.0</td>\n",
       "      <td>0.0</td>\n",
       "      <td>0.0</td>\n",
       "      <td>0.0</td>\n",
       "      <td>0.0</td>\n",
       "      <td>0.0</td>\n",
       "      <td>0.0</td>\n",
       "      <td>0.000000</td>\n",
       "      <td>0.0</td>\n",
       "      <td>0.0</td>\n",
       "      <td>...</td>\n",
       "      <td>0.0</td>\n",
       "      <td>0.0</td>\n",
       "      <td>0.0</td>\n",
       "      <td>0.0</td>\n",
       "      <td>0.0</td>\n",
       "      <td>0.0</td>\n",
       "      <td>0.0</td>\n",
       "      <td>0.0</td>\n",
       "      <td>0.0</td>\n",
       "      <td>0.0</td>\n",
       "    </tr>\n",
       "    <tr>\n",
       "      <th>Blood_Plasma_OpPlasma_039_a_13Aug11_Jaguar_11-07-16</th>\n",
       "      <td>0.0</td>\n",
       "      <td>0.0</td>\n",
       "      <td>0.0</td>\n",
       "      <td>0.0</td>\n",
       "      <td>0.0</td>\n",
       "      <td>0.0</td>\n",
       "      <td>0.0</td>\n",
       "      <td>0.000000</td>\n",
       "      <td>0.0</td>\n",
       "      <td>0.0</td>\n",
       "      <td>...</td>\n",
       "      <td>0.0</td>\n",
       "      <td>0.0</td>\n",
       "      <td>0.0</td>\n",
       "      <td>0.0</td>\n",
       "      <td>0.0</td>\n",
       "      <td>0.0</td>\n",
       "      <td>0.0</td>\n",
       "      <td>0.0</td>\n",
       "      <td>0.0</td>\n",
       "      <td>0.0</td>\n",
       "    </tr>\n",
       "    <tr>\n",
       "      <th>Blood_Plasma_OpPlasma_045_a_27Jul11_Jaguar_11-05-05</th>\n",
       "      <td>0.0</td>\n",
       "      <td>0.0</td>\n",
       "      <td>0.0</td>\n",
       "      <td>0.0</td>\n",
       "      <td>0.0</td>\n",
       "      <td>0.0</td>\n",
       "      <td>0.0</td>\n",
       "      <td>17.294595</td>\n",
       "      <td>0.0</td>\n",
       "      <td>0.0</td>\n",
       "      <td>...</td>\n",
       "      <td>0.0</td>\n",
       "      <td>0.0</td>\n",
       "      <td>0.0</td>\n",
       "      <td>0.0</td>\n",
       "      <td>0.0</td>\n",
       "      <td>0.0</td>\n",
       "      <td>0.0</td>\n",
       "      <td>0.0</td>\n",
       "      <td>0.0</td>\n",
       "      <td>0.0</td>\n",
       "    </tr>\n",
       "  </tbody>\n",
       "</table>\n",
       "<p>5 rows × 119916 columns</p>\n",
       "</div>"
      ],
      "text/plain": [
       "Peptide                                             \\n-.DIQM*TQSPSTLSASVGDR.V  \\\n",
       "Blood_Plasma_OpPlasma_029_a_13Aug11_Jaguar_11-0...                        0.0   \n",
       "Blood_Plasma_OpPlasma_034_a_13Aug11_Jaguar_11-0...                        0.0   \n",
       "Blood_Plasma_OpPlasma_038_a_13Aug11_Jaguar_11-0...                        0.0   \n",
       "Blood_Plasma_OpPlasma_039_a_13Aug11_Jaguar_11-0...                        0.0   \n",
       "Blood_Plasma_OpPlasma_045_a_27Jul11_Jaguar_11-0...                        0.0   \n",
       "\n",
       "Peptide                                             \\n-.DIQM*TQSPSTLSASVGDRVTITCR.A  \\\n",
       "Blood_Plasma_OpPlasma_029_a_13Aug11_Jaguar_11-0...                              0.0   \n",
       "Blood_Plasma_OpPlasma_034_a_13Aug11_Jaguar_11-0...                              0.0   \n",
       "Blood_Plasma_OpPlasma_038_a_13Aug11_Jaguar_11-0...                              0.0   \n",
       "Blood_Plasma_OpPlasma_039_a_13Aug11_Jaguar_11-0...                              0.0   \n",
       "Blood_Plasma_OpPlasma_045_a_27Jul11_Jaguar_11-0...                              0.0   \n",
       "\n",
       "Peptide                                             \\n-.DIQMTQSPS.T  \\\n",
       "Blood_Plasma_OpPlasma_029_a_13Aug11_Jaguar_11-0...              0.0   \n",
       "Blood_Plasma_OpPlasma_034_a_13Aug11_Jaguar_11-0...              0.0   \n",
       "Blood_Plasma_OpPlasma_038_a_13Aug11_Jaguar_11-0...              0.0   \n",
       "Blood_Plasma_OpPlasma_039_a_13Aug11_Jaguar_11-0...              0.0   \n",
       "Blood_Plasma_OpPlasma_045_a_27Jul11_Jaguar_11-0...              0.0   \n",
       "\n",
       "Peptide                                             \\n-.DIQMTQSPSTLSASVGDR.V  \\\n",
       "Blood_Plasma_OpPlasma_029_a_13Aug11_Jaguar_11-0...                       0.0   \n",
       "Blood_Plasma_OpPlasma_034_a_13Aug11_Jaguar_11-0...                       0.0   \n",
       "Blood_Plasma_OpPlasma_038_a_13Aug11_Jaguar_11-0...                       0.0   \n",
       "Blood_Plasma_OpPlasma_039_a_13Aug11_Jaguar_11-0...                       0.0   \n",
       "Blood_Plasma_OpPlasma_045_a_27Jul11_Jaguar_11-0...                       0.0   \n",
       "\n",
       "Peptide                                             \\n-.DIQMTQSPSTLSASVGDRVTITCR.A  \\\n",
       "Blood_Plasma_OpPlasma_029_a_13Aug11_Jaguar_11-0...                             0.0   \n",
       "Blood_Plasma_OpPlasma_034_a_13Aug11_Jaguar_11-0...                             0.0   \n",
       "Blood_Plasma_OpPlasma_038_a_13Aug11_Jaguar_11-0...                             0.0   \n",
       "Blood_Plasma_OpPlasma_039_a_13Aug11_Jaguar_11-0...                             0.0   \n",
       "Blood_Plasma_OpPlasma_045_a_27Jul11_Jaguar_11-0...                             0.0   \n",
       "\n",
       "Peptide                                             \\n-.EVQLVETGGGLIQPGGSLR.L  \\\n",
       "Blood_Plasma_OpPlasma_029_a_13Aug11_Jaguar_11-0...                        0.0   \n",
       "Blood_Plasma_OpPlasma_034_a_13Aug11_Jaguar_11-0...                        0.0   \n",
       "Blood_Plasma_OpPlasma_038_a_13Aug11_Jaguar_11-0...                        0.0   \n",
       "Blood_Plasma_OpPlasma_039_a_13Aug11_Jaguar_11-0...                        0.0   \n",
       "Blood_Plasma_OpPlasma_045_a_27Jul11_Jaguar_11-0...                        0.0   \n",
       "\n",
       "Peptide                                             \\n-.KVHGSLAR.A  \\\n",
       "Blood_Plasma_OpPlasma_029_a_13Aug11_Jaguar_11-0...             0.0   \n",
       "Blood_Plasma_OpPlasma_034_a_13Aug11_Jaguar_11-0...             0.0   \n",
       "Blood_Plasma_OpPlasma_038_a_13Aug11_Jaguar_11-0...             0.0   \n",
       "Blood_Plasma_OpPlasma_039_a_13Aug11_Jaguar_11-0...             0.0   \n",
       "Blood_Plasma_OpPlasma_045_a_27Jul11_Jaguar_11-0...             0.0   \n",
       "\n",
       "Peptide                                             \\n-.LGEHNIDVLEGNEQFINAAR.I  \\\n",
       "Blood_Plasma_OpPlasma_029_a_13Aug11_Jaguar_11-0...                    0.000000   \n",
       "Blood_Plasma_OpPlasma_034_a_13Aug11_Jaguar_11-0...                    0.000000   \n",
       "Blood_Plasma_OpPlasma_038_a_13Aug11_Jaguar_11-0...                    0.000000   \n",
       "Blood_Plasma_OpPlasma_039_a_13Aug11_Jaguar_11-0...                    0.000000   \n",
       "Blood_Plasma_OpPlasma_045_a_27Jul11_Jaguar_11-0...                   17.294595   \n",
       "\n",
       "Peptide                                             \\n-.LGEHNIDVLEGNEQFINAARI.I  \\\n",
       "Blood_Plasma_OpPlasma_029_a_13Aug11_Jaguar_11-0...                          0.0   \n",
       "Blood_Plasma_OpPlasma_034_a_13Aug11_Jaguar_11-0...                          0.0   \n",
       "Blood_Plasma_OpPlasma_038_a_13Aug11_Jaguar_11-0...                          0.0   \n",
       "Blood_Plasma_OpPlasma_039_a_13Aug11_Jaguar_11-0...                          0.0   \n",
       "Blood_Plasma_OpPlasma_045_a_27Jul11_Jaguar_11-0...                          0.0   \n",
       "\n",
       "Peptide                                             \\n-.LGEHNIDVLEGNEQFINAARII.T  \\\n",
       "Blood_Plasma_OpPlasma_029_a_13Aug11_Jaguar_11-0...                           0.0   \n",
       "Blood_Plasma_OpPlasma_034_a_13Aug11_Jaguar_11-0...                           0.0   \n",
       "Blood_Plasma_OpPlasma_038_a_13Aug11_Jaguar_11-0...                           0.0   \n",
       "Blood_Plasma_OpPlasma_039_a_13Aug11_Jaguar_11-0...                           0.0   \n",
       "Blood_Plasma_OpPlasma_045_a_27Jul11_Jaguar_11-0...                           0.0   \n",
       "\n",
       "Peptide                                                    ...           \\\n",
       "Blood_Plasma_OpPlasma_029_a_13Aug11_Jaguar_11-0...         ...            \n",
       "Blood_Plasma_OpPlasma_034_a_13Aug11_Jaguar_11-0...         ...            \n",
       "Blood_Plasma_OpPlasma_038_a_13Aug11_Jaguar_11-0...         ...            \n",
       "Blood_Plasma_OpPlasma_039_a_13Aug11_Jaguar_11-0...         ...            \n",
       "Blood_Plasma_OpPlasma_045_a_27Jul11_Jaguar_11-0...         ...            \n",
       "\n",
       "Peptide                                             \\nY.YTSVTPVLR.G  \\\n",
       "Blood_Plasma_OpPlasma_029_a_13Aug11_Jaguar_11-0...              0.0   \n",
       "Blood_Plasma_OpPlasma_034_a_13Aug11_Jaguar_11-0...              0.0   \n",
       "Blood_Plasma_OpPlasma_038_a_13Aug11_Jaguar_11-0...              0.0   \n",
       "Blood_Plasma_OpPlasma_039_a_13Aug11_Jaguar_11-0...              0.0   \n",
       "Blood_Plasma_OpPlasma_045_a_27Jul11_Jaguar_11-0...              0.0   \n",
       "\n",
       "Peptide                                             \\nY.YTTIQDLR.D  \\\n",
       "Blood_Plasma_OpPlasma_029_a_13Aug11_Jaguar_11-0...             0.0   \n",
       "Blood_Plasma_OpPlasma_034_a_13Aug11_Jaguar_11-0...             0.0   \n",
       "Blood_Plasma_OpPlasma_038_a_13Aug11_Jaguar_11-0...             0.0   \n",
       "Blood_Plasma_OpPlasma_039_a_13Aug11_Jaguar_11-0...             0.0   \n",
       "Blood_Plasma_OpPlasma_045_a_27Jul11_Jaguar_11-0...             0.0   \n",
       "\n",
       "Peptide                                             \\nY.YVAPEVLGPEKYDK.S  \\\n",
       "Blood_Plasma_OpPlasma_029_a_13Aug11_Jaguar_11-0...                   0.0   \n",
       "Blood_Plasma_OpPlasma_034_a_13Aug11_Jaguar_11-0...                   0.0   \n",
       "Blood_Plasma_OpPlasma_038_a_13Aug11_Jaguar_11-0...                   0.0   \n",
       "Blood_Plasma_OpPlasma_039_a_13Aug11_Jaguar_11-0...                   0.0   \n",
       "Blood_Plasma_OpPlasma_045_a_27Jul11_Jaguar_11-0...                   0.0   \n",
       "\n",
       "Peptide                                             \\nY.YVSNEELR.G  \\\n",
       "Blood_Plasma_OpPlasma_029_a_13Aug11_Jaguar_11-0...             0.0   \n",
       "Blood_Plasma_OpPlasma_034_a_13Aug11_Jaguar_11-0...             0.0   \n",
       "Blood_Plasma_OpPlasma_038_a_13Aug11_Jaguar_11-0...             0.0   \n",
       "Blood_Plasma_OpPlasma_039_a_13Aug11_Jaguar_11-0...             0.0   \n",
       "Blood_Plasma_OpPlasma_045_a_27Jul11_Jaguar_11-0...             0.0   \n",
       "\n",
       "Peptide                                             \\nY.YVTIIDAPGHR.D  \\\n",
       "Blood_Plasma_OpPlasma_029_a_13Aug11_Jaguar_11-0...                0.0   \n",
       "Blood_Plasma_OpPlasma_034_a_13Aug11_Jaguar_11-0...                0.0   \n",
       "Blood_Plasma_OpPlasma_038_a_13Aug11_Jaguar_11-0...                0.0   \n",
       "Blood_Plasma_OpPlasma_039_a_13Aug11_Jaguar_11-0...                0.0   \n",
       "Blood_Plasma_OpPlasma_045_a_27Jul11_Jaguar_11-0...                0.0   \n",
       "\n",
       "Peptide                                             \\nY.YVYNIIGGLDEEGK.G  \\\n",
       "Blood_Plasma_OpPlasma_029_a_13Aug11_Jaguar_11-0...                   0.0   \n",
       "Blood_Plasma_OpPlasma_034_a_13Aug11_Jaguar_11-0...                   0.0   \n",
       "Blood_Plasma_OpPlasma_038_a_13Aug11_Jaguar_11-0...                   0.0   \n",
       "Blood_Plasma_OpPlasma_039_a_13Aug11_Jaguar_11-0...                   0.0   \n",
       "Blood_Plasma_OpPlasma_045_a_27Jul11_Jaguar_11-0...                   0.0   \n",
       "\n",
       "Peptide                                             \\nY.YWGGQYTWDM*AK.H  \\\n",
       "Blood_Plasma_OpPlasma_029_a_13Aug11_Jaguar_11-0...                  0.0   \n",
       "Blood_Plasma_OpPlasma_034_a_13Aug11_Jaguar_11-0...                  0.0   \n",
       "Blood_Plasma_OpPlasma_038_a_13Aug11_Jaguar_11-0...                  0.0   \n",
       "Blood_Plasma_OpPlasma_039_a_13Aug11_Jaguar_11-0...                  0.0   \n",
       "Blood_Plasma_OpPlasma_045_a_27Jul11_Jaguar_11-0...                  0.0   \n",
       "\n",
       "Peptide                                             \\nY.YWGGQYTWDMAK.H  \\\n",
       "Blood_Plasma_OpPlasma_029_a_13Aug11_Jaguar_11-0...                 0.0   \n",
       "Blood_Plasma_OpPlasma_034_a_13Aug11_Jaguar_11-0...                 0.0   \n",
       "Blood_Plasma_OpPlasma_038_a_13Aug11_Jaguar_11-0...                 0.0   \n",
       "Blood_Plasma_OpPlasma_039_a_13Aug11_Jaguar_11-0...                 0.0   \n",
       "Blood_Plasma_OpPlasma_045_a_27Jul11_Jaguar_11-0...                 0.0   \n",
       "\n",
       "Peptide                                             \\nY.YYIQQDTK.G  \\\n",
       "Blood_Plasma_OpPlasma_029_a_13Aug11_Jaguar_11-0...             0.0   \n",
       "Blood_Plasma_OpPlasma_034_a_13Aug11_Jaguar_11-0...             0.0   \n",
       "Blood_Plasma_OpPlasma_038_a_13Aug11_Jaguar_11-0...             0.0   \n",
       "Blood_Plasma_OpPlasma_039_a_13Aug11_Jaguar_11-0...             0.0   \n",
       "Blood_Plasma_OpPlasma_045_a_27Jul11_Jaguar_11-0...             0.0   \n",
       "\n",
       "Peptide                                             \\nY.YYIQQDTKGDYQK.A  \n",
       "Blood_Plasma_OpPlasma_029_a_13Aug11_Jaguar_11-0...                  0.0  \n",
       "Blood_Plasma_OpPlasma_034_a_13Aug11_Jaguar_11-0...                  0.0  \n",
       "Blood_Plasma_OpPlasma_038_a_13Aug11_Jaguar_11-0...                  0.0  \n",
       "Blood_Plasma_OpPlasma_039_a_13Aug11_Jaguar_11-0...                  0.0  \n",
       "Blood_Plasma_OpPlasma_045_a_27Jul11_Jaguar_11-0...                  0.0  \n",
       "\n",
       "[5 rows x 119916 columns]"
      ]
     },
     "execution_count": 19,
     "metadata": {},
     "output_type": "execute_result"
    }
   ],
   "source": [
    "test_data.head()"
   ]
  },
  {
   "cell_type": "markdown",
   "metadata": {},
   "source": [
    "### Load model and predict new data"
   ]
  },
  {
   "cell_type": "code",
   "execution_count": 353,
   "metadata": {
    "collapsed": true
   },
   "outputs": [],
   "source": [
    "filename = r'Trained_Models\\highqual_crossval_lr.sav'\n",
    "# some time later...\n",
    "\n",
    "# load the model from disk\n",
    "loaded_model = joblib.load(open(filename, 'rb'))\n",
    "\n",
    "fake_new_data = original_df.add_suffix('_2')"
   ]
  },
  {
   "cell_type": "code",
   "execution_count": 357,
   "metadata": {},
   "outputs": [
    {
     "name": "stderr",
     "output_type": "stream",
     "text": [
      "C:\\Users\\kush494\\Documents\\Proteomics_Data_Processing\\Classifiers\\Classification_Utils.py:511: RuntimeWarning: divide by zero encountered in log2\n",
      "  new_df (dataframe): new data to be classified\n"
     ]
    },
    {
     "name": "stdout",
     "output_type": "stream",
     "text": [
      "1.0\n"
     ]
    }
   ],
   "source": [
    "pred_data = cu.fit_new_data(original_df, fake_new_data)\n",
    "\n",
    "pred = loaded_model.predict(pred_data)\n",
    "result = loaded_model.score(pred_data, labels)\n",
    "\n",
    "print(result)"
   ]
  },
  {
   "cell_type": "markdown",
   "metadata": {},
   "source": [
    "### Use models from notebook to predict new data"
   ]
  },
  {
   "cell_type": "code",
   "execution_count": 25,
   "metadata": {},
   "outputs": [
    {
     "name": "stdout",
     "output_type": "stream",
     "text": [
      "['CSF' 'CSF' 'CSF' 'CSF' 'Blood_Plasma' 'Blood_Plasma' 'CSF' 'CSF' 'CSF'\n",
      " 'CSF']\n",
      "0.2\n"
     ]
    }
   ],
   "source": [
    "lr_pred = lr.predict(test_data)\n",
    "lr_result = lr.score(test_data, test_labels)\n",
    "\n",
    "mnb_pred = mnb.predict(test_data)\n",
    "mnb_result = mnb.score(test_data, test_labels)\n",
    "\n",
    "rf_pred = rf.predict(test_data)\n",
    "rf_result = rf.score(test_data, test_labels)\n",
    "\n",
    "svc_pred = svc_models[0].predict(test_data)\n",
    "svc_result = svc_models[0].score(test_data, test_labels)\n",
    "\n",
    "print(lr_pred)\n",
    "print(lr_result)"
   ]
  },
  {
   "cell_type": "markdown",
   "metadata": {},
   "source": [
    "##  Confusion matrices of best models' predictions on new data"
   ]
  },
  {
   "cell_type": "code",
   "execution_count": 36,
   "metadata": {
    "scrolled": true
   },
   "outputs": [
    {
     "name": "stdout",
     "output_type": "stream",
     "text": [
      "<class 'numpy.ndarray'>\n",
      "Confusion matrix, without normalization\n",
      "[[2 8]\n",
      " [0 0]]\n",
      "Normalized confusion matrix\n",
      "[[ 0.2  0.8]\n",
      " [ nan  nan]]\n"
     ]
    },
    {
     "name": "stderr",
     "output_type": "stream",
     "text": [
      "C:\\Users\\kush494\\Documents\\Proteomics_Data_Processing\\Classifiers\\Classification_Utils.py:577: RuntimeWarning: invalid value encountered in true_divide\n",
      "  cm = cm.astype('float') / cm.sum(axis=1)[:, np.newaxis]\n"
     ]
    },
    {
     "data": {
      "image/png": "[encoded data removed]",
      "text/plain": [
       "<matplotlib.figure.Figure at 0x2c877080>"
      ]
     },
     "metadata": {},
     "output_type": "display_data"
    },
    {
     "data": {
      "image/png": "[encoded data removed]",
      "text/plain": [
       "<matplotlib.figure.Figure at 0x2c844080>"
      ]
     },
     "metadata": {},
     "output_type": "display_data"
    }
   ],
   "source": [
    "#cu.show_confusion_matrices(labels, pred, tissues)\n",
    "cm_labels = lr_pred.tolist() + test_labels\n",
    "\n",
    "cu.show_confusion_matrices(test_labels, lr_pred, list(set(cm_labels)))"
   ]
  }
 ],
 "metadata": {
  "kernelspec": {
   "display_name": "Python 3",
   "language": "python",
   "name": "python3"
  },
  "language_info": {
   "codemirror_mode": {
    "name": "ipython",
    "version": 3
   },
   "file_extension": ".py",
   "mimetype": "text/x-python",
   "name": "python",
   "nbconvert_exporter": "python",
   "pygments_lexer": "ipython3",
   "version": "3.6.3"
  },
  "toc": {
   "nav_menu": {},
   "number_sections": true,
   "sideBar": true,
   "skip_h1_title": true,
   "toc_cell": false,
   "toc_position": {},
   "toc_section_display": "block",
   "toc_window_display": false
  }
 },
 "nbformat": 4,
 "nbformat_minor": 2
}
