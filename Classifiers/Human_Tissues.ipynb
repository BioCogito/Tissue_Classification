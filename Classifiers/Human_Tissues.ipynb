{
 "cells": [
  {
   "cell_type": "markdown",
   "metadata": {},
   "source": [
    "# Using unlabelled, unfractionated datasets obtained from QExact and VOrbi instruments\n",
    "* Datasets were searched against H_sapiens_Uniprot_SPROT_2017-04-12, Tryp_Pig_Bov sequence files using MSGFPlus\n",
    "* Combined results with MASIC results (Q <= 0.01) to get quantitation data"
   ]
  },
  {
   "cell_type": "code",
   "execution_count": 31,
   "metadata": {
    "collapsed": true
   },
   "outputs": [],
   "source": [
    "import os\n",
    "import sys\n",
    "module_path = os.path.abspath(os.path.join('..'))\n",
    "if module_path not in sys.path:\n",
    "    sys.path.append(module_path)"
   ]
  },
  {
   "cell_type": "code",
   "execution_count": 32,
   "metadata": {
    "collapsed": true
   },
   "outputs": [],
   "source": [
    "import Classification_Utils as cu\n",
    "import MaxQuant_Postprocessing_Functions as mq\n",
    "import numpy as np\n",
    "from os import listdir\n",
    "import pandas as pd\n",
    "from sklearn.decomposition import PCA\n",
    "from sklearn.externals import joblib\n",
    "from sklearn import preprocessing\n",
    "import time"
   ]
  },
  {
   "cell_type": "markdown",
   "metadata": {},
   "source": [
    "## Load (and combine?) data from all tissues"
   ]
  },
  {
   "cell_type": "code",
   "execution_count": 33,
   "metadata": {
    "collapsed": true
   },
   "outputs": [],
   "source": [
    "HIGH_QUAL_DIR = 'F:\\High_Quality\\\\'\n",
    "MIXED_QUAL_DIR = 'F:\\Mixed_Quality\\\\'\n",
    "LOW_QUAL_DIR = 'F:\\Low_Quality\\\\'\n",
    "TEST_SET_DIR = 'F:\\Test_Set\\\\'\n",
    "\n",
    "files_dir = HIGH_QUAL_DIR \n",
    "file_paths = listdir(files_dir) \n",
    "\n",
    "#files_dir2 = TEST_SET_DIR\n",
    "#file_paths2 = listdir(files_dir2) \n",
    "\n",
    "df = cu.combine_csvs(files_dir, file_paths)\n",
    "\n",
    "#df1 = cu.combine_csvs(files_dir, file_paths)\n",
    "#df2 = cu.combine_csvs(files_dir2, file_paths2)\n",
    "#df = df1.join(df2, how='outer')"
   ]
  },
  {
   "cell_type": "code",
   "execution_count": 34,
   "metadata": {
    "scrolled": true
   },
   "outputs": [
    {
     "name": "stdout",
     "output_type": "stream",
     "text": [
      "(139784, 169)\n"
     ]
    }
   ],
   "source": [
    "df.dropna(axis='index', how='all', inplace=True) # drop any rows where all values are missing\n",
    "df = df.drop(['\\n'])\n",
    "\n",
    "original_df = df.copy()\n",
    "\n",
    "print(df.shape)"
   ]
  },
  {
   "cell_type": "markdown",
   "metadata": {},
   "source": [
    "## Clean data\n",
    "* Log2 transform\n",
    "* Impute missing values\n",
    "* Mean/Median normalize"
   ]
  },
  {
   "cell_type": "code",
   "execution_count": 35,
   "metadata": {},
   "outputs": [
    {
     "name": "stderr",
     "output_type": "stream",
     "text": [
      "C:\\Users\\kush494\\Documents\\Proteomics_Data_Processing\\MaxQuant_Postprocessing_Functions.py:150: RuntimeWarning: divide by zero encountered in log2\n",
      "  df.iloc[:,:] = np.log2(df.iloc[:,:])\n"
     ]
    }
   ],
   "source": [
    "mq.log2_normalize(df)\n",
    "\n",
    "df_min = df.min().min()\n",
    "impute_val = df_min/2\n",
    "df = df.fillna(impute_val)\n",
    "\n",
    "# median normalize\n",
    "mq.median_normalize(df)\n",
    "#df.iloc[:,:] = preprocessing.RobustScaler().fit_transform(df)"
   ]
  },
  {
   "cell_type": "markdown",
   "metadata": {},
   "source": [
    "## Map each column to a corresponding label"
   ]
  },
  {
   "cell_type": "code",
   "execution_count": 36,
   "metadata": {
    "collapsed": true
   },
   "outputs": [],
   "source": [
    "tissues = ['Blood_Plasma', 'Blood_Serum', 'CSF', 'Liver', 'Monocyte', 'Ovary', 'Pancreas', 'Substantia_Nigra', 'Temporal_Lobe']\n",
    " \n",
    "tissues_to_columns = cu.map_tissues_to_columns(df, tissues)"
   ]
  },
  {
   "cell_type": "code",
   "execution_count": 37,
   "metadata": {
    "collapsed": true
   },
   "outputs": [],
   "source": [
    "column_names = df.columns.values.tolist()\n",
    "labels = cu.get_labels(column_names, tissues_to_columns)"
   ]
  },
  {
   "cell_type": "code",
   "execution_count": 38,
   "metadata": {
    "scrolled": false
   },
   "outputs": [
    {
     "data": {
      "text/html": [
       "<div>\n",
       "<style>\n",
       "    .dataframe thead tr:only-child th {\n",
       "        text-align: right;\n",
       "    }\n",
       "\n",
       "    .dataframe thead th {\n",
       "        text-align: left;\n",
       "    }\n",
       "\n",
       "    .dataframe tbody tr th {\n",
       "        vertical-align: top;\n",
       "    }\n",
       "</style>\n",
       "<table border=\"1\" class=\"dataframe\">\n",
       "  <thead>\n",
       "    <tr style=\"text-align: right;\">\n",
       "      <th></th>\n",
       "      <th>Blood_Plasma_CPTAC_TrypDige_undepleted_normal_19Apr13_Methow_13-02-13</th>\n",
       "      <th>Blood_Plasma_Darpa_2_human_02_23Jan17_Arwem_16-10-25</th>\n",
       "      <th>Blood_Plasma_OMICS_EBV_HP_UW001_8Apr16_Arwen_16-01-03</th>\n",
       "      <th>Blood_Plasma_OMICS_EBV_HP_UW002_8Apr16_Arwen_16-01-03</th>\n",
       "      <th>Blood_Plasma_OMICS_EBV_HP_UW003_8Apr16_Arwen_16-01-03</th>\n",
       "      <th>Blood_Plasma_OMICS_EBV_HP_UW004_8Apr16_Arwen_16-01-03</th>\n",
       "      <th>Blood_Plasma_OMICS_EBV_HP_UW005_8Apr16_Arwen_16-01-03</th>\n",
       "      <th>Blood_Plasma_OMICS_EBV_HP_UW006_8Apr16_Arwen_16-01-03</th>\n",
       "      <th>Blood_Plasma_OMICS_EBV_HP_UW007_8Apr16_Arwen_16-01-03</th>\n",
       "      <th>Blood_Plasma_OMICS_EBV_HP_UW008_8Apr16_Arwen_16-01-03</th>\n",
       "      <th>...</th>\n",
       "      <th>Temporal_Lobe_Alz_FX2P57_IMAC_163_26Apr11_Hawk_10-12-03p</th>\n",
       "      <th>Temporal_Lobe_Alz_FX2P57_IMAC_171_11May11_Hawk_11-04-02p</th>\n",
       "      <th>Temporal_Lobe_Alz_FX2P57_IMAC_175_20Apr11_Hawk_10-12-03p</th>\n",
       "      <th>Temporal_Lobe_Alz_FX2P57_IMAC_179_23May11_Hawk_11-04-02p</th>\n",
       "      <th>Temporal_Lobe_Alz_FX2P57_IMAC_184_20Apr11_Hawk_10-12-03p</th>\n",
       "      <th>Temporal_Lobe_Alz_FX2P57_IMAC_187_7May11_Hawk_11-04-02p</th>\n",
       "      <th>Temporal_Lobe_Alz_FX2P57_IMAC_189_11May11_Hawk_11-04-02p</th>\n",
       "      <th>Temporal_Lobe_Alz_FX2P57_IMAC_190_11May11_Hawk_11-04-02p</th>\n",
       "      <th>Temporal_Lobe_Alz_FX2P57_IMAC_195_20Apr11_Hawk_10-12-03p</th>\n",
       "      <th>Temporal_Lobe_Alz_FX2P57_IMAC_200_22Apr11_Hawk_10-12-03p</th>\n",
       "    </tr>\n",
       "    <tr>\n",
       "      <th>Peptide</th>\n",
       "      <th></th>\n",
       "      <th></th>\n",
       "      <th></th>\n",
       "      <th></th>\n",
       "      <th></th>\n",
       "      <th></th>\n",
       "      <th></th>\n",
       "      <th></th>\n",
       "      <th></th>\n",
       "      <th></th>\n",
       "      <th></th>\n",
       "      <th></th>\n",
       "      <th></th>\n",
       "      <th></th>\n",
       "      <th></th>\n",
       "      <th></th>\n",
       "      <th></th>\n",
       "      <th></th>\n",
       "      <th></th>\n",
       "      <th></th>\n",
       "      <th></th>\n",
       "    </tr>\n",
       "  </thead>\n",
       "  <tbody>\n",
       "    <tr>\n",
       "      <th>\\n-.ASTKGPSVFPLAPSSK.S</th>\n",
       "      <td>3.022208</td>\n",
       "      <td>3.022208</td>\n",
       "      <td>3.022208</td>\n",
       "      <td>3.022208</td>\n",
       "      <td>3.022208</td>\n",
       "      <td>3.022208</td>\n",
       "      <td>3.022208</td>\n",
       "      <td>3.022208</td>\n",
       "      <td>3.022208</td>\n",
       "      <td>3.022208</td>\n",
       "      <td>...</td>\n",
       "      <td>3.022208</td>\n",
       "      <td>3.022208</td>\n",
       "      <td>3.022208</td>\n",
       "      <td>3.022208</td>\n",
       "      <td>3.022208</td>\n",
       "      <td>3.022208</td>\n",
       "      <td>3.022208</td>\n",
       "      <td>3.022208</td>\n",
       "      <td>3.022208</td>\n",
       "      <td>3.022208</td>\n",
       "    </tr>\n",
       "    <tr>\n",
       "      <th>\\n-.DIQM*TQSPSTLSASVGDR.V</th>\n",
       "      <td>26.731951</td>\n",
       "      <td>22.187643</td>\n",
       "      <td>3.022208</td>\n",
       "      <td>29.328345</td>\n",
       "      <td>29.916272</td>\n",
       "      <td>3.022208</td>\n",
       "      <td>27.586706</td>\n",
       "      <td>30.458361</td>\n",
       "      <td>29.004130</td>\n",
       "      <td>31.023004</td>\n",
       "      <td>...</td>\n",
       "      <td>3.022208</td>\n",
       "      <td>3.022208</td>\n",
       "      <td>3.022208</td>\n",
       "      <td>3.022208</td>\n",
       "      <td>3.022208</td>\n",
       "      <td>3.022208</td>\n",
       "      <td>3.022208</td>\n",
       "      <td>3.022208</td>\n",
       "      <td>3.022208</td>\n",
       "      <td>3.022208</td>\n",
       "    </tr>\n",
       "    <tr>\n",
       "      <th>\\n-.DIQM*TQSPSTLSASVGDRVTITCR.A</th>\n",
       "      <td>3.022208</td>\n",
       "      <td>3.022208</td>\n",
       "      <td>3.022208</td>\n",
       "      <td>30.633308</td>\n",
       "      <td>30.815586</td>\n",
       "      <td>3.022208</td>\n",
       "      <td>29.483431</td>\n",
       "      <td>32.564995</td>\n",
       "      <td>30.319263</td>\n",
       "      <td>32.368436</td>\n",
       "      <td>...</td>\n",
       "      <td>3.022208</td>\n",
       "      <td>3.022208</td>\n",
       "      <td>3.022208</td>\n",
       "      <td>3.022208</td>\n",
       "      <td>3.022208</td>\n",
       "      <td>3.022208</td>\n",
       "      <td>3.022208</td>\n",
       "      <td>3.022208</td>\n",
       "      <td>3.022208</td>\n",
       "      <td>3.022208</td>\n",
       "    </tr>\n",
       "    <tr>\n",
       "      <th>\\n-.DIQMTQSPS.T</th>\n",
       "      <td>26.764332</td>\n",
       "      <td>3.022208</td>\n",
       "      <td>3.022208</td>\n",
       "      <td>3.022208</td>\n",
       "      <td>3.022208</td>\n",
       "      <td>3.022208</td>\n",
       "      <td>3.022208</td>\n",
       "      <td>3.022208</td>\n",
       "      <td>3.022208</td>\n",
       "      <td>3.022208</td>\n",
       "      <td>...</td>\n",
       "      <td>3.022208</td>\n",
       "      <td>3.022208</td>\n",
       "      <td>3.022208</td>\n",
       "      <td>3.022208</td>\n",
       "      <td>3.022208</td>\n",
       "      <td>3.022208</td>\n",
       "      <td>3.022208</td>\n",
       "      <td>3.022208</td>\n",
       "      <td>3.022208</td>\n",
       "      <td>3.022208</td>\n",
       "    </tr>\n",
       "    <tr>\n",
       "      <th>\\n-.DIQMTQSPSTLSASVGDR.V</th>\n",
       "      <td>26.387537</td>\n",
       "      <td>28.015792</td>\n",
       "      <td>3.022208</td>\n",
       "      <td>3.022208</td>\n",
       "      <td>31.403752</td>\n",
       "      <td>3.022208</td>\n",
       "      <td>27.695976</td>\n",
       "      <td>29.779972</td>\n",
       "      <td>29.747784</td>\n",
       "      <td>30.255299</td>\n",
       "      <td>...</td>\n",
       "      <td>3.022208</td>\n",
       "      <td>3.022208</td>\n",
       "      <td>3.022208</td>\n",
       "      <td>3.022208</td>\n",
       "      <td>3.022208</td>\n",
       "      <td>3.022208</td>\n",
       "      <td>3.022208</td>\n",
       "      <td>3.022208</td>\n",
       "      <td>3.022208</td>\n",
       "      <td>3.022208</td>\n",
       "    </tr>\n",
       "  </tbody>\n",
       "</table>\n",
       "<p>5 rows × 169 columns</p>\n",
       "</div>"
      ],
      "text/plain": [
       "                                 Blood_Plasma_CPTAC_TrypDige_undepleted_normal_19Apr13_Methow_13-02-13  \\\n",
       "Peptide                                                                                                  \n",
       "\\n-.ASTKGPSVFPLAPSSK.S                                                    3.022208                       \n",
       "\\n-.DIQM*TQSPSTLSASVGDR.V                                                26.731951                       \n",
       "\\n-.DIQM*TQSPSTLSASVGDRVTITCR.A                                           3.022208                       \n",
       "\\n-.DIQMTQSPS.T                                                          26.764332                       \n",
       "\\n-.DIQMTQSPSTLSASVGDR.V                                                 26.387537                       \n",
       "\n",
       "                                 Blood_Plasma_Darpa_2_human_02_23Jan17_Arwem_16-10-25  \\\n",
       "Peptide                                                                                 \n",
       "\\n-.ASTKGPSVFPLAPSSK.S                                                    3.022208      \n",
       "\\n-.DIQM*TQSPSTLSASVGDR.V                                                22.187643      \n",
       "\\n-.DIQM*TQSPSTLSASVGDRVTITCR.A                                           3.022208      \n",
       "\\n-.DIQMTQSPS.T                                                           3.022208      \n",
       "\\n-.DIQMTQSPSTLSASVGDR.V                                                 28.015792      \n",
       "\n",
       "                                 Blood_Plasma_OMICS_EBV_HP_UW001_8Apr16_Arwen_16-01-03  \\\n",
       "Peptide                                                                                  \n",
       "\\n-.ASTKGPSVFPLAPSSK.S                                                    3.022208       \n",
       "\\n-.DIQM*TQSPSTLSASVGDR.V                                                 3.022208       \n",
       "\\n-.DIQM*TQSPSTLSASVGDRVTITCR.A                                           3.022208       \n",
       "\\n-.DIQMTQSPS.T                                                           3.022208       \n",
       "\\n-.DIQMTQSPSTLSASVGDR.V                                                  3.022208       \n",
       "\n",
       "                                 Blood_Plasma_OMICS_EBV_HP_UW002_8Apr16_Arwen_16-01-03  \\\n",
       "Peptide                                                                                  \n",
       "\\n-.ASTKGPSVFPLAPSSK.S                                                    3.022208       \n",
       "\\n-.DIQM*TQSPSTLSASVGDR.V                                                29.328345       \n",
       "\\n-.DIQM*TQSPSTLSASVGDRVTITCR.A                                          30.633308       \n",
       "\\n-.DIQMTQSPS.T                                                           3.022208       \n",
       "\\n-.DIQMTQSPSTLSASVGDR.V                                                  3.022208       \n",
       "\n",
       "                                 Blood_Plasma_OMICS_EBV_HP_UW003_8Apr16_Arwen_16-01-03  \\\n",
       "Peptide                                                                                  \n",
       "\\n-.ASTKGPSVFPLAPSSK.S                                                    3.022208       \n",
       "\\n-.DIQM*TQSPSTLSASVGDR.V                                                29.916272       \n",
       "\\n-.DIQM*TQSPSTLSASVGDRVTITCR.A                                          30.815586       \n",
       "\\n-.DIQMTQSPS.T                                                           3.022208       \n",
       "\\n-.DIQMTQSPSTLSASVGDR.V                                                 31.403752       \n",
       "\n",
       "                                 Blood_Plasma_OMICS_EBV_HP_UW004_8Apr16_Arwen_16-01-03  \\\n",
       "Peptide                                                                                  \n",
       "\\n-.ASTKGPSVFPLAPSSK.S                                                    3.022208       \n",
       "\\n-.DIQM*TQSPSTLSASVGDR.V                                                 3.022208       \n",
       "\\n-.DIQM*TQSPSTLSASVGDRVTITCR.A                                           3.022208       \n",
       "\\n-.DIQMTQSPS.T                                                           3.022208       \n",
       "\\n-.DIQMTQSPSTLSASVGDR.V                                                  3.022208       \n",
       "\n",
       "                                 Blood_Plasma_OMICS_EBV_HP_UW005_8Apr16_Arwen_16-01-03  \\\n",
       "Peptide                                                                                  \n",
       "\\n-.ASTKGPSVFPLAPSSK.S                                                    3.022208       \n",
       "\\n-.DIQM*TQSPSTLSASVGDR.V                                                27.586706       \n",
       "\\n-.DIQM*TQSPSTLSASVGDRVTITCR.A                                          29.483431       \n",
       "\\n-.DIQMTQSPS.T                                                           3.022208       \n",
       "\\n-.DIQMTQSPSTLSASVGDR.V                                                 27.695976       \n",
       "\n",
       "                                 Blood_Plasma_OMICS_EBV_HP_UW006_8Apr16_Arwen_16-01-03  \\\n",
       "Peptide                                                                                  \n",
       "\\n-.ASTKGPSVFPLAPSSK.S                                                    3.022208       \n",
       "\\n-.DIQM*TQSPSTLSASVGDR.V                                                30.458361       \n",
       "\\n-.DIQM*TQSPSTLSASVGDRVTITCR.A                                          32.564995       \n",
       "\\n-.DIQMTQSPS.T                                                           3.022208       \n",
       "\\n-.DIQMTQSPSTLSASVGDR.V                                                 29.779972       \n",
       "\n",
       "                                 Blood_Plasma_OMICS_EBV_HP_UW007_8Apr16_Arwen_16-01-03  \\\n",
       "Peptide                                                                                  \n",
       "\\n-.ASTKGPSVFPLAPSSK.S                                                    3.022208       \n",
       "\\n-.DIQM*TQSPSTLSASVGDR.V                                                29.004130       \n",
       "\\n-.DIQM*TQSPSTLSASVGDRVTITCR.A                                          30.319263       \n",
       "\\n-.DIQMTQSPS.T                                                           3.022208       \n",
       "\\n-.DIQMTQSPSTLSASVGDR.V                                                 29.747784       \n",
       "\n",
       "                                 Blood_Plasma_OMICS_EBV_HP_UW008_8Apr16_Arwen_16-01-03  \\\n",
       "Peptide                                                                                  \n",
       "\\n-.ASTKGPSVFPLAPSSK.S                                                    3.022208       \n",
       "\\n-.DIQM*TQSPSTLSASVGDR.V                                                31.023004       \n",
       "\\n-.DIQM*TQSPSTLSASVGDRVTITCR.A                                          32.368436       \n",
       "\\n-.DIQMTQSPS.T                                                           3.022208       \n",
       "\\n-.DIQMTQSPSTLSASVGDR.V                                                 30.255299       \n",
       "\n",
       "                                                           ...                             \\\n",
       "Peptide                                                    ...                              \n",
       "\\n-.ASTKGPSVFPLAPSSK.S                                     ...                              \n",
       "\\n-.DIQM*TQSPSTLSASVGDR.V                                  ...                              \n",
       "\\n-.DIQM*TQSPSTLSASVGDRVTITCR.A                            ...                              \n",
       "\\n-.DIQMTQSPS.T                                            ...                              \n",
       "\\n-.DIQMTQSPSTLSASVGDR.V                                   ...                              \n",
       "\n",
       "                                 Temporal_Lobe_Alz_FX2P57_IMAC_163_26Apr11_Hawk_10-12-03p  \\\n",
       "Peptide                                                                                     \n",
       "\\n-.ASTKGPSVFPLAPSSK.S                                                    3.022208          \n",
       "\\n-.DIQM*TQSPSTLSASVGDR.V                                                 3.022208          \n",
       "\\n-.DIQM*TQSPSTLSASVGDRVTITCR.A                                           3.022208          \n",
       "\\n-.DIQMTQSPS.T                                                           3.022208          \n",
       "\\n-.DIQMTQSPSTLSASVGDR.V                                                  3.022208          \n",
       "\n",
       "                                 Temporal_Lobe_Alz_FX2P57_IMAC_171_11May11_Hawk_11-04-02p  \\\n",
       "Peptide                                                                                     \n",
       "\\n-.ASTKGPSVFPLAPSSK.S                                                    3.022208          \n",
       "\\n-.DIQM*TQSPSTLSASVGDR.V                                                 3.022208          \n",
       "\\n-.DIQM*TQSPSTLSASVGDRVTITCR.A                                           3.022208          \n",
       "\\n-.DIQMTQSPS.T                                                           3.022208          \n",
       "\\n-.DIQMTQSPSTLSASVGDR.V                                                  3.022208          \n",
       "\n",
       "                                 Temporal_Lobe_Alz_FX2P57_IMAC_175_20Apr11_Hawk_10-12-03p  \\\n",
       "Peptide                                                                                     \n",
       "\\n-.ASTKGPSVFPLAPSSK.S                                                    3.022208          \n",
       "\\n-.DIQM*TQSPSTLSASVGDR.V                                                 3.022208          \n",
       "\\n-.DIQM*TQSPSTLSASVGDRVTITCR.A                                           3.022208          \n",
       "\\n-.DIQMTQSPS.T                                                           3.022208          \n",
       "\\n-.DIQMTQSPSTLSASVGDR.V                                                  3.022208          \n",
       "\n",
       "                                 Temporal_Lobe_Alz_FX2P57_IMAC_179_23May11_Hawk_11-04-02p  \\\n",
       "Peptide                                                                                     \n",
       "\\n-.ASTKGPSVFPLAPSSK.S                                                    3.022208          \n",
       "\\n-.DIQM*TQSPSTLSASVGDR.V                                                 3.022208          \n",
       "\\n-.DIQM*TQSPSTLSASVGDRVTITCR.A                                           3.022208          \n",
       "\\n-.DIQMTQSPS.T                                                           3.022208          \n",
       "\\n-.DIQMTQSPSTLSASVGDR.V                                                  3.022208          \n",
       "\n",
       "                                 Temporal_Lobe_Alz_FX2P57_IMAC_184_20Apr11_Hawk_10-12-03p  \\\n",
       "Peptide                                                                                     \n",
       "\\n-.ASTKGPSVFPLAPSSK.S                                                    3.022208          \n",
       "\\n-.DIQM*TQSPSTLSASVGDR.V                                                 3.022208          \n",
       "\\n-.DIQM*TQSPSTLSASVGDRVTITCR.A                                           3.022208          \n",
       "\\n-.DIQMTQSPS.T                                                           3.022208          \n",
       "\\n-.DIQMTQSPSTLSASVGDR.V                                                  3.022208          \n",
       "\n",
       "                                 Temporal_Lobe_Alz_FX2P57_IMAC_187_7May11_Hawk_11-04-02p  \\\n",
       "Peptide                                                                                    \n",
       "\\n-.ASTKGPSVFPLAPSSK.S                                                    3.022208         \n",
       "\\n-.DIQM*TQSPSTLSASVGDR.V                                                 3.022208         \n",
       "\\n-.DIQM*TQSPSTLSASVGDRVTITCR.A                                           3.022208         \n",
       "\\n-.DIQMTQSPS.T                                                           3.022208         \n",
       "\\n-.DIQMTQSPSTLSASVGDR.V                                                  3.022208         \n",
       "\n",
       "                                 Temporal_Lobe_Alz_FX2P57_IMAC_189_11May11_Hawk_11-04-02p  \\\n",
       "Peptide                                                                                     \n",
       "\\n-.ASTKGPSVFPLAPSSK.S                                                    3.022208          \n",
       "\\n-.DIQM*TQSPSTLSASVGDR.V                                                 3.022208          \n",
       "\\n-.DIQM*TQSPSTLSASVGDRVTITCR.A                                           3.022208          \n",
       "\\n-.DIQMTQSPS.T                                                           3.022208          \n",
       "\\n-.DIQMTQSPSTLSASVGDR.V                                                  3.022208          \n",
       "\n",
       "                                 Temporal_Lobe_Alz_FX2P57_IMAC_190_11May11_Hawk_11-04-02p  \\\n",
       "Peptide                                                                                     \n",
       "\\n-.ASTKGPSVFPLAPSSK.S                                                    3.022208          \n",
       "\\n-.DIQM*TQSPSTLSASVGDR.V                                                 3.022208          \n",
       "\\n-.DIQM*TQSPSTLSASVGDRVTITCR.A                                           3.022208          \n",
       "\\n-.DIQMTQSPS.T                                                           3.022208          \n",
       "\\n-.DIQMTQSPSTLSASVGDR.V                                                  3.022208          \n",
       "\n",
       "                                 Temporal_Lobe_Alz_FX2P57_IMAC_195_20Apr11_Hawk_10-12-03p  \\\n",
       "Peptide                                                                                     \n",
       "\\n-.ASTKGPSVFPLAPSSK.S                                                    3.022208          \n",
       "\\n-.DIQM*TQSPSTLSASVGDR.V                                                 3.022208          \n",
       "\\n-.DIQM*TQSPSTLSASVGDRVTITCR.A                                           3.022208          \n",
       "\\n-.DIQMTQSPS.T                                                           3.022208          \n",
       "\\n-.DIQMTQSPSTLSASVGDR.V                                                  3.022208          \n",
       "\n",
       "                                 Temporal_Lobe_Alz_FX2P57_IMAC_200_22Apr11_Hawk_10-12-03p  \n",
       "Peptide                                                                                    \n",
       "\\n-.ASTKGPSVFPLAPSSK.S                                                    3.022208         \n",
       "\\n-.DIQM*TQSPSTLSASVGDR.V                                                 3.022208         \n",
       "\\n-.DIQM*TQSPSTLSASVGDRVTITCR.A                                           3.022208         \n",
       "\\n-.DIQMTQSPS.T                                                           3.022208         \n",
       "\\n-.DIQMTQSPSTLSASVGDR.V                                                  3.022208         \n",
       "\n",
       "[5 rows x 169 columns]"
      ]
     },
     "execution_count": 38,
     "metadata": {},
     "output_type": "execute_result"
    }
   ],
   "source": [
    "df.head()"
   ]
  },
  {
   "cell_type": "code",
   "execution_count": 39,
   "metadata": {
    "scrolled": true
   },
   "outputs": [
    {
     "data": {
      "text/plain": [
       "['Blood_Plasma_CPTAC_TrypDige_undepleted_normal_19Apr13_Methow_13-02-13',\n",
       " 'Blood_Plasma_Darpa_2_human_02_23Jan17_Arwem_16-10-25',\n",
       " 'Blood_Plasma_OMICS_EBV_HP_UW001_8Apr16_Arwen_16-01-03',\n",
       " 'Blood_Plasma_OMICS_EBV_HP_UW002_8Apr16_Arwen_16-01-03',\n",
       " 'Blood_Plasma_OMICS_EBV_HP_UW003_8Apr16_Arwen_16-01-03',\n",
       " 'Blood_Plasma_OMICS_EBV_HP_UW004_8Apr16_Arwen_16-01-03',\n",
       " 'Blood_Plasma_OMICS_EBV_HP_UW005_8Apr16_Arwen_16-01-03',\n",
       " 'Blood_Plasma_OMICS_EBV_HP_UW006_8Apr16_Arwen_16-01-03',\n",
       " 'Blood_Plasma_OMICS_EBV_HP_UW007_8Apr16_Arwen_16-01-03',\n",
       " 'Blood_Plasma_OMICS_EBV_HP_UW008_8Apr16_Arwen_16-01-03',\n",
       " 'Blood_Plasma_OMICS_EBV_HP_UW009_8Apr16_Arwen_16-01-03',\n",
       " 'Blood_Plasma_OMICS_EBV_HP_UW010_8Apr16_Arwen_16-01-03',\n",
       " 'Blood_Plasma_OMICS_EBV_HP_UW011_8Apr16_Arwen_16-01-03',\n",
       " 'Blood_Plasma_OMICS_EBV_HP_UW012_8Apr16_Arwen_16-01-03',\n",
       " 'Blood_Plasma_OMICS_EBV_HP_UW013_19Apr16_Arwen_16-01-03',\n",
       " 'Blood_Plasma_OMICS_EBV_HP_UW014_8Apr16_Arwen_16-01-03',\n",
       " 'Blood_Plasma_OMICS_EBV_HP_UW015_8Apr16_Arwen_16-01-03',\n",
       " 'Blood_Plasma_RZHJ_012_16Jun10_Owl_10-02-04',\n",
       " 'Blood_Plasma_Trypsin_Digestion_Step5_Sample1_4Mar13_Lynx_13-02-11',\n",
       " 'Blood_Plasma_Trypsin_Digestion_Step5_Sample2_4Mar13_Lynx_13-02-11',\n",
       " 'Blood_Serum_HURN_01_run1_9May13_Leopard_13-05-02',\n",
       " 'Blood_Serum_HURN_02_run1_9May13_Leopard_13-05-02',\n",
       " 'Blood_Serum_HURN_03_run1_13May13_Leopard_13-05-02',\n",
       " 'Blood_Serum_HURN_04_run1_13May13_Leopard_13-05-02',\n",
       " 'Blood_Serum_HURN_05_run1_13May13_Leopard_13-05-02',\n",
       " 'Blood_Serum_HURN_06_run1_13May13_Leopard_13-05-02',\n",
       " 'Blood_Serum_HURN_07_run1_9May13_Leopard_13-05-02',\n",
       " 'Blood_Serum_HURN_08_run1_9May13_Leopard_13-05-02',\n",
       " 'Blood_Serum_HURN_09_run1_9May13_Leopard_13-05-02',\n",
       " 'Blood_Serum_HURN_10_run1_13May13_Leopard_13-05-02',\n",
       " 'Blood_Serum_HURN_C_01_run1_9May13_Leopard_13-05-02',\n",
       " 'Blood_Serum_HURN_C_02_run1_13May13_Leopard_13-05-02',\n",
       " 'Blood_Serum_HURN_C_03_run1_9May13_Leopard_13-05-02',\n",
       " 'Blood_Serum_HURN_C_04_run1_13May13_Leopard_13-05-02',\n",
       " 'Blood_Serum_HURN_C_05_run1_13May13_Leopard_13-05-02',\n",
       " 'Blood_Serum_HURN_C_06_run1_13May13_Leopard_13-05-02',\n",
       " 'Blood_Serum_HURN_C_07_run1_9May13_Leopard_13-05-02',\n",
       " 'Blood_Serum_HURN_C_08_run1_13May13_Leopard_13-05-02',\n",
       " 'Blood_Serum_HURN_C_09_run1_13May13_Leopard_13-05-02',\n",
       " 'Blood_Serum_HURN_C_10_run1_13May13_Leopard_13-05-02',\n",
       " 'CSF_HCSF_2MP09_N1_1_20Jan10_Griffin_09-11-40',\n",
       " 'CSF_HCSF_2MP09_N1_2_10Feb10_Griffin_09-11-39',\n",
       " 'CSF_HCSF_2MP09_N2_1_29Jan10_Griffin_09-11-40',\n",
       " 'CSF_HCSF_2MP09_N2_2_19Feb10_Griffin_09-11-39',\n",
       " 'CSF_HCSF_2MP09_N3_1_2Feb10_Griffin_09-11-40',\n",
       " 'CSF_HCSF_2MP09_N4_1_25Jan10_Griffin_09-11-40',\n",
       " 'CSF_HCSF_2MP09_N5_1_21Jan10_Griffin_09-11-40',\n",
       " 'CSF_HCSF_2MP09_N6_1_25Jan10_Griffin_09-11-40',\n",
       " 'CSF_HCSF_2MP09_N7_1_5Feb10_Griffin_09-11-40',\n",
       " 'CSF_HCSF_2MP09_N8_1_11Feb10_Griffin_09-11-40',\n",
       " 'CSF_Schutzer_NM_6015',\n",
       " 'CSF_Schutzer_NM_6026',\n",
       " 'CSF_Schutzer_NM_6028',\n",
       " 'CSF_Schutzer_NM_6071',\n",
       " 'CSF_Schutzer_NM_6072',\n",
       " 'CSF_Schutzer_NM_7864',\n",
       " 'CSF_Schutzer_NM_7865',\n",
       " 'CSF_Schutzer_NM_7866',\n",
       " 'CSF_Schutzer_NM_7868',\n",
       " 'CSF_Schutzer_NM_7870',\n",
       " 'Liver_AH_LT_HH_1014_11Sept16_Frodo_16-05-17',\n",
       " 'Liver_AH_LT_HH_1029_11Sept16_Frodo_16-05-17',\n",
       " 'Liver_AH_LT_HH_1033_11Sept16_Frodo_16-05-17',\n",
       " 'Liver_AH_LT_HH_1044_11Sept16_Frodo_16-05-17',\n",
       " 'Liver_AH_LT_HH_1050_11Sept16_Frodo_16-05-17',\n",
       " 'Liver_AH_LT_HH_1062_11Sept16_Frodo_16-05-17-rerun',\n",
       " 'Liver_AH_LT_HH_1073_11Sept16_Frodo_16-05-17',\n",
       " 'Liver_AH_LT_HH_1087_11Sept16_Frodo_16-05-17',\n",
       " 'Liver_AH_LT_HH_987_11Sept16_Frodo_16-05-17',\n",
       " 'Liver_AH_LT_HH_991_11Sept16_Frodo_16-05-17',\n",
       " 'Liver_AH_LT_UMN_1144_11Sept16_Frodo_16-05-17',\n",
       " 'Liver_AH_LT_UMN_1188_11Sept16_Frodo_16-05-17',\n",
       " 'Liver_AH_LT_UMN_1427_11Sept16_Frodo_16-05-17',\n",
       " 'Liver_AH_LT_UMN_1443_11Sept16_Frodo_16-05-17',\n",
       " 'Liver_AH_LT_UMN_1444_11Sept16_Frodo_16-05-17',\n",
       " 'Liver_AH_LT_UMN_1468_11Sept16_Frodo_16-05-17',\n",
       " 'Liver_AH_LT_UMN_1509_11Sept16_Frodo_16-05-17',\n",
       " 'Liver_AH_LT_UMN_1519_11Sept16_Frodo_16-05-17',\n",
       " 'Liver_AH_LT_UMN_1521_11Sept16_Frodo_16-05-17',\n",
       " 'Liver_AH_LT_UMN_1522_11Sept16_Frodo_16-05-17',\n",
       " 'Monocyte_DARPA_Mono_SP164116_555_13Nov17_Oak_Jup-17-11-01',\n",
       " 'Monocyte_DARPA_Mono_SP288C9A_137_17Nov17_Oak_Jup-17-11-01',\n",
       " 'Monocyte_DARPA_Mono_SP2C1D8E_471_20Nov17_Oak_Jup-17-11-01',\n",
       " 'Monocyte_DARPA_Mono_SP4FFF3B_797_8Nov17_Oak_Jup-17-11-01',\n",
       " 'Monocyte_DARPA_Mono_SP550403_465_10Nov17_Oak_Jup-17-11-01',\n",
       " 'Monocyte_DARPA_Mono_SP5C5CCC_143_13Nov17_Oak_Jup-17-11-01',\n",
       " 'Monocyte_DARPA_Mono_SP6134DC_537_13Nov17_Oak_Jup-17-11-01',\n",
       " 'Monocyte_DARPA_Mono_SP80746A_543_13Nov17_Oak_Jup-17-11-01',\n",
       " 'Monocyte_DARPA_Mono_SPDE5F4C_671_17Nov17_Oak_Jup-17-11-01',\n",
       " 'Ovary_CPTAC_Intact_100k_03_Run1_26Nov14_Bane_C2-14-08-02RZ',\n",
       " 'Ovary_CPTAC_Intact_100k_M_03_Run1_26Nov14_Bane_C2-14-08-02RZ',\n",
       " 'Ovary_CPTAC_Intact_100k_T_03_Run1_18Nov14_Bane_C2-14-08-02RZ',\n",
       " 'Ovary_CPTAC_Intact_BE_03_Run1_26Nov14_Bane_C2-14-08-02RZ',\n",
       " 'Ovary_CPTAC_Intact_BE_M_02_Run1_26Nov14_Bane_C2-14-08-02RZ',\n",
       " 'Ovary_CPTAC_Intact_BE_M_03_Run1_26Nov14_Bane_C2-14-08-02RZ',\n",
       " 'Ovary_CPTAC_Intact_BE_T_02_Run2_26Nov14_Bane_C2-14-08-02RZ',\n",
       " 'Ovary_CPTAC_Intact_BE_T_03_Run1_26Nov14_Bane_C2-14-08-02RZ',\n",
       " 'Ovary_CPTAC_Intact_BE100_PO4_1_11Feb15_Bane_C2Column5',\n",
       " 'Ovary_CPTAC_Intact_BE100_PO4_2_11Feb15_Bane_C2Column5',\n",
       " 'Ovary_CPTAC_OvC_01OV007_NM_19Nov15_Arwen_15-07-13',\n",
       " 'Ovary_CPTAC_OvC_01OV008_NM_19Nov15_Arwen_15-07-13',\n",
       " 'Ovary_CPTAC_OvC_01OV010_NM_19Nov15_Arwen_15-07-13',\n",
       " 'Ovary_CPTAC_OvC_01OV013_NM_19Nov15_Arwen_15-07-13',\n",
       " 'Ovary_CPTAC_OvC_01OV017_NM_19Nov15_Arwen_15-07-13',\n",
       " 'Ovary_CPTAC_OvC_17OV001_NM_19Nov15_Arwen_15-07-13',\n",
       " 'Ovary_CPTAC_OvC_17OV002_NM_19Nov15_Arwen_15-07-13',\n",
       " 'Ovary_CPTAC_OvC_17OV003_NM_19Nov15_Arwen_15-07-13',\n",
       " 'Ovary_CPTAC_OvC_17OV004_NM_19Nov15_Arwen_15-07-13',\n",
       " 'Ovary_CPTAC_OvC_17OV005_NM_19Nov15_Arwen_15-07-13',\n",
       " 'Pancreas_61928_PT_S1_6195_B_15Jan14_Frodo_13-12-03',\n",
       " 'Pancreas_61928_PT_S1_6196_A_rr_15Jan14_Frodo_13-12-03',\n",
       " 'Pancreas_61928_PT_S1_6211_A_15Jan14_Frodo_13-12-03',\n",
       " 'Pancreas_61928_PT_S1_6211_B_15Jan14_Frodo_13-12-03',\n",
       " 'Pancreas_61928_PT_S1_6212_A_15Jan14_Frodo_13-12-03',\n",
       " 'Pancreas_61928_PT_S3_6174_A_30Nov13_Samwise_13-07-28',\n",
       " 'Pancreas_61928_PT_S3_6195_A_30Nov13_Samwise_13-07-28',\n",
       " 'Pancreas_61928_PT_S3_6196_A_30Nov13_Samwise_13-07-28',\n",
       " 'Pancreas_61928_PT_S3_6211_A_30Nov13_Samwise_13-07-28',\n",
       " 'Pancreas_61928_PT_S3_6212_A_30Nov13_Samwise_13-07-28',\n",
       " 'Pancreas_62276_AC_1_5May14_Samwise_13-07-17',\n",
       " 'Pancreas_62276_AC_2_5May14_Samwise_13-07-17',\n",
       " 'Pancreas_62276_AC_3_5May14_Samwise_13-07-17',\n",
       " 'Pancreas_62276_PI_1_5May14_Samwise_13-07-17',\n",
       " 'Pancreas_62276_PI_2_5May14_Samwise_13-07-17',\n",
       " 'Pancreas_62276_PI_3_5May14_Samwise_13-07-17',\n",
       " 'Pancreas_Human_Pancreas_OCT_6227_17Apr15_Frodo_15-02-07',\n",
       " 'Pancreas_Human_Pancreas_OCT_6229_17Apr15_Frodo_15-02-07',\n",
       " 'Pancreas_Human_Pancreas_Vial_6227_17Apr15_Frodo_15-02-07',\n",
       " 'Pancreas_Human_Pancreas_Vial_6229_17Apr15_Frodo_15-02-07',\n",
       " 'Substantia_Nigra_Lewy_10Ct1_7Sep13_Pippin_13-06-18',\n",
       " 'Substantia_Nigra_Lewy_11Ct1_7Sep13_Pippin_13-06-18',\n",
       " 'Substantia_Nigra_Lewy_12Ct1_7Sep13_Pippin_13-06-18',\n",
       " 'Substantia_Nigra_Lewy_1Ct1_3Sep13_Pippin_13-06-18',\n",
       " 'Substantia_Nigra_Lewy_2Ct1_3Sep13_Pippin_13-06-18',\n",
       " 'Substantia_Nigra_Lewy_4Ct1_3Sep13_Pippin_13-06-18',\n",
       " 'Substantia_Nigra_Lewy_5Ct1_3Sep13_Pippin_13-06-18',\n",
       " 'Substantia_Nigra_Lewy_6Ct1_13Sep13_Pippin_13-06-18',\n",
       " 'Substantia_Nigra_Lewy_7Ct1_7Sep13_Pippin_13-06-18',\n",
       " 'Substantia_Nigra_Lewy_9Ct1_7Sep13_Pippin_13-06-18',\n",
       " 'Substantia_Nigra_Lewy2_10Ct1_2Nov13_Samwise_13-07-28',\n",
       " 'Substantia_Nigra_Lewy2_11Ct1_2Nov13_Samwise_13-07-28',\n",
       " 'Substantia_Nigra_Lewy2_12Ct1_2Nov13_Samwise_13-07-28',\n",
       " 'Substantia_Nigra_Lewy2_1Ct1_2Nov13_Samwise_13-07-28',\n",
       " 'Substantia_Nigra_Lewy2_2Ct1_2Nov13_Samwise_13-07-28',\n",
       " 'Substantia_Nigra_Lewy2_4Ct1_2Nov13_Samwise_13-07-28',\n",
       " 'Substantia_Nigra_Lewy2_5Ct1_2Nov13_Samwise_13-07-28',\n",
       " 'Substantia_Nigra_Lewy2_6Ct1_2Nov13_Samwise_13-07-28',\n",
       " 'Substantia_Nigra_Lewy2_7Ct1_2Nov13_Samwise_13-07-28',\n",
       " 'Substantia_Nigra_Lewy2_9Ct1_2Nov13_Samwise_13-07-28',\n",
       " 'Temporal_Lobe_Alz_FX2P57_IMAC_142_23May11_Hawk_11-04-02p',\n",
       " 'Temporal_Lobe_Alz_FX2P57_IMAC_147_20Apr11_Hawk_10-12-03p',\n",
       " 'Temporal_Lobe_Alz_FX2P57_IMAC_148_23May11_Hawk_11-04-02p',\n",
       " 'Temporal_Lobe_Alz_FX2P57_IMAC_150_23May11_Hawk_11-04-02p',\n",
       " 'Temporal_Lobe_Alz_FX2P57_IMAC_151_11May11_Hawk_11-04-02p',\n",
       " 'Temporal_Lobe_Alz_FX2P57_IMAC_151_7May11_Hawk_11-04-02p',\n",
       " 'Temporal_Lobe_Alz_FX2P57_IMAC_153_11May11_Hawk_11-04-02p',\n",
       " 'Temporal_Lobe_Alz_FX2P57_IMAC_154_23May11_Hawk_11-04-02p',\n",
       " 'Temporal_Lobe_Alz_FX2P57_IMAC_160_20Apr11_Hawk_10-12-03p',\n",
       " 'Temporal_Lobe_Alz_FX2P57_IMAC_161_9May11_Hawk_11-04-02p',\n",
       " 'Temporal_Lobe_Alz_FX2P57_IMAC_163_26Apr11_Hawk_10-12-03p',\n",
       " 'Temporal_Lobe_Alz_FX2P57_IMAC_171_11May11_Hawk_11-04-02p',\n",
       " 'Temporal_Lobe_Alz_FX2P57_IMAC_175_20Apr11_Hawk_10-12-03p',\n",
       " 'Temporal_Lobe_Alz_FX2P57_IMAC_179_23May11_Hawk_11-04-02p',\n",
       " 'Temporal_Lobe_Alz_FX2P57_IMAC_184_20Apr11_Hawk_10-12-03p',\n",
       " 'Temporal_Lobe_Alz_FX2P57_IMAC_187_7May11_Hawk_11-04-02p',\n",
       " 'Temporal_Lobe_Alz_FX2P57_IMAC_189_11May11_Hawk_11-04-02p',\n",
       " 'Temporal_Lobe_Alz_FX2P57_IMAC_190_11May11_Hawk_11-04-02p',\n",
       " 'Temporal_Lobe_Alz_FX2P57_IMAC_195_20Apr11_Hawk_10-12-03p',\n",
       " 'Temporal_Lobe_Alz_FX2P57_IMAC_200_22Apr11_Hawk_10-12-03p']"
      ]
     },
     "execution_count": 39,
     "metadata": {},
     "output_type": "execute_result"
    }
   ],
   "source": [
    "df.columns.values.tolist()"
   ]
  },
  {
   "cell_type": "markdown",
   "metadata": {},
   "source": [
    "### Optional step to transform data"
   ]
  },
  {
   "cell_type": "code",
   "execution_count": 40,
   "metadata": {
    "collapsed": true
   },
   "outputs": [],
   "source": [
    "### Function to wrap whatever additional transformation is done to the train set, so that it can later be applied to the test set\n",
    "def reduce_features(df):\n",
    "    df = cu.keep_percentile_features(df, labels, 100)\n",
    "    #df = cu.keep_k_best_features(df, labels, 500)\n",
    "    return df\n",
    "    "
   ]
  },
  {
   "cell_type": "code",
   "execution_count": 41,
   "metadata": {},
   "outputs": [
    {
     "name": "stdout",
     "output_type": "stream",
     "text": [
      "(139784, 169)\n"
     ]
    }
   ],
   "source": [
    "df = reduce_features(df)\n",
    "features_to_keep = df.index.values.tolist()\n",
    "\n",
    "print(df.shape)"
   ]
  },
  {
   "cell_type": "markdown",
   "metadata": {},
   "source": [
    "### For testing purposes: threshold data"
   ]
  },
  {
   "cell_type": "code",
   "execution_count": 30,
   "metadata": {
    "collapsed": true
   },
   "outputs": [],
   "source": [
    "import math\n",
    "\n",
    "df_t = df.T\n",
    "num_rows = df_t.shape[1]\n",
    "\n",
    "one_protein_df = df_t.drop(df_t.columns[list(range(num_rows-1))], axis=1)\n",
    "fifteen_protein_df = df_t.drop(df_t.columns[list(range(num_rows-15))], axis=1)\n",
    "sixteenthpercent_df = df_t.drop(df_t.columns[list(range(math.floor(num_rows*(1599/1600))))], axis=1)\n",
    "eighthpercent_df = df_t.drop(df_t.columns[list(range(math.floor(num_rows*(799/800))))], axis=1)\n",
    "quarterpercent_df = df_t.drop(df_t.columns[list(range(math.floor(num_rows*(399/400))))], axis=1)\n",
    "halfpercent_df = df_t.drop(df_t.columns[list(range(math.floor(num_rows*(199/200))))], axis=1)\n",
    "one_percent_df = df_t.drop(df_t.columns[list(range(math.floor(num_rows*(99/100))))], axis=1)\n",
    "twentieth_df = df_t.drop(df_t.columns[list(range(math.floor(num_rows*(95/100))))], axis=1)\n",
    "tenth_df = df_t.drop(df_t.columns[list(range(math.floor(num_rows*(9/10))))], axis=1)\n",
    "quarter_df = df_t.drop(df_t.columns[list(range(math.floor(num_rows*(3/4))))], axis=1)\n",
    "half_df = df_t.drop(df_t.columns[list(range(num_rows//2))], axis=1)\n",
    "three_quarters_df = df_t.drop(df_t.columns[list(range(num_rows//4))], axis=1)\n",
    "nine_tenths_df = df_t.drop(df_t.columns[list(range(num_rows//10))], axis=1)"
   ]
  },
  {
   "cell_type": "code",
   "execution_count": 31,
   "metadata": {},
   "outputs": [
    {
     "data": {
      "text/plain": [
       "(169, 1)"
      ]
     },
     "execution_count": 31,
     "metadata": {},
     "output_type": "execute_result"
    }
   ],
   "source": [
    "thresholded_df = one_protein_df\n",
    "thresholded_df.shape"
   ]
  },
  {
   "cell_type": "markdown",
   "metadata": {},
   "source": [
    "## Visualize data\n",
    "* Normalized boxplots\n",
    "* Scree plot\n",
    "* PCA plot\n",
    "* Pearson Matrix"
   ]
  },
  {
   "cell_type": "code",
   "execution_count": 465,
   "metadata": {
    "collapsed": true,
    "scrolled": true
   },
   "outputs": [],
   "source": [
    "image_dir = r'D:\\Images\\Human_Tissues\\\\'\n",
    "\n",
    "column_to_color = mq.map_colors(tissues, tissues_to_columns, 9)"
   ]
  },
  {
   "cell_type": "code",
   "execution_count": 33,
   "metadata": {
    "collapsed": true,
    "scrolled": true
   },
   "outputs": [],
   "source": [
    "mq.make_seaborn_boxplot(df, image_dir, 'Median_normalized_boxplots', column_to_color)"
   ]
  },
  {
   "cell_type": "code",
   "execution_count": 466,
   "metadata": {
    "scrolled": false
   },
   "outputs": [
    {
     "name": "stderr",
     "output_type": "stream",
     "text": [
      "C:\\Users\\kush494\\AppData\\Local\\Continuum\\anaconda3\\lib\\site-packages\\matplotlib\\figure.py:418: UserWarning: matplotlib is currently using a non-GUI backend, so cannot show the figure\n",
      "  \"matplotlib is currently using a non-GUI backend, \"\n"
     ]
    }
   ],
   "source": [
    "#scaled_data = preprocessing.scale(df.T)\n",
    "scaled_data = df.T\n",
    "\n",
    "pca = PCA() # create a PCA object\n",
    "pca.fit(scaled_data) # do the math\n",
    "pca_data = pca.transform(scaled_data) # get PCA coordinates for dataframe\n",
    "\n",
    "pca_3 = PCA(n_components=3) \n",
    "pca_3.fit(scaled_data)\n",
    "pca_data_3 = pca_3.transform(scaled_data)\n",
    "\n",
    "per_var, pca_labels = mq.make_scree_plot(pca, image_dir, 'Scree Plot - 25 Percentile')\n",
    "per_var_3, pca_labels_3 = mq.make_scree_plot(pca_3, image_dir, '3 Dimensional Scree - 25 Percentile')\n",
    "\n",
    "mq.draw_pca_graph2(column_names, pca_data, image_dir, column_to_color, per_var, pca_labels, tissues, tissues_to_columns, 'PCA - 25 Percentile')\n",
    "#mq.draw_pca_graph(column_names, pca_data, image_dir, column_to_color, per_var, pca_labels, 'PCA_RobustScaler_Annotated')\n",
    "mq.draw_3d_pca(column_names, pca_data_3, image_dir, column_to_color, per_var_3, pca_labels_3, tissues, tissues_to_columns, '3D PCA - 25 Percentile')"
   ]
  },
  {
   "cell_type": "code",
   "execution_count": null,
   "metadata": {
    "collapsed": true
   },
   "outputs": [],
   "source": [
    "mq.make_pearson_matrix(df, image_dir)"
   ]
  },
  {
   "cell_type": "markdown",
   "metadata": {},
   "source": [
    "## Test various classifiers using cross-validation"
   ]
  },
  {
   "cell_type": "code",
   "execution_count": 42,
   "metadata": {
    "collapsed": true
   },
   "outputs": [],
   "source": [
    "NUM_SPLITS = 100\n",
    "transformed_df = df.T\n",
    "#transformed_df = thresholded_df"
   ]
  },
  {
   "cell_type": "markdown",
   "metadata": {},
   "source": [
    "### Decision Tree"
   ]
  },
  {
   "cell_type": "code",
   "execution_count": 39,
   "metadata": {
    "scrolled": true
   },
   "outputs": [
    {
     "name": "stdout",
     "output_type": "stream",
     "text": [
      "accuracy: 0.89 (+/- 0.12)\n"
     ]
    }
   ],
   "source": [
    "dt = cu.decisiontree_model_crossval(transformed_df, labels, NUM_SPLITS)"
   ]
  },
  {
   "cell_type": "markdown",
   "metadata": {},
   "source": [
    "### KNN"
   ]
  },
  {
   "cell_type": "code",
   "execution_count": 43,
   "metadata": {},
   "outputs": [
    {
     "name": "stdout",
     "output_type": "stream",
     "text": [
      "accuracy: 0.83 (+/- 0.09)\n"
     ]
    }
   ],
   "source": [
    "knn = cu.knn_model_crossval(transformed_df, labels, NUM_SPLITS)"
   ]
  },
  {
   "cell_type": "markdown",
   "metadata": {},
   "source": [
    "### Logistic Regression"
   ]
  },
  {
   "cell_type": "code",
   "execution_count": 44,
   "metadata": {
    "scrolled": true
   },
   "outputs": [
    {
     "name": "stdout",
     "output_type": "stream",
     "text": [
      "accuracy: 0.99 (+/- 0.03)\n"
     ]
    }
   ],
   "source": [
    "lr = cu.logistic_regression_model_crossval(transformed_df, labels, NUM_SPLITS)"
   ]
  },
  {
   "cell_type": "markdown",
   "metadata": {},
   "source": [
    "### Naive Bayes\n",
    "* Gaussian\n",
    "* Multinomial"
   ]
  },
  {
   "cell_type": "code",
   "execution_count": 45,
   "metadata": {
    "scrolled": true
   },
   "outputs": [
    {
     "name": "stdout",
     "output_type": "stream",
     "text": [
      "accuracy: 0.95 (+/- 0.04)\n"
     ]
    }
   ],
   "source": [
    "gnb = cu.bayes_gaussian_model_crossval(transformed_df, labels, NUM_SPLITS)"
   ]
  },
  {
   "cell_type": "code",
   "execution_count": null,
   "metadata": {
    "scrolled": false
   },
   "outputs": [
    {
     "name": "stdout",
     "output_type": "stream",
     "text": [
      "accuracy: 0.89 (+/- 0.06)\n"
     ]
    }
   ],
   "source": [
    "mnb = cu.bayes_multinomial_model_crossval(transformed_df, labels, NUM_SPLITS)"
   ]
  },
  {
   "cell_type": "markdown",
   "metadata": {},
   "source": [
    "### SVC variations"
   ]
  },
  {
   "cell_type": "code",
   "execution_count": null,
   "metadata": {
    "scrolled": true
   },
   "outputs": [
    {
     "name": "stdout",
     "output_type": "stream",
     "text": [
      "accuracy: 0.97 (+/- 0.05)\n"
     ]
    }
   ],
   "source": [
    "svc_models = cu.SVC_models_crossval(transformed_df, labels, NUM_SPLITS)"
   ]
  },
  {
   "cell_type": "markdown",
   "metadata": {},
   "source": [
    "### Aggregations\n",
    "* Random Forest\n",
    "* Gradient Boosting"
   ]
  },
  {
   "cell_type": "code",
   "execution_count": null,
   "metadata": {},
   "outputs": [],
   "source": [
    "rf = cu.randomforest_model_crossval(transformed_df, labels, NUM_SPLITS)"
   ]
  },
  {
   "cell_type": "code",
   "execution_count": null,
   "metadata": {},
   "outputs": [],
   "source": [
    "gbc = cu.gradient_boosting_crossval(transformed_df, labels, NUM_SPLITS)"
   ]
  },
  {
   "cell_type": "markdown",
   "metadata": {},
   "source": [
    "## Tune parameters of best models \n",
    "* Check accuracy score"
   ]
  },
  {
   "cell_type": "code",
   "execution_count": 45,
   "metadata": {
    "collapsed": true
   },
   "outputs": [],
   "source": [
    "start_time = time.time()"
   ]
  },
  {
   "cell_type": "markdown",
   "metadata": {},
   "source": [
    "### Gradient Boosting grid search"
   ]
  },
  {
   "cell_type": "code",
   "execution_count": 46,
   "metadata": {},
   "outputs": [
    {
     "name": "stdout",
     "output_type": "stream",
     "text": [
      "Best Gradient Boosting parameters:\n",
      " {'classify__max_depth': 5, 'classify__min_samples_split': 10, 'classify__n_estimators': 25, 'reduce_dim': SelectPercentile(percentile=25,\n",
      "         score_func=<function f_classif at 0x000000000C3790D0>), 'reduce_dim__percentile': 25}\n",
      "\n",
      "Best Cross-Validation score:\n",
      " 0.988764044944\n",
      "--- 375.56249210834505 minutes ---\n"
     ]
    }
   ],
   "source": [
    "gbc_grid = cu.gbc_grid_search(NUM_FOLDS, 2)\n",
    "\n",
    "gbc_grid.fit(transformed_df, labels)\n",
    "\n",
    "print('Best Gradient Boosting parameters:\\n', gbc_grid.best_params_)\n",
    "print('\\nBest Cross-Validation score:\\n', gbc_grid.best_score_)\n",
    "\n",
    "print(\"--- %s minutes ---\" % ((time.time() - start_time)/60))"
   ]
  },
  {
   "cell_type": "markdown",
   "metadata": {},
   "source": [
    "### Random Forest grid search"
   ]
  },
  {
   "cell_type": "code",
   "execution_count": 47,
   "metadata": {},
   "outputs": [
    {
     "name": "stdout",
     "output_type": "stream",
     "text": [
      "Best Random Forest parameters:\n",
      " {'classify__max_features': 'log2', 'classify__min_samples_split': 10, 'classify__n_estimators': 25, 'reduce_dim': SelectPercentile(percentile=25,\n",
      "         score_func=<function f_classif at 0x000000000C3790D0>), 'reduce_dim__percentile': 25}\n",
      "\n",
      "Best Cross-Validation score:\n",
      " 1.0\n",
      "--- 388.9477921128273 minutes ---\n"
     ]
    }
   ],
   "source": [
    "rf_grid = cu.rf_grid_search(NUM_FOLDS, 2)\n",
    "\n",
    "rf_grid.fit(transformed_df, labels)\n",
    "\n",
    "print('Best Random Forest parameters:\\n', rf_grid.best_params_)\n",
    "print('\\nBest Cross-Validation score:\\n', rf_grid.best_score_)\n",
    "\n",
    "print(\"--- %s minutes ---\" % ((time.time() - start_time)/60))"
   ]
  },
  {
   "cell_type": "markdown",
   "metadata": {},
   "source": [
    "### SVC grid search"
   ]
  },
  {
   "cell_type": "code",
   "execution_count": 48,
   "metadata": {},
   "outputs": [
    {
     "name": "stdout",
     "output_type": "stream",
     "text": [
      "Best SVC parameters:\n",
      " {'classify__C': 0.01, 'classify__kernel': 'linear', 'reduce_dim': SelectPercentile(percentile=100,\n",
      "         score_func=<function f_classif at 0x000000000C3790D0>), 'reduce_dim__percentile': 100}\n",
      "\n",
      "Best Cross-Validation score:\n",
      " 0.988764044944\n",
      "--- 391.3602854450544 minutes ---\n"
     ]
    }
   ],
   "source": [
    "svc_grid = cu.svc_grid_search(NUM_FOLDS, 2)\n",
    "\n",
    "svc_grid.fit(transformed_df, labels)\n",
    "\n",
    "print('Best SVC parameters:\\n', svc_grid.best_params_)\n",
    "print('\\nBest Cross-Validation score:\\n', svc_grid.best_score_)\n",
    "\n",
    "print(\"--- %s minutes ---\" % ((time.time() - start_time)/60))"
   ]
  },
  {
   "cell_type": "markdown",
   "metadata": {},
   "source": [
    "## Top expressed peptides per tissue"
   ]
  },
  {
   "cell_type": "code",
   "execution_count": null,
   "metadata": {
    "collapsed": true,
    "scrolled": true
   },
   "outputs": [],
   "source": [
    "cu.print_top_n_features(df, rf, 10)\n",
    "cu.print_top_n_features_coef(df, lr, 10, tissues)"
   ]
  },
  {
   "cell_type": "markdown",
   "metadata": {},
   "source": [
    "## Save model, test new data\n",
    "* Save array/dataframe of features (via joblib) along with final model\n",
    "* Write script to classify new data-- load features and fit new data on them"
   ]
  },
  {
   "cell_type": "markdown",
   "metadata": {},
   "source": [
    "### Serialize models, training data, and training features"
   ]
  },
  {
   "cell_type": "code",
   "execution_count": null,
   "metadata": {},
   "outputs": [],
   "source": [
    "finalized_model_folder = r'Trained_Models\\\\'\n",
    "model_path = finalized_model_folder + 'gbc_highqual_crossval_NoReduction.sav'\n",
    "joblib.dump(gbc, open(model_path, 'wb'))"
   ]
  },
  {
   "cell_type": "code",
   "execution_count": 17,
   "metadata": {},
   "outputs": [],
   "source": [
    "train_data_path = finalized_model_folder + 'train_data'\n",
    "joblib.dump(original_df, open(train_data_path, 'wb'))"
   ]
  },
  {
   "cell_type": "code",
   "execution_count": 18,
   "metadata": {},
   "outputs": [],
   "source": [
    "train_features_path = finalized_model_folder + 'train_features'\n",
    "joblib.dump(features_to_keep, open(train_features_path, 'wb'))"
   ]
  },
  {
   "cell_type": "markdown",
   "metadata": {},
   "source": [
    "### Load new data (test set)"
   ]
  },
  {
   "cell_type": "code",
   "execution_count": 17,
   "metadata": {
    "scrolled": true
   },
   "outputs": [
    {
     "name": "stderr",
     "output_type": "stream",
     "text": [
      "C:\\Users\\kush494\\Documents\\Proteomics_Data_Processing\\Classifiers\\Classification_Utils.py:523: RuntimeWarning: divide by zero encountered in log2\n",
      "  fitted_data.iloc[:,:] = np.log2(fitted_data.iloc[:,:])\n"
     ]
    }
   ],
   "source": [
    "test_paths = listdir(TEST_SET_DIR) \n",
    "\n",
    "test_data = cu.combine_csvs(TEST_SET_DIR, test_paths)\n",
    "\n",
    "### Generate test_labels. Columns in test set must start with [Tissue Name]\n",
    "test_labels = []\n",
    "for col in test_data.columns.values.tolist():\n",
    "    for tissue in tissues:\n",
    "        if col.startswith(tissue):\n",
    "            test_labels.append(tissue)\n",
    "            continue\n",
    "\n",
    "test_data.columns.values.tolist()\n",
    "test_data = cu.fit_new_data(original_df, test_data, features_to_keep)\n",
    "\n",
    "#loaded_train_data = joblib.load(open(train_data_path, 'rb'))\n",
    "#test_data = cu.fit_new_data(loaded_train_data, test_data)"
   ]
  },
  {
   "cell_type": "code",
   "execution_count": 445,
   "metadata": {},
   "outputs": [
    {
     "name": "stdout",
     "output_type": "stream",
     "text": [
      "Monocyte_DARPA_Mono_SP8636B5_695_13Nov17_Oak_Jup-17-11-01    10029\n",
      "Monocyte_DARPA_Mono_SPB7ACE2_495_8Nov17_Oak_Jup-17-11-01     12994\n",
      "Monocyte_DARPA_Mono_SPC17184_489_10Nov17_Oak_Jup-17-11-01    12688\n",
      "Monocyte_DARPA_Mono_SPEE2FD2_549_13Nov17_Oak_Jup-17-11-01    12706\n",
      "Monocyte_DARPA_Mono_SPF3201B_689_20Nov17_Oak_Jup-17-11-01    10898\n",
      "dtype: int64\n"
     ]
    },
    {
     "data": {
      "text/plain": [
       "11863.0"
      ]
     },
     "execution_count": 445,
     "metadata": {},
     "output_type": "execute_result"
    }
   ],
   "source": [
    "### Get count of peptides per sample\n",
    "df1 = test_data.iloc[:, 40:45]\n",
    "print(df1.count())\n",
    "df1.count().mean()"
   ]
  },
  {
   "cell_type": "code",
   "execution_count": 9,
   "metadata": {},
   "outputs": [
    {
     "data": {
      "text/html": [
       "<div>\n",
       "<style>\n",
       "    .dataframe thead tr:only-child th {\n",
       "        text-align: right;\n",
       "    }\n",
       "\n",
       "    .dataframe thead th {\n",
       "        text-align: left;\n",
       "    }\n",
       "\n",
       "    .dataframe tbody tr th {\n",
       "        vertical-align: top;\n",
       "    }\n",
       "</style>\n",
       "<table border=\"1\" class=\"dataframe\">\n",
       "  <thead>\n",
       "    <tr style=\"text-align: right;\">\n",
       "      <th>Peptide</th>\n",
       "      <th>-.DIQM*TQSPSTLSASVGDR.V</th>\n",
       "      <th>-.DIQM*TQSPSTLSASVGDRVTITCR.A</th>\n",
       "      <th>-.DIQMTQSPS.T</th>\n",
       "      <th>-.DIQMTQSPSTLSASVGDR.V</th>\n",
       "      <th>-.DIQMTQSPSTLSASVGDRVTITCR.A</th>\n",
       "      <th>-.EVQLVETGGGLIQPGGSLR.L</th>\n",
       "      <th>-.KVHGSLAR.A</th>\n",
       "      <th>-.LGEHNIDVLEGNEQFINAAR.I</th>\n",
       "      <th>-.LGEHNIDVLEGNEQFINAARI.I</th>\n",
       "      <th>-.LGEHNIDVLEGNEQFINAARII.T</th>\n",
       "      <th>...</th>\n",
       "      <th>Y.YTSVTPVLR.G</th>\n",
       "      <th>Y.YTTIQDLR.D</th>\n",
       "      <th>Y.YVAPEVLGPEKYDK.S</th>\n",
       "      <th>Y.YVSNEELR.G</th>\n",
       "      <th>Y.YVTIIDAPGHR.D</th>\n",
       "      <th>Y.YVYNIIGGLDEEGK.G</th>\n",
       "      <th>Y.YWGGQYTWDM*AK.H</th>\n",
       "      <th>Y.YWGGQYTWDMAK.H</th>\n",
       "      <th>Y.YYIQQDTK.G</th>\n",
       "      <th>Y.YYIQQDTKGDYQK.A</th>\n",
       "    </tr>\n",
       "  </thead>\n",
       "  <tbody>\n",
       "    <tr>\n",
       "      <th>Blood_Plasma_OpPlasma_029_a_13Aug11_Jaguar_11-07-18</th>\n",
       "      <td>3.022208</td>\n",
       "      <td>3.022208</td>\n",
       "      <td>3.022208</td>\n",
       "      <td>3.022208</td>\n",
       "      <td>3.022208</td>\n",
       "      <td>3.022208</td>\n",
       "      <td>3.022208</td>\n",
       "      <td>3.022208</td>\n",
       "      <td>3.022208</td>\n",
       "      <td>3.022208</td>\n",
       "      <td>...</td>\n",
       "      <td>3.022208</td>\n",
       "      <td>3.022208</td>\n",
       "      <td>3.022208</td>\n",
       "      <td>3.022208</td>\n",
       "      <td>3.022208</td>\n",
       "      <td>3.022208</td>\n",
       "      <td>3.022208</td>\n",
       "      <td>3.022208</td>\n",
       "      <td>3.022208</td>\n",
       "      <td>3.022208</td>\n",
       "    </tr>\n",
       "    <tr>\n",
       "      <th>Blood_Plasma_OpPlasma_034_a_13Aug11_Jaguar_11-07-18</th>\n",
       "      <td>3.022208</td>\n",
       "      <td>3.022208</td>\n",
       "      <td>3.022208</td>\n",
       "      <td>3.022208</td>\n",
       "      <td>3.022208</td>\n",
       "      <td>3.022208</td>\n",
       "      <td>3.022208</td>\n",
       "      <td>3.022208</td>\n",
       "      <td>3.022208</td>\n",
       "      <td>3.022208</td>\n",
       "      <td>...</td>\n",
       "      <td>3.022208</td>\n",
       "      <td>3.022208</td>\n",
       "      <td>3.022208</td>\n",
       "      <td>3.022208</td>\n",
       "      <td>3.022208</td>\n",
       "      <td>3.022208</td>\n",
       "      <td>3.022208</td>\n",
       "      <td>3.022208</td>\n",
       "      <td>3.022208</td>\n",
       "      <td>3.022208</td>\n",
       "    </tr>\n",
       "    <tr>\n",
       "      <th>Blood_Plasma_OpPlasma_038_a_13Aug11_Jaguar_11-07-16</th>\n",
       "      <td>3.022208</td>\n",
       "      <td>3.022208</td>\n",
       "      <td>3.022208</td>\n",
       "      <td>3.022208</td>\n",
       "      <td>3.022208</td>\n",
       "      <td>3.022208</td>\n",
       "      <td>3.022208</td>\n",
       "      <td>3.022208</td>\n",
       "      <td>3.022208</td>\n",
       "      <td>3.022208</td>\n",
       "      <td>...</td>\n",
       "      <td>3.022208</td>\n",
       "      <td>3.022208</td>\n",
       "      <td>3.022208</td>\n",
       "      <td>3.022208</td>\n",
       "      <td>3.022208</td>\n",
       "      <td>3.022208</td>\n",
       "      <td>3.022208</td>\n",
       "      <td>3.022208</td>\n",
       "      <td>3.022208</td>\n",
       "      <td>3.022208</td>\n",
       "    </tr>\n",
       "    <tr>\n",
       "      <th>Blood_Plasma_OpPlasma_039_a_13Aug11_Jaguar_11-07-16</th>\n",
       "      <td>3.022208</td>\n",
       "      <td>3.022208</td>\n",
       "      <td>3.022208</td>\n",
       "      <td>3.022208</td>\n",
       "      <td>3.022208</td>\n",
       "      <td>3.022208</td>\n",
       "      <td>3.022208</td>\n",
       "      <td>3.022208</td>\n",
       "      <td>3.022208</td>\n",
       "      <td>3.022208</td>\n",
       "      <td>...</td>\n",
       "      <td>3.022208</td>\n",
       "      <td>3.022208</td>\n",
       "      <td>3.022208</td>\n",
       "      <td>3.022208</td>\n",
       "      <td>3.022208</td>\n",
       "      <td>3.022208</td>\n",
       "      <td>3.022208</td>\n",
       "      <td>3.022208</td>\n",
       "      <td>3.022208</td>\n",
       "      <td>3.022208</td>\n",
       "    </tr>\n",
       "    <tr>\n",
       "      <th>Blood_Plasma_OpPlasma_045_a_27Jul11_Jaguar_11-05-05</th>\n",
       "      <td>3.022208</td>\n",
       "      <td>3.022208</td>\n",
       "      <td>3.022208</td>\n",
       "      <td>3.022208</td>\n",
       "      <td>3.022208</td>\n",
       "      <td>3.022208</td>\n",
       "      <td>3.022208</td>\n",
       "      <td>28.611752</td>\n",
       "      <td>3.022208</td>\n",
       "      <td>3.022208</td>\n",
       "      <td>...</td>\n",
       "      <td>3.022208</td>\n",
       "      <td>3.022208</td>\n",
       "      <td>3.022208</td>\n",
       "      <td>3.022208</td>\n",
       "      <td>3.022208</td>\n",
       "      <td>3.022208</td>\n",
       "      <td>3.022208</td>\n",
       "      <td>3.022208</td>\n",
       "      <td>3.022208</td>\n",
       "      <td>3.022208</td>\n",
       "    </tr>\n",
       "  </tbody>\n",
       "</table>\n",
       "<p>5 rows × 119916 columns</p>\n",
       "</div>"
      ],
      "text/plain": [
       "Peptide                                             \\n-.DIQM*TQSPSTLSASVGDR.V  \\\n",
       "Blood_Plasma_OpPlasma_029_a_13Aug11_Jaguar_11-0...                   3.022208   \n",
       "Blood_Plasma_OpPlasma_034_a_13Aug11_Jaguar_11-0...                   3.022208   \n",
       "Blood_Plasma_OpPlasma_038_a_13Aug11_Jaguar_11-0...                   3.022208   \n",
       "Blood_Plasma_OpPlasma_039_a_13Aug11_Jaguar_11-0...                   3.022208   \n",
       "Blood_Plasma_OpPlasma_045_a_27Jul11_Jaguar_11-0...                   3.022208   \n",
       "\n",
       "Peptide                                             \\n-.DIQM*TQSPSTLSASVGDRVTITCR.A  \\\n",
       "Blood_Plasma_OpPlasma_029_a_13Aug11_Jaguar_11-0...                         3.022208   \n",
       "Blood_Plasma_OpPlasma_034_a_13Aug11_Jaguar_11-0...                         3.022208   \n",
       "Blood_Plasma_OpPlasma_038_a_13Aug11_Jaguar_11-0...                         3.022208   \n",
       "Blood_Plasma_OpPlasma_039_a_13Aug11_Jaguar_11-0...                         3.022208   \n",
       "Blood_Plasma_OpPlasma_045_a_27Jul11_Jaguar_11-0...                         3.022208   \n",
       "\n",
       "Peptide                                             \\n-.DIQMTQSPS.T  \\\n",
       "Blood_Plasma_OpPlasma_029_a_13Aug11_Jaguar_11-0...         3.022208   \n",
       "Blood_Plasma_OpPlasma_034_a_13Aug11_Jaguar_11-0...         3.022208   \n",
       "Blood_Plasma_OpPlasma_038_a_13Aug11_Jaguar_11-0...         3.022208   \n",
       "Blood_Plasma_OpPlasma_039_a_13Aug11_Jaguar_11-0...         3.022208   \n",
       "Blood_Plasma_OpPlasma_045_a_27Jul11_Jaguar_11-0...         3.022208   \n",
       "\n",
       "Peptide                                             \\n-.DIQMTQSPSTLSASVGDR.V  \\\n",
       "Blood_Plasma_OpPlasma_029_a_13Aug11_Jaguar_11-0...                  3.022208   \n",
       "Blood_Plasma_OpPlasma_034_a_13Aug11_Jaguar_11-0...                  3.022208   \n",
       "Blood_Plasma_OpPlasma_038_a_13Aug11_Jaguar_11-0...                  3.022208   \n",
       "Blood_Plasma_OpPlasma_039_a_13Aug11_Jaguar_11-0...                  3.022208   \n",
       "Blood_Plasma_OpPlasma_045_a_27Jul11_Jaguar_11-0...                  3.022208   \n",
       "\n",
       "Peptide                                             \\n-.DIQMTQSPSTLSASVGDRVTITCR.A  \\\n",
       "Blood_Plasma_OpPlasma_029_a_13Aug11_Jaguar_11-0...                        3.022208   \n",
       "Blood_Plasma_OpPlasma_034_a_13Aug11_Jaguar_11-0...                        3.022208   \n",
       "Blood_Plasma_OpPlasma_038_a_13Aug11_Jaguar_11-0...                        3.022208   \n",
       "Blood_Plasma_OpPlasma_039_a_13Aug11_Jaguar_11-0...                        3.022208   \n",
       "Blood_Plasma_OpPlasma_045_a_27Jul11_Jaguar_11-0...                        3.022208   \n",
       "\n",
       "Peptide                                             \\n-.EVQLVETGGGLIQPGGSLR.L  \\\n",
       "Blood_Plasma_OpPlasma_029_a_13Aug11_Jaguar_11-0...                   3.022208   \n",
       "Blood_Plasma_OpPlasma_034_a_13Aug11_Jaguar_11-0...                   3.022208   \n",
       "Blood_Plasma_OpPlasma_038_a_13Aug11_Jaguar_11-0...                   3.022208   \n",
       "Blood_Plasma_OpPlasma_039_a_13Aug11_Jaguar_11-0...                   3.022208   \n",
       "Blood_Plasma_OpPlasma_045_a_27Jul11_Jaguar_11-0...                   3.022208   \n",
       "\n",
       "Peptide                                             \\n-.KVHGSLAR.A  \\\n",
       "Blood_Plasma_OpPlasma_029_a_13Aug11_Jaguar_11-0...        3.022208   \n",
       "Blood_Plasma_OpPlasma_034_a_13Aug11_Jaguar_11-0...        3.022208   \n",
       "Blood_Plasma_OpPlasma_038_a_13Aug11_Jaguar_11-0...        3.022208   \n",
       "Blood_Plasma_OpPlasma_039_a_13Aug11_Jaguar_11-0...        3.022208   \n",
       "Blood_Plasma_OpPlasma_045_a_27Jul11_Jaguar_11-0...        3.022208   \n",
       "\n",
       "Peptide                                             \\n-.LGEHNIDVLEGNEQFINAAR.I  \\\n",
       "Blood_Plasma_OpPlasma_029_a_13Aug11_Jaguar_11-0...                    3.022208   \n",
       "Blood_Plasma_OpPlasma_034_a_13Aug11_Jaguar_11-0...                    3.022208   \n",
       "Blood_Plasma_OpPlasma_038_a_13Aug11_Jaguar_11-0...                    3.022208   \n",
       "Blood_Plasma_OpPlasma_039_a_13Aug11_Jaguar_11-0...                    3.022208   \n",
       "Blood_Plasma_OpPlasma_045_a_27Jul11_Jaguar_11-0...                   28.611752   \n",
       "\n",
       "Peptide                                             \\n-.LGEHNIDVLEGNEQFINAARI.I  \\\n",
       "Blood_Plasma_OpPlasma_029_a_13Aug11_Jaguar_11-0...                     3.022208   \n",
       "Blood_Plasma_OpPlasma_034_a_13Aug11_Jaguar_11-0...                     3.022208   \n",
       "Blood_Plasma_OpPlasma_038_a_13Aug11_Jaguar_11-0...                     3.022208   \n",
       "Blood_Plasma_OpPlasma_039_a_13Aug11_Jaguar_11-0...                     3.022208   \n",
       "Blood_Plasma_OpPlasma_045_a_27Jul11_Jaguar_11-0...                     3.022208   \n",
       "\n",
       "Peptide                                             \\n-.LGEHNIDVLEGNEQFINAARII.T  \\\n",
       "Blood_Plasma_OpPlasma_029_a_13Aug11_Jaguar_11-0...                      3.022208   \n",
       "Blood_Plasma_OpPlasma_034_a_13Aug11_Jaguar_11-0...                      3.022208   \n",
       "Blood_Plasma_OpPlasma_038_a_13Aug11_Jaguar_11-0...                      3.022208   \n",
       "Blood_Plasma_OpPlasma_039_a_13Aug11_Jaguar_11-0...                      3.022208   \n",
       "Blood_Plasma_OpPlasma_045_a_27Jul11_Jaguar_11-0...                      3.022208   \n",
       "\n",
       "Peptide                                                    ...           \\\n",
       "Blood_Plasma_OpPlasma_029_a_13Aug11_Jaguar_11-0...         ...            \n",
       "Blood_Plasma_OpPlasma_034_a_13Aug11_Jaguar_11-0...         ...            \n",
       "Blood_Plasma_OpPlasma_038_a_13Aug11_Jaguar_11-0...         ...            \n",
       "Blood_Plasma_OpPlasma_039_a_13Aug11_Jaguar_11-0...         ...            \n",
       "Blood_Plasma_OpPlasma_045_a_27Jul11_Jaguar_11-0...         ...            \n",
       "\n",
       "Peptide                                             \\nY.YTSVTPVLR.G  \\\n",
       "Blood_Plasma_OpPlasma_029_a_13Aug11_Jaguar_11-0...         3.022208   \n",
       "Blood_Plasma_OpPlasma_034_a_13Aug11_Jaguar_11-0...         3.022208   \n",
       "Blood_Plasma_OpPlasma_038_a_13Aug11_Jaguar_11-0...         3.022208   \n",
       "Blood_Plasma_OpPlasma_039_a_13Aug11_Jaguar_11-0...         3.022208   \n",
       "Blood_Plasma_OpPlasma_045_a_27Jul11_Jaguar_11-0...         3.022208   \n",
       "\n",
       "Peptide                                             \\nY.YTTIQDLR.D  \\\n",
       "Blood_Plasma_OpPlasma_029_a_13Aug11_Jaguar_11-0...        3.022208   \n",
       "Blood_Plasma_OpPlasma_034_a_13Aug11_Jaguar_11-0...        3.022208   \n",
       "Blood_Plasma_OpPlasma_038_a_13Aug11_Jaguar_11-0...        3.022208   \n",
       "Blood_Plasma_OpPlasma_039_a_13Aug11_Jaguar_11-0...        3.022208   \n",
       "Blood_Plasma_OpPlasma_045_a_27Jul11_Jaguar_11-0...        3.022208   \n",
       "\n",
       "Peptide                                             \\nY.YVAPEVLGPEKYDK.S  \\\n",
       "Blood_Plasma_OpPlasma_029_a_13Aug11_Jaguar_11-0...              3.022208   \n",
       "Blood_Plasma_OpPlasma_034_a_13Aug11_Jaguar_11-0...              3.022208   \n",
       "Blood_Plasma_OpPlasma_038_a_13Aug11_Jaguar_11-0...              3.022208   \n",
       "Blood_Plasma_OpPlasma_039_a_13Aug11_Jaguar_11-0...              3.022208   \n",
       "Blood_Plasma_OpPlasma_045_a_27Jul11_Jaguar_11-0...              3.022208   \n",
       "\n",
       "Peptide                                             \\nY.YVSNEELR.G  \\\n",
       "Blood_Plasma_OpPlasma_029_a_13Aug11_Jaguar_11-0...        3.022208   \n",
       "Blood_Plasma_OpPlasma_034_a_13Aug11_Jaguar_11-0...        3.022208   \n",
       "Blood_Plasma_OpPlasma_038_a_13Aug11_Jaguar_11-0...        3.022208   \n",
       "Blood_Plasma_OpPlasma_039_a_13Aug11_Jaguar_11-0...        3.022208   \n",
       "Blood_Plasma_OpPlasma_045_a_27Jul11_Jaguar_11-0...        3.022208   \n",
       "\n",
       "Peptide                                             \\nY.YVTIIDAPGHR.D  \\\n",
       "Blood_Plasma_OpPlasma_029_a_13Aug11_Jaguar_11-0...           3.022208   \n",
       "Blood_Plasma_OpPlasma_034_a_13Aug11_Jaguar_11-0...           3.022208   \n",
       "Blood_Plasma_OpPlasma_038_a_13Aug11_Jaguar_11-0...           3.022208   \n",
       "Blood_Plasma_OpPlasma_039_a_13Aug11_Jaguar_11-0...           3.022208   \n",
       "Blood_Plasma_OpPlasma_045_a_27Jul11_Jaguar_11-0...           3.022208   \n",
       "\n",
       "Peptide                                             \\nY.YVYNIIGGLDEEGK.G  \\\n",
       "Blood_Plasma_OpPlasma_029_a_13Aug11_Jaguar_11-0...              3.022208   \n",
       "Blood_Plasma_OpPlasma_034_a_13Aug11_Jaguar_11-0...              3.022208   \n",
       "Blood_Plasma_OpPlasma_038_a_13Aug11_Jaguar_11-0...              3.022208   \n",
       "Blood_Plasma_OpPlasma_039_a_13Aug11_Jaguar_11-0...              3.022208   \n",
       "Blood_Plasma_OpPlasma_045_a_27Jul11_Jaguar_11-0...              3.022208   \n",
       "\n",
       "Peptide                                             \\nY.YWGGQYTWDM*AK.H  \\\n",
       "Blood_Plasma_OpPlasma_029_a_13Aug11_Jaguar_11-0...             3.022208   \n",
       "Blood_Plasma_OpPlasma_034_a_13Aug11_Jaguar_11-0...             3.022208   \n",
       "Blood_Plasma_OpPlasma_038_a_13Aug11_Jaguar_11-0...             3.022208   \n",
       "Blood_Plasma_OpPlasma_039_a_13Aug11_Jaguar_11-0...             3.022208   \n",
       "Blood_Plasma_OpPlasma_045_a_27Jul11_Jaguar_11-0...             3.022208   \n",
       "\n",
       "Peptide                                             \\nY.YWGGQYTWDMAK.H  \\\n",
       "Blood_Plasma_OpPlasma_029_a_13Aug11_Jaguar_11-0...            3.022208   \n",
       "Blood_Plasma_OpPlasma_034_a_13Aug11_Jaguar_11-0...            3.022208   \n",
       "Blood_Plasma_OpPlasma_038_a_13Aug11_Jaguar_11-0...            3.022208   \n",
       "Blood_Plasma_OpPlasma_039_a_13Aug11_Jaguar_11-0...            3.022208   \n",
       "Blood_Plasma_OpPlasma_045_a_27Jul11_Jaguar_11-0...            3.022208   \n",
       "\n",
       "Peptide                                             \\nY.YYIQQDTK.G  \\\n",
       "Blood_Plasma_OpPlasma_029_a_13Aug11_Jaguar_11-0...        3.022208   \n",
       "Blood_Plasma_OpPlasma_034_a_13Aug11_Jaguar_11-0...        3.022208   \n",
       "Blood_Plasma_OpPlasma_038_a_13Aug11_Jaguar_11-0...        3.022208   \n",
       "Blood_Plasma_OpPlasma_039_a_13Aug11_Jaguar_11-0...        3.022208   \n",
       "Blood_Plasma_OpPlasma_045_a_27Jul11_Jaguar_11-0...        3.022208   \n",
       "\n",
       "Peptide                                             \\nY.YYIQQDTKGDYQK.A  \n",
       "Blood_Plasma_OpPlasma_029_a_13Aug11_Jaguar_11-0...             3.022208  \n",
       "Blood_Plasma_OpPlasma_034_a_13Aug11_Jaguar_11-0...             3.022208  \n",
       "Blood_Plasma_OpPlasma_038_a_13Aug11_Jaguar_11-0...             3.022208  \n",
       "Blood_Plasma_OpPlasma_039_a_13Aug11_Jaguar_11-0...             3.022208  \n",
       "Blood_Plasma_OpPlasma_045_a_27Jul11_Jaguar_11-0...             3.022208  \n",
       "\n",
       "[5 rows x 119916 columns]"
      ]
     },
     "execution_count": 9,
     "metadata": {},
     "output_type": "execute_result"
    }
   ],
   "source": [
    "test_data.head()"
   ]
  },
  {
   "cell_type": "markdown",
   "metadata": {},
   "source": [
    "### Load model and predict new data"
   ]
  },
  {
   "cell_type": "code",
   "execution_count": 32,
   "metadata": {
    "collapsed": true
   },
   "outputs": [],
   "source": [
    "# for testing purposes: load a previously saved model from disk\n",
    "model_path = finalized_model_folder + 'highqual_crossval_svc_grid.sav'\n",
    "loaded_model = joblib.load(open(model_path, 'rb'))"
   ]
  },
  {
   "cell_type": "code",
   "execution_count": 33,
   "metadata": {},
   "outputs": [
    {
     "name": "stdout",
     "output_type": "stream",
     "text": [
      "0.481012658228\n"
     ]
    }
   ],
   "source": [
    "pred = loaded_model.predict(test_data)\n",
    "result = loaded_model.score(test_data, test_labels)\n",
    "\n",
    "print(result)"
   ]
  },
  {
   "cell_type": "markdown",
   "metadata": {},
   "source": [
    "### Use models from notebook to predict new data"
   ]
  },
  {
   "cell_type": "code",
   "execution_count": 368,
   "metadata": {
    "collapsed": true,
    "scrolled": true
   },
   "outputs": [],
   "source": [
    "lr_pred = lr.predict(test_data)\n",
    "lr_result = lr.score(test_data, test_labels)\n",
    "\n",
    "mnb_pred = mnb.predict(test_data)\n",
    "mnb_result = mnb.score(test_data, test_labels)\n",
    "\n",
    "rf_pred = rf.predict(test_data)\n",
    "rf_result = rf.score(test_data, test_labels)\n",
    "\n",
    "svc_pred = svc_models[0].predict(test_data)\n",
    "svc_result = svc_models[0].score(test_data, test_labels)"
   ]
  },
  {
   "cell_type": "code",
   "execution_count": 369,
   "metadata": {},
   "outputs": [
    {
     "name": "stdout",
     "output_type": "stream",
     "text": [
      "0.294117647059\n",
      "0.305882352941\n",
      "0.294117647059\n",
      "0.270588235294\n"
     ]
    }
   ],
   "source": [
    "print(lr_result)\n",
    "print(mnb_result)\n",
    "print(rf_result)\n",
    "print(svc_result)"
   ]
  },
  {
   "cell_type": "code",
   "execution_count": 370,
   "metadata": {
    "collapsed": true,
    "scrolled": true
   },
   "outputs": [],
   "source": [
    "gbc_pred = gbc.predict(test_data)\n",
    "gbc_result = gbc.score(test_data, test_labels)\n",
    "\n",
    "gnb_pred = gnb.predict(test_data)\n",
    "gnb_result = gnb.score(test_data, test_labels)\n",
    "\n",
    "knn_pred = knn.predict(test_data)\n",
    "knn_result = knn.score(test_data, test_labels)"
   ]
  },
  {
   "cell_type": "code",
   "execution_count": 371,
   "metadata": {},
   "outputs": [
    {
     "name": "stdout",
     "output_type": "stream",
     "text": [
      "0.317647058824\n",
      "0.294117647059\n",
      "0.411764705882\n"
     ]
    }
   ],
   "source": [
    "print(gbc_result)\n",
    "print(gnb_result)\n",
    "print(knn_result)"
   ]
  },
  {
   "cell_type": "code",
   "execution_count": 55,
   "metadata": {
    "collapsed": true,
    "scrolled": true
   },
   "outputs": [],
   "source": [
    "gbc_grid_pred = gbc_grid.predict(test_data)\n",
    "gbc_grid_result = gbc_grid.score(test_data, test_labels)\n",
    "\n",
    "rf_grid_pred = rf_grid.predict(test_data)\n",
    "rf_grid_result = rf_grid.score(test_data, test_labels)\n",
    "\n",
    "svc_grid_pred = svc_grid.predict(test_data)\n",
    "svc_grid_result = svc_grid.score(test_data, test_labels)"
   ]
  },
  {
   "cell_type": "code",
   "execution_count": 56,
   "metadata": {},
   "outputs": [
    {
     "name": "stdout",
     "output_type": "stream",
     "text": [
      "0.481012658228\n",
      "0.430379746835\n",
      "0.455696202532\n"
     ]
    }
   ],
   "source": [
    "print(gbc_grid_result)\n",
    "print(rf_grid_result)\n",
    "print(svc_grid_result)"
   ]
  },
  {
   "cell_type": "markdown",
   "metadata": {},
   "source": [
    "##  Confusion matrices of best models' predictions on new data"
   ]
  },
  {
   "cell_type": "code",
   "execution_count": 25,
   "metadata": {
    "scrolled": false
   },
   "outputs": [
    {
     "name": "stdout",
     "output_type": "stream",
     "text": [
      "Confusion matrix, without normalization\n",
      "[[ 0  0 10  0  0  0  0  0  0]\n",
      " [ 5  0  5  0  0  0  0  0  0]\n",
      " [ 0  0 10  0  0  0  0  0  0]\n",
      " [ 0  0  0 10  0  0  0  0  0]\n",
      " [ 0  0  0  0  5  0  0  0  0]\n",
      " [ 0  0 10  0  0  0  0  0  0]\n",
      " [ 0  0  0  0  0  0 10  0  0]\n",
      " [ 0  0  0  0  0  0  0 10  0]\n",
      " [ 0  0  0  0  0  0  0  0 10]]\n",
      "Normalized confusion matrix\n",
      "[[ 0.   0.   1.   0.   0.   0.   0.   0.   0. ]\n",
      " [ 0.5  0.   0.5  0.   0.   0.   0.   0.   0. ]\n",
      " [ 0.   0.   1.   0.   0.   0.   0.   0.   0. ]\n",
      " [ 0.   0.   0.   1.   0.   0.   0.   0.   0. ]\n",
      " [ 0.   0.   0.   0.   1.   0.   0.   0.   0. ]\n",
      " [ 0.   0.   1.   0.   0.   0.   0.   0.   0. ]\n",
      " [ 0.   0.   0.   0.   0.   0.   1.   0.   0. ]\n",
      " [ 0.   0.   0.   0.   0.   0.   0.   1.   0. ]\n",
      " [ 0.   0.   0.   0.   0.   0.   0.   0.   1. ]]\n"
     ]
    },
    {
     "data": {
      "text/plain": [
       "<matplotlib.figure.Figure at 0x10b3a668>"
      ]
     },
     "metadata": {},
     "output_type": "display_data"
    },
    {
     "data": {
      "image/png": "[encoded data removed]",
      "text/plain": [
       "<matplotlib.figure.Figure at 0xd25c5c0>"
      ]
     },
     "metadata": {},
     "output_type": "display_data"
    },
    {
     "data": {
      "text/plain": [
       "<matplotlib.figure.Figure at 0xd09d320>"
      ]
     },
     "metadata": {},
     "output_type": "display_data"
    },
    {
     "data": {
      "image/png": "[encoded data removed]",
      "text/plain": [
       "<matplotlib.figure.Figure at 0xd0a55f8>"
      ]
     },
     "metadata": {},
     "output_type": "display_data"
    }
   ],
   "source": [
    "cm_labels = list(set(mnb_pred.tolist() + test_labels))\n",
    "\n",
    "cu.show_confusion_matrices(test_labels, mnb_pred, cm_labels, 'Multinomial NB ')"
   ]
  }
 ],
 "metadata": {
  "kernelspec": {
   "display_name": "Python 3",
   "language": "python",
   "name": "python3"
  },
  "language_info": {
   "codemirror_mode": {
    "name": "ipython",
    "version": 3
   },
   "file_extension": ".py",
   "mimetype": "text/x-python",
   "name": "python",
   "nbconvert_exporter": "python",
   "pygments_lexer": "ipython3",
   "version": "3.6.3"
  },
  "toc": {
   "nav_menu": {},
   "number_sections": true,
   "sideBar": true,
   "skip_h1_title": true,
   "toc_cell": false,
   "toc_position": {},
   "toc_section_display": "block",
   "toc_window_display": false
  }
 },
 "nbformat": 4,
 "nbformat_minor": 2
}
