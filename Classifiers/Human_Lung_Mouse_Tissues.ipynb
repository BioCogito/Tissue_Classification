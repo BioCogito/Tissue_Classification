{
 "cells": [
  {
   "cell_type": "markdown",
   "metadata": {
    "toc": true
   },
   "source": [
    "<h1>Table of Contents<span class=\"tocSkip\"></span></h1>\n",
    "<div class=\"toc\" style=\"margin-top: 1em;\"><ul class=\"toc-item\"><li><span><a href=\"#Comparing-human-lung-data-to-mouse-tissues\" data-toc-modified-id=\"Comparing-human-lung-data-to-mouse-tissues-1\"><span class=\"toc-item-num\">1&nbsp;&nbsp;</span>Comparing human lung data to mouse tissues</a></span></li><li><span><a href=\"#Load-mouse-data\" data-toc-modified-id=\"Load-mouse-data-2\"><span class=\"toc-item-num\">2&nbsp;&nbsp;</span>Load mouse data</a></span></li><li><span><a href=\"#Load-human-data\" data-toc-modified-id=\"Load-human-data-3\"><span class=\"toc-item-num\">3&nbsp;&nbsp;</span>Load human data</a></span></li><li><span><a href=\"#Load-human-mouse-correspondance-data\" data-toc-modified-id=\"Load-human-mouse-correspondance-data-4\"><span class=\"toc-item-num\">4&nbsp;&nbsp;</span>Load human-mouse correspondance data</a></span></li><li><span><a href=\"#Combine-data\" data-toc-modified-id=\"Combine-data-5\"><span class=\"toc-item-num\">5&nbsp;&nbsp;</span>Combine data</a></span><ul class=\"toc-item\"><li><span><a href=\"#Normalize-Separately\" data-toc-modified-id=\"Normalize-Separately-5.1\"><span class=\"toc-item-num\">5.1&nbsp;&nbsp;</span>Normalize Separately</a></span></li><li><span><a href=\"#Normalize-Together\" data-toc-modified-id=\"Normalize-Together-5.2\"><span class=\"toc-item-num\">5.2&nbsp;&nbsp;</span>Normalize Together</a></span></li><li><span><a href=\"#Pairwise-transform\" data-toc-modified-id=\"Pairwise-transform-5.3\"><span class=\"toc-item-num\">5.3&nbsp;&nbsp;</span>Pairwise transform</a></span></li></ul></li><li><span><a href=\"#Plots:-Normalized-Boxplot,-PCA,-Pearson-matrix\" data-toc-modified-id=\"Plots:-Normalized-Boxplot,-PCA,-Pearson-matrix-6\"><span class=\"toc-item-num\">6&nbsp;&nbsp;</span>Plots: Normalized Boxplot, PCA, Pearson matrix</a></span></li><li><span><a href=\"#Classifiers\" data-toc-modified-id=\"Classifiers-7\"><span class=\"toc-item-num\">7&nbsp;&nbsp;</span>Classifiers</a></span><ul class=\"toc-item\"><li><span><a href=\"#Decision-Tree\" data-toc-modified-id=\"Decision-Tree-7.1\"><span class=\"toc-item-num\">7.1&nbsp;&nbsp;</span>Decision Tree</a></span></li><li><span><a href=\"#Random-Forest\" data-toc-modified-id=\"Random-Forest-7.2\"><span class=\"toc-item-num\">7.2&nbsp;&nbsp;</span>Random Forest</a></span></li><li><span><a href=\"#KNN\" data-toc-modified-id=\"KNN-7.3\"><span class=\"toc-item-num\">7.3&nbsp;&nbsp;</span>KNN</a></span></li><li><span><a href=\"#Naive-Bayes\" data-toc-modified-id=\"Naive-Bayes-7.4\"><span class=\"toc-item-num\">7.4&nbsp;&nbsp;</span>Naive Bayes</a></span></li><li><span><a href=\"#SVC-variations\" data-toc-modified-id=\"SVC-variations-7.5\"><span class=\"toc-item-num\">7.5&nbsp;&nbsp;</span>SVC variations</a></span></li></ul></li><li><span><a href=\"#Feature-Selection\" data-toc-modified-id=\"Feature-Selection-8\"><span class=\"toc-item-num\">8&nbsp;&nbsp;</span>Feature Selection</a></span><ul class=\"toc-item\"><li><span><a href=\"#SelectKBest,-SelectPercentile\" data-toc-modified-id=\"SelectKBest,-SelectPercentile-8.1\"><span class=\"toc-item-num\">8.1&nbsp;&nbsp;</span>SelectKBest, SelectPercentile</a></span></li><li><span><a href=\"#Select-From-Model\" data-toc-modified-id=\"Select-From-Model-8.2\"><span class=\"toc-item-num\">8.2&nbsp;&nbsp;</span>Select From Model</a></span></li><li><span><a href=\"#Recursive-Feature-Elimination\" data-toc-modified-id=\"Recursive-Feature-Elimination-8.3\"><span class=\"toc-item-num\">8.3&nbsp;&nbsp;</span>Recursive Feature Elimination</a></span></li><li><span><a href=\"#Pipelines\" data-toc-modified-id=\"Pipelines-8.4\"><span class=\"toc-item-num\">8.4&nbsp;&nbsp;</span>Pipelines</a></span></li><li><span><a href=\"#Grid-Search-to-find-best-parameters-for-each-model\" data-toc-modified-id=\"Grid-Search-to-find-best-parameters-for-each-model-8.5\"><span class=\"toc-item-num\">8.5&nbsp;&nbsp;</span>Grid Search to find best parameters for each model</a></span><ul class=\"toc-item\"><li><span><a href=\"#SVC-Grid-Search\" data-toc-modified-id=\"SVC-Grid-Search-8.5.1\"><span class=\"toc-item-num\">8.5.1&nbsp;&nbsp;</span>SVC Grid Search</a></span></li><li><span><a href=\"#KNN-Grid-Search\" data-toc-modified-id=\"KNN-Grid-Search-8.5.2\"><span class=\"toc-item-num\">8.5.2&nbsp;&nbsp;</span>KNN Grid Search</a></span></li><li><span><a href=\"#Random-Forest-Grid-Search\" data-toc-modified-id=\"Random-Forest-Grid-Search-8.5.3\"><span class=\"toc-item-num\">8.5.3&nbsp;&nbsp;</span>Random Forest Grid Search</a></span></li></ul></li></ul></li><li><span><a href=\"#Highly-expressed-proteins\" data-toc-modified-id=\"Highly-expressed-proteins-9\"><span class=\"toc-item-num\">9&nbsp;&nbsp;</span>Highly expressed proteins</a></span></li></ul></div>"
   ]
  },
  {
   "cell_type": "markdown",
   "metadata": {},
   "source": [
    "# Comparing human lung data to mouse tissues\n",
    "Variations tested:\n",
    "* Based on protein abundance\n",
    "* Normalizing all data together\n",
    "* iBAQ abundance values\n",
    "\n",
    "Variations to test:\n",
    "* Based on peptide abundance\n",
    "* Normalizing mouse and human data separately\n",
    "* LFQ abundance values"
   ]
  },
  {
   "cell_type": "code",
   "execution_count": 1,
   "metadata": {
    "collapsed": true
   },
   "outputs": [],
   "source": [
    "import os\n",
    "import sys\n",
    "module_path = os.path.abspath(os.path.join('..'))\n",
    "if module_path not in sys.path:\n",
    "    sys.path.append(module_path)"
   ]
  },
  {
   "cell_type": "code",
   "execution_count": 2,
   "metadata": {},
   "outputs": [],
   "source": [
    "import Classification_Utils as cu\n",
    "import MaxQuant_Postprocessing_Functions as mq\n",
    "import pandas as pd\n",
    "from sklearn.decomposition import PCA, NMF\n",
    "from sklearn.neighbors import KNeighborsClassifier\n",
    "from sklearn.pipeline import Pipeline"
   ]
  },
  {
   "cell_type": "markdown",
   "metadata": {},
   "source": [
    "# Load mouse data"
   ]
  },
  {
   "cell_type": "code",
   "execution_count": 3,
   "metadata": {
    "collapsed": true
   },
   "outputs": [],
   "source": [
    "mouse_protein_file = \"D:\\proteinGroups.txt\"\n",
    "\n",
    "mouse_protein_df = mq.load_df(mouse_protein_file)\n",
    "mouse_protein_df = mq.clean_weakly_identified(mouse_protein_df)\n",
    "mouse_protein_df = mq.remove_dup_proteinIDs(mouse_protein_df)\n",
    "\n",
    "mouse_iBAQ_df = mq.slice_by_column(mouse_protein_df, 'protein', 'iBAQ ')\n",
    "mouse_LFQ_df = mq.slice_by_column(mouse_protein_df, 'protein', 'LFQ')\n",
    "\n",
    "mouse_iBAQ_df.columns = cu.rename_columns(mouse_iBAQ_df, 'Adult', 'Mouse')\n",
    "mouse_LFQ_df.columns = cu.rename_columns(mouse_LFQ_df, 'Adult', 'Mouse')\n",
    "\n",
    "mouse_groups = ['Brain', 'Heart', 'Kidney', 'Liver', 'Lung']\n",
    "mouse_organ_to_columns = {}\n",
    "mouse_organ_counts = {} \n",
    "\n",
    "mouse_iBAQ_df['Majority protein IDs'] = mouse_iBAQ_df['Majority protein IDs'].str[:-6] # strip off '_Mouse'\n",
    "mouse_LFQ_df['Majority protein IDs'] = mouse_LFQ_df['Majority protein IDs'].str[:-6] # strip off '_Mouse'\n",
    "mouse_iBAQ_df.set_index('Majority protein IDs', inplace = True)\n",
    "mouse_LFQ_df.set_index('Majority protein IDs', inplace = True)"
   ]
  },
  {
   "cell_type": "markdown",
   "metadata": {},
   "source": [
    "# Load human data\n",
    "\n",
    "* Human dataset info:\n",
    "    * Instrument: QExactHF03\n",
    "    * Separation Type: LC-Waters-Formic_3hr\n",
    "    * Tool: MSGFPlus_MzMl\n",
    "    * Jobs: 1498824-1498852\n",
    "    * Param file: MSGFDB_PartTryp_MetOx_StatCysAlk_10ppmParTol.txt\n",
    "    * Unlabelled samples"
   ]
  },
  {
   "cell_type": "code",
   "execution_count": 4,
   "metadata": {
    "collapsed": true
   },
   "outputs": [],
   "source": [
    "human_lung_protein_file = r'F:\\Human_Lung_Raw_Files\\LungMAP\\combined\\txt\\human_lung_proteinGroups.txt'\n",
    "human_groups = ['Human_Lung']\n",
    "\n",
    "human_lung_df = mq.load_df(human_lung_protein_file)\n",
    "human_lung_df = mq.clean_weakly_identified(human_lung_df)\n",
    "human_lung_df = mq.remove_dup_proteinIDs(human_lung_df)\n",
    "        \n",
    "human_lung_iBAQ_df = mq.slice_by_column(human_lung_df, 'protein', 'iBAQ ') \n",
    "human_lung_LFQ_df = mq.slice_by_column(human_lung_df, 'protein', 'LFQ')\n",
    "    \n",
    "human_lung_organ_columns = {}\n",
    "human_lung_organ_counts = {} \n",
    "\n",
    "human_lung_iBAQ_df['Majority protein IDs'] = human_lung_iBAQ_df['Majority protein IDs'].str[:-6]\n",
    "human_lung_LFQ_df['Majority protein IDs'] = human_lung_LFQ_df['Majority protein IDs'].str[:-6]\n",
    "human_lung_iBAQ_df.set_index('Majority protein IDs', inplace = True)\n",
    "human_lung_LFQ_df.set_index('Majority protein IDs', inplace = True)"
   ]
  },
  {
   "cell_type": "markdown",
   "metadata": {},
   "source": [
    "# Load human-mouse correspondance data"
   ]
  },
  {
   "cell_type": "code",
   "execution_count": 5,
   "metadata": {
    "collapsed": true
   },
   "outputs": [],
   "source": [
    "mapping_file = r'D:\\Human_Mouse_Mapping.txt'\n",
    "mapping_df = pd.read_csv(mapping_file, usecols=['Matched Term', 'Symbol', 'Species'], sep='\\t', lineterminator='\\r', encoding = 'latin1')\n",
    "mapping_df = mapping_df.replace(r'\\n','', regex=True)\n",
    "\n",
    "# Filter out entries not containing human in the \"Species\" column\n",
    "mapping_df = mapping_df[mapping_df['Species'].isnull() | mapping_df['Species'].str.contains('Human')]\n",
    "mapping_df.set_index('Matched Term', inplace=True)\n",
    "mapping_df.drop(['Species'], axis=1, inplace=True)\n",
    "\n",
    "mapping_df['Symbol'].replace(to_replace=' (includes others)', value='', inplace=True) # remove trailing comments"
   ]
  },
  {
   "cell_type": "code",
   "execution_count": 6,
   "metadata": {
    "collapsed": true
   },
   "outputs": [],
   "source": [
    "#########################\n",
    "#\n",
    "# Change mouse proteinIDs to common symbol\n",
    "#\n",
    "#########################\n",
    "\n",
    "mouse_proteins = mouse_iBAQ_df.index.values.tolist()\n",
    "human_proteins = human_lung_iBAQ_df.index.values.tolist()\n",
    "raw_mappings = mapping_df.to_dict('index') # {mouse protein: {'Symbol': common protein}}\n",
    "mappings = {}\n",
    "\n",
    "# Break up rows with multiple mouse proteins\n",
    "for old_key, val in raw_mappings.items():\n",
    "    keys = old_key.split()\n",
    "    for new_key in keys:\n",
    "        mappings[new_key] = raw_mappings[old_key]\n",
    "        \n",
    "mouse_iBAQ_df.reset_index(inplace=True)\n",
    "\n",
    "for protein in mouse_proteins:\n",
    "    if protein not in human_proteins:\n",
    "        to_replace = protein + '_MOUSE'\n",
    "        if to_replace in mappings:\n",
    "            mapping = mappings[to_replace]\n",
    "            new_sym = mapping['Symbol']\n",
    "            mouse_iBAQ_df.replace(protein, new_sym, inplace=True)\n",
    "        \n",
    "mouse_iBAQ_df.set_index('Majority protein IDs', inplace=True)"
   ]
  },
  {
   "cell_type": "code",
   "execution_count": 7,
   "metadata": {
    "scrolled": true
   },
   "outputs": [
    {
     "name": "stdout",
     "output_type": "stream",
     "text": [
      "                      iBAQ Mouse_04_Liver  iBAQ Mouse_05_Liver  \\\n",
      "Majority protein IDs                                             \n",
      "1433B                          80377000.0          106810000.0   \n",
      "1433E                         251680000.0          225180000.0   \n",
      "1433F                          32883000.0           46963000.0   \n",
      "1433G                         175610000.0          166310000.0   \n",
      "1433S                          53834000.0           62327000.0   \n",
      "\n",
      "                      iBAQ Mouse_06_Liver  iBAQ Mouse_07_Brain  \\\n",
      "Majority protein IDs                                             \n",
      "1433B                         129430000.0         6.599400e+08   \n",
      "1433E                         266450000.0         1.231800e+09   \n",
      "1433F                          44594000.0         7.019100e+08   \n",
      "1433G                         193140000.0         1.754000e+09   \n",
      "1433S                          93074000.0         5.072200e+08   \n",
      "\n",
      "                      iBAQ Mouse_07_Heart  iBAQ Mouse_07_Kidney  \\\n",
      "Majority protein IDs                                              \n",
      "1433B                          54078000.0           169910000.0   \n",
      "1433E                         193410000.0           368010000.0   \n",
      "1433F                          24798000.0            35166000.0   \n",
      "1433G                         115540000.0           131330000.0   \n",
      "1433S                          42272000.0            74689000.0   \n",
      "\n",
      "                      iBAQ Mouse_07_Liver  iBAQ Mouse_07_Lung  \\\n",
      "Majority protein IDs                                            \n",
      "1433B                          77940000.0         332430000.0   \n",
      "1433E                         257470000.0         393090000.0   \n",
      "1433F                          29518000.0         109030000.0   \n",
      "1433G                         154720000.0         147280000.0   \n",
      "1433S                          68639000.0         151450000.0   \n",
      "\n",
      "                      iBAQ Mouse_08_Brain  iBAQ Mouse_08_Heart  \\\n",
      "Majority protein IDs                                             \n",
      "1433B                        9.433100e+08           60183000.0   \n",
      "1433E                        1.451000e+09          121180000.0   \n",
      "1433F                        5.770900e+08           21946000.0   \n",
      "1433G                        1.476700e+09           99853000.0   \n",
      "1433S                        5.345500e+08           37720000.0   \n",
      "\n",
      "                             ...          iBAQ Mouse_10_Kidney  \\\n",
      "Majority protein IDs         ...                                 \n",
      "1433B                        ...                   115650000.0   \n",
      "1433E                        ...                   184890000.0   \n",
      "1433F                        ...                    30022000.0   \n",
      "1433G                        ...                    56697000.0   \n",
      "1433S                        ...                    78205000.0   \n",
      "\n",
      "                      iBAQ Mouse_10_Lung  iBAQ Mouse_11_Brain  \\\n",
      "Majority protein IDs                                            \n",
      "1433B                        291270000.0         8.222900e+08   \n",
      "1433E                        424050000.0         1.287100e+09   \n",
      "1433F                         89131000.0         7.017700e+08   \n",
      "1433G                        155560000.0         1.538800e+09   \n",
      "1433S                        144720000.0         4.521600e+08   \n",
      "\n",
      "                      iBAQ Mouse_11_Heart  iBAQ Mouse_11_Kidney  \\\n",
      "Majority protein IDs                                              \n",
      "1433B                          52859000.0           165120000.0   \n",
      "1433E                         161890000.0           393810000.0   \n",
      "1433F                          24909000.0            43068000.0   \n",
      "1433G                         102610000.0            97743000.0   \n",
      "1433S                          39513000.0           105850000.0   \n",
      "\n",
      "                      iBAQ Mouse_11_Lung  iBAQ Mouse_12_Brain  \\\n",
      "Majority protein IDs                                            \n",
      "1433B                        298140000.0         8.423100e+08   \n",
      "1433E                        422710000.0         1.429700e+09   \n",
      "1433F                        101610000.0         6.760000e+08   \n",
      "1433G                        150430000.0         1.511300e+09   \n",
      "1433S                        150400000.0         5.030800e+08   \n",
      "\n",
      "                      iBAQ Mouse_12_Heart  iBAQ Mouse_12_Kidney  \\\n",
      "Majority protein IDs                                              \n",
      "1433B                          55172000.0           152600000.0   \n",
      "1433E                         178070000.0           346300000.0   \n",
      "1433F                          24179000.0            41688000.0   \n",
      "1433G                         122600000.0            77648000.0   \n",
      "1433S                          48631000.0            99962000.0   \n",
      "\n",
      "                      iBAQ Mouse_12_Lung  \n",
      "Majority protein IDs                      \n",
      "1433B                        217030000.0  \n",
      "1433E                        316550000.0  \n",
      "1433F                         85005000.0  \n",
      "1433G                        107480000.0  \n",
      "1433S                        131250000.0  \n",
      "\n",
      "[5 rows x 30 columns]\n"
     ]
    }
   ],
   "source": [
    "print(mouse_iBAQ_df.head())"
   ]
  },
  {
   "cell_type": "markdown",
   "metadata": {},
   "source": [
    "# Combine data "
   ]
  },
  {
   "cell_type": "markdown",
   "metadata": {},
   "source": [
    "## Normalize Together "
   ]
  },
  {
   "cell_type": "code",
   "execution_count": 8,
   "metadata": {
    "scrolled": true
   },
   "outputs": [
    {
     "name": "stderr",
     "output_type": "stream",
     "text": [
      "C:\\Users\\kush494\\Documents\\Proteomics_Data_Processing\\MaxQuant_Postprocessing_Functions.py:149: RuntimeWarning: divide by zero encountered in log2\n",
      "  df.iloc[:,:] = np.log2(df.iloc[:,:])\n"
     ]
    }
   ],
   "source": [
    "#########################\n",
    "#\n",
    "# Join mouse data to human data\n",
    "#\n",
    "#########################\n",
    "\n",
    "combined_df = mouse_iBAQ_df.join(human_lung_iBAQ_df)\n",
    "\n",
    "all_organs = ['Mouse.*Brain', 'Mouse.*Heart', 'Mouse.*Kidney', 'Mouse.*Liver', 'Mouse.*Lung', 'Human_Lung']\n",
    "organs_to_columns = {}\n",
    "organs_to_observed_counts = {}\n",
    "\n",
    "combined_df = mq.filter_low_observed(combined_df, all_organs, organs_to_columns, organs_to_observed_counts)\n",
    "mq.log2_normalize(combined_df)\n",
    "mq.median_normalize(combined_df)\n",
    "combined_df = mq.reorder_columns(combined_df, all_organs, organs_to_columns)"
   ]
  },
  {
   "cell_type": "markdown",
   "metadata": {},
   "source": [
    "# Plots: Normalized Boxplot, PCA, Pearson matrix"
   ]
  },
  {
   "cell_type": "code",
   "execution_count": 9,
   "metadata": {},
   "outputs": [],
   "source": [
    "base_dir = r'D:\\Images\\Classifier\\\\'\n",
    "combined_dir = base_dir + 'Human_Lung_Mouse_Tissues_'\n",
    "combined_color_mapping = mq.map_colors(all_organs, organs_to_columns)\n",
    "\n",
    "mq.make_seaborn_boxplot(combined_df, combined_dir, 'Median Normalized Boxplot', combined_color_mapping)\n",
    "\n",
    "combined_df = mq.impute_missing(combined_df)\n",
    "\n",
    "all_columns = combined_df.columns.values.tolist()"
   ]
  },
  {
   "cell_type": "code",
   "execution_count": 10,
   "metadata": {
    "scrolled": false
   },
   "outputs": [
    {
     "name": "stderr",
     "output_type": "stream",
     "text": [
      "C:\\Users\\kush494\\AppData\\Local\\Continuum\\anaconda3\\lib\\site-packages\\matplotlib\\figure.py:418: UserWarning: matplotlib is currently using a non-GUI backend, so cannot show the figure\n",
      "  \"matplotlib is currently using a non-GUI backend, \"\n"
     ]
    }
   ],
   "source": [
    "combined_pca, combined_pca_data = mq.do_pca(combined_df, 'protein')\n",
    "\n",
    "combined_per_var, combined_labels = mq.make_scree_plot(combined_pca, combined_dir)\n",
    "mq.draw_pca_graph2(all_columns, combined_pca_data, combined_dir, combined_color_mapping, combined_per_var, combined_labels, all_organs, organs_to_columns)"
   ]
  },
  {
   "cell_type": "code",
   "execution_count": null,
   "metadata": {
    "collapsed": true
   },
   "outputs": [],
   "source": [
    "mq.make_pearson_matrix(combined_df, combined_dir, dimensions=(20,15))"
   ]
  },
  {
   "cell_type": "markdown",
   "metadata": {},
   "source": [
    "# Classifiers "
   ]
  },
  {
   "cell_type": "code",
   "execution_count": 12,
   "metadata": {
    "collapsed": true
   },
   "outputs": [],
   "source": [
    "#########################\n",
    "#\n",
    "# Split off mouse data for training and human data for testing\n",
    "#\n",
    "#########################\n",
    "\n",
    "human_lung_cols = human_lung_iBAQ_df.columns.values.tolist()\n",
    "mouse_cols = mouse_iBAQ_df.columns.values.tolist()\n",
    "\n",
    "mouse_data = combined_df[mouse_cols].T\n",
    "human_lung_data = combined_df[human_lung_cols].T"
   ]
  },
  {
   "cell_type": "code",
   "execution_count": 13,
   "metadata": {
    "collapsed": true
   },
   "outputs": [],
   "source": [
    "mouse_organs_to_columns = {k:v for (k,v) in organs_to_columns.items() if 'Mouse' in k}\n",
    "human_organs_to_columns = {k:v for (k,v) in organs_to_columns.items() if 'Human' in k}"
   ]
  },
  {
   "cell_type": "code",
   "execution_count": 14,
   "metadata": {
    "collapsed": true
   },
   "outputs": [],
   "source": [
    "#########################\n",
    "#\n",
    "# Get mouse (training) labels and human (test) labels\n",
    "#\n",
    "#########################\n",
    "\n",
    "mouse_labels = cu.get_labels(mouse_cols, mouse_organs_to_columns)\n",
    "mouse_labels = [label.replace('Mouse.*', '') for label in mouse_labels]\n",
    "\n",
    "human_lung_labels = cu.get_labels(human_lung_cols, human_organs_to_columns)\n",
    "human_lung_labels = [label.replace('Human_', '') for label in human_lung_labels]"
   ]
  },
  {
   "cell_type": "markdown",
   "metadata": {},
   "source": [
    "## Decision Tree"
   ]
  },
  {
   "cell_type": "code",
   "execution_count": 15,
   "metadata": {},
   "outputs": [
    {
     "name": "stdout",
     "output_type": "stream",
     "text": [
      "Scores: [ 0.8  0.9  1.   1. ]\n",
      "Accuracy: 0.93 (+/- 0.17)\n"
     ]
    }
   ],
   "source": [
    "dt = cu.decisiontree_model_crossval(mouse_data, mouse_labels, 4)"
   ]
  },
  {
   "cell_type": "code",
   "execution_count": 18,
   "metadata": {},
   "outputs": [
    {
     "name": "stdout",
     "output_type": "stream",
     "text": [
      "score 0.137931034483\n",
      "pred ['Liver' 'Liver' 'Liver' 'Liver' 'Liver' 'Liver' 'Liver' 'Liver' 'Lung'\n",
      " 'Lung' 'Liver' 'Lung' 'Liver' 'Liver' 'Liver' 'Liver' 'Lung' 'Liver'\n",
      " 'Liver' 'Liver' 'Liver' 'Liver' 'Liver' 'Liver' 'Liver' 'Liver' 'Liver'\n",
      " 'Liver' 'Liver']\n",
      "actual ['Lung', 'Lung', 'Lung', 'Lung', 'Lung', 'Lung', 'Lung', 'Lung', 'Lung', 'Lung', 'Lung', 'Lung', 'Lung', 'Lung', 'Lung', 'Lung', 'Lung', 'Lung', 'Lung', 'Lung', 'Lung', 'Lung', 'Lung', 'Lung', 'Lung', 'Lung', 'Lung', 'Lung', 'Lung']\n",
      "\n",
      "\n",
      "Prediction probabilities for sample:\n",
      "Brain : 0.0\n",
      "Heart : 0.0\n",
      "Kidney : 0.0\n",
      "Liver : 1.0\n",
      "Lung : 0.0\n"
     ]
    }
   ],
   "source": [
    "dt_pred = cu.make_test_prediction(dt, human_lung_data, human_lung_labels)\n",
    "\n",
    "print(\"\\n\")\n",
    "cu.show_prediction_probabilities(dt, human_lung_data, 0)"
   ]
  },
  {
   "cell_type": "markdown",
   "metadata": {},
   "source": [
    "## Random Forest"
   ]
  },
  {
   "cell_type": "code",
   "execution_count": 19,
   "metadata": {},
   "outputs": [
    {
     "name": "stdout",
     "output_type": "stream",
     "text": [
      "Scores: [ 1.  1.  1.  1.]\n",
      "Accuracy: 1.00 (+/- 0.00)\n"
     ]
    }
   ],
   "source": [
    "rf = cu.randomforest_model_crossval(mouse_data, mouse_labels, 4)"
   ]
  },
  {
   "cell_type": "code",
   "execution_count": 20,
   "metadata": {},
   "outputs": [
    {
     "name": "stdout",
     "output_type": "stream",
     "text": [
      "score 0.0344827586207\n",
      "pred ['Brain' 'Brain' 'Brain' 'Brain' 'Brain' 'Brain' 'Brain' 'Brain' 'Brain'\n",
      " 'Brain' 'Brain' 'Brain' 'Brain' 'Brain' 'Brain' 'Brain' 'Brain' 'Brain'\n",
      " 'Brain' 'Brain' 'Brain' 'Liver' 'Brain' 'Brain' 'Brain' 'Brain' 'Lung'\n",
      " 'Brain' 'Brain']\n",
      "actual ['Lung', 'Lung', 'Lung', 'Lung', 'Lung', 'Lung', 'Lung', 'Lung', 'Lung', 'Lung', 'Lung', 'Lung', 'Lung', 'Lung', 'Lung', 'Lung', 'Lung', 'Lung', 'Lung', 'Lung', 'Lung', 'Lung', 'Lung', 'Lung', 'Lung', 'Lung', 'Lung', 'Lung', 'Lung']\n",
      "\n",
      "\n",
      "Prediction probabilities for sample:\n",
      "Brain : 0.4\n",
      "Heart : 0.0\n",
      "Kidney : 0.1\n",
      "Liver : 0.1\n",
      "Lung : 0.4\n"
     ]
    }
   ],
   "source": [
    "rf_pred = cu.make_test_prediction(rf, human_lung_data, human_lung_labels)\n",
    "\n",
    "print(\"\\n\")\n",
    "cu.show_prediction_probabilities(rf, human_lung_data, 0)"
   ]
  },
  {
   "cell_type": "markdown",
   "metadata": {},
   "source": [
    "## KNN"
   ]
  },
  {
   "cell_type": "code",
   "execution_count": 19,
   "metadata": {
    "scrolled": false
   },
   "outputs": [
    {
     "name": "stdout",
     "output_type": "stream",
     "text": [
      "Scores: [ 1.  1.  1.  1.]\n",
      "Accuracy: 1.00 (+/- 0.00)\n"
     ]
    }
   ],
   "source": [
    "knn = cu.knn_model_crossval(mouse_data, mouse_labels, 4)"
   ]
  },
  {
   "cell_type": "code",
   "execution_count": 20,
   "metadata": {},
   "outputs": [
    {
     "name": "stdout",
     "output_type": "stream",
     "text": [
      "score 1.0\n",
      "pred ['Lung' 'Lung' 'Lung' 'Lung' 'Lung' 'Lung' 'Lung' 'Lung' 'Lung' 'Lung'\n",
      " 'Lung' 'Lung' 'Lung' 'Lung' 'Lung' 'Lung' 'Lung' 'Lung' 'Lung' 'Lung'\n",
      " 'Lung' 'Lung' 'Lung' 'Lung' 'Lung' 'Lung' 'Lung' 'Lung' 'Lung']\n",
      "actual ['Lung', 'Lung', 'Lung', 'Lung', 'Lung', 'Lung', 'Lung', 'Lung', 'Lung', 'Lung', 'Lung', 'Lung', 'Lung', 'Lung', 'Lung', 'Lung', 'Lung', 'Lung', 'Lung', 'Lung', 'Lung', 'Lung', 'Lung', 'Lung', 'Lung', 'Lung', 'Lung', 'Lung', 'Lung']\n",
      "\n",
      "\n",
      "Prediction probabilities for sample:\n",
      "Brain : 0.0\n",
      "Heart : 0.0\n",
      "Kidney : 0.0\n",
      "Liver : 0.0\n",
      "Lung : 1.0\n"
     ]
    }
   ],
   "source": [
    "knn_pred = cu.make_test_prediction(knn, human_lung_data, human_lung_labels)\n",
    "\n",
    "print(\"\\n\")\n",
    "cu.show_prediction_probabilities(knn, human_lung_data, 4)"
   ]
  },
  {
   "cell_type": "markdown",
   "metadata": {},
   "source": [
    "## Naive Bayes"
   ]
  },
  {
   "cell_type": "code",
   "execution_count": 21,
   "metadata": {},
   "outputs": [
    {
     "name": "stdout",
     "output_type": "stream",
     "text": [
      "Scores: [ 1.  1.  1.  1.]\n",
      "Accuracy: 1.00 (+/- 0.00)\n"
     ]
    }
   ],
   "source": [
    "gnb = cu.bayes_gaussian_model_crossval(mouse_data, mouse_labels, 4)"
   ]
  },
  {
   "cell_type": "code",
   "execution_count": 22,
   "metadata": {
    "scrolled": true
   },
   "outputs": [
    {
     "name": "stdout",
     "output_type": "stream",
     "text": [
      "score 1.0\n",
      "pred ['Lung' 'Lung' 'Lung' 'Lung' 'Lung' 'Lung' 'Lung' 'Lung' 'Lung' 'Lung'\n",
      " 'Lung' 'Lung' 'Lung' 'Lung' 'Lung' 'Lung' 'Lung' 'Lung' 'Lung' 'Lung'\n",
      " 'Lung' 'Lung' 'Lung' 'Lung' 'Lung' 'Lung' 'Lung' 'Lung' 'Lung']\n",
      "actual ['Lung', 'Lung', 'Lung', 'Lung', 'Lung', 'Lung', 'Lung', 'Lung', 'Lung', 'Lung', 'Lung', 'Lung', 'Lung', 'Lung', 'Lung', 'Lung', 'Lung', 'Lung', 'Lung', 'Lung', 'Lung', 'Lung', 'Lung', 'Lung', 'Lung', 'Lung', 'Lung', 'Lung', 'Lung']\n",
      "\n",
      "\n",
      "Prediction probabilities for sample:\n",
      "Brain : 0.0\n",
      "Heart : 0.0\n",
      "Kidney : 1.41204033987e-294\n",
      "Liver : 0.0\n",
      "Lung : 1.0\n"
     ]
    }
   ],
   "source": [
    "gnb_pred = cu.make_test_prediction(gnb, human_lung_data, human_lung_labels)\n",
    "\n",
    "print(\"\\n\")\n",
    "cu.show_prediction_probabilities(gnb, human_lung_data, 0)"
   ]
  },
  {
   "cell_type": "markdown",
   "metadata": {},
   "source": [
    "## SVC variations"
   ]
  },
  {
   "cell_type": "code",
   "execution_count": 23,
   "metadata": {
    "scrolled": false
   },
   "outputs": [
    {
     "name": "stdout",
     "output_type": "stream",
     "text": [
      "Scores: [ 1.  1.  1.  1.]\n",
      "Accuracy: 1.00 (+/- 0.00)\n",
      "Scores: [ 1.  1.  1.  1.]\n",
      "Accuracy: 1.00 (+/- 0.00)\n",
      "Scores: [ 0.2  0.2  0.2  0.2]\n",
      "Accuracy: 0.20 (+/- 0.00)\n",
      "Scores: [ 1.  1.  1.  1.]\n",
      "Accuracy: 1.00 (+/- 0.00)\n"
     ]
    }
   ],
   "source": [
    "models = cu.SVC_models_crossval(mouse_data, mouse_labels, 4)"
   ]
  },
  {
   "cell_type": "code",
   "execution_count": 24,
   "metadata": {},
   "outputs": [
    {
     "name": "stdout",
     "output_type": "stream",
     "text": [
      "score 1.0\n",
      "pred ['Lung' 'Lung' 'Lung' 'Lung' 'Lung' 'Lung' 'Lung' 'Lung' 'Lung' 'Lung'\n",
      " 'Lung' 'Lung' 'Lung' 'Lung' 'Lung' 'Lung' 'Lung' 'Lung' 'Lung' 'Lung'\n",
      " 'Lung' 'Lung' 'Lung' 'Lung' 'Lung' 'Lung' 'Lung' 'Lung' 'Lung']\n",
      "actual ['Lung', 'Lung', 'Lung', 'Lung', 'Lung', 'Lung', 'Lung', 'Lung', 'Lung', 'Lung', 'Lung', 'Lung', 'Lung', 'Lung', 'Lung', 'Lung', 'Lung', 'Lung', 'Lung', 'Lung', 'Lung', 'Lung', 'Lung', 'Lung', 'Lung', 'Lung', 'Lung', 'Lung', 'Lung']\n",
      "\n",
      "\n",
      "Prediction probabilities for sample:\n",
      "Brain : 0.102949129301\n",
      "Heart : 0.0507749348014\n",
      "Kidney : 0.169038769535\n",
      "Liver : 0.0794758217675\n",
      "Lung : 0.597761344595\n"
     ]
    }
   ],
   "source": [
    "svc_pred = cu.make_test_prediction(models[0], human_lung_data, human_lung_labels)\n",
    "\n",
    "print(\"\\n\")\n",
    "cu.show_prediction_probabilities(models[0], human_lung_data, 0)"
   ]
  },
  {
   "cell_type": "markdown",
   "metadata": {},
   "source": [
    "# Feature Selection \n",
    "\n",
    "* SelectKBest\n",
    "* SelectPercentile\n",
    "* Recursive elimination\n",
    "* SelectFromModel\n",
    "\n",
    "* Feature selection + Transformation + Classifier --> Pipeline\n",
    "* Grid Search for best hyperparameters"
   ]
  },
  {
   "cell_type": "markdown",
   "metadata": {},
   "source": [
    "## SelectKBest, SelectPercentile"
   ]
  },
  {
   "cell_type": "code",
   "execution_count": 25,
   "metadata": {},
   "outputs": [
    {
     "name": "stdout",
     "output_type": "stream",
     "text": [
      "Original data: (30, 2218)\n",
      "SelectKBest: (30, 25)\n",
      "SelectPercentile: (30, 555)\n"
     ]
    }
   ],
   "source": [
    "from sklearn.feature_selection import SelectKBest, SelectPercentile\n",
    "\n",
    "print('Original data:', mouse_data.shape)\n",
    "\n",
    "kbest_data = SelectKBest(k=25).fit_transform(mouse_data, mouse_labels)\n",
    "print('SelectKBest:', kbest_data.shape)\n",
    "\n",
    "percentile_data = SelectPercentile(percentile=25).fit_transform(mouse_data, mouse_labels)\n",
    "print('SelectPercentile:', percentile_data.shape)"
   ]
  },
  {
   "cell_type": "markdown",
   "metadata": {},
   "source": [
    "## Select From Model\n",
    "* Classifier computes feature importances and discards irrelevant features"
   ]
  },
  {
   "cell_type": "code",
   "execution_count": 26,
   "metadata": {},
   "outputs": [
    {
     "name": "stdout",
     "output_type": "stream",
     "text": [
      "Select From Model: (30, 39)\n"
     ]
    }
   ],
   "source": [
    "from sklearn.ensemble import ExtraTreesClassifier\n",
    "from sklearn.feature_selection import SelectFromModel\n",
    "\n",
    "etc = ExtraTreesClassifier()\n",
    "etc = etc.fit(mouse_data, mouse_labels)\n",
    "\n",
    "model = SelectFromModel(etc, prefit=True)\n",
    "from_model_data = model.transform(mouse_data)\n",
    "print('Select From Model:', from_model_data.shape)"
   ]
  },
  {
   "cell_type": "markdown",
   "metadata": {},
   "source": [
    "## Recursive Feature Elimination\n",
    "* Classifier computes feature importances and discards irrelevant features\n",
    "* Time comsuming in high-dimensionality space. Could also cause over-fitting if it keeps all features and there are fewer samples than features"
   ]
  },
  {
   "cell_type": "code",
   "execution_count": 27,
   "metadata": {},
   "outputs": [
    {
     "name": "stdout",
     "output_type": "stream",
     "text": [
      "Total Features: 2218\n",
      "Optimal number of features: 2218\n"
     ]
    }
   ],
   "source": [
    "from sklearn.feature_selection import RFECV\n",
    "\n",
    "# The \"accuracy\" scoring is proportional to the number of correct classifications\n",
    "rfecv = RFECV(estimator=etc, step=1,\n",
    "              scoring='accuracy')\n",
    "rfecv.fit(mouse_data, mouse_labels)\n",
    "\n",
    "print('Total Features:', len(mouse_data.T))\n",
    "print('Optimal number of features:',  rfecv.n_features_)\n"
   ]
  },
  {
   "cell_type": "markdown",
   "metadata": {},
   "source": [
    "## Pipelines\n",
    "* Chain together feature elimination, reduction, and classification"
   ]
  },
  {
   "cell_type": "code",
   "execution_count": 28,
   "metadata": {},
   "outputs": [
    {
     "name": "stdout",
     "output_type": "stream",
     "text": [
      "score 1.0\n",
      "pred ['Lung' 'Lung' 'Lung' 'Lung' 'Lung' 'Lung' 'Lung' 'Lung' 'Lung' 'Lung'\n",
      " 'Lung' 'Lung' 'Lung' 'Lung' 'Lung' 'Lung' 'Lung' 'Lung' 'Lung' 'Lung'\n",
      " 'Lung' 'Lung' 'Lung' 'Lung' 'Lung' 'Lung' 'Lung' 'Lung' 'Lung']\n",
      "actual ['Lung', 'Lung', 'Lung', 'Lung', 'Lung', 'Lung', 'Lung', 'Lung', 'Lung', 'Lung', 'Lung', 'Lung', 'Lung', 'Lung', 'Lung', 'Lung', 'Lung', 'Lung', 'Lung', 'Lung', 'Lung', 'Lung', 'Lung', 'Lung', 'Lung', 'Lung', 'Lung', 'Lung', 'Lung']\n"
     ]
    },
    {
     "name": "stderr",
     "output_type": "stream",
     "text": [
      "C:\\Users\\kush494\\AppData\\Local\\Continuum\\anaconda3\\lib\\site-packages\\sklearn\\discriminant_analysis.py:388: UserWarning: Variables are collinear.\n",
      "  warnings.warn(\"Variables are collinear.\")\n"
     ]
    }
   ],
   "source": [
    "from sklearn.discriminant_analysis import LinearDiscriminantAnalysis\n",
    "\n",
    "anova_filter = SelectPercentile(percentile=10)\n",
    "clf = KNeighborsClassifier()\n",
    "\n",
    "pca = PCA()\n",
    "lda = LinearDiscriminantAnalysis(n_components=2)\n",
    "\n",
    "anova_knn_pipeline = Pipeline([('anova', anova_filter), \n",
    "                               ('feature_reduction', lda),\n",
    "                               ('knn', clf)])\n",
    "\n",
    "anova_knn_pipeline.fit(mouse_data, mouse_labels)\n",
    "pipeline_pred = cu.make_test_prediction(anova_knn_pipeline, human_lung_data, human_lung_labels)"
   ]
  },
  {
   "cell_type": "code",
   "execution_count": 29,
   "metadata": {},
   "outputs": [
    {
     "name": "stdout",
     "output_type": "stream",
     "text": [
      "score 1.0\n",
      "pred ['Lung' 'Lung' 'Lung' 'Lung' 'Lung' 'Lung' 'Lung' 'Lung' 'Lung' 'Lung'\n",
      " 'Lung' 'Lung' 'Lung' 'Lung' 'Lung' 'Lung' 'Lung' 'Lung' 'Lung' 'Lung'\n",
      " 'Lung' 'Lung' 'Lung' 'Lung' 'Lung' 'Lung' 'Lung' 'Lung' 'Lung']\n",
      "actual ['Lung', 'Lung', 'Lung', 'Lung', 'Lung', 'Lung', 'Lung', 'Lung', 'Lung', 'Lung', 'Lung', 'Lung', 'Lung', 'Lung', 'Lung', 'Lung', 'Lung', 'Lung', 'Lung', 'Lung', 'Lung', 'Lung', 'Lung', 'Lung', 'Lung', 'Lung', 'Lung', 'Lung', 'Lung']\n"
     ]
    }
   ],
   "source": [
    "model_filter = SelectFromModel(etc)\n",
    "clf = KNeighborsClassifier()\n",
    "\n",
    "model_knn_pipeline = Pipeline([('model', model_filter), \n",
    "                               ('pca', PCA()),\n",
    "                               ('knn', clf)])\n",
    "\n",
    "model_knn_pipeline.fit(mouse_data, mouse_labels)\n",
    "pipeline_pred = cu.make_test_prediction(model_knn_pipeline, human_lung_data, human_lung_labels)"
   ]
  },
  {
   "cell_type": "markdown",
   "metadata": {},
   "source": [
    "## Grid Search to find best parameters for each model"
   ]
  },
  {
   "cell_type": "code",
   "execution_count": 30,
   "metadata": {
    "scrolled": true
   },
   "outputs": [
    {
     "name": "stderr",
     "output_type": "stream",
     "text": [
      "C:\\Users\\kush494\\AppData\\Local\\Continuum\\anaconda3\\lib\\site-packages\\sklearn\\cross_validation.py:41: DeprecationWarning: This module was deprecated in version 0.18 in favor of the model_selection module into which all the refactored classes and functions are moved. Also note that the interface of the new CV iterators are different from that of this module. This module will be removed in 0.20.\n",
      "  \"This module will be removed in 0.20.\", DeprecationWarning)\n",
      "C:\\Users\\kush494\\AppData\\Local\\Continuum\\anaconda3\\lib\\site-packages\\sklearn\\grid_search.py:42: DeprecationWarning: This module was deprecated in version 0.18 in favor of the model_selection module into which all the refactored classes and functions are moved. This module will be removed in 0.20.\n",
      "  DeprecationWarning)\n"
     ]
    },
    {
     "data": {
      "text/plain": [
       "{'C': 1.5, 'kernel': 'linear'}"
      ]
     },
     "execution_count": 30,
     "metadata": {},
     "output_type": "execute_result"
    }
   ],
   "source": [
    "from sklearn import grid_search\n",
    "from sklearn.svm import SVC\n",
    "\n",
    "parameters = {'kernel': ('linear', 'rbf', 'poly'), \n",
    "              'C':[1.5, 10, 100, 1000]}\n",
    "svr = SVC()\n",
    "clf = grid_search.GridSearchCV(svr, parameters)\n",
    "clf.fit(mouse_data, mouse_labels)\n",
    "\n",
    "clf.best_params_"
   ]
  },
  {
   "cell_type": "markdown",
   "metadata": {},
   "source": [
    "### SVC Grid Search"
   ]
  },
  {
   "cell_type": "code",
   "execution_count": 15,
   "metadata": {},
   "outputs": [
    {
     "name": "stdout",
     "output_type": "stream",
     "text": [
      "Best SVC parameters:\n",
      " {'classify__C': 1, 'classify__gamma': 0.001, 'classify__kernel': 'linear', 'reduce_dim': PCA(copy=True, iterated_power='auto', n_components=2, random_state=None,\n",
      "  svd_solver='auto', tol=0.0, whiten=False), 'reduce_dim__n_components': 2}\n",
      "\n",
      "Best Cross-Validation score:\n",
      " 1.0\n"
     ]
    }
   ],
   "source": [
    "SVC_grid = cu.svc_grid_search(4, 1)\n",
    "\n",
    "SVC_grid.fit(mouse_data, mouse_labels)\n",
    "\n",
    "print('Best SVC parameters:\\n', SVC_grid.best_params_)\n",
    "print('\\nBest Cross-Validation score:\\n', SVC_grid.best_score_)\n",
    "#print('\\nBest Estimator:\\n', SVC_grid.best_estimator_)"
   ]
  },
  {
   "cell_type": "code",
   "execution_count": 32,
   "metadata": {},
   "outputs": [
    {
     "name": "stdout",
     "output_type": "stream",
     "text": [
      "Prediction probabilities for sample:\n",
      "Brain : 0.0963748097492\n",
      "Heart : 0.0351553567414\n",
      "Kidney : 0.155031518009\n",
      "Liver : 0.0523517661408\n",
      "Lung : 0.66108654936\n"
     ]
    }
   ],
   "source": [
    "cu.show_prediction_probabilities(SVC_grid, human_lung_data, 0)"
   ]
  },
  {
   "cell_type": "markdown",
   "metadata": {},
   "source": [
    "### KNN Grid Search"
   ]
  },
  {
   "cell_type": "code",
   "execution_count": 33,
   "metadata": {},
   "outputs": [
    {
     "name": "stderr",
     "output_type": "stream",
     "text": [
      "C:\\Users\\kush494\\AppData\\Local\\Continuum\\anaconda3\\lib\\site-packages\\sklearn\\discriminant_analysis.py:388: UserWarning: Variables are collinear.\n",
      "  warnings.warn(\"Variables are collinear.\")\n",
      "C:\\Users\\kush494\\AppData\\Local\\Continuum\\anaconda3\\lib\\site-packages\\sklearn\\discriminant_analysis.py:388: UserWarning: Variables are collinear.\n",
      "  warnings.warn(\"Variables are collinear.\")\n",
      "C:\\Users\\kush494\\AppData\\Local\\Continuum\\anaconda3\\lib\\site-packages\\sklearn\\discriminant_analysis.py:388: UserWarning: Variables are collinear.\n",
      "  warnings.warn(\"Variables are collinear.\")\n",
      "C:\\Users\\kush494\\AppData\\Local\\Continuum\\anaconda3\\lib\\site-packages\\sklearn\\discriminant_analysis.py:388: UserWarning: Variables are collinear.\n",
      "  warnings.warn(\"Variables are collinear.\")\n",
      "C:\\Users\\kush494\\AppData\\Local\\Continuum\\anaconda3\\lib\\site-packages\\sklearn\\discriminant_analysis.py:388: UserWarning: Variables are collinear.\n",
      "  warnings.warn(\"Variables are collinear.\")\n",
      "C:\\Users\\kush494\\AppData\\Local\\Continuum\\anaconda3\\lib\\site-packages\\sklearn\\discriminant_analysis.py:388: UserWarning: Variables are collinear.\n",
      "  warnings.warn(\"Variables are collinear.\")\n",
      "C:\\Users\\kush494\\AppData\\Local\\Continuum\\anaconda3\\lib\\site-packages\\sklearn\\discriminant_analysis.py:388: UserWarning: Variables are collinear.\n",
      "  warnings.warn(\"Variables are collinear.\")\n",
      "C:\\Users\\kush494\\AppData\\Local\\Continuum\\anaconda3\\lib\\site-packages\\sklearn\\discriminant_analysis.py:388: UserWarning: Variables are collinear.\n",
      "  warnings.warn(\"Variables are collinear.\")\n",
      "C:\\Users\\kush494\\AppData\\Local\\Continuum\\anaconda3\\lib\\site-packages\\sklearn\\discriminant_analysis.py:388: UserWarning: Variables are collinear.\n",
      "  warnings.warn(\"Variables are collinear.\")\n",
      "C:\\Users\\kush494\\AppData\\Local\\Continuum\\anaconda3\\lib\\site-packages\\sklearn\\discriminant_analysis.py:388: UserWarning: Variables are collinear.\n",
      "  warnings.warn(\"Variables are collinear.\")\n",
      "C:\\Users\\kush494\\AppData\\Local\\Continuum\\anaconda3\\lib\\site-packages\\sklearn\\discriminant_analysis.py:388: UserWarning: Variables are collinear.\n",
      "  warnings.warn(\"Variables are collinear.\")\n",
      "C:\\Users\\kush494\\AppData\\Local\\Continuum\\anaconda3\\lib\\site-packages\\sklearn\\discriminant_analysis.py:388: UserWarning: Variables are collinear.\n",
      "  warnings.warn(\"Variables are collinear.\")\n",
      "C:\\Users\\kush494\\AppData\\Local\\Continuum\\anaconda3\\lib\\site-packages\\sklearn\\discriminant_analysis.py:388: UserWarning: Variables are collinear.\n",
      "  warnings.warn(\"Variables are collinear.\")\n",
      "C:\\Users\\kush494\\AppData\\Local\\Continuum\\anaconda3\\lib\\site-packages\\sklearn\\discriminant_analysis.py:388: UserWarning: Variables are collinear.\n",
      "  warnings.warn(\"Variables are collinear.\")\n",
      "C:\\Users\\kush494\\AppData\\Local\\Continuum\\anaconda3\\lib\\site-packages\\sklearn\\discriminant_analysis.py:388: UserWarning: Variables are collinear.\n",
      "  warnings.warn(\"Variables are collinear.\")\n",
      "C:\\Users\\kush494\\AppData\\Local\\Continuum\\anaconda3\\lib\\site-packages\\sklearn\\discriminant_analysis.py:388: UserWarning: Variables are collinear.\n",
      "  warnings.warn(\"Variables are collinear.\")\n",
      "C:\\Users\\kush494\\AppData\\Local\\Continuum\\anaconda3\\lib\\site-packages\\sklearn\\discriminant_analysis.py:388: UserWarning: Variables are collinear.\n",
      "  warnings.warn(\"Variables are collinear.\")\n",
      "C:\\Users\\kush494\\AppData\\Local\\Continuum\\anaconda3\\lib\\site-packages\\sklearn\\discriminant_analysis.py:388: UserWarning: Variables are collinear.\n",
      "  warnings.warn(\"Variables are collinear.\")\n",
      "C:\\Users\\kush494\\AppData\\Local\\Continuum\\anaconda3\\lib\\site-packages\\sklearn\\discriminant_analysis.py:388: UserWarning: Variables are collinear.\n",
      "  warnings.warn(\"Variables are collinear.\")\n",
      "C:\\Users\\kush494\\AppData\\Local\\Continuum\\anaconda3\\lib\\site-packages\\sklearn\\discriminant_analysis.py:388: UserWarning: Variables are collinear.\n",
      "  warnings.warn(\"Variables are collinear.\")\n",
      "C:\\Users\\kush494\\AppData\\Local\\Continuum\\anaconda3\\lib\\site-packages\\sklearn\\discriminant_analysis.py:388: UserWarning: Variables are collinear.\n",
      "  warnings.warn(\"Variables are collinear.\")\n",
      "C:\\Users\\kush494\\AppData\\Local\\Continuum\\anaconda3\\lib\\site-packages\\sklearn\\discriminant_analysis.py:388: UserWarning: Variables are collinear.\n",
      "  warnings.warn(\"Variables are collinear.\")\n",
      "C:\\Users\\kush494\\AppData\\Local\\Continuum\\anaconda3\\lib\\site-packages\\sklearn\\discriminant_analysis.py:388: UserWarning: Variables are collinear.\n",
      "  warnings.warn(\"Variables are collinear.\")\n",
      "C:\\Users\\kush494\\AppData\\Local\\Continuum\\anaconda3\\lib\\site-packages\\sklearn\\discriminant_analysis.py:388: UserWarning: Variables are collinear.\n",
      "  warnings.warn(\"Variables are collinear.\")\n",
      "C:\\Users\\kush494\\AppData\\Local\\Continuum\\anaconda3\\lib\\site-packages\\sklearn\\discriminant_analysis.py:388: UserWarning: Variables are collinear.\n",
      "  warnings.warn(\"Variables are collinear.\")\n",
      "C:\\Users\\kush494\\AppData\\Local\\Continuum\\anaconda3\\lib\\site-packages\\sklearn\\discriminant_analysis.py:388: UserWarning: Variables are collinear.\n",
      "  warnings.warn(\"Variables are collinear.\")\n",
      "C:\\Users\\kush494\\AppData\\Local\\Continuum\\anaconda3\\lib\\site-packages\\sklearn\\discriminant_analysis.py:388: UserWarning: Variables are collinear.\n",
      "  warnings.warn(\"Variables are collinear.\")\n",
      "C:\\Users\\kush494\\AppData\\Local\\Continuum\\anaconda3\\lib\\site-packages\\sklearn\\discriminant_analysis.py:388: UserWarning: Variables are collinear.\n",
      "  warnings.warn(\"Variables are collinear.\")\n",
      "C:\\Users\\kush494\\AppData\\Local\\Continuum\\anaconda3\\lib\\site-packages\\sklearn\\discriminant_analysis.py:388: UserWarning: Variables are collinear.\n",
      "  warnings.warn(\"Variables are collinear.\")\n",
      "C:\\Users\\kush494\\AppData\\Local\\Continuum\\anaconda3\\lib\\site-packages\\sklearn\\discriminant_analysis.py:388: UserWarning: Variables are collinear.\n",
      "  warnings.warn(\"Variables are collinear.\")\n",
      "C:\\Users\\kush494\\AppData\\Local\\Continuum\\anaconda3\\lib\\site-packages\\sklearn\\discriminant_analysis.py:388: UserWarning: Variables are collinear.\n",
      "  warnings.warn(\"Variables are collinear.\")\n",
      "C:\\Users\\kush494\\AppData\\Local\\Continuum\\anaconda3\\lib\\site-packages\\sklearn\\discriminant_analysis.py:388: UserWarning: Variables are collinear.\n",
      "  warnings.warn(\"Variables are collinear.\")\n",
      "C:\\Users\\kush494\\AppData\\Local\\Continuum\\anaconda3\\lib\\site-packages\\sklearn\\discriminant_analysis.py:388: UserWarning: Variables are collinear.\n",
      "  warnings.warn(\"Variables are collinear.\")\n",
      "C:\\Users\\kush494\\AppData\\Local\\Continuum\\anaconda3\\lib\\site-packages\\sklearn\\discriminant_analysis.py:388: UserWarning: Variables are collinear.\n",
      "  warnings.warn(\"Variables are collinear.\")\n",
      "C:\\Users\\kush494\\AppData\\Local\\Continuum\\anaconda3\\lib\\site-packages\\sklearn\\discriminant_analysis.py:388: UserWarning: Variables are collinear.\n",
      "  warnings.warn(\"Variables are collinear.\")\n",
      "C:\\Users\\kush494\\AppData\\Local\\Continuum\\anaconda3\\lib\\site-packages\\sklearn\\discriminant_analysis.py:388: UserWarning: Variables are collinear.\n",
      "  warnings.warn(\"Variables are collinear.\")\n",
      "C:\\Users\\kush494\\AppData\\Local\\Continuum\\anaconda3\\lib\\site-packages\\sklearn\\discriminant_analysis.py:388: UserWarning: Variables are collinear.\n",
      "  warnings.warn(\"Variables are collinear.\")\n",
      "C:\\Users\\kush494\\AppData\\Local\\Continuum\\anaconda3\\lib\\site-packages\\sklearn\\discriminant_analysis.py:388: UserWarning: Variables are collinear.\n",
      "  warnings.warn(\"Variables are collinear.\")\n",
      "C:\\Users\\kush494\\AppData\\Local\\Continuum\\anaconda3\\lib\\site-packages\\sklearn\\discriminant_analysis.py:388: UserWarning: Variables are collinear.\n",
      "  warnings.warn(\"Variables are collinear.\")\n",
      "C:\\Users\\kush494\\AppData\\Local\\Continuum\\anaconda3\\lib\\site-packages\\sklearn\\discriminant_analysis.py:388: UserWarning: Variables are collinear.\n",
      "  warnings.warn(\"Variables are collinear.\")\n",
      "C:\\Users\\kush494\\AppData\\Local\\Continuum\\anaconda3\\lib\\site-packages\\sklearn\\discriminant_analysis.py:388: UserWarning: Variables are collinear.\n",
      "  warnings.warn(\"Variables are collinear.\")\n",
      "C:\\Users\\kush494\\AppData\\Local\\Continuum\\anaconda3\\lib\\site-packages\\sklearn\\discriminant_analysis.py:388: UserWarning: Variables are collinear.\n",
      "  warnings.warn(\"Variables are collinear.\")\n",
      "C:\\Users\\kush494\\AppData\\Local\\Continuum\\anaconda3\\lib\\site-packages\\sklearn\\discriminant_analysis.py:388: UserWarning: Variables are collinear.\n",
      "  warnings.warn(\"Variables are collinear.\")\n",
      "C:\\Users\\kush494\\AppData\\Local\\Continuum\\anaconda3\\lib\\site-packages\\sklearn\\discriminant_analysis.py:388: UserWarning: Variables are collinear.\n",
      "  warnings.warn(\"Variables are collinear.\")\n",
      "C:\\Users\\kush494\\AppData\\Local\\Continuum\\anaconda3\\lib\\site-packages\\sklearn\\discriminant_analysis.py:388: UserWarning: Variables are collinear.\n",
      "  warnings.warn(\"Variables are collinear.\")\n",
      "C:\\Users\\kush494\\AppData\\Local\\Continuum\\anaconda3\\lib\\site-packages\\sklearn\\discriminant_analysis.py:388: UserWarning: Variables are collinear.\n",
      "  warnings.warn(\"Variables are collinear.\")\n",
      "C:\\Users\\kush494\\AppData\\Local\\Continuum\\anaconda3\\lib\\site-packages\\sklearn\\discriminant_analysis.py:388: UserWarning: Variables are collinear.\n",
      "  warnings.warn(\"Variables are collinear.\")\n",
      "C:\\Users\\kush494\\AppData\\Local\\Continuum\\anaconda3\\lib\\site-packages\\sklearn\\discriminant_analysis.py:388: UserWarning: Variables are collinear.\n",
      "  warnings.warn(\"Variables are collinear.\")\n"
     ]
    },
    {
     "name": "stderr",
     "output_type": "stream",
     "text": [
      "C:\\Users\\kush494\\AppData\\Local\\Continuum\\anaconda3\\lib\\site-packages\\sklearn\\discriminant_analysis.py:388: UserWarning: Variables are collinear.\n",
      "  warnings.warn(\"Variables are collinear.\")\n",
      "C:\\Users\\kush494\\AppData\\Local\\Continuum\\anaconda3\\lib\\site-packages\\sklearn\\discriminant_analysis.py:388: UserWarning: Variables are collinear.\n",
      "  warnings.warn(\"Variables are collinear.\")\n",
      "C:\\Users\\kush494\\AppData\\Local\\Continuum\\anaconda3\\lib\\site-packages\\sklearn\\discriminant_analysis.py:388: UserWarning: Variables are collinear.\n",
      "  warnings.warn(\"Variables are collinear.\")\n",
      "C:\\Users\\kush494\\AppData\\Local\\Continuum\\anaconda3\\lib\\site-packages\\sklearn\\discriminant_analysis.py:388: UserWarning: Variables are collinear.\n",
      "  warnings.warn(\"Variables are collinear.\")\n",
      "C:\\Users\\kush494\\AppData\\Local\\Continuum\\anaconda3\\lib\\site-packages\\sklearn\\discriminant_analysis.py:388: UserWarning: Variables are collinear.\n",
      "  warnings.warn(\"Variables are collinear.\")\n",
      "C:\\Users\\kush494\\AppData\\Local\\Continuum\\anaconda3\\lib\\site-packages\\sklearn\\discriminant_analysis.py:388: UserWarning: Variables are collinear.\n",
      "  warnings.warn(\"Variables are collinear.\")\n",
      "C:\\Users\\kush494\\AppData\\Local\\Continuum\\anaconda3\\lib\\site-packages\\sklearn\\discriminant_analysis.py:388: UserWarning: Variables are collinear.\n",
      "  warnings.warn(\"Variables are collinear.\")\n",
      "C:\\Users\\kush494\\AppData\\Local\\Continuum\\anaconda3\\lib\\site-packages\\sklearn\\discriminant_analysis.py:388: UserWarning: Variables are collinear.\n",
      "  warnings.warn(\"Variables are collinear.\")\n",
      "C:\\Users\\kush494\\AppData\\Local\\Continuum\\anaconda3\\lib\\site-packages\\sklearn\\discriminant_analysis.py:388: UserWarning: Variables are collinear.\n",
      "  warnings.warn(\"Variables are collinear.\")\n",
      "C:\\Users\\kush494\\AppData\\Local\\Continuum\\anaconda3\\lib\\site-packages\\sklearn\\discriminant_analysis.py:388: UserWarning: Variables are collinear.\n",
      "  warnings.warn(\"Variables are collinear.\")\n",
      "C:\\Users\\kush494\\AppData\\Local\\Continuum\\anaconda3\\lib\\site-packages\\sklearn\\discriminant_analysis.py:388: UserWarning: Variables are collinear.\n",
      "  warnings.warn(\"Variables are collinear.\")\n",
      "C:\\Users\\kush494\\AppData\\Local\\Continuum\\anaconda3\\lib\\site-packages\\sklearn\\discriminant_analysis.py:388: UserWarning: Variables are collinear.\n",
      "  warnings.warn(\"Variables are collinear.\")\n"
     ]
    },
    {
     "name": "stdout",
     "output_type": "stream",
     "text": [
      "Best KNN parameters:\n",
      " {'classify__n_neighbors': 1, 'reduce_dim': PCA(copy=True, iterated_power='auto', n_components=2, random_state=None,\n",
      "  svd_solver='auto', tol=0.0, whiten=False), 'reduce_dim__n_components': 2}\n",
      "\n",
      "Best Cross-Validation score:\n",
      " 1.0\n"
     ]
    }
   ],
   "source": [
    "knn_grid = cu.knn_grid_search(4, 1)\n",
    "\n",
    "knn_grid.fit(mouse_data, mouse_labels)\n",
    "\n",
    "print('Best KNN parameters:\\n', knn_grid.best_params_)\n",
    "print('\\nBest Cross-Validation score:\\n', knn_grid.best_score_)"
   ]
  },
  {
   "cell_type": "code",
   "execution_count": 34,
   "metadata": {},
   "outputs": [
    {
     "name": "stdout",
     "output_type": "stream",
     "text": [
      "Prediction probabilities for sample:\n",
      "Brain : 0.0\n",
      "Heart : 0.0\n",
      "Kidney : 0.0\n",
      "Liver : 0.0\n",
      "Lung : 1.0\n"
     ]
    }
   ],
   "source": [
    "cu.show_prediction_probabilities(knn_grid, human_lung_data, 0)"
   ]
  },
  {
   "cell_type": "markdown",
   "metadata": {},
   "source": [
    "### Random Forest Grid Search"
   ]
  },
  {
   "cell_type": "code",
   "execution_count": 16,
   "metadata": {
    "scrolled": true
   },
   "outputs": [
    {
     "name": "stdout",
     "output_type": "stream",
     "text": [
      "Best Random Forest parameters:\n",
      " {'classify__min_samples_split': 2, 'classify__n_estimators': 25, 'reduce_dim': PCA(copy=True, iterated_power='auto', n_components=4, random_state=None,\n",
      "  svd_solver='auto', tol=0.0, whiten=False), 'reduce_dim__n_components': 4}\n",
      "\n",
      "Best F1-score:\n",
      " 1.0\n"
     ]
    }
   ],
   "source": [
    "rf_grid = cu.rf_grid_search(4, 1)\n",
    "#rf_grid = cu.rf_grid_search(4, 1, 'f1_micro')\n",
    "\n",
    "rf_grid.fit(mouse_data, mouse_labels)\n",
    "\n",
    "print('Best Random Forest parameters:\\n', rf_grid.best_params_)\n",
    "#print('\\nBest Cross-Validation score:\\n', rf_grid.best_score_)\n",
    "print('\\nBest F1-score:\\n', rf_grid.best_score_)"
   ]
  },
  {
   "cell_type": "code",
   "execution_count": 71,
   "metadata": {},
   "outputs": [
    {
     "name": "stdout",
     "output_type": "stream",
     "text": [
      "Standard Deviation: 0.0\n"
     ]
    }
   ],
   "source": [
    "# Get standard deviation for best model\n",
    "print('Standard Deviation:', rf_grid.cv_results_['std_test_score'][rf_grid.best_index_])"
   ]
  },
  {
   "cell_type": "code",
   "execution_count": 72,
   "metadata": {},
   "outputs": [
    {
     "name": "stdout",
     "output_type": "stream",
     "text": [
      "Prediction probabilities for sample:\n",
      "Brain : 0.44\n",
      "Heart : 0.08\n",
      "Kidney : 0.0\n",
      "Liver : 0.0\n",
      "Lung : 0.48\n"
     ]
    }
   ],
   "source": [
    "cu.show_prediction_probabilities(rf_grid, human_lung_data, 0)"
   ]
  },
  {
   "cell_type": "markdown",
   "metadata": {},
   "source": [
    "# Highly expressed proteins\n",
    "* Top n proteins contributing to PCA\n",
    "* Tukey test for each organ's top proteins\n",
    "* Top proteins by mean abundance per organ"
   ]
  },
  {
   "cell_type": "code",
   "execution_count": 38,
   "metadata": {},
   "outputs": [
    {
     "name": "stderr",
     "output_type": "stream",
     "text": [
      "C:\\Users\\kush494\\AppData\\Local\\Continuum\\anaconda3\\lib\\site-packages\\numpy\\core\\fromnumeric.py:2909: RuntimeWarning: Mean of empty slice.\n",
      "  out=out, **kwargs)\n",
      "C:\\Users\\kush494\\AppData\\Local\\Continuum\\anaconda3\\lib\\site-packages\\numpy\\core\\_methods.py:80: RuntimeWarning: invalid value encountered in double_scalars\n",
      "  ret = ret.dtype.type(ret / rcount)\n"
     ]
    }
   ],
   "source": [
    "tukeydict = mq.make_tukey_dict(mouse_data.T, mouse_labels)"
   ]
  },
  {
   "cell_type": "code",
   "execution_count": 41,
   "metadata": {},
   "outputs": [
    {
     "name": "stdout",
     "output_type": "stream",
     "text": [
      "['ES8L2', 'TNPO2', 'SGCD', 'PAXI', 'PERE']\n"
     ]
    }
   ],
   "source": [
    "top_brain_proteins = mq.top_n_enriched(5, 'Brain', tukeydict)\n",
    "print(list(x[0] for x in top_brain_proteins))"
   ]
  },
  {
   "cell_type": "code",
   "execution_count": 42,
   "metadata": {},
   "outputs": [
    {
     "name": "stdout",
     "output_type": "stream",
     "text": [
      "['TBB4B' 'TBA4A' 'HBA' 'G3P' 'KCRB']\n"
     ]
    }
   ],
   "source": [
    "test_dict = cu.get_descending_abundances(mouse_data.T, mouse_labels)\n",
    "\n",
    "top_liver_proteins = cu.n_most_abundant(test_dict, 'Brain', 5)\n",
    "print(top_liver_proteins)"
   ]
  }
 ],
 "metadata": {
  "kernelspec": {
   "display_name": "Python 3",
   "language": "python",
   "name": "python3"
  },
  "language_info": {
   "codemirror_mode": {
    "name": "ipython",
    "version": 3
   },
   "file_extension": ".py",
   "mimetype": "text/x-python",
   "name": "python",
   "nbconvert_exporter": "python",
   "pygments_lexer": "ipython3",
   "version": "3.6.3"
  },
  "toc": {
   "nav_menu": {},
   "number_sections": true,
   "sideBar": true,
   "skip_h1_title": false,
   "toc_cell": true,
   "toc_position": {},
   "toc_section_display": "block",
   "toc_window_display": false
  }
 },
 "nbformat": 4,
 "nbformat_minor": 2
}
