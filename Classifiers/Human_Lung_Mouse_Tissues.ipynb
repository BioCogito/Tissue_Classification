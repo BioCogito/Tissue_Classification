{
 "cells": [
  {
   "cell_type": "markdown",
   "metadata": {},
   "source": [
    "# Comparing human lung data to mouse tissues\n",
    "Variations tested:\n",
    "* Based on protein abundance\n",
    "* Normalizing all data together\n",
    "* iBAQ abundance values\n",
    "\n",
    "Variations to test:\n",
    "* Based on peptide abundance\n",
    "* Normalizing mouse and human data separately\n",
    "* LFQ abundance values"
   ]
  },
  {
   "cell_type": "code",
   "execution_count": 1,
   "metadata": {
    "collapsed": true
   },
   "outputs": [],
   "source": [
    "import os\n",
    "import sys\n",
    "module_path = os.path.abspath(os.path.join('..'))\n",
    "if module_path not in sys.path:\n",
    "    sys.path.append(module_path)"
   ]
  },
  {
   "cell_type": "code",
   "execution_count": 2,
   "metadata": {
    "collapsed": true
   },
   "outputs": [],
   "source": [
    "import Classification_Utils as cu\n",
    "import MaxQuant_Postprocessing_Functions as mq\n",
    "import pandas as pd"
   ]
  },
  {
   "cell_type": "markdown",
   "metadata": {},
   "source": [
    "## 1. Load mouse data"
   ]
  },
  {
   "cell_type": "code",
   "execution_count": 3,
   "metadata": {
    "collapsed": true
   },
   "outputs": [],
   "source": [
    "mouse_protein_file = \"D:\\proteinGroups.txt\"\n",
    "\n",
    "mouse_protein_df = mq.load_df(mouse_protein_file)\n",
    "mouse_protein_df = mq.clean_weakly_identified(mouse_protein_df)\n",
    "mouse_protein_df = mq.remove_dup_proteinIDs(mouse_protein_df)\n",
    "\n",
    "mouse_iBAQ_df = mq.slice_by_column(mouse_protein_df, 'protein', 'iBAQ ')\n",
    "mouse_LFQ_df = mq.slice_by_column(mouse_protein_df, 'protein', 'LFQ')\n",
    "\n",
    "mouse_iBAQ_df.columns = cu.rename_columns(mouse_iBAQ_df, 'Adult', 'Mouse')\n",
    "mouse_LFQ_df.columns = cu.rename_columns(mouse_LFQ_df, 'Adult', 'Mouse')\n",
    "\n",
    "mouse_groups = ['Brain', 'Heart', 'Kidney', 'Liver', 'Lung']\n",
    "mouse_organ_to_columns = {}\n",
    "mouse_organ_counts = {} \n",
    "\n",
    "mouse_iBAQ_df['Majority protein IDs'] = mouse_iBAQ_df['Majority protein IDs'].str[:-6] # strip off '_Mouse'\n",
    "mouse_LFQ_df['Majority protein IDs'] = mouse_LFQ_df['Majority protein IDs'].str[:-6] # strip off '_Mouse'\n",
    "mouse_iBAQ_df.set_index('Majority protein IDs', inplace = True)\n",
    "mouse_LFQ_df.set_index('Majority protein IDs', inplace = True)"
   ]
  },
  {
   "cell_type": "markdown",
   "metadata": {},
   "source": [
    "## 2. Load human data\n",
    "\n",
    "* Human dataset info:\n",
    "    * Instrument: QExactHF03\n",
    "    * Separation Type: LC-Waters-Formic_3hr\n",
    "    * Tool: MSGFPlus_MzMl\n",
    "    * Jobs: 1498824-1498852\n",
    "    * Param file: MSGFDB_PartTryp_MetOx_StatCysAlk_10ppmParTol.txt\n",
    "    * Unlabelled samples"
   ]
  },
  {
   "cell_type": "code",
   "execution_count": 4,
   "metadata": {},
   "outputs": [],
   "source": [
    "human_lung_protein_file = r'F:\\Human_Lung_Raw_Files\\LungMAP\\combined\\txt\\human_lung_proteinGroups.txt'\n",
    "human_groups = ['Human_Lung']\n",
    "\n",
    "human_lung_df = mq.load_df(human_lung_protein_file)\n",
    "human_lung_df = mq.clean_weakly_identified(human_lung_df)\n",
    "human_lung_df = mq.remove_dup_proteinIDs(human_lung_df)\n",
    "        \n",
    "human_lung_iBAQ_df = mq.slice_by_column(human_lung_df, 'protein', 'iBAQ ') \n",
    "human_lung_LFQ_df = mq.slice_by_column(human_lung_df, 'protein', 'LFQ')\n",
    "    \n",
    "human_lung_organ_columns = {}\n",
    "human_lung_organ_counts = {} \n",
    "\n",
    "human_lung_iBAQ_df['Majority protein IDs'] = human_lung_iBAQ_df['Majority protein IDs'].str[:-6]\n",
    "human_lung_LFQ_df['Majority protein IDs'] = human_lung_LFQ_df['Majority protein IDs'].str[:-6]\n",
    "human_lung_iBAQ_df.set_index('Majority protein IDs', inplace = True)\n",
    "human_lung_LFQ_df.set_index('Majority protein IDs', inplace = True)"
   ]
  },
  {
   "cell_type": "markdown",
   "metadata": {},
   "source": [
    "## 3. Load human-mouse correspondance data"
   ]
  },
  {
   "cell_type": "code",
   "execution_count": 5,
   "metadata": {},
   "outputs": [],
   "source": [
    "mapping_file = r'D:\\Human_Mouse_Mapping.txt'\n",
    "mapping_df = pd.read_csv(mapping_file, usecols=['Matched Term', 'Symbol', 'Species'], sep='\\t', lineterminator='\\r', encoding = 'latin1')\n",
    "mapping_df = mapping_df.replace(r'\\n','', regex=True)\n",
    "\n",
    "# Filter out entries not containing human in the \"Species\" column\n",
    "mapping_df = mapping_df[mapping_df['Species'].isnull() | mapping_df['Species'].str.contains('Human')]\n",
    "mapping_df.set_index('Matched Term', inplace=True)\n",
    "mapping_df.drop(['Species'], axis=1, inplace=True)\n",
    "\n",
    "mapping_df['Symbol'].replace(to_replace=' (includes others)', value='', inplace=True) # remove trailing comments"
   ]
  },
  {
   "cell_type": "code",
   "execution_count": 6,
   "metadata": {},
   "outputs": [],
   "source": [
    "#########################\n",
    "#\n",
    "# Change mouse proteinIDs to common symbol\n",
    "#\n",
    "#########################\n",
    "\n",
    "mouse_proteins = mouse_iBAQ_df.index.values.tolist()\n",
    "human_proteins = human_lung_iBAQ_df.index.values.tolist()\n",
    "raw_mappings = mapping_df.to_dict('index') # {mouse protein: {'Symbol': common protein}}\n",
    "mappings = {}\n",
    "\n",
    "# Break up rows with multiple mouse proteins\n",
    "for old_key, val in raw_mappings.items():\n",
    "    keys = old_key.split()\n",
    "    for new_key in keys:\n",
    "        mappings[new_key] = raw_mappings[old_key]\n",
    "        \n",
    "mouse_iBAQ_df.reset_index(inplace=True)\n",
    "\n",
    "for protein in mouse_proteins:\n",
    "    if protein not in human_proteins:\n",
    "        to_replace = protein + '_MOUSE'\n",
    "        if to_replace in mappings:\n",
    "            mapping = mappings[to_replace]\n",
    "            new_sym = mapping['Symbol']\n",
    "            mouse_iBAQ_df.replace(protein, new_sym, inplace=True)\n",
    "        \n",
    "mouse_iBAQ_df.set_index('Majority protein IDs', inplace=True)"
   ]
  },
  {
   "cell_type": "code",
   "execution_count": 7,
   "metadata": {
    "scrolled": true
   },
   "outputs": [
    {
     "name": "stdout",
     "output_type": "stream",
     "text": [
      "                      iBAQ Mouse_04_Liver  iBAQ Mouse_05_Liver  \\\n",
      "Majority protein IDs                                             \n",
      "1433B                          80377000.0          106810000.0   \n",
      "1433E                         251680000.0          225180000.0   \n",
      "1433F                          32883000.0           46963000.0   \n",
      "1433G                         175610000.0          166310000.0   \n",
      "1433S                          53834000.0           62327000.0   \n",
      "\n",
      "                      iBAQ Mouse_06_Liver  iBAQ Mouse_07_Brain  \\\n",
      "Majority protein IDs                                             \n",
      "1433B                         129430000.0         6.599400e+08   \n",
      "1433E                         266450000.0         1.231800e+09   \n",
      "1433F                          44594000.0         7.019100e+08   \n",
      "1433G                         193140000.0         1.754000e+09   \n",
      "1433S                          93074000.0         5.072200e+08   \n",
      "\n",
      "                      iBAQ Mouse_07_Heart  iBAQ Mouse_07_Kidney  \\\n",
      "Majority protein IDs                                              \n",
      "1433B                          54078000.0           169910000.0   \n",
      "1433E                         193410000.0           368010000.0   \n",
      "1433F                          24798000.0            35166000.0   \n",
      "1433G                         115540000.0           131330000.0   \n",
      "1433S                          42272000.0            74689000.0   \n",
      "\n",
      "                      iBAQ Mouse_07_Liver  iBAQ Mouse_07_Lung  \\\n",
      "Majority protein IDs                                            \n",
      "1433B                          77940000.0         332430000.0   \n",
      "1433E                         257470000.0         393090000.0   \n",
      "1433F                          29518000.0         109030000.0   \n",
      "1433G                         154720000.0         147280000.0   \n",
      "1433S                          68639000.0         151450000.0   \n",
      "\n",
      "                      iBAQ Mouse_08_Brain  iBAQ Mouse_08_Heart  \\\n",
      "Majority protein IDs                                             \n",
      "1433B                        9.433100e+08           60183000.0   \n",
      "1433E                        1.451000e+09          121180000.0   \n",
      "1433F                        5.770900e+08           21946000.0   \n",
      "1433G                        1.476700e+09           99853000.0   \n",
      "1433S                        5.345500e+08           37720000.0   \n",
      "\n",
      "                             ...          iBAQ Mouse_10_Kidney  \\\n",
      "Majority protein IDs         ...                                 \n",
      "1433B                        ...                   115650000.0   \n",
      "1433E                        ...                   184890000.0   \n",
      "1433F                        ...                    30022000.0   \n",
      "1433G                        ...                    56697000.0   \n",
      "1433S                        ...                    78205000.0   \n",
      "\n",
      "                      iBAQ Mouse_10_Lung  iBAQ Mouse_11_Brain  \\\n",
      "Majority protein IDs                                            \n",
      "1433B                        291270000.0         8.222900e+08   \n",
      "1433E                        424050000.0         1.287100e+09   \n",
      "1433F                         89131000.0         7.017700e+08   \n",
      "1433G                        155560000.0         1.538800e+09   \n",
      "1433S                        144720000.0         4.521600e+08   \n",
      "\n",
      "                      iBAQ Mouse_11_Heart  iBAQ Mouse_11_Kidney  \\\n",
      "Majority protein IDs                                              \n",
      "1433B                          52859000.0           165120000.0   \n",
      "1433E                         161890000.0           393810000.0   \n",
      "1433F                          24909000.0            43068000.0   \n",
      "1433G                         102610000.0            97743000.0   \n",
      "1433S                          39513000.0           105850000.0   \n",
      "\n",
      "                      iBAQ Mouse_11_Lung  iBAQ Mouse_12_Brain  \\\n",
      "Majority protein IDs                                            \n",
      "1433B                        298140000.0         8.423100e+08   \n",
      "1433E                        422710000.0         1.429700e+09   \n",
      "1433F                        101610000.0         6.760000e+08   \n",
      "1433G                        150430000.0         1.511300e+09   \n",
      "1433S                        150400000.0         5.030800e+08   \n",
      "\n",
      "                      iBAQ Mouse_12_Heart  iBAQ Mouse_12_Kidney  \\\n",
      "Majority protein IDs                                              \n",
      "1433B                          55172000.0           152600000.0   \n",
      "1433E                         178070000.0           346300000.0   \n",
      "1433F                          24179000.0            41688000.0   \n",
      "1433G                         122600000.0            77648000.0   \n",
      "1433S                          48631000.0            99962000.0   \n",
      "\n",
      "                      iBAQ Mouse_12_Lung  \n",
      "Majority protein IDs                      \n",
      "1433B                        217030000.0  \n",
      "1433E                        316550000.0  \n",
      "1433F                         85005000.0  \n",
      "1433G                        107480000.0  \n",
      "1433S                        131250000.0  \n",
      "\n",
      "[5 rows x 30 columns]\n"
     ]
    }
   ],
   "source": [
    "print(mouse_iBAQ_df.head())"
   ]
  },
  {
   "cell_type": "markdown",
   "metadata": {},
   "source": [
    "## 4. Combine data "
   ]
  },
  {
   "cell_type": "markdown",
   "metadata": {},
   "source": [
    "### a. Normalize Separately "
   ]
  },
  {
   "cell_type": "markdown",
   "metadata": {},
   "source": [
    "### b. Normalize Together "
   ]
  },
  {
   "cell_type": "code",
   "execution_count": 8,
   "metadata": {},
   "outputs": [
    {
     "name": "stderr",
     "output_type": "stream",
     "text": [
      "C:\\Users\\kush494\\Documents\\Proteomics_Data_Processing\\MaxQuant_Postprocessing_Functions.py:145: RuntimeWarning: divide by zero encountered in log2\n",
      "  df.iloc[:,:] = np.log2(df.iloc[:,:])\n"
     ]
    }
   ],
   "source": [
    "#########################\n",
    "#\n",
    "# Join mouse data to human data\n",
    "#\n",
    "#########################\n",
    "\n",
    "combined_df = mouse_iBAQ_df.join(human_lung_iBAQ_df)\n",
    "\n",
    "all_organs = ['Mouse.*Brain', 'Mouse.*Heart', 'Mouse.*Kidney', 'Mouse.*Liver', 'Mouse.*Lung', 'Human_Lung']\n",
    "organs_to_columns = {}\n",
    "organs_to_observed_counts = {}\n",
    "\n",
    "combined_df = mq.filter_low_observed(combined_df, all_organs, organs_to_columns, organs_to_observed_counts)\n",
    "mq.log2_normalize(combined_df)\n",
    "mq.median_normalize(combined_df)\n",
    "combined_df = mq.reorder_columns(combined_df, all_organs, organs_to_columns)"
   ]
  },
  {
   "cell_type": "markdown",
   "metadata": {},
   "source": [
    "## 5. Plots: Normalized Boxplot, PCA, Pearson matrix"
   ]
  },
  {
   "cell_type": "code",
   "execution_count": 9,
   "metadata": {
    "collapsed": true
   },
   "outputs": [],
   "source": [
    "base_dir = r'D:\\Images\\Classifier\\\\'\n",
    "combined_dir = base_dir + 'Human_Lung_Mouse_Tissues_'\n",
    "combined_color_mapping = mq.map_colors(all_organs, organs_to_columns)\n",
    "\n",
    "mq.make_seaborn_boxplot(combined_df, combined_dir, 'Median Normalized Boxplot', combined_color_mapping)\n",
    "\n",
    "combined_df = mq.impute_missing(combined_df)\n",
    "\n",
    "all_columns = combined_df.columns.values.tolist()"
   ]
  },
  {
   "cell_type": "code",
   "execution_count": 10,
   "metadata": {},
   "outputs": [],
   "source": [
    "combined_pca, combined_pca_data = mq.do_pca(combined_df, 'protein')\n",
    "\n",
    "combined_per_var, combined_labels = mq.make_scree_plot(combined_pca, combined_dir)\n",
    "mq.draw_pca_graph(all_columns, combined_pca_data, combined_dir, combined_color_mapping, combined_per_var, combined_labels)"
   ]
  },
  {
   "cell_type": "code",
   "execution_count": 11,
   "metadata": {},
   "outputs": [],
   "source": [
    "mq.make_pearson_matrix(combined_df, combined_dir, dimensions=(20,15))"
   ]
  },
  {
   "cell_type": "markdown",
   "metadata": {},
   "source": [
    "## 6. Classifiers "
   ]
  },
  {
   "cell_type": "code",
   "execution_count": 12,
   "metadata": {},
   "outputs": [],
   "source": [
    "#########################\n",
    "#\n",
    "# Split off mouse data for training and human data for testing\n",
    "#\n",
    "#########################\n",
    "\n",
    "human_lung_cols = human_lung_iBAQ_df.columns.values.tolist()\n",
    "mouse_cols = mouse_iBAQ_df.columns.values.tolist()\n",
    "\n",
    "mouse_data = combined_df[mouse_cols].T\n",
    "human_lung_data = combined_df[human_lung_cols].T"
   ]
  },
  {
   "cell_type": "code",
   "execution_count": 13,
   "metadata": {},
   "outputs": [],
   "source": [
    "mouse_organs_to_columns = {k:v for (k,v) in organs_to_columns.items() if 'Mouse' in k}\n",
    "human_organs_to_columns = {k:v for (k,v) in organs_to_columns.items() if 'Human' in k}"
   ]
  },
  {
   "cell_type": "code",
   "execution_count": 14,
   "metadata": {},
   "outputs": [],
   "source": [
    "#########################\n",
    "#\n",
    "# Get mouse (training) labels and human (test) labels\n",
    "#\n",
    "#########################\n",
    "\n",
    "mouse_labels = cu.get_labels(mouse_data, mouse_cols, mouse_organs_to_columns)\n",
    "mouse_labels = [label.replace('Mouse.*', '') for label in mouse_labels]\n",
    "\n",
    "human_lung_labels = cu.get_labels(human_lung_data, human_lung_cols, human_organs_to_columns)\n",
    "human_lung_labels = [label.replace('Human_', '') for label in human_lung_labels]"
   ]
  },
  {
   "cell_type": "markdown",
   "metadata": {},
   "source": [
    "### SVC variations"
   ]
  },
  {
   "cell_type": "code",
   "execution_count": 16,
   "metadata": {
    "scrolled": true
   },
   "outputs": [
    {
     "name": "stdout",
     "output_type": "stream",
     "text": [
      "\n",
      "*** Model:  SVC(C=1.0, cache_size=200, class_weight=None, coef0=0.0,\n",
      "  decision_function_shape='ovr', degree=3, gamma='auto', kernel='linear',\n",
      "  max_iter=-1, probability=False, random_state=None, shrinking=True,\n",
      "  tol=0.001, verbose=False) \n",
      "\n",
      "score 1.0\n",
      "pred label ['Lung' 'Lung' 'Lung' 'Lung' 'Lung' 'Lung' 'Lung' 'Lung' 'Lung' 'Lung'\n",
      " 'Lung' 'Lung' 'Lung' 'Lung' 'Lung' 'Lung' 'Lung' 'Lung' 'Lung' 'Lung'\n",
      " 'Lung' 'Lung' 'Lung' 'Lung' 'Lung' 'Lung' 'Lung' 'Lung' 'Lung']\n",
      "actual ['Lung', 'Lung', 'Lung', 'Lung', 'Lung', 'Lung', 'Lung', 'Lung', 'Lung', 'Lung', 'Lung', 'Lung', 'Lung', 'Lung', 'Lung', 'Lung', 'Lung', 'Lung', 'Lung', 'Lung', 'Lung', 'Lung', 'Lung', 'Lung', 'Lung', 'Lung', 'Lung', 'Lung', 'Lung']\n",
      "\n",
      "*** Model:  LinearSVC(C=1.0, class_weight=None, dual=True, fit_intercept=True,\n",
      "     intercept_scaling=1, loss='squared_hinge', max_iter=1000,\n",
      "     multi_class='ovr', penalty='l2', random_state=None, tol=0.0001,\n",
      "     verbose=0) \n",
      "\n",
      "score 1.0\n",
      "pred label ['Lung' 'Lung' 'Lung' 'Lung' 'Lung' 'Lung' 'Lung' 'Lung' 'Lung' 'Lung'\n",
      " 'Lung' 'Lung' 'Lung' 'Lung' 'Lung' 'Lung' 'Lung' 'Lung' 'Lung' 'Lung'\n",
      " 'Lung' 'Lung' 'Lung' 'Lung' 'Lung' 'Lung' 'Lung' 'Lung' 'Lung']\n",
      "actual ['Lung', 'Lung', 'Lung', 'Lung', 'Lung', 'Lung', 'Lung', 'Lung', 'Lung', 'Lung', 'Lung', 'Lung', 'Lung', 'Lung', 'Lung', 'Lung', 'Lung', 'Lung', 'Lung', 'Lung', 'Lung', 'Lung', 'Lung', 'Lung', 'Lung', 'Lung', 'Lung', 'Lung', 'Lung']\n",
      "\n",
      "*** Model:  SVC(C=1.0, cache_size=200, class_weight=None, coef0=0.0,\n",
      "  decision_function_shape='ovr', degree=3, gamma=0.7, kernel='rbf',\n",
      "  max_iter=-1, probability=False, random_state=None, shrinking=True,\n",
      "  tol=0.001, verbose=False) \n",
      "\n",
      "score 1.0\n",
      "pred label ['Lung' 'Lung' 'Lung' 'Lung' 'Lung' 'Lung' 'Lung' 'Lung' 'Lung' 'Lung'\n",
      " 'Lung' 'Lung' 'Lung' 'Lung' 'Lung' 'Lung' 'Lung' 'Lung' 'Lung' 'Lung'\n",
      " 'Lung' 'Lung' 'Lung' 'Lung' 'Lung' 'Lung' 'Lung' 'Lung' 'Lung']\n",
      "actual ['Lung', 'Lung', 'Lung', 'Lung', 'Lung', 'Lung', 'Lung', 'Lung', 'Lung', 'Lung', 'Lung', 'Lung', 'Lung', 'Lung', 'Lung', 'Lung', 'Lung', 'Lung', 'Lung', 'Lung', 'Lung', 'Lung', 'Lung', 'Lung', 'Lung', 'Lung', 'Lung', 'Lung', 'Lung']\n",
      "\n",
      "*** Model:  SVC(C=1.0, cache_size=200, class_weight=None, coef0=0.0,\n",
      "  decision_function_shape='ovr', degree=3, gamma='auto', kernel='poly',\n",
      "  max_iter=-1, probability=False, random_state=None, shrinking=True,\n",
      "  tol=0.001, verbose=False) \n",
      "\n",
      "score 1.0\n",
      "pred label ['Lung' 'Lung' 'Lung' 'Lung' 'Lung' 'Lung' 'Lung' 'Lung' 'Lung' 'Lung'\n",
      " 'Lung' 'Lung' 'Lung' 'Lung' 'Lung' 'Lung' 'Lung' 'Lung' 'Lung' 'Lung'\n",
      " 'Lung' 'Lung' 'Lung' 'Lung' 'Lung' 'Lung' 'Lung' 'Lung' 'Lung']\n",
      "actual ['Lung', 'Lung', 'Lung', 'Lung', 'Lung', 'Lung', 'Lung', 'Lung', 'Lung', 'Lung', 'Lung', 'Lung', 'Lung', 'Lung', 'Lung', 'Lung', 'Lung', 'Lung', 'Lung', 'Lung', 'Lung', 'Lung', 'Lung', 'Lung', 'Lung', 'Lung', 'Lung', 'Lung', 'Lung']\n"
     ]
    }
   ],
   "source": [
    "models = cu.SVC_models(mouse_data, mouse_labels, human_lung_data, human_lung_labels)"
   ]
  },
  {
   "cell_type": "markdown",
   "metadata": {},
   "source": [
    "### KNN"
   ]
  },
  {
   "cell_type": "code",
   "execution_count": null,
   "metadata": {
    "scrolled": false
   },
   "outputs": [],
   "source": [
    "knn = cu.knn_model_crossval(mouse_data, mouse_labels, 4)"
   ]
  },
  {
   "cell_type": "code",
   "execution_count": null,
   "metadata": {},
   "outputs": [],
   "source": [
    "human_lung_pred = cu.make_test_prediction(knn, human_lung_data, human_lung_labels)\n",
    "\n",
    "print(\"\\n\")\n",
    "cu.show_prediction_probabilities(knn, human_lung_data, 4)"
   ]
  },
  {
   "cell_type": "markdown",
   "metadata": {},
   "source": [
    "### Decision Tree"
   ]
  },
  {
   "cell_type": "code",
   "execution_count": null,
   "metadata": {},
   "outputs": [],
   "source": [
    "dt = cu.decisiontree_model_crossval(mouse_data, mouse_labels, 4)"
   ]
  },
  {
   "cell_type": "code",
   "execution_count": null,
   "metadata": {},
   "outputs": [],
   "source": [
    "human_lung_pred = cu.make_test_prediction(dt, human_lung_data, human_lung_labels)\n",
    "\n",
    "print(\"\\n\")\n",
    "cu.show_prediction_probabilities(dt, human_lung_data, 0)\n",
    "\n",
    "print(human_lung_data.T.iloc[:,:1])\n",
    "pred_probabilities = dt.predict_proba(human_lung_data.T.iloc[:,:1])\n",
    "classes = dt.classes_\n",
    "\n",
    "print('Prediction probabilities for sample:')\n",
    "for prob in zip(classes, pred_probabilities):\n",
    "    print(prob[0], ':', prob[1])"
   ]
  },
  {
   "cell_type": "markdown",
   "metadata": {},
   "source": [
    "## 7. Highly expressed proteins\n",
    "** Feature selection **\n",
    "* SelectKBest\n",
    "* SelectPercentile\n",
    "* MutualInfoClassif"
   ]
  },
  {
   "cell_type": "code",
   "execution_count": null,
   "metadata": {
    "collapsed": true
   },
   "outputs": [],
   "source": []
  }
 ],
 "metadata": {
  "kernelspec": {
   "display_name": "Python 3",
   "language": "python",
   "name": "python3"
  },
  "language_info": {
   "codemirror_mode": {
    "name": "ipython",
    "version": 3
   },
   "file_extension": ".py",
   "mimetype": "text/x-python",
   "name": "python",
   "nbconvert_exporter": "python",
   "pygments_lexer": "ipython3",
   "version": "3.6.3"
  }
 },
 "nbformat": 4,
 "nbformat_minor": 2
}
