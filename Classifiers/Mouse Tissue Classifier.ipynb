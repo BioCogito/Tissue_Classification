{
 "cells": [
  {
   "cell_type": "code",
   "execution_count": 88,
   "metadata": {
    "collapsed": true
   },
   "outputs": [],
   "source": [
    "import MaxQuant_Postprocessing_Functions as mq\n",
    "import re"
   ]
  },
  {
   "cell_type": "code",
   "execution_count": 89,
   "metadata": {},
   "outputs": [],
   "source": [
    "#########################\n",
    "#\n",
    "# Load and clean data\n",
    "#\n",
    "#########################\n",
    "\n",
    "file = \"D:\\proteinGroups.txt\"\n",
    "\n",
    "df = mq.load_df(file)\n",
    "df = mq.clean_weakly_identified(df)\n",
    "df = mq.remove_dup_proteinIDs(df)\n",
    "\n",
    "iBAQ_df = mq.slice_by_column(df, 'iBAQ ')\n",
    "\n",
    "# Rename columns\n",
    "columns = iBAQ_df.columns.values.tolist()\n",
    "new_columns = []\n",
    "for column in columns:\n",
    "    new_column = re.sub(r'Adult', 'Mouse', column)\n",
    "    new_columns.append(new_column)\n",
    "\n",
    "iBAQ_df.columns = new_columns\n",
    "\n",
    "groups = ['Brain', 'Heart', 'Kidney', 'Liver', 'Lung']\n",
    "organ_columns = {} # 'Liver': ['iBAQ 04_Liver', 'iBAQ 05_Liver', ...]\n",
    "organ_counts = {} # 'Liver': \n",
    "    \n",
    "iBAQ_df = mq.filter_low_observed(iBAQ_df, groups, organ_columns, organ_counts)"
   ]
  },
  {
   "cell_type": "code",
   "execution_count": 90,
   "metadata": {},
   "outputs": [
    {
     "name": "stderr",
     "output_type": "stream",
     "text": [
      "C:\\Users\\kush494\\AppData\\Local\\Continuum\\anaconda3\\lib\\site-packages\\pandas\\core\\frame.py:4451: RuntimeWarning: divide by zero encountered in log2\n",
      "  return lib.map_infer(x.asobject, func)\n"
     ]
    }
   ],
   "source": [
    "#########################\n",
    "#\n",
    "# Normalize data and impute missing values with data frame minimum/2\n",
    "#\n",
    "#########################\n",
    "\n",
    "mq.log2_normalize(iBAQ_df)\n",
    "mq.median_normalize(iBAQ_df)\n",
    "\n",
    "iBAQ_df['Majority protein IDs'] = iBAQ_df['Majority protein IDs'].str[:-6]\n",
    "iBAQ_df.set_index('Majority protein IDs', inplace = True)\n",
    "iBAQ_df = mq.impute_missing(iBAQ_df)"
   ]
  },
  {
   "cell_type": "code",
   "execution_count": 91,
   "metadata": {
    "collapsed": true
   },
   "outputs": [],
   "source": [
    "#########################\n",
    "#\n",
    "# Map each column name to a corresponding label\n",
    "#\n",
    "#########################\n",
    "\n",
    "\"\"\"\n",
    "Input: dataframe\n",
    "Output: List of strings representing the labels for each dataframe column\n",
    "\"\"\"\n",
    "def get_labels(df):\n",
    "    columns = iBAQ_df.columns.values.tolist()\n",
    "    labels = []\n",
    "\n",
    "    for column in columns:\n",
    "        key = next(key for key, value in organ_columns.items() if column in value)\n",
    "        labels.append(key)\n",
    "        \n",
    "    return labels"
   ]
  },
  {
   "cell_type": "code",
   "execution_count": 92,
   "metadata": {},
   "outputs": [
    {
     "name": "stdout",
     "output_type": "stream",
     "text": [
      "['iBAQ Mouse_07_Brain', 'iBAQ Mouse_08_Brain', 'iBAQ Mouse_09_Brain', 'iBAQ Mouse_10_Brain', 'iBAQ Mouse_11_Brain', 'iBAQ Mouse_12_Brain', 'iBAQ Mouse_07_Heart', 'iBAQ Mouse_08_Heart', 'iBAQ Mouse_09_Heart', 'iBAQ Mouse_10_Heart', 'iBAQ Mouse_11_Heart', 'iBAQ Mouse_12_Heart', 'iBAQ Mouse_07_Kidney', 'iBAQ Mouse_08_Kidney', 'iBAQ Mouse_09_Kidney', 'iBAQ Mouse_10_Kidney', 'iBAQ Mouse_11_Kidney', 'iBAQ Mouse_12_Kidney', 'iBAQ Mouse_04_Liver', 'iBAQ Mouse_05_Liver', 'iBAQ Mouse_06_Liver', 'iBAQ Mouse_07_Liver', 'iBAQ Mouse_08_Liver', 'iBAQ Mouse_09_Liver', 'iBAQ Mouse_07_Lung', 'iBAQ Mouse_08_Lung', 'iBAQ Mouse_09_Lung', 'iBAQ Mouse_10_Lung', 'iBAQ Mouse_11_Lung', 'iBAQ Mouse_12_Lung']\n",
      "['Brain', 'Brain', 'Brain', 'Brain', 'Brain', 'Brain', 'Heart', 'Heart', 'Heart', 'Heart', 'Heart', 'Heart', 'Kidney', 'Kidney', 'Kidney', 'Kidney', 'Kidney', 'Kidney', 'Liver', 'Liver', 'Liver', 'Liver', 'Liver', 'Liver', 'Lung', 'Lung', 'Lung', 'Lung', 'Lung', 'Lung']\n"
     ]
    }
   ],
   "source": [
    "iBAQ_df = iBAQ_df[organ_columns['Brain'] + organ_columns['Heart'] + organ_columns['Kidney'] + organ_columns['Liver'] + organ_columns['Lung']]\n",
    "\n",
    "labels = get_labels(iBAQ_df)\n",
    "print(iBAQ_df.columns.values.tolist())\n",
    "print(labels)"
   ]
  },
  {
   "cell_type": "code",
   "execution_count": 93,
   "metadata": {},
   "outputs": [
    {
     "name": "stdout",
     "output_type": "stream",
     "text": [
      "(20, 4399)\n",
      "(10, 4399)\n",
      "20\n",
      "10\n"
     ]
    }
   ],
   "source": [
    "import numpy as np\n",
    "from sklearn.decomposition import PCA\n",
    "from sklearn.svm import SVC\n",
    "from sklearn import cross_validation\n",
    "from sklearn import preprocessing\n",
    "\n",
    "# Transpose so that proteins are columns (components)\n",
    "# Scale data\n",
    "scaled_data = preprocessing.scale(iBAQ_df.T)\n",
    "\n",
    "#########################\n",
    "#\n",
    "# Split data and labels into test and train groups\n",
    "#\n",
    "#########################\n",
    "\n",
    "### Randomly split:\n",
    "#X_train, X_test, y_train, y_test = cross_validation.train_test_split(iBAQ_df.T, labels, test_size=0.4, random_state=0)\n",
    "\n",
    "X_train = np.concatenate([scaled_data[:4, :], scaled_data[6:10, :], scaled_data[12:16, :], scaled_data[18:22, :], scaled_data[24:28, :], scaled_data[30:34, :]], axis=0)\n",
    "\n",
    "X_test = np.concatenate([scaled_data[4:6, :], scaled_data[10:12, :], scaled_data[16:18, :], scaled_data[22:24, :], scaled_data[28:30, :], scaled_data[34:, :]], axis=0)\n",
    "\n",
    "y_train = labels[:4] + labels[6:10] + labels[12:16] + labels[18:22] + labels[24:28] + labels[30:34]\n",
    "y_test = labels[4:6] + labels[10:12] + labels[16:18] + labels[22:24] + labels[28:30] + labels[34:]\n",
    "\n",
    "print(X_train.shape)\n",
    "print(X_test.shape)\n",
    "print(len(y_train))\n",
    "print(len(y_test))"
   ]
  },
  {
   "cell_type": "code",
   "execution_count": 94,
   "metadata": {},
   "outputs": [
    {
     "name": "stdout",
     "output_type": "stream",
     "text": [
      "(20, 2)\n",
      "(10, 2)\n",
      "['Brain', 'Brain', 'Brain', 'Brain', 'Heart', 'Heart', 'Heart', 'Heart', 'Kidney', 'Kidney', 'Kidney', 'Kidney', 'Liver', 'Liver', 'Liver', 'Liver', 'Lung', 'Lung', 'Lung', 'Lung']\n"
     ]
    }
   ],
   "source": [
    "pca = PCA(n_components=2)\n",
    "pca.fit(X_train)\n",
    "X_t_train = pca.transform(X_train)\n",
    "X_t_test = pca.transform(X_test)\n",
    "\n",
    "print(X_t_train.shape)\n",
    "print(X_t_test.shape)\n",
    "print(y_train)"
   ]
  },
  {
   "cell_type": "code",
   "execution_count": 95,
   "metadata": {},
   "outputs": [],
   "source": [
    "#########################\n",
    "#\n",
    "# Draw PCA graph of training data\n",
    "#\n",
    "#########################\n",
    "\n",
    "import pandas as pd\n",
    "import matplotlib.pyplot as plt\n",
    "\n",
    "base_dir = 'D:\\\\Images\\\\Classifier\\\\'\n",
    "color_mapping = mq.map_colors(groups, organ_columns)\n",
    "columns = iBAQ_df.columns.values.tolist()\n",
    "train_columns = columns[:4] + columns[6:10] + columns[12:16] + columns[18:22] + columns[24:28] + columns[30:34]\n",
    "\n",
    "per_var, labels = mq.make_scree_plot(pca, base_dir)\n",
    "mq.draw_pca_graph(train_columns, X_t_train, base_dir, color_mapping, per_var, labels)"
   ]
  },
  {
   "cell_type": "markdown",
   "metadata": {},
   "source": [
    "## SVC"
   ]
  },
  {
   "cell_type": "code",
   "execution_count": 96,
   "metadata": {},
   "outputs": [
    {
     "name": "stdout",
     "output_type": "stream",
     "text": [
      "score 0.6\n",
      "pred label ['Heart' 'Heart' 'Heart' 'Heart' 'Heart' 'Heart' 'Liver' 'Liver' 'Lung'\n",
      " 'Lung']\n",
      "actual ['Brain', 'Brain', 'Heart', 'Heart', 'Kidney', 'Kidney', 'Liver', 'Liver', 'Lung', 'Lung']\n"
     ]
    }
   ],
   "source": [
    "#########################\n",
    "#\n",
    "# Basic SVC Classification\n",
    "#\n",
    "#########################\n",
    "\n",
    "from sklearn.metrics import accuracy_score\n",
    "\n",
    "clf = SVC()\n",
    "clf.fit(X_t_train, y_train)\n",
    "y_pred = clf.predict(X_t_test)\n",
    "\n",
    "print('score', accuracy_score(y_pred, y_test))\n",
    "print('pred label', clf.predict(X_t_test))\n",
    "print('actual', y_test)"
   ]
  },
  {
   "cell_type": "code",
   "execution_count": 97,
   "metadata": {
    "collapsed": true
   },
   "outputs": [],
   "source": [
    "#########################\n",
    "#\n",
    "# SVC Variations\n",
    "#\n",
    "#########################\n"
   ]
  },
  {
   "cell_type": "markdown",
   "metadata": {},
   "source": [
    "## K Neighbors"
   ]
  },
  {
   "cell_type": "code",
   "execution_count": 98,
   "metadata": {},
   "outputs": [
    {
     "name": "stdout",
     "output_type": "stream",
     "text": [
      "score 1.0\n",
      "pred ['Brain' 'Brain' 'Heart' 'Heart' 'Kidney' 'Kidney' 'Liver' 'Liver' 'Lung'\n",
      " 'Lung']\n",
      "actual ['Brain', 'Brain', 'Heart', 'Heart', 'Kidney', 'Kidney', 'Liver', 'Liver', 'Lung', 'Lung']\n"
     ]
    }
   ],
   "source": [
    "from sklearn.metrics import accuracy_score\n",
    "from sklearn.neighbors import KNeighborsClassifier\n",
    "\n",
    "knn = KNeighborsClassifier()\n",
    "knn.fit(X_t_train, y_train)\n",
    "y_pred = knn.predict(X_t_test)\n",
    "\n",
    "print('score', accuracy_score(y_pred, y_test))\n",
    "print('pred', y_pred)\n",
    "print('actual', y_test)"
   ]
  },
  {
   "cell_type": "markdown",
   "metadata": {},
   "source": [
    "## Testing classification of human lung"
   ]
  },
  {
   "cell_type": "code",
   "execution_count": 99,
   "metadata": {},
   "outputs": [
    {
     "name": "stderr",
     "output_type": "stream",
     "text": [
      "C:\\Users\\kush494\\AppData\\Local\\Continuum\\anaconda3\\lib\\site-packages\\pandas\\core\\frame.py:4451: RuntimeWarning: divide by zero encountered in log2\n",
      "  return lib.map_infer(x.asobject, func)\n"
     ]
    }
   ],
   "source": [
    "#########################\n",
    "#\n",
    "# Load and clean human data\n",
    "#\n",
    "#########################\n",
    "\n",
    "human_lung_file = r'F:\\Human_Lung_Raw_Files\\LungMAP\\combined\\txt\\human_lung_proteinGroups.txt'\n",
    "human_groups = ['Human_Lung']\n",
    "\n",
    "human_lung_df = mq.load_df(human_lung_file)\n",
    "human_lung_df = mq.clean_weakly_identified(human_lung_df)\n",
    "human_lung_df = mq.remove_dup_proteinIDs(human_lung_df)\n",
    "        \n",
    "human_lung_iBAQ_df = mq.slice_by_column(human_lung_df, 'iBAQ ') \n",
    "    \n",
    "human_lung_organ_columns = {} # 'Liver': ['iBAQ 04_Liver', 'iBAQ 05_Liver', ...]\n",
    "human_lung_organ_counts = {} # 'Liver': \n",
    "    \n",
    "human_lung_iBAQ_df = mq.filter_low_observed(human_lung_iBAQ_df, human_groups, human_lung_organ_columns, human_lung_organ_counts)\n",
    "\n",
    "human_lung_iBAQ_df['Majority protein IDs'] = human_lung_iBAQ_df['Majority protein IDs'].str[:-6]\n",
    "mq.log2_normalize(human_lung_iBAQ_df)\n",
    "mq.median_normalize(human_lung_iBAQ_df)\n",
    "\n",
    "human_lung_iBAQ_df.set_index('Majority protein IDs', inplace = True)\n",
    "human_lung_iBAQ_df = mq.impute_missing(human_lung_iBAQ_df)"
   ]
  },
  {
   "cell_type": "code",
   "execution_count": 100,
   "metadata": {},
   "outputs": [
    {
     "name": "stdout",
     "output_type": "stream",
     "text": [
      "['Brain', 'Heart', 'Kidney', 'Liver', 'Lung', 'Human_Lung']\n"
     ]
    }
   ],
   "source": [
    "# Join mouse data to human data so that human_t_test has same shape as trained data\n",
    "combined_df = iBAQ_df.join(human_lung_iBAQ_df)\n",
    "combined_df = mq.impute_missing(combined_df)\n",
    "all_columns = combined_df.columns.values.tolist()\n",
    "\n",
    "combined_pca, combined_pca_data = mq.do_pca(combined_df)\n",
    "\n",
    "# Add mapping of 'Human_Lung' to all human lung columns, and new organ group to groups\n",
    "organ_columns.update(human_lung_organ_columns)\n",
    "groups.append('Human_Lung')\n",
    "\n",
    "# Draw scree plot of all human and mouse tissues\n",
    "combined_dir = base_dir + 'Human_'\n",
    "combined_color_mapping = mq.map_colors(groups, organ_columns)\n",
    "\n",
    "combined_per_var, combined_labels = mq.make_scree_plot(combined_pca, combined_dir)\n",
    "mq.draw_pca_graph(all_columns, combined_pca_data, combined_dir, combined_color_mapping, combined_per_var, combined_labels)"
   ]
  },
  {
   "cell_type": "code",
   "execution_count": 101,
   "metadata": {},
   "outputs": [
    {
     "name": "stdout",
     "output_type": "stream",
     "text": [
      "pred ['Kidney' 'Kidney' 'Kidney' 'Kidney' 'Kidney' 'Kidney' 'Kidney' 'Kidney'\n",
      " 'Kidney' 'Kidney' 'Kidney' 'Kidney' 'Kidney' 'Kidney' 'Kidney' 'Kidney'\n",
      " 'Kidney' 'Kidney' 'Kidney' 'Kidney' 'Kidney' 'Kidney' 'Kidney' 'Kidney'\n",
      " 'Kidney' 'Kidney' 'Kidney' 'Kidney' 'Kidney']\n"
     ]
    },
    {
     "name": "stderr",
     "output_type": "stream",
     "text": [
      "C:\\Users\\kush494\\AppData\\Local\\Continuum\\anaconda3\\lib\\site-packages\\sklearn\\preprocessing\\data.py:181: UserWarning: Numerical issues were encountered when scaling the data and might not be solved. The standard deviation of the data is probably very close to 0. \n",
      "  warnings.warn(\"Numerical issues were encountered \"\n"
     ]
    }
   ],
   "source": [
    "### Make the prediction\n",
    "\n",
    "combined_df.drop(combined_df.columns[:30], axis=1, inplace=True) # Drop mouse data\n",
    "\n",
    "scaled_human_data = preprocessing.scale(combined_df.T)\n",
    "human_t_test = pca.transform(scaled_human_data)\n",
    "\n",
    "human_pred = knn.predict(human_t_test)\n",
    "print('pred', human_pred)"
   ]
  },
  {
   "cell_type": "code",
   "execution_count": 102,
   "metadata": {
    "collapsed": true
   },
   "outputs": [],
   "source": [
    "### Randomly select train and test groups"
   ]
  },
  {
   "cell_type": "markdown",
   "metadata": {},
   "source": [
    "## Random Forest"
   ]
  },
  {
   "cell_type": "markdown",
   "metadata": {},
   "source": [
    "## Decision Tree"
   ]
  },
  {
   "cell_type": "markdown",
   "metadata": {},
   "source": [
    "## Naive Bayes/LDA"
   ]
  }
 ],
 "metadata": {
  "kernelspec": {
   "display_name": "Python 3",
   "language": "python",
   "name": "python3"
  }
 },
 "nbformat": 4,
 "nbformat_minor": 2
}
