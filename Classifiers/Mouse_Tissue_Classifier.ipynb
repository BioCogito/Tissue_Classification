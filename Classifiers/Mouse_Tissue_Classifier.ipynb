{
 "cells": [
  {
   "cell_type": "code",
   "execution_count": 47,
   "metadata": {
    "collapsed": true
   },
   "outputs": [],
   "source": [
    "import os\n",
    "import sys\n",
    "module_path = os.path.abspath(os.path.join('..'))\n",
    "if module_path not in sys.path:\n",
    "    sys.path.append(module_path)"
   ]
  },
  {
   "cell_type": "code",
   "execution_count": 48,
   "metadata": {
    "collapsed": true
   },
   "outputs": [],
   "source": [
    "import MaxQuant_Postprocessing_Functions as mq\n",
    "import re\n",
    "from sklearn import tree\n",
    "from sklearn.model_selection import cross_val_score\n",
    "from sklearn.pipeline import Pipeline"
   ]
  },
  {
   "cell_type": "code",
   "execution_count": 49,
   "metadata": {},
   "outputs": [
    {
     "data": {
      "text/html": [
       "<style>\n",
       "  table {margin-left: 0 !important;}\n",
       "</style>"
      ],
      "text/plain": [
       "<IPython.core.display.HTML object>"
      ]
     },
     "metadata": {},
     "output_type": "display_data"
    }
   ],
   "source": [
    "%%html\n",
    "<style>\n",
    "  table {margin-left: 0 !important;}\n",
    "</style>"
   ]
  },
  {
   "cell_type": "markdown",
   "metadata": {},
   "source": [
    "# Classify mouse tissue using protein and peptide abundance data\n",
    "* Use proteinGroups.txt or peptides.txt outputted from MaxQuant\n",
    "* SVC variations\n",
    "* K neighbors\n",
    "* Decision tree\n",
    "\n",
    "** With train-test split, test_size = 0.4:**\n",
    "\n",
    "Algorithm | Accuracy Score\n",
    ":-----:|:-----:\n",
    "SVC kernel = linear | 1.0\n",
    "LinearSVC | 0.75\n",
    "SVC kernel = rbf | 0.167\n",
    "SVC kernel = poly | 1.0\n",
    "KNN | 1.0\n",
    "Decision Tree | 0.67"
   ]
  },
  {
   "cell_type": "markdown",
   "metadata": {},
   "source": [
    "## Load and clean mouse data"
   ]
  },
  {
   "cell_type": "code",
   "execution_count": 50,
   "metadata": {
    "collapsed": true
   },
   "outputs": [],
   "source": [
    "file = \"D:\\proteinGroups.txt\"\n",
    "\n",
    "df = mq.load_df(file)\n",
    "df = mq.clean_weakly_identified(df)\n",
    "df = mq.remove_dup_proteinIDs(df)\n",
    "\n",
    "iBAQ_df = mq.slice_by_column(df, 'protein', 'iBAQ ')\n",
    "\n",
    "# Rename columns so that all instances \"before\" string are replaced with \"after\" string\n",
    "def rename_columns(df, before, after):\n",
    "    columns = df.columns.values.tolist()\n",
    "    new_columns = []\n",
    "    for column in columns:\n",
    "        new_column = re.sub(before, after, column)\n",
    "        new_columns.append(new_column)\n",
    "        \n",
    "    return new_columns\n",
    "\n",
    "iBAQ_df.columns = rename_columns(iBAQ_df, 'Adult', 'Mouse')\n",
    "\n",
    "groups = ['Brain', 'Heart', 'Kidney', 'Liver', 'Lung']\n",
    "organ_columns = {} # 'Liver': ['iBAQ 04_Liver', 'iBAQ 05_Liver', ...]\n",
    "organ_counts = {} # 'Liver': \n",
    "    \n",
    "iBAQ_df = mq.filter_low_observed(iBAQ_df, groups, organ_columns, organ_counts)"
   ]
  },
  {
   "cell_type": "markdown",
   "metadata": {},
   "source": [
    "## Normalize data and impute missing values with (data frame minimum/2)"
   ]
  },
  {
   "cell_type": "code",
   "execution_count": 51,
   "metadata": {},
   "outputs": [
    {
     "name": "stderr",
     "output_type": "stream",
     "text": [
      "C:\\Users\\kush494\\Documents\\Proteomics_Data_Processing\\MaxQuant_Postprocessing_Functions.py:147: RuntimeWarning: divide by zero encountered in log2\n",
      "  df.iloc[:,1:] = np.log2(df.iloc[:,1:])\n"
     ]
    }
   ],
   "source": [
    "mq.log2_normalize(iBAQ_df)\n",
    "mq.median_normalize(iBAQ_df)\n",
    "\n",
    "iBAQ_df['Majority protein IDs'] = iBAQ_df['Majority protein IDs'].str[:-6] # strip off '_Mouse'\n",
    "iBAQ_df.set_index('Majority protein IDs', inplace = True)\n",
    "iBAQ_df = mq.impute_missing(iBAQ_df)"
   ]
  },
  {
   "cell_type": "markdown",
   "metadata": {},
   "source": [
    "## Map each column name to a corresponding label"
   ]
  },
  {
   "cell_type": "code",
   "execution_count": 52,
   "metadata": {
    "collapsed": true
   },
   "outputs": [],
   "source": [
    "\"\"\"\n",
    "Args: \n",
    "    df (dataframe)\n",
    "    columns (list of strings): list of all column names in df\n",
    "    organ_to_columns (dict): mapping of each organ to its column names {str: list of str}\n",
    "    \n",
    "Returns: \n",
    "    List of strings representing the labels for each dataframe column\n",
    "\"\"\"\n",
    "def get_labels(df, columns, organ_to_columns):\n",
    "    labels = []\n",
    "\n",
    "    for column in columns:\n",
    "        key = next(key for key, value in organ_to_columns.items() if column in value)\n",
    "        labels.append(key)\n",
    "        \n",
    "    return labels"
   ]
  },
  {
   "cell_type": "code",
   "execution_count": 53,
   "metadata": {},
   "outputs": [
    {
     "name": "stdout",
     "output_type": "stream",
     "text": [
      "['iBAQ Mouse_07_Brain', 'iBAQ Mouse_08_Brain', 'iBAQ Mouse_09_Brain', 'iBAQ Mouse_10_Brain', 'iBAQ Mouse_11_Brain', 'iBAQ Mouse_12_Brain', 'iBAQ Mouse_07_Heart', 'iBAQ Mouse_08_Heart', 'iBAQ Mouse_09_Heart', 'iBAQ Mouse_10_Heart', 'iBAQ Mouse_11_Heart', 'iBAQ Mouse_12_Heart', 'iBAQ Mouse_07_Kidney', 'iBAQ Mouse_08_Kidney', 'iBAQ Mouse_09_Kidney', 'iBAQ Mouse_10_Kidney', 'iBAQ Mouse_11_Kidney', 'iBAQ Mouse_12_Kidney', 'iBAQ Mouse_04_Liver', 'iBAQ Mouse_05_Liver', 'iBAQ Mouse_06_Liver', 'iBAQ Mouse_07_Liver', 'iBAQ Mouse_08_Liver', 'iBAQ Mouse_09_Liver', 'iBAQ Mouse_07_Lung', 'iBAQ Mouse_08_Lung', 'iBAQ Mouse_09_Lung', 'iBAQ Mouse_10_Lung', 'iBAQ Mouse_11_Lung', 'iBAQ Mouse_12_Lung']\n",
      "['Brain', 'Brain', 'Brain', 'Brain', 'Brain', 'Brain', 'Heart', 'Heart', 'Heart', 'Heart', 'Heart', 'Heart', 'Kidney', 'Kidney', 'Kidney', 'Kidney', 'Kidney', 'Kidney', 'Liver', 'Liver', 'Liver', 'Liver', 'Liver', 'Liver', 'Lung', 'Lung', 'Lung', 'Lung', 'Lung', 'Lung']\n"
     ]
    }
   ],
   "source": [
    "iBAQ_df = iBAQ_df[organ_columns['Brain'] + organ_columns['Heart'] + organ_columns['Kidney'] + organ_columns['Liver'] + organ_columns['Lung']]\n",
    "\n",
    "columns = iBAQ_df.columns.values.tolist()\n",
    "col_labels = get_labels(iBAQ_df, columns, organ_columns)\n",
    "\n",
    "print(columns)\n",
    "print(col_labels)"
   ]
  },
  {
   "cell_type": "markdown",
   "metadata": {},
   "source": [
    "# Split data and labels into test and train groups\n",
    "* X_train and X_test represent raw subsets of the original dataframe\n",
    "* X_t_train and X_t_test represent data transformed by PCA"
   ]
  },
  {
   "cell_type": "code",
   "execution_count": 54,
   "metadata": {},
   "outputs": [
    {
     "name": "stdout",
     "output_type": "stream",
     "text": [
      "(18, 4399)\n",
      "(12, 4399)\n"
     ]
    }
   ],
   "source": [
    "import numpy as np\n",
    "from sklearn.decomposition import PCA\n",
    "from sklearn.svm import SVC\n",
    "from sklearn import cross_validation\n",
    "from sklearn import preprocessing\n",
    "\n",
    "# Transpose so that proteins are columns (components)\n",
    "# Scale data\n",
    "scaled_data = preprocessing.scale(iBAQ_df.T)\n",
    "\n",
    "X_train, X_test, y_train, y_test = cross_validation.train_test_split(iBAQ_df.T, col_labels, test_size=0.4, random_state=0, stratify=col_labels)\n",
    "\n",
    "print(X_train.shape)\n",
    "print(X_test.shape)"
   ]
  },
  {
   "cell_type": "markdown",
   "metadata": {},
   "source": [
    "## Draw PCA plots"
   ]
  },
  {
   "cell_type": "code",
   "execution_count": 55,
   "metadata": {},
   "outputs": [],
   "source": [
    "import pandas as pd\n",
    "import matplotlib.pyplot as plt\n",
    "\n",
    "base_dir = 'D:\\\\Images\\\\Classifier\\\\'\n",
    "color_mapping = mq.map_colors(groups, organ_columns)\n",
    "columns = iBAQ_df.columns.values.tolist()\n",
    "\n",
    "pca, pca_data = mq.do_pca(iBAQ_df.copy(), 'protein')\n",
    "per_var, labels = mq.make_scree_plot(pca, base_dir)\n",
    "mq.draw_pca_graph(columns, pca_data, base_dir, color_mapping, per_var, labels)"
   ]
  },
  {
   "cell_type": "code",
   "execution_count": 56,
   "metadata": {},
   "outputs": [
    {
     "name": "stdout",
     "output_type": "stream",
     "text": [
      "(18, 2)\n",
      "(12, 2)\n",
      "['Lung', 'Liver', 'Heart', 'Heart', 'Kidney', 'Liver', 'Heart', 'Kidney', 'Kidney', 'Liver', 'Brain', 'Kidney', 'Brain', 'Brain', 'Brain', 'Lung', 'Lung', 'Heart']\n"
     ]
    }
   ],
   "source": [
    "pca = PCA(n_components=2)\n",
    "pca.fit(X_train)\n",
    "X_t_train = pca.transform(X_train)\n",
    "X_t_test = pca.transform(X_test)\n",
    "\n",
    "print(X_t_train.shape)\n",
    "print(X_t_test.shape)\n",
    "print(y_train)"
   ]
  },
  {
   "cell_type": "markdown",
   "metadata": {},
   "source": [
    "## SVC and Variations"
   ]
  },
  {
   "cell_type": "code",
   "execution_count": 57,
   "metadata": {},
   "outputs": [
    {
     "name": "stdout",
     "output_type": "stream",
     "text": [
      "score 0.166666666667\n",
      "pred label ['Heart' 'Heart' 'Heart' 'Heart' 'Heart' 'Heart' 'Heart' 'Heart' 'Heart'\n",
      " 'Heart' 'Heart' 'Heart']\n",
      "actual ['Brain', 'Lung', 'Lung', 'Kidney', 'Heart', 'Liver', 'Liver', 'Heart', 'Liver', 'Kidney', 'Lung', 'Brain']\n"
     ]
    }
   ],
   "source": [
    "#########################\n",
    "#\n",
    "# Basic SVC Classification with train-test split\n",
    "#\n",
    "#########################\n",
    "\n",
    "from sklearn.metrics import accuracy_score\n",
    "\n",
    "clf = SVC(C=1)\n",
    "clf.fit(X_t_train, y_train)\n",
    "y_pred = clf.predict(X_t_test)\n",
    "\n",
    "print('score', accuracy_score(y_pred, y_test))\n",
    "print('pred label', clf.predict(X_t_test))\n",
    "print('actual', y_test)"
   ]
  },
  {
   "cell_type": "code",
   "execution_count": 58,
   "metadata": {},
   "outputs": [
    {
     "name": "stdout",
     "output_type": "stream",
     "text": [
      "[ 0.8  0.9  1.   0.4]\n",
      "Accuracy: 0.78 (+/- 0.46)\n"
     ]
    }
   ],
   "source": [
    "#########################\n",
    "#\n",
    "# Basic SVC Classification with cross-validation\n",
    "#\n",
    "#########################\n",
    "clf2 = SVC(C=1)\n",
    "scores = cross_val_score(clf2, iBAQ_df.T, col_labels, cv=4)\n",
    "print(scores)\n",
    "print(\"Accuracy: %0.2f (+/- %0.2f)\" % (scores.mean(), scores.std() * 2))"
   ]
  },
  {
   "cell_type": "code",
   "execution_count": 59,
   "metadata": {
    "collapsed": true
   },
   "outputs": [],
   "source": [
    "from sklearn.svm import LinearSVC\n",
    "\n",
    "#########################\n",
    "#\n",
    "# SVC variations with train-test split\n",
    "#\n",
    "#########################\n",
    "\n",
    "def try_SVC_models(X_train, y_train, X_test, y_test):\n",
    "    C = 1.0  # SVM regularization parameter\n",
    "    models = (SVC(kernel='linear', C=C),\n",
    "              LinearSVC(C=C),\n",
    "              SVC(kernel='rbf', gamma=0.7, C=C),\n",
    "              SVC(kernel='poly', degree=3, C=C))\n",
    "\n",
    "    # Fit all the models\n",
    "    models = (clf.fit(X_train, y_train) for clf in models)\n",
    "\n",
    "    for model in models:\n",
    "        model_y_pred = model.predict(X_test)\n",
    "        print('\\n*** Model: ', model, '\\n')\n",
    "        print('score', accuracy_score(model_y_pred, y_test))\n",
    "        print('pred label', model_y_pred)\n",
    "        print('actual', y_test)"
   ]
  },
  {
   "cell_type": "code",
   "execution_count": 60,
   "metadata": {},
   "outputs": [
    {
     "name": "stdout",
     "output_type": "stream",
     "text": [
      "\n",
      "*** Model:  SVC(C=1.0, cache_size=200, class_weight=None, coef0=0.0,\n",
      "  decision_function_shape='ovr', degree=3, gamma='auto', kernel='linear',\n",
      "  max_iter=-1, probability=False, random_state=None, shrinking=True,\n",
      "  tol=0.001, verbose=False) \n",
      "\n",
      "score 1.0\n",
      "pred label ['Brain' 'Lung' 'Lung' 'Kidney' 'Heart' 'Liver' 'Liver' 'Heart' 'Liver'\n",
      " 'Kidney' 'Lung' 'Brain']\n",
      "actual ['Brain', 'Lung', 'Lung', 'Kidney', 'Heart', 'Liver', 'Liver', 'Heart', 'Liver', 'Kidney', 'Lung', 'Brain']\n",
      "\n",
      "*** Model:  LinearSVC(C=1.0, class_weight=None, dual=True, fit_intercept=True,\n",
      "     intercept_scaling=1, loss='squared_hinge', max_iter=1000,\n",
      "     multi_class='ovr', penalty='l2', random_state=None, tol=0.0001,\n",
      "     verbose=0) \n",
      "\n",
      "score 0.583333333333\n",
      "pred label ['Brain' 'Lung' 'Lung' 'Lung' 'Heart' 'Lung' 'Lung' 'Heart' 'Lung' 'Lung'\n",
      " 'Lung' 'Brain']\n",
      "actual ['Brain', 'Lung', 'Lung', 'Kidney', 'Heart', 'Liver', 'Liver', 'Heart', 'Liver', 'Kidney', 'Lung', 'Brain']\n",
      "\n",
      "*** Model:  SVC(C=1.0, cache_size=200, class_weight=None, coef0=0.0,\n",
      "  decision_function_shape='ovr', degree=3, gamma=0.7, kernel='rbf',\n",
      "  max_iter=-1, probability=False, random_state=None, shrinking=True,\n",
      "  tol=0.001, verbose=False) \n",
      "\n",
      "score 0.166666666667\n",
      "pred label ['Heart' 'Heart' 'Heart' 'Heart' 'Heart' 'Heart' 'Heart' 'Heart' 'Heart'\n",
      " 'Heart' 'Heart' 'Heart']\n",
      "actual ['Brain', 'Lung', 'Lung', 'Kidney', 'Heart', 'Liver', 'Liver', 'Heart', 'Liver', 'Kidney', 'Lung', 'Brain']\n",
      "\n",
      "*** Model:  SVC(C=1.0, cache_size=200, class_weight=None, coef0=0.0,\n",
      "  decision_function_shape='ovr', degree=3, gamma='auto', kernel='poly',\n",
      "  max_iter=-1, probability=False, random_state=None, shrinking=True,\n",
      "  tol=0.001, verbose=False) \n",
      "\n",
      "score 1.0\n",
      "pred label ['Brain' 'Lung' 'Lung' 'Kidney' 'Heart' 'Liver' 'Liver' 'Heart' 'Liver'\n",
      " 'Kidney' 'Lung' 'Brain']\n",
      "actual ['Brain', 'Lung', 'Lung', 'Kidney', 'Heart', 'Liver', 'Liver', 'Heart', 'Liver', 'Kidney', 'Lung', 'Brain']\n"
     ]
    }
   ],
   "source": [
    "try_SVC_models(X_t_train, y_train, X_t_test, y_test)"
   ]
  },
  {
   "cell_type": "markdown",
   "metadata": {},
   "source": [
    "## K Neighbors"
   ]
  },
  {
   "cell_type": "markdown",
   "metadata": {},
   "source": [
    "### Using train-test split"
   ]
  },
  {
   "cell_type": "code",
   "execution_count": 61,
   "metadata": {},
   "outputs": [
    {
     "name": "stdout",
     "output_type": "stream",
     "text": [
      "score 1.0\n",
      "pred ['Brain' 'Lung' 'Lung' 'Kidney' 'Heart' 'Liver' 'Liver' 'Heart' 'Liver'\n",
      " 'Kidney' 'Lung' 'Brain']\n",
      "actual ['Brain', 'Lung', 'Lung', 'Kidney', 'Heart', 'Liver', 'Liver', 'Heart', 'Liver', 'Kidney', 'Lung', 'Brain']\n"
     ]
    }
   ],
   "source": [
    "from sklearn.metrics import accuracy_score\n",
    "from sklearn.neighbors import KNeighborsClassifier\n",
    "\n",
    "knn = KNeighborsClassifier()\n",
    "knn.fit(X_t_train, y_train)\n",
    "y_pred = knn.predict(X_t_test)\n",
    "\n",
    "print('score', accuracy_score(y_pred, y_test))\n",
    "print('pred', y_pred)\n",
    "print('actual', y_test)"
   ]
  },
  {
   "cell_type": "markdown",
   "metadata": {},
   "source": [
    "### Using cross-validation"
   ]
  },
  {
   "cell_type": "code",
   "execution_count": 62,
   "metadata": {},
   "outputs": [
    {
     "name": "stdout",
     "output_type": "stream",
     "text": [
      "[ 1.  1.  1.  1.]\n",
      "Accuracy: 1.00 (+/- 0.00)\n"
     ]
    },
    {
     "data": {
      "text/plain": [
       "KNeighborsClassifier(algorithm='auto', leaf_size=30, metric='minkowski',\n",
       "           metric_params=None, n_jobs=1, n_neighbors=5, p=2,\n",
       "           weights='uniform')"
      ]
     },
     "execution_count": 62,
     "metadata": {},
     "output_type": "execute_result"
    }
   ],
   "source": [
    "knn2 = KNeighborsClassifier()\n",
    "scores = cross_val_score(knn2, iBAQ_df.T, col_labels, cv=4)\n",
    "print(scores)\n",
    "print(\"Accuracy: %0.2f (+/- %0.2f)\" % (scores.mean(), scores.std() * 2))\n",
    "\n",
    "knn2.fit(iBAQ_df.T, col_labels)"
   ]
  },
  {
   "cell_type": "markdown",
   "metadata": {},
   "source": [
    "### Using SKLearn Pipeline, PCA transformation"
   ]
  },
  {
   "cell_type": "code",
   "execution_count": 63,
   "metadata": {},
   "outputs": [
    {
     "name": "stdout",
     "output_type": "stream",
     "text": [
      "score 1.0\n",
      "pred ['Brain' 'Lung' 'Lung' 'Kidney' 'Heart' 'Liver' 'Liver' 'Heart' 'Liver'\n",
      " 'Kidney' 'Lung' 'Brain']\n",
      "actual ['Brain', 'Lung', 'Lung', 'Kidney', 'Heart', 'Liver', 'Liver', 'Heart', 'Liver', 'Kidney', 'Lung', 'Brain']\n"
     ]
    }
   ],
   "source": [
    "pipe = Pipeline([('pca', PCA()),\n",
    "                 ('knn', KNeighborsClassifier())])\n",
    "\n",
    "pipe.fit(X_train, y_train)\n",
    "\n",
    "pipe_pred = pipe.predict(X_test)\n",
    "print('score', accuracy_score(pipe_pred, y_test))\n",
    "print('pred', pipe_pred)\n",
    "print('actual', y_test)"
   ]
  },
  {
   "cell_type": "markdown",
   "metadata": {},
   "source": [
    "## Decision Tree"
   ]
  },
  {
   "cell_type": "code",
   "execution_count": 26,
   "metadata": {},
   "outputs": [
    {
     "name": "stdout",
     "output_type": "stream",
     "text": [
      "score 0.833333333333\n",
      "pred ['Brain' 'Lung' 'Lung' 'Kidney' 'Brain' 'Liver' 'Liver' 'Brain' 'Liver'\n",
      " 'Kidney' 'Lung' 'Brain']\n",
      "actual ['Brain', 'Lung', 'Lung', 'Kidney', 'Heart', 'Liver', 'Liver', 'Heart', 'Liver', 'Kidney', 'Lung', 'Brain']\n"
     ]
    }
   ],
   "source": [
    "decision_tree_clf = tree.DecisionTreeClassifier()\n",
    "decision_tree_clf = decision_tree_clf.fit(X_t_train, y_train)\n",
    "dt_pred = decision_tree_clf.predict(X_t_test)\n",
    "\n",
    "print('score', accuracy_score(dt_pred, y_test))\n",
    "print('pred', dt_pred)\n",
    "print('actual', y_test)"
   ]
  },
  {
   "cell_type": "code",
   "execution_count": 27,
   "metadata": {},
   "outputs": [
    {
     "name": "stdout",
     "output_type": "stream",
     "text": [
      "[ 0.8  0.9  0.8  1. ]\n",
      "Accuracy: 0.88 (+/- 0.17)\n"
     ]
    }
   ],
   "source": [
    "dt2 = tree.DecisionTreeClassifier()\n",
    "scores = cross_val_score(dt2, iBAQ_df.T, col_labels, cv=4)\n",
    "print(scores)\n",
    "print(\"Accuracy: %0.2f (+/- %0.2f)\" % (scores.mean(), scores.std() * 2))"
   ]
  },
  {
   "cell_type": "markdown",
   "metadata": {},
   "source": [
    "## Random Forest"
   ]
  },
  {
   "cell_type": "markdown",
   "metadata": {},
   "source": [
    "## Naive Bayes/LDA"
   ]
  },
  {
   "cell_type": "markdown",
   "metadata": {},
   "source": [
    "# Classify using Peptide Data\n",
    "* Use peptides.txt output from MaxQuant\n",
    "* SVC varations\n",
    "* K nearest neighbors\n",
    "* Decision tree\n",
    "\n",
    "** With train-test split, test_size = 0.4: **\n",
    "\n",
    "Algorithm | Accuracy Score\n",
    ":-----:|:-----:\n",
    "SVC kernel = linear | 1.0\n",
    "LinearSVC | 1.0\n",
    "SVC kernel = rbf | 0.167\n",
    "SVC kernel = poly | 0.917\n",
    "KNN | 1.0\n",
    "Decision Tree | 1.0"
   ]
  },
  {
   "cell_type": "markdown",
   "metadata": {},
   "source": [
    "## Load and clean peptide data"
   ]
  },
  {
   "cell_type": "code",
   "execution_count": 35,
   "metadata": {},
   "outputs": [
    {
     "name": "stderr",
     "output_type": "stream",
     "text": [
      "C:\\Users\\kush494\\Documents\\Proteomics_Data_Processing\\MaxQuant_Postprocessing_Functions.py:147: RuntimeWarning: divide by zero encountered in log2\n",
      "  df.iloc[:,1:] = np.log2(df.iloc[:,1:])\n"
     ]
    },
    {
     "name": "stdout",
     "output_type": "stream",
     "text": [
      "['Liver', 'Liver', 'Liver', 'Brain', 'Heart', 'Kidney', 'Liver', 'Lung', 'Brain', 'Heart', 'Kidney', 'Liver', 'Lung', 'Brain', 'Heart', 'Kidney', 'Liver', 'Lung', 'Brain', 'Heart', 'Kidney', 'Lung', 'Brain', 'Heart', 'Kidney', 'Lung', 'Brain', 'Heart', 'Kidney', 'Lung']\n"
     ]
    }
   ],
   "source": [
    "peptide_file = \"D:\\peptides.txt\"\n",
    "\n",
    "peptide_df = mq.load_df(peptide_file)\n",
    "peptide_df = mq.slice_by_column(peptide_df, 'peptide', 'LFQ')\n",
    "peptide_df.columns = rename_columns(peptide_df, 'Adult', 'Mouse')\n",
    "\n",
    "peptide_organ_columns = {}\n",
    "peptide_organ_counts = {}\n",
    "peptide_df = mq.filter_low_observed(peptide_df, groups, peptide_organ_columns, peptide_organ_counts)\n",
    "mq.log2_normalize(peptide_df)\n",
    "mq.median_normalize(peptide_df)\n",
    "\n",
    "peptide_df = peptide_df.replace(r'\\n','', regex=True)\n",
    "peptide_df.set_index('Sequence', inplace = True)\n",
    "peptide_df = mq.impute_missing(peptide_df)\n",
    "\n",
    "peptide_columns = peptide_df.columns.values.tolist()\n",
    "peptide_labels = get_labels(peptide_df, peptide_columns, peptide_organ_columns)\n",
    "print(peptide_labels)"
   ]
  },
  {
   "cell_type": "markdown",
   "metadata": {},
   "source": [
    "## Split data and labels into test and train groups"
   ]
  },
  {
   "cell_type": "code",
   "execution_count": 36,
   "metadata": {},
   "outputs": [
    {
     "name": "stderr",
     "output_type": "stream",
     "text": [
      "C:\\Users\\kush494\\AppData\\Local\\Continuum\\anaconda3\\lib\\site-packages\\sklearn\\preprocessing\\data.py:181: UserWarning: Numerical issues were encountered when scaling the data and might not be solved. The standard deviation of the data is probably very close to 0. \n",
      "  warnings.warn(\"Numerical issues were encountered \"\n"
     ]
    },
    {
     "name": "stdout",
     "output_type": "stream",
     "text": [
      "(18, 4)\n",
      "(12, 4)\n",
      "['Lung', 'Liver', 'Heart', 'Heart', 'Kidney', 'Liver', 'Heart', 'Kidney', 'Kidney', 'Liver', 'Brain', 'Kidney', 'Brain', 'Brain', 'Brain', 'Lung', 'Lung', 'Heart']\n"
     ]
    }
   ],
   "source": [
    "scaled_peptide_data = preprocessing.scale(peptide_df.T)\n",
    "\n",
    "### Randomly split:\n",
    "peptide_X_train, peptide_X_test, peptide_y_train, peptide_y_test = cross_validation.train_test_split(peptide_df.T, peptide_labels, test_size=0.4, random_state=0, stratify=peptide_labels)\n",
    "\n",
    "peptide_pca = PCA(n_components=4)\n",
    "peptide_pca.fit(peptide_X_train)\n",
    "peptide_X_t_train = peptide_pca.transform(peptide_X_train)\n",
    "peptide_X_t_test = peptide_pca.transform(peptide_X_test)\n",
    "\n",
    "print(peptide_X_t_train.shape)\n",
    "print(peptide_X_t_test.shape)\n",
    "print(peptide_y_train)"
   ]
  },
  {
   "cell_type": "markdown",
   "metadata": {},
   "source": [
    "## Draw PCA plots for peptide data"
   ]
  },
  {
   "cell_type": "code",
   "execution_count": 37,
   "metadata": {},
   "outputs": [
    {
     "name": "stderr",
     "output_type": "stream",
     "text": [
      "C:\\Users\\kush494\\AppData\\Local\\Continuum\\anaconda3\\lib\\site-packages\\sklearn\\preprocessing\\data.py:181: UserWarning: Numerical issues were encountered when scaling the data and might not be solved. The standard deviation of the data is probably very close to 0. \n",
      "  warnings.warn(\"Numerical issues were encountered \"\n"
     ]
    }
   ],
   "source": [
    "peptide_dir = base_dir + 'Mouse_Peptide_'\n",
    "peptide_color_mapping = mq.map_colors(groups, peptide_organ_columns)\n",
    "columns = peptide_df.columns.values.tolist()\n",
    "\n",
    "peptide_pca, peptide_pca_data = mq.do_pca(peptide_df.copy())\n",
    "peptide_per_var, peptide_labels = mq.make_scree_plot(peptide_pca, peptide_dir)\n",
    "mq.draw_pca_graph(columns, peptide_pca_data, peptide_dir, peptide_color_mapping, peptide_per_var, peptide_labels)\n"
   ]
  },
  {
   "cell_type": "markdown",
   "metadata": {},
   "source": [
    "## SVC"
   ]
  },
  {
   "cell_type": "code",
   "execution_count": 38,
   "metadata": {},
   "outputs": [
    {
     "name": "stdout",
     "output_type": "stream",
     "text": [
      "score 0.166666666667\n",
      "pred label ['Kidney' 'Kidney' 'Kidney' 'Kidney' 'Kidney' 'Kidney' 'Kidney' 'Kidney'\n",
      " 'Kidney' 'Kidney' 'Kidney' 'Kidney']\n",
      "actual ['Brain', 'Lung', 'Lung', 'Kidney', 'Heart', 'Liver', 'Liver', 'Heart', 'Liver', 'Kidney', 'Lung', 'Brain']\n"
     ]
    }
   ],
   "source": [
    "peptide_clf = SVC()\n",
    "peptide_clf.fit(peptide_X_t_train, peptide_y_train)\n",
    "peptide_y_pred = peptide_clf.predict(peptide_X_t_test)\n",
    "\n",
    "print('score', accuracy_score(peptide_y_pred, peptide_y_test))\n",
    "print('pred label', peptide_y_pred)\n",
    "print('actual', peptide_y_test)"
   ]
  },
  {
   "cell_type": "code",
   "execution_count": 39,
   "metadata": {},
   "outputs": [
    {
     "name": "stdout",
     "output_type": "stream",
     "text": [
      "\n",
      "*** Model:  SVC(C=1.0, cache_size=200, class_weight=None, coef0=0.0,\n",
      "  decision_function_shape='ovr', degree=3, gamma='auto', kernel='linear',\n",
      "  max_iter=-1, probability=False, random_state=None, shrinking=True,\n",
      "  tol=0.001, verbose=False) \n",
      "\n",
      "score 1.0\n",
      "pred label ['Brain' 'Lung' 'Lung' 'Kidney' 'Heart' 'Liver' 'Liver' 'Heart' 'Liver'\n",
      " 'Kidney' 'Lung' 'Brain']\n",
      "actual ['Brain', 'Lung', 'Lung', 'Kidney', 'Heart', 'Liver', 'Liver', 'Heart', 'Liver', 'Kidney', 'Lung', 'Brain']\n",
      "\n",
      "*** Model:  LinearSVC(C=1.0, class_weight=None, dual=True, fit_intercept=True,\n",
      "     intercept_scaling=1, loss='squared_hinge', max_iter=1000,\n",
      "     multi_class='ovr', penalty='l2', random_state=None, tol=0.0001,\n",
      "     verbose=0) \n",
      "\n",
      "score 1.0\n",
      "pred label ['Brain' 'Lung' 'Lung' 'Kidney' 'Heart' 'Liver' 'Liver' 'Heart' 'Liver'\n",
      " 'Kidney' 'Lung' 'Brain']\n",
      "actual ['Brain', 'Lung', 'Lung', 'Kidney', 'Heart', 'Liver', 'Liver', 'Heart', 'Liver', 'Kidney', 'Lung', 'Brain']\n",
      "\n",
      "*** Model:  SVC(C=1.0, cache_size=200, class_weight=None, coef0=0.0,\n",
      "  decision_function_shape='ovr', degree=3, gamma=0.7, kernel='rbf',\n",
      "  max_iter=-1, probability=False, random_state=None, shrinking=True,\n",
      "  tol=0.001, verbose=False) \n",
      "\n",
      "score 0.166666666667\n",
      "pred label ['Kidney' 'Kidney' 'Kidney' 'Kidney' 'Kidney' 'Kidney' 'Kidney' 'Kidney'\n",
      " 'Kidney' 'Kidney' 'Kidney' 'Kidney']\n",
      "actual ['Brain', 'Lung', 'Lung', 'Kidney', 'Heart', 'Liver', 'Liver', 'Heart', 'Liver', 'Kidney', 'Lung', 'Brain']\n",
      "\n",
      "*** Model:  SVC(C=1.0, cache_size=200, class_weight=None, coef0=0.0,\n",
      "  decision_function_shape='ovr', degree=3, gamma='auto', kernel='poly',\n",
      "  max_iter=-1, probability=False, random_state=None, shrinking=True,\n",
      "  tol=0.001, verbose=False) \n",
      "\n",
      "score 0.916666666667\n",
      "pred label ['Brain' 'Kidney' 'Lung' 'Kidney' 'Heart' 'Liver' 'Liver' 'Heart' 'Liver'\n",
      " 'Kidney' 'Lung' 'Brain']\n",
      "actual ['Brain', 'Lung', 'Lung', 'Kidney', 'Heart', 'Liver', 'Liver', 'Heart', 'Liver', 'Kidney', 'Lung', 'Brain']\n"
     ]
    }
   ],
   "source": [
    "try_SVC_models(peptide_X_t_train, peptide_y_train, peptide_X_t_test, peptide_y_test)"
   ]
  },
  {
   "cell_type": "markdown",
   "metadata": {},
   "source": [
    "## K Nearest Neighbors"
   ]
  },
  {
   "cell_type": "code",
   "execution_count": 40,
   "metadata": {},
   "outputs": [
    {
     "name": "stdout",
     "output_type": "stream",
     "text": [
      "score 1.0\n",
      "pred ['Brain' 'Lung' 'Lung' 'Kidney' 'Heart' 'Liver' 'Liver' 'Heart' 'Liver'\n",
      " 'Kidney' 'Lung' 'Brain']\n",
      "actual ['Brain', 'Lung', 'Lung', 'Kidney', 'Heart', 'Liver', 'Liver', 'Heart', 'Liver', 'Kidney', 'Lung', 'Brain']\n"
     ]
    }
   ],
   "source": [
    "peptide_knn = KNeighborsClassifier()\n",
    "peptide_knn.fit(peptide_X_t_train, peptide_y_train)\n",
    "peptide_y_pred = peptide_knn.predict(peptide_X_t_test)\n",
    "\n",
    "print('score', accuracy_score(peptide_y_pred, peptide_y_test))\n",
    "print('pred', peptide_y_pred)\n",
    "print('actual', peptide_y_test)"
   ]
  },
  {
   "cell_type": "markdown",
   "metadata": {},
   "source": [
    "## Decision Tree"
   ]
  },
  {
   "cell_type": "code",
   "execution_count": 41,
   "metadata": {},
   "outputs": [
    {
     "name": "stdout",
     "output_type": "stream",
     "text": [
      "score 1.0\n",
      "pred ['Brain' 'Lung' 'Lung' 'Kidney' 'Heart' 'Liver' 'Liver' 'Heart' 'Liver'\n",
      " 'Kidney' 'Lung' 'Brain']\n",
      "actual ['Brain', 'Lung', 'Lung', 'Kidney', 'Heart', 'Liver', 'Liver', 'Heart', 'Liver', 'Kidney', 'Lung', 'Brain']\n"
     ]
    }
   ],
   "source": [
    "peptide_dt_clf = tree.DecisionTreeClassifier()\n",
    "peptide_dt_clf = peptide_dt_clf.fit(peptide_X_t_train, peptide_y_train)\n",
    "peptide_dt_pred = peptide_dt_clf.predict(peptide_X_t_test)\n",
    "\n",
    "print('score', accuracy_score(peptide_dt_pred, peptide_y_test))\n",
    "print('pred', peptide_dt_pred)\n",
    "print('actual', peptide_y_test)"
   ]
  }
 ],
 "metadata": {
  "kernelspec": {
   "display_name": "Python 3",
   "language": "python",
   "name": "python3"
  }
 },
 "nbformat": 4,
 "nbformat_minor": 2
}
