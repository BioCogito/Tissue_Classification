{
 "cells": [
  {
   "cell_type": "code",
   "execution_count": 729,
   "metadata": {
    "collapsed": true
   },
   "outputs": [],
   "source": [
    "import os\n",
    "import sys\n",
    "module_path = os.path.abspath(os.path.join('..'))\n",
    "if module_path not in sys.path:\n",
    "    sys.path.append(module_path)"
   ]
  },
  {
   "cell_type": "code",
   "execution_count": 730,
   "metadata": {},
   "outputs": [],
   "source": [
    "import MaxQuant_Postprocessing_Functions as mq\n",
    "import re\n"
   ]
  },
  {
   "cell_type": "markdown",
   "metadata": {},
   "source": [
    "# Classify using Protein Data\n",
    "* Use proteinGroups.txt outputted from MaxQuant\n",
    "* SVC variations\n",
    "* K neighbors\n",
    "* Decision tree"
   ]
  },
  {
   "cell_type": "code",
   "execution_count": 731,
   "metadata": {},
   "outputs": [],
   "source": [
    "#########################\n",
    "#\n",
    "# Load and clean mouse data\n",
    "#\n",
    "#########################\n",
    "\n",
    "file = \"D:\\proteinGroups.txt\"\n",
    "\n",
    "df = mq.load_df(file)\n",
    "df = mq.clean_weakly_identified(df)\n",
    "df = mq.remove_dup_proteinIDs(df)\n",
    "\n",
    "iBAQ_df = mq.slice_by_column(df, 'protein', 'iBAQ ')\n",
    "\n",
    "# Rename columns so that all instances \"before\" string are replaced with \"after\" string\n",
    "def rename_columns(df, before, after):\n",
    "    columns = df.columns.values.tolist()\n",
    "    new_columns = []\n",
    "    for column in columns:\n",
    "        new_column = re.sub(before, after, column)\n",
    "        new_columns.append(new_column)\n",
    "        \n",
    "    return new_columns\n",
    "\n",
    "iBAQ_df.columns = rename_columns(iBAQ_df, 'Adult', 'Mouse')\n",
    "\n",
    "groups = ['Brain', 'Heart', 'Kidney', 'Liver', 'Lung']\n",
    "organ_columns = {} # 'Liver': ['iBAQ 04_Liver', 'iBAQ 05_Liver', ...]\n",
    "organ_counts = {} # 'Liver': \n",
    "    \n",
    "iBAQ_df = mq.filter_low_observed(iBAQ_df, groups, organ_columns, organ_counts)"
   ]
  },
  {
   "cell_type": "code",
   "execution_count": 732,
   "metadata": {},
   "outputs": [
    {
     "name": "stderr",
     "output_type": "stream",
     "text": [
      "C:\\Users\\kush494\\AppData\\Local\\Continuum\\anaconda3\\lib\\site-packages\\pandas\\core\\frame.py:4451: RuntimeWarning: divide by zero encountered in log2\n",
      "  return lib.map_infer(x.asobject, func)\n"
     ]
    }
   ],
   "source": [
    "#########################\n",
    "#\n",
    "# Normalize data and impute missing values with data frame minimum/2\n",
    "#\n",
    "#########################\n",
    "\n",
    "mq.log2_normalize(iBAQ_df)\n",
    "mq.median_normalize(iBAQ_df)\n",
    "\n",
    "iBAQ_df['Majority protein IDs'] = iBAQ_df['Majority protein IDs'].str[:-6] # strip off '_Mouse'\n",
    "iBAQ_df.set_index('Majority protein IDs', inplace = True)\n",
    "iBAQ_df = mq.impute_missing(iBAQ_df)"
   ]
  },
  {
   "cell_type": "code",
   "execution_count": 733,
   "metadata": {
    "collapsed": true
   },
   "outputs": [],
   "source": [
    "#########################\n",
    "#\n",
    "# Map each column name to a corresponding label\n",
    "#\n",
    "#########################\n",
    "\n",
    "\"\"\"\n",
    "Args: \n",
    "    df (dataframe)\n",
    "    columns (list of strings): list of all column names in df\n",
    "    organ_to_columns (dict): {organ: list of column names}\n",
    "    \n",
    "Returns: \n",
    "    List of strings representing the labels for each dataframe column\n",
    "\"\"\"\n",
    "def get_labels(df, columns, organ_to_columns):\n",
    "    labels = []\n",
    "\n",
    "    for column in columns:\n",
    "        key = next(key for key, value in organ_to_columns.items() if column in value)\n",
    "        labels.append(key)\n",
    "        \n",
    "    return labels"
   ]
  },
  {
   "cell_type": "code",
   "execution_count": 734,
   "metadata": {},
   "outputs": [
    {
     "name": "stdout",
     "output_type": "stream",
     "text": [
      "['iBAQ Mouse_07_Brain', 'iBAQ Mouse_08_Brain', 'iBAQ Mouse_09_Brain', 'iBAQ Mouse_10_Brain', 'iBAQ Mouse_11_Brain', 'iBAQ Mouse_12_Brain', 'iBAQ Mouse_07_Heart', 'iBAQ Mouse_08_Heart', 'iBAQ Mouse_09_Heart', 'iBAQ Mouse_10_Heart', 'iBAQ Mouse_11_Heart', 'iBAQ Mouse_12_Heart', 'iBAQ Mouse_07_Kidney', 'iBAQ Mouse_08_Kidney', 'iBAQ Mouse_09_Kidney', 'iBAQ Mouse_10_Kidney', 'iBAQ Mouse_11_Kidney', 'iBAQ Mouse_12_Kidney', 'iBAQ Mouse_04_Liver', 'iBAQ Mouse_05_Liver', 'iBAQ Mouse_06_Liver', 'iBAQ Mouse_07_Liver', 'iBAQ Mouse_08_Liver', 'iBAQ Mouse_09_Liver', 'iBAQ Mouse_07_Lung', 'iBAQ Mouse_08_Lung', 'iBAQ Mouse_09_Lung', 'iBAQ Mouse_10_Lung', 'iBAQ Mouse_11_Lung', 'iBAQ Mouse_12_Lung']\n",
      "['Brain', 'Brain', 'Brain', 'Brain', 'Brain', 'Brain', 'Heart', 'Heart', 'Heart', 'Heart', 'Heart', 'Heart', 'Kidney', 'Kidney', 'Kidney', 'Kidney', 'Kidney', 'Kidney', 'Liver', 'Liver', 'Liver', 'Liver', 'Liver', 'Liver', 'Lung', 'Lung', 'Lung', 'Lung', 'Lung', 'Lung']\n"
     ]
    }
   ],
   "source": [
    "iBAQ_df = iBAQ_df[organ_columns['Brain'] + organ_columns['Heart'] + organ_columns['Kidney'] + organ_columns['Liver'] + organ_columns['Lung']]\n",
    "\n",
    "columns = iBAQ_df.columns.values.tolist()\n",
    "labels = get_labels(iBAQ_df, columns, organ_columns)\n",
    "\n",
    "print(columns)\n",
    "print(labels)"
   ]
  },
  {
   "cell_type": "code",
   "execution_count": 735,
   "metadata": {},
   "outputs": [
    {
     "name": "stdout",
     "output_type": "stream",
     "text": [
      "(18, 4399)\n",
      "(12, 4399)\n"
     ]
    }
   ],
   "source": [
    "import numpy as np\n",
    "from sklearn.decomposition import PCA\n",
    "from sklearn.svm import SVC\n",
    "from sklearn import cross_validation\n",
    "from sklearn import preprocessing\n",
    "\n",
    "# Transpose so that proteins are columns (components)\n",
    "# Scale data\n",
    "scaled_data = preprocessing.scale(iBAQ_df.T)\n",
    "\n",
    "#########################\n",
    "#\n",
    "# Split data and labels into test and train groups\n",
    "#\n",
    "#########################\n",
    "\n",
    "### Randomly split:\n",
    "X_train, X_test, y_train, y_test = cross_validation.train_test_split(iBAQ_df.T, labels, test_size=0.4, random_state=0, stratify=labels)\n",
    "\n",
    "\"\"\"\n",
    "X_train = np.concatenate([scaled_data[:4, :], scaled_data[6:10, :], scaled_data[12:16, :], scaled_data[18:22, :], scaled_data[24:28, :], scaled_data[30:34, :]], axis=0)\n",
    "\n",
    "X_test = np.concatenate([scaled_data[4:6, :], scaled_data[10:12, :], scaled_data[16:18, :], scaled_data[22:24, :], scaled_data[28:30, :], scaled_data[34:, :]], axis=0)\n",
    "\n",
    "y_train = labels[:4] + labels[6:10] + labels[12:16] + labels[18:22] + labels[24:28] + labels[30:34]\n",
    "y_test = labels[4:6] + labels[10:12] + labels[16:18] + labels[22:24] + labels[28:30] + labels[34:]\n",
    "\"\"\"\n",
    "print(X_train.shape)\n",
    "print(X_test.shape)"
   ]
  },
  {
   "cell_type": "code",
   "execution_count": 736,
   "metadata": {},
   "outputs": [],
   "source": [
    "#########################\n",
    "#\n",
    "# Draw PCA graph of data\n",
    "#\n",
    "#########################\n",
    "\n",
    "import pandas as pd\n",
    "import matplotlib.pyplot as plt\n",
    "\n",
    "base_dir = 'D:\\\\Images\\\\Classifier\\\\'\n",
    "color_mapping = mq.map_colors(groups, organ_columns)\n",
    "columns = iBAQ_df.columns.values.tolist()\n",
    "\n",
    "pca, pca_data = mq.do_pca(iBAQ_df.copy())\n",
    "per_var, labels = mq.make_scree_plot(pca, base_dir)\n",
    "mq.draw_pca_graph(columns, pca_data, base_dir, color_mapping, per_var, labels)"
   ]
  },
  {
   "cell_type": "code",
   "execution_count": 737,
   "metadata": {},
   "outputs": [
    {
     "name": "stdout",
     "output_type": "stream",
     "text": [
      "(18, 2)\n",
      "(12, 2)\n",
      "['Lung', 'Liver', 'Heart', 'Heart', 'Kidney', 'Liver', 'Heart', 'Kidney', 'Kidney', 'Liver', 'Brain', 'Kidney', 'Brain', 'Brain', 'Brain', 'Lung', 'Lung', 'Heart']\n"
     ]
    }
   ],
   "source": [
    "pca = PCA(n_components=2)\n",
    "pca.fit(X_train)\n",
    "X_t_train = pca.transform(X_train)\n",
    "X_t_test = pca.transform(X_test)\n",
    "\n",
    "print(X_t_train.shape)\n",
    "print(X_t_test.shape)\n",
    "print(y_train)"
   ]
  },
  {
   "cell_type": "markdown",
   "metadata": {},
   "source": [
    "## SVC Variations"
   ]
  },
  {
   "cell_type": "code",
   "execution_count": 738,
   "metadata": {},
   "outputs": [
    {
     "name": "stdout",
     "output_type": "stream",
     "text": [
      "score 0.166666666667\n",
      "pred label ['Heart' 'Heart' 'Heart' 'Heart' 'Heart' 'Heart' 'Heart' 'Heart' 'Heart'\n",
      " 'Heart' 'Heart' 'Heart']\n",
      "actual ['Brain', 'Lung', 'Lung', 'Kidney', 'Heart', 'Liver', 'Liver', 'Heart', 'Liver', 'Kidney', 'Lung', 'Brain']\n"
     ]
    }
   ],
   "source": [
    "#########################\n",
    "#\n",
    "# Basic SVC Classification\n",
    "#\n",
    "#########################\n",
    "\n",
    "from sklearn.metrics import accuracy_score\n",
    "\n",
    "clf = SVC()\n",
    "clf.fit(X_t_train, y_train)\n",
    "y_pred = clf.predict(X_t_test)\n",
    "\n",
    "print('score', accuracy_score(y_pred, y_test))\n",
    "print('pred label', clf.predict(X_t_test))\n",
    "print('actual', y_test)"
   ]
  },
  {
   "cell_type": "code",
   "execution_count": 739,
   "metadata": {},
   "outputs": [],
   "source": [
    "from sklearn.svm import LinearSVC\n",
    "\n",
    "#########################\n",
    "#\n",
    "# SVC variations\n",
    "#\n",
    "#########################\n",
    "\n",
    "def try_SVC_models(X_train, y_train, X_test, y_test):\n",
    "    C = 1.0  # SVM regularization parameter\n",
    "    models = (SVC(kernel='linear', C=C),\n",
    "              LinearSVC(C=C),\n",
    "              SVC(kernel='rbf', gamma=0.7, C=C),\n",
    "              SVC(kernel='poly', degree=3, C=C))\n",
    "\n",
    "    # Fit all the models\n",
    "    models = (clf.fit(X_train, y_train) for clf in models)\n",
    "\n",
    "    for model in models:\n",
    "        model_y_pred = model.predict(X_test)\n",
    "        print('\\n*** Model: ', model, '\\n')\n",
    "        print('score', accuracy_score(model_y_pred, y_test))\n",
    "        print('pred label', model_y_pred)\n",
    "        print('actual', y_test)"
   ]
  },
  {
   "cell_type": "code",
   "execution_count": 740,
   "metadata": {},
   "outputs": [
    {
     "name": "stdout",
     "output_type": "stream",
     "text": [
      "\n",
      "*** Model:  SVC(C=1.0, cache_size=200, class_weight=None, coef0=0.0,\n",
      "  decision_function_shape='ovr', degree=3, gamma='auto', kernel='linear',\n",
      "  max_iter=-1, probability=False, random_state=None, shrinking=True,\n",
      "  tol=0.001, verbose=False) \n",
      "\n",
      "score 1.0\n",
      "pred label ['Brain' 'Lung' 'Lung' 'Kidney' 'Heart' 'Liver' 'Liver' 'Heart' 'Liver'\n",
      " 'Kidney' 'Lung' 'Brain']\n",
      "actual ['Brain', 'Lung', 'Lung', 'Kidney', 'Heart', 'Liver', 'Liver', 'Heart', 'Liver', 'Kidney', 'Lung', 'Brain']\n",
      "\n",
      "*** Model:  LinearSVC(C=1.0, class_weight=None, dual=True, fit_intercept=True,\n",
      "     intercept_scaling=1, loss='squared_hinge', max_iter=1000,\n",
      "     multi_class='ovr', penalty='l2', random_state=None, tol=0.0001,\n",
      "     verbose=0) \n",
      "\n",
      "score 0.75\n",
      "pred label ['Brain' 'Lung' 'Lung' 'Kidney' 'Heart' 'Kidney' 'Kidney' 'Heart' 'Kidney'\n",
      " 'Kidney' 'Lung' 'Brain']\n",
      "actual ['Brain', 'Lung', 'Lung', 'Kidney', 'Heart', 'Liver', 'Liver', 'Heart', 'Liver', 'Kidney', 'Lung', 'Brain']\n",
      "\n",
      "*** Model:  SVC(C=1.0, cache_size=200, class_weight=None, coef0=0.0,\n",
      "  decision_function_shape='ovr', degree=3, gamma=0.7, kernel='rbf',\n",
      "  max_iter=-1, probability=False, random_state=None, shrinking=True,\n",
      "  tol=0.001, verbose=False) \n",
      "\n",
      "score 0.166666666667\n",
      "pred label ['Heart' 'Heart' 'Heart' 'Heart' 'Heart' 'Heart' 'Heart' 'Heart' 'Heart'\n",
      " 'Heart' 'Heart' 'Heart']\n",
      "actual ['Brain', 'Lung', 'Lung', 'Kidney', 'Heart', 'Liver', 'Liver', 'Heart', 'Liver', 'Kidney', 'Lung', 'Brain']\n",
      "\n",
      "*** Model:  SVC(C=1.0, cache_size=200, class_weight=None, coef0=0.0,\n",
      "  decision_function_shape='ovr', degree=3, gamma='auto', kernel='poly',\n",
      "  max_iter=-1, probability=False, random_state=None, shrinking=True,\n",
      "  tol=0.001, verbose=False) \n",
      "\n",
      "score 1.0\n",
      "pred label ['Brain' 'Lung' 'Lung' 'Kidney' 'Heart' 'Liver' 'Liver' 'Heart' 'Liver'\n",
      " 'Kidney' 'Lung' 'Brain']\n",
      "actual ['Brain', 'Lung', 'Lung', 'Kidney', 'Heart', 'Liver', 'Liver', 'Heart', 'Liver', 'Kidney', 'Lung', 'Brain']\n"
     ]
    }
   ],
   "source": [
    "try_SVC_models(X_t_train, y_train, X_t_test, y_test)"
   ]
  },
  {
   "cell_type": "markdown",
   "metadata": {},
   "source": [
    "## K Neighbors"
   ]
  },
  {
   "cell_type": "code",
   "execution_count": 741,
   "metadata": {},
   "outputs": [
    {
     "name": "stdout",
     "output_type": "stream",
     "text": [
      "score 1.0\n",
      "pred ['Brain' 'Lung' 'Lung' 'Kidney' 'Heart' 'Liver' 'Liver' 'Heart' 'Liver'\n",
      " 'Kidney' 'Lung' 'Brain']\n",
      "actual ['Brain', 'Lung', 'Lung', 'Kidney', 'Heart', 'Liver', 'Liver', 'Heart', 'Liver', 'Kidney', 'Lung', 'Brain']\n"
     ]
    }
   ],
   "source": [
    "from sklearn.metrics import accuracy_score\n",
    "from sklearn.neighbors import KNeighborsClassifier\n",
    "\n",
    "knn = KNeighborsClassifier()\n",
    "knn.fit(X_t_train, y_train)\n",
    "y_pred = knn.predict(X_t_test)\n",
    "\n",
    "print('score', accuracy_score(y_pred, y_test))\n",
    "print('pred', y_pred)\n",
    "print('actual', y_test)"
   ]
  },
  {
   "cell_type": "markdown",
   "metadata": {},
   "source": [
    "## Decision Tree"
   ]
  },
  {
   "cell_type": "code",
   "execution_count": 742,
   "metadata": {},
   "outputs": [
    {
     "name": "stdout",
     "output_type": "stream",
     "text": [
      "score 0.666666666667\n",
      "pred ['Brain' 'Lung' 'Lung' 'Kidney' 'Lung' 'Kidney' 'Liver' 'Lung' 'Kidney'\n",
      " 'Kidney' 'Lung' 'Brain']\n",
      "actual ['Brain', 'Lung', 'Lung', 'Kidney', 'Heart', 'Liver', 'Liver', 'Heart', 'Liver', 'Kidney', 'Lung', 'Brain']\n"
     ]
    }
   ],
   "source": [
    "from sklearn import tree\n",
    "\n",
    "decision_tree_clf = tree.DecisionTreeClassifier()\n",
    "decision_tree_clf = decision_tree_clf.fit(X_t_train, y_train)\n",
    "dt_pred = decision_tree_clf.predict(X_t_test)\n",
    "\n",
    "print('score', accuracy_score(dt_pred, y_test))\n",
    "print('pred', dt_pred)\n",
    "print('actual', y_test)"
   ]
  },
  {
   "cell_type": "markdown",
   "metadata": {},
   "source": [
    "# Testing classification of human lung\n",
    "* Map mouse proteins to corresponding human proteins\n",
    "* Load Human lung data\n",
    "* Join dataframes on proteinID and only keep human data for testing\n",
    "* Run human lung data through classifier trained on mouse tissue data "
   ]
  },
  {
   "cell_type": "code",
   "execution_count": 743,
   "metadata": {},
   "outputs": [
    {
     "name": "stdout",
     "output_type": "stream",
     "text": [
      "             Symbol\n",
      "Matched Term       \n",
      "ABL1_MOUSE     ABL1\n",
      "AKT1_MOUSE     AKT1\n",
      "HEM2_MOUSE     ALAD\n",
      "HEM0_MOUSE    ALAS2\n",
      "A4_MOUSE        APP\n"
     ]
    }
   ],
   "source": [
    "#########################\n",
    "#\n",
    "# Load and clean mouse-human correspondance data\n",
    "#\n",
    "#########################\n",
    "\n",
    "### Load correspondance data\n",
    "import pandas as pd\n",
    "\n",
    "mapping_file = r'D:\\Human_Mouse_Mapping.txt'\n",
    "mapping_df = pd.read_csv(mapping_file, usecols=['Matched Term', 'Symbol', 'Species'], sep='\\t', lineterminator='\\r', encoding = 'latin1')\n",
    "mapping_df = mapping_df.replace(r'\\n','', regex=True)\n",
    "\n",
    "### Filter out entries not containing human in the \"Species\" column\n",
    "mapping_df = mapping_df[mapping_df['Species'].isnull() | mapping_df['Species'].str.contains('Human')]\n",
    "mapping_df.set_index('Matched Term', inplace=True)\n",
    "mapping_df.drop(['Species'], axis=1, inplace=True)\n",
    "\n",
    "mapping_df['Symbol'].replace(to_replace=' (includes others)', value='', inplace=True) # remove trailing comments\n",
    "print(mapping_df.head())"
   ]
  },
  {
   "cell_type": "code",
   "execution_count": 744,
   "metadata": {},
   "outputs": [
    {
     "name": "stderr",
     "output_type": "stream",
     "text": [
      "C:\\Users\\kush494\\AppData\\Local\\Continuum\\anaconda3\\lib\\site-packages\\pandas\\core\\frame.py:4451: RuntimeWarning: divide by zero encountered in log2\n",
      "  return lib.map_infer(x.asobject, func)\n"
     ]
    }
   ],
   "source": [
    "#########################\n",
    "#\n",
    "# Load and clean human data\n",
    "#\n",
    "#########################\n",
    "\n",
    "human_lung_file = r'F:\\Human_Lung_Raw_Files\\LungMAP\\combined\\txt\\human_lung_proteinGroups.txt'\n",
    "human_groups = ['Human_Lung']\n",
    "\n",
    "human_lung_df = mq.load_df(human_lung_file)\n",
    "human_lung_df = mq.clean_weakly_identified(human_lung_df)\n",
    "human_lung_df = mq.remove_dup_proteinIDs(human_lung_df)\n",
    "        \n",
    "human_lung_iBAQ_df = mq.slice_by_column(human_lung_df, 'protein', 'iBAQ ') \n",
    "    \n",
    "human_lung_organ_columns = {}\n",
    "human_lung_organ_counts = {} \n",
    "    \n",
    "human_lung_iBAQ_df = mq.filter_low_observed(human_lung_iBAQ_df, human_groups, human_lung_organ_columns, human_lung_organ_counts)\n",
    "\n",
    "human_lung_iBAQ_df['Majority protein IDs'] = human_lung_iBAQ_df['Majority protein IDs'].str[:-6]\n",
    "mq.log2_normalize(human_lung_iBAQ_df)\n",
    "mq.median_normalize(human_lung_iBAQ_df)\n",
    "\n",
    "human_lung_iBAQ_df.set_index('Majority protein IDs', inplace = True)\n",
    "human_lung_iBAQ_df = mq.impute_missing(human_lung_iBAQ_df)"
   ]
  },
  {
   "cell_type": "code",
   "execution_count": 745,
   "metadata": {},
   "outputs": [],
   "source": [
    "#########################\n",
    "#\n",
    "# Change mouse proteinIDs to common symbol\n",
    "#\n",
    "#########################\n",
    "\n",
    "mouse_proteins = iBAQ_df.index.values.tolist()\n",
    "human_proteins = human_lung_iBAQ_df.index.values.tolist()\n",
    "raw_mappings = mapping_df.to_dict('index') # {mouse protein: {'Symbol': common protein}}\n",
    "mappings = {}\n",
    "\n",
    "# Break up rows with multiple mouse proteins\n",
    "for old_key, val in raw_mappings.items():\n",
    "    keys = old_key.split()\n",
    "    for new_key in keys:\n",
    "        mappings[new_key] = raw_mappings[old_key]\n",
    "        \n",
    "iBAQ_df.reset_index(inplace=True)\n",
    "\n",
    "for protein in mouse_proteins:\n",
    "    if protein not in human_proteins:\n",
    "        to_replace = protein + '_MOUSE'\n",
    "        if to_replace in mappings:\n",
    "            mapping = mappings[to_replace]\n",
    "            new_sym = mapping['Symbol']\n",
    "            #if(protein != new_sym):\n",
    "                #print('Found one!', to_replace, '-->', new_sym)\n",
    "            iBAQ_df.replace(protein, new_sym, inplace=True)\n",
    "        \n",
    "iBAQ_df.set_index('Majority protein IDs', inplace=True)\n",
    "        "
   ]
  },
  {
   "cell_type": "code",
   "execution_count": 746,
   "metadata": {
    "scrolled": true
   },
   "outputs": [
    {
     "name": "stdout",
     "output_type": "stream",
     "text": [
      "                      iBAQ Human_Lung_001  iBAQ Human_Lung_002  \\\n",
      "Majority protein IDs                                             \n",
      "1433B                           26.495533            27.139241   \n",
      "1433E                           27.406570            28.235220   \n",
      "1433F                           24.655306            25.732509   \n",
      "1433G                           25.598352            26.609912   \n",
      "1433S                           23.849066            24.211665   \n",
      "\n",
      "                      iBAQ Human_Lung_004  iBAQ Human_Lung_005  \\\n",
      "Majority protein IDs                                             \n",
      "1433B                           27.413408            27.553327   \n",
      "1433E                           28.483613            28.573078   \n",
      "1433F                           25.452296            24.832387   \n",
      "1433G                           26.463207            26.265243   \n",
      "1433S                           24.303326            24.792482   \n",
      "\n",
      "                      iBAQ Human_Lung_007  iBAQ Human_Lung_008  \\\n",
      "Majority protein IDs                                             \n",
      "1433B                           27.407020            27.485776   \n",
      "1433E                           27.864628            28.490885   \n",
      "1433F                           26.154794            26.274261   \n",
      "1433G                           26.334143            26.828185   \n",
      "1433S                           25.549117            24.699703   \n",
      "\n",
      "                      iBAQ Human_Lung_011  iBAQ Human_Lung_012  \\\n",
      "Majority protein IDs                                             \n",
      "1433B                           27.352347            27.353473   \n",
      "1433E                           28.416759            28.728450   \n",
      "1433F                           25.987061            26.021143   \n",
      "1433G                           26.426245            26.387520   \n",
      "1433S                           24.232584            24.462633   \n",
      "\n",
      "                      iBAQ Human_Lung_015  iBAQ Human_Lung_016  \\\n",
      "Majority protein IDs                                             \n",
      "1433B                           27.719971            27.645998   \n",
      "1433E                           28.656996            27.512227   \n",
      "1433F                           26.252576            25.931496   \n",
      "1433G                           26.562748            26.154871   \n",
      "1433S                           25.889781            24.960234   \n",
      "\n",
      "                             ...           iBAQ Human_Lung_047  \\\n",
      "Majority protein IDs         ...                                 \n",
      "1433B                        ...                     27.292140   \n",
      "1433E                        ...                     28.202625   \n",
      "1433F                        ...                     26.138273   \n",
      "1433G                        ...                     26.418245   \n",
      "1433S                        ...                     24.114945   \n",
      "\n",
      "                      iBAQ Human_Lung_052  iBAQ Human_Lung_056  \\\n",
      "Majority protein IDs                                             \n",
      "1433B                           27.386618            27.992850   \n",
      "1433E                           28.420970            28.306063   \n",
      "1433F                           25.937628            25.207614   \n",
      "1433G                           26.773706            25.976767   \n",
      "1433S                           24.307804            25.315956   \n",
      "\n",
      "                      iBAQ Human_Lung_063  iBAQ Human_Lung_064  \\\n",
      "Majority protein IDs                                             \n",
      "1433B                           27.585941            27.376595   \n",
      "1433E                           28.056576            28.221285   \n",
      "1433F                           25.559514            26.238558   \n",
      "1433G                           26.361845            26.790194   \n",
      "1433S                           23.841603            24.413904   \n",
      "\n",
      "                      iBAQ Human_Lung_069  iBAQ Human_Lung_071  \\\n",
      "Majority protein IDs                                             \n",
      "1433B                           27.061678            27.716467   \n",
      "1433E                           28.181299            28.451414   \n",
      "1433F                           25.894882            26.170618   \n",
      "1433G                           26.468347            26.788773   \n",
      "1433S                           25.211527            25.116688   \n",
      "\n",
      "                      iBAQ Human_Lung_075  iBAQ Human_Lung_087  \\\n",
      "Majority protein IDs                                             \n",
      "1433B                           27.422001            27.536086   \n",
      "1433E                           28.075384            28.595250   \n",
      "1433F                           25.302810            25.804013   \n",
      "1433G                           26.324678            26.788665   \n",
      "1433S                           24.226992            23.096739   \n",
      "\n",
      "                      iBAQ Human_Lung_089  \n",
      "Majority protein IDs                       \n",
      "1433B                           27.187907  \n",
      "1433E                           28.088832  \n",
      "1433F                           25.916503  \n",
      "1433G                           26.365098  \n",
      "1433S                           25.229373  \n",
      "\n",
      "[5 rows x 29 columns]\n"
     ]
    }
   ],
   "source": [
    "#########################\n",
    "#\n",
    "# Join mouse data to human data so that human_t_test has same shape as trained data\n",
    "#\n",
    "#########################\n",
    "\n",
    "combined_df = iBAQ_df.join(human_lung_iBAQ_df)\n",
    "combined_df = mq.impute_missing(combined_df)\n",
    "all_columns = combined_df.columns.values.tolist()\n",
    "\n",
    "combined_pca, combined_pca_data = mq.do_pca(combined_df)\n",
    "\n",
    "# Add mapping of 'Human_Lung' to all human lung columns, and new organ group to groups\n",
    "organ_columns.update(human_lung_organ_columns)\n",
    "groups.append('Human_Lung')\n",
    "\n",
    "# Draw scree plot of all human and mouse tissues\n",
    "combined_dir = base_dir + 'Human_'\n",
    "combined_color_mapping = mq.map_colors(groups, organ_columns)\n",
    "\n",
    "combined_per_var, combined_labels = mq.make_scree_plot(combined_pca, combined_dir)\n",
    "mq.draw_pca_graph(all_columns, combined_pca_data, combined_dir, combined_color_mapping, combined_per_var, combined_labels)\n",
    "\n",
    "combined_df.drop(combined_df.columns[:30], axis=1, inplace=True) # Drop mouse data\n",
    "print(combined_df.head())"
   ]
  },
  {
   "cell_type": "markdown",
   "metadata": {},
   "source": [
    "## K Nearest Neighbors"
   ]
  },
  {
   "cell_type": "code",
   "execution_count": 747,
   "metadata": {},
   "outputs": [
    {
     "name": "stdout",
     "output_type": "stream",
     "text": [
      "score 0.0\n",
      "pred ['Heart' 'Heart' 'Heart' 'Heart' 'Heart' 'Heart' 'Heart' 'Heart' 'Heart'\n",
      " 'Heart' 'Heart' 'Heart' 'Heart' 'Heart' 'Heart' 'Heart' 'Heart' 'Heart'\n",
      " 'Heart' 'Heart' 'Heart' 'Heart' 'Heart' 'Heart' 'Heart' 'Heart' 'Heart'\n",
      " 'Heart' 'Heart']\n",
      "actual ['Lung', 'Lung', 'Lung', 'Lung', 'Lung', 'Lung', 'Lung', 'Lung', 'Lung', 'Lung', 'Lung', 'Lung', 'Lung', 'Lung', 'Lung', 'Lung', 'Lung', 'Lung', 'Lung', 'Lung', 'Lung', 'Lung', 'Lung', 'Lung', 'Lung', 'Lung', 'Lung', 'Lung', 'Lung']\n"
     ]
    },
    {
     "name": "stderr",
     "output_type": "stream",
     "text": [
      "C:\\Users\\kush494\\AppData\\Local\\Continuum\\anaconda3\\lib\\site-packages\\sklearn\\preprocessing\\data.py:181: UserWarning: Numerical issues were encountered when scaling the data and might not be solved. The standard deviation of the data is probably very close to 0. \n",
      "  warnings.warn(\"Numerical issues were encountered \"\n"
     ]
    }
   ],
   "source": [
    "scaled_human_data = preprocessing.scale(combined_df.T)\n",
    "human_t_test = pca.transform(scaled_human_data)\n",
    "human_y_test = ['Lung' for x in range(29)]\n",
    "\n",
    "human_pred = knn.predict(human_t_test)\n",
    "\n",
    "print('score', accuracy_score(human_pred, human_y_test))\n",
    "print('pred', human_pred)\n",
    "print('actual', human_y_test)"
   ]
  },
  {
   "cell_type": "markdown",
   "metadata": {},
   "source": [
    "## Decision Tree"
   ]
  },
  {
   "cell_type": "code",
   "execution_count": 748,
   "metadata": {},
   "outputs": [
    {
     "name": "stdout",
     "output_type": "stream",
     "text": [
      "score 0.0\n",
      "pred ['Heart' 'Heart' 'Heart' 'Heart' 'Heart' 'Heart' 'Heart' 'Heart' 'Heart'\n",
      " 'Heart' 'Heart' 'Heart' 'Heart' 'Heart' 'Heart' 'Heart' 'Heart' 'Heart'\n",
      " 'Heart' 'Heart' 'Heart' 'Heart' 'Heart' 'Heart' 'Heart' 'Heart' 'Heart'\n",
      " 'Heart' 'Heart']\n",
      "actual ['Lung', 'Lung', 'Lung', 'Lung', 'Lung', 'Lung', 'Lung', 'Lung', 'Lung', 'Lung', 'Lung', 'Lung', 'Lung', 'Lung', 'Lung', 'Lung', 'Lung', 'Lung', 'Lung', 'Lung', 'Lung', 'Lung', 'Lung', 'Lung', 'Lung', 'Lung', 'Lung', 'Lung', 'Lung']\n"
     ]
    }
   ],
   "source": [
    "human_dt_pred = decision_tree_clf.predict(human_t_test)\n",
    "\n",
    "print('score', accuracy_score(human_dt_pred, human_y_test))\n",
    "print('pred', human_dt_pred)\n",
    "print('actual', human_y_test)"
   ]
  },
  {
   "cell_type": "markdown",
   "metadata": {},
   "source": [
    "## Random Forest"
   ]
  },
  {
   "cell_type": "markdown",
   "metadata": {},
   "source": [
    "## Naive Bayes/LDA"
   ]
  },
  {
   "cell_type": "markdown",
   "metadata": {},
   "source": [
    "# Classify using Peptide Data\n",
    "* Use peptides.txt output from MaxQuant\n",
    "* SVC varations: 1.0, 1.0, 0.167, 0.917\n",
    "* K nearest neighbors: 1.0\n",
    "* Decision tree: 1.0"
   ]
  },
  {
   "cell_type": "code",
   "execution_count": 749,
   "metadata": {},
   "outputs": [
    {
     "name": "stderr",
     "output_type": "stream",
     "text": [
      "C:\\Users\\kush494\\AppData\\Local\\Continuum\\anaconda3\\lib\\site-packages\\pandas\\core\\frame.py:4451: RuntimeWarning: divide by zero encountered in log2\n",
      "  return lib.map_infer(x.asobject, func)\n"
     ]
    },
    {
     "name": "stdout",
     "output_type": "stream",
     "text": [
      "['Liver', 'Liver', 'Liver', 'Brain', 'Heart', 'Kidney', 'Liver', 'Lung', 'Brain', 'Heart', 'Kidney', 'Liver', 'Lung', 'Brain', 'Heart', 'Kidney', 'Liver', 'Lung', 'Brain', 'Heart', 'Kidney', 'Lung', 'Brain', 'Heart', 'Kidney', 'Lung', 'Brain', 'Heart', 'Kidney', 'Lung']\n"
     ]
    }
   ],
   "source": [
    "#########################\n",
    "#\n",
    "# Load and clean peptide data\n",
    "#\n",
    "#########################\n",
    "\n",
    "peptide_file = \"D:\\peptides.txt\"\n",
    "\n",
    "peptide_df = mq.load_df(peptide_file)\n",
    "peptide_df = mq.slice_by_column(peptide_df, 'peptide', 'LFQ')\n",
    "peptide_df.columns = rename_columns(peptide_df, 'Adult', 'Mouse')\n",
    "\n",
    "peptide_organ_columns = {}\n",
    "peptide_organ_counts = {}\n",
    "peptide_df = mq.filter_low_observed(peptide_df, groups, peptide_organ_columns, peptide_organ_counts)\n",
    "mq.log2_normalize(peptide_df)\n",
    "mq.median_normalize(peptide_df)\n",
    "\n",
    "peptide_df = peptide_df.replace(r'\\n','', regex=True)\n",
    "peptide_df.set_index('Sequence', inplace = True)\n",
    "peptide_df = mq.impute_missing(peptide_df)\n",
    "\n",
    "peptide_columns = peptide_df.columns.values.tolist()\n",
    "peptide_labels = get_labels(peptide_df, peptide_columns, peptide_organ_columns)\n",
    "print(peptide_labels)"
   ]
  },
  {
   "cell_type": "code",
   "execution_count": 750,
   "metadata": {},
   "outputs": [
    {
     "name": "stdout",
     "output_type": "stream",
     "text": [
      "(18, 4)\n",
      "(12, 4)\n",
      "['Lung', 'Liver', 'Heart', 'Heart', 'Kidney', 'Liver', 'Heart', 'Kidney', 'Kidney', 'Liver', 'Brain', 'Kidney', 'Brain', 'Brain', 'Brain', 'Lung', 'Lung', 'Heart']\n"
     ]
    }
   ],
   "source": [
    "#########################\n",
    "#\n",
    "# Split data and labels into test and train groups\n",
    "#\n",
    "#########################\n",
    "\n",
    "scaled_peptide_data = preprocessing.scale(peptide_df.T)\n",
    "\n",
    "### Randomly split:\n",
    "peptide_X_train, peptide_X_test, peptide_y_train, peptide_y_test = cross_validation.train_test_split(peptide_df.T, peptide_labels, test_size=0.4, random_state=0, stratify=peptide_labels)\n",
    "\n",
    "peptide_pca = PCA(n_components=4)\n",
    "peptide_pca.fit(peptide_X_train)\n",
    "peptide_X_t_train = peptide_pca.transform(peptide_X_train)\n",
    "peptide_X_t_test = peptide_pca.transform(peptide_X_test)\n",
    "\n",
    "print(peptide_X_t_train.shape)\n",
    "print(peptide_X_t_test.shape)\n",
    "print(peptide_y_train)"
   ]
  },
  {
   "cell_type": "code",
   "execution_count": 751,
   "metadata": {},
   "outputs": [],
   "source": [
    "#########################\n",
    "#\n",
    "# Draw PCA plots for peptide data\n",
    "#\n",
    "#########################\n",
    "\n",
    "peptide_dir = base_dir + 'Mouse_Peptide_'\n",
    "peptide_color_mapping = mq.map_colors(groups, peptide_organ_columns)\n",
    "columns = peptide_df.columns.values.tolist()\n",
    "\n",
    "peptide_pca, peptide_pca_data = mq.do_pca(peptide_df.copy())\n",
    "peptide_per_var, peptide_labels = mq.make_scree_plot(peptide_pca, peptide_dir)\n",
    "mq.draw_pca_graph(columns, peptide_pca_data, peptide_dir, peptide_color_mapping, peptide_per_var, peptide_labels)\n"
   ]
  },
  {
   "cell_type": "code",
   "execution_count": 752,
   "metadata": {},
   "outputs": [
    {
     "name": "stdout",
     "output_type": "stream",
     "text": [
      "score 0.166666666667\n",
      "pred label ['Kidney' 'Kidney' 'Kidney' 'Kidney' 'Kidney' 'Kidney' 'Kidney' 'Kidney'\n",
      " 'Kidney' 'Kidney' 'Kidney' 'Kidney']\n",
      "actual ['Brain', 'Lung', 'Lung', 'Kidney', 'Heart', 'Liver', 'Liver', 'Heart', 'Liver', 'Kidney', 'Lung', 'Brain']\n"
     ]
    }
   ],
   "source": [
    "#########################\n",
    "#\n",
    "# Attempt to classify using SVC algorithm\n",
    "#\n",
    "#########################\n",
    "\n",
    "peptide_clf = SVC()\n",
    "peptide_clf.fit(peptide_X_t_train, peptide_y_train)\n",
    "peptide_y_pred = peptide_clf.predict(peptide_X_t_test)\n",
    "\n",
    "print('score', accuracy_score(peptide_y_pred, peptide_y_test))\n",
    "print('pred label', peptide_y_pred)\n",
    "print('actual', peptide_y_test)"
   ]
  },
  {
   "cell_type": "code",
   "execution_count": 753,
   "metadata": {},
   "outputs": [
    {
     "name": "stdout",
     "output_type": "stream",
     "text": [
      "\n",
      "*** Model:  SVC(C=1.0, cache_size=200, class_weight=None, coef0=0.0,\n",
      "  decision_function_shape='ovr', degree=3, gamma='auto', kernel='linear',\n",
      "  max_iter=-1, probability=False, random_state=None, shrinking=True,\n",
      "  tol=0.001, verbose=False) \n",
      "\n",
      "score 1.0\n",
      "pred label ['Brain' 'Lung' 'Lung' 'Kidney' 'Heart' 'Liver' 'Liver' 'Heart' 'Liver'\n",
      " 'Kidney' 'Lung' 'Brain']\n",
      "actual ['Brain', 'Lung', 'Lung', 'Kidney', 'Heart', 'Liver', 'Liver', 'Heart', 'Liver', 'Kidney', 'Lung', 'Brain']\n",
      "\n",
      "*** Model:  LinearSVC(C=1.0, class_weight=None, dual=True, fit_intercept=True,\n",
      "     intercept_scaling=1, loss='squared_hinge', max_iter=1000,\n",
      "     multi_class='ovr', penalty='l2', random_state=None, tol=0.0001,\n",
      "     verbose=0) \n",
      "\n",
      "score 1.0\n",
      "pred label ['Brain' 'Lung' 'Lung' 'Kidney' 'Heart' 'Liver' 'Liver' 'Heart' 'Liver'\n",
      " 'Kidney' 'Lung' 'Brain']\n",
      "actual ['Brain', 'Lung', 'Lung', 'Kidney', 'Heart', 'Liver', 'Liver', 'Heart', 'Liver', 'Kidney', 'Lung', 'Brain']\n",
      "\n",
      "*** Model:  SVC(C=1.0, cache_size=200, class_weight=None, coef0=0.0,\n",
      "  decision_function_shape='ovr', degree=3, gamma=0.7, kernel='rbf',\n",
      "  max_iter=-1, probability=False, random_state=None, shrinking=True,\n",
      "  tol=0.001, verbose=False) \n",
      "\n",
      "score 0.166666666667\n",
      "pred label ['Kidney' 'Kidney' 'Kidney' 'Kidney' 'Kidney' 'Kidney' 'Kidney' 'Kidney'\n",
      " 'Kidney' 'Kidney' 'Kidney' 'Kidney']\n",
      "actual ['Brain', 'Lung', 'Lung', 'Kidney', 'Heart', 'Liver', 'Liver', 'Heart', 'Liver', 'Kidney', 'Lung', 'Brain']\n",
      "\n",
      "*** Model:  SVC(C=1.0, cache_size=200, class_weight=None, coef0=0.0,\n",
      "  decision_function_shape='ovr', degree=3, gamma='auto', kernel='poly',\n",
      "  max_iter=-1, probability=False, random_state=None, shrinking=True,\n",
      "  tol=0.001, verbose=False) \n",
      "\n",
      "score 0.916666666667\n",
      "pred label ['Brain' 'Kidney' 'Lung' 'Kidney' 'Heart' 'Liver' 'Liver' 'Heart' 'Liver'\n",
      " 'Kidney' 'Lung' 'Brain']\n",
      "actual ['Brain', 'Lung', 'Lung', 'Kidney', 'Heart', 'Liver', 'Liver', 'Heart', 'Liver', 'Kidney', 'Lung', 'Brain']\n"
     ]
    }
   ],
   "source": [
    "#########################\n",
    "#\n",
    "# Attempt to classify using 4 SVC variations \n",
    "#\n",
    "#########################\n",
    "\n",
    "try_SVC_models(peptide_X_t_train, peptide_y_train, peptide_X_t_test, peptide_y_test)"
   ]
  },
  {
   "cell_type": "code",
   "execution_count": 754,
   "metadata": {},
   "outputs": [
    {
     "name": "stdout",
     "output_type": "stream",
     "text": [
      "score 1.0\n",
      "pred ['Brain' 'Lung' 'Lung' 'Kidney' 'Heart' 'Liver' 'Liver' 'Heart' 'Liver'\n",
      " 'Kidney' 'Lung' 'Brain']\n",
      "actual ['Brain', 'Lung', 'Lung', 'Kidney', 'Heart', 'Liver', 'Liver', 'Heart', 'Liver', 'Kidney', 'Lung', 'Brain']\n"
     ]
    }
   ],
   "source": [
    "#########################\n",
    "#\n",
    "# Attempt to classify using K Neighbors algorithm\n",
    "#\n",
    "#########################\n",
    "\n",
    "peptide_knn = KNeighborsClassifier()\n",
    "peptide_knn.fit(peptide_X_t_train, peptide_y_train)\n",
    "peptide_y_pred = peptide_knn.predict(peptide_X_t_test)\n",
    "\n",
    "print('score', accuracy_score(peptide_y_pred, peptide_y_test))\n",
    "print('pred', peptide_y_pred)\n",
    "print('actual', peptide_y_test)"
   ]
  },
  {
   "cell_type": "code",
   "execution_count": 755,
   "metadata": {},
   "outputs": [
    {
     "name": "stdout",
     "output_type": "stream",
     "text": [
      "score 1.0\n",
      "pred ['Brain' 'Lung' 'Lung' 'Kidney' 'Heart' 'Liver' 'Liver' 'Heart' 'Liver'\n",
      " 'Kidney' 'Lung' 'Brain']\n",
      "actual ['Brain', 'Lung', 'Lung', 'Kidney', 'Heart', 'Liver', 'Liver', 'Heart', 'Liver', 'Kidney', 'Lung', 'Brain']\n"
     ]
    }
   ],
   "source": [
    "#########################\n",
    "#\n",
    "# Attempt to classify using decision tree\n",
    "#\n",
    "#########################\n",
    "\n",
    "peptide_dt_clf = tree.DecisionTreeClassifier()\n",
    "peptide_dt_clf = peptide_dt_clf.fit(peptide_X_t_train, peptide_y_train)\n",
    "peptide_dt_pred = peptide_dt_clf.predict(peptide_X_t_test)\n",
    "\n",
    "print('score', accuracy_score(peptide_dt_pred, peptide_y_test))\n",
    "print('pred', peptide_dt_pred)\n",
    "print('actual', peptide_y_test)"
   ]
  }
 ],
 "metadata": {
  "kernelspec": {
   "display_name": "Python 3",
   "language": "python",
   "name": "python3"
  },
  "language_info": {
   "codemirror_mode": {
    "name": "ipython",
    "version": 3
   },
   "file_extension": ".py",
   "mimetype": "text/x-python",
   "name": "python",
   "nbconvert_exporter": "python",
   "pygments_lexer": "ipython3",
   "version": "3.6.3"
  }
 },
 "nbformat": 4,
 "nbformat_minor": 2
}
