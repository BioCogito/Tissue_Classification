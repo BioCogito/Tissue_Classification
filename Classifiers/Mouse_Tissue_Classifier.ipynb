{
 "cells": [
  {
   "cell_type": "code",
   "execution_count": 76,
   "metadata": {
    "collapsed": true
   },
   "outputs": [],
   "source": [
    "import os\n",
    "import sys\n",
    "module_path = os.path.abspath(os.path.join('..'))\n",
    "if module_path not in sys.path:\n",
    "    sys.path.append(module_path)"
   ]
  },
  {
   "cell_type": "code",
   "execution_count": 77,
   "metadata": {},
   "outputs": [],
   "source": [
    "import MaxQuant_Postprocessing_Functions as mq\n",
    "import re\n"
   ]
  },
  {
   "cell_type": "markdown",
   "metadata": {},
   "source": [
    "# Classify using Protein Data"
   ]
  },
  {
   "cell_type": "code",
   "execution_count": 78,
   "metadata": {},
   "outputs": [],
   "source": [
    "#########################\n",
    "#\n",
    "# Load and clean mouse data\n",
    "#\n",
    "#########################\n",
    "\n",
    "file = \"D:\\proteinGroups.txt\"\n",
    "\n",
    "df = mq.load_df(file)\n",
    "df = mq.clean_weakly_identified(df)\n",
    "df = mq.remove_dup_proteinIDs(df)\n",
    "\n",
    "iBAQ_df = mq.slice_by_column(df, 'protein', 'iBAQ ')\n",
    "\n",
    "# Rename columns so that all instances \"before\" string are replaced with \"after\" string\n",
    "def rename_columns(df, before, after):\n",
    "    columns = df.columns.values.tolist()\n",
    "    new_columns = []\n",
    "    for column in columns:\n",
    "        new_column = re.sub(before, after, column)\n",
    "        new_columns.append(new_column)\n",
    "        \n",
    "    return new_columns\n",
    "\n",
    "iBAQ_df.columns = rename_columns(iBAQ_df, 'Adult', 'Mouse')\n",
    "\n",
    "groups = ['Brain', 'Heart', 'Kidney', 'Liver', 'Lung']\n",
    "organ_columns = {} # 'Liver': ['iBAQ 04_Liver', 'iBAQ 05_Liver', ...]\n",
    "organ_counts = {} # 'Liver': \n",
    "    \n",
    "iBAQ_df = mq.filter_low_observed(iBAQ_df, groups, organ_columns, organ_counts)"
   ]
  },
  {
   "cell_type": "code",
   "execution_count": 79,
   "metadata": {},
   "outputs": [
    {
     "name": "stderr",
     "output_type": "stream",
     "text": [
      "C:\\Users\\kush494\\AppData\\Local\\Continuum\\anaconda3\\lib\\site-packages\\pandas\\core\\frame.py:4451: RuntimeWarning: divide by zero encountered in log2\n",
      "  return lib.map_infer(x.asobject, func)\n"
     ]
    }
   ],
   "source": [
    "#########################\n",
    "#\n",
    "# Normalize data and impute missing values with data frame minimum/2\n",
    "#\n",
    "#########################\n",
    "\n",
    "mq.log2_normalize(iBAQ_df)\n",
    "mq.median_normalize(iBAQ_df)\n",
    "\n",
    "iBAQ_df['Majority protein IDs'] = iBAQ_df['Majority protein IDs'].str[:-6]\n",
    "iBAQ_df.set_index('Majority protein IDs', inplace = True)\n",
    "iBAQ_df = mq.impute_missing(iBAQ_df)"
   ]
  },
  {
   "cell_type": "code",
   "execution_count": 80,
   "metadata": {
    "collapsed": true
   },
   "outputs": [],
   "source": [
    "#########################\n",
    "#\n",
    "# Map each column name to a corresponding label\n",
    "#\n",
    "#########################\n",
    "\n",
    "\"\"\"\n",
    "Input: dataframe\n",
    "Output: List of strings representing the labels for each dataframe column\n",
    "\"\"\"\n",
    "def get_labels(df):\n",
    "    columns = iBAQ_df.columns.values.tolist()\n",
    "    labels = []\n",
    "\n",
    "    for column in columns:\n",
    "        key = next(key for key, value in organ_columns.items() if column in value)\n",
    "        labels.append(key)\n",
    "        \n",
    "    return labels"
   ]
  },
  {
   "cell_type": "code",
   "execution_count": 81,
   "metadata": {},
   "outputs": [
    {
     "name": "stdout",
     "output_type": "stream",
     "text": [
      "['iBAQ Mouse_07_Brain', 'iBAQ Mouse_08_Brain', 'iBAQ Mouse_09_Brain', 'iBAQ Mouse_10_Brain', 'iBAQ Mouse_11_Brain', 'iBAQ Mouse_12_Brain', 'iBAQ Mouse_07_Heart', 'iBAQ Mouse_08_Heart', 'iBAQ Mouse_09_Heart', 'iBAQ Mouse_10_Heart', 'iBAQ Mouse_11_Heart', 'iBAQ Mouse_12_Heart', 'iBAQ Mouse_07_Kidney', 'iBAQ Mouse_08_Kidney', 'iBAQ Mouse_09_Kidney', 'iBAQ Mouse_10_Kidney', 'iBAQ Mouse_11_Kidney', 'iBAQ Mouse_12_Kidney', 'iBAQ Mouse_04_Liver', 'iBAQ Mouse_05_Liver', 'iBAQ Mouse_06_Liver', 'iBAQ Mouse_07_Liver', 'iBAQ Mouse_08_Liver', 'iBAQ Mouse_09_Liver', 'iBAQ Mouse_07_Lung', 'iBAQ Mouse_08_Lung', 'iBAQ Mouse_09_Lung', 'iBAQ Mouse_10_Lung', 'iBAQ Mouse_11_Lung', 'iBAQ Mouse_12_Lung']\n",
      "['Brain', 'Brain', 'Brain', 'Brain', 'Brain', 'Brain', 'Heart', 'Heart', 'Heart', 'Heart', 'Heart', 'Heart', 'Kidney', 'Kidney', 'Kidney', 'Kidney', 'Kidney', 'Kidney', 'Liver', 'Liver', 'Liver', 'Liver', 'Liver', 'Liver', 'Lung', 'Lung', 'Lung', 'Lung', 'Lung', 'Lung']\n"
     ]
    }
   ],
   "source": [
    "iBAQ_df = iBAQ_df[organ_columns['Brain'] + organ_columns['Heart'] + organ_columns['Kidney'] + organ_columns['Liver'] + organ_columns['Lung']]\n",
    "\n",
    "labels = get_labels(iBAQ_df)\n",
    "print(iBAQ_df.columns.values.tolist())\n",
    "print(labels)"
   ]
  },
  {
   "cell_type": "code",
   "execution_count": 82,
   "metadata": {},
   "outputs": [
    {
     "name": "stdout",
     "output_type": "stream",
     "text": [
      "(18, 4399)\n",
      "(12, 4399)\n"
     ]
    }
   ],
   "source": [
    "import numpy as np\n",
    "from sklearn.decomposition import PCA\n",
    "from sklearn.svm import SVC\n",
    "from sklearn import cross_validation\n",
    "from sklearn import preprocessing\n",
    "\n",
    "# Transpose so that proteins are columns (components)\n",
    "# Scale data\n",
    "scaled_data = preprocessing.scale(iBAQ_df.T)\n",
    "\n",
    "#########################\n",
    "#\n",
    "# Split data and labels into test and train groups\n",
    "#\n",
    "#########################\n",
    "\n",
    "### Randomly split:\n",
    "X_train, X_test, y_train, y_test = cross_validation.train_test_split(iBAQ_df.T, labels, test_size=0.4, random_state=0, stratify=labels)\n",
    "\n",
    "\"\"\"\n",
    "X_train = np.concatenate([scaled_data[:4, :], scaled_data[6:10, :], scaled_data[12:16, :], scaled_data[18:22, :], scaled_data[24:28, :], scaled_data[30:34, :]], axis=0)\n",
    "\n",
    "X_test = np.concatenate([scaled_data[4:6, :], scaled_data[10:12, :], scaled_data[16:18, :], scaled_data[22:24, :], scaled_data[28:30, :], scaled_data[34:, :]], axis=0)\n",
    "\n",
    "y_train = labels[:4] + labels[6:10] + labels[12:16] + labels[18:22] + labels[24:28] + labels[30:34]\n",
    "y_test = labels[4:6] + labels[10:12] + labels[16:18] + labels[22:24] + labels[28:30] + labels[34:]\n",
    "\"\"\"\n",
    "print(X_train.shape)\n",
    "print(X_test.shape)"
   ]
  },
  {
   "cell_type": "code",
   "execution_count": 83,
   "metadata": {},
   "outputs": [],
   "source": [
    "#########################\n",
    "#\n",
    "# Draw PCA graph of data\n",
    "#\n",
    "#########################\n",
    "\n",
    "import pandas as pd\n",
    "import matplotlib.pyplot as plt\n",
    "\n",
    "base_dir = 'D:\\\\Images\\\\Classifier\\\\'\n",
    "color_mapping = mq.map_colors(groups, organ_columns)\n",
    "columns = iBAQ_df.columns.values.tolist()\n",
    "\n",
    "pca, pca_data = mq.do_pca(iBAQ_df.copy())\n",
    "per_var, labels = mq.make_scree_plot(pca, base_dir)\n",
    "mq.draw_pca_graph(columns, pca_data, base_dir, color_mapping, per_var, labels)"
   ]
  },
  {
   "cell_type": "code",
   "execution_count": 84,
   "metadata": {},
   "outputs": [
    {
     "name": "stdout",
     "output_type": "stream",
     "text": [
      "(18, 2)\n",
      "(12, 2)\n",
      "['Lung', 'Liver', 'Heart', 'Heart', 'Kidney', 'Liver', 'Heart', 'Kidney', 'Kidney', 'Liver', 'Brain', 'Kidney', 'Brain', 'Brain', 'Brain', 'Lung', 'Lung', 'Heart']\n"
     ]
    }
   ],
   "source": [
    "pca = PCA(n_components=2)\n",
    "pca.fit(X_train)\n",
    "X_t_train = pca.transform(X_train)\n",
    "X_t_test = pca.transform(X_test)\n",
    "\n",
    "print(X_t_train.shape)\n",
    "print(X_t_test.shape)\n",
    "print(y_train)"
   ]
  },
  {
   "cell_type": "markdown",
   "metadata": {},
   "source": [
    "## SVC"
   ]
  },
  {
   "cell_type": "code",
   "execution_count": 85,
   "metadata": {},
   "outputs": [
    {
     "name": "stdout",
     "output_type": "stream",
     "text": [
      "score 0.166666666667\n",
      "pred label ['Heart' 'Heart' 'Heart' 'Heart' 'Heart' 'Heart' 'Heart' 'Heart' 'Heart'\n",
      " 'Heart' 'Heart' 'Heart']\n",
      "actual ['Brain', 'Lung', 'Lung', 'Kidney', 'Heart', 'Liver', 'Liver', 'Heart', 'Liver', 'Kidney', 'Lung', 'Brain']\n"
     ]
    }
   ],
   "source": [
    "#########################\n",
    "#\n",
    "# Basic SVC Classification\n",
    "#\n",
    "#########################\n",
    "\n",
    "from sklearn.metrics import accuracy_score\n",
    "\n",
    "clf = SVC()\n",
    "clf.fit(X_t_train, y_train)\n",
    "y_pred = clf.predict(X_t_test)\n",
    "\n",
    "print('score', accuracy_score(y_pred, y_test))\n",
    "print('pred label', clf.predict(X_t_test))\n",
    "print('actual', y_test)"
   ]
  },
  {
   "cell_type": "code",
   "execution_count": 86,
   "metadata": {},
   "outputs": [],
   "source": [
    "from sklearn.svm import LinearSVC\n",
    "\n",
    "#########################\n",
    "#\n",
    "# SVC variations\n",
    "#\n",
    "#########################\n",
    "\n",
    "def try_SVC_models(X_train, y_train, X_test, y_test):\n",
    "    C = 1.0  # SVM regularization parameter\n",
    "    models = (SVC(kernel='linear', C=C),\n",
    "              LinearSVC(C=C),\n",
    "              SVC(kernel='rbf', gamma=0.7, C=C),\n",
    "              SVC(kernel='poly', degree=3, C=C))\n",
    "\n",
    "    # Fit all the models\n",
    "    models = (clf.fit(X_train, y_train) for clf in models)\n",
    "\n",
    "    for model in models:\n",
    "        model_y_pred = model.predict(X_test)\n",
    "        print('\\n*** Model: ', model, '\\n')\n",
    "        print('score', accuracy_score(model_y_pred, y_test))\n",
    "        print('pred label', model_y_pred)\n",
    "        print('actual', y_test)"
   ]
  },
  {
   "cell_type": "code",
   "execution_count": 87,
   "metadata": {},
   "outputs": [
    {
     "name": "stdout",
     "output_type": "stream",
     "text": [
      "\n",
      "*** Model:  SVC(C=1.0, cache_size=200, class_weight=None, coef0=0.0,\n",
      "  decision_function_shape='ovr', degree=3, gamma='auto', kernel='linear',\n",
      "  max_iter=-1, probability=False, random_state=None, shrinking=True,\n",
      "  tol=0.001, verbose=False) \n",
      "\n",
      "score 1.0\n",
      "pred label ['Brain' 'Lung' 'Lung' 'Kidney' 'Heart' 'Liver' 'Liver' 'Heart' 'Liver'\n",
      " 'Kidney' 'Lung' 'Brain']\n",
      "actual ['Brain', 'Lung', 'Lung', 'Kidney', 'Heart', 'Liver', 'Liver', 'Heart', 'Liver', 'Kidney', 'Lung', 'Brain']\n",
      "\n",
      "*** Model:  LinearSVC(C=1.0, class_weight=None, dual=True, fit_intercept=True,\n",
      "     intercept_scaling=1, loss='squared_hinge', max_iter=1000,\n",
      "     multi_class='ovr', penalty='l2', random_state=None, tol=0.0001,\n",
      "     verbose=0) \n",
      "\n",
      "score 0.5\n",
      "pred label ['Brain' 'Kidney' 'Kidney' 'Kidney' 'Heart' 'Kidney' 'Kidney' 'Heart'\n",
      " 'Kidney' 'Kidney' 'Kidney' 'Brain']\n",
      "actual ['Brain', 'Lung', 'Lung', 'Kidney', 'Heart', 'Liver', 'Liver', 'Heart', 'Liver', 'Kidney', 'Lung', 'Brain']\n",
      "\n",
      "*** Model:  SVC(C=1.0, cache_size=200, class_weight=None, coef0=0.0,\n",
      "  decision_function_shape='ovr', degree=3, gamma=0.7, kernel='rbf',\n",
      "  max_iter=-1, probability=False, random_state=None, shrinking=True,\n",
      "  tol=0.001, verbose=False) \n",
      "\n",
      "score 0.166666666667\n",
      "pred label ['Heart' 'Heart' 'Heart' 'Heart' 'Heart' 'Heart' 'Heart' 'Heart' 'Heart'\n",
      " 'Heart' 'Heart' 'Heart']\n",
      "actual ['Brain', 'Lung', 'Lung', 'Kidney', 'Heart', 'Liver', 'Liver', 'Heart', 'Liver', 'Kidney', 'Lung', 'Brain']\n",
      "\n",
      "*** Model:  SVC(C=1.0, cache_size=200, class_weight=None, coef0=0.0,\n",
      "  decision_function_shape='ovr', degree=3, gamma='auto', kernel='poly',\n",
      "  max_iter=-1, probability=False, random_state=None, shrinking=True,\n",
      "  tol=0.001, verbose=False) \n",
      "\n",
      "score 1.0\n",
      "pred label ['Brain' 'Lung' 'Lung' 'Kidney' 'Heart' 'Liver' 'Liver' 'Heart' 'Liver'\n",
      " 'Kidney' 'Lung' 'Brain']\n",
      "actual ['Brain', 'Lung', 'Lung', 'Kidney', 'Heart', 'Liver', 'Liver', 'Heart', 'Liver', 'Kidney', 'Lung', 'Brain']\n"
     ]
    }
   ],
   "source": [
    "try_SVC_models(X_t_train, y_train, X_t_test, y_test)"
   ]
  },
  {
   "cell_type": "markdown",
   "metadata": {},
   "source": [
    "## K Neighbors"
   ]
  },
  {
   "cell_type": "code",
   "execution_count": 64,
   "metadata": {},
   "outputs": [
    {
     "name": "stdout",
     "output_type": "stream",
     "text": [
      "score 1.0\n",
      "pred ['Brain' 'Lung' 'Lung' 'Kidney' 'Heart' 'Liver' 'Liver' 'Heart' 'Liver'\n",
      " 'Kidney' 'Lung' 'Brain']\n",
      "actual ['Brain', 'Lung', 'Lung', 'Kidney', 'Heart', 'Liver', 'Liver', 'Heart', 'Liver', 'Kidney', 'Lung', 'Brain']\n"
     ]
    }
   ],
   "source": [
    "from sklearn.metrics import accuracy_score\n",
    "from sklearn.neighbors import KNeighborsClassifier\n",
    "\n",
    "knn = KNeighborsClassifier()\n",
    "knn.fit(X_t_train, y_train)\n",
    "y_pred = knn.predict(X_t_test)\n",
    "\n",
    "print('score', accuracy_score(y_pred, y_test))\n",
    "print('pred', y_pred)\n",
    "print('actual', y_test)"
   ]
  },
  {
   "cell_type": "markdown",
   "metadata": {},
   "source": [
    "## Testing classification of human lung\n",
    "* TODO: get mapping of human and mouse proteins"
   ]
  },
  {
   "cell_type": "code",
   "execution_count": 65,
   "metadata": {},
   "outputs": [
    {
     "name": "stderr",
     "output_type": "stream",
     "text": [
      "C:\\Users\\kush494\\AppData\\Local\\Continuum\\anaconda3\\lib\\site-packages\\pandas\\core\\frame.py:4451: RuntimeWarning: divide by zero encountered in log2\n",
      "  return lib.map_infer(x.asobject, func)\n"
     ]
    }
   ],
   "source": [
    "#########################\n",
    "#\n",
    "# Load and clean human data\n",
    "#\n",
    "#########################\n",
    "\n",
    "human_lung_file = r'F:\\Human_Lung_Raw_Files\\LungMAP\\combined\\txt\\human_lung_proteinGroups.txt'\n",
    "human_groups = ['Human_Lung']\n",
    "\n",
    "human_lung_df = mq.load_df(human_lung_file)\n",
    "human_lung_df = mq.clean_weakly_identified(human_lung_df)\n",
    "human_lung_df = mq.remove_dup_proteinIDs(human_lung_df)\n",
    "        \n",
    "human_lung_iBAQ_df = mq.slice_by_column(human_lung_df, 'protein', 'iBAQ ') \n",
    "    \n",
    "human_lung_organ_columns = {} # 'Liver': ['iBAQ 04_Liver', 'iBAQ 05_Liver', ...]\n",
    "human_lung_organ_counts = {} # 'Liver': \n",
    "    \n",
    "human_lung_iBAQ_df = mq.filter_low_observed(human_lung_iBAQ_df, human_groups, human_lung_organ_columns, human_lung_organ_counts)\n",
    "\n",
    "human_lung_iBAQ_df['Majority protein IDs'] = human_lung_iBAQ_df['Majority protein IDs'].str[:-6]\n",
    "mq.log2_normalize(human_lung_iBAQ_df)\n",
    "mq.median_normalize(human_lung_iBAQ_df)\n",
    "\n",
    "human_lung_iBAQ_df.set_index('Majority protein IDs', inplace = True)\n",
    "human_lung_iBAQ_df = mq.impute_missing(human_lung_iBAQ_df)"
   ]
  },
  {
   "cell_type": "code",
   "execution_count": 66,
   "metadata": {
    "collapsed": true
   },
   "outputs": [],
   "source": [
    "#########################\n",
    "#\n",
    "# Join mouse data to human data so that human_t_test has same shape as trained data\n",
    "#\n",
    "#########################\n",
    "\n",
    "combined_df = iBAQ_df.join(human_lung_iBAQ_df)\n",
    "combined_df = mq.impute_missing(combined_df)\n",
    "all_columns = combined_df.columns.values.tolist()\n",
    "\n",
    "combined_pca, combined_pca_data = mq.do_pca(combined_df)\n",
    "\n",
    "# Add mapping of 'Human_Lung' to all human lung columns, and new organ group to groups\n",
    "organ_columns.update(human_lung_organ_columns)\n",
    "groups.append('Human_Lung')\n",
    "\n",
    "# Draw scree plot of all human and mouse tissues\n",
    "combined_dir = base_dir + 'Human_'\n",
    "combined_color_mapping = mq.map_colors(groups, organ_columns)\n",
    "\n",
    "combined_per_var, combined_labels = mq.make_scree_plot(combined_pca, combined_dir)\n",
    "mq.draw_pca_graph(all_columns, combined_pca_data, combined_dir, combined_color_mapping, combined_per_var, combined_labels)\n",
    "\n",
    "combined_df.drop(combined_df.columns[:30], axis=1, inplace=True) # Drop mouse data"
   ]
  },
  {
   "cell_type": "code",
   "execution_count": 67,
   "metadata": {},
   "outputs": [
    {
     "name": "stdout",
     "output_type": "stream",
     "text": [
      "pred ['Heart' 'Heart' 'Heart' 'Heart' 'Heart' 'Heart' 'Heart' 'Heart' 'Heart'\n",
      " 'Heart' 'Heart' 'Heart' 'Heart' 'Heart' 'Heart' 'Heart' 'Heart' 'Heart'\n",
      " 'Heart' 'Heart' 'Heart' 'Heart' 'Heart' 'Heart' 'Heart' 'Heart' 'Heart'\n",
      " 'Heart' 'Heart']\n"
     ]
    },
    {
     "name": "stderr",
     "output_type": "stream",
     "text": [
      "C:\\Users\\kush494\\AppData\\Local\\Continuum\\anaconda3\\lib\\site-packages\\sklearn\\preprocessing\\data.py:181: UserWarning: Numerical issues were encountered when scaling the data and might not be solved. The standard deviation of the data is probably very close to 0. \n",
      "  warnings.warn(\"Numerical issues were encountered \"\n"
     ]
    }
   ],
   "source": [
    "#########################\n",
    "#\n",
    "# Make the prediction\n",
    "#\n",
    "#########################\n",
    "\n",
    "scaled_human_data = preprocessing.scale(combined_df.T)\n",
    "human_t_test = pca.transform(scaled_human_data)\n",
    "\n",
    "human_pred = knn.predict(human_t_test)\n",
    "print('pred', human_pred)"
   ]
  },
  {
   "cell_type": "code",
   "execution_count": 68,
   "metadata": {
    "collapsed": true
   },
   "outputs": [],
   "source": [
    "### Randomly select train and test groups"
   ]
  },
  {
   "cell_type": "markdown",
   "metadata": {},
   "source": [
    "## Decision Tree"
   ]
  },
  {
   "cell_type": "markdown",
   "metadata": {},
   "source": [
    "## Random Forest"
   ]
  },
  {
   "cell_type": "markdown",
   "metadata": {},
   "source": [
    "## Naive Bayes/LDA"
   ]
  },
  {
   "cell_type": "markdown",
   "metadata": {},
   "source": [
    "# Classify using Peptide Data"
   ]
  },
  {
   "cell_type": "code",
   "execution_count": 69,
   "metadata": {},
   "outputs": [
    {
     "name": "stderr",
     "output_type": "stream",
     "text": [
      "C:\\Users\\kush494\\AppData\\Local\\Continuum\\anaconda3\\lib\\site-packages\\pandas\\core\\frame.py:4451: RuntimeWarning: divide by zero encountered in log2\n",
      "  return lib.map_infer(x.asobject, func)\n"
     ]
    }
   ],
   "source": [
    "#########################\n",
    "#\n",
    "# Load and clean peptide data\n",
    "#\n",
    "#########################\n",
    "\n",
    "peptide_file = \"D:\\peptides.txt\"\n",
    "\n",
    "peptide_df = mq.load_df(peptide_file)\n",
    "peptide_df = mq.slice_by_column(peptide_df, 'peptide', 'LFQ')\n",
    "peptide_df.columns = rename_columns(peptide_df, 'Adult', 'Mouse')\n",
    "\n",
    "peptide_organ_columns = {}\n",
    "peptide_organ_counts = {}\n",
    "peptide_df = mq.filter_low_observed(peptide_df, groups, peptide_organ_columns, peptide_organ_counts)\n",
    "mq.log2_normalize(peptide_df)\n",
    "mq.median_normalize(peptide_df)\n",
    "\n",
    "peptide_df = peptide_df.replace(r'\\n','', regex=True)\n",
    "peptide_df.set_index('Sequence', inplace = True)\n",
    "peptide_df = mq.impute_missing(peptide_df)\n",
    "\n",
    "peptide_labels = get_labels(peptide_df)"
   ]
  },
  {
   "cell_type": "code",
   "execution_count": 70,
   "metadata": {},
   "outputs": [
    {
     "name": "stdout",
     "output_type": "stream",
     "text": [
      "(18, 4)\n",
      "(12, 4)\n",
      "['Lung', 'Liver', 'Heart', 'Heart', 'Kidney', 'Liver', 'Heart', 'Kidney', 'Kidney', 'Liver', 'Brain', 'Kidney', 'Brain', 'Brain', 'Brain', 'Lung', 'Lung', 'Heart']\n"
     ]
    }
   ],
   "source": [
    "#########################\n",
    "#\n",
    "# Split data and labels into test and train groups\n",
    "#\n",
    "#########################\n",
    "\n",
    "scaled_peptide_data = preprocessing.scale(peptide_df.T)\n",
    "\n",
    "### Randomly split:\n",
    "peptide_X_train, peptide_X_test, peptide_y_train, peptide_y_test = cross_validation.train_test_split(peptide_df.T, peptide_labels, test_size=0.4, random_state=0, stratify=peptide_labels)\n",
    "\n",
    "peptide_pca = PCA(n_components=4)\n",
    "peptide_pca.fit(peptide_X_train)\n",
    "peptide_X_t_train = peptide_pca.transform(peptide_X_train)\n",
    "peptide_X_t_test = peptide_pca.transform(peptide_X_test)\n",
    "\n",
    "print(peptide_X_t_train.shape)\n",
    "print(peptide_X_t_test.shape)\n",
    "print(peptide_y_train)"
   ]
  },
  {
   "cell_type": "code",
   "execution_count": 71,
   "metadata": {},
   "outputs": [],
   "source": [
    "#########################\n",
    "#\n",
    "# Draw PCA plots for peptide data\n",
    "#\n",
    "#########################\n",
    "\n",
    "peptide_dir = base_dir + 'Mouse_Peptide_'\n",
    "peptide_color_mapping = mq.map_colors(groups, peptide_organ_columns)\n",
    "columns = peptide_df.columns.values.tolist()\n",
    "\n",
    "peptide_pca, peptide_pca_data = mq.do_pca(peptide_df.copy())\n",
    "peptide_per_var, peptide_labels = mq.make_scree_plot(peptide_pca, peptide_dir)\n",
    "mq.draw_pca_graph(columns, peptide_pca_data, peptide_dir, peptide_color_mapping, peptide_per_var, peptide_labels)\n"
   ]
  },
  {
   "cell_type": "code",
   "execution_count": 72,
   "metadata": {},
   "outputs": [
    {
     "name": "stdout",
     "output_type": "stream",
     "text": [
      "score 0.166666666667\n",
      "pred label ['Kidney' 'Kidney' 'Kidney' 'Kidney' 'Kidney' 'Kidney' 'Kidney' 'Kidney'\n",
      " 'Kidney' 'Kidney' 'Kidney' 'Kidney']\n",
      "actual ['Brain', 'Lung', 'Lung', 'Kidney', 'Heart', 'Liver', 'Liver', 'Heart', 'Liver', 'Kidney', 'Lung', 'Brain']\n"
     ]
    }
   ],
   "source": [
    "#########################\n",
    "#\n",
    "# Attempt to classify using SVC algorithm\n",
    "#\n",
    "#########################\n",
    "\n",
    "peptide_clf = SVC()\n",
    "peptide_clf.fit(peptide_X_t_train, peptide_y_train)\n",
    "peptide_y_pred = peptide_clf.predict(peptide_X_t_test)\n",
    "\n",
    "print('score', accuracy_score(peptide_y_pred, peptide_y_test))\n",
    "print('pred label', peptide_y_pred)\n",
    "print('actual', peptide_y_test)"
   ]
  },
  {
   "cell_type": "code",
   "execution_count": 73,
   "metadata": {},
   "outputs": [
    {
     "name": "stdout",
     "output_type": "stream",
     "text": [
      "\n",
      "*** Model:  SVC(C=1.0, cache_size=200, class_weight=None, coef0=0.0,\n",
      "  decision_function_shape='ovr', degree=3, gamma='auto', kernel='linear',\n",
      "  max_iter=-1, probability=False, random_state=None, shrinking=True,\n",
      "  tol=0.001, verbose=False) \n",
      "\n",
      "score 0.166666666667\n",
      "pred label ['Kidney' 'Kidney' 'Kidney' 'Kidney' 'Kidney' 'Kidney' 'Kidney' 'Kidney'\n",
      " 'Kidney' 'Kidney' 'Kidney' 'Kidney']\n",
      "actual ['Brain', 'Lung', 'Lung', 'Kidney', 'Heart', 'Liver', 'Liver', 'Heart', 'Liver', 'Kidney', 'Lung', 'Brain']\n",
      "\n",
      "*** Model:  LinearSVC(C=1.0, class_weight=None, dual=True, fit_intercept=True,\n",
      "     intercept_scaling=1, loss='squared_hinge', max_iter=1000,\n",
      "     multi_class='ovr', penalty='l2', random_state=None, tol=0.0001,\n",
      "     verbose=0) \n",
      "\n",
      "score 0.0\n",
      "pred label ['Kidney' 'Heart' 'Liver' 'Heart' 'Kidney' 'Kidney' 'Kidney' 'Brain'\n",
      " 'Kidney' 'Brain' 'Heart' 'Liver']\n",
      "actual ['Brain', 'Lung', 'Lung', 'Kidney', 'Heart', 'Liver', 'Liver', 'Heart', 'Liver', 'Kidney', 'Lung', 'Brain']\n",
      "\n",
      "*** Model:  SVC(C=1.0, cache_size=200, class_weight=None, coef0=0.0,\n",
      "  decision_function_shape='ovr', degree=3, gamma=0.7, kernel='rbf',\n",
      "  max_iter=-1, probability=False, random_state=None, shrinking=True,\n",
      "  tol=0.001, verbose=False) \n",
      "\n",
      "score 0.166666666667\n",
      "pred label ['Kidney' 'Kidney' 'Kidney' 'Kidney' 'Kidney' 'Kidney' 'Kidney' 'Kidney'\n",
      " 'Kidney' 'Kidney' 'Kidney' 'Kidney']\n",
      "actual ['Brain', 'Lung', 'Lung', 'Kidney', 'Heart', 'Liver', 'Liver', 'Heart', 'Liver', 'Kidney', 'Lung', 'Brain']\n",
      "\n",
      "*** Model:  SVC(C=1.0, cache_size=200, class_weight=None, coef0=0.0,\n",
      "  decision_function_shape='ovr', degree=3, gamma='auto', kernel='poly',\n",
      "  max_iter=-1, probability=False, random_state=None, shrinking=True,\n",
      "  tol=0.001, verbose=False) \n",
      "\n",
      "score 0.333333333333\n",
      "pred label ['Lung' 'Lung' 'Lung' 'Lung' 'Lung' 'Lung' 'Lung' 'Kidney' 'Lung' 'Kidney'\n",
      " 'Lung' 'Lung']\n",
      "actual ['Brain', 'Lung', 'Lung', 'Kidney', 'Heart', 'Liver', 'Liver', 'Heart', 'Liver', 'Kidney', 'Lung', 'Brain']\n"
     ]
    }
   ],
   "source": [
    "#########################\n",
    "#\n",
    "# Attempt to classify using 4 SVC variations \n",
    "#\n",
    "#########################\n",
    "\n",
    "try_SVC_models(peptide_X_t_train, peptide_y_train, peptide_X_t_test, peptide_y_test)"
   ]
  },
  {
   "cell_type": "code",
   "execution_count": 74,
   "metadata": {},
   "outputs": [
    {
     "name": "stdout",
     "output_type": "stream",
     "text": [
      "score 0.0833333333333\n",
      "pred ['Lung' 'Liver' 'Brain' 'Liver' 'Lung' 'Kidney' 'Lung' 'Brain' 'Brain'\n",
      " 'Brain' 'Heart' 'Brain']\n",
      "actual ['Brain', 'Lung', 'Lung', 'Kidney', 'Heart', 'Liver', 'Liver', 'Heart', 'Liver', 'Kidney', 'Lung', 'Brain']\n"
     ]
    }
   ],
   "source": [
    "#########################\n",
    "#\n",
    "# Attempt to classify using K Neighbors algorithm\n",
    "#\n",
    "#########################\n",
    "\n",
    "peptide_knn = KNeighborsClassifier()\n",
    "peptide_knn.fit(peptide_X_t_train, peptide_y_train)\n",
    "peptide_y_pred = peptide_knn.predict(peptide_X_t_test)\n",
    "\n",
    "print('score', accuracy_score(peptide_y_pred, peptide_y_test))\n",
    "print('pred', peptide_y_pred)\n",
    "print('actual', peptide_y_test)"
   ]
  }
 ],
 "metadata": {
  "kernelspec": {
   "display_name": "Python 3",
   "language": "python",
   "name": "python3"
  },
  "language_info": {
   "codemirror_mode": {
    "name": "ipython",
    "version": 3
   },
   "file_extension": ".py",
   "mimetype": "text/x-python",
   "name": "python",
   "nbconvert_exporter": "python",
   "pygments_lexer": "ipython3",
   "version": "3.6.3"
  }
 },
 "nbformat": 4,
 "nbformat_minor": 2
}
