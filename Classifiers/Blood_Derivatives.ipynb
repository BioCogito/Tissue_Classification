{
 "cells": [
  {
   "cell_type": "markdown",
   "metadata": {},
   "source": [
    "# Comparing blood plasma and blood serum with different numbers of samples"
   ]
  },
  {
   "cell_type": "code",
   "execution_count": 13,
   "metadata": {
    "collapsed": true
   },
   "outputs": [],
   "source": [
    "import os\n",
    "import sys\n",
    "module_path = os.path.abspath(os.path.join('..'))\n",
    "if module_path not in sys.path:\n",
    "    sys.path.append(module_path)"
   ]
  },
  {
   "cell_type": "code",
   "execution_count": 14,
   "metadata": {
    "collapsed": true
   },
   "outputs": [],
   "source": [
    "import Classification_Utils as cu\n",
    "import MaxQuant_Postprocessing_Functions as mq\n",
    "import numpy as np\n",
    "from os import listdir\n",
    "import pandas as pd\n",
    "from sklearn.decomposition import PCA\n",
    "from sklearn.externals import joblib\n",
    "import time"
   ]
  },
  {
   "cell_type": "markdown",
   "metadata": {},
   "source": [
    "## Load and clean data"
   ]
  },
  {
   "cell_type": "code",
   "execution_count": 15,
   "metadata": {
    "collapsed": true
   },
   "outputs": [],
   "source": [
    "BLOOD_DERIVATIVES_DIR = 'F:\\Serum_And_Plasma\\\\'\n",
    "\n",
    "files_dir = BLOOD_DERIVATIVES_DIR\n",
    "file_paths = listdir(files_dir) \n",
    "\n",
    "df = cu.combine_csvs(files_dir, file_paths)\n",
    "df = df.drop(['\\n'])\n",
    "\n",
    "original_df = df.copy()"
   ]
  },
  {
   "cell_type": "code",
   "execution_count": 16,
   "metadata": {},
   "outputs": [
    {
     "name": "stderr",
     "output_type": "stream",
     "text": [
      "C:\\Users\\kush494\\Documents\\Proteomics_Data_Processing\\MaxQuant_Postprocessing_Functions.py:150: RuntimeWarning: divide by zero encountered in log2\n",
      "  df.iloc[:,:] = np.log2(df.iloc[:,:])\n"
     ]
    }
   ],
   "source": [
    "mq.log2_normalize(df)\n",
    "\n",
    "df_min = df.min().min()\n",
    "impute_val = df_min/2\n",
    "df = df.fillna(impute_val)\n",
    "\n",
    "# median normalize\n",
    "mq.median_normalize(df)"
   ]
  },
  {
   "cell_type": "markdown",
   "metadata": {},
   "source": [
    "## Map each column to a corresponding label"
   ]
  },
  {
   "cell_type": "code",
   "execution_count": 17,
   "metadata": {
    "collapsed": true
   },
   "outputs": [],
   "source": [
    "tissues = ['Blood_Plasma', 'Blood_Serum']\n",
    " \n",
    "tissues_to_columns = cu.map_tissues_to_columns(df, tissues)"
   ]
  },
  {
   "cell_type": "code",
   "execution_count": 18,
   "metadata": {
    "collapsed": true
   },
   "outputs": [],
   "source": [
    "column_names = df.columns.values.tolist()\n",
    "labels = cu.get_labels(column_names, tissues_to_columns)"
   ]
  },
  {
   "cell_type": "code",
   "execution_count": 19,
   "metadata": {
    "collapsed": true
   },
   "outputs": [],
   "source": [
    "df = cu.keep_percentile_features(df, labels, 100)\n",
    "features_to_keep = df.index.values.tolist()"
   ]
  },
  {
   "cell_type": "markdown",
   "metadata": {},
   "source": [
    "## PCA plot, Pearson"
   ]
  },
  {
   "cell_type": "code",
   "execution_count": 20,
   "metadata": {
    "collapsed": true
   },
   "outputs": [],
   "source": [
    "image_dir = r'D:\\Images\\Blood_Derivatives\\\\'\n",
    "\n",
    "column_to_color = mq.map_colors(tissues, tissues_to_columns, 4)"
   ]
  },
  {
   "cell_type": "code",
   "execution_count": 21,
   "metadata": {
    "collapsed": true
   },
   "outputs": [],
   "source": [
    "mq.make_seaborn_boxplot(df, image_dir, 'Median_normalized_boxplots', column_to_color)"
   ]
  },
  {
   "cell_type": "code",
   "execution_count": 23,
   "metadata": {},
   "outputs": [
    {
     "name": "stderr",
     "output_type": "stream",
     "text": [
      "C:\\Users\\kush494\\AppData\\Local\\Continuum\\anaconda3\\lib\\site-packages\\matplotlib\\figure.py:418: UserWarning: matplotlib is currently using a non-GUI backend, so cannot show the figure\n",
      "  \"matplotlib is currently using a non-GUI backend, \"\n"
     ]
    }
   ],
   "source": [
    "scaled_data = df.T\n",
    "\n",
    "pca = PCA() # create a PCA object\n",
    "pca.fit(scaled_data) # do the math\n",
    "pca_data = pca.transform(scaled_data) # get PCA coordinates for dataframe\n",
    "\n",
    "pca_3 = PCA(n_components=3) \n",
    "pca_3.fit(scaled_data)\n",
    "pca_data_3 = pca_3.transform(scaled_data)\n",
    "\n",
    "per_var, pca_labels = mq.make_scree_plot(pca, image_dir)\n",
    "per_var_3, pca_labels_3 = mq.make_scree_plot(pca_3, image_dir, '3 Dimensional Scree')\n",
    "\n",
    "mq.draw_pca_graph2(column_names, pca_data, image_dir, column_to_color, per_var, pca_labels, tissues, tissues_to_columns, 'Blood Derivatives PCA')\n",
    "\n",
    "mq.draw_3d_pca(column_names, pca_data_3, image_dir, column_to_color, per_var_3, pca_labels_3, tissues, tissues_to_columns, 'Blood Derivatives 3D PCA')"
   ]
  },
  {
   "cell_type": "markdown",
   "metadata": {},
   "source": [
    "## Classify"
   ]
  },
  {
   "cell_type": "code",
   "execution_count": 11,
   "metadata": {
    "collapsed": true
   },
   "outputs": [],
   "source": [
    "NUM_FOLDS = 100\n",
    "transformed_df = df.T"
   ]
  },
  {
   "cell_type": "code",
   "execution_count": null,
   "metadata": {
    "collapsed": true
   },
   "outputs": [],
   "source": [
    "knn = cu.knn_model_crossval(transformed_df, labels, NUM_SPLITS)"
   ]
  },
  {
   "cell_type": "code",
   "execution_count": 12,
   "metadata": {},
   "outputs": [
    {
     "name": "stdout",
     "output_type": "stream",
     "text": [
      "Scores: [ 0.80952381  0.95238095  0.95238095  0.95238095  1.          0.95238095]\n",
      "accuracy: 0.94 (+/- 0.12)\n"
     ]
    }
   ],
   "source": [
    "lr = cu.logistic_regression_model_crossval(transformed_df, labels, NUM_FOLDS)"
   ]
  },
  {
   "cell_type": "code",
   "execution_count": null,
   "metadata": {
    "collapsed": true
   },
   "outputs": [],
   "source": [
    "gnb = cu.bayes_gaussian_model_crossval(transformed_df, labels, NUM_SPLITS)"
   ]
  },
  {
   "cell_type": "code",
   "execution_count": null,
   "metadata": {
    "collapsed": true
   },
   "outputs": [],
   "source": [
    "mnb = cu.bayes_multinomial_model_crossval(transformed_df, labels, NUM_SPLITS)"
   ]
  },
  {
   "cell_type": "code",
   "execution_count": null,
   "metadata": {
    "collapsed": true
   },
   "outputs": [],
   "source": [
    "svc_models = cu.SVC_models_crossval(transformed_df, labels, NUM_SPLITS)"
   ]
  },
  {
   "cell_type": "code",
   "execution_count": null,
   "metadata": {
    "collapsed": true
   },
   "outputs": [],
   "source": [
    "rf = cu.randomforest_model_crossval(transformed_df, labels, NUM_SPLITS)"
   ]
  },
  {
   "cell_type": "code",
   "execution_count": null,
   "metadata": {
    "collapsed": true
   },
   "outputs": [],
   "source": [
    "gbc = cu.gradient_boosting_crossval(transformed_df, labels, NUM_SPLITS)"
   ]
  },
  {
   "cell_type": "markdown",
   "metadata": {},
   "source": [
    "### Save Models, train data, train features"
   ]
  },
  {
   "cell_type": "code",
   "execution_count": null,
   "metadata": {
    "collapsed": true
   },
   "outputs": [],
   "source": [
    "finalized_model_folder = r'Trained_Models\\Plasma_Serum_Thresholding\\\\'"
   ]
  },
  {
   "cell_type": "code",
   "execution_count": null,
   "metadata": {
    "collapsed": true
   },
   "outputs": [],
   "source": [
    "models = [knn, lr, gnb, mnb, svc_models[0], rf, gbc]\n",
    "model_names = ['knn', 'lr', 'gnb', 'mnb', 'svc', 'rf', 'gbc']\n",
    "\n",
    "for model, name in zip(models, model_names):\n",
    "    model_path = finalized_model_folder + model_name + '50_samples.pkl'\n",
    "    joblib.dump(model, open(model_path, 'wb'))\n",
    "    "
   ]
  },
  {
   "cell_type": "code",
   "execution_count": null,
   "metadata": {
    "collapsed": true
   },
   "outputs": [],
   "source": [
    "features_path = finalized_model_folder + 'train_features_50_samples.pkl'\n",
    "joblib.dump(features_to_keep, open(features_path, 'wb'))\n",
    "\n",
    "data_path = finalized_model_folder + 'train_features_50_samples.pkl'\n",
    "joblib.dump(original_df, open(data_path, 'wb'))"
   ]
  },
  {
   "cell_type": "markdown",
   "metadata": {},
   "source": [
    "## Load Test Data"
   ]
  },
  {
   "cell_type": "code",
   "execution_count": null,
   "metadata": {
    "collapsed": true
   },
   "outputs": [],
   "source": [
    "TEST_SET_DIR = 'F:\\Serum_Plasma_Testset\\\\'"
   ]
  },
  {
   "cell_type": "code",
   "execution_count": null,
   "metadata": {
    "collapsed": true
   },
   "outputs": [],
   "source": [
    "test_paths = listdir(TEST_SET_DIR) \n",
    "test_df = cu.combine_csvs(TEST_SET_DIR, test_paths)\n",
    "\n",
    "test_labels = []\n",
    "for col in test_data.columns.values.tolist():\n",
    "    for tissue in tissues:\n",
    "        if col.startswith(tissue):\n",
    "            test_labels.append(tissue)\n",
    "            continue"
   ]
  },
  {
   "cell_type": "markdown",
   "metadata": {},
   "source": [
    "## Test on Test Set"
   ]
  },
  {
   "cell_type": "code",
   "execution_count": null,
   "metadata": {
    "collapsed": true
   },
   "outputs": [],
   "source": [
    "mnb_pred = mnb.predict(test_df)\n",
    "mnb_result = mnb.score(test_df, test_labels)\n",
    "\n",
    "lr_pred = lr.predict(test_df)\n",
    "lr_result = lr.score(test_df, test_labels)\n",
    "\n",
    "svc_pred = svc.predict(test_df)\n",
    "svc_result = svc.score(test_df, test_labels)\n",
    "\n",
    "gnb_pred = gnb.predict(test_df)\n",
    "gnb_result = gnb.score(test_df, test_labels)\n",
    "\n",
    "gbc_pred = gbc.predict(test_df)\n",
    "gbc_result = gbc.score(test_df, test_labels)\n",
    "\n",
    "rf_pred = rf.predict(test_df)\n",
    "rf_result = rf.score(test_df, test_labels)\n",
    "\n",
    "knn_pred = knn.predict(test_df)\n",
    "knn_result = knn.score(test_df, test_labels)"
   ]
  },
  {
   "cell_type": "code",
   "execution_count": null,
   "metadata": {
    "collapsed": true
   },
   "outputs": [],
   "source": [
    "print(lr_result)\n",
    "print(mnb_result)\n",
    "print(rf_result)\n",
    "print(svc_result)\n",
    "print(gbc_result)\n",
    "print(gnb_result)\n",
    "print(knn_result)"
   ]
  },
  {
   "cell_type": "markdown",
   "metadata": {},
   "source": [
    "## Confusion Matrix"
   ]
  },
  {
   "cell_type": "code",
   "execution_count": null,
   "metadata": {
    "collapsed": true
   },
   "outputs": [],
   "source": [
    "cm_labels = list(set(mnb_pred.tolist() + test_labels))\n",
    "cu.show_confusion_matrices(test_labels, mnb_pred, cm_labels, 'Multinomial NB ')"
   ]
  }
 ],
 "metadata": {
  "kernelspec": {
   "display_name": "Python 3",
   "language": "python",
   "name": "python3"
  },
  "language_info": {
   "codemirror_mode": {
    "name": "ipython",
    "version": 3
   },
   "file_extension": ".py",
   "mimetype": "text/x-python",
   "name": "python",
   "nbconvert_exporter": "python",
   "pygments_lexer": "ipython3",
   "version": "3.6.3"
  },
  "toc": {
   "nav_menu": {},
   "number_sections": true,
   "sideBar": true,
   "skip_h1_title": true,
   "toc_cell": false,
   "toc_position": {},
   "toc_section_display": "block",
   "toc_window_display": false
  }
 },
 "nbformat": 4,
 "nbformat_minor": 2
}
