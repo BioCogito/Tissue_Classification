{
 "cells": [
  {
   "cell_type": "markdown",
   "metadata": {},
   "source": [
    "#  Model Finalization Steps:\n",
    "1. Select only 25% the original number of peptides\n",
    "2. Grid Search classifier hyper-parameters"
   ]
  },
  {
   "cell_type": "code",
   "execution_count": 1,
   "metadata": {
    "collapsed": true
   },
   "outputs": [],
   "source": [
    "### Combine parent directory to path for access to Classification_Utils and FullPeptideQuant.txt\n",
    "import os\n",
    "import sys\n",
    "module_path = os.path.abspath(os.path.join('..'))\n",
    "if module_path not in sys.path:\n",
    "    sys.path.append(module_path)"
   ]
  },
  {
   "cell_type": "code",
   "execution_count": 2,
   "metadata": {
    "collapsed": true
   },
   "outputs": [],
   "source": [
    "import Classification_Utils as cu\n",
    "import numpy as np\n",
    "from os import listdir\n",
    "import pandas as pd\n",
    "from sklearn.pipeline import Pipeline\n",
    "from sklearn.decomposition import PCA\n",
    "from sklearn.externals import joblib\n",
    "from sklearn.feature_selection import SelectPercentile\n",
    "from sklearn.model_selection import GridSearchCV, train_test_split\n",
    "from sklearn import preprocessing\n",
    "import time"
   ]
  },
  {
   "cell_type": "markdown",
   "metadata": {},
   "source": [
    "## Load Dataframe"
   ]
  },
  {
   "cell_type": "code",
   "execution_count": 3,
   "metadata": {},
   "outputs": [
    {
     "name": "stdout",
     "output_type": "stream",
     "text": [
      "(55676, 253)\n"
     ]
    }
   ],
   "source": [
    "df = pd.read_csv('..\\FullPeptideQuant.txt', sep='\\t', index_col='Peptide')\n",
    "print(df.shape)"
   ]
  },
  {
   "cell_type": "markdown",
   "metadata": {},
   "source": [
    "## Map each column to a corresponding label"
   ]
  },
  {
   "cell_type": "code",
   "execution_count": 4,
   "metadata": {
    "collapsed": true
   },
   "outputs": [],
   "source": [
    "tissues = ['Blood_Plasma', 'Blood_Serum', 'CSF', 'Liver', 'Monocyte', 'Ovary', 'Pancreas', 'Substantia_Nigra', 'Temporal_Lobe']\n",
    " \n",
    "tissues_to_columns = cu.map_tissues_to_columns(df, tissues)"
   ]
  },
  {
   "cell_type": "code",
   "execution_count": 5,
   "metadata": {
    "collapsed": true
   },
   "outputs": [],
   "source": [
    "column_names = df.columns.values.tolist()\n",
    "labels = cu.get_labels(column_names, tissues_to_columns)"
   ]
  },
  {
   "cell_type": "code",
   "execution_count": 6,
   "metadata": {
    "scrolled": false
   },
   "outputs": [
    {
     "data": {
      "text/html": [
       "<div>\n",
       "<style>\n",
       "    .dataframe thead tr:only-child th {\n",
       "        text-align: right;\n",
       "    }\n",
       "\n",
       "    .dataframe thead th {\n",
       "        text-align: left;\n",
       "    }\n",
       "\n",
       "    .dataframe tbody tr th {\n",
       "        vertical-align: top;\n",
       "    }\n",
       "</style>\n",
       "<table border=\"1\" class=\"dataframe\">\n",
       "  <thead>\n",
       "    <tr style=\"text-align: right;\">\n",
       "      <th></th>\n",
       "      <th>Blood_Plasma_CPTAC_TrypDige_undepleted_normal_19Apr13_Methow_13-02-13</th>\n",
       "      <th>Blood_Plasma_Darpa_2_human_02_23Jan17_Arwem_16-10-25</th>\n",
       "      <th>Blood_Plasma_OMICS_EBV_HP_UW001_8Apr16_Arwen_16-01-03</th>\n",
       "      <th>Blood_Plasma_OMICS_EBV_HP_UW002_8Apr16_Arwen_16-01-03</th>\n",
       "      <th>Blood_Plasma_OMICS_EBV_HP_UW003_8Apr16_Arwen_16-01-03</th>\n",
       "      <th>Blood_Plasma_OMICS_EBV_HP_UW004_8Apr16_Arwen_16-01-03</th>\n",
       "      <th>Blood_Plasma_OMICS_EBV_HP_UW005_8Apr16_Arwen_16-01-03</th>\n",
       "      <th>Blood_Plasma_OMICS_EBV_HP_UW006_8Apr16_Arwen_16-01-03</th>\n",
       "      <th>Blood_Plasma_OMICS_EBV_HP_UW007_8Apr16_Arwen_16-01-03</th>\n",
       "      <th>Blood_Plasma_OMICS_EBV_HP_UW008_8Apr16_Arwen_16-01-03</th>\n",
       "      <th>...</th>\n",
       "      <th>Temporal_Lobe_Alz_FX1P159_Guan_1_26Jul10_Andromeda_10-06-28</th>\n",
       "      <th>Temporal_Lobe_Alz_FX1P159_Guan_2_26Jul10_Andromeda_10-06-29</th>\n",
       "      <th>Temporal_Lobe_Alz_FX1P159_Guan_3_26Jul10_Andromeda_10-06-28</th>\n",
       "      <th>Temporal_Lobe_Alz_FX1P159_Guan_Typx2_1_26Jul10_Andromeda_10-06-29</th>\n",
       "      <th>Temporal_Lobe_Alz_FX1P159_Guan_Typx2_2_26Jul10_Andromeda_10-06-28</th>\n",
       "      <th>Temporal_Lobe_Alz_FX1P159_Guan_Typx2_3_26Jul10_Andromeda_10-06-29</th>\n",
       "      <th>Temporal_Lobe_Alz_FX2P57_IMAC_153_9May11_Hawk_11-04-02p</th>\n",
       "      <th>Temporal_Lobe_Alz_FX2P57_IMAC_161_20Apr11_Hawk_10-12-03p</th>\n",
       "      <th>Temporal_Lobe_Alz_FX2P57_IMAC_187_26Apr11_Hawk_10-12-03p</th>\n",
       "      <th>Temporal_Lobe_Alz_FX2P57_IMAC_212_11May11_Hawk_11-04-02p</th>\n",
       "    </tr>\n",
       "    <tr>\n",
       "      <th>Peptide</th>\n",
       "      <th></th>\n",
       "      <th></th>\n",
       "      <th></th>\n",
       "      <th></th>\n",
       "      <th></th>\n",
       "      <th></th>\n",
       "      <th></th>\n",
       "      <th></th>\n",
       "      <th></th>\n",
       "      <th></th>\n",
       "      <th></th>\n",
       "      <th></th>\n",
       "      <th></th>\n",
       "      <th></th>\n",
       "      <th></th>\n",
       "      <th></th>\n",
       "      <th></th>\n",
       "      <th></th>\n",
       "      <th></th>\n",
       "      <th></th>\n",
       "      <th></th>\n",
       "    </tr>\n",
       "  </thead>\n",
       "  <tbody>\n",
       "    <tr>\n",
       "      <th>-.DIQM*TQSPSTLSASVGDR.V</th>\n",
       "      <td>26.731951</td>\n",
       "      <td>22.187643</td>\n",
       "      <td>3.022208</td>\n",
       "      <td>29.328345</td>\n",
       "      <td>29.916272</td>\n",
       "      <td>3.022208</td>\n",
       "      <td>27.586706</td>\n",
       "      <td>30.458361</td>\n",
       "      <td>29.004130</td>\n",
       "      <td>31.023004</td>\n",
       "      <td>...</td>\n",
       "      <td>3.022208</td>\n",
       "      <td>3.022208</td>\n",
       "      <td>3.022208</td>\n",
       "      <td>3.022208</td>\n",
       "      <td>3.022208</td>\n",
       "      <td>3.022208</td>\n",
       "      <td>3.022208</td>\n",
       "      <td>3.022208</td>\n",
       "      <td>3.022208</td>\n",
       "      <td>3.022208</td>\n",
       "    </tr>\n",
       "    <tr>\n",
       "      <th>-.DIQM*TQSPSTLSASVGDRVTITCR.A</th>\n",
       "      <td>3.022208</td>\n",
       "      <td>3.022208</td>\n",
       "      <td>3.022208</td>\n",
       "      <td>30.633308</td>\n",
       "      <td>30.815586</td>\n",
       "      <td>3.022208</td>\n",
       "      <td>29.483431</td>\n",
       "      <td>32.564995</td>\n",
       "      <td>30.319263</td>\n",
       "      <td>32.368436</td>\n",
       "      <td>...</td>\n",
       "      <td>3.022208</td>\n",
       "      <td>3.022208</td>\n",
       "      <td>3.022208</td>\n",
       "      <td>3.022208</td>\n",
       "      <td>3.022208</td>\n",
       "      <td>3.022208</td>\n",
       "      <td>3.022208</td>\n",
       "      <td>3.022208</td>\n",
       "      <td>3.022208</td>\n",
       "      <td>3.022208</td>\n",
       "    </tr>\n",
       "    <tr>\n",
       "      <th>-.DIQMTQSPSTLSASVGDR.V</th>\n",
       "      <td>26.387537</td>\n",
       "      <td>28.015792</td>\n",
       "      <td>3.022208</td>\n",
       "      <td>3.022208</td>\n",
       "      <td>31.403752</td>\n",
       "      <td>3.022208</td>\n",
       "      <td>27.695976</td>\n",
       "      <td>29.779972</td>\n",
       "      <td>29.747784</td>\n",
       "      <td>30.255299</td>\n",
       "      <td>...</td>\n",
       "      <td>3.022208</td>\n",
       "      <td>3.022208</td>\n",
       "      <td>3.022208</td>\n",
       "      <td>3.022208</td>\n",
       "      <td>3.022208</td>\n",
       "      <td>3.022208</td>\n",
       "      <td>3.022208</td>\n",
       "      <td>3.022208</td>\n",
       "      <td>3.022208</td>\n",
       "      <td>3.022208</td>\n",
       "    </tr>\n",
       "    <tr>\n",
       "      <th>-.DIQMTQSPSTLSASVGDRVTITCR.A</th>\n",
       "      <td>3.022208</td>\n",
       "      <td>3.022208</td>\n",
       "      <td>3.022208</td>\n",
       "      <td>3.022208</td>\n",
       "      <td>32.585511</td>\n",
       "      <td>3.022208</td>\n",
       "      <td>3.022208</td>\n",
       "      <td>30.845879</td>\n",
       "      <td>30.983525</td>\n",
       "      <td>27.526416</td>\n",
       "      <td>...</td>\n",
       "      <td>3.022208</td>\n",
       "      <td>3.022208</td>\n",
       "      <td>3.022208</td>\n",
       "      <td>3.022208</td>\n",
       "      <td>3.022208</td>\n",
       "      <td>3.022208</td>\n",
       "      <td>3.022208</td>\n",
       "      <td>3.022208</td>\n",
       "      <td>3.022208</td>\n",
       "      <td>3.022208</td>\n",
       "    </tr>\n",
       "    <tr>\n",
       "      <th>-.EVQLVETGGGLIQPGGSLR.L</th>\n",
       "      <td>24.546220</td>\n",
       "      <td>3.022208</td>\n",
       "      <td>3.022208</td>\n",
       "      <td>3.022208</td>\n",
       "      <td>26.732727</td>\n",
       "      <td>3.022208</td>\n",
       "      <td>28.163126</td>\n",
       "      <td>23.836245</td>\n",
       "      <td>3.022208</td>\n",
       "      <td>28.436388</td>\n",
       "      <td>...</td>\n",
       "      <td>3.022208</td>\n",
       "      <td>3.022208</td>\n",
       "      <td>3.022208</td>\n",
       "      <td>3.022208</td>\n",
       "      <td>3.022208</td>\n",
       "      <td>3.022208</td>\n",
       "      <td>3.022208</td>\n",
       "      <td>3.022208</td>\n",
       "      <td>3.022208</td>\n",
       "      <td>3.022208</td>\n",
       "    </tr>\n",
       "  </tbody>\n",
       "</table>\n",
       "<p>5 rows × 253 columns</p>\n",
       "</div>"
      ],
      "text/plain": [
       "                               Blood_Plasma_CPTAC_TrypDige_undepleted_normal_19Apr13_Methow_13-02-13  \\\n",
       "Peptide                                                                                                \n",
       "-.DIQM*TQSPSTLSASVGDR.V                                                26.731951                       \n",
       "-.DIQM*TQSPSTLSASVGDRVTITCR.A                                           3.022208                       \n",
       "-.DIQMTQSPSTLSASVGDR.V                                                 26.387537                       \n",
       "-.DIQMTQSPSTLSASVGDRVTITCR.A                                            3.022208                       \n",
       "-.EVQLVETGGGLIQPGGSLR.L                                                24.546220                       \n",
       "\n",
       "                               Blood_Plasma_Darpa_2_human_02_23Jan17_Arwem_16-10-25  \\\n",
       "Peptide                                                                               \n",
       "-.DIQM*TQSPSTLSASVGDR.V                                                22.187643      \n",
       "-.DIQM*TQSPSTLSASVGDRVTITCR.A                                           3.022208      \n",
       "-.DIQMTQSPSTLSASVGDR.V                                                 28.015792      \n",
       "-.DIQMTQSPSTLSASVGDRVTITCR.A                                            3.022208      \n",
       "-.EVQLVETGGGLIQPGGSLR.L                                                 3.022208      \n",
       "\n",
       "                               Blood_Plasma_OMICS_EBV_HP_UW001_8Apr16_Arwen_16-01-03  \\\n",
       "Peptide                                                                                \n",
       "-.DIQM*TQSPSTLSASVGDR.V                                                 3.022208       \n",
       "-.DIQM*TQSPSTLSASVGDRVTITCR.A                                           3.022208       \n",
       "-.DIQMTQSPSTLSASVGDR.V                                                  3.022208       \n",
       "-.DIQMTQSPSTLSASVGDRVTITCR.A                                            3.022208       \n",
       "-.EVQLVETGGGLIQPGGSLR.L                                                 3.022208       \n",
       "\n",
       "                               Blood_Plasma_OMICS_EBV_HP_UW002_8Apr16_Arwen_16-01-03  \\\n",
       "Peptide                                                                                \n",
       "-.DIQM*TQSPSTLSASVGDR.V                                                29.328345       \n",
       "-.DIQM*TQSPSTLSASVGDRVTITCR.A                                          30.633308       \n",
       "-.DIQMTQSPSTLSASVGDR.V                                                  3.022208       \n",
       "-.DIQMTQSPSTLSASVGDRVTITCR.A                                            3.022208       \n",
       "-.EVQLVETGGGLIQPGGSLR.L                                                 3.022208       \n",
       "\n",
       "                               Blood_Plasma_OMICS_EBV_HP_UW003_8Apr16_Arwen_16-01-03  \\\n",
       "Peptide                                                                                \n",
       "-.DIQM*TQSPSTLSASVGDR.V                                                29.916272       \n",
       "-.DIQM*TQSPSTLSASVGDRVTITCR.A                                          30.815586       \n",
       "-.DIQMTQSPSTLSASVGDR.V                                                 31.403752       \n",
       "-.DIQMTQSPSTLSASVGDRVTITCR.A                                           32.585511       \n",
       "-.EVQLVETGGGLIQPGGSLR.L                                                26.732727       \n",
       "\n",
       "                               Blood_Plasma_OMICS_EBV_HP_UW004_8Apr16_Arwen_16-01-03  \\\n",
       "Peptide                                                                                \n",
       "-.DIQM*TQSPSTLSASVGDR.V                                                 3.022208       \n",
       "-.DIQM*TQSPSTLSASVGDRVTITCR.A                                           3.022208       \n",
       "-.DIQMTQSPSTLSASVGDR.V                                                  3.022208       \n",
       "-.DIQMTQSPSTLSASVGDRVTITCR.A                                            3.022208       \n",
       "-.EVQLVETGGGLIQPGGSLR.L                                                 3.022208       \n",
       "\n",
       "                               Blood_Plasma_OMICS_EBV_HP_UW005_8Apr16_Arwen_16-01-03  \\\n",
       "Peptide                                                                                \n",
       "-.DIQM*TQSPSTLSASVGDR.V                                                27.586706       \n",
       "-.DIQM*TQSPSTLSASVGDRVTITCR.A                                          29.483431       \n",
       "-.DIQMTQSPSTLSASVGDR.V                                                 27.695976       \n",
       "-.DIQMTQSPSTLSASVGDRVTITCR.A                                            3.022208       \n",
       "-.EVQLVETGGGLIQPGGSLR.L                                                28.163126       \n",
       "\n",
       "                               Blood_Plasma_OMICS_EBV_HP_UW006_8Apr16_Arwen_16-01-03  \\\n",
       "Peptide                                                                                \n",
       "-.DIQM*TQSPSTLSASVGDR.V                                                30.458361       \n",
       "-.DIQM*TQSPSTLSASVGDRVTITCR.A                                          32.564995       \n",
       "-.DIQMTQSPSTLSASVGDR.V                                                 29.779972       \n",
       "-.DIQMTQSPSTLSASVGDRVTITCR.A                                           30.845879       \n",
       "-.EVQLVETGGGLIQPGGSLR.L                                                23.836245       \n",
       "\n",
       "                               Blood_Plasma_OMICS_EBV_HP_UW007_8Apr16_Arwen_16-01-03  \\\n",
       "Peptide                                                                                \n",
       "-.DIQM*TQSPSTLSASVGDR.V                                                29.004130       \n",
       "-.DIQM*TQSPSTLSASVGDRVTITCR.A                                          30.319263       \n",
       "-.DIQMTQSPSTLSASVGDR.V                                                 29.747784       \n",
       "-.DIQMTQSPSTLSASVGDRVTITCR.A                                           30.983525       \n",
       "-.EVQLVETGGGLIQPGGSLR.L                                                 3.022208       \n",
       "\n",
       "                               Blood_Plasma_OMICS_EBV_HP_UW008_8Apr16_Arwen_16-01-03  \\\n",
       "Peptide                                                                                \n",
       "-.DIQM*TQSPSTLSASVGDR.V                                                31.023004       \n",
       "-.DIQM*TQSPSTLSASVGDRVTITCR.A                                          32.368436       \n",
       "-.DIQMTQSPSTLSASVGDR.V                                                 30.255299       \n",
       "-.DIQMTQSPSTLSASVGDRVTITCR.A                                           27.526416       \n",
       "-.EVQLVETGGGLIQPGGSLR.L                                                28.436388       \n",
       "\n",
       "                                                         ...                             \\\n",
       "Peptide                                                  ...                              \n",
       "-.DIQM*TQSPSTLSASVGDR.V                                  ...                              \n",
       "-.DIQM*TQSPSTLSASVGDRVTITCR.A                            ...                              \n",
       "-.DIQMTQSPSTLSASVGDR.V                                   ...                              \n",
       "-.DIQMTQSPSTLSASVGDRVTITCR.A                             ...                              \n",
       "-.EVQLVETGGGLIQPGGSLR.L                                  ...                              \n",
       "\n",
       "                               Temporal_Lobe_Alz_FX1P159_Guan_1_26Jul10_Andromeda_10-06-28  \\\n",
       "Peptide                                                                                      \n",
       "-.DIQM*TQSPSTLSASVGDR.V                                                 3.022208             \n",
       "-.DIQM*TQSPSTLSASVGDRVTITCR.A                                           3.022208             \n",
       "-.DIQMTQSPSTLSASVGDR.V                                                  3.022208             \n",
       "-.DIQMTQSPSTLSASVGDRVTITCR.A                                            3.022208             \n",
       "-.EVQLVETGGGLIQPGGSLR.L                                                 3.022208             \n",
       "\n",
       "                               Temporal_Lobe_Alz_FX1P159_Guan_2_26Jul10_Andromeda_10-06-29  \\\n",
       "Peptide                                                                                      \n",
       "-.DIQM*TQSPSTLSASVGDR.V                                                 3.022208             \n",
       "-.DIQM*TQSPSTLSASVGDRVTITCR.A                                           3.022208             \n",
       "-.DIQMTQSPSTLSASVGDR.V                                                  3.022208             \n",
       "-.DIQMTQSPSTLSASVGDRVTITCR.A                                            3.022208             \n",
       "-.EVQLVETGGGLIQPGGSLR.L                                                 3.022208             \n",
       "\n",
       "                               Temporal_Lobe_Alz_FX1P159_Guan_3_26Jul10_Andromeda_10-06-28  \\\n",
       "Peptide                                                                                      \n",
       "-.DIQM*TQSPSTLSASVGDR.V                                                 3.022208             \n",
       "-.DIQM*TQSPSTLSASVGDRVTITCR.A                                           3.022208             \n",
       "-.DIQMTQSPSTLSASVGDR.V                                                  3.022208             \n",
       "-.DIQMTQSPSTLSASVGDRVTITCR.A                                            3.022208             \n",
       "-.EVQLVETGGGLIQPGGSLR.L                                                 3.022208             \n",
       "\n",
       "                               Temporal_Lobe_Alz_FX1P159_Guan_Typx2_1_26Jul10_Andromeda_10-06-29  \\\n",
       "Peptide                                                                                            \n",
       "-.DIQM*TQSPSTLSASVGDR.V                                                 3.022208                   \n",
       "-.DIQM*TQSPSTLSASVGDRVTITCR.A                                           3.022208                   \n",
       "-.DIQMTQSPSTLSASVGDR.V                                                  3.022208                   \n",
       "-.DIQMTQSPSTLSASVGDRVTITCR.A                                            3.022208                   \n",
       "-.EVQLVETGGGLIQPGGSLR.L                                                 3.022208                   \n",
       "\n",
       "                               Temporal_Lobe_Alz_FX1P159_Guan_Typx2_2_26Jul10_Andromeda_10-06-28  \\\n",
       "Peptide                                                                                            \n",
       "-.DIQM*TQSPSTLSASVGDR.V                                                 3.022208                   \n",
       "-.DIQM*TQSPSTLSASVGDRVTITCR.A                                           3.022208                   \n",
       "-.DIQMTQSPSTLSASVGDR.V                                                  3.022208                   \n",
       "-.DIQMTQSPSTLSASVGDRVTITCR.A                                            3.022208                   \n",
       "-.EVQLVETGGGLIQPGGSLR.L                                                 3.022208                   \n",
       "\n",
       "                               Temporal_Lobe_Alz_FX1P159_Guan_Typx2_3_26Jul10_Andromeda_10-06-29  \\\n",
       "Peptide                                                                                            \n",
       "-.DIQM*TQSPSTLSASVGDR.V                                                 3.022208                   \n",
       "-.DIQM*TQSPSTLSASVGDRVTITCR.A                                           3.022208                   \n",
       "-.DIQMTQSPSTLSASVGDR.V                                                  3.022208                   \n",
       "-.DIQMTQSPSTLSASVGDRVTITCR.A                                            3.022208                   \n",
       "-.EVQLVETGGGLIQPGGSLR.L                                                 3.022208                   \n",
       "\n",
       "                               Temporal_Lobe_Alz_FX2P57_IMAC_153_9May11_Hawk_11-04-02p  \\\n",
       "Peptide                                                                                  \n",
       "-.DIQM*TQSPSTLSASVGDR.V                                                 3.022208         \n",
       "-.DIQM*TQSPSTLSASVGDRVTITCR.A                                           3.022208         \n",
       "-.DIQMTQSPSTLSASVGDR.V                                                  3.022208         \n",
       "-.DIQMTQSPSTLSASVGDRVTITCR.A                                            3.022208         \n",
       "-.EVQLVETGGGLIQPGGSLR.L                                                 3.022208         \n",
       "\n",
       "                               Temporal_Lobe_Alz_FX2P57_IMAC_161_20Apr11_Hawk_10-12-03p  \\\n",
       "Peptide                                                                                   \n",
       "-.DIQM*TQSPSTLSASVGDR.V                                                 3.022208          \n",
       "-.DIQM*TQSPSTLSASVGDRVTITCR.A                                           3.022208          \n",
       "-.DIQMTQSPSTLSASVGDR.V                                                  3.022208          \n",
       "-.DIQMTQSPSTLSASVGDRVTITCR.A                                            3.022208          \n",
       "-.EVQLVETGGGLIQPGGSLR.L                                                 3.022208          \n",
       "\n",
       "                               Temporal_Lobe_Alz_FX2P57_IMAC_187_26Apr11_Hawk_10-12-03p  \\\n",
       "Peptide                                                                                   \n",
       "-.DIQM*TQSPSTLSASVGDR.V                                                 3.022208          \n",
       "-.DIQM*TQSPSTLSASVGDRVTITCR.A                                           3.022208          \n",
       "-.DIQMTQSPSTLSASVGDR.V                                                  3.022208          \n",
       "-.DIQMTQSPSTLSASVGDRVTITCR.A                                            3.022208          \n",
       "-.EVQLVETGGGLIQPGGSLR.L                                                 3.022208          \n",
       "\n",
       "                               Temporal_Lobe_Alz_FX2P57_IMAC_212_11May11_Hawk_11-04-02p  \n",
       "Peptide                                                                                  \n",
       "-.DIQM*TQSPSTLSASVGDR.V                                                 3.022208         \n",
       "-.DIQM*TQSPSTLSASVGDRVTITCR.A                                           3.022208         \n",
       "-.DIQMTQSPSTLSASVGDR.V                                                  3.022208         \n",
       "-.DIQMTQSPSTLSASVGDRVTITCR.A                                            3.022208         \n",
       "-.EVQLVETGGGLIQPGGSLR.L                                                 3.022208         \n",
       "\n",
       "[5 rows x 253 columns]"
      ]
     },
     "execution_count": 6,
     "metadata": {},
     "output_type": "execute_result"
    }
   ],
   "source": [
    "df.head()"
   ]
  },
  {
   "cell_type": "markdown",
   "metadata": {},
   "source": [
    "## Make train-test split"
   ]
  },
  {
   "cell_type": "code",
   "execution_count": 7,
   "metadata": {
    "collapsed": true
   },
   "outputs": [],
   "source": [
    "train_df, test_df, train_labels, test_labels = train_test_split(\n",
    "    df.T, labels, test_size=0.30, random_state=0, stratify=labels)"
   ]
  },
  {
   "cell_type": "markdown",
   "metadata": {},
   "source": [
    "## Tune parameters of best models with Grid Search"
   ]
  },
  {
   "cell_type": "code",
   "execution_count": 8,
   "metadata": {
    "collapsed": true
   },
   "outputs": [],
   "source": [
    "GRID_SEARCH_FOLDS = 8\n",
    "N_JOBS = 1"
   ]
  },
  {
   "cell_type": "markdown",
   "metadata": {},
   "source": [
    "### Gradient Boosting grid search"
   ]
  },
  {
   "cell_type": "code",
   "execution_count": 10,
   "metadata": {},
   "outputs": [
    {
     "name": "stdout",
     "output_type": "stream",
     "text": [
      "Best Gradient Boosting parameters:\n",
      " {'classify__max_depth': 8, 'classify__min_samples_split': 10, 'classify__n_estimators': 25}\n",
      "\n",
      "Best Cross-Validation score:\n",
      " 0.9774011299435028\n"
     ]
    }
   ],
   "source": [
    "from sklearn.ensemble import GradientBoostingClassifier\n",
    "\n",
    "gbc_pipe = Pipeline([\n",
    "    ('reduce_dim', SelectPercentile(percentile=25)),\n",
    "    ('classify', GradientBoostingClassifier(random_state=0))])\n",
    " \n",
    "MAX_DEPTH = range(5,16,3)\n",
    "N_ESTIMATORS = [25, 50, 100, 200]\n",
    "MIN_SAMPLES_SPLIT = [2, 3, 4, 5, 10]\n",
    "    \n",
    "gbc_param_grid = {\n",
    "    'classify__n_estimators': N_ESTIMATORS,\n",
    "    'classify__min_samples_split': MIN_SAMPLES_SPLIT,\n",
    "    'classify__max_depth': MAX_DEPTH \n",
    "}\n",
    "\n",
    "gbc_grid = GridSearchCV(gbc_pipe, \n",
    "                       cv=GRID_SEARCH_FOLDS, \n",
    "                       n_jobs=N_JOBS, \n",
    "                       param_grid=gbc_param_grid)\n",
    "\n",
    "gbc_grid.fit(train_df, train_labels)\n",
    "\n",
    "print('Best Gradient Boosting parameters:\\n', gbc_grid.best_params_)\n",
    "print('\\nBest Cross-Validation score:\\n', gbc_grid.best_score_)"
   ]
  },
  {
   "cell_type": "code",
   "execution_count": 11,
   "metadata": {
    "collapsed": true
   },
   "outputs": [],
   "source": [
    "finalized_model_folder = r'Trained_Models\\\\'\n",
    "model_path = finalized_model_folder + 'gbc_grid_25Percentile.sav'\n",
    "joblib.dump(gbc_grid, open(model_path, 'wb'))"
   ]
  },
  {
   "cell_type": "markdown",
   "metadata": {},
   "source": [
    "###  Logistic Regression grid search"
   ]
  },
  {
   "cell_type": "code",
   "execution_count": 26,
   "metadata": {
    "scrolled": true
   },
   "outputs": [
    {
     "name": "stderr",
     "output_type": "stream",
     "text": [
      "C:\\ProgramData\\Anaconda3\\lib\\site-packages\\sklearn\\linear_model\\sag.py:326: ConvergenceWarning: The max_iter was reached which means the coef_ did not converge\n",
      "  \"the coef_ did not converge\", ConvergenceWarning)\n",
      "C:\\ProgramData\\Anaconda3\\lib\\site-packages\\sklearn\\linear_model\\sag.py:326: ConvergenceWarning: The max_iter was reached which means the coef_ did not converge\n",
      "  \"the coef_ did not converge\", ConvergenceWarning)\n",
      "C:\\ProgramData\\Anaconda3\\lib\\site-packages\\sklearn\\linear_model\\sag.py:326: ConvergenceWarning: The max_iter was reached which means the coef_ did not converge\n",
      "  \"the coef_ did not converge\", ConvergenceWarning)\n",
      "C:\\ProgramData\\Anaconda3\\lib\\site-packages\\sklearn\\linear_model\\sag.py:326: ConvergenceWarning: The max_iter was reached which means the coef_ did not converge\n",
      "  \"the coef_ did not converge\", ConvergenceWarning)\n",
      "C:\\ProgramData\\Anaconda3\\lib\\site-packages\\sklearn\\linear_model\\sag.py:326: ConvergenceWarning: The max_iter was reached which means the coef_ did not converge\n",
      "  \"the coef_ did not converge\", ConvergenceWarning)\n",
      "C:\\ProgramData\\Anaconda3\\lib\\site-packages\\sklearn\\linear_model\\sag.py:326: ConvergenceWarning: The max_iter was reached which means the coef_ did not converge\n",
      "  \"the coef_ did not converge\", ConvergenceWarning)\n",
      "C:\\ProgramData\\Anaconda3\\lib\\site-packages\\sklearn\\linear_model\\sag.py:326: ConvergenceWarning: The max_iter was reached which means the coef_ did not converge\n",
      "  \"the coef_ did not converge\", ConvergenceWarning)\n",
      "C:\\ProgramData\\Anaconda3\\lib\\site-packages\\sklearn\\linear_model\\sag.py:326: ConvergenceWarning: The max_iter was reached which means the coef_ did not converge\n",
      "  \"the coef_ did not converge\", ConvergenceWarning)\n",
      "C:\\ProgramData\\Anaconda3\\lib\\site-packages\\sklearn\\linear_model\\sag.py:326: ConvergenceWarning: The max_iter was reached which means the coef_ did not converge\n",
      "  \"the coef_ did not converge\", ConvergenceWarning)\n",
      "C:\\ProgramData\\Anaconda3\\lib\\site-packages\\sklearn\\linear_model\\sag.py:326: ConvergenceWarning: The max_iter was reached which means the coef_ did not converge\n",
      "  \"the coef_ did not converge\", ConvergenceWarning)\n",
      "C:\\ProgramData\\Anaconda3\\lib\\site-packages\\sklearn\\linear_model\\sag.py:326: ConvergenceWarning: The max_iter was reached which means the coef_ did not converge\n",
      "  \"the coef_ did not converge\", ConvergenceWarning)\n",
      "C:\\ProgramData\\Anaconda3\\lib\\site-packages\\sklearn\\linear_model\\sag.py:326: ConvergenceWarning: The max_iter was reached which means the coef_ did not converge\n",
      "  \"the coef_ did not converge\", ConvergenceWarning)\n",
      "C:\\ProgramData\\Anaconda3\\lib\\site-packages\\sklearn\\linear_model\\sag.py:326: ConvergenceWarning: The max_iter was reached which means the coef_ did not converge\n",
      "  \"the coef_ did not converge\", ConvergenceWarning)\n",
      "C:\\ProgramData\\Anaconda3\\lib\\site-packages\\sklearn\\linear_model\\sag.py:326: ConvergenceWarning: The max_iter was reached which means the coef_ did not converge\n",
      "  \"the coef_ did not converge\", ConvergenceWarning)\n",
      "C:\\ProgramData\\Anaconda3\\lib\\site-packages\\sklearn\\linear_model\\sag.py:326: ConvergenceWarning: The max_iter was reached which means the coef_ did not converge\n",
      "  \"the coef_ did not converge\", ConvergenceWarning)\n",
      "C:\\ProgramData\\Anaconda3\\lib\\site-packages\\sklearn\\linear_model\\sag.py:326: ConvergenceWarning: The max_iter was reached which means the coef_ did not converge\n",
      "  \"the coef_ did not converge\", ConvergenceWarning)\n",
      "C:\\ProgramData\\Anaconda3\\lib\\site-packages\\sklearn\\linear_model\\sag.py:326: ConvergenceWarning: The max_iter was reached which means the coef_ did not converge\n",
      "  \"the coef_ did not converge\", ConvergenceWarning)\n",
      "C:\\ProgramData\\Anaconda3\\lib\\site-packages\\sklearn\\linear_model\\sag.py:326: ConvergenceWarning: The max_iter was reached which means the coef_ did not converge\n",
      "  \"the coef_ did not converge\", ConvergenceWarning)\n",
      "C:\\ProgramData\\Anaconda3\\lib\\site-packages\\sklearn\\linear_model\\sag.py:326: ConvergenceWarning: The max_iter was reached which means the coef_ did not converge\n",
      "  \"the coef_ did not converge\", ConvergenceWarning)\n",
      "C:\\ProgramData\\Anaconda3\\lib\\site-packages\\sklearn\\linear_model\\sag.py:326: ConvergenceWarning: The max_iter was reached which means the coef_ did not converge\n",
      "  \"the coef_ did not converge\", ConvergenceWarning)\n",
      "C:\\ProgramData\\Anaconda3\\lib\\site-packages\\sklearn\\linear_model\\sag.py:326: ConvergenceWarning: The max_iter was reached which means the coef_ did not converge\n",
      "  \"the coef_ did not converge\", ConvergenceWarning)\n",
      "C:\\ProgramData\\Anaconda3\\lib\\site-packages\\sklearn\\linear_model\\sag.py:326: ConvergenceWarning: The max_iter was reached which means the coef_ did not converge\n",
      "  \"the coef_ did not converge\", ConvergenceWarning)\n",
      "C:\\ProgramData\\Anaconda3\\lib\\site-packages\\sklearn\\linear_model\\sag.py:326: ConvergenceWarning: The max_iter was reached which means the coef_ did not converge\n",
      "  \"the coef_ did not converge\", ConvergenceWarning)\n",
      "C:\\ProgramData\\Anaconda3\\lib\\site-packages\\sklearn\\linear_model\\sag.py:326: ConvergenceWarning: The max_iter was reached which means the coef_ did not converge\n",
      "  \"the coef_ did not converge\", ConvergenceWarning)\n",
      "C:\\ProgramData\\Anaconda3\\lib\\site-packages\\sklearn\\linear_model\\sag.py:326: ConvergenceWarning: The max_iter was reached which means the coef_ did not converge\n",
      "  \"the coef_ did not converge\", ConvergenceWarning)\n",
      "C:\\ProgramData\\Anaconda3\\lib\\site-packages\\sklearn\\linear_model\\sag.py:326: ConvergenceWarning: The max_iter was reached which means the coef_ did not converge\n",
      "  \"the coef_ did not converge\", ConvergenceWarning)\n",
      "C:\\ProgramData\\Anaconda3\\lib\\site-packages\\sklearn\\linear_model\\sag.py:326: ConvergenceWarning: The max_iter was reached which means the coef_ did not converge\n",
      "  \"the coef_ did not converge\", ConvergenceWarning)\n",
      "C:\\ProgramData\\Anaconda3\\lib\\site-packages\\sklearn\\linear_model\\sag.py:326: ConvergenceWarning: The max_iter was reached which means the coef_ did not converge\n",
      "  \"the coef_ did not converge\", ConvergenceWarning)\n",
      "C:\\ProgramData\\Anaconda3\\lib\\site-packages\\sklearn\\linear_model\\sag.py:326: ConvergenceWarning: The max_iter was reached which means the coef_ did not converge\n",
      "  \"the coef_ did not converge\", ConvergenceWarning)\n",
      "C:\\ProgramData\\Anaconda3\\lib\\site-packages\\sklearn\\linear_model\\sag.py:326: ConvergenceWarning: The max_iter was reached which means the coef_ did not converge\n",
      "  \"the coef_ did not converge\", ConvergenceWarning)\n",
      "C:\\ProgramData\\Anaconda3\\lib\\site-packages\\sklearn\\linear_model\\sag.py:326: ConvergenceWarning: The max_iter was reached which means the coef_ did not converge\n",
      "  \"the coef_ did not converge\", ConvergenceWarning)\n",
      "C:\\ProgramData\\Anaconda3\\lib\\site-packages\\sklearn\\linear_model\\sag.py:326: ConvergenceWarning: The max_iter was reached which means the coef_ did not converge\n",
      "  \"the coef_ did not converge\", ConvergenceWarning)\n",
      "C:\\ProgramData\\Anaconda3\\lib\\site-packages\\sklearn\\linear_model\\sag.py:326: ConvergenceWarning: The max_iter was reached which means the coef_ did not converge\n",
      "  \"the coef_ did not converge\", ConvergenceWarning)\n",
      "C:\\ProgramData\\Anaconda3\\lib\\site-packages\\sklearn\\linear_model\\sag.py:326: ConvergenceWarning: The max_iter was reached which means the coef_ did not converge\n",
      "  \"the coef_ did not converge\", ConvergenceWarning)\n",
      "C:\\ProgramData\\Anaconda3\\lib\\site-packages\\sklearn\\linear_model\\sag.py:326: ConvergenceWarning: The max_iter was reached which means the coef_ did not converge\n",
      "  \"the coef_ did not converge\", ConvergenceWarning)\n",
      "C:\\ProgramData\\Anaconda3\\lib\\site-packages\\sklearn\\linear_model\\sag.py:326: ConvergenceWarning: The max_iter was reached which means the coef_ did not converge\n",
      "  \"the coef_ did not converge\", ConvergenceWarning)\n",
      "C:\\ProgramData\\Anaconda3\\lib\\site-packages\\sklearn\\linear_model\\sag.py:326: ConvergenceWarning: The max_iter was reached which means the coef_ did not converge\n",
      "  \"the coef_ did not converge\", ConvergenceWarning)\n",
      "C:\\ProgramData\\Anaconda3\\lib\\site-packages\\sklearn\\linear_model\\sag.py:326: ConvergenceWarning: The max_iter was reached which means the coef_ did not converge\n",
      "  \"the coef_ did not converge\", ConvergenceWarning)\n",
      "C:\\ProgramData\\Anaconda3\\lib\\site-packages\\sklearn\\linear_model\\sag.py:326: ConvergenceWarning: The max_iter was reached which means the coef_ did not converge\n",
      "  \"the coef_ did not converge\", ConvergenceWarning)\n"
     ]
    },
    {
     "name": "stderr",
     "output_type": "stream",
     "text": [
      "C:\\ProgramData\\Anaconda3\\lib\\site-packages\\sklearn\\linear_model\\sag.py:326: ConvergenceWarning: The max_iter was reached which means the coef_ did not converge\n",
      "  \"the coef_ did not converge\", ConvergenceWarning)\n",
      "C:\\ProgramData\\Anaconda3\\lib\\site-packages\\sklearn\\linear_model\\sag.py:326: ConvergenceWarning: The max_iter was reached which means the coef_ did not converge\n",
      "  \"the coef_ did not converge\", ConvergenceWarning)\n",
      "C:\\ProgramData\\Anaconda3\\lib\\site-packages\\sklearn\\linear_model\\sag.py:326: ConvergenceWarning: The max_iter was reached which means the coef_ did not converge\n",
      "  \"the coef_ did not converge\", ConvergenceWarning)\n",
      "C:\\ProgramData\\Anaconda3\\lib\\site-packages\\sklearn\\linear_model\\sag.py:326: ConvergenceWarning: The max_iter was reached which means the coef_ did not converge\n",
      "  \"the coef_ did not converge\", ConvergenceWarning)\n",
      "C:\\ProgramData\\Anaconda3\\lib\\site-packages\\sklearn\\linear_model\\sag.py:326: ConvergenceWarning: The max_iter was reached which means the coef_ did not converge\n",
      "  \"the coef_ did not converge\", ConvergenceWarning)\n",
      "C:\\ProgramData\\Anaconda3\\lib\\site-packages\\sklearn\\linear_model\\sag.py:326: ConvergenceWarning: The max_iter was reached which means the coef_ did not converge\n",
      "  \"the coef_ did not converge\", ConvergenceWarning)\n",
      "C:\\ProgramData\\Anaconda3\\lib\\site-packages\\sklearn\\linear_model\\sag.py:326: ConvergenceWarning: The max_iter was reached which means the coef_ did not converge\n",
      "  \"the coef_ did not converge\", ConvergenceWarning)\n",
      "C:\\ProgramData\\Anaconda3\\lib\\site-packages\\sklearn\\linear_model\\sag.py:326: ConvergenceWarning: The max_iter was reached which means the coef_ did not converge\n",
      "  \"the coef_ did not converge\", ConvergenceWarning)\n",
      "C:\\ProgramData\\Anaconda3\\lib\\site-packages\\sklearn\\linear_model\\sag.py:326: ConvergenceWarning: The max_iter was reached which means the coef_ did not converge\n",
      "  \"the coef_ did not converge\", ConvergenceWarning)\n",
      "C:\\ProgramData\\Anaconda3\\lib\\site-packages\\sklearn\\linear_model\\sag.py:326: ConvergenceWarning: The max_iter was reached which means the coef_ did not converge\n",
      "  \"the coef_ did not converge\", ConvergenceWarning)\n",
      "C:\\ProgramData\\Anaconda3\\lib\\site-packages\\sklearn\\linear_model\\sag.py:326: ConvergenceWarning: The max_iter was reached which means the coef_ did not converge\n",
      "  \"the coef_ did not converge\", ConvergenceWarning)\n",
      "C:\\ProgramData\\Anaconda3\\lib\\site-packages\\sklearn\\linear_model\\sag.py:326: ConvergenceWarning: The max_iter was reached which means the coef_ did not converge\n",
      "  \"the coef_ did not converge\", ConvergenceWarning)\n",
      "C:\\ProgramData\\Anaconda3\\lib\\site-packages\\sklearn\\linear_model\\sag.py:326: ConvergenceWarning: The max_iter was reached which means the coef_ did not converge\n",
      "  \"the coef_ did not converge\", ConvergenceWarning)\n",
      "C:\\ProgramData\\Anaconda3\\lib\\site-packages\\sklearn\\linear_model\\sag.py:326: ConvergenceWarning: The max_iter was reached which means the coef_ did not converge\n",
      "  \"the coef_ did not converge\", ConvergenceWarning)\n",
      "C:\\ProgramData\\Anaconda3\\lib\\site-packages\\sklearn\\linear_model\\sag.py:326: ConvergenceWarning: The max_iter was reached which means the coef_ did not converge\n",
      "  \"the coef_ did not converge\", ConvergenceWarning)\n",
      "C:\\ProgramData\\Anaconda3\\lib\\site-packages\\sklearn\\linear_model\\sag.py:326: ConvergenceWarning: The max_iter was reached which means the coef_ did not converge\n",
      "  \"the coef_ did not converge\", ConvergenceWarning)\n",
      "C:\\ProgramData\\Anaconda3\\lib\\site-packages\\sklearn\\linear_model\\sag.py:326: ConvergenceWarning: The max_iter was reached which means the coef_ did not converge\n",
      "  \"the coef_ did not converge\", ConvergenceWarning)\n",
      "C:\\ProgramData\\Anaconda3\\lib\\site-packages\\sklearn\\linear_model\\sag.py:326: ConvergenceWarning: The max_iter was reached which means the coef_ did not converge\n",
      "  \"the coef_ did not converge\", ConvergenceWarning)\n",
      "C:\\ProgramData\\Anaconda3\\lib\\site-packages\\sklearn\\linear_model\\sag.py:326: ConvergenceWarning: The max_iter was reached which means the coef_ did not converge\n",
      "  \"the coef_ did not converge\", ConvergenceWarning)\n",
      "C:\\ProgramData\\Anaconda3\\lib\\site-packages\\sklearn\\linear_model\\sag.py:326: ConvergenceWarning: The max_iter was reached which means the coef_ did not converge\n",
      "  \"the coef_ did not converge\", ConvergenceWarning)\n",
      "C:\\ProgramData\\Anaconda3\\lib\\site-packages\\sklearn\\linear_model\\sag.py:326: ConvergenceWarning: The max_iter was reached which means the coef_ did not converge\n",
      "  \"the coef_ did not converge\", ConvergenceWarning)\n",
      "C:\\ProgramData\\Anaconda3\\lib\\site-packages\\sklearn\\linear_model\\sag.py:326: ConvergenceWarning: The max_iter was reached which means the coef_ did not converge\n",
      "  \"the coef_ did not converge\", ConvergenceWarning)\n",
      "C:\\ProgramData\\Anaconda3\\lib\\site-packages\\sklearn\\linear_model\\sag.py:326: ConvergenceWarning: The max_iter was reached which means the coef_ did not converge\n",
      "  \"the coef_ did not converge\", ConvergenceWarning)\n",
      "C:\\ProgramData\\Anaconda3\\lib\\site-packages\\sklearn\\linear_model\\sag.py:326: ConvergenceWarning: The max_iter was reached which means the coef_ did not converge\n",
      "  \"the coef_ did not converge\", ConvergenceWarning)\n",
      "C:\\ProgramData\\Anaconda3\\lib\\site-packages\\sklearn\\linear_model\\sag.py:326: ConvergenceWarning: The max_iter was reached which means the coef_ did not converge\n",
      "  \"the coef_ did not converge\", ConvergenceWarning)\n",
      "C:\\ProgramData\\Anaconda3\\lib\\site-packages\\sklearn\\linear_model\\sag.py:326: ConvergenceWarning: The max_iter was reached which means the coef_ did not converge\n",
      "  \"the coef_ did not converge\", ConvergenceWarning)\n",
      "C:\\ProgramData\\Anaconda3\\lib\\site-packages\\sklearn\\linear_model\\sag.py:326: ConvergenceWarning: The max_iter was reached which means the coef_ did not converge\n",
      "  \"the coef_ did not converge\", ConvergenceWarning)\n",
      "C:\\ProgramData\\Anaconda3\\lib\\site-packages\\sklearn\\linear_model\\sag.py:326: ConvergenceWarning: The max_iter was reached which means the coef_ did not converge\n",
      "  \"the coef_ did not converge\", ConvergenceWarning)\n",
      "C:\\ProgramData\\Anaconda3\\lib\\site-packages\\sklearn\\linear_model\\sag.py:326: ConvergenceWarning: The max_iter was reached which means the coef_ did not converge\n",
      "  \"the coef_ did not converge\", ConvergenceWarning)\n",
      "C:\\ProgramData\\Anaconda3\\lib\\site-packages\\sklearn\\linear_model\\sag.py:326: ConvergenceWarning: The max_iter was reached which means the coef_ did not converge\n",
      "  \"the coef_ did not converge\", ConvergenceWarning)\n",
      "C:\\ProgramData\\Anaconda3\\lib\\site-packages\\sklearn\\linear_model\\sag.py:326: ConvergenceWarning: The max_iter was reached which means the coef_ did not converge\n",
      "  \"the coef_ did not converge\", ConvergenceWarning)\n",
      "C:\\ProgramData\\Anaconda3\\lib\\site-packages\\sklearn\\linear_model\\sag.py:326: ConvergenceWarning: The max_iter was reached which means the coef_ did not converge\n",
      "  \"the coef_ did not converge\", ConvergenceWarning)\n",
      "C:\\ProgramData\\Anaconda3\\lib\\site-packages\\sklearn\\linear_model\\sag.py:326: ConvergenceWarning: The max_iter was reached which means the coef_ did not converge\n",
      "  \"the coef_ did not converge\", ConvergenceWarning)\n",
      "C:\\ProgramData\\Anaconda3\\lib\\site-packages\\sklearn\\linear_model\\sag.py:326: ConvergenceWarning: The max_iter was reached which means the coef_ did not converge\n",
      "  \"the coef_ did not converge\", ConvergenceWarning)\n",
      "C:\\ProgramData\\Anaconda3\\lib\\site-packages\\sklearn\\linear_model\\sag.py:326: ConvergenceWarning: The max_iter was reached which means the coef_ did not converge\n",
      "  \"the coef_ did not converge\", ConvergenceWarning)\n",
      "C:\\ProgramData\\Anaconda3\\lib\\site-packages\\sklearn\\linear_model\\sag.py:326: ConvergenceWarning: The max_iter was reached which means the coef_ did not converge\n",
      "  \"the coef_ did not converge\", ConvergenceWarning)\n",
      "C:\\ProgramData\\Anaconda3\\lib\\site-packages\\sklearn\\linear_model\\sag.py:326: ConvergenceWarning: The max_iter was reached which means the coef_ did not converge\n",
      "  \"the coef_ did not converge\", ConvergenceWarning)\n",
      "C:\\ProgramData\\Anaconda3\\lib\\site-packages\\sklearn\\linear_model\\sag.py:326: ConvergenceWarning: The max_iter was reached which means the coef_ did not converge\n",
      "  \"the coef_ did not converge\", ConvergenceWarning)\n",
      "C:\\ProgramData\\Anaconda3\\lib\\site-packages\\sklearn\\linear_model\\sag.py:326: ConvergenceWarning: The max_iter was reached which means the coef_ did not converge\n",
      "  \"the coef_ did not converge\", ConvergenceWarning)\n"
     ]
    },
    {
     "name": "stderr",
     "output_type": "stream",
     "text": [
      "C:\\ProgramData\\Anaconda3\\lib\\site-packages\\sklearn\\linear_model\\sag.py:326: ConvergenceWarning: The max_iter was reached which means the coef_ did not converge\n",
      "  \"the coef_ did not converge\", ConvergenceWarning)\n",
      "C:\\ProgramData\\Anaconda3\\lib\\site-packages\\sklearn\\linear_model\\sag.py:326: ConvergenceWarning: The max_iter was reached which means the coef_ did not converge\n",
      "  \"the coef_ did not converge\", ConvergenceWarning)\n",
      "C:\\ProgramData\\Anaconda3\\lib\\site-packages\\sklearn\\linear_model\\sag.py:326: ConvergenceWarning: The max_iter was reached which means the coef_ did not converge\n",
      "  \"the coef_ did not converge\", ConvergenceWarning)\n",
      "C:\\ProgramData\\Anaconda3\\lib\\site-packages\\sklearn\\linear_model\\sag.py:326: ConvergenceWarning: The max_iter was reached which means the coef_ did not converge\n",
      "  \"the coef_ did not converge\", ConvergenceWarning)\n",
      "C:\\ProgramData\\Anaconda3\\lib\\site-packages\\sklearn\\linear_model\\sag.py:326: ConvergenceWarning: The max_iter was reached which means the coef_ did not converge\n",
      "  \"the coef_ did not converge\", ConvergenceWarning)\n",
      "C:\\ProgramData\\Anaconda3\\lib\\site-packages\\sklearn\\linear_model\\sag.py:326: ConvergenceWarning: The max_iter was reached which means the coef_ did not converge\n",
      "  \"the coef_ did not converge\", ConvergenceWarning)\n",
      "C:\\ProgramData\\Anaconda3\\lib\\site-packages\\sklearn\\linear_model\\sag.py:326: ConvergenceWarning: The max_iter was reached which means the coef_ did not converge\n",
      "  \"the coef_ did not converge\", ConvergenceWarning)\n",
      "C:\\ProgramData\\Anaconda3\\lib\\site-packages\\sklearn\\linear_model\\sag.py:326: ConvergenceWarning: The max_iter was reached which means the coef_ did not converge\n",
      "  \"the coef_ did not converge\", ConvergenceWarning)\n",
      "C:\\ProgramData\\Anaconda3\\lib\\site-packages\\sklearn\\linear_model\\sag.py:326: ConvergenceWarning: The max_iter was reached which means the coef_ did not converge\n",
      "  \"the coef_ did not converge\", ConvergenceWarning)\n",
      "C:\\ProgramData\\Anaconda3\\lib\\site-packages\\sklearn\\linear_model\\sag.py:326: ConvergenceWarning: The max_iter was reached which means the coef_ did not converge\n",
      "  \"the coef_ did not converge\", ConvergenceWarning)\n",
      "C:\\ProgramData\\Anaconda3\\lib\\site-packages\\sklearn\\linear_model\\sag.py:326: ConvergenceWarning: The max_iter was reached which means the coef_ did not converge\n",
      "  \"the coef_ did not converge\", ConvergenceWarning)\n",
      "C:\\ProgramData\\Anaconda3\\lib\\site-packages\\sklearn\\linear_model\\sag.py:326: ConvergenceWarning: The max_iter was reached which means the coef_ did not converge\n",
      "  \"the coef_ did not converge\", ConvergenceWarning)\n",
      "C:\\ProgramData\\Anaconda3\\lib\\site-packages\\sklearn\\linear_model\\sag.py:326: ConvergenceWarning: The max_iter was reached which means the coef_ did not converge\n",
      "  \"the coef_ did not converge\", ConvergenceWarning)\n",
      "C:\\ProgramData\\Anaconda3\\lib\\site-packages\\sklearn\\linear_model\\sag.py:326: ConvergenceWarning: The max_iter was reached which means the coef_ did not converge\n",
      "  \"the coef_ did not converge\", ConvergenceWarning)\n",
      "C:\\ProgramData\\Anaconda3\\lib\\site-packages\\sklearn\\linear_model\\sag.py:326: ConvergenceWarning: The max_iter was reached which means the coef_ did not converge\n",
      "  \"the coef_ did not converge\", ConvergenceWarning)\n",
      "C:\\ProgramData\\Anaconda3\\lib\\site-packages\\sklearn\\linear_model\\sag.py:326: ConvergenceWarning: The max_iter was reached which means the coef_ did not converge\n",
      "  \"the coef_ did not converge\", ConvergenceWarning)\n",
      "C:\\ProgramData\\Anaconda3\\lib\\site-packages\\sklearn\\linear_model\\sag.py:326: ConvergenceWarning: The max_iter was reached which means the coef_ did not converge\n",
      "  \"the coef_ did not converge\", ConvergenceWarning)\n",
      "C:\\ProgramData\\Anaconda3\\lib\\site-packages\\sklearn\\linear_model\\sag.py:326: ConvergenceWarning: The max_iter was reached which means the coef_ did not converge\n",
      "  \"the coef_ did not converge\", ConvergenceWarning)\n"
     ]
    },
    {
     "name": "stdout",
     "output_type": "stream",
     "text": [
      "Best Logistic Regression parameters:\n",
      " {'classify__C': 0.01, 'classify__solver': 'liblinear'}\n",
      "\n",
      "Best Cross-Validation score:\n",
      " 0.9887005649717514\n"
     ]
    }
   ],
   "source": [
    "from sklearn.linear_model import LogisticRegression\n",
    "\n",
    "SOLVERS = ['liblinear', 'sag', 'saga']\n",
    "C_OPTIONS = [.01, .1, 1, 10, 100, 1000]\n",
    "    \n",
    "lr_pipe = Pipeline([\n",
    "    ('reduce_dim', SelectPercentile(percentile=25)),\n",
    "    ('classify', LogisticRegression(random_state=0))])\n",
    "\n",
    "\n",
    "lr_param_grid = {\n",
    "    'classify__solver': SOLVERS,\n",
    "    'classify__C': C_OPTIONS\n",
    "}\n",
    "\n",
    "lr_grid = GridSearchCV(lr_pipe, \n",
    "                       cv=GRID_SEARCH_FOLDS, \n",
    "                       n_jobs=N_JOBS, \n",
    "                       param_grid=lr_param_grid)\n",
    "                       \n",
    "lr_grid.fit(train_df, train_labels)\n",
    "\n",
    "print('Best Logistic Regression parameters:\\n', lr_grid.best_params_)\n",
    "print('\\nBest Cross-Validation score:\\n', lr_grid.best_score_)"
   ]
  },
  {
   "cell_type": "code",
   "execution_count": 27,
   "metadata": {
    "collapsed": true
   },
   "outputs": [],
   "source": [
    "finalized_model_folder = r'Trained_Models\\\\'\n",
    "model_path = finalized_model_folder + 'lr_grid_25Percentile.sav'\n",
    "joblib.dump(lr_grid, open(model_path, 'wb'))"
   ]
  },
  {
   "cell_type": "markdown",
   "metadata": {},
   "source": [
    "### Random Forest grid search"
   ]
  },
  {
   "cell_type": "code",
   "execution_count": 14,
   "metadata": {},
   "outputs": [
    {
     "name": "stdout",
     "output_type": "stream",
     "text": [
      "Best Random Forest parameters:\n",
      " {'classify__max_features': 'auto', 'classify__min_samples_split': 2, 'classify__n_estimators': 25}\n",
      "\n",
      "Best Cross-Validation score:\n",
      " 0.9943502824858758\n"
     ]
    }
   ],
   "source": [
    "from sklearn.ensemble import RandomForestClassifier\n",
    "\n",
    "MAX_FEATURES = ['auto', 'sqrt', 'log2']\n",
    "\n",
    "rf_pipe = Pipeline([\n",
    "    ('reduce_dim', SelectPercentile(percentile=25)),\n",
    "    ('classify', RandomForestClassifier(random_state=0))])\n",
    "\n",
    "    \n",
    "rf_param_grid = {\n",
    "    'classify__n_estimators': N_ESTIMATORS,\n",
    "    'classify__min_samples_split': MIN_SAMPLES_SPLIT,\n",
    "    'classify__max_features': MAX_FEATURES\n",
    "}\n",
    "\n",
    "rf_grid = GridSearchCV(rf_pipe, \n",
    "                       cv=GRID_SEARCH_FOLDS, \n",
    "                       n_jobs=N_JOBS, \n",
    "                       param_grid=rf_param_grid)\n",
    "\n",
    "rf_grid.fit(train_df, train_labels)\n",
    "\n",
    "print('Best Random Forest parameters:\\n', rf_grid.best_params_)\n",
    "print('\\nBest Cross-Validation score:\\n', rf_grid.best_score_)"
   ]
  },
  {
   "cell_type": "code",
   "execution_count": 15,
   "metadata": {
    "collapsed": true
   },
   "outputs": [],
   "source": [
    "model_path = finalized_model_folder + 'rf_grid_25Percentile.sav'\n",
    "joblib.dump(rf_grid, open(model_path, 'wb'))"
   ]
  },
  {
   "cell_type": "markdown",
   "metadata": {},
   "source": [
    "### SVC grid search"
   ]
  },
  {
   "cell_type": "code",
   "execution_count": 16,
   "metadata": {},
   "outputs": [
    {
     "name": "stdout",
     "output_type": "stream",
     "text": [
      "Best SVC parameters:\n",
      " {'classify__C': 0.01, 'classify__kernel': 'linear'}\n",
      "\n",
      "Best Cross-Validation score:\n",
      " 0.9830508474576272\n"
     ]
    }
   ],
   "source": [
    "from sklearn.svm import SVC\n",
    "\n",
    "KERNELS = ['linear', 'rbf', 'poly']\n",
    "\n",
    "svc_pipe = Pipeline([\n",
    "    ('reduce_dim', SelectPercentile(percentile=25)),\n",
    "    ('classify', SVC(random_state=0))])\n",
    " \n",
    "svc_param_grid = {\n",
    "    'classify__kernel': KERNELS,\n",
    "    'classify__C': C_OPTIONS\n",
    "}\n",
    "\n",
    "svc_grid = GridSearchCV(svc_pipe, \n",
    "                       cv=GRID_SEARCH_FOLDS, \n",
    "                       n_jobs=N_JOBS, \n",
    "                       param_grid=svc_param_grid)\n",
    "\n",
    "svc_grid.fit(train_df, train_labels)\n",
    "\n",
    "print('Best SVC parameters:\\n', svc_grid.best_params_)\n",
    "print('\\nBest Cross-Validation score:\\n', svc_grid.best_score_)"
   ]
  },
  {
   "cell_type": "code",
   "execution_count": 17,
   "metadata": {
    "collapsed": true
   },
   "outputs": [],
   "source": [
    "model_path = finalized_model_folder + 'svc_grid_25Percentile.sav'\n",
    "joblib.dump(svc_grid, open(model_path, 'wb'))"
   ]
  },
  {
   "cell_type": "markdown",
   "metadata": {},
   "source": [
    "### KNN grid search"
   ]
  },
  {
   "cell_type": "code",
   "execution_count": 9,
   "metadata": {},
   "outputs": [
    {
     "name": "stdout",
     "output_type": "stream",
     "text": [
      "Best KNN parameters:\n",
      " {'classify__n_neighbors': 1}\n",
      "\n",
      "Best Cross-Validation score:\n",
      " 0.977401129944\n"
     ]
    }
   ],
   "source": [
    "from sklearn.neighbors import KNeighborsClassifier\n",
    "\n",
    "knn_pipe = Pipeline([\n",
    "    ('reduce_dim', SelectPercentile(percentile=25)),\n",
    "    ('classify', KNeighborsClassifier())])\n",
    " \n",
    "N_NEIGHBORS = [1, 3, 5, 10, 20]\n",
    " \n",
    "knn_param_grid = {\n",
    "    'classify__n_neighbors': N_NEIGHBORS\n",
    "}\n",
    "\n",
    "knn_grid = GridSearchCV(knn_pipe, \n",
    "                       cv=GRID_SEARCH_FOLDS, \n",
    "                       n_jobs=N_JOBS, \n",
    "                       param_grid=knn_param_grid)\n",
    "\n",
    "knn_grid.fit(train_df, train_labels)\n",
    "\n",
    "print('Best KNN parameters:\\n', knn_grid.best_params_)\n",
    "print('\\nBest Cross-Validation score:\\n', knn_grid.best_score_)"
   ]
  },
  {
   "cell_type": "code",
   "execution_count": 11,
   "metadata": {
    "collapsed": true
   },
   "outputs": [],
   "source": [
    "finalized_model_folder = r'Trained_Models\\\\'\n",
    "model_path = finalized_model_folder + 'knn_grid_25Percentile.sav'\n",
    "joblib.dump(knn_grid, open(model_path, 'wb'))"
   ]
  },
  {
   "cell_type": "markdown",
   "metadata": {},
   "source": [
    "### Multinomial Naive Bayes grid search"
   ]
  },
  {
   "cell_type": "code",
   "execution_count": 20,
   "metadata": {},
   "outputs": [
    {
     "name": "stdout",
     "output_type": "stream",
     "text": [
      "Best Multinomial NB parameters:\n",
      " {'classify__alpha': 1}\n",
      "\n",
      "Best Cross-Validation score:\n",
      " 0.847457627118644\n"
     ]
    }
   ],
   "source": [
    "from sklearn.naive_bayes import MultinomialNB\n",
    "\n",
    "mnb_pipe = Pipeline([\n",
    "    ('reduce_dim', SelectPercentile(percentile=25)),\n",
    "    ('classify', MultinomialNB())])\n",
    " \n",
    "ALPHAS = [1, 0.1, 0.01, 0.001, 0.0001, 0.00001]\n",
    " \n",
    "mnb_param_grid = {\n",
    "    'classify__alpha': ALPHAS\n",
    "}\n",
    "\n",
    "mnb_grid = GridSearchCV(mnb_pipe, \n",
    "                       cv=GRID_SEARCH_FOLDS, \n",
    "                       n_jobs=N_JOBS, \n",
    "                       param_grid=mnb_param_grid)\n",
    "\n",
    "mnb_grid.fit(train_df, train_labels)\n",
    "\n",
    "print('Best Multinomial NB parameters:\\n', mnb_grid.best_params_)\n",
    "print('\\nBest Cross-Validation score:\\n', mnb_grid.best_score_)"
   ]
  },
  {
   "cell_type": "code",
   "execution_count": 21,
   "metadata": {
    "collapsed": true
   },
   "outputs": [],
   "source": [
    "model_path = finalized_model_folder + 'mnb_grid_25Percentile.sav'\n",
    "joblib.dump(mnb_grid, open(model_path, 'wb'))"
   ]
  },
  {
   "cell_type": "markdown",
   "metadata": {},
   "source": [
    "## Gaussian Naive Bayes - no hyper-parameters to tune"
   ]
  },
  {
   "cell_type": "code",
   "execution_count": 22,
   "metadata": {},
   "outputs": [
    {
     "data": {
      "text/plain": [
       "Pipeline(memory=None,\n",
       "     steps=[('reduce_dim', SelectPercentile(percentile=25,\n",
       "         score_func=<function f_classif at 0x000000BCEB19A840>)), ('classify', GaussianNB(priors=None))])"
      ]
     },
     "execution_count": 22,
     "metadata": {},
     "output_type": "execute_result"
    }
   ],
   "source": [
    "from sklearn.naive_bayes import GaussianNB\n",
    "\n",
    "gnb_pipe = Pipeline([\n",
    "    ('reduce_dim', SelectPercentile(percentile=25)),\n",
    "    ('classify', GaussianNB())])\n",
    "\n",
    "gnb_pipe.fit(train_df, train_labels)"
   ]
  },
  {
   "cell_type": "markdown",
   "metadata": {},
   "source": [
    "## Classify Test Set"
   ]
  },
  {
   "cell_type": "code",
   "execution_count": 14,
   "metadata": {},
   "outputs": [
    {
     "name": "stdout",
     "output_type": "stream",
     "text": [
      "0.986842105263\n"
     ]
    }
   ],
   "source": [
    "knn_grid_pred = knn_grid.predict(test_df)\n",
    "knn_grid_result = knn_grid.score(test_df, test_labels)\n",
    "print(knn_grid_result)"
   ]
  },
  {
   "cell_type": "code",
   "execution_count": 12,
   "metadata": {
    "scrolled": true
   },
   "outputs": [
    {
     "ename": "NameError",
     "evalue": "name 'lr_grid' is not defined",
     "output_type": "error",
     "traceback": [
      "\u001b[1;31m---------------------------------------------------------------------------\u001b[0m",
      "\u001b[1;31mNameError\u001b[0m                                 Traceback (most recent call last)",
      "\u001b[1;32m<ipython-input-12-e44e000073c8>\u001b[0m in \u001b[0;36m<module>\u001b[1;34m()\u001b[0m\n\u001b[1;32m----> 1\u001b[1;33m \u001b[0mlr_grid_pred\u001b[0m \u001b[1;33m=\u001b[0m \u001b[0mlr_grid\u001b[0m\u001b[1;33m.\u001b[0m\u001b[0mpredict\u001b[0m\u001b[1;33m(\u001b[0m\u001b[0mtest_df\u001b[0m\u001b[1;33m)\u001b[0m\u001b[1;33m\u001b[0m\u001b[0m\n\u001b[0m\u001b[0;32m      2\u001b[0m \u001b[0mlr_grid_result\u001b[0m \u001b[1;33m=\u001b[0m \u001b[0mlr_grid\u001b[0m\u001b[1;33m.\u001b[0m\u001b[0mscore\u001b[0m\u001b[1;33m(\u001b[0m\u001b[0mtest_df\u001b[0m\u001b[1;33m,\u001b[0m \u001b[0mtest_labels\u001b[0m\u001b[1;33m)\u001b[0m\u001b[1;33m\u001b[0m\u001b[0m\n\u001b[0;32m      3\u001b[0m \u001b[1;33m\u001b[0m\u001b[0m\n\u001b[0;32m      4\u001b[0m \u001b[0mrf_grid_pred\u001b[0m \u001b[1;33m=\u001b[0m \u001b[0mrf_grid\u001b[0m\u001b[1;33m.\u001b[0m\u001b[0mpredict\u001b[0m\u001b[1;33m(\u001b[0m\u001b[0mtest_df\u001b[0m\u001b[1;33m)\u001b[0m\u001b[1;33m\u001b[0m\u001b[0m\n\u001b[0;32m      5\u001b[0m \u001b[0mrf_grid_result\u001b[0m \u001b[1;33m=\u001b[0m \u001b[0mrf_grid\u001b[0m\u001b[1;33m.\u001b[0m\u001b[0mscore\u001b[0m\u001b[1;33m(\u001b[0m\u001b[0mtest_df\u001b[0m\u001b[1;33m,\u001b[0m \u001b[0mtest_labels\u001b[0m\u001b[1;33m)\u001b[0m\u001b[1;33m\u001b[0m\u001b[0m\n",
      "\u001b[1;31mNameError\u001b[0m: name 'lr_grid' is not defined"
     ]
    }
   ],
   "source": [
    "lr_grid_pred = lr_grid.predict(test_df)\n",
    "lr_grid_result = lr_grid.score(test_df, test_labels)\n",
    "\n",
    "rf_grid_pred = rf_grid.predict(test_df)\n",
    "rf_grid_result = rf_grid.score(test_df, test_labels)\n",
    "\n",
    "svc_grid_pred = svc_grid.predict(test_df)\n",
    "svc_grid_result = svc_grid.score(test_df, test_labels)\n",
    "\n",
    "knn_grid_pred = knn_grid.predict(test_df)\n",
    "knn_grid_result = knn_grid.score(test_df, test_labels)\n",
    "\n",
    "gbc_grid_pred = gbc_grid.predict(test_df)\n",
    "gbc_grid_result = gbc_grid.score(test_df, test_labels)\n",
    "\n",
    "gnb_grid_pred = gnb_pipe.predict(test_df)\n",
    "gnb_grid_result = gnb_pipe.score(test_df, test_labels)\n",
    "\n",
    "mnb_grid_pred = mnb_grid.predict(test_df)\n",
    "mnb_grid_result = mnb_grid.score(test_df, test_labels)"
   ]
  },
  {
   "cell_type": "code",
   "execution_count": 34,
   "metadata": {},
   "outputs": [
    {
     "name": "stdout",
     "output_type": "stream",
     "text": [
      "1.0\n",
      "1.0\n",
      "1.0\n",
      "0.9868421052631579\n",
      "0.9736842105263158\n",
      "0.9210526315789473\n",
      "0.8421052631578947\n"
     ]
    }
   ],
   "source": [
    "print(lr_grid_result)\n",
    "print(rf_grid_result)\n",
    "print(svc_grid_result)\n",
    "print(knn_grid_result)\n",
    "print(gbc_grid_result)\n",
    "print(gnb_grid_result)\n",
    "print(mnb_grid_result)"
   ]
  },
  {
   "cell_type": "markdown",
   "metadata": {},
   "source": [
    "##  Confusion matrices of model's predictions on new data"
   ]
  },
  {
   "cell_type": "code",
   "execution_count": 32,
   "metadata": {
    "scrolled": false
   },
   "outputs": [
    {
     "name": "stdout",
     "output_type": "stream",
     "text": [
      "Confusion matrix, without normalization\n",
      "[[7 2 0 0 0 0 0 0 0]\n",
      " [0 9 0 0 0 0 0 0 0]\n",
      " [0 0 9 0 0 0 0 0 0]\n",
      " [0 0 0 9 0 0 0 0 0]\n",
      " [0 0 0 0 4 0 0 0 0]\n",
      " [0 6 0 0 0 3 0 0 0]\n",
      " [0 3 0 0 0 0 6 0 0]\n",
      " [0 0 0 0 0 0 0 9 0]\n",
      " [0 1 0 0 0 0 0 0 8]]\n",
      "Normalized confusion matrix\n",
      "[[0.78 0.22 0.   0.   0.   0.   0.   0.   0.  ]\n",
      " [0.   1.   0.   0.   0.   0.   0.   0.   0.  ]\n",
      " [0.   0.   1.   0.   0.   0.   0.   0.   0.  ]\n",
      " [0.   0.   0.   1.   0.   0.   0.   0.   0.  ]\n",
      " [0.   0.   0.   0.   1.   0.   0.   0.   0.  ]\n",
      " [0.   0.67 0.   0.   0.   0.33 0.   0.   0.  ]\n",
      " [0.   0.33 0.   0.   0.   0.   0.67 0.   0.  ]\n",
      " [0.   0.   0.   0.   0.   0.   0.   1.   0.  ]\n",
      " [0.   0.11 0.   0.   0.   0.   0.   0.   0.89]]\n"
     ]
    },
    {
     "data": {
      "text/plain": [
       "<matplotlib.figure.Figure at 0xbc88f462e8>"
      ]
     },
     "metadata": {},
     "output_type": "display_data"
    },
    {
     "data": {
      "image/png": "[encoded data removed]",
      "text/plain": [
       "<matplotlib.figure.Figure at 0xbc88f504a8>"
      ]
     },
     "metadata": {},
     "output_type": "display_data"
    },
    {
     "data": {
      "text/plain": [
       "<matplotlib.figure.Figure at 0xbc88f40a58>"
      ]
     },
     "metadata": {},
     "output_type": "display_data"
    },
    {
     "data": {
      "image/png": "[encoded data removed]",
      "text/plain": [
       "<matplotlib.figure.Figure at 0xbc89025b38>"
      ]
     },
     "metadata": {},
     "output_type": "display_data"
    }
   ],
   "source": [
    "cu.show_confusion_matrices(test_labels, mnb_grid_pred, tissues)"
   ]
  }
 ],
 "metadata": {
  "kernelspec": {
   "display_name": "Python 3",
   "language": "python",
   "name": "python3"
  },
  "language_info": {
   "codemirror_mode": {
    "name": "ipython",
    "version": 3
   },
   "file_extension": ".py",
   "mimetype": "text/x-python",
   "name": "python",
   "nbconvert_exporter": "python",
   "pygments_lexer": "ipython3",
   "version": "3.6.3"
  },
  "toc": {
   "nav_menu": {},
   "number_sections": true,
   "sideBar": true,
   "skip_h1_title": true,
   "toc_cell": false,
   "toc_position": {},
   "toc_section_display": "block",
   "toc_window_display": false
  }
 },
 "nbformat": 4,
 "nbformat_minor": 2
}
