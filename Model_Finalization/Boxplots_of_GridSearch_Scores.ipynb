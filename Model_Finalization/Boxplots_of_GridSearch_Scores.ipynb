{
 "cells": [
  {
   "cell_type": "markdown",
   "metadata": {},
   "source": [
    "# Analysis of finalized models"
   ]
  },
  {
   "cell_type": "code",
   "execution_count": 1,
   "metadata": {
    "collapsed": true
   },
   "outputs": [],
   "source": [
    "import os\n",
    "import sys\n",
    "module_path = os.path.abspath(os.path.join('..'))\n",
    "if module_path not in sys.path:\n",
    "    sys.path.append(module_path)"
   ]
  },
  {
   "cell_type": "code",
   "execution_count": 2,
   "metadata": {
    "collapsed": true
   },
   "outputs": [],
   "source": [
    "import matplotlib.pyplot as plt\n",
    "from sklearn.externals import joblib\n",
    "import pandas as pd\n",
    "import seaborn as sns"
   ]
  },
  {
   "cell_type": "markdown",
   "metadata": {},
   "source": [
    "## Load Models"
   ]
  },
  {
   "cell_type": "code",
   "execution_count": 3,
   "metadata": {
    "collapsed": true
   },
   "outputs": [],
   "source": [
    "base_dir = 'Trained_Models\\\\'"
   ]
  },
  {
   "cell_type": "markdown",
   "metadata": {},
   "source": [
    "### Full grid search (25P-PCA-RFE-GS)"
   ]
  },
  {
   "cell_type": "code",
   "execution_count": 4,
   "metadata": {
    "collapsed": true
   },
   "outputs": [],
   "source": [
    "lr_grid_path = base_dir + 'lr_grid.sav'\n",
    "lr_grid = joblib.load(open(lr_grid_path, 'rb'))\n",
    "\n",
    "svc_grid_path = base_dir + 'svc_grid.sav'\n",
    "svc_grid = joblib.load(open(svc_grid_path, 'rb'))\n",
    "\n",
    "rf_grid_path = base_dir + 'rf_grid.sav'\n",
    "rf_grid = joblib.load(open(rf_grid_path, 'rb'))\n",
    "\n",
    "knn_grid_path = base_dir + 'knn_grid.sav'\n",
    "knn_grid = joblib.load(open(knn_grid_path, 'rb'))\n",
    "\n",
    "mnb_grid_path = base_dir + 'mnb_grid.sav'\n",
    "mnb_grid = joblib.load(open(mnb_grid_path, 'rb'))\n",
    "\n",
    "gbc_grid_path = base_dir + 'gbc_grid.sav'\n",
    "gbc_grid = joblib.load(open(gbc_grid_path, 'rb'))"
   ]
  },
  {
   "cell_type": "markdown",
   "metadata": {},
   "source": [
    "### 25P-GS"
   ]
  },
  {
   "cell_type": "code",
   "execution_count": 5,
   "metadata": {
    "collapsed": true
   },
   "outputs": [],
   "source": [
    "lr_grid_25Percentile_path = base_dir + 'lr_grid_25Percentile.sav'\n",
    "lr_grid_25Percentile = joblib.load(open(lr_grid_25Percentile_path, 'rb'))\n",
    "\n",
    "svc_grid_25Percentile_path = base_dir + 'svc_grid_25Percentile.sav'\n",
    "svc_grid_25Percentile = joblib.load(open(svc_grid_25Percentile_path, 'rb'))\n",
    "\n",
    "rf_grid_25Percentile_path = base_dir + 'rf_grid_25Percentile.sav'\n",
    "rf_grid_25Percentile = joblib.load(open(rf_grid_25Percentile_path, 'rb'))\n",
    "\n",
    "knn_grid_25Percentile_path = base_dir + 'knn_grid_25Percentile.sav'\n",
    "knn_grid_25Percentile = joblib.load(open(knn_grid_25Percentile_path, 'rb'))\n",
    "\n",
    "mnb_grid_25Percentile_path = base_dir + 'mnb_grid_25Percentile.sav'\n",
    "mnb_grid_25Percentile = joblib.load(open(mnb_grid_25Percentile_path, 'rb'))\n",
    "\n",
    "gbc_grid_25Percentile_path = base_dir + 'gbc_grid_25Percentile.sav'\n",
    "gbc_grid_25Percentile = joblib.load(open(gbc_grid_25Percentile_path, 'rb'))"
   ]
  },
  {
   "cell_type": "markdown",
   "metadata": {},
   "source": [
    "## Gather each classifier's range of cross-val scores"
   ]
  },
  {
   "cell_type": "code",
   "execution_count": 6,
   "metadata": {
    "collapsed": true
   },
   "outputs": [],
   "source": [
    "classifiers = [lr_grid, svc_grid, rf_grid, knn_grid, mnb_grid, gbc_grid]\n",
    "\n",
    "classifier_names = ['Logistic Regression', 'SVC', 'Random Forest', 'K Nearest Neighbors', \n",
    "                    'Multinomial Naive Bayes', 'Gradient Boosting']\n",
    "\n",
    "results = [clf.cv_results_['mean_test_score'] for clf in classifiers]"
   ]
  },
  {
   "cell_type": "code",
   "execution_count": 7,
   "metadata": {
    "collapsed": true
   },
   "outputs": [],
   "source": [
    "classifiers_25P = [lr_grid_25Percentile, svc_grid_25Percentile, rf_grid_25Percentile, knn_grid_25Percentile,\n",
    "                   mnb_grid_25Percentile, gbc_grid_25Percentile]\n",
    "\n",
    "results_25P = [clf.cv_results_['mean_test_score'] for clf in classifiers]"
   ]
  },
  {
   "cell_type": "code",
   "execution_count": 8,
   "metadata": {},
   "outputs": [
    {
     "name": "stdout",
     "output_type": "stream",
     "text": [
      "    Gradient Boosting  K Nearest Neighbors  Logistic Regression  \\\n",
      "0            0.892593             0.964815             0.972222   \n",
      "1            0.920370             0.950000             0.964815   \n",
      "2            0.916667             0.922222             0.951852   \n",
      "3            0.916667             0.855556             0.975926   \n",
      "4            0.898148             0.720370             0.964815   \n",
      "5            0.927778                  NaN             0.951852   \n",
      "6            0.925926                  NaN             0.977778   \n",
      "7            0.925926                  NaN             0.964815   \n",
      "8            0.894444                  NaN             0.951852   \n",
      "9            0.924074                  NaN             0.979630   \n",
      "10           0.920370                  NaN             0.964815   \n",
      "11           0.920370                  NaN             0.951852   \n",
      "12           0.894444                  NaN             0.977778   \n",
      "13           0.927778                  NaN             0.964815   \n",
      "14           0.924074                  NaN             0.951852   \n",
      "15           0.924074                  NaN             0.974074   \n",
      "16           0.905556                  NaN             0.964815   \n",
      "17           0.933333                  NaN             0.951852   \n",
      "18           0.927778                  NaN                  NaN   \n",
      "19           0.927778                  NaN                  NaN   \n",
      "20           0.892593                  NaN                  NaN   \n",
      "21           0.922222                  NaN                  NaN   \n",
      "22           0.920370                  NaN                  NaN   \n",
      "23           0.920370                  NaN                  NaN   \n",
      "24           0.898148                  NaN                  NaN   \n",
      "25           0.927778                  NaN                  NaN   \n",
      "26           0.924074                  NaN                  NaN   \n",
      "27           0.924074                  NaN                  NaN   \n",
      "28           0.887037                  NaN                  NaN   \n",
      "29           0.924074                  NaN                  NaN   \n",
      "..                ...                  ...                  ...   \n",
      "50           0.920370                  NaN                  NaN   \n",
      "51           0.920370                  NaN                  NaN   \n",
      "52           0.896296                  NaN                  NaN   \n",
      "53           0.927778                  NaN                  NaN   \n",
      "54           0.925926                  NaN                  NaN   \n",
      "55           0.925926                  NaN                  NaN   \n",
      "56           0.901852                  NaN                  NaN   \n",
      "57           0.929630                  NaN                  NaN   \n",
      "58           0.924074                  NaN                  NaN   \n",
      "59           0.924074                  NaN                  NaN   \n",
      "60           0.892593                  NaN                  NaN   \n",
      "61           0.922222                  NaN                  NaN   \n",
      "62           0.920370                  NaN                  NaN   \n",
      "63           0.920370                  NaN                  NaN   \n",
      "64           0.896296                  NaN                  NaN   \n",
      "65           0.925926                  NaN                  NaN   \n",
      "66           0.922222                  NaN                  NaN   \n",
      "67           0.922222                  NaN                  NaN   \n",
      "68           0.892593                  NaN                  NaN   \n",
      "69           0.924074                  NaN                  NaN   \n",
      "70           0.920370                  NaN                  NaN   \n",
      "71           0.920370                  NaN                  NaN   \n",
      "72           0.898148                  NaN                  NaN   \n",
      "73           0.929630                  NaN                  NaN   \n",
      "74           0.927778                  NaN                  NaN   \n",
      "75           0.927778                  NaN                  NaN   \n",
      "76           0.900000                  NaN                  NaN   \n",
      "77           0.931481                  NaN                  NaN   \n",
      "78           0.925926                  NaN                  NaN   \n",
      "79           0.925926                  NaN                  NaN   \n",
      "\n",
      "    Multinomial Naive Bayes  Random Forest       SVC  \n",
      "0                  0.883333       0.961111  0.977778  \n",
      "1                  0.894444       0.972222  0.298148  \n",
      "2                  0.901852       0.975926  0.912963  \n",
      "3                  0.903704       0.977778  0.975926  \n",
      "4                  0.903704       0.961111  0.298148  \n",
      "5                  0.903704       0.968519  0.912963  \n",
      "6                       NaN       0.975926  0.975926  \n",
      "7                       NaN       0.981481  0.535185  \n",
      "8                       NaN       0.961111  0.912963  \n",
      "9                       NaN       0.972222  0.975926  \n",
      "10                      NaN       0.974074  0.562963  \n",
      "11                      NaN       0.977778  0.912963  \n",
      "12                      NaN       0.964815  0.975926  \n",
      "13                      NaN       0.970370  0.562963  \n",
      "14                      NaN       0.979630  0.912963  \n",
      "15                      NaN       0.977778  0.975926  \n",
      "16                      NaN       0.968519  0.562963  \n",
      "17                      NaN       0.972222  0.912963  \n",
      "18                      NaN       0.975926       NaN  \n",
      "19                      NaN       0.975926       NaN  \n",
      "20                      NaN       0.961111       NaN  \n",
      "21                      NaN       0.972222       NaN  \n",
      "22                      NaN       0.975926       NaN  \n",
      "23                      NaN       0.977778       NaN  \n",
      "24                      NaN       0.961111       NaN  \n",
      "25                      NaN       0.968519       NaN  \n",
      "26                      NaN       0.975926       NaN  \n",
      "27                      NaN       0.981481       NaN  \n",
      "28                      NaN       0.961111       NaN  \n",
      "29                      NaN       0.972222       NaN  \n",
      "..                      ...            ...       ...  \n",
      "50                      NaN       0.964815       NaN  \n",
      "51                      NaN       0.966667       NaN  \n",
      "52                      NaN       0.953704       NaN  \n",
      "53                      NaN       0.961111       NaN  \n",
      "54                      NaN       0.968519       NaN  \n",
      "55                      NaN       0.972222       NaN  \n",
      "56                      NaN       0.935185       NaN  \n",
      "57                      NaN       0.957407       NaN  \n",
      "58                      NaN       0.962963       NaN  \n",
      "59                      NaN       0.974074       NaN  \n",
      "60                      NaN            NaN       NaN  \n",
      "61                      NaN            NaN       NaN  \n",
      "62                      NaN            NaN       NaN  \n",
      "63                      NaN            NaN       NaN  \n",
      "64                      NaN            NaN       NaN  \n",
      "65                      NaN            NaN       NaN  \n",
      "66                      NaN            NaN       NaN  \n",
      "67                      NaN            NaN       NaN  \n",
      "68                      NaN            NaN       NaN  \n",
      "69                      NaN            NaN       NaN  \n",
      "70                      NaN            NaN       NaN  \n",
      "71                      NaN            NaN       NaN  \n",
      "72                      NaN            NaN       NaN  \n",
      "73                      NaN            NaN       NaN  \n",
      "74                      NaN            NaN       NaN  \n",
      "75                      NaN            NaN       NaN  \n",
      "76                      NaN            NaN       NaN  \n",
      "77                      NaN            NaN       NaN  \n",
      "78                      NaN            NaN       NaN  \n",
      "79                      NaN            NaN       NaN  \n",
      "\n",
      "[80 rows x 6 columns]\n"
     ]
    }
   ],
   "source": [
    "all_data= {} # {'Classifier': [list of crossval scores]}\n",
    "for name, data in zip(classifier_names, results):\n",
    "    all_data[name] = data\n",
    "\n",
    "all_data_with_nan = dict([(k,pd.Series(v)) for k,v in all_data.items()])\n",
    "df = pd.DataFrame(data=all_data_with_nan)\n",
    "print(df)"
   ]
  },
  {
   "cell_type": "code",
   "execution_count": 9,
   "metadata": {
    "collapsed": true
   },
   "outputs": [],
   "source": [
    "all_data_25P = {} # {'Classifier': [list of crossval scores]}\n",
    "for name, data in zip(classifier_names, results_25P):\n",
    "    all_data_25P[name] = data\n",
    "\n",
    "all_data_with_nan_25P = dict([(k,pd.Series(v)) for k,v in all_data_25P.items()])\n",
    "df_25P = pd.DataFrame(data=all_data_with_nan_25P)"
   ]
  },
  {
   "cell_type": "code",
   "execution_count": 10,
   "metadata": {
    "collapsed": true
   },
   "outputs": [],
   "source": [
    "non_optimized_scores = [.95, # Gradient Boosting\n",
    "                        .81, # KNN\n",
    "                        .99, # LR\n",
    "                        .95, # MNB\n",
    "                        .97, # RF\n",
    "                        .98] # SVC"
   ]
  },
  {
   "cell_type": "markdown",
   "metadata": {},
   "source": [
    "## Boxplot showing each model's range of cross-validation scores"
   ]
  },
  {
   "cell_type": "code",
   "execution_count": 11,
   "metadata": {
    "collapsed": true
   },
   "outputs": [],
   "source": [
    "color_dict = {} # Column name : color\n",
    "num_colors = df.shape[1]\n",
    "colors = sns.color_palette('hls', num_colors)\n",
    "color = 0\n",
    "\n",
    "for col in df.columns.values:\n",
    "    color_dict[col] = colors[color]\n",
    "    color += 1"
   ]
  },
  {
   "cell_type": "code",
   "execution_count": 12,
   "metadata": {
    "collapsed": true
   },
   "outputs": [],
   "source": [
    "color_dict_25P = {} # Column name : color\n",
    "num_colors = df_25P.shape[1]\n",
    "colors = sns.color_palette('hls', num_colors)\n",
    "color = 0\n",
    "\n",
    "for col in df_25P.columns.values:\n",
    "    color_dict_25P[col] = colors[color]\n",
    "    color += 1"
   ]
  },
  {
   "cell_type": "code",
   "execution_count": 13,
   "metadata": {
    "collapsed": true
   },
   "outputs": [],
   "source": [
    "def gridsearch_boxplot(df, color_dict, non_optimized_scores):\n",
    "\n",
    "    fig, ax = plt.subplots(figsize = (10, 6))\n",
    "    ax.set_xticklabels(ax.get_xticklabels(), rotation = 90)\n",
    "    sns.boxplot(data=df, palette=color_dict, ax=ax, linewidth=0.5)\n",
    "\n",
    "    plt.rcParams[\"font.family\"] = \"Arial\"\n",
    "    plt.rcParams[\"font.size\"] = 10\n",
    "\n",
    "    plt.xlabel('Classifier', fontsize=12)\n",
    "    plt.ylabel('Cross Validation Score', fontsize=12)\n",
    "\n",
    "    # Annotations for cross-val score without optimization\n",
    "    x1s = [x/6 for x in range(6)]\n",
    "    x2s = [(x+1)/6 for x in range(6)]\n",
    "\n",
    "    for x1, x2, y in zip(x1s, x2s, non_optimized_scores):\n",
    "        plt.axhline(y=y, xmin=x1+0.01, xmax=x2-0.01, linewidth=1.0)\n",
    "\n",
    "    plt.xticks(fontsize=8)\n",
    "    plt.yticks(fontsize=8)\n",
    "    plt.show()\n",
    "\n",
    "    output_path = r'D:\\Images\\Human_Tissues\\GridSearch_CrossVal_Boxplot.pdf'\n",
    "    fig.savefig(output_path, bbox_inches = \"tight\", dpi=500)\n",
    "    fig.clf()"
   ]
  },
  {
   "cell_type": "code",
   "execution_count": 14,
   "metadata": {},
   "outputs": [
    {
     "data": {
      "image/png": "[encoded data removed]",
      "text/plain": [
       "<matplotlib.figure.Figure at 0x1119d160>"
      ]
     },
     "metadata": {},
     "output_type": "display_data"
    }
   ],
   "source": [
    "gridsearch_boxplot(df, color_dict, non_optimized_scores)"
   ]
  },
  {
   "cell_type": "code",
   "execution_count": 15,
   "metadata": {},
   "outputs": [
    {
     "data": {
      "image/png": "[encoded data removed]",
      "text/plain": [
       "<matplotlib.figure.Figure at 0x1bb11940>"
      ]
     },
     "metadata": {},
     "output_type": "display_data"
    }
   ],
   "source": [
    "gridsearch_boxplot(df_25P, color_dict_25P, non_optimized_scores)"
   ]
  },
  {
   "cell_type": "code",
   "execution_count": 16,
   "metadata": {},
   "outputs": [
    {
     "name": "stdout",
     "output_type": "stream",
     "text": [
      "Logistic Regression : 0.97962962963\n",
      "SVC : 0.977777777778\n",
      "Random Forest : 0.981481481481\n",
      "K Nearest Neighbors : 0.964814814815\n",
      "Multinomial Naive Bayes : 0.903703703704\n",
      "Gradient Boosting : 0.933333333333\n"
     ]
    }
   ],
   "source": [
    "optimized_crossval_scores = [clf.best_score_ for clf in classifiers]\n",
    "for name, score in zip(classifier_names, optimized_crossval_scores):\n",
    "    print(name, ':', score)"
   ]
  }
 ],
 "metadata": {
  "kernelspec": {
   "display_name": "Python 3",
   "language": "python",
   "name": "python3"
  },
  "language_info": {
   "codemirror_mode": {
    "name": "ipython",
    "version": 3
   },
   "file_extension": ".py",
   "mimetype": "text/x-python",
   "name": "python",
   "nbconvert_exporter": "python",
   "pygments_lexer": "ipython3",
   "version": "3.6.3"
  },
  "toc": {
   "nav_menu": {},
   "number_sections": true,
   "sideBar": true,
   "skip_h1_title": true,
   "toc_cell": false,
   "toc_position": {},
   "toc_section_display": "block",
   "toc_window_display": false
  }
 },
 "nbformat": 4,
 "nbformat_minor": 2
}
