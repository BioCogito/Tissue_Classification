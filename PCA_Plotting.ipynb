{
 "cells": [
  {
   "cell_type": "code",
   "execution_count": 1,
   "metadata": {
    "collapsed": true
   },
   "outputs": [],
   "source": [
    "import Classification_Utils as cu\n",
    "import numpy as np\n",
    "from os import listdir\n",
    "import pandas as pd\n",
    "from sklearn.decomposition import PCA\n",
    "from sklearn.externals import joblib"
   ]
  },
  {
   "cell_type": "code",
   "execution_count": 2,
   "metadata": {
    "collapsed": true
   },
   "outputs": [],
   "source": [
    "import matplotlib.patches as mpatches\n",
    "import matplotlib.pyplot as plt\n",
    "from matplotlib.markers import MarkerStyle\n",
    "from mpl_toolkits.axes_grid1.inset_locator import mark_inset, zoomed_inset_axes\n",
    "from matplotlib.lines import Line2D\n",
    "from matplotlib import offsetbox\n",
    "from sklearn import manifold, datasets, decomposition, ensemble,discriminant_analysis, random_projection\n",
    "from sklearn.decomposition import TruncatedSVD"
   ]
  },
  {
   "cell_type": "code",
   "execution_count": 3,
   "metadata": {
    "collapsed": true
   },
   "outputs": [],
   "source": [
    "DPI=500 # Constant value to set resolution"
   ]
  },
  {
   "cell_type": "markdown",
   "metadata": {},
   "source": [
    "## Load and clean data\n",
    "* One data frame for all training and test data\n",
    "* One data frame for healthy vs diseased comparison\n",
    "* One data frame for all training and test data, with the addition of 10 cell line datasets"
   ]
  },
  {
   "cell_type": "code",
   "execution_count": 4,
   "metadata": {},
   "outputs": [
    {
     "name": "stdout",
     "output_type": "stream",
     "text": [
      "(55676, 253)\n",
      "(43434, 149)\n",
      "(57887, 263)\n"
     ]
    }
   ],
   "source": [
    "train_test_df = pd.read_csv('FullPeptideQuant.txt', sep='\\t', index_col='Peptide')\n",
    "print(train_test_df.shape)\n",
    "\n",
    "healthy_diseased_df = pd.read_csv('HealthyDiseasedQuant.txt', sep='\\t', index_col='Peptide')\n",
    "print(healthy_diseased_df.shape)\n",
    "\n",
    "tt_cell_line_df = pd.read_csv('TrainTestCellLineQuant.txt', sep='\\t', index_col='Peptide')\n",
    "print(tt_cell_line_df.shape)"
   ]
  },
  {
   "cell_type": "markdown",
   "metadata": {},
   "source": [
    "## Train/Test data"
   ]
  },
  {
   "cell_type": "markdown",
   "metadata": {},
   "source": [
    "### Map each column to a corresponding label"
   ]
  },
  {
   "cell_type": "code",
   "execution_count": 5,
   "metadata": {
    "collapsed": true
   },
   "outputs": [],
   "source": [
    "train_test_tissues = ['Blood_Plasma', 'Blood_Serum', 'CSF', 'Liver', 'Monocyte', 'Ovary', 'Pancreas', 'Substantia_Nigra', 'Temporal_Lobe']\n",
    "\n",
    "train_test_tissues_to_columns = cu.map_tissues_to_columns(train_test_df, train_test_tissues)"
   ]
  },
  {
   "cell_type": "code",
   "execution_count": 6,
   "metadata": {
    "collapsed": true
   },
   "outputs": [],
   "source": [
    "train_test_column_names = train_test_df.columns.values.tolist()\n",
    "\n",
    "train_test_labels = cu.get_labels(train_test_column_names, \n",
    "                                  train_test_tissues_to_columns)"
   ]
  },
  {
   "cell_type": "markdown",
   "metadata": {},
   "source": [
    "### Map columns to colors, and prepare PCA dataframe"
   ]
  },
  {
   "cell_type": "code",
   "execution_count": 7,
   "metadata": {
    "collapsed": true
   },
   "outputs": [],
   "source": [
    "import seaborn as sns\n",
    "\n",
    "\"\"\"\n",
    "Creates a dictionary mapping each column name to a color.\n",
    "\n",
    "Args:\n",
    "    tissues (list of strings): All tissues in the dataframe\n",
    "    tissues_to_columns (dictionary): Mapping of each tissue to all associated column names\n",
    "    palette (string): Color palette to use\n",
    "\"\"\"\n",
    "def map_colors(tissues, tissues_to_columns, palette='hls'):\n",
    "    \n",
    "    color_dict = {} # Column name : color\n",
    "    num_colors = len(tissues) # One color for each tissue\n",
    "    colors = sns.color_palette(palette, num_colors)\n",
    "    \n",
    "    color = 0\n",
    "\n",
    "    for tissue in tissues:\n",
    "        cols = tissues_to_columns[tissue] # Get the list of column names for the tissue \n",
    "        for col in cols:\n",
    "            color_dict[col] = colors[color]\n",
    "        color += 1\n",
    "        \n",
    "    return color_dict"
   ]
  },
  {
   "cell_type": "code",
   "execution_count": 8,
   "metadata": {
    "collapsed": true
   },
   "outputs": [],
   "source": [
    "train_test_dir = r'D:\\Images\\Human_Tissues\\\\'\n",
    "\n",
    "tt_color_dict = map_colors(train_test_tissues, train_test_tissues_to_columns)"
   ]
  },
  {
   "cell_type": "code",
   "execution_count": 9,
   "metadata": {
    "collapsed": true
   },
   "outputs": [],
   "source": [
    "train_test_T = train_test_df.T  #Transpose data frame\n",
    "\n",
    "# For 2 dimensional PCA\n",
    "pca = PCA() # create a PCA object\n",
    "pca.fit(train_test_T) # do the math\n",
    "pca_data = pca.transform(train_test_T) # get PCA coordinates for dataframe\n",
    "\n",
    "# For 3 dimensional PCA\n",
    "pca_3 = PCA(n_components=3) \n",
    "pca_3.fit(train_test_T)\n",
    "pca_data_3 = pca_3.transform(train_test_T)\n",
    "\n",
    "# per_var: array containing each principal component's percentage of explained variance\n",
    "per_var = np.round(pca.explained_variance_ratio_* 100, decimals = 1)\n",
    "pca_labels = ['PC' + str(x) for x in range(1, len(per_var)+1)] \n",
    "\n",
    "per_var_3 = np.round(pca_3.explained_variance_ratio_* 100, decimals = 1)\n",
    "pca_labels_3 = ['PC' + str(x) for x in range(1, len(per_var_3)+1)] "
   ]
  },
  {
   "cell_type": "markdown",
   "metadata": {},
   "source": [
    "### 3D PCA of Train and Test"
   ]
  },
  {
   "cell_type": "code",
   "execution_count": 10,
   "metadata": {
    "collapsed": true
   },
   "outputs": [],
   "source": [
    "from mpl_toolkits.mplot3d import Axes3D\n",
    "\n",
    "def draw_3d_pca(column_names, pca_data, base_dir, color_dict, per_var, labels, tissues, tissues_to_columns, title='3D PCA'):\n",
    "    \n",
    "    plt.figure()\n",
    "    \n",
    "    pca_df = pd.DataFrame(pca_data, index = column_names, columns = labels)\n",
    "\n",
    "    fig = plt.figure()\n",
    "    ax = fig.add_subplot(111, projection='3d')\n",
    "    \n",
    "    for column in column_names:\n",
    "        ax.scatter(pca_df.PC1.loc[column], pca_df.PC2.loc[column], pca_df.PC3.loc[column], color=color_dict[column])\n",
    "\n",
    "    ax.set_xlabel(\"PC1\")\n",
    "    ax.set_ylabel(\"PC2\")\n",
    "    ax.set_zlabel(\"PC3\")\n",
    "    \n",
    "    new_handles = []\n",
    "    for tissue in tissues:\n",
    "        col = tissues_to_columns[tissue][0]\n",
    "        color = color_dict[col]\n",
    "        patch = mpatches.Patch(color=color, label=tissue.replace(\"_\", \" \"))\n",
    "        new_handles.append(patch)\n",
    "\n",
    "    lgd = ax.legend(handles=new_handles, loc=2, bbox_to_anchor=(1.05, 1), ncol=1)\n",
    "    output_path = base_dir + title + '.pdf'\n",
    "    fig.savefig(output_path, bbox_inches=\"tight\", bbox_extra_artists=(lgd,), dpi=DPI)\n",
    "    fig.clf()"
   ]
  },
  {
   "cell_type": "code",
   "execution_count": 11,
   "metadata": {
    "collapsed": true
   },
   "outputs": [],
   "source": [
    "draw_3d_pca(train_test_column_names, pca_data_3, train_test_dir, \n",
    "            tt_color_dict, per_var_3, pca_labels_3, \n",
    "            train_test_tissues, train_test_tissues_to_columns, '3D PCA')"
   ]
  },
  {
   "cell_type": "markdown",
   "metadata": {},
   "source": [
    "### Plot train and test data, zoomed-in on tight clustering"
   ]
  },
  {
   "cell_type": "code",
   "execution_count": 12,
   "metadata": {
    "collapsed": true
   },
   "outputs": [],
   "source": [
    "train_test_pca_df = pd.DataFrame(pca_data, index = train_test_column_names, columns = pca_labels)\n",
    "\n",
    "fig = plt.figure(1)\n",
    "\n",
    "ax = fig.add_subplot(111)\n",
    "\n",
    "plt.xlabel('PC1 - {0}%'.format(per_var[0]))\n",
    "plt.ylabel('PC2 - {0}%'.format(per_var[1]))\n",
    "\n",
    "for column in train_test_pca_df.index:\n",
    "    plt.scatter(train_test_pca_df.PC1.loc[column], train_test_pca_df.PC2.loc[column], \n",
    "                color = tt_color_dict[column])\n",
    "\n",
    "# Plot again in zoomed sub-plot\n",
    "axins = zoomed_inset_axes(ax, 6, loc='center right') # axes, zoom-factor, location\n",
    "for column in train_test_pca_df.index:\n",
    "    axins.scatter(train_test_pca_df.PC1.loc[column], train_test_pca_df.PC2.loc[column], \n",
    "                  color = tt_color_dict[column])\n",
    "\n",
    "x1, x2, y1, y2 = -610, -410, 0, -230 # specify the axis limits\n",
    "axins.set_xlim(x1, x2) # apply the x-limits\n",
    "axins.set_ylim(y2, y1) # apply the y-limits\n",
    "\n",
    "plt.yticks(visible=False)\n",
    "plt.xticks(visible=False)\n",
    "\n",
    "mark_inset(ax, axins, loc1=2, loc2=3, fc=\"none\", ec=\"0.5\")\n",
    "\n",
    "new_handles = []\n",
    "for tissue in train_test_tissues:\n",
    "    col = train_test_tissues_to_columns[tissue][0]\n",
    "    color = tt_color_dict[col]\n",
    "    patch = mpatches.Patch(color=color, label=tissue.replace(\"_\", \" \"))\n",
    "    new_handles.append(patch)\n",
    "    \n",
    "lgd = ax.legend(handles=new_handles, loc=2, bbox_to_anchor=(1, 1), ncol=1)\n",
    "\n",
    "output_path = train_test_dir + 'Zoomed PCA.pdf'\n",
    "plt.savefig(output_path, bbox_inches=\"tight\", bbox_extra_artists=(lgd,), dpi=DPI)\n",
    "plt.clf()"
   ]
  },
  {
   "cell_type": "markdown",
   "metadata": {},
   "source": [
    "### tSNE (Figure XX2)\n",
    "* Modified from https://github.com/RubensZimbres/Repo-2017/blob/master/t-SNE%20Dimensionality%20Reduction"
   ]
  },
  {
   "cell_type": "code",
   "execution_count": null,
   "metadata": {
    "collapsed": true
   },
   "outputs": [],
   "source": [
    "X = train_test_df.T.values.tolist()\n",
    "y = train_test_labels\n",
    "\n",
    "xx=[]\n",
    "for i in range(0,len(X)):\n",
    "    xx.append((X[i] - np.min(X)) / (np.max(X) - np.min(X)))\n",
    "X=xx\n",
    "\n",
    "# \"It is highly recommended to use another dimensionality reduction method (e.g. PCA for dense data or TruncatedSVD for sparse data) to reduce the number of dimensions to a reasonable amount\"\n",
    "svd = TruncatedSVD(n_components=50, n_iter=100, random_state=42)\n",
    "X_svd = svd.fit_transform(X)  \n",
    "\n",
    "tsne = manifold.TSNE(random_state=0,perplexity=50,n_iter=1500)\n",
    "X_tsne = tsne.fit_transform(X_svd)"
   ]
  },
  {
   "cell_type": "code",
   "execution_count": 28,
   "metadata": {},
   "outputs": [
    {
     "data": {
      "image/png": "[encoded data removed]",
      "text/plain": [
       "<matplotlib.figure.Figure at 0xeb84dd8>"
      ]
     },
     "metadata": {},
     "output_type": "display_data"
    }
   ],
   "source": [
    "### Plot the data\n",
    "fig = plt.figure(1, figsize=(8,5))\n",
    "ax = fig.add_subplot(111)\n",
    "\n",
    "col=0\n",
    "for column in train_test_column_names:\n",
    "    ax.scatter(X_tsne[col, 0], X_tsne[col, 1], color=tt_color_dict[column])\n",
    "    col+=1\n",
    "      \n",
    "### Make Legend\n",
    "new_handles = []\n",
    "for tissue in train_test_tissues:\n",
    "    col = train_test_tissues_to_columns[tissue][0]\n",
    "    color = tt_color_dict[col]\n",
    "    patch = mpatches.Patch(color=color, label=tissue.replace(\"_\", \" \"))\n",
    "    new_handles.append(patch)\n",
    "    \n",
    "lgd = ax.legend(handles=new_handles, loc=2, bbox_to_anchor=(1, 1), ncol=1)    \n",
    "\n",
    "plt.show()\n",
    "\n",
    "output_path = train_test_dir + 'tSNE.pdf'\n",
    "fig.savefig(output_path, bbox_inches=\"tight\", bbox_extra_artists=(lgd,), dpi=DPI)"
   ]
  },
  {
   "cell_type": "markdown",
   "metadata": {},
   "source": [
    "## Healthy and Diseased Data"
   ]
  },
  {
   "cell_type": "markdown",
   "metadata": {},
   "source": [
    "### Map each column to a corresponding label"
   ]
  },
  {
   "cell_type": "code",
   "execution_count": 14,
   "metadata": {
    "collapsed": true
   },
   "outputs": [],
   "source": [
    "def remove_prefix(col_names):\n",
    "    new_names = []\n",
    "    \n",
    "    for name in col_names:\n",
    "        if name.startswith('Diseased_'):\n",
    "            new_names.append(name.replace('Diseased_', ''))\n",
    "        elif name.startswith('Healthy_'):\n",
    "            new_names.append(name.replace('Healthy_', ''))\n",
    "        else:\n",
    "            new_names.append(name)\n",
    "            \n",
    "    return new_names"
   ]
  },
  {
   "cell_type": "code",
   "execution_count": 15,
   "metadata": {
    "collapsed": true
   },
   "outputs": [],
   "source": [
    "# Remove \"Healthy_\" or \"Diseased_\" prefix from column names\n",
    "original_healthy_diseased_col_names = healthy_diseased_df.columns.values.tolist()\n",
    "\n",
    "stripped_col_names = remove_prefix(original_healthy_diseased_col_names)\n",
    "healthy_diseased_df.columns = stripped_col_names"
   ]
  },
  {
   "cell_type": "code",
   "execution_count": 16,
   "metadata": {
    "collapsed": true
   },
   "outputs": [],
   "source": [
    "healthy_diseased_tissues = ['Blood_Plasma', 'Liver', 'Pancreas', 'Substantia_Nigra', 'CSF']\n",
    "healthy_diseased_tissues_to_columns = cu.map_tissues_to_columns(healthy_diseased_df,\n",
    "                                                                healthy_diseased_tissues)"
   ]
  },
  {
   "cell_type": "code",
   "execution_count": 17,
   "metadata": {
    "collapsed": true
   },
   "outputs": [],
   "source": [
    "healthy_diseased_column_names = healthy_diseased_df.columns.values.tolist()\n",
    "healthy_diseased_labels = cu.get_labels(healthy_diseased_column_names, \n",
    "                                        healthy_diseased_tissues_to_columns)"
   ]
  },
  {
   "cell_type": "markdown",
   "metadata": {},
   "source": [
    "### Map columns to colors, and prepare PCA dataframe"
   ]
  },
  {
   "cell_type": "code",
   "execution_count": 18,
   "metadata": {
    "collapsed": true
   },
   "outputs": [],
   "source": [
    "healthy_diseased_dir = r'D:\\Images\\Healthy_vs_Diseased\\\\'\n",
    "\n",
    "hd_color_dict = map_colors(healthy_diseased_tissues, \n",
    "                           healthy_diseased_tissues_to_columns)"
   ]
  },
  {
   "cell_type": "code",
   "execution_count": 22,
   "metadata": {
    "collapsed": true
   },
   "outputs": [],
   "source": [
    "healthy_diseased_T = healthy_diseased_df.T  #Transpose data frame\n",
    "\n",
    "healthy_diseased_pca = PCA() # create a PCA object\n",
    "healthy_diseased_pca.fit(healthy_diseased_T) # do the math\n",
    "healthy_diseased_pca_data = healthy_diseased_pca.transform(healthy_diseased_T) # get PCA coordinates for dataframe\n",
    "\n",
    "healthy_diseased_per_var = np.round(healthy_diseased_pca.explained_variance_ratio_* 100, decimals = 1)\n",
    "healthy_diseased_pca_labels = ['PC' + str(x) for x in range(1, len(healthy_diseased_per_var)+1)] "
   ]
  },
  {
   "cell_type": "markdown",
   "metadata": {},
   "source": [
    "### Plot Healthy vs Diseased \n",
    "Empty circles represent diseased tissues, filled circles represent healthy"
   ]
  },
  {
   "cell_type": "code",
   "execution_count": 23,
   "metadata": {},
   "outputs": [],
   "source": [
    "hd_pca_df = pd.DataFrame(healthy_diseased_pca_data, index = original_healthy_diseased_col_names, \n",
    "                         columns = healthy_diseased_pca_labels)\n",
    "\n",
    "fig = plt.figure(1)\n",
    "ax = fig.add_subplot(111)\n",
    "\n",
    "plt.xlabel('PC1 - {0}%'.format(healthy_diseased_per_var[0]))\n",
    "plt.ylabel('PC2 - {0}%'.format(healthy_diseased_per_var[1]))\n",
    "\n",
    "for column, stripped_col in zip(original_healthy_diseased_col_names, stripped_col_names):\n",
    "    fill = 'none' if column.startswith('Diseased') else hd_color_dict[stripped_col]\n",
    "    ax.scatter(hd_pca_df.PC1.loc[column], \n",
    "               hd_pca_df.PC2.loc[column],\n",
    "               color=hd_color_dict[stripped_col], facecolors=fill)\n",
    "    \n",
    "output_path = healthy_diseased_dir + 'PCA.pdf'\n",
    "\n",
    "### Legend entries for each tissue\n",
    "new_handles = []\n",
    "\n",
    "for tissue in healthy_diseased_tissues:\n",
    "    col = healthy_diseased_tissues_to_columns[tissue][0]\n",
    "    color = hd_color_dict[col]\n",
    "    patch = mpatches.Patch(color=color, label=tissue.replace('_', ' '))\n",
    "    line = Line2D(range(1), range(1), color=\"white\", mec=color, marker='o', markerfacecolor=color,\n",
    "                  label=tissue)\n",
    "    new_handles.append(patch)\n",
    "\n",
    "### Append legend entries for open/closed circles (diseased/healthy)\n",
    "blank_line = Line2D(range(1), range(1), color=\"white\", marker='o', markerfacecolor=\"white\")\n",
    "open_circle = Line2D(range(1), range(1), color=\"white\", marker='o', markerfacecolor=\"black\",\n",
    "                     mec='black', label='Closed Circles: Healthy')\n",
    "closed_circle = Line2D(range(1), range(1), color=\"white\", marker='o', markerfacecolor=\"white\",\n",
    "                       mec='black', label='Open Circles: Diseased')\n",
    "\n",
    "new_handles.append(blank_line)\n",
    "new_handles.append(open_circle)\n",
    "new_handles.append(closed_circle)\n",
    "    \n",
    "### Zoom in on tightly clustered section\n",
    "axins = zoomed_inset_axes(ax, 10.5, loc='upper right') # axes, zoom-factor, location\n",
    "\n",
    "for column, stripped_col in zip(original_healthy_diseased_col_names, stripped_col_names):\n",
    "    fill = 'none' if column.startswith('Diseased') else hd_color_dict[stripped_col]\n",
    "    axins.scatter(hd_pca_df.PC1.loc[column], \n",
    "                  hd_pca_df.PC2.loc[column], \n",
    "                  color=hd_color_dict[stripped_col], facecolors=fill)\n",
    "\n",
    "x1, x2, y1, y2 = -775, -600, -315, -180 # specify the axis limits\n",
    "axins.set_xlim(x1, x2) # apply the x-limits\n",
    "axins.set_ylim(y1, y2) # apply the y-limits\n",
    "\n",
    "plt.yticks(visible=False)\n",
    "plt.xticks(visible=False)\n",
    "\n",
    "mark_inset(ax, axins, loc1=2, loc2=4, fc=\"none\", ec=\"0.5\")\n",
    "    \n",
    "lgd = ax.legend(handles=new_handles, loc=2, bbox_to_anchor=(1, 1), ncol=1, prop={'size': 7})\n",
    "\n",
    "### Adjust figure size before saving\n",
    "inches = (2250/DPI, 2000/DPI)\n",
    "fig.set_size_inches(inches)\n",
    "\n",
    "fig.savefig(output_path, bbox_inches=\"tight\", bbox_extra_artists=(lgd,), dpi=DPI)\n",
    "fig.clf()"
   ]
  },
  {
   "cell_type": "markdown",
   "metadata": {},
   "source": [
    "### Healthy vs Diseased tSNE (Figure XX3)"
   ]
  },
  {
   "cell_type": "code",
   "execution_count": null,
   "metadata": {
    "collapsed": true
   },
   "outputs": [],
   "source": [
    "X = healthy_diseased_df.T.values.tolist()\n",
    "y = healthy_diseased_labels\n",
    "\n",
    "xx=[]\n",
    "for i in range(0,len(X)):\n",
    "    xx.append((X[i] - np.min(X)) / (np.max(X) - np.min(X)))\n",
    "X=xx\n",
    "\n",
    "# \"It is highly recommended to use another dimensionality reduction method (e.g. PCA for dense data or TruncatedSVD for sparse data) to reduce the number of dimensions to a reasonable amount\"\n",
    "svd = TruncatedSVD(n_components=50, n_iter=100, random_state=42)\n",
    "X_svd = svd.fit_transform(X)  \n",
    "\n",
    "tsne = manifold.TSNE(random_state=0,perplexity=50,n_iter=1500)\n",
    "X_tsne = tsne.fit_transform(X_svd)"
   ]
  },
  {
   "cell_type": "code",
   "execution_count": 30,
   "metadata": {},
   "outputs": [
    {
     "name": "stderr",
     "output_type": "stream",
     "text": [
      "C:\\Users\\kush494\\AppData\\Local\\Continuum\\anaconda3\\lib\\site-packages\\matplotlib\\cbook\\deprecation.py:106: MatplotlibDeprecationWarning: Adding an axes using the same arguments as a previous axes currently reuses the earlier instance.  In a future version, a new instance will always be created and returned.  Meanwhile, this warning can be suppressed, and the future behavior ensured, by passing a unique label to each axes instance.\n",
      "  warnings.warn(message, mplDeprecation, stacklevel=1)\n"
     ]
    },
    {
     "data": {
      "image/png": "[encoded data removed]",
      "text/plain": [
       "<matplotlib.figure.Figure at 0x1c162c18>"
      ]
     },
     "metadata": {},
     "output_type": "display_data"
    }
   ],
   "source": [
    "### Plot the data\n",
    "fig = plt.figure(1, figsize=(8,5))\n",
    "ax = fig.add_subplot(111)\n",
    "\n",
    "col=0\n",
    "for column, stripped_col in zip(original_healthy_diseased_col_names, stripped_col_names):\n",
    "    fill = 'none' if column.startswith('Diseased') else hd_color_dict[stripped_col]\n",
    "    ax.scatter(X_tsne[col, 0], X_tsne[col, 1], edgecolors=hd_color_dict[stripped_col], facecolors=fill)\n",
    "    col+=1\n",
    "    \n",
    "### Make Legend\n",
    "new_handles = []\n",
    "\n",
    "for tissue in healthy_diseased_tissues:\n",
    "    col = healthy_diseased_tissues_to_columns[tissue][0]\n",
    "    color = hd_color_dict[col]\n",
    "    patch = mpatches.Patch(color=color, label=tissue.replace(\"_\", \" \"))\n",
    "    line = Line2D(range(1), range(1), color=\"white\", mec=color, marker='o', markerfacecolor=color,\n",
    "                  label=tissue)\n",
    "    new_handles.append(patch)\n",
    "\n",
    "### Append legend entries for open/closed circles (diseased/healthy)\n",
    "blank_line = Line2D(range(1), range(1), color=\"white\", marker='o', markerfacecolor=\"white\")\n",
    "open_circle = Line2D(range(1), range(1), color=\"white\", marker='o', markerfacecolor=\"black\",\n",
    "                     mec='black', label='Closed Circles: Healthy')\n",
    "closed_circle = Line2D(range(1), range(1), color=\"white\", marker='o', markerfacecolor=\"white\",\n",
    "                       mec='black', label='Open Circles: Diseased')\n",
    "\n",
    "new_handles.append(blank_line)\n",
    "new_handles.append(open_circle)\n",
    "new_handles.append(closed_circle)\n",
    "    \n",
    "lgd = ax.legend(handles=new_handles, loc=2, bbox_to_anchor=(1, 1), ncol=1)    \n",
    "\n",
    "output_path = healthy_diseased_dir + 'Healthy_Diseased_tSNE.pdf'\n",
    "fig.savefig(output_path, bbox_inches=\"tight\", bbox_extra_artists=(lgd,), dpi=DPI)\n",
    "\n",
    "plt.show()"
   ]
  },
  {
   "cell_type": "markdown",
   "metadata": {},
   "source": [
    "## Cell Line Data "
   ]
  },
  {
   "cell_type": "markdown",
   "metadata": {},
   "source": [
    "### Map each column to a corresponding label"
   ]
  },
  {
   "cell_type": "code",
   "execution_count": null,
   "metadata": {
    "collapsed": true
   },
   "outputs": [],
   "source": [
    "tt_cell_line_tissues = ['Blood_Plasma', 'Blood_Serum', 'CSF', 'Liver', 'Monocyte', 'Ovary', 'Pancreas', 'Substantia_Nigra', 'Temporal_Lobe', 'Cell_Line']\n",
    "\n",
    "tt_cell_line_tissues_to_columns = cu.map_tissues_to_columns(tt_cell_line_df, tt_cell_line_tissues)"
   ]
  },
  {
   "cell_type": "code",
   "execution_count": null,
   "metadata": {
    "collapsed": true
   },
   "outputs": [],
   "source": [
    "tt_cell_line_column_names = tt_cell_line_df.columns.values.tolist()\n",
    "tt_cell_line_labels = cu.get_labels(tt_cell_line_column_names, tt_cell_line_tissues_to_columns)"
   ]
  },
  {
   "cell_type": "markdown",
   "metadata": {},
   "source": [
    "### Map columns to colors, and prepare PCA data frames"
   ]
  },
  {
   "cell_type": "code",
   "execution_count": null,
   "metadata": {
    "collapsed": true
   },
   "outputs": [],
   "source": [
    "cell_line_dir = r'D:\\Images\\Cell_Line\\\\'\n",
    "\n",
    "tt_cell_line_column_to_color = map_colors(tt_cell_line_tissues, \n",
    "                                          tt_cell_line_tissues_to_columns, \n",
    "                                          'Set3')"
   ]
  },
  {
   "cell_type": "code",
   "execution_count": null,
   "metadata": {
    "collapsed": true
   },
   "outputs": [],
   "source": [
    "tt_cell_line_T = tt_cell_line_df.T  #Transpose data frame\n",
    "\n",
    "tt_cell_line_pca = PCA() # create a PCA object\n",
    "tt_cell_line_pca.fit(tt_cell_line_T) # do the math\n",
    "tt_cell_line_pca_data = tt_cell_line_pca.transform(tt_cell_line_T) # get PCA coordinates for dataframe\n",
    "\n",
    "tt_cell_line_per_var = np.round(tt_cell_line_pca.explained_variance_ratio_* 100, decimals = 1)\n",
    "tt_cell_line_pca_labels = ['PC' + str(x) for x in range(1, len(tt_cell_line_per_var)+1)] "
   ]
  },
  {
   "cell_type": "markdown",
   "metadata": {},
   "source": [
    "### PCA of all train and test tissues with liver cell line samples (Figure XX7)"
   ]
  },
  {
   "cell_type": "code",
   "execution_count": 38,
   "metadata": {
    "collapsed": true
   },
   "outputs": [],
   "source": [
    "def draw_2d_pca(column_names, pca_data, base_dir, \n",
    "                color_dict, per_var, labels, \n",
    "                tissues, tissues_to_columns):\n",
    "    \n",
    "    pca_df = pd.DataFrame(pca_data, index = column_names, columns = labels)\n",
    "\n",
    "    fig = plt.figure(1)\n",
    "    ax = fig.add_subplot(111)\n",
    "\n",
    "    plt.xlabel('PC1 - {0}%'.format(per_var[0]))\n",
    "    plt.ylabel('PC2 - {0}%'.format(per_var[1]))\n",
    " \n",
    "    for column in column_names:\n",
    "        ax.scatter(pca_df.PC1.loc[column], pca_df.PC2.loc[column], color=color_dict[column])\n",
    "        \n",
    "    new_handles = []\n",
    "    for tissue in tissues:\n",
    "        col = tissues_to_columns[tissue][0]\n",
    "        color = color_dict[col]\n",
    "        patch = mpatches.Patch(color=color, label=tissue.replace(\"_\", \" \"))\n",
    "        new_handles.append(patch)\n",
    "    \n",
    "    output_path = base_dir + 'PCA.pdf'\n",
    "    lgd = ax.legend(handles=new_handles, loc=2, bbox_to_anchor=(1, 1), ncol=1)\n",
    "    fig.savefig(output_path, bbox_inches=\"tight\", bbox_extra_artists=(lgd,), dpi=DPI)\n",
    "    fig.clf()"
   ]
  },
  {
   "cell_type": "code",
   "execution_count": null,
   "metadata": {
    "collapsed": true
   },
   "outputs": [],
   "source": [
    "draw_2d_pca(tt_cell_line_column_names, tt_cell_line_pca_data, cell_line_dir, \n",
    "            tt_cell_line_column_to_color, tt_cell_line_per_var, tt_cell_line_pca_labels, \n",
    "            tt_cell_line_tissues, tt_cell_line_tissues_to_columns)"
   ]
  }
 ],
 "metadata": {
  "kernelspec": {
   "display_name": "Python 3",
   "language": "python",
   "name": "python3"
  },
  "language_info": {
   "codemirror_mode": {
    "name": "ipython",
    "version": 3
   },
   "file_extension": ".py",
   "mimetype": "text/x-python",
   "name": "python",
   "nbconvert_exporter": "python",
   "pygments_lexer": "ipython3",
   "version": "3.6.3"
  },
  "toc": {
   "nav_menu": {},
   "number_sections": true,
   "sideBar": true,
   "skip_h1_title": true,
   "toc_cell": false,
   "toc_position": {},
   "toc_section_display": "block",
   "toc_window_display": false
  }
 },
 "nbformat": 4,
 "nbformat_minor": 2
}
