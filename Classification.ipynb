{
 "cells": [
  {
   "cell_type": "markdown",
   "metadata": {},
   "source": [
    "# Using unlabelled, unfractionated datasets obtained from QExact and VOrbi instruments\n",
    "* Datasets were searched against H_sapiens_Uniprot_SPROT_2017-04-12, Tryp_Pig_Bov sequence files using MSGFPlus\n",
    "* Combined results with MASIC results (q <= 0.01) to get quantitation data"
   ]
  },
  {
   "cell_type": "code",
   "execution_count": null,
   "metadata": {
    "collapsed": true
   },
   "outputs": [],
   "source": [
    "import Classification_Utils as cu\n",
    "import MaxQuant_Postprocessing_Functions as mq\n",
    "import numpy as np\n",
    "from os import listdir\n",
    "import pandas as pd\n",
    "from sklearn.decomposition import PCA\n",
    "from sklearn.externals import joblib\n",
    "from sklearn import preprocessing\n",
    "import time"
   ]
  },
  {
   "cell_type": "markdown",
   "metadata": {},
   "source": [
    "## Load and combine data from all tissues\n",
    "Directory contents: one tab separated text file per tissue, containing abundance values for all datasets. The first column name is Peptide, and the rest of the column names are the names of each dataset prefixed with the tissue (e.g. Blood_Plasma_[dataset name])"
   ]
  },
  {
   "cell_type": "code",
   "execution_count": null,
   "metadata": {},
   "outputs": [],
   "source": [
    "TRAIN_SET_DIR = 'F:\\High_Quality\\\\'\n",
    "\n",
    "files_dir = TRAIN_SET_DIR \n",
    "file_paths = listdir(files_dir) \n",
    "\n",
    "df = cu.combine_csvs(files_dir, file_paths)"
   ]
  },
  {
   "cell_type": "code",
   "execution_count": null,
   "metadata": {
    "scrolled": true
   },
   "outputs": [],
   "source": [
    "df.dropna(axis='index', how='all', inplace=True) # drop any rows where all values are missing\n",
    "df = df.drop(['\\n'])\n",
    "\n",
    "original_df = df.copy()\n",
    "\n",
    "print(df.shape)"
   ]
  },
  {
   "cell_type": "markdown",
   "metadata": {},
   "source": [
    "## Clean data\n",
    "* Log2 transform\n",
    "* Impute missing values\n",
    "* Mean/Median normalize"
   ]
  },
  {
   "cell_type": "code",
   "execution_count": null,
   "metadata": {},
   "outputs": [],
   "source": [
    "mq.log2_normalize(df)\n",
    "\n",
    "df_min = df.min().min()\n",
    "impute_val = df_min/2\n",
    "df = df.fillna(impute_val)\n",
    "\n",
    "mq.median_normalize(df)"
   ]
  },
  {
   "cell_type": "markdown",
   "metadata": {},
   "source": [
    "## Map each column to a corresponding label"
   ]
  },
  {
   "cell_type": "code",
   "execution_count": null,
   "metadata": {
    "collapsed": true
   },
   "outputs": [],
   "source": [
    "tissues = ['Blood_Plasma', 'Blood_Serum', 'CSF', 'Liver', 'Monocyte', 'Ovary', 'Pancreas', 'Substantia_Nigra', 'Temporal_Lobe']\n",
    " \n",
    "tissues_to_columns = cu.map_tissues_to_columns(df, tissues)"
   ]
  },
  {
   "cell_type": "code",
   "execution_count": null,
   "metadata": {
    "collapsed": true
   },
   "outputs": [],
   "source": [
    "column_names = df.columns.values.tolist()\n",
    "labels = cu.get_labels(column_names, tissues_to_columns)"
   ]
  },
  {
   "cell_type": "code",
   "execution_count": null,
   "metadata": {
    "scrolled": false
   },
   "outputs": [],
   "source": [
    "df.head()"
   ]
  },
  {
   "cell_type": "markdown",
   "metadata": {},
   "source": [
    "### Optional step to transform data"
   ]
  },
  {
   "cell_type": "code",
   "execution_count": null,
   "metadata": {},
   "outputs": [],
   "source": [
    "percentile_to_keep = 100\n",
    "df = cu.keep_percentile_features(df, labels, percentile_to_keep)\n",
    "features_to_keep = df.index.values.tolist()\n",
    "\n",
    "print(df.shape)"
   ]
  },
  {
   "cell_type": "markdown",
   "metadata": {},
   "source": [
    "## Train various classifiers, using cross-validation to produce an accuracy score"
   ]
  },
  {
   "cell_type": "code",
   "execution_count": null,
   "metadata": {
    "collapsed": true
   },
   "outputs": [],
   "source": [
    "NUM_SPLITS = 100 # number of train/test splits in cross validation\n",
    "transformed_df = df.T"
   ]
  },
  {
   "cell_type": "markdown",
   "metadata": {},
   "source": [
    "### Decision Tree"
   ]
  },
  {
   "cell_type": "code",
   "execution_count": null,
   "metadata": {
    "scrolled": true
   },
   "outputs": [],
   "source": [
    "dt = cu.decisiontree_model_crossval(transformed_df, labels, NUM_SPLITS)"
   ]
  },
  {
   "cell_type": "markdown",
   "metadata": {},
   "source": [
    "### KNN"
   ]
  },
  {
   "cell_type": "code",
   "execution_count": null,
   "metadata": {},
   "outputs": [],
   "source": [
    "knn = cu.knn_model_crossval(transformed_df, labels, NUM_SPLITS)"
   ]
  },
  {
   "cell_type": "markdown",
   "metadata": {},
   "source": [
    "### Logistic Regression"
   ]
  },
  {
   "cell_type": "code",
   "execution_count": null,
   "metadata": {
    "collapsed": true,
    "scrolled": true
   },
   "outputs": [],
   "source": [
    "lr = cu.logistic_regression_model_crossval(transformed_df, labels, NUM_SPLITS)"
   ]
  },
  {
   "cell_type": "markdown",
   "metadata": {},
   "source": [
    "### Naive Bayes\n",
    "* Gaussian\n",
    "* Multinomial"
   ]
  },
  {
   "cell_type": "code",
   "execution_count": null,
   "metadata": {
    "collapsed": true,
    "scrolled": true
   },
   "outputs": [],
   "source": [
    "gnb = cu.bayes_gaussian_model_crossval(transformed_df, labels, NUM_SPLITS)"
   ]
  },
  {
   "cell_type": "code",
   "execution_count": null,
   "metadata": {
    "collapsed": true,
    "scrolled": false
   },
   "outputs": [],
   "source": [
    "mnb = cu.bayes_multinomial_model_crossval(transformed_df, labels, NUM_SPLITS)"
   ]
  },
  {
   "cell_type": "markdown",
   "metadata": {},
   "source": [
    "### SVC variations"
   ]
  },
  {
   "cell_type": "code",
   "execution_count": null,
   "metadata": {
    "collapsed": true,
    "scrolled": true
   },
   "outputs": [],
   "source": [
    "svc_models = cu.SVC_models_crossval(transformed_df, labels, NUM_SPLITS)"
   ]
  },
  {
   "cell_type": "markdown",
   "metadata": {},
   "source": [
    "### Aggregations\n",
    "* Random Forest\n",
    "* Gradient Boosting"
   ]
  },
  {
   "cell_type": "code",
   "execution_count": null,
   "metadata": {},
   "outputs": [],
   "source": [
    "rf = cu.randomforest_model_crossval(transformed_df, labels, NUM_SPLITS)"
   ]
  },
  {
   "cell_type": "code",
   "execution_count": null,
   "metadata": {},
   "outputs": [],
   "source": [
    "gbc = cu.gradient_boosting_crossval(transformed_df, labels, NUM_SPLITS)"
   ]
  },
  {
   "cell_type": "markdown",
   "metadata": {},
   "source": [
    "## Tune parameters of best models with Grid Search"
   ]
  },
  {
   "cell_type": "code",
   "execution_count": null,
   "metadata": {
    "collapsed": true
   },
   "outputs": [],
   "source": [
    "GRID_SEARCH_FOLDS = 8\n",
    "N_JOBS = 4"
   ]
  },
  {
   "cell_type": "markdown",
   "metadata": {},
   "source": [
    "### Gradient Boosting grid search"
   ]
  },
  {
   "cell_type": "code",
   "execution_count": null,
   "metadata": {
    "collapsed": true
   },
   "outputs": [],
   "source": [
    "gbc_grid = cu.gbc_grid_search(GRID_SEARCH_FOLDS, N_JOBS)\n",
    "\n",
    "gbc_grid.fit(transformed_df, labels)\n",
    "\n",
    "print('Best Gradient Boosting parameters:\\n', gbc_grid.best_params_)\n",
    "print('\\nBest Cross-Validation score:\\n', gbc_grid.best_score_)"
   ]
  },
  {
   "cell_type": "code",
   "execution_count": null,
   "metadata": {
    "collapsed": true
   },
   "outputs": [],
   "source": [
    "finalized_model_folder = r'Trained_Models\\\\'\n",
    "model_path = finalized_model_folder + 'gbc_grid.sav'\n",
    "joblib.dump(gbc_grid, open(model_path, 'wb'))"
   ]
  },
  {
   "cell_type": "markdown",
   "metadata": {},
   "source": [
    "###  Logistic Regression grid search"
   ]
  },
  {
   "cell_type": "code",
   "execution_count": null,
   "metadata": {
    "scrolled": true
   },
   "outputs": [],
   "source": [
    "lr_grid = cu.lr_grid_search(GRID_SEARCH_FOLDS, N_JOBS)\n",
    "\n",
    "lr_grid.fit(transformed_df, labels)\n",
    "\n",
    "print('Best Logistic Regression parameters:\\n', lr_grid.best_params_)\n",
    "print('\\nBest Cross-Validation score:\\n', lr_grid.best_score_)"
   ]
  },
  {
   "cell_type": "code",
   "execution_count": null,
   "metadata": {
    "collapsed": true
   },
   "outputs": [],
   "source": [
    "finalized_model_folder = r'Trained_Models\\\\'\n",
    "model_path = finalized_model_folder + 'lr_grid.sav'\n",
    "joblib.dump(lr_grid, open(model_path, 'wb'))"
   ]
  },
  {
   "cell_type": "markdown",
   "metadata": {},
   "source": [
    "### Random Forest grid search"
   ]
  },
  {
   "cell_type": "code",
   "execution_count": null,
   "metadata": {},
   "outputs": [],
   "source": [
    "rf_grid = cu.rf_grid_search(GRID_SEARCH_FOLDS, N_JOBS)\n",
    "\n",
    "rf_grid.fit(transformed_df, labels)\n",
    "\n",
    "print('Best Random Forest parameters:\\n', rf_grid.best_params_)\n",
    "print('\\nBest Cross-Validation score:\\n', rf_grid.best_score_)"
   ]
  },
  {
   "cell_type": "code",
   "execution_count": null,
   "metadata": {
    "collapsed": true
   },
   "outputs": [],
   "source": [
    "finalized_model_folder = r'Trained_Models\\\\'\n",
    "model_path = finalized_model_folder + 'rf_grid.sav'\n",
    "joblib.dump(rf_grid, open(model_path, 'wb'))"
   ]
  },
  {
   "cell_type": "markdown",
   "metadata": {},
   "source": [
    "### SVC grid search"
   ]
  },
  {
   "cell_type": "code",
   "execution_count": null,
   "metadata": {
    "collapsed": true
   },
   "outputs": [],
   "source": [
    "svc_grid = cu.svc_grid_search(GRID_SEARCH_FOLDS, N_JOBS)\n",
    "\n",
    "svc_grid.fit(transformed_df, labels)\n",
    "\n",
    "print('Best SVC parameters:\\n', svc_grid.best_params_)\n",
    "print('\\nBest Cross-Validation score:\\n', svc_grid.best_score_)"
   ]
  },
  {
   "cell_type": "code",
   "execution_count": null,
   "metadata": {
    "collapsed": true
   },
   "outputs": [],
   "source": [
    "finalized_model_folder = r'Trained_Models\\\\'\n",
    "model_path = finalized_model_folder + 'svc_grid.sav'\n",
    "joblib.dump(svc_grid, open(model_path, 'wb'))"
   ]
  },
  {
   "cell_type": "markdown",
   "metadata": {},
   "source": [
    "### KNN grid search"
   ]
  },
  {
   "cell_type": "code",
   "execution_count": null,
   "metadata": {
    "collapsed": true
   },
   "outputs": [],
   "source": [
    "knn_grid = cu.knn_grid_search(GRID_SEARCH_FOLDS, N_JOBS)\n",
    "\n",
    "knn_grid.fit(transformed_df, labels)\n",
    "\n",
    "print('Best KNN parameters:\\n', knn_grid.best_params_)\n",
    "print('\\nBest Cross-Validation score:\\n', knn_grid.best_score_)"
   ]
  },
  {
   "cell_type": "code",
   "execution_count": null,
   "metadata": {
    "collapsed": true
   },
   "outputs": [],
   "source": [
    "finalized_model_folder = r'Trained_Models\\\\'\n",
    "model_path = finalized_model_folder + 'knn_grid.sav'\n",
    "joblib.dump(knn_grid, open(model_path, 'wb'))"
   ]
  },
  {
   "cell_type": "markdown",
   "metadata": {},
   "source": [
    "### Multinomial Naive Bayes grid search"
   ]
  },
  {
   "cell_type": "code",
   "execution_count": null,
   "metadata": {
    "collapsed": true
   },
   "outputs": [],
   "source": [
    "mnb_grid = cu.mnb_grid_search(GRID_SEARCH_FOLDS, N_JOBS)\n",
    "\n",
    "mnb_grid.fit(transformed_df, labels)\n",
    "\n",
    "print('Best Multinomial Naive Bayes parameters:\\n', mnb_grid.best_params_)\n",
    "print('\\nBest Cross-Validation score:\\n', mnb_grid.best_score_)"
   ]
  },
  {
   "cell_type": "code",
   "execution_count": null,
   "metadata": {
    "collapsed": true
   },
   "outputs": [],
   "source": [
    "finalized_model_folder = r'Trained_Models\\\\'\n",
    "model_path = finalized_model_folder + 'mnb_grid.sav'\n",
    "joblib.dump(mnb_grid, open(model_path, 'wb'))"
   ]
  },
  {
   "cell_type": "markdown",
   "metadata": {},
   "source": [
    "## Classify Training Set"
   ]
  },
  {
   "cell_type": "markdown",
   "metadata": {},
   "source": [
    "### Load new data (test set)"
   ]
  },
  {
   "cell_type": "code",
   "execution_count": null,
   "metadata": {
    "collapsed": true
   },
   "outputs": [],
   "source": [
    "TEST_SET_DIR = 'F:\\Test_Set\\\\'\n",
    "test_paths = listdir(TEST_SET_DIR) \n",
    "\n",
    "test_data = cu.combine_csvs(TEST_SET_DIR, test_paths)"
   ]
  },
  {
   "cell_type": "code",
   "execution_count": null,
   "metadata": {
    "scrolled": true
   },
   "outputs": [],
   "source": [
    "# Map test data columns to tissues\n",
    "test_tissues_to_columns = cu.map_tissues_to_columns(test_data, tissues)\n",
    "test_column_names = test_data.columns.values.tolist()\n",
    "test_labels = cu.get_labels(test_column_names, test_tissues_to_columns)"
   ]
  },
  {
   "cell_type": "code",
   "execution_count": null,
   "metadata": {},
   "outputs": [],
   "source": [
    "test_data = cu.fit_new_data(original_df, test_data, features_to_keep)\n",
    "test_data.head()"
   ]
  },
  {
   "cell_type": "markdown",
   "metadata": {},
   "source": [
    "### Use models from notebook to predict new data"
   ]
  },
  {
   "cell_type": "code",
   "execution_count": null,
   "metadata": {
    "collapsed": true,
    "scrolled": true
   },
   "outputs": [],
   "source": [
    "lr_pred = lr.predict(test_data)\n",
    "lr_result = lr.score(test_data, test_labels)\n",
    "\n",
    "mnb_pred = mnb.predict(test_data)\n",
    "mnb_result = mnb.score(test_data, test_labels)\n",
    "\n",
    "rf_pred = rf.predict(test_data)\n",
    "rf_result = rf.score(test_data, test_labels)\n",
    "\n",
    "svc_pred = svc_models[0].predict(test_data)\n",
    "svc_result = svc_models[0].score(test_data, test_labels)"
   ]
  },
  {
   "cell_type": "code",
   "execution_count": null,
   "metadata": {},
   "outputs": [],
   "source": [
    "print(lr_result)\n",
    "print(mnb_result)\n",
    "print(rf_result)\n",
    "print(svc_result)"
   ]
  },
  {
   "cell_type": "code",
   "execution_count": null,
   "metadata": {
    "collapsed": true,
    "scrolled": true
   },
   "outputs": [],
   "source": [
    "gbc_pred = gbc.predict(test_data)\n",
    "gbc_result = gbc.score(test_data, test_labels)\n",
    "\n",
    "gnb_pred = gnb.predict(test_data)\n",
    "gnb_result = gnb.score(test_data, test_labels)\n",
    "\n",
    "knn_pred = knn.predict(test_data)\n",
    "knn_result = knn.score(test_data, test_labels)"
   ]
  },
  {
   "cell_type": "code",
   "execution_count": null,
   "metadata": {},
   "outputs": [],
   "source": [
    "print(gbc_result)\n",
    "print(gnb_result)\n",
    "print(knn_result)"
   ]
  },
  {
   "cell_type": "code",
   "execution_count": null,
   "metadata": {
    "collapsed": true,
    "scrolled": true
   },
   "outputs": [],
   "source": [
    "gbc_grid_pred = gbc_grid.predict(test_data)\n",
    "gbc_grid_result = gbc_grid.score(test_data, test_labels)\n",
    "\n",
    "rf_grid_pred = rf_grid.predict(test_data)\n",
    "rf_grid_result = rf_grid.score(test_data, test_labels)\n",
    "\n",
    "svc_grid_pred = svc_grid.predict(test_data)\n",
    "svc_grid_result = svc_grid.score(test_data, test_labels)"
   ]
  },
  {
   "cell_type": "code",
   "execution_count": null,
   "metadata": {},
   "outputs": [],
   "source": [
    "print(gbc_grid_result)\n",
    "print(rf_grid_result)\n",
    "print(svc_grid_result)"
   ]
  },
  {
   "cell_type": "markdown",
   "metadata": {},
   "source": [
    "##  Confusion matrices of model's predictions on new data"
   ]
  },
  {
   "cell_type": "code",
   "execution_count": null,
   "metadata": {
    "scrolled": false
   },
   "outputs": [],
   "source": [
    "cm_labels = list(set(lr_pred.tolist() + test_labels))\n",
    "\n",
    "cu.show_confusion_matrices(test_labels, lr_pred, cm_labels, 'Logistic Regression ')"
   ]
  }
 ],
 "metadata": {
  "kernelspec": {
   "display_name": "Python 3",
   "language": "python",
   "name": "python3"
  },
  "language_info": {
   "codemirror_mode": {
    "name": "ipython",
    "version": 3
   },
   "file_extension": ".py",
   "mimetype": "text/x-python",
   "name": "python",
   "nbconvert_exporter": "python",
   "pygments_lexer": "ipython3",
   "version": "3.6.3"
  },
  "toc": {
   "nav_menu": {},
   "number_sections": true,
   "sideBar": true,
   "skip_h1_title": true,
   "toc_cell": false,
   "toc_position": {},
   "toc_section_display": "block",
   "toc_window_display": false
  }
 },
 "nbformat": 4,
 "nbformat_minor": 2
}
