{
 "cells": [
  {
   "cell_type": "markdown",
   "metadata": {},
   "source": [
    "# Using unlabelled, unfractionated datasets obtained from QExact and VOrbi instruments\n",
    "* Datasets were searched against H_sapiens_Uniprot_SPROT_2017-04-12, Tryp_Pig_Bov sequence files using MSGFPlus\n",
    "* Combined results with MASIC results (q <= 0.01) to get quantitation data"
   ]
  },
  {
   "cell_type": "code",
   "execution_count": 1,
   "metadata": {
    "collapsed": true
   },
   "outputs": [],
   "source": [
    "import Classification_Utils as cu\n",
    "import MaxQuant_Postprocessing_Functions as mq\n",
    "import numpy as np\n",
    "from os import listdir\n",
    "import pandas as pd\n",
    "from sklearn.decomposition import PCA\n",
    "from sklearn.externals import joblib\n",
    "from sklearn.model_selection import train_test_split\n",
    "from sklearn import preprocessing\n",
    "import time"
   ]
  },
  {
   "cell_type": "markdown",
   "metadata": {},
   "source": [
    "## Load and combine data from all tissues\n",
    "Directory contents: one tab separated text file per tissue, containing abundance values for all datasets. The first column name is Peptide, and the rest of the column names are the names of each dataset prefixed with the tissue (e.g. Blood\\_Plasma\\_[dataset name])"
   ]
  },
  {
   "cell_type": "code",
   "execution_count": 2,
   "metadata": {
    "collapsed": true
   },
   "outputs": [],
   "source": [
    "files_dir = 'F:\\High_Quality_All\\\\'\n",
    "file_paths = listdir(files_dir) \n",
    "\n",
    "df = cu.combine_csvs(files_dir, file_paths)"
   ]
  },
  {
   "cell_type": "code",
   "execution_count": 3,
   "metadata": {
    "scrolled": true
   },
   "outputs": [
    {
     "name": "stdout",
     "output_type": "stream",
     "text": [
      "(154075, 253)\n"
     ]
    }
   ],
   "source": [
    "df.dropna(axis='index', how='all', inplace=True) # drop any rows where all values are missing\n",
    "df = df.drop(['\\n'])\n",
    "\n",
    "original_df = df.copy()\n",
    "\n",
    "print(df.shape)"
   ]
  },
  {
   "cell_type": "markdown",
   "metadata": {},
   "source": [
    "## Clean data\n",
    "* Log2 transform\n",
    "* Impute missing values\n",
    "* Mean/Median normalize"
   ]
  },
  {
   "cell_type": "code",
   "execution_count": 4,
   "metadata": {},
   "outputs": [
    {
     "name": "stderr",
     "output_type": "stream",
     "text": [
      "C:\\Users\\kush494\\Documents\\Proteomics_Data_Processing\\MaxQuant_Postprocessing_Functions.py:150: RuntimeWarning: divide by zero encountered in log2\n",
      "  df.iloc[:,:] = np.log2(df.iloc[:,:])\n"
     ]
    }
   ],
   "source": [
    "mq.log2_normalize(df)\n",
    "\n",
    "df_min = df.min().min()\n",
    "impute_val = df_min/2\n",
    "df = df.fillna(impute_val)\n",
    "\n",
    "mq.median_normalize(df)"
   ]
  },
  {
   "cell_type": "markdown",
   "metadata": {},
   "source": [
    "## Map each column to a corresponding label"
   ]
  },
  {
   "cell_type": "code",
   "execution_count": 6,
   "metadata": {},
   "outputs": [
    {
     "name": "stdout",
     "output_type": "stream",
     "text": [
      "(154075, 253)\n",
      "(55676, 253)\n"
     ]
    }
   ],
   "source": [
    "tissues = ['Blood_Plasma', 'Blood_Serum', 'CSF', 'Liver', 'Monocyte', 'Ovary', 'Pancreas', 'Substantia_Nigra', 'Temporal_Lobe']\n",
    " \n",
    "tissues_to_columns = cu.map_tissues_to_columns(df, tissues)\n",
    "\n",
    "print(df.shape)\n",
    "df = cu.filter_peptides_by_samples_and_tissues(df, min_samples=5, min_tissues=1, max_tissues=9, \n",
    "                                               tissues=tissues, imputed_val=impute_val)\n",
    "print(df.shape)"
   ]
  },
  {
   "cell_type": "code",
   "execution_count": 7,
   "metadata": {
    "collapsed": true
   },
   "outputs": [],
   "source": [
    "column_names = df.columns.values.tolist()\n",
    "labels = cu.get_labels(column_names, tissues_to_columns)"
   ]
  },
  {
   "cell_type": "code",
   "execution_count": 8,
   "metadata": {
    "scrolled": false
   },
   "outputs": [
    {
     "data": {
      "text/html": [
       "<div>\n",
       "<style>\n",
       "    .dataframe thead tr:only-child th {\n",
       "        text-align: right;\n",
       "    }\n",
       "\n",
       "    .dataframe thead th {\n",
       "        text-align: left;\n",
       "    }\n",
       "\n",
       "    .dataframe tbody tr th {\n",
       "        vertical-align: top;\n",
       "    }\n",
       "</style>\n",
       "<table border=\"1\" class=\"dataframe\">\n",
       "  <thead>\n",
       "    <tr style=\"text-align: right;\">\n",
       "      <th></th>\n",
       "      <th>Blood_Plasma_CPTAC_TrypDige_undepleted_normal_19Apr13_Methow_13-02-13</th>\n",
       "      <th>Blood_Plasma_Darpa_2_human_02_23Jan17_Arwem_16-10-25</th>\n",
       "      <th>Blood_Plasma_OMICS_EBV_HP_UW001_8Apr16_Arwen_16-01-03</th>\n",
       "      <th>Blood_Plasma_OMICS_EBV_HP_UW002_8Apr16_Arwen_16-01-03</th>\n",
       "      <th>Blood_Plasma_OMICS_EBV_HP_UW003_8Apr16_Arwen_16-01-03</th>\n",
       "      <th>Blood_Plasma_OMICS_EBV_HP_UW004_8Apr16_Arwen_16-01-03</th>\n",
       "      <th>Blood_Plasma_OMICS_EBV_HP_UW005_8Apr16_Arwen_16-01-03</th>\n",
       "      <th>Blood_Plasma_OMICS_EBV_HP_UW006_8Apr16_Arwen_16-01-03</th>\n",
       "      <th>Blood_Plasma_OMICS_EBV_HP_UW007_8Apr16_Arwen_16-01-03</th>\n",
       "      <th>Blood_Plasma_OMICS_EBV_HP_UW008_8Apr16_Arwen_16-01-03</th>\n",
       "      <th>...</th>\n",
       "      <th>Temporal_Lobe_Alz_FX1P159_Guan_1_26Jul10_Andromeda_10-06-28</th>\n",
       "      <th>Temporal_Lobe_Alz_FX1P159_Guan_2_26Jul10_Andromeda_10-06-29</th>\n",
       "      <th>Temporal_Lobe_Alz_FX1P159_Guan_3_26Jul10_Andromeda_10-06-28</th>\n",
       "      <th>Temporal_Lobe_Alz_FX1P159_Guan_Typx2_1_26Jul10_Andromeda_10-06-29</th>\n",
       "      <th>Temporal_Lobe_Alz_FX1P159_Guan_Typx2_2_26Jul10_Andromeda_10-06-28</th>\n",
       "      <th>Temporal_Lobe_Alz_FX1P159_Guan_Typx2_3_26Jul10_Andromeda_10-06-29</th>\n",
       "      <th>Temporal_Lobe_Alz_FX2P57_IMAC_153_9May11_Hawk_11-04-02p</th>\n",
       "      <th>Temporal_Lobe_Alz_FX2P57_IMAC_161_20Apr11_Hawk_10-12-03p</th>\n",
       "      <th>Temporal_Lobe_Alz_FX2P57_IMAC_187_26Apr11_Hawk_10-12-03p</th>\n",
       "      <th>Temporal_Lobe_Alz_FX2P57_IMAC_212_11May11_Hawk_11-04-02p</th>\n",
       "    </tr>\n",
       "    <tr>\n",
       "      <th>Peptide</th>\n",
       "      <th></th>\n",
       "      <th></th>\n",
       "      <th></th>\n",
       "      <th></th>\n",
       "      <th></th>\n",
       "      <th></th>\n",
       "      <th></th>\n",
       "      <th></th>\n",
       "      <th></th>\n",
       "      <th></th>\n",
       "      <th></th>\n",
       "      <th></th>\n",
       "      <th></th>\n",
       "      <th></th>\n",
       "      <th></th>\n",
       "      <th></th>\n",
       "      <th></th>\n",
       "      <th></th>\n",
       "      <th></th>\n",
       "      <th></th>\n",
       "      <th></th>\n",
       "    </tr>\n",
       "  </thead>\n",
       "  <tbody>\n",
       "    <tr>\n",
       "      <th>\\n-.DIQM*TQSPSTLSASVGDR.V</th>\n",
       "      <td>26.731951</td>\n",
       "      <td>22.187643</td>\n",
       "      <td>3.022208</td>\n",
       "      <td>29.328345</td>\n",
       "      <td>29.916272</td>\n",
       "      <td>3.022208</td>\n",
       "      <td>27.586706</td>\n",
       "      <td>30.458361</td>\n",
       "      <td>29.004130</td>\n",
       "      <td>31.023004</td>\n",
       "      <td>...</td>\n",
       "      <td>3.022208</td>\n",
       "      <td>3.022208</td>\n",
       "      <td>3.022208</td>\n",
       "      <td>3.022208</td>\n",
       "      <td>3.022208</td>\n",
       "      <td>3.022208</td>\n",
       "      <td>3.022208</td>\n",
       "      <td>3.022208</td>\n",
       "      <td>3.022208</td>\n",
       "      <td>3.022208</td>\n",
       "    </tr>\n",
       "    <tr>\n",
       "      <th>\\n-.DIQM*TQSPSTLSASVGDRVTITCR.A</th>\n",
       "      <td>3.022208</td>\n",
       "      <td>3.022208</td>\n",
       "      <td>3.022208</td>\n",
       "      <td>30.633308</td>\n",
       "      <td>30.815586</td>\n",
       "      <td>3.022208</td>\n",
       "      <td>29.483431</td>\n",
       "      <td>32.564995</td>\n",
       "      <td>30.319263</td>\n",
       "      <td>32.368436</td>\n",
       "      <td>...</td>\n",
       "      <td>3.022208</td>\n",
       "      <td>3.022208</td>\n",
       "      <td>3.022208</td>\n",
       "      <td>3.022208</td>\n",
       "      <td>3.022208</td>\n",
       "      <td>3.022208</td>\n",
       "      <td>3.022208</td>\n",
       "      <td>3.022208</td>\n",
       "      <td>3.022208</td>\n",
       "      <td>3.022208</td>\n",
       "    </tr>\n",
       "    <tr>\n",
       "      <th>\\n-.DIQMTQSPSTLSASVGDR.V</th>\n",
       "      <td>26.387537</td>\n",
       "      <td>28.015792</td>\n",
       "      <td>3.022208</td>\n",
       "      <td>3.022208</td>\n",
       "      <td>31.403752</td>\n",
       "      <td>3.022208</td>\n",
       "      <td>27.695976</td>\n",
       "      <td>29.779972</td>\n",
       "      <td>29.747784</td>\n",
       "      <td>30.255299</td>\n",
       "      <td>...</td>\n",
       "      <td>3.022208</td>\n",
       "      <td>3.022208</td>\n",
       "      <td>3.022208</td>\n",
       "      <td>3.022208</td>\n",
       "      <td>3.022208</td>\n",
       "      <td>3.022208</td>\n",
       "      <td>3.022208</td>\n",
       "      <td>3.022208</td>\n",
       "      <td>3.022208</td>\n",
       "      <td>3.022208</td>\n",
       "    </tr>\n",
       "    <tr>\n",
       "      <th>\\n-.DIQMTQSPSTLSASVGDRVTITCR.A</th>\n",
       "      <td>3.022208</td>\n",
       "      <td>3.022208</td>\n",
       "      <td>3.022208</td>\n",
       "      <td>3.022208</td>\n",
       "      <td>32.585511</td>\n",
       "      <td>3.022208</td>\n",
       "      <td>3.022208</td>\n",
       "      <td>30.845879</td>\n",
       "      <td>30.983525</td>\n",
       "      <td>27.526416</td>\n",
       "      <td>...</td>\n",
       "      <td>3.022208</td>\n",
       "      <td>3.022208</td>\n",
       "      <td>3.022208</td>\n",
       "      <td>3.022208</td>\n",
       "      <td>3.022208</td>\n",
       "      <td>3.022208</td>\n",
       "      <td>3.022208</td>\n",
       "      <td>3.022208</td>\n",
       "      <td>3.022208</td>\n",
       "      <td>3.022208</td>\n",
       "    </tr>\n",
       "    <tr>\n",
       "      <th>\\n-.EVQLVETGGGLIQPGGSLR.L</th>\n",
       "      <td>24.546220</td>\n",
       "      <td>3.022208</td>\n",
       "      <td>3.022208</td>\n",
       "      <td>3.022208</td>\n",
       "      <td>26.732727</td>\n",
       "      <td>3.022208</td>\n",
       "      <td>28.163126</td>\n",
       "      <td>23.836245</td>\n",
       "      <td>3.022208</td>\n",
       "      <td>28.436388</td>\n",
       "      <td>...</td>\n",
       "      <td>3.022208</td>\n",
       "      <td>3.022208</td>\n",
       "      <td>3.022208</td>\n",
       "      <td>3.022208</td>\n",
       "      <td>3.022208</td>\n",
       "      <td>3.022208</td>\n",
       "      <td>3.022208</td>\n",
       "      <td>3.022208</td>\n",
       "      <td>3.022208</td>\n",
       "      <td>3.022208</td>\n",
       "    </tr>\n",
       "  </tbody>\n",
       "</table>\n",
       "<p>5 rows × 253 columns</p>\n",
       "</div>"
      ],
      "text/plain": [
       "                                 Blood_Plasma_CPTAC_TrypDige_undepleted_normal_19Apr13_Methow_13-02-13  \\\n",
       "Peptide                                                                                                  \n",
       "\\n-.DIQM*TQSPSTLSASVGDR.V                                                26.731951                       \n",
       "\\n-.DIQM*TQSPSTLSASVGDRVTITCR.A                                           3.022208                       \n",
       "\\n-.DIQMTQSPSTLSASVGDR.V                                                 26.387537                       \n",
       "\\n-.DIQMTQSPSTLSASVGDRVTITCR.A                                            3.022208                       \n",
       "\\n-.EVQLVETGGGLIQPGGSLR.L                                                24.546220                       \n",
       "\n",
       "                                 Blood_Plasma_Darpa_2_human_02_23Jan17_Arwem_16-10-25  \\\n",
       "Peptide                                                                                 \n",
       "\\n-.DIQM*TQSPSTLSASVGDR.V                                                22.187643      \n",
       "\\n-.DIQM*TQSPSTLSASVGDRVTITCR.A                                           3.022208      \n",
       "\\n-.DIQMTQSPSTLSASVGDR.V                                                 28.015792      \n",
       "\\n-.DIQMTQSPSTLSASVGDRVTITCR.A                                            3.022208      \n",
       "\\n-.EVQLVETGGGLIQPGGSLR.L                                                 3.022208      \n",
       "\n",
       "                                 Blood_Plasma_OMICS_EBV_HP_UW001_8Apr16_Arwen_16-01-03  \\\n",
       "Peptide                                                                                  \n",
       "\\n-.DIQM*TQSPSTLSASVGDR.V                                                 3.022208       \n",
       "\\n-.DIQM*TQSPSTLSASVGDRVTITCR.A                                           3.022208       \n",
       "\\n-.DIQMTQSPSTLSASVGDR.V                                                  3.022208       \n",
       "\\n-.DIQMTQSPSTLSASVGDRVTITCR.A                                            3.022208       \n",
       "\\n-.EVQLVETGGGLIQPGGSLR.L                                                 3.022208       \n",
       "\n",
       "                                 Blood_Plasma_OMICS_EBV_HP_UW002_8Apr16_Arwen_16-01-03  \\\n",
       "Peptide                                                                                  \n",
       "\\n-.DIQM*TQSPSTLSASVGDR.V                                                29.328345       \n",
       "\\n-.DIQM*TQSPSTLSASVGDRVTITCR.A                                          30.633308       \n",
       "\\n-.DIQMTQSPSTLSASVGDR.V                                                  3.022208       \n",
       "\\n-.DIQMTQSPSTLSASVGDRVTITCR.A                                            3.022208       \n",
       "\\n-.EVQLVETGGGLIQPGGSLR.L                                                 3.022208       \n",
       "\n",
       "                                 Blood_Plasma_OMICS_EBV_HP_UW003_8Apr16_Arwen_16-01-03  \\\n",
       "Peptide                                                                                  \n",
       "\\n-.DIQM*TQSPSTLSASVGDR.V                                                29.916272       \n",
       "\\n-.DIQM*TQSPSTLSASVGDRVTITCR.A                                          30.815586       \n",
       "\\n-.DIQMTQSPSTLSASVGDR.V                                                 31.403752       \n",
       "\\n-.DIQMTQSPSTLSASVGDRVTITCR.A                                           32.585511       \n",
       "\\n-.EVQLVETGGGLIQPGGSLR.L                                                26.732727       \n",
       "\n",
       "                                 Blood_Plasma_OMICS_EBV_HP_UW004_8Apr16_Arwen_16-01-03  \\\n",
       "Peptide                                                                                  \n",
       "\\n-.DIQM*TQSPSTLSASVGDR.V                                                 3.022208       \n",
       "\\n-.DIQM*TQSPSTLSASVGDRVTITCR.A                                           3.022208       \n",
       "\\n-.DIQMTQSPSTLSASVGDR.V                                                  3.022208       \n",
       "\\n-.DIQMTQSPSTLSASVGDRVTITCR.A                                            3.022208       \n",
       "\\n-.EVQLVETGGGLIQPGGSLR.L                                                 3.022208       \n",
       "\n",
       "                                 Blood_Plasma_OMICS_EBV_HP_UW005_8Apr16_Arwen_16-01-03  \\\n",
       "Peptide                                                                                  \n",
       "\\n-.DIQM*TQSPSTLSASVGDR.V                                                27.586706       \n",
       "\\n-.DIQM*TQSPSTLSASVGDRVTITCR.A                                          29.483431       \n",
       "\\n-.DIQMTQSPSTLSASVGDR.V                                                 27.695976       \n",
       "\\n-.DIQMTQSPSTLSASVGDRVTITCR.A                                            3.022208       \n",
       "\\n-.EVQLVETGGGLIQPGGSLR.L                                                28.163126       \n",
       "\n",
       "                                 Blood_Plasma_OMICS_EBV_HP_UW006_8Apr16_Arwen_16-01-03  \\\n",
       "Peptide                                                                                  \n",
       "\\n-.DIQM*TQSPSTLSASVGDR.V                                                30.458361       \n",
       "\\n-.DIQM*TQSPSTLSASVGDRVTITCR.A                                          32.564995       \n",
       "\\n-.DIQMTQSPSTLSASVGDR.V                                                 29.779972       \n",
       "\\n-.DIQMTQSPSTLSASVGDRVTITCR.A                                           30.845879       \n",
       "\\n-.EVQLVETGGGLIQPGGSLR.L                                                23.836245       \n",
       "\n",
       "                                 Blood_Plasma_OMICS_EBV_HP_UW007_8Apr16_Arwen_16-01-03  \\\n",
       "Peptide                                                                                  \n",
       "\\n-.DIQM*TQSPSTLSASVGDR.V                                                29.004130       \n",
       "\\n-.DIQM*TQSPSTLSASVGDRVTITCR.A                                          30.319263       \n",
       "\\n-.DIQMTQSPSTLSASVGDR.V                                                 29.747784       \n",
       "\\n-.DIQMTQSPSTLSASVGDRVTITCR.A                                           30.983525       \n",
       "\\n-.EVQLVETGGGLIQPGGSLR.L                                                 3.022208       \n",
       "\n",
       "                                 Blood_Plasma_OMICS_EBV_HP_UW008_8Apr16_Arwen_16-01-03  \\\n",
       "Peptide                                                                                  \n",
       "\\n-.DIQM*TQSPSTLSASVGDR.V                                                31.023004       \n",
       "\\n-.DIQM*TQSPSTLSASVGDRVTITCR.A                                          32.368436       \n",
       "\\n-.DIQMTQSPSTLSASVGDR.V                                                 30.255299       \n",
       "\\n-.DIQMTQSPSTLSASVGDRVTITCR.A                                           27.526416       \n",
       "\\n-.EVQLVETGGGLIQPGGSLR.L                                                28.436388       \n",
       "\n",
       "                                                           ...                             \\\n",
       "Peptide                                                    ...                              \n",
       "\\n-.DIQM*TQSPSTLSASVGDR.V                                  ...                              \n",
       "\\n-.DIQM*TQSPSTLSASVGDRVTITCR.A                            ...                              \n",
       "\\n-.DIQMTQSPSTLSASVGDR.V                                   ...                              \n",
       "\\n-.DIQMTQSPSTLSASVGDRVTITCR.A                             ...                              \n",
       "\\n-.EVQLVETGGGLIQPGGSLR.L                                  ...                              \n",
       "\n",
       "                                 Temporal_Lobe_Alz_FX1P159_Guan_1_26Jul10_Andromeda_10-06-28  \\\n",
       "Peptide                                                                                        \n",
       "\\n-.DIQM*TQSPSTLSASVGDR.V                                                 3.022208             \n",
       "\\n-.DIQM*TQSPSTLSASVGDRVTITCR.A                                           3.022208             \n",
       "\\n-.DIQMTQSPSTLSASVGDR.V                                                  3.022208             \n",
       "\\n-.DIQMTQSPSTLSASVGDRVTITCR.A                                            3.022208             \n",
       "\\n-.EVQLVETGGGLIQPGGSLR.L                                                 3.022208             \n",
       "\n",
       "                                 Temporal_Lobe_Alz_FX1P159_Guan_2_26Jul10_Andromeda_10-06-29  \\\n",
       "Peptide                                                                                        \n",
       "\\n-.DIQM*TQSPSTLSASVGDR.V                                                 3.022208             \n",
       "\\n-.DIQM*TQSPSTLSASVGDRVTITCR.A                                           3.022208             \n",
       "\\n-.DIQMTQSPSTLSASVGDR.V                                                  3.022208             \n",
       "\\n-.DIQMTQSPSTLSASVGDRVTITCR.A                                            3.022208             \n",
       "\\n-.EVQLVETGGGLIQPGGSLR.L                                                 3.022208             \n",
       "\n",
       "                                 Temporal_Lobe_Alz_FX1P159_Guan_3_26Jul10_Andromeda_10-06-28  \\\n",
       "Peptide                                                                                        \n",
       "\\n-.DIQM*TQSPSTLSASVGDR.V                                                 3.022208             \n",
       "\\n-.DIQM*TQSPSTLSASVGDRVTITCR.A                                           3.022208             \n",
       "\\n-.DIQMTQSPSTLSASVGDR.V                                                  3.022208             \n",
       "\\n-.DIQMTQSPSTLSASVGDRVTITCR.A                                            3.022208             \n",
       "\\n-.EVQLVETGGGLIQPGGSLR.L                                                 3.022208             \n",
       "\n",
       "                                 Temporal_Lobe_Alz_FX1P159_Guan_Typx2_1_26Jul10_Andromeda_10-06-29  \\\n",
       "Peptide                                                                                              \n",
       "\\n-.DIQM*TQSPSTLSASVGDR.V                                                 3.022208                   \n",
       "\\n-.DIQM*TQSPSTLSASVGDRVTITCR.A                                           3.022208                   \n",
       "\\n-.DIQMTQSPSTLSASVGDR.V                                                  3.022208                   \n",
       "\\n-.DIQMTQSPSTLSASVGDRVTITCR.A                                            3.022208                   \n",
       "\\n-.EVQLVETGGGLIQPGGSLR.L                                                 3.022208                   \n",
       "\n",
       "                                 Temporal_Lobe_Alz_FX1P159_Guan_Typx2_2_26Jul10_Andromeda_10-06-28  \\\n",
       "Peptide                                                                                              \n",
       "\\n-.DIQM*TQSPSTLSASVGDR.V                                                 3.022208                   \n",
       "\\n-.DIQM*TQSPSTLSASVGDRVTITCR.A                                           3.022208                   \n",
       "\\n-.DIQMTQSPSTLSASVGDR.V                                                  3.022208                   \n",
       "\\n-.DIQMTQSPSTLSASVGDRVTITCR.A                                            3.022208                   \n",
       "\\n-.EVQLVETGGGLIQPGGSLR.L                                                 3.022208                   \n",
       "\n",
       "                                 Temporal_Lobe_Alz_FX1P159_Guan_Typx2_3_26Jul10_Andromeda_10-06-29  \\\n",
       "Peptide                                                                                              \n",
       "\\n-.DIQM*TQSPSTLSASVGDR.V                                                 3.022208                   \n",
       "\\n-.DIQM*TQSPSTLSASVGDRVTITCR.A                                           3.022208                   \n",
       "\\n-.DIQMTQSPSTLSASVGDR.V                                                  3.022208                   \n",
       "\\n-.DIQMTQSPSTLSASVGDRVTITCR.A                                            3.022208                   \n",
       "\\n-.EVQLVETGGGLIQPGGSLR.L                                                 3.022208                   \n",
       "\n",
       "                                 Temporal_Lobe_Alz_FX2P57_IMAC_153_9May11_Hawk_11-04-02p  \\\n",
       "Peptide                                                                                    \n",
       "\\n-.DIQM*TQSPSTLSASVGDR.V                                                 3.022208         \n",
       "\\n-.DIQM*TQSPSTLSASVGDRVTITCR.A                                           3.022208         \n",
       "\\n-.DIQMTQSPSTLSASVGDR.V                                                  3.022208         \n",
       "\\n-.DIQMTQSPSTLSASVGDRVTITCR.A                                            3.022208         \n",
       "\\n-.EVQLVETGGGLIQPGGSLR.L                                                 3.022208         \n",
       "\n",
       "                                 Temporal_Lobe_Alz_FX2P57_IMAC_161_20Apr11_Hawk_10-12-03p  \\\n",
       "Peptide                                                                                     \n",
       "\\n-.DIQM*TQSPSTLSASVGDR.V                                                 3.022208          \n",
       "\\n-.DIQM*TQSPSTLSASVGDRVTITCR.A                                           3.022208          \n",
       "\\n-.DIQMTQSPSTLSASVGDR.V                                                  3.022208          \n",
       "\\n-.DIQMTQSPSTLSASVGDRVTITCR.A                                            3.022208          \n",
       "\\n-.EVQLVETGGGLIQPGGSLR.L                                                 3.022208          \n",
       "\n",
       "                                 Temporal_Lobe_Alz_FX2P57_IMAC_187_26Apr11_Hawk_10-12-03p  \\\n",
       "Peptide                                                                                     \n",
       "\\n-.DIQM*TQSPSTLSASVGDR.V                                                 3.022208          \n",
       "\\n-.DIQM*TQSPSTLSASVGDRVTITCR.A                                           3.022208          \n",
       "\\n-.DIQMTQSPSTLSASVGDR.V                                                  3.022208          \n",
       "\\n-.DIQMTQSPSTLSASVGDRVTITCR.A                                            3.022208          \n",
       "\\n-.EVQLVETGGGLIQPGGSLR.L                                                 3.022208          \n",
       "\n",
       "                                 Temporal_Lobe_Alz_FX2P57_IMAC_212_11May11_Hawk_11-04-02p  \n",
       "Peptide                                                                                    \n",
       "\\n-.DIQM*TQSPSTLSASVGDR.V                                                 3.022208         \n",
       "\\n-.DIQM*TQSPSTLSASVGDRVTITCR.A                                           3.022208         \n",
       "\\n-.DIQMTQSPSTLSASVGDR.V                                                  3.022208         \n",
       "\\n-.DIQMTQSPSTLSASVGDRVTITCR.A                                            3.022208         \n",
       "\\n-.EVQLVETGGGLIQPGGSLR.L                                                 3.022208         \n",
       "\n",
       "[5 rows x 253 columns]"
      ]
     },
     "execution_count": 8,
     "metadata": {},
     "output_type": "execute_result"
    }
   ],
   "source": [
    "df.head()"
   ]
  },
  {
   "cell_type": "markdown",
   "metadata": {},
   "source": [
    "## Make train-test split"
   ]
  },
  {
   "cell_type": "code",
   "execution_count": 9,
   "metadata": {
    "collapsed": true
   },
   "outputs": [],
   "source": [
    "train_df, test_df, train_labels, test_labels = train_test_split(\n",
    "    df.T, labels, \n",
    "    test_size=0.30,    # 30% of the data held out in test set\n",
    "    random_state=0,    # Setting random_state ensures the same train/test split occurs each time this is run\n",
    "    stratify=labels)   # Maintain ratio of tissues represented in each set"
   ]
  },
  {
   "cell_type": "markdown",
   "metadata": {},
   "source": [
    "### Optional step to transform data"
   ]
  },
  {
   "cell_type": "markdown",
   "metadata": {},
   "source": [
    "percentile_to_keep = 100\n",
    "train_df = train_df.T\n",
    "train_df = cu.keep_percentile_features(train_df, train_labels, percentile_to_keep)\n",
    "features_to_keep = train_df.index.values.tolist()\n",
    "\n",
    "train_df = train_df.T\n",
    "print(train_df.shape)"
   ]
  },
  {
   "cell_type": "markdown",
   "metadata": {},
   "source": [
    "## Train various classifiers, using cross-validation to produce an accuracy score"
   ]
  },
  {
   "cell_type": "code",
   "execution_count": 10,
   "metadata": {
    "collapsed": true
   },
   "outputs": [],
   "source": [
    "NUM_SPLITS = 100 # number of train/test splits in cross validation"
   ]
  },
  {
   "cell_type": "markdown",
   "metadata": {},
   "source": [
    "### KNN"
   ]
  },
  {
   "cell_type": "code",
   "execution_count": null,
   "metadata": {
    "scrolled": true
   },
   "outputs": [
    {
     "name": "stdout",
     "output_type": "stream",
     "text": [
      "accuracy: 0.89 (+/- 0.09)\n"
     ]
    }
   ],
   "source": [
    "knn = cu.knn_model_crossval(train_df, train_labels, NUM_SPLITS)"
   ]
  },
  {
   "cell_type": "markdown",
   "metadata": {},
   "source": [
    "### Logistic Regression"
   ]
  },
  {
   "cell_type": "code",
   "execution_count": null,
   "metadata": {
    "scrolled": true
   },
   "outputs": [],
   "source": [
    "lr = cu.logistic_regression_model_crossval(train_df, train_labels, NUM_SPLITS)"
   ]
  },
  {
   "cell_type": "markdown",
   "metadata": {},
   "source": [
    "### Naive Bayes\n",
    "* Gaussian\n",
    "* Multinomial"
   ]
  },
  {
   "cell_type": "code",
   "execution_count": null,
   "metadata": {
    "scrolled": true
   },
   "outputs": [],
   "source": [
    "gnb = cu.bayes_gaussian_model_crossval(train_df, train_labels, NUM_SPLITS)"
   ]
  },
  {
   "cell_type": "code",
   "execution_count": null,
   "metadata": {
    "scrolled": false
   },
   "outputs": [],
   "source": [
    "mnb = cu.bayes_multinomial_model_crossval(train_df, train_labels, NUM_SPLITS)"
   ]
  },
  {
   "cell_type": "markdown",
   "metadata": {},
   "source": [
    "### SVC variations"
   ]
  },
  {
   "cell_type": "code",
   "execution_count": null,
   "metadata": {
    "scrolled": true
   },
   "outputs": [],
   "source": [
    "svc_models = cu.SVC_models_crossval(train_df, train_labels, NUM_SPLITS)"
   ]
  },
  {
   "cell_type": "markdown",
   "metadata": {},
   "source": [
    "### Aggregations\n",
    "* Random Forest\n",
    "* Gradient Boosting"
   ]
  },
  {
   "cell_type": "code",
   "execution_count": null,
   "metadata": {
    "collapsed": true
   },
   "outputs": [],
   "source": [
    "rf = cu.randomforest_model_crossval(train_df, train_labels, NUM_SPLITS)"
   ]
  },
  {
   "cell_type": "code",
   "execution_count": null,
   "metadata": {},
   "outputs": [],
   "source": [
    "gbc = cu.gradient_boosting_crossval(train_df, train_labels, NUM_SPLITS)"
   ]
  },
  {
   "cell_type": "markdown",
   "metadata": {},
   "source": [
    "## Classify Training Set"
   ]
  },
  {
   "cell_type": "markdown",
   "metadata": {},
   "source": [
    "### Use models from notebook to predict new data"
   ]
  },
  {
   "cell_type": "code",
   "execution_count": null,
   "metadata": {
    "collapsed": true,
    "scrolled": true
   },
   "outputs": [],
   "source": [
    "lr_pred = lr.predict(test_df)\n",
    "lr_result = lr.score(test_df, test_labels)\n",
    "\n",
    "mnb_pred = mnb.predict(test_df)\n",
    "mnb_result = mnb.score(test_df, test_labels)\n",
    "\n",
    "rf_pred = rf.predict(test_df)\n",
    "rf_result = rf.score(test_df, test_labels)\n",
    "\n",
    "svc_pred = svc_models[0].predict(test_df)\n",
    "svc_result = svc_models[0].score(test_df, test_labels)\n",
    "\n",
    "gbc_pred = gbc.predict(test_df)\n",
    "gbc_result = gbc.score(test_df, test_labels)\n",
    "\n",
    "gnb_pred = gnb.predict(test_df)\n",
    "gnb_result = gnb.score(test_df, test_labels)\n",
    "\n",
    "knn_pred = knn.predict(test_df)\n",
    "knn_result = knn.score(test_df, test_labels)"
   ]
  },
  {
   "cell_type": "code",
   "execution_count": null,
   "metadata": {},
   "outputs": [],
   "source": [
    "print(lr_result)\n",
    "print(mnb_result)\n",
    "print(rf_result)\n",
    "print(svc_result)\n",
    "\n",
    "print(gbc_result)\n",
    "print(gnb_result)\n",
    "print(knn_result)"
   ]
  },
  {
   "cell_type": "markdown",
   "metadata": {},
   "source": [
    "##  Confusion matrices of model's predictions on new data"
   ]
  },
  {
   "cell_type": "code",
   "execution_count": null,
   "metadata": {
    "scrolled": false
   },
   "outputs": [],
   "source": [
    "cm_labels = list(set(gnb_pred.tolist() + test_labels))\n",
    "\n",
    "cu.show_confusion_matrices(test_labels, gnb_pred, cm_labels)"
   ]
  }
 ],
 "metadata": {
  "kernelspec": {
   "display_name": "Python 3",
   "language": "python",
   "name": "python3"
  },
  "language_info": {
   "codemirror_mode": {
    "name": "ipython",
    "version": 3
   },
   "file_extension": ".py",
   "mimetype": "text/x-python",
   "name": "python",
   "nbconvert_exporter": "python",
   "pygments_lexer": "ipython3",
   "version": "3.6.3"
  },
  "toc": {
   "nav_menu": {},
   "number_sections": true,
   "sideBar": true,
   "skip_h1_title": true,
   "toc_cell": false,
   "toc_position": {},
   "toc_section_display": "block",
   "toc_window_display": false
  }
 },
 "nbformat": 4,
 "nbformat_minor": 2
}
